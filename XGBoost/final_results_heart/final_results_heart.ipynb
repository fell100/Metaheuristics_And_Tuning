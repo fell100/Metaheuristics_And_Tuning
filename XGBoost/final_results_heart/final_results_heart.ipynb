{
 "cells": [
  {
   "cell_type": "code",
   "execution_count": 1,
   "metadata": {},
   "outputs": [],
   "source": [
    "import pandas as pd"
   ]
  },
  {
   "cell_type": "code",
   "execution_count": 2,
   "metadata": {},
   "outputs": [],
   "source": [
    "df1 = pd.read_csv('colab_heart.csv')[['Algorithm', 'Accuracy', 'F1', 'AUC']]\n",
    "df2 = pd.read_csv('colab_heart_2.csv')[['Algorithm', 'Accuracy', 'F1', 'AUC']]\n",
    "df3 = pd.read_csv('lightGBM_heart_data.csv')[['Algorithm', 'Accuracy', 'F1', 'AUC']]"
   ]
  },
  {
   "cell_type": "code",
   "execution_count": 3,
   "metadata": {},
   "outputs": [],
   "source": [
    "GA_DF1 = df1.loc[df1['Algorithm'] == 'GA']\n",
    "GA_DF2 = df2.loc[df2['Algorithm'] == 'GA']\n",
    "GA_DF3 = df3.loc[df3['Algorithm'] == 'GA']\n",
    "OPTUNA_DF1 = df1.loc[df1['Algorithm'] == 'Optuna']\n",
    "OPTUNA_DF2 = df2.loc[df2['Algorithm'] == 'Optuna']\n",
    "OPTUNA_DF3 = df3.loc[df3['Algorithm'] == 'Optuna']\n",
    "PSO_DF3 = df3.loc[df3['Algorithm'] == 'PSO']"
   ]
  },
  {
   "cell_type": "code",
   "execution_count": 4,
   "metadata": {},
   "outputs": [],
   "source": [
    "final_ga_df = pd.concat([GA_DF1, GA_DF2, GA_DF3], ignore_index=True)[:30]\n",
    "final_optuna_df = pd.concat([OPTUNA_DF1, OPTUNA_DF2, OPTUNA_DF3], ignore_index=True)[:30]\n",
    "final_pso_df = PSO_DF3[:30]"
   ]
  },
  {
   "cell_type": "code",
   "execution_count": 5,
   "metadata": {},
   "outputs": [
    {
     "data": {
      "text/plain": [
       "(30, 30, 30)"
      ]
     },
     "execution_count": 5,
     "metadata": {},
     "output_type": "execute_result"
    }
   ],
   "source": [
    "len(final_ga_df), len(final_optuna_df), len(final_pso_df)"
   ]
  },
  {
   "cell_type": "code",
   "execution_count": 6,
   "metadata": {},
   "outputs": [],
   "source": [
    "final_ga_df.to_csv('FINAL_RESULT_GA_HEART.csv') \n",
    "final_optuna_df.to_csv('FINAL_RESULT_OPTUNA_HEART.csv') \n",
    "final_pso_df.to_csv('FINAL_RESULT_PSO_HEART.csv')"
   ]
  }
 ],
 "metadata": {
  "kernelspec": {
   "display_name": "Python 3",
   "language": "python",
   "name": "python3"
  },
  "language_info": {
   "codemirror_mode": {
    "name": "ipython",
    "version": 3
   },
   "file_extension": ".py",
   "mimetype": "text/x-python",
   "name": "python",
   "nbconvert_exporter": "python",
   "pygments_lexer": "ipython3",
   "version": "3.10.9"
  },
  "orig_nbformat": 4,
  "vscode": {
   "interpreter": {
    "hash": "cc2a200e1e6dab10c4dc3986f0e7a998296447c993c26561a1bd050a849d8214"
   }
  }
 },
 "nbformat": 4,
 "nbformat_minor": 2
}
