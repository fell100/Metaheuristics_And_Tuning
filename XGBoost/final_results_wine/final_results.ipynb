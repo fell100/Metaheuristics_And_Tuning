{
 "cells": [
  {
   "cell_type": "code",
   "execution_count": 2,
   "metadata": {},
   "outputs": [],
   "source": [
    "import pandas as pd"
   ]
  },
  {
   "cell_type": "code",
   "execution_count": 4,
   "metadata": {},
   "outputs": [],
   "source": [
    "df1 = pd.read_csv('lightGBM_wine_data.csv')[['Algorithm', 'Accuracy', 'F1', 'AUC']]"
   ]
  },
  {
   "cell_type": "code",
   "execution_count": 6,
   "metadata": {},
   "outputs": [],
   "source": [
    "GA_DF1 = df1.loc[df1['Algorithm'] == 'GA']\n",
    "OPTUNA_DF1 = df1.loc[df1['Algorithm'] == 'Optuna']\n",
    "PSO_DF1 = df1.loc[df1['Algorithm'] == 'PSO']"
   ]
  },
  {
   "cell_type": "code",
   "execution_count": 7,
   "metadata": {},
   "outputs": [],
   "source": [
    "final_ga_df =  GA_DF1.drop_duplicates()#pd.concat([GA_DF1, GA_DF2, GA_DF3], ignore_index=True)\n",
    "final_optuna_df =  OPTUNA_DF1.drop_duplicates()#pd.concat([OPTUNA_DF1, OPTUNA_DF2, OPTUNA_DF3], ignore_index=True)\n",
    "final_pso_df = PSO_DF1.drop_duplicates()"
   ]
  },
  {
   "cell_type": "code",
   "execution_count": 8,
   "metadata": {},
   "outputs": [
    {
     "data": {
      "text/plain": [
       "(31, 30, 35)"
      ]
     },
     "execution_count": 8,
     "metadata": {},
     "output_type": "execute_result"
    }
   ],
   "source": [
    "len(final_ga_df), len(final_optuna_df), len(final_pso_df)"
   ]
  },
  {
   "cell_type": "code",
   "execution_count": null,
   "metadata": {},
   "outputs": [],
   "source": [
    "final_ga_df.to_csv('FINAL_RESULT_GA_WINE.csv') \n",
    "final_optuna_df.to_csv('FINAL_RESULT_OPTUNA_WINE.csv') \n",
    "final_pso_df.to_csv('FINAL_RESULT_PSO_WINE.csv')"
   ]
  }
 ],
 "metadata": {
  "kernelspec": {
   "display_name": "Python 3",
   "language": "python",
   "name": "python3"
  },
  "language_info": {
   "codemirror_mode": {
    "name": "ipython",
    "version": 3
   },
   "file_extension": ".py",
   "mimetype": "text/x-python",
   "name": "python",
   "nbconvert_exporter": "python",
   "pygments_lexer": "ipython3",
   "version": "3.11.1"
  },
  "orig_nbformat": 4,
  "vscode": {
   "interpreter": {
    "hash": "5238573367df39f7286bb46f9ff5f08f63a01a80960060ce41e3c79b190280fa"
   }
  }
 },
 "nbformat": 4,
 "nbformat_minor": 2
}
