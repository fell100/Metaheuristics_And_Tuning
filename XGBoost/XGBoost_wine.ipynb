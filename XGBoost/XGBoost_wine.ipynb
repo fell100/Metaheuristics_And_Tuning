{
  "cells": [
    {
      "attachments": {},
      "cell_type": "markdown",
      "metadata": {},
      "source": [
        "## Definindo o Problema"
      ]
    },
    {
      "cell_type": "code",
      "execution_count": 1,
      "metadata": {
        "colab": {
          "base_uri": "https://localhost:8080/"
        },
        "id": "9Sev1tJEIXbP",
        "outputId": "a8d34b52-5234-4e1c-ba54-12555337e150"
      },
      "outputs": [],
      "source": [
        "#!pip install lightgbm;\n",
        "#!pip install pymoo;\n",
        "#!pip install -U pyrecorder;"
      ]
    },
    {
      "cell_type": "code",
      "execution_count": 2,
      "metadata": {},
      "outputs": [],
      "source": [
        "from numpy import inf"
      ]
    },
    {
      "cell_type": "code",
      "execution_count": 3,
      "metadata": {},
      "outputs": [],
      "source": [
        "import numpy as np\n",
        "def special_floor(x):\n",
        "    x = int(np.round(x))\n",
        "    if x == 0:\n",
        "        x = 1\n",
        "    return x"
      ]
    },
    {
      "cell_type": "code",
      "execution_count": 4,
      "metadata": {},
      "outputs": [],
      "source": [
        "ITERATIONS = 32\n",
        "POPULATION = 32"
      ]
    },
    {
      "cell_type": "code",
      "execution_count": 5,
      "metadata": {
        "id": "QrgfvJRNIFyW"
      },
      "outputs": [],
      "source": [
        "import pickle\n",
        "from sklearn.neighbors import KNeighborsClassifier\n",
        "from sklearn.metrics import accuracy_score, confusion_matrix, classification_report\n",
        "#from yellowbrick.classifier import ConfusionMatrix\n",
        "import numpy as np\n",
        "from tqdm.notebook import tqdm as tqdm\n",
        "import matplotlib.pyplot as plt\n",
        "from sklearn.model_selection import cross_val_score, KFold\n",
        "#from google.colab import drive\n",
        "import pickle\n",
        "from pymoo.algorithms.soo.nonconvex.pso import PSO, PSOAnimation\n",
        "#from pymoo.factory import Rastrigin\n",
        "from pymoo.optimize import minimize\n",
        "import matplotlib.pyplot as plt\n",
        "from pymoo.factory import get_termination\n",
        "#from pymoo.util.display import Display\n",
        "from pymoo.core.callback import Callback"
      ]
    },
    {
      "cell_type": "code",
      "execution_count": 6,
      "metadata": {},
      "outputs": [],
      "source": [
        "#!pip install XGBoost"
      ]
    },
    {
      "cell_type": "code",
      "execution_count": 7,
      "metadata": {},
      "outputs": [],
      "source": [
        "import xgboost as xgb"
      ]
    },
    {
      "cell_type": "code",
      "execution_count": 8,
      "metadata": {
        "colab": {
          "base_uri": "https://localhost:8080/"
        },
        "id": "io1a1cJQIQoZ",
        "outputId": "7762ca48-fc4c-4746-a658-5238c24392fc"
      },
      "outputs": [],
      "source": [
        "#drive.mount('/content/gdrive')"
      ]
    },
    {
      "cell_type": "code",
      "execution_count": 9,
      "metadata": {},
      "outputs": [],
      "source": [
        "with open('./wine.pkl', 'rb') as f:\n",
        "    x_wine, y_wine = pickle.load(f)"
      ]
    },
    {
      "cell_type": "code",
      "execution_count": 10,
      "metadata": {},
      "outputs": [
        {
          "name": "stdout",
          "output_type": "stream",
          "text": [
            "[0 3 3 ... 3 1 1]\n"
          ]
        }
      ],
      "source": [
        "from sklearn.preprocessing import LabelEncoder\n",
        "\n",
        "\n",
        "# Create an instance of LabelEncoder\n",
        "encoder = LabelEncoder()\n",
        "\n",
        "# Fit the encoder to the data and transform the labels\n",
        "y_wine = encoder.fit_transform(y_wine)\n",
        "\n",
        "# Print the encoded labels\n",
        "print(y_wine)\n"
      ]
    },
    {
      "attachments": {},
      "cell_type": "markdown",
      "metadata": {
        "id": "tHg0NYkn-4CK"
      },
      "source": [
        "Definindo as restrições "
      ]
    },
    {
      "cell_type": "code",
      "execution_count": 11,
      "metadata": {},
      "outputs": [],
      "source": [
        "DIMENSIONS = 16"
      ]
    },
    {
      "cell_type": "code",
      "execution_count": 12,
      "metadata": {
        "id": "BkFUaoY1fTFl"
      },
      "outputs": [],
      "source": [
        "\n",
        "n_estimators_max = 1000\n",
        "learning_rate_max = 0.6\n",
        "subsample_max = 1.0\n",
        "colsample_bytree_max = 1.0\n",
        "gamma_max = 0.5\n",
        "max_depth_max = 10\n",
        "min_child_weight_max = 10\n",
        "reg_alpha_max = 0.1\n",
        "reg_lambda_max = 1\n",
        "scale_pos_weight_max = 10\n",
        "base_score_max = 1\n",
        "\n",
        "\n",
        "\n",
        "\n",
        "\n",
        "n_estimators_min = 10\n",
        "learning_rate_min = 0.0001\n",
        "subsample_min = 0.6\n",
        "colsample_bytree_min = 0.6\n",
        "gamma_min = 0\n",
        "max_depth_min = 3\n",
        "min_child_weight_min = 1\n",
        "reg_alpha_min = 0\n",
        "reg_lambda_min = 0\n",
        "scale_pos_weight_min = 1\n",
        "base_score_min = 0\n"
      ]
    },
    {
      "attachments": {},
      "cell_type": "markdown",
      "metadata": {
        "id": "xSbKK_Og-7Oe"
      },
      "source": [
        "Definindo o problema"
      ]
    },
    {
      "cell_type": "code",
      "execution_count": 13,
      "metadata": {
        "id": "Elrs3UT_j7t6"
      },
      "outputs": [],
      "source": [
        "import numpy as np\n",
        "from pymoo.core.problem import ElementwiseProblem\n",
        "\n",
        "class OptimizeWithAccuracy(ElementwiseProblem):\n",
        "\n",
        "    def __init__(self):\n",
        "        super().__init__(n_var= 11,\n",
        "                         n_obj=1,\n",
        "                         n_constr=11,\n",
        "                         xl=np.array([\n",
        "                          n_estimators_min,\n",
        "                            learning_rate_min,\n",
        "                            subsample_min,\n",
        "                            colsample_bytree_min,\n",
        "                            gamma_min,\n",
        "                            max_depth_min,\n",
        "                            min_child_weight_min,\n",
        "                            reg_alpha_min,\n",
        "                            reg_lambda_min,\n",
        "                            scale_pos_weight_min,\n",
        "                            base_score_min\n",
        "                          ]),\n",
        "                         xu=np.array([\n",
        "                            n_estimators_max,\n",
        "                            learning_rate_max,\n",
        "                            subsample_max,\n",
        "                            colsample_bytree_max,\n",
        "                            gamma_max,\n",
        "                            max_depth_max,\n",
        "                            min_child_weight_max,\n",
        "                            reg_alpha_max,\n",
        "                            reg_lambda_max,\n",
        "                            scale_pos_weight_max,\n",
        "                            base_score_max,\n",
        "                            ])\n",
        "                        )\n",
        "\n",
        "    def _evaluate(self, x, out, *args, **kwargs):\n",
        "        #num_leaves, min_child_samples, n_estimators, learning_rate, subsample_for_bin, min_split_gain, min_child_weight, reg_alpha, reg_lambda\n",
        "       \n",
        "        model_xgboost = xgb.XGBClassifier(\n",
        "                          n_estimators = int(np.round(x[0])),\n",
        "                          learning_rate = x[1],\n",
        "                          subsample = x[2],\n",
        "                          colsample_bytree = x[3],\n",
        "                          gamma = x[4],\n",
        "                          max_depth = special_floor(x[5]),\n",
        "                          min_child_weight = int(np.round(x[6])),\n",
        "                          reg_alpha = x[7],\n",
        "                          reg_lambda = x[8],\n",
        "                          scale_pos_weight = int(x[9]),\n",
        "                          base_score       = x[10],\n",
        "                          n_jobs = -1\n",
        "                                       )\n",
        "        \n",
        "        kfold = KFold(n_splits = 3, shuffle = True)\n",
        "        \n",
        "        scores = cross_val_score(model_xgboost, x_wine, y_wine, cv = kfold, n_jobs=-1)  \n",
        "        result = scores.mean()\n",
        "        #if not result:\n",
        "        #  result = 0\n",
        "        \n",
        "        out['F'] = -1 * result\n",
        "\n",
        "problemAccuracy = OptimizeWithAccuracy()"
      ]
    },
    {
      "cell_type": "code",
      "execution_count": 14,
      "metadata": {},
      "outputs": [],
      "source": [
        "import numpy as np\n",
        "from pymoo.core.problem import ElementwiseProblem\n",
        "\n",
        "class OptimizeWithF1(ElementwiseProblem):\n",
        "\n",
        "    def __init__(self):\n",
        "        super().__init__(n_var= 11,\n",
        "                         n_obj=1,\n",
        "                         n_constr=11,\n",
        "                         xl=np.array([\n",
        "                          n_estimators_min,\n",
        "                            learning_rate_min,\n",
        "                            subsample_min,\n",
        "                            colsample_bytree_min,\n",
        "                            gamma_min,\n",
        "                            max_depth_min,\n",
        "                            min_child_weight_min,\n",
        "                            reg_alpha_min,\n",
        "                            reg_lambda_min,\n",
        "                            scale_pos_weight_min,\n",
        "                            base_score_min\n",
        "                          ]),\n",
        "                         xu=np.array([\n",
        "                            n_estimators_max,\n",
        "                            learning_rate_max,\n",
        "                            subsample_max,\n",
        "                            colsample_bytree_max,\n",
        "                            gamma_max,\n",
        "                            max_depth_max,\n",
        "                            min_child_weight_max,\n",
        "                            reg_alpha_max,\n",
        "                            reg_lambda_max,\n",
        "                            scale_pos_weight_max,\n",
        "                            base_score_max,\n",
        "                            ])\n",
        "                        )\n",
        "\n",
        "    def _evaluate(self, x, out, *args, **kwargs):\n",
        "        #num_leaves, min_child_samples, n_estimators, learning_rate, subsample_for_bin, min_split_gain, min_child_weight, reg_alpha, reg_lambda\n",
        "       \n",
        "        model_xgboost = xgb.XGBClassifier(\n",
        "                          n_estimators = int(np.round(x[0])),\n",
        "                          learning_rate = x[1],\n",
        "                          subsample = x[2],\n",
        "                          colsample_bytree = x[3],\n",
        "                          gamma = x[4],\n",
        "                          max_depth = special_floor(x[5]),\n",
        "                          min_child_weight = int(np.round(x[6])),\n",
        "                          reg_alpha = x[7],\n",
        "                          reg_lambda = x[8],\n",
        "                          scale_pos_weight = int(x[9]),\n",
        "                          base_score       = x[10],\n",
        "                          n_jobs = -1\n",
        "                                       )\n",
        "        \n",
        "        kfold = KFold(n_splits = 3, shuffle = True)\n",
        "\n",
        "        scores = cross_val_score(model_xgboost, x_wine, y_wine, cv = kfold, scoring='f1_weighted', n_jobs=-1)  \n",
        "        result = scores.mean()\n",
        "        out['F'] = -1 * result\n",
        "\n",
        "problemF1 = OptimizeWithF1()"
      ]
    },
    {
      "cell_type": "code",
      "execution_count": 15,
      "metadata": {},
      "outputs": [],
      "source": [
        "import numpy as np\n",
        "from pymoo.core.problem import ElementwiseProblem\n",
        "\n",
        "class OptimizeWithAUC(ElementwiseProblem):\n",
        "\n",
        "    def __init__(self):\n",
        "        super().__init__(n_var= 11,\n",
        "                         n_obj=1,\n",
        "                         n_constr=11,\n",
        "                         xl=np.array([\n",
        "                          n_estimators_min,\n",
        "                            learning_rate_min,\n",
        "                            subsample_min,\n",
        "                            colsample_bytree_min,\n",
        "                            gamma_min,\n",
        "                            max_depth_min,\n",
        "                            min_child_weight_min,\n",
        "                            reg_alpha_min,\n",
        "                            reg_lambda_min,\n",
        "                            scale_pos_weight_min,\n",
        "                            base_score_min\n",
        "                          ]),\n",
        "                         xu=np.array([\n",
        "                            n_estimators_max,\n",
        "                            learning_rate_max,\n",
        "                            subsample_max,\n",
        "                            colsample_bytree_max,\n",
        "                            gamma_max,\n",
        "                            max_depth_max,\n",
        "                            min_child_weight_max,\n",
        "                            reg_alpha_max,\n",
        "                            reg_lambda_max,\n",
        "                            scale_pos_weight_max,\n",
        "                            base_score_max,\n",
        "                            ])\n",
        "                        )\n",
        "\n",
        "    def _evaluate(self, x, out, *args, **kwargs):\n",
        "        #num_leaves, min_child_samples, n_estimators, learning_rate, subsample_for_bin, min_split_gain, min_child_weight, reg_alpha, reg_lambda\n",
        "       \n",
        "        model_xgboost = xgb.XGBClassifier(\n",
        "                          n_estimators = int(np.round(x[0])),\n",
        "                          learning_rate = x[1],\n",
        "                          subsample = x[2],\n",
        "                          colsample_bytree = x[3],\n",
        "                          gamma = x[4],\n",
        "                          max_depth = special_floor(x[5]),\n",
        "                          min_child_weight = int(np.round(x[6])),\n",
        "                          reg_alpha = x[7],\n",
        "                          reg_lambda = x[8],\n",
        "                          scale_pos_weight = int(x[9]),\n",
        "                          base_score       = x[10],\n",
        "                          n_jobs = -1\n",
        "                                       )\n",
        "\n",
        "        \n",
        "        kfold = KFold(n_splits = 3, shuffle = True)\n",
        "  \n",
        "        scores = cross_val_score(model_xgboost, x_wine, y_wine, cv = kfold, scoring='roc_auc_ovr_weighted', n_jobs=-1)  \n",
        "        \n",
        "        result = scores.mean()\n",
        "\n",
        "        out['F'] = -1 * result\n",
        "\n",
        "problemAUC = OptimizeWithAUC()"
      ]
    },
    {
      "cell_type": "code",
      "execution_count": 16,
      "metadata": {},
      "outputs": [],
      "source": [
        "from pymoo.util.display.column import Column\n",
        "from pymoo.util.display.output import Output"
      ]
    },
    {
      "cell_type": "code",
      "execution_count": 17,
      "metadata": {},
      "outputs": [],
      "source": [
        "class MyOutput(Output):\n",
        "\n",
        "    def __init__(self):\n",
        "        super().__init__()\n",
        "        global pbar \n",
        "        pbar = tqdm(total=ITERATIONS)\n",
        "        self.score = Column(\"score\", width=13)\n",
        "        self.Parameters = Column(\"Parameters\", width=35)\n",
        "        self.columns += [self.score, self.Parameters]\n",
        "\n",
        "    def update(self, algorithm):\n",
        "        super().update(algorithm)\n",
        "        self.score.set(-np.min(algorithm.pop.get(\"F\")))\n",
        "        #self.Parameters.set(algorithm.pop.get(\"X\")[0])\n",
        "        pbar.update(1)\n",
        "        if pbar.n == ITERATIONS: pbar.close()"
      ]
    },
    {
      "attachments": {},
      "cell_type": "markdown",
      "metadata": {
        "id": "_HsPc7BH-MWL"
      },
      "source": [
        "## Particle Swarm Optimization (PSO)"
      ]
    },
    {
      "attachments": {},
      "cell_type": "markdown",
      "metadata": {},
      "source": [
        "### Acurácia"
      ]
    },
    {
      "cell_type": "code",
      "execution_count": 18,
      "metadata": {},
      "outputs": [],
      "source": [
        "import pyswarms as ps\n",
        "from pyswarms.utils.functions import single_obj as fx\n",
        "import numpy as np"
      ]
    },
    {
      "cell_type": "code",
      "execution_count": 19,
      "metadata": {},
      "outputs": [],
      "source": [
        "xl=np.array([n_estimators_min,\n",
        "             learning_rate_min,\n",
        "             subsample_min,\n",
        "             colsample_bytree_min,\n",
        "             gamma_min,\n",
        "             max_depth_min,\n",
        "             min_child_weight_min,\n",
        "             reg_alpha_min,\n",
        "             reg_lambda_min,\n",
        "             scale_pos_weight_min,\n",
        "             base_score_min])\n",
        "xu=np.array([n_estimators_max,\n",
        "             learning_rate_max,\n",
        "             subsample_max,\n",
        "             colsample_bytree_max,\n",
        "             gamma_max,\n",
        "             max_depth_max,\n",
        "             min_child_weight_max,\n",
        "             reg_alpha_max,\n",
        "             reg_lambda_max,\n",
        "             scale_pos_weight_max,\n",
        "             base_score_max])"
      ]
    },
    {
      "cell_type": "code",
      "execution_count": 20,
      "metadata": {},
      "outputs": [],
      "source": [
        "def PSO_Optimize_Accuracy(values):\n",
        "    x = values[0] \n",
        "    model_xgboost = xgb.XGBClassifier(\n",
        "                          n_estimators = int(np.round(x[0])),\n",
        "                          learning_rate = x[1],\n",
        "                          subsample = x[2],\n",
        "                          colsample_bytree = x[3],\n",
        "                          gamma = x[4],\n",
        "                          max_depth = special_floor(x[5]),\n",
        "                          min_child_weight = int(np.round(x[6])),\n",
        "                          reg_alpha = x[7],\n",
        "                          reg_lambda = x[8],\n",
        "                          scale_pos_weight = int(x[9]),\n",
        "                          base_score       = x[10],\n",
        "                          n_jobs = -1\n",
        "                                    )\n",
        "    \n",
        "    kfold = KFold(n_splits = 10, shuffle = True)\n",
        "    \n",
        "    scores = cross_val_score(model_xgboost, x_wine, y_wine, cv = kfold, n_jobs=-1)  \n",
        "    result = scores.mean()     \n",
        "\n",
        "    return -result"
      ]
    },
    {
      "cell_type": "code",
      "execution_count": 21,
      "metadata": {},
      "outputs": [],
      "source": [
        "def PSO_Optimize_F1(values):\n",
        "    x = values[0] \n",
        "    model_xgboost = xgb.XGBClassifier(\n",
        "                          n_estimators = int(np.round(x[0])),\n",
        "                          learning_rate = x[1],\n",
        "                          subsample = x[2],\n",
        "                          colsample_bytree = x[3],\n",
        "                          gamma = x[4],\n",
        "                          max_depth = special_floor(x[5]),\n",
        "                          min_child_weight = int(np.round(x[6])),\n",
        "                          reg_alpha = x[7],\n",
        "                          reg_lambda = x[8],\n",
        "                          scale_pos_weight = int(x[9]),\n",
        "                          base_score       = x[10],\n",
        "                          n_jobs = -1\n",
        "                                    )\n",
        "    \n",
        "    kfold = KFold(n_splits = 10, shuffle = True)\n",
        "    \n",
        "    scores = cross_val_score(model_xgboost,  x_wine, y_wine, cv = kfold, n_jobs=-1, scoring='f1_weighted')  \n",
        "    result = scores.mean()     \n",
        "\n",
        "    return -result"
      ]
    },
    {
      "cell_type": "code",
      "execution_count": 22,
      "metadata": {},
      "outputs": [],
      "source": [
        "def PSO_Optimize_AUC(values):\n",
        "    x = values[0] \n",
        "    model_xgboost = xgb.XGBClassifier(\n",
        "                          n_estimators = int(np.round(x[0])),\n",
        "                          learning_rate = x[1],\n",
        "                          subsample = x[2],\n",
        "                          colsample_bytree = x[3],\n",
        "                          gamma = x[4],\n",
        "                          max_depth = special_floor(x[5]),\n",
        "                          min_child_weight = int(np.round(x[6])),\n",
        "                          reg_alpha = x[7],\n",
        "                          reg_lambda = x[8],\n",
        "                          scale_pos_weight = int(x[9]),\n",
        "                          base_score       = x[10],\n",
        "                          n_jobs = -1\n",
        "                                    )\n",
        "    \n",
        "    kfold = KFold(n_splits = 10, shuffle = True)\n",
        "    \n",
        "    scores = cross_val_score(model_xgboost, x_wine, y_wine, cv = kfold, n_jobs=-1, scoring='roc_auc_ovr_weighted')  \n",
        "    result = scores.mean()     \n",
        "\n",
        "    return -result"
      ]
    },
    {
      "cell_type": "code",
      "execution_count": 23,
      "metadata": {},
      "outputs": [],
      "source": [
        "def run_accuracy_pso():\n",
        "    # Call an instance of PSO\n",
        "    swarm_size = 32\n",
        "    iters = 32\n",
        "    dim = 11\n",
        "    options = {'c1': 1.5, 'c2':1.5, 'w':0.5}\n",
        "    constraints = (xl,xu)\n",
        "\n",
        "    optimizer = ps.single.GlobalBestPSO(n_particles=swarm_size,\n",
        "                                        dimensions=dim,\n",
        "                                        options=options,\n",
        "                                        ftol = -inf,\n",
        "                                        bounds=constraints)\n",
        "    cost, joint_vars = optimizer.optimize(objective_func = PSO_Optimize_Accuracy, iters=iters)\n",
        "    return -cost"
      ]
    },
    {
      "cell_type": "code",
      "execution_count": 24,
      "metadata": {},
      "outputs": [],
      "source": [
        "def run_auc_pso():\n",
        "    # Call an instance of PSO\n",
        "    swarm_size = 32\n",
        "    iters = 32\n",
        "    dim = 11\n",
        "    options = {'c1': 1.5, 'c2':1.5, 'w':0.5}\n",
        "    constraints = (xl,xu)\n",
        "\n",
        "    optimizer = ps.single.GlobalBestPSO(n_particles=swarm_size,\n",
        "                                        dimensions=dim,\n",
        "                                        options=options,\n",
        "                                        ftol = -inf,\n",
        "                                        bounds=constraints)\n",
        "    cost, joint_vars = optimizer.optimize(objective_func = PSO_Optimize_AUC, iters=iters)\n",
        "    return -cost"
      ]
    },
    {
      "cell_type": "code",
      "execution_count": 25,
      "metadata": {},
      "outputs": [],
      "source": [
        "def run_f1_pso():\n",
        "    # Call an instance of PSO\n",
        "    swarm_size = 32\n",
        "    iters = 32\n",
        "    dim = 11\n",
        "    options = {'c1': 1.5, 'c2':1.5, 'w':0.5}\n",
        "    constraints = (xl,xu)\n",
        "\n",
        "    optimizer = ps.single.GlobalBestPSO(n_particles=swarm_size,\n",
        "                                        dimensions=dim,\n",
        "                                        options=options,\n",
        "                                        ftol = -inf,\n",
        "                                        bounds=constraints)\n",
        "    cost, joint_vars = optimizer.optimize(objective_func = PSO_Optimize_F1, iters=iters)\n",
        "    return -cost"
      ]
    },
    {
      "attachments": {},
      "cell_type": "markdown",
      "metadata": {
        "id": "iTAAhn6w-Be4"
      },
      "source": [
        "## Algoritmo Genético (GA)"
      ]
    },
    {
      "attachments": {},
      "cell_type": "markdown",
      "metadata": {},
      "source": [
        "### Acurácia"
      ]
    },
    {
      "cell_type": "code",
      "execution_count": 26,
      "metadata": {
        "id": "1iXezRJUgWiM"
      },
      "outputs": [],
      "source": [
        "ITERATIONS = 32\n",
        "POPULATION = 32"
      ]
    },
    {
      "cell_type": "code",
      "execution_count": 27,
      "metadata": {},
      "outputs": [],
      "source": [
        "from pymoo.algorithms.soo.nonconvex.ga import GA"
      ]
    },
    {
      "cell_type": "code",
      "execution_count": 28,
      "metadata": {
        "colab": {
          "base_uri": "https://localhost:8080/",
          "height": 848,
          "referenced_widgets": [
            "12434838d89048188eefe1af0332bfd6",
            "b6288aa156624b108015ab993c54d52b",
            "f45e5f0d4187404fb8f63acd3c26fe17",
            "aaa16b6dbffd42ef973b1826e5ed2242",
            "8721e5217b97444d948e5b85c6fd53c7",
            "d25235d18f8045de9948417d13538ef3",
            "01d3490253a8464281845cb171385d59",
            "7f079b743c6e4ad897ae55ba366a15b9",
            "54cbbc7ffbcc401abfbf3167f882019e",
            "d539e4a476cb4ae28e78769b17b97aa9",
            "fb379b55e7bd4b3bb7ed4b0ec6390b2e"
          ]
        },
        "id": "TK9YdWdMfAw3",
        "outputId": "60624262-0c77-4e32-8106-540ea70cd8f9"
      },
      "outputs": [],
      "source": [
        "def run_accuracy_ga(ITERATIONS = 32, POPULATION = 32):\n",
        "\n",
        "    algorithm = GA(pop_size=POPULATION)\n",
        "\n",
        "    term = get_termination(\"n_gen\", ITERATIONS)\n",
        "\n",
        "    res = minimize(problemAccuracy,\n",
        "                algorithm,\n",
        "                save_history=False,\n",
        "                verbose=True,\n",
        "                output=MyOutput(),\n",
        "                termination = term)\n",
        "\n",
        "\n",
        "    index_best_individual = np.where(res.pop.get('F') == np.min(res.pop.get('F')))[0][0]\n",
        "    score_best_individual = res.pop.get('F')[index_best_individual]\n",
        "    parameters_best_individual = res.pop.get('X')[index_best_individual]\n",
        "\n",
        "    #print(f'Best Accuracy Score {-score_best_individual}')\n",
        "    #print(f'Model parameters: \\n {parameters_best_individual}')\n",
        "    \n",
        "    return score_best_individual, parameters_best_individual, res"
      ]
    },
    {
      "cell_type": "code",
      "execution_count": 29,
      "metadata": {
        "colab": {
          "base_uri": "https://localhost:8080/",
          "height": 364
        },
        "id": "Aw1RtuhKgPkR",
        "outputId": "6b173010-6841-44be-fc9c-1e08c709308c"
      },
      "outputs": [],
      "source": [
        "#tracking = [-np.min(individual.pop.get('F')) for individual in res.history ]\n",
        "#tracking_GA_Accuracy = tracking\n",
        "#plt.plot(tracking)"
      ]
    },
    {
      "cell_type": "code",
      "execution_count": 30,
      "metadata": {
        "id": "EuxPTJqU95Ib"
      },
      "outputs": [],
      "source": [
        "#trlist = np.array([])\n",
        "#for i in range(len(res.history)):\n",
        "#  trlist = np.append(trlist, -res.history[i].pop.get('F').reshape(-1)) "
      ]
    },
    {
      "cell_type": "code",
      "execution_count": 31,
      "metadata": {
        "id": "COvG1svS97RF"
      },
      "outputs": [],
      "source": [
        "#scorelist = []\n",
        "#\n",
        "#for i in range(len(trlist)):\n",
        "#  if i == 0:\n",
        "#    scorelist.append(trlist[i])\n",
        "#  elif trlist[i] > scorelist[i-1]:\n",
        "#    scorelist.append(trlist[i])\n",
        "#  else:\n",
        "#    scorelist.append(scorelist[i-1])"
      ]
    },
    {
      "cell_type": "code",
      "execution_count": 32,
      "metadata": {
        "id": "P4ubDrqPGUnS"
      },
      "outputs": [],
      "source": [
        "#Accuracy_GA = scorelist"
      ]
    },
    {
      "cell_type": "code",
      "execution_count": 33,
      "metadata": {
        "colab": {
          "base_uri": "https://localhost:8080/",
          "height": 347
        },
        "id": "N3xxFM4e99pt",
        "outputId": "e0d19dc9-1416-42a5-c33f-945a66a17ee0"
      },
      "outputs": [],
      "source": [
        "#plt.plot(scorelist);"
      ]
    },
    {
      "attachments": {},
      "cell_type": "markdown",
      "metadata": {},
      "source": [
        "### F1 Score "
      ]
    },
    {
      "cell_type": "code",
      "execution_count": 34,
      "metadata": {},
      "outputs": [],
      "source": [
        "from pymoo.algorithms.soo.nonconvex.ga import GA\n",
        "def run_f1_ga(ITERATIONS = 32, POPULATION = 32):\n",
        "    algorithm = GA(pop_size=POPULATION)\n",
        "\n",
        "    term = get_termination(\"n_gen\", ITERATIONS)\n",
        "\n",
        "    res = minimize(problemF1,\n",
        "                algorithm,\n",
        "                save_history=False,\n",
        "                verbose=False,\n",
        "                output=MyOutput(),\n",
        "                termination = term)\n",
        "\n",
        "\n",
        "    index_best_individual = np.where(res.pop.get('F') == np.min(res.pop.get('F')))[0][0]\n",
        "    score_best_individual = res.pop.get('F')[index_best_individual]\n",
        "    parameters_best_individual = res.pop.get('X')[index_best_individual]\n",
        "\n",
        "    #print(f'Best F1 Score {-score_best_individual}')\n",
        "    #print(f'Model parameters: \\n {parameters_best_individual}')\n",
        "    \n",
        "    return score_best_individual, parameters_best_individual, res"
      ]
    },
    {
      "cell_type": "code",
      "execution_count": 35,
      "metadata": {},
      "outputs": [],
      "source": [
        "#trlist = np.array([])\n",
        "#for i in range(len(res.history)):\n",
        "#  trlist = np.append(trlist, -res.history[i].pop.get('F').reshape(-1)) \n",
        "#  \n",
        "#scorelist = []\n",
        "#\n",
        "#for i in range(len(trlist)):\n",
        "##for i in range(1):\n",
        "#  if i == 0:\n",
        "#    scorelist.append(trlist[i])\n",
        "#  elif trlist[i] > scorelist[i-1]:\n",
        "#    scorelist.append(trlist[i])\n",
        "#  else:\n",
        "#    scorelist.append(scorelist[i-1])\n",
        "#    \n",
        "#F1_GA = scorelist\n",
        "#\n",
        "#plt.plot(scorelist);"
      ]
    },
    {
      "cell_type": "code",
      "execution_count": 36,
      "metadata": {},
      "outputs": [],
      "source": [
        "#tracking = [-np.min(individual.pop.get('F')) for individual in res.history ]\n",
        "#tracking_GA_F1 = tracking\n",
        "#plt.plot(tracking)"
      ]
    },
    {
      "attachments": {},
      "cell_type": "markdown",
      "metadata": {},
      "source": [
        "### AUC"
      ]
    },
    {
      "cell_type": "code",
      "execution_count": 37,
      "metadata": {},
      "outputs": [],
      "source": [
        "from pymoo.algorithms.soo.nonconvex.ga import GA\n",
        "def run_auc_ga(ITERATIONS = 32, POPULATION = 32):\n",
        "    algorithm = GA(pop_size=POPULATION)\n",
        "\n",
        "    term = get_termination(\"n_gen\", ITERATIONS)\n",
        "\n",
        "    res = minimize(problemAUC,\n",
        "                algorithm,\n",
        "                save_history=False,\n",
        "                verbose=False,\n",
        "                output=MyOutput(),\n",
        "                termination = term)\n",
        "\n",
        "    \n",
        "    index_best_individual = np.where(res.pop.get('F') == np.min(res.pop.get('F')))[0][0]\n",
        "    score_best_individual = res.pop.get('F')[index_best_individual]\n",
        "    parameters_best_individual = res.pop.get('X')[index_best_individual]\n",
        "\n",
        "    #print(f'Best AUC Score {-score_best_individual}')\n",
        "    #print(f'Model parameters: \\n {parameters_best_individual}')\n",
        "    \n",
        "    return score_best_individual, parameters_best_individual, res"
      ]
    },
    {
      "cell_type": "code",
      "execution_count": 38,
      "metadata": {},
      "outputs": [],
      "source": [
        "#trlist = np.array([])\n",
        "#for i in range(len(res.history)):\n",
        "#  trlist = np.append(trlist, -res.history[i].pop.get('F').reshape(-1)) \n",
        "#  \n",
        "#scorelist = []\n",
        "#\n",
        "#for i in range(len(trlist)):\n",
        "##for i in range(1):\n",
        "#  if i == 0:\n",
        "#    scorelist.append(trlist[i])\n",
        "#  elif trlist[i] > scorelist[i-1]:\n",
        "#    scorelist.append(trlist[i])\n",
        "#  else:\n",
        "#    scorelist.append(scorelist[i-1])\n",
        "#    \n",
        "#AUC_GA = scorelist\n",
        "#\n",
        "#plt.plot(scorelist);"
      ]
    },
    {
      "cell_type": "code",
      "execution_count": 39,
      "metadata": {},
      "outputs": [],
      "source": [
        "#tracking = [-np.min(individual.pop.get('F')) for individual in res.history ]\n",
        "#tracking_GA_AUC = tracking\n",
        "#plt.plot(tracking)"
      ]
    },
    {
      "attachments": {},
      "cell_type": "markdown",
      "metadata": {
        "id": "F-WtiEIO0kFu"
      },
      "source": [
        "## Grid Search"
      ]
    },
    {
      "attachments": {},
      "cell_type": "markdown",
      "metadata": {},
      "source": [
        "### Acurácia"
      ]
    },
    {
      "cell_type": "code",
      "execution_count": 40,
      "metadata": {
        "id": "OvuV46Aa0dBR"
      },
      "outputs": [],
      "source": [
        "from sklearn.model_selection import GridSearchCV"
      ]
    },
    {
      "cell_type": "code",
      "execution_count": 41,
      "metadata": {
        "colab": {
          "base_uri": "https://localhost:8080/"
        },
        "id": "X4nK3alPCEQm",
        "outputId": "ece560c4-eb7c-4e23-e62a-b9423bd07386"
      },
      "outputs": [],
      "source": [
        "#n_possibilities = 2\n",
        "#\n",
        "##num_leaves_grid = [i for i in range(num_leaves_min,num_leaves_max, int((num_leaves_max)/13))]\n",
        "#num_leaves_grid = [i for i in map(lambda x: int(x), np.linspace(num_leaves_min, num_leaves_max, n_possibilities))]\n",
        "#num_leaves_grid = num_leaves_grid + [100, 50, 75, 125, 11,150]\n",
        "##print('Num_Leaves_Grid: ')\n",
        "##print(num_leaves_grid, len(num_leaves_grid))\n",
        "##print('\\n')\n",
        "#\n",
        "#\n",
        "#min_child_samples_grid = [i for i in map(lambda x: int(x), np.linspace(min_child_samples_min, min_child_samples_max, n_possibilities))]\n",
        "##print('min_child_samples_grid:')\n",
        "##print(min_child_samples_grid, len(min_child_samples_grid))\n",
        "##print('\\n')\n",
        "#\n",
        "#n_estimators_grid = [i for i in map(lambda x: int(x), np.linspace(n_estimators_min, n_estimators_max, n_possibilities))]\n",
        "##print('n_estimators_grid:')\n",
        "##print(n_estimators_grid, len(n_estimators_grid))\n",
        "##print('\\n')\n",
        "#\n",
        "#learning_rate_grid = np.linspace(learning_rate_min, learning_rate_max, n_possibilities)\n",
        "##print('learning_rate_grid:')\n",
        "##print(learning_rate_grid, len(learning_rate_grid))\n",
        "##print('\\n')\n",
        "#\n",
        "#subsample_for_bin_grid = [i for i in map(lambda x: int(x), np.linspace(subsample_for_bin_min, subsample_for_bin_max, n_possibilities))]\n",
        "##print('subsample_for_bin_grid:')\n",
        "##print(subsample_for_bin_grid, len(subsample_for_bin_grid))\n",
        "##print('\\n')\n",
        "#\n",
        "#min_split_gain_grid = np.linspace(min_split_gain_min, min_split_gain_max, n_possibilities)\n",
        "##print('min_split_gain_grid:')\n",
        "##print(min_split_gain_grid, len(min_split_gain_grid))\n",
        "##print('\\n')\n",
        "#\n",
        "#min_child_weight_grid = np.linspace(min_child_weight_min, min_child_weight_max, n_possibilities)\n",
        "##print('min_child_weight_grid:')\n",
        "##print(min_child_weight_grid, len(min_child_weight_grid))\n",
        "##print('\\n')\n",
        "#\n",
        "#reg_alpha_grid = np.linspace(reg_alpha_min, reg_alpha_max, n_possibilities)\n",
        "##print('reg_alpha_grid:')\n",
        "##print(reg_alpha_grid, len(reg_alpha_grid))\n",
        "##print('\\n')\n"
      ]
    },
    {
      "cell_type": "code",
      "execution_count": 42,
      "metadata": {
        "id": "sWL2gq5M0jmq"
      },
      "outputs": [],
      "source": [
        "#parametros = {'num_leaves': num_leaves_grid, #int\n",
        "#              'min_child_samples': min_child_samples_grid,#int\n",
        "#              'n_estimators': n_estimators_grid, #int\n",
        "#              'learning_rate': learning_rate_grid,\n",
        "#              'subsample_for_bin': subsample_for_bin_grid, # int\n",
        "#              'min_split_gain': min_split_gain_grid,\n",
        "#              'min_child_weight': min_child_weight_grid,\n",
        "#              'reg_alpha': reg_alpha_grid,\n",
        "#              'max_depth': [-1],\n",
        "#              'n_jobs': [-1]}"
      ]
    },
    {
      "cell_type": "code",
      "execution_count": 43,
      "metadata": {
        "colab": {
          "base_uri": "https://localhost:8080/"
        },
        "id": "Cg8ZpgTM0tK7",
        "outputId": "efa2aaa1-3397-45fe-83c3-2eea6127b6a7"
      },
      "outputs": [],
      "source": [
        "#kfold = KFold(n_splits = 3, shuffle = True)\n",
        "#grid_search = GridSearchCV(estimator = lgb.LGBMClassifier(), param_grid = parametros, cv = kfold, n_jobs= -1, verbose = 3)\n",
        "#grid_search.fit(x_wine, y_wine)\n",
        "#melhores_parametros = grid_search.best_params_\n",
        "#melhor_resultado = grid_search.best_score_\n",
        "##print(melhores_parametros)\n",
        "##print(melhor_resultado)"
      ]
    },
    {
      "cell_type": "code",
      "execution_count": 44,
      "metadata": {
        "colab": {
          "base_uri": "https://localhost:8080/"
        },
        "id": "ekOamIhnrFd5",
        "outputId": "4d91ab89-5f11-4dc4-d71b-3837ba0cd1e9"
      },
      "outputs": [],
      "source": [
        "#grid_search.cv_results_.keys()"
      ]
    },
    {
      "cell_type": "code",
      "execution_count": 45,
      "metadata": {
        "id": "uo45HhIasnc4"
      },
      "outputs": [],
      "source": [
        "#trlist = grid_search.cv_results_['mean_test_score']"
      ]
    },
    {
      "cell_type": "code",
      "execution_count": 46,
      "metadata": {
        "id": "k0PjBeFHIqKw"
      },
      "outputs": [],
      "source": [
        "#scorelist = []\n",
        "#\n",
        "#for i in range(len(trlist)):\n",
        "##for i in range(1):\n",
        "#  if i == 0:\n",
        "#    scorelist.append(trlist[i])\n",
        "#  elif trlist[i] > scorelist[i-1]:\n",
        "#    scorelist.append(trlist[i])\n",
        "#  else:\n",
        "#    scorelist.append(scorelist[i-1])"
      ]
    },
    {
      "cell_type": "code",
      "execution_count": 47,
      "metadata": {
        "colab": {
          "base_uri": "https://localhost:8080/"
        },
        "id": "xjb_n_Hkr3WK",
        "outputId": "91f6887b-7c92-4b1d-8719-825d2ce7d88e"
      },
      "outputs": [],
      "source": [
        "#tracking_GS_Accuracy = scorelist\n",
        "#plt.plot(scorelist); "
      ]
    },
    {
      "attachments": {},
      "cell_type": "markdown",
      "metadata": {},
      "source": [
        "### F1 Score"
      ]
    },
    {
      "cell_type": "code",
      "execution_count": 48,
      "metadata": {},
      "outputs": [],
      "source": [
        "#kfold = KFold(n_splits = 3, shuffle = True)\n",
        "#grid_search = GridSearchCV(estimator = lgb.LGBMClassifier(), param_grid = parametros, cv = kfold, n_jobs= -1, scoring='f1', verbose = 3)\n",
        "#grid_search.fit(x_wine, y_wine)\n",
        "#melhores_parametros = grid_search.best_params_\n",
        "#melhor_resultado = grid_search.best_score_\n",
        "##print(melhores_parametros)\n",
        "##print(melhor_resultado)\n",
        "#\n",
        "#trlist = grid_search.cv_results_['mean_test_score']\n",
        "#\n",
        "#\n",
        "#scorelist = []\n",
        "#\n",
        "#for i in range(len(trlist)):\n",
        "##for i in range(1):\n",
        "#  if i == 0:\n",
        "#    scorelist.append(trlist[i])\n",
        "#  elif trlist[i] > scorelist[i-1]:\n",
        "#    scorelist.append(trlist[i])\n",
        "#  else:\n",
        "#    scorelist.append(scorelist[i-1])\n",
        "#    \n",
        "#tracking_GS_F1 = scorelist\n",
        "#plt.plot(scorelist); "
      ]
    },
    {
      "attachments": {},
      "cell_type": "markdown",
      "metadata": {},
      "source": [
        "### AUC"
      ]
    },
    {
      "cell_type": "code",
      "execution_count": 49,
      "metadata": {},
      "outputs": [],
      "source": [
        "#kfold = KFold(n_splits = 3, shuffle = True)\n",
        "#grid_search = GridSearchCV(estimator = lgb.LGBMClassifier(), param_grid = parametros, cv = kfold, n_jobs= -1, scoring='roc_auc', verbose = 3)\n",
        "#grid_search.fit(x_wine, y_wine)\n",
        "#melhores_parametros = grid_search.best_params_\n",
        "#melhor_resultado = grid_search.best_score_\n",
        "##print(melhores_parametros)\n",
        "##print(melhor_resultado)\n",
        "#\n",
        "#trlist = grid_search.cv_results_['mean_test_score']\n",
        "#\n",
        "#\n",
        "#scorelist = []\n",
        "#\n",
        "#for i in range(len(trlist)):\n",
        "##for i in range(1):\n",
        "#  if i == 0:\n",
        "#    scorelist.append(trlist[i])\n",
        "#  elif trlist[i] > scorelist[i-1]:\n",
        "#    scorelist.append(trlist[i])\n",
        "#  else:\n",
        "#    scorelist.append(scorelist[i-1])\n",
        "#    \n",
        "#tracking_GS_AUC = scorelist\n",
        "#plt.plot(scorelist); "
      ]
    },
    {
      "attachments": {},
      "cell_type": "markdown",
      "metadata": {
        "id": "vA6kphUO0vcT"
      },
      "source": [
        "## Optuna"
      ]
    },
    {
      "attachments": {},
      "cell_type": "markdown",
      "metadata": {},
      "source": [
        "### Acurácia"
      ]
    },
    {
      "cell_type": "code",
      "execution_count": 50,
      "metadata": {
        "colab": {
          "base_uri": "https://localhost:8080/"
        },
        "id": "AtVNXGxotkiD",
        "outputId": "3eeeb6d4-9bc6-49eb-b3d6-7c9482852c52"
      },
      "outputs": [
        {
          "name": "stdout",
          "output_type": "stream",
          "text": [
            "Requirement already satisfied: optuna in c:\\users\\felps\\appdata\\local\\packages\\pythonsoftwarefoundation.python.3.11_qbz5n2kfra8p0\\localcache\\local-packages\\python311\\site-packages (3.2.0)\n",
            "Requirement already satisfied: alembic>=1.5.0 in c:\\users\\felps\\appdata\\local\\packages\\pythonsoftwarefoundation.python.3.11_qbz5n2kfra8p0\\localcache\\local-packages\\python311\\site-packages (from optuna) (1.11.1)\n",
            "Requirement already satisfied: cmaes>=0.9.1 in c:\\users\\felps\\appdata\\local\\packages\\pythonsoftwarefoundation.python.3.11_qbz5n2kfra8p0\\localcache\\local-packages\\python311\\site-packages (from optuna) (0.9.1)\n",
            "Requirement already satisfied: colorlog in c:\\users\\felps\\appdata\\local\\packages\\pythonsoftwarefoundation.python.3.11_qbz5n2kfra8p0\\localcache\\local-packages\\python311\\site-packages (from optuna) (6.7.0)\n",
            "Requirement already satisfied: numpy in c:\\users\\felps\\appdata\\local\\packages\\pythonsoftwarefoundation.python.3.11_qbz5n2kfra8p0\\localcache\\local-packages\\python311\\site-packages (from optuna) (1.24.3)\n",
            "Requirement already satisfied: packaging>=20.0 in c:\\users\\felps\\appdata\\local\\packages\\pythonsoftwarefoundation.python.3.11_qbz5n2kfra8p0\\localcache\\local-packages\\python311\\site-packages (from optuna) (23.1)\n",
            "Requirement already satisfied: sqlalchemy>=1.3.0 in c:\\users\\felps\\appdata\\local\\packages\\pythonsoftwarefoundation.python.3.11_qbz5n2kfra8p0\\localcache\\local-packages\\python311\\site-packages (from optuna) (2.0.15)\n",
            "Requirement already satisfied: tqdm in c:\\users\\felps\\appdata\\local\\packages\\pythonsoftwarefoundation.python.3.11_qbz5n2kfra8p0\\localcache\\local-packages\\python311\\site-packages (from optuna) (4.65.0)\n",
            "Requirement already satisfied: PyYAML in c:\\users\\felps\\appdata\\local\\packages\\pythonsoftwarefoundation.python.3.11_qbz5n2kfra8p0\\localcache\\local-packages\\python311\\site-packages (from optuna) (6.0)\n",
            "Requirement already satisfied: Mako in c:\\users\\felps\\appdata\\local\\packages\\pythonsoftwarefoundation.python.3.11_qbz5n2kfra8p0\\localcache\\local-packages\\python311\\site-packages (from alembic>=1.5.0->optuna) (1.2.4)\n",
            "Requirement already satisfied: typing-extensions>=4 in c:\\users\\felps\\appdata\\local\\packages\\pythonsoftwarefoundation.python.3.11_qbz5n2kfra8p0\\localcache\\local-packages\\python311\\site-packages (from alembic>=1.5.0->optuna) (4.5.0)\n",
            "Requirement already satisfied: greenlet!=0.4.17 in c:\\users\\felps\\appdata\\local\\packages\\pythonsoftwarefoundation.python.3.11_qbz5n2kfra8p0\\localcache\\local-packages\\python311\\site-packages (from sqlalchemy>=1.3.0->optuna) (2.0.2)\n",
            "Requirement already satisfied: colorama in c:\\users\\felps\\appdata\\local\\packages\\pythonsoftwarefoundation.python.3.11_qbz5n2kfra8p0\\localcache\\local-packages\\python311\\site-packages (from colorlog->optuna) (0.4.6)\n",
            "Requirement already satisfied: MarkupSafe>=0.9.2 in c:\\users\\felps\\appdata\\local\\packages\\pythonsoftwarefoundation.python.3.11_qbz5n2kfra8p0\\localcache\\local-packages\\python311\\site-packages (from Mako->alembic>=1.5.0->optuna) (2.1.2)\n"
          ]
        },
        {
          "name": "stderr",
          "output_type": "stream",
          "text": [
            "\n",
            "[notice] A new release of pip available: 22.3.1 -> 23.1.2\n",
            "[notice] To update, run: C:\\Users\\Felps\\AppData\\Local\\Microsoft\\WindowsApps\\PythonSoftwareFoundation.Python.3.11_qbz5n2kfra8p0\\python.exe -m pip install --upgrade pip\n"
          ]
        }
      ],
      "source": [
        "!pip install optuna"
      ]
    },
    {
      "cell_type": "code",
      "execution_count": 51,
      "metadata": {
        "id": "X_R8NlJD0xYP"
      },
      "outputs": [],
      "source": [
        "import optuna\n",
        "optuna.logging.set_verbosity(optuna.logging.WARNING)\n",
        "import sklearn\n",
        "from sklearn import datasets\n",
        "def objective_accuracy(trial):\n",
        "      \n",
        "      n_estimators = trial.suggest_int('n_estimators', n_estimators_min, n_estimators_max)\n",
        "      learning_rate = trial.suggest_float('learning_rate', learning_rate_min, learning_rate_max)\n",
        "      subsample = trial.suggest_float('subsample', subsample_min, subsample_max)\n",
        "      colsample_bytree = trial.suggest_float('colsample_bytree', colsample_bytree_min, colsample_bytree_max)\n",
        "      gamma = trial.suggest_float('gamma', gamma_min, gamma_max)\n",
        "      max_depth = trial.suggest_int('max_depth', max_depth_min, max_depth_max)\n",
        "      min_child_weight = trial.suggest_int('min_child_weight', min_child_weight_min, min_child_weight_max)\n",
        "      reg_alpha = trial.suggest_float('reg_alpha', reg_alpha_min, reg_alpha_max)\n",
        "      reg_lambda = trial.suggest_float('reg_lambda', reg_lambda_min, reg_lambda_max)\n",
        "      scale_pos_weight = trial.suggest_int('scale_pos_weight', scale_pos_weight_min, scale_pos_weight_max)\n",
        "      base_score = trial.suggest_float('base_score', base_score_min, base_score_max)\n",
        "      \n",
        "      model_xgboost = xgb.XGBClassifier(\n",
        "                        n_estimators = n_estimators,\n",
        "                        learning_rate = learning_rate,\n",
        "                        subsample = subsample,\n",
        "                        colsample_bytree = colsample_bytree,\n",
        "                        gamma = gamma,\n",
        "                        max_depth = max_depth,\n",
        "                        min_child_weight = min_child_weight,\n",
        "                        reg_alpha = reg_alpha,\n",
        "                        reg_lambda = reg_lambda,\n",
        "                        scale_pos_weight = scale_pos_weight,\n",
        "                        base_score = base_score,\n",
        "                        n_jobs = -1\n",
        "                                    )\n",
        "\n",
        "      \n",
        "      kfold = KFold(n_splits = 3, shuffle = True)\n",
        "      \n",
        "      return sklearn.model_selection.cross_val_score(model_xgboost, x_wine, y_wine, n_jobs=-1, cv=kfold).mean()"
      ]
    },
    {
      "cell_type": "code",
      "execution_count": 52,
      "metadata": {
        "colab": {
          "base_uri": "https://localhost:8080/"
        },
        "id": "r62Ch5ng00NT",
        "outputId": "05e8015b-6c79-4043-daf8-028abeea7334"
      },
      "outputs": [],
      "source": [
        "def run_optuna_accuracy(n_trials=1024):\n",
        "    study = optuna.create_study(direction='maximize')\n",
        "    study.optimize(objective_accuracy, n_trials=n_trials, n_jobs = -1)\n",
        "    trial = study.best_trial\n",
        "    #print('Accuracy: {}'.format(trial.value))\n",
        "    #print(\"Best hyperparameters: {}\".format(trial.params))\n",
        "    return trial.value, study\n"
      ]
    },
    {
      "cell_type": "code",
      "execution_count": 53,
      "metadata": {},
      "outputs": [],
      "source": [
        "trial, study = run_optuna_accuracy(1)"
      ]
    },
    {
      "cell_type": "code",
      "execution_count": 54,
      "metadata": {},
      "outputs": [
        {
          "data": {
            "text/plain": [
              "0.7728376528765066"
            ]
          },
          "execution_count": 54,
          "metadata": {},
          "output_type": "execute_result"
        }
      ],
      "source": [
        "trial"
      ]
    },
    {
      "cell_type": "code",
      "execution_count": 55,
      "metadata": {
        "id": "odCO6YCmz1q4"
      },
      "outputs": [],
      "source": [
        "#tracking = []\n",
        "#for i in range(len(study.trials)):\n",
        "#  if i == 0: \n",
        "#    tracking.append(study.trials[i].value)\n",
        "#  elif tracking[i-1] > study.trials[i].value:\n",
        "#    tracking.append(tracking[i-1])\n",
        "#  else:\n",
        "#    tracking.append(study.trials[i].value)\n",
        "##tracking_sorted = sorted(tracking)"
      ]
    },
    {
      "cell_type": "code",
      "execution_count": 56,
      "metadata": {
        "id": "ukqgm-fOHTVs"
      },
      "outputs": [],
      "source": [
        "#tracking_Optuna_Accuracy = tracking"
      ]
    },
    {
      "cell_type": "code",
      "execution_count": 57,
      "metadata": {
        "colab": {
          "base_uri": "https://localhost:8080/",
          "height": 347
        },
        "id": "L8cqXHz06SXp",
        "outputId": "e0ea3abf-1a22-479f-b12c-fa76bb91b4c6"
      },
      "outputs": [],
      "source": [
        "#plt.plot(tracking);\n",
        "#plt.plot(tracking_sorted) "
      ]
    },
    {
      "cell_type": "code",
      "execution_count": 58,
      "metadata": {
        "colab": {
          "base_uri": "https://localhost:8080/",
          "height": 542
        },
        "id": "dSnAebcQ04n8",
        "outputId": "e0275cf0-9485-43d1-af08-75042d2f3351"
      },
      "outputs": [],
      "source": [
        "#optuna.visualization.plot_optimization_history(study)"
      ]
    },
    {
      "cell_type": "code",
      "execution_count": 59,
      "metadata": {
        "colab": {
          "base_uri": "https://localhost:8080/",
          "height": 562
        },
        "id": "PykRbFk506AF",
        "outputId": "b37580c8-b893-4d8f-f745-60affb470c52"
      },
      "outputs": [],
      "source": [
        "#optuna.visualization.plot_slice(study)"
      ]
    },
    {
      "attachments": {},
      "cell_type": "markdown",
      "metadata": {},
      "source": [
        "### F1 Score"
      ]
    },
    {
      "cell_type": "code",
      "execution_count": 60,
      "metadata": {},
      "outputs": [],
      "source": [
        "def objective_f1(trial):\n",
        "  \n",
        "      n_estimators = trial.suggest_int('n_estimators', n_estimators_min, n_estimators_max)\n",
        "      learning_rate = trial.suggest_float('learning_rate', learning_rate_min, learning_rate_max)\n",
        "      subsample = trial.suggest_float('subsample', subsample_min, subsample_max)\n",
        "      colsample_bytree = trial.suggest_float('colsample_bytree', colsample_bytree_min, colsample_bytree_max)\n",
        "      gamma = trial.suggest_float('gamma', gamma_min, gamma_max)\n",
        "      max_depth = trial.suggest_int('max_depth', max_depth_min, max_depth_max)\n",
        "      min_child_weight = trial.suggest_int('min_child_weight', min_child_weight_min, min_child_weight_max)\n",
        "      reg_alpha = trial.suggest_float('reg_alpha', reg_alpha_min, reg_alpha_max)\n",
        "      reg_lambda = trial.suggest_float('reg_lambda', reg_lambda_min, reg_lambda_max)\n",
        "      scale_pos_weight = trial.suggest_int('scale_pos_weight', scale_pos_weight_min, scale_pos_weight_max)\n",
        "      base_score = trial.suggest_float('base_score', base_score_min, base_score_max)\n",
        "      \n",
        "      model_xgboost = xgb.XGBClassifier(\n",
        "                        n_estimators = n_estimators,\n",
        "                        learning_rate = learning_rate,\n",
        "                        subsample = subsample,\n",
        "                        colsample_bytree = colsample_bytree,\n",
        "                        gamma = gamma,\n",
        "                        max_depth = max_depth,\n",
        "                        min_child_weight = min_child_weight,\n",
        "                        reg_alpha = reg_alpha,\n",
        "                        reg_lambda = reg_lambda,\n",
        "                        scale_pos_weight = scale_pos_weight,\n",
        "                        base_score = base_score,\n",
        "                        n_jobs = -1\n",
        "                                    )\n",
        "\n",
        "      \n",
        "      kfold = KFold(n_splits = 3, shuffle = True)\n",
        "\n",
        "      return sklearn.model_selection.cross_val_score(model_xgboost, x_wine, y_wine, n_jobs=-1, scoring='f1_weighted', cv=kfold).mean()"
      ]
    },
    {
      "cell_type": "code",
      "execution_count": 61,
      "metadata": {},
      "outputs": [],
      "source": [
        "def run_optuna_f1(n_trials=1024):\n",
        "    study = optuna.create_study(direction='maximize')\n",
        "    study.optimize(objective_f1, n_trials=n_trials, n_jobs = -1)\n",
        "    trial = study.best_trial\n",
        "    #print('F1: {}'.format(trial.value))\n",
        "    #print(\"Best hyperparameters: {}\".format(trial.params))\n",
        "    return trial.value, study"
      ]
    },
    {
      "cell_type": "code",
      "execution_count": 62,
      "metadata": {},
      "outputs": [],
      "source": [
        "trial, study = run_optuna_f1(1)"
      ]
    },
    {
      "cell_type": "code",
      "execution_count": 63,
      "metadata": {},
      "outputs": [],
      "source": [
        "#tracking = []\n",
        "#for i in range(len(study.trials)):\n",
        "#  if i == 0: \n",
        "#    tracking.append(study.trials[i].value)\n",
        "#  elif tracking[i-1] > study.trials[i].value:\n",
        "#    tracking.append(tracking[i-1])\n",
        "#  else:\n",
        "#    tracking.append(study.trials[i].value)\n",
        "##tracking_sorted = sorted(tracking)\n",
        "#\n",
        "#tracking_Optuna_F1 = tracking\n",
        "#\n",
        "#plt.plot(tracking);\n",
        "##plt.plot(tracking_sorted) "
      ]
    },
    {
      "attachments": {},
      "cell_type": "markdown",
      "metadata": {},
      "source": [
        "### AUC"
      ]
    },
    {
      "cell_type": "code",
      "execution_count": 64,
      "metadata": {},
      "outputs": [],
      "source": [
        "def objective_auc(trial):\n",
        "  \n",
        "      n_estimators = trial.suggest_int('n_estimators', n_estimators_min, n_estimators_max)\n",
        "      learning_rate = trial.suggest_float('learning_rate', learning_rate_min, learning_rate_max)\n",
        "      subsample = trial.suggest_float('subsample', subsample_min, subsample_max)\n",
        "      colsample_bytree = trial.suggest_float('colsample_bytree', colsample_bytree_min, colsample_bytree_max)\n",
        "      gamma = trial.suggest_float('gamma', gamma_min, gamma_max)\n",
        "      max_depth = trial.suggest_int('max_depth', max_depth_min, max_depth_max)\n",
        "      min_child_weight = trial.suggest_int('min_child_weight', min_child_weight_min, min_child_weight_max)\n",
        "      reg_alpha = trial.suggest_float('reg_alpha', reg_alpha_min, reg_alpha_max)\n",
        "      reg_lambda = trial.suggest_float('reg_lambda', reg_lambda_min, reg_lambda_max)\n",
        "      scale_pos_weight = trial.suggest_int('scale_pos_weight', scale_pos_weight_min, scale_pos_weight_max)\n",
        "      base_score = trial.suggest_float('base_score', base_score_min, base_score_max)\n",
        "      \n",
        "      model_xgboost = xgb.XGBClassifier(\n",
        "                        n_estimators = n_estimators,\n",
        "                        learning_rate = learning_rate,\n",
        "                        subsample = subsample,\n",
        "                        colsample_bytree = colsample_bytree,\n",
        "                        gamma = gamma,\n",
        "                        max_depth = max_depth,\n",
        "                        min_child_weight = min_child_weight,\n",
        "                        reg_alpha = reg_alpha,\n",
        "                        reg_lambda = reg_lambda,\n",
        "                        scale_pos_weight = scale_pos_weight,\n",
        "                        base_score = base_score,\n",
        "                        n_jobs = -1\n",
        "                                    )\n",
        "\n",
        "      kfold = KFold(n_splits = 3, shuffle = True)\n",
        "\n",
        "\n",
        "      return sklearn.model_selection.cross_val_score(model_xgboost, x_wine, y_wine, n_jobs=-1, scoring='roc_auc_ovr_weighted', cv=kfold).mean()"
      ]
    },
    {
      "cell_type": "code",
      "execution_count": 65,
      "metadata": {},
      "outputs": [],
      "source": [
        "def run_optuna_auc(n_trials=1024):\n",
        "    study = optuna.create_study(direction='maximize')\n",
        "    study.optimize(objective_auc, n_trials=n_trials, n_jobs = -1)\n",
        "    trial = study.best_trial\n",
        "    #print('AUC: {}'.format(trial.value))\n",
        "    #print(\"Best hyperparameters: {}\".format(trial.params))\n",
        "    return trial.value, study"
      ]
    },
    {
      "cell_type": "code",
      "execution_count": 66,
      "metadata": {},
      "outputs": [],
      "source": [
        "trial, study = run_optuna_auc(1)"
      ]
    },
    {
      "cell_type": "code",
      "execution_count": 67,
      "metadata": {},
      "outputs": [],
      "source": [
        "#tracking = []\n",
        "#for i in range(len(study.trials)):\n",
        "#  if i == 0: \n",
        "#    tracking.append(study.trials[i].value)\n",
        "#  elif tracking[i-1] > study.trials[i].value:\n",
        "#    tracking.append(tracking[i-1])\n",
        "#  else:\n",
        "#    tracking.append(study.trials[i].value)\n",
        "##tracking_sorted = sorted(tracking)\n",
        "#\n",
        "#tracking_Optuna_AUC = tracking\n",
        "#\n",
        "#plt.plot(tracking);\n",
        "##plt.plot(tracking_sorted) "
      ]
    },
    {
      "attachments": {},
      "cell_type": "markdown",
      "metadata": {
        "id": "O554Q6QTEVSZ"
      },
      "source": [
        "# Análise Comparativa"
      ]
    },
    {
      "cell_type": "code",
      "execution_count": 68,
      "metadata": {
        "colab": {
          "base_uri": "https://localhost:8080/",
          "height": 335
        },
        "id": "fQLG5-KOEa-j",
        "outputId": "475764bd-0f8b-4a28-dfbc-06b9f8e93d0d"
      },
      "outputs": [],
      "source": [
        "#fig, (ax1, ax2) = plt.subplots(1, 2, figsize=(20,5))\n",
        "#\n",
        "#ax1.set_title('PSO X Gerações')\n",
        "#ax2.set_title('PSO X Avaliações')\n",
        "#\n",
        "#ax1.plot(tracking_PSO_Accuracy)\n",
        "#ax2.plot(Accuracy_PSO)\n",
        "#plt.show()"
      ]
    },
    {
      "cell_type": "code",
      "execution_count": 69,
      "metadata": {
        "colab": {
          "base_uri": "https://localhost:8080/",
          "height": 335
        },
        "id": "rQXRvTMeGdtO",
        "outputId": "3e5b32fe-6843-4453-c4c0-c72f988355e3"
      },
      "outputs": [],
      "source": [
        "#fig, (ax1, ax2) = plt.subplots(1, 2, figsize=(20,5))\n",
        "#\n",
        "#ax1.set_title('GA X Gerações')\n",
        "#ax2.set_title('GA X Avaliações')\n",
        "#\n",
        "#ax1.plot(tracking_GA_Accuracy)\n",
        "#ax2.plot(Accuracy_GA)\n",
        "#plt.show()"
      ]
    },
    {
      "attachments": {},
      "cell_type": "markdown",
      "metadata": {},
      "source": [
        "Gráficos Comparativos Acurácia"
      ]
    },
    {
      "cell_type": "code",
      "execution_count": 70,
      "metadata": {
        "colab": {
          "base_uri": "https://localhost:8080/",
          "height": 592
        },
        "id": "wPAE1qekG2QL",
        "outputId": "ed21fdf7-0168-43ed-be6f-6a7d40ee56a7"
      },
      "outputs": [],
      "source": [
        "#from IPython.core.pylabtools import figsize\n",
        "#from matplotlib.pyplot import figure\n",
        "#import matplotlib.patches as mpatches\n",
        "#\n",
        "#plt.figure(figsize=(12, 6))\n",
        "#red_patch = mpatches.Patch(color='red', label='PSO')\n",
        "#blue_patch = mpatches.Patch(color='blue', label='GA')\n",
        "#green_patch = mpatches.Patch(color='green', label='Optuna')\n",
        "##black_patch = mpatches.Patch(color='black', label='GridSearch')\n",
        "#\n",
        "#plt.legend(handles=[red_patch, blue_patch, green_patch])\n",
        "#plt.plot(Accuracy_GA, color = 'blue', linewidth=1, linestyle='-', )\n",
        "#plt.plot(Accuracy_PSO, color = 'red', linewidth=1, linestyle='-')\n",
        "#plt.plot(tracking_Optuna_Accuracy, color = 'green', linewidth=1, linestyle='-')\n",
        "##plt.plot(tracking_GS, color = 'black', linewidth=3, linestyle='-')\n",
        "#plt.show()"
      ]
    },
    {
      "cell_type": "code",
      "execution_count": 71,
      "metadata": {
        "colab": {
          "base_uri": "https://localhost:8080/",
          "height": 901
        },
        "id": "hkxfnJJoKHia",
        "outputId": "b1c67284-9c27-4868-c7c1-54368e704ec5"
      },
      "outputs": [],
      "source": [
        "#fig, ax = plt.subplots(2, 2, figsize=(25,15))\n",
        "#\n",
        "#ax[0, 0].set_title(f'Genetic Algorithm (GA) - Accuracy: {max(tracking_GA_Accuracy)}', fontdict={'fontsize': 20, 'fontweight': 'medium'})\n",
        "#ax[0, 1].set_title(f'Particle Swarm Optimization (PSO) - Accuracy: {max(tracking_PSO_Accuracy)}', fontdict={'fontsize': 20, 'fontweight': 'medium'})\n",
        "#\n",
        "#ax[1, 0].set_title(f'Grid Search - Accuracy: {max(tracking_GS_Accuracy)}', fontdict={'fontsize': 20, 'fontweight': 'medium'})\n",
        "#ax[1, 1].set_title(f'Optuna - Accuracy: {max(tracking_Optuna_Accuracy)}', fontdict={'fontsize': 20, 'fontweight': 'medium'})\n",
        "#\n",
        "#ax[0,0].plot(tracking_GA_Accuracy, color = 'blue', linewidth=3, linestyle='-', )\n",
        "#ax[0,1].plot(tracking_PSO_Accuracy, color = 'red', linewidth=3, linestyle='-')\n",
        "#\n",
        "#ax[1,0].plot(tracking_GS_Accuracy, color = 'black', linewidth=3, linestyle='-')\n",
        "#ax[1,1].plot(tracking_Optuna_Accuracy, color = 'green', linewidth=3, linestyle='-')\n"
      ]
    },
    {
      "attachments": {},
      "cell_type": "markdown",
      "metadata": {},
      "source": [
        "F1 score"
      ]
    },
    {
      "cell_type": "code",
      "execution_count": 72,
      "metadata": {},
      "outputs": [],
      "source": [
        "#plt.figure(figsize=(12, 6))\n",
        "#red_patch = mpatches.Patch(color='red', label='PSO')\n",
        "#blue_patch = mpatches.Patch(color='blue', label='GA')\n",
        "#green_patch = mpatches.Patch(color='green', label='Optuna')\n",
        "##black_patch = mpatches.Patch(color='black', label='GridSearch')\n",
        "#\n",
        "#plt.legend(handles=[red_patch, blue_patch, green_patch])\n",
        "#plt.plot(F1_GA, color = 'blue', linewidth=1, linestyle='-', )\n",
        "#plt.plot(F1_PSO, color = 'red', linewidth=1, linestyle='-')\n",
        "#plt.plot(tracking_Optuna_F1, color = 'green', linewidth=1, linestyle='-')\n",
        "##plt.plot(tracking_GS, color = 'black', linewidth=3, linestyle='-')\n",
        "#plt.show()"
      ]
    },
    {
      "cell_type": "code",
      "execution_count": 73,
      "metadata": {},
      "outputs": [],
      "source": [
        "#fig, ax = plt.subplots(2, 2, figsize=(25,15))\n",
        "#\n",
        "#ax[0, 0].set_title(f'Genetic Algorithm (GA) - Accuracy: {max(tracking_GA_F1)}', fontdict={'fontsize': 20, 'fontweight': 'medium'})\n",
        "#ax[0, 1].set_title(f'Particle Swarm Optimization (PSO) - Accuracy: {max(tracking_PSO_F1)}', fontdict={'fontsize': 20, 'fontweight': 'medium'})\n",
        "#\n",
        "#ax[1, 0].set_title(f'Grid Search - Accuracy: {max(tracking_GS_F1)}', fontdict={'fontsize': 20, 'fontweight': 'medium'})\n",
        "#ax[1, 1].set_title(f'Optuna - Accuracy: {max(tracking_Optuna_F1)}', fontdict={'fontsize': 20, 'fontweight': 'medium'})\n",
        "#\n",
        "#ax[0,0].plot(tracking_GA_F1, color = 'blue', linewidth=3, linestyle='-', )\n",
        "#ax[0,1].plot(tracking_PSO_F1, color = 'red', linewidth=3, linestyle='-')\n",
        "#\n",
        "#ax[1,0].plot(tracking_GS_F1, color = 'black', linewidth=3, linestyle='-')\n",
        "#ax[1,1].plot(tracking_Optuna_F1, color = 'green', linewidth=3, linestyle='-')\n"
      ]
    },
    {
      "attachments": {},
      "cell_type": "markdown",
      "metadata": {},
      "source": [
        "ROC AUC"
      ]
    },
    {
      "cell_type": "code",
      "execution_count": 74,
      "metadata": {},
      "outputs": [],
      "source": [
        "#plt.figure(figsize=(12, 6))\n",
        "#red_patch = mpatches.Patch(color='red', label='PSO')\n",
        "#blue_patch = mpatches.Patch(color='blue', label='GA')\n",
        "#green_patch = mpatches.Patch(color='green', label='Optuna')\n",
        "##black_patch = mpatches.Patch(color='black', label='GridSearch')\n",
        "#\n",
        "#plt.legend(handles=[red_patch, blue_patch, green_patch])\n",
        "#plt.plot(AUC_GA, color = 'blue', linewidth=1, linestyle='-', )\n",
        "#plt.plot(AUC_PSO, color = 'red', linewidth=1, linestyle='-')\n",
        "#plt.plot(tracking_Optuna_AUC, color = 'green', linewidth=1, linestyle='-')\n",
        "##plt.plot(tracking_GS, color = 'black', linewidth=3, linestyle='-')\n",
        "#plt.show()"
      ]
    },
    {
      "cell_type": "code",
      "execution_count": 75,
      "metadata": {},
      "outputs": [],
      "source": [
        "#fig, ax = plt.subplots(2, 2, figsize=(25,15))\n",
        "#\n",
        "#ax[0, 0].set_title(f'Genetic Algorithm (GA) - Accuracy: {max(tracking_GA_AUC)}', fontdict={'fontsize': 20, 'fontweight': 'medium'})\n",
        "#ax[0, 1].set_title(f'Particle Swarm Optimization (PSO) - Accuracy: {max(tracking_PSO_AUC)}', fontdict={'fontsize': 20, 'fontweight': 'medium'})\n",
        "#\n",
        "#ax[1, 0].set_title(f'Grid Search - Accuracy: {max(tracking_GS_AUC)}', fontdict={'fontsize': 20, 'fontweight': 'medium'})\n",
        "#ax[1, 1].set_title(f'Optuna - Accuracy: {max(tracking_Optuna_AUC)}', fontdict={'fontsize': 20, 'fontweight': 'medium'})\n",
        "#\n",
        "#ax[0,0].plot(tracking_GA_AUC, color = 'blue', linewidth=3, linestyle='-', )\n",
        "#ax[0,1].plot(tracking_PSO_AUC, color = 'red', linewidth=3, linestyle='-')\n",
        "#\n",
        "#ax[1,0].plot(tracking_GS_AUC, color = 'black', linewidth=3, linestyle='-')\n",
        "#ax[1,1].plot(tracking_Optuna_AUC, color = 'green', linewidth=3, linestyle='-')\n",
        "#"
      ]
    },
    {
      "cell_type": "code",
      "execution_count": 76,
      "metadata": {},
      "outputs": [],
      "source": [
        "from scipy.stats import uniform\n",
        "from scipy.stats import randint\n",
        "from sklearn.model_selection import RandomizedSearchCV\n",
        "\n",
        "def random_search_int_range(min_l, max_l):\n",
        "    return (np.arange(randint.ppf(0.01, min_l, max_l),randint.ppf(0.99, min_l, max_l))).astype(int)\n",
        "\n",
        "def run_random_search_accuracy(iterations = 1024):\n",
        "    param_distribution = {\n",
        "    'n_estimators' : random_search_int_range(n_estimators_min, n_estimators_max),\n",
        "    'learning_rate' : uniform(learning_rate_min, learning_rate_max),\n",
        "    'subsample' : uniform(subsample_min, subsample_max - 1),\n",
        "    'colsample_bytree' : uniform(colsample_bytree_min, colsample_bytree_max  - 1),\n",
        "    'gamma' : uniform(gamma_min, gamma_max),\n",
        "    'max_depth' : random_search_int_range(max_depth_min, max_depth_max),\n",
        "    'min_child_weight' : random_search_int_range(min_child_weight_min, min_child_weight_max),\n",
        "    'reg_alpha' : uniform(reg_alpha_min, reg_alpha_max),\n",
        "    'reg_lambda' : uniform(reg_lambda_min, reg_lambda_max),\n",
        "    'scale_pos_weight' : random_search_int_range(scale_pos_weight_min, scale_pos_weight_max),\n",
        "    'base_score' : uniform(base_score_min, base_score_max),\n",
        "    'n_jobs' :  [-1]\n",
        "    }\n",
        "    \n",
        "\n",
        "\n",
        "\n",
        "\n",
        "\n",
        "    kfold = KFold(n_splits = 3, shuffle = True)\n",
        "\n",
        "    random_search_accuracy = RandomizedSearchCV(xgb.XGBClassifier(), param_distribution, n_iter = iterations, n_jobs = 10, cv=kfold, verbose=False)\n",
        "    random_search_accuracy.fit(x_wine, y_wine)\n",
        "\n",
        "    return random_search_accuracy.best_score_"
      ]
    },
    {
      "cell_type": "code",
      "execution_count": 77,
      "metadata": {},
      "outputs": [],
      "source": [
        "from scipy.stats import uniform\n",
        "from scipy.stats import randint\n",
        "from sklearn.model_selection import RandomizedSearchCV\n",
        "\n",
        "def random_search_int_range(min_l, max_l):\n",
        "    return (np.arange(randint.ppf(0.01, min_l, max_l),randint.ppf(0.99, min_l, max_l))).astype(int)\n",
        "\n",
        "\n",
        "def run_random_search_f1(iterations = 1024):\n",
        "    param_distribution = {\n",
        "    'n_estimators' : random_search_int_range(n_estimators_min, n_estimators_max),\n",
        "    'learning_rate' : uniform(learning_rate_min, learning_rate_max),\n",
        "    'subsample' : uniform(subsample_min, subsample_max - 1),\n",
        "    'colsample_bytree' : uniform(colsample_bytree_min, colsample_bytree_max  - 1),\n",
        "    'gamma' : uniform(gamma_min, gamma_max),\n",
        "    'max_depth' : random_search_int_range(max_depth_min, max_depth_max),\n",
        "    'min_child_weight' : random_search_int_range(min_child_weight_min, min_child_weight_max),\n",
        "    'reg_alpha' : uniform(reg_alpha_min, reg_alpha_max),\n",
        "    'reg_lambda' : uniform(reg_lambda_min, reg_lambda_max),\n",
        "    'scale_pos_weight' : random_search_int_range(scale_pos_weight_min, scale_pos_weight_max),\n",
        "    'base_score' : uniform(base_score_min, base_score_max),\n",
        "    'n_jobs' :  [-1]\n",
        "    }\n",
        "    \n",
        "\n",
        "\n",
        "\n",
        "\n",
        "    kfold = KFold(n_splits = 3, shuffle = True)\n",
        "\n",
        "    random_search_accuracy = RandomizedSearchCV(xgb.XGBClassifier(), param_distribution, n_iter = iterations, n_jobs = 10, cv=kfold, verbose=False, scoring='f1_weighted')\n",
        "    random_search_accuracy.fit(x_wine, y_wine)\n",
        "\n",
        "    return random_search_accuracy.best_score_"
      ]
    },
    {
      "cell_type": "code",
      "execution_count": 78,
      "metadata": {},
      "outputs": [],
      "source": [
        "from scipy.stats import uniform\n",
        "from scipy.stats import randint\n",
        "from sklearn.model_selection import RandomizedSearchCV\n",
        "\n",
        "def random_search_int_range(min_l, max_l):\n",
        "    return (np.arange(randint.ppf(0.01, min_l, max_l),randint.ppf(0.99, min_l, max_l))).astype(int)\n",
        "\n",
        "def run_random_search_auc(iterations = 1024):\n",
        "    param_distribution = {\n",
        "    'n_estimators' : random_search_int_range(n_estimators_min, n_estimators_max),\n",
        "    'learning_rate' : uniform(learning_rate_min, learning_rate_max),\n",
        "    'subsample' : uniform(subsample_min, subsample_max - 1),\n",
        "    'colsample_bytree' : uniform(colsample_bytree_min, colsample_bytree_max  - 1),\n",
        "    'gamma' : uniform(gamma_min, gamma_max),\n",
        "    'max_depth' : random_search_int_range(max_depth_min, max_depth_max),\n",
        "    'min_child_weight' : random_search_int_range(min_child_weight_min, min_child_weight_max),\n",
        "    'reg_alpha' : uniform(reg_alpha_min, reg_alpha_max),\n",
        "    'reg_lambda' : uniform(reg_lambda_min, reg_lambda_max),\n",
        "    'scale_pos_weight' : random_search_int_range(scale_pos_weight_min, scale_pos_weight_max),\n",
        "    'base_score' : uniform(base_score_min, base_score_max),\n",
        "    'n_jobs' :  [-1]\n",
        "    }\n",
        "    \n",
        "    \n",
        "\n",
        "\n",
        "\n",
        "\n",
        "    kfold = KFold(n_splits = 3, shuffle = True)\n",
        "\n",
        "    random_search_accuracy = RandomizedSearchCV(xgb.XGBClassifier(), param_distribution, n_iter = iterations, n_jobs = 10, cv=kfold, verbose=False, scoring='roc_auc_ovr_weighted')\n",
        "    random_search_accuracy.fit(x_wine, y_wine)\n",
        "\n",
        "    return random_search_accuracy.best_score_"
      ]
    },
    {
      "attachments": {},
      "cell_type": "markdown",
      "metadata": {},
      "source": [
        "# Gerando Dados Para Análise "
      ]
    },
    {
      "cell_type": "code",
      "execution_count": 79,
      "metadata": {},
      "outputs": [],
      "source": [
        "from tqdm import tqdm\n",
        "import pandas as pd\n",
        "from os import system\n",
        "\n",
        "def full_run(iterations):\n",
        "    filename = './Catboost_fruit_data.csv'\n",
        "\n",
        "    try:\n",
        "        XGBoost_data = pd.read_csv(filename)\n",
        "    except:\n",
        "        open(filename, \"a\")\n",
        "        XGBoost_data = pd.DataFrame(columns=['Algorithm', 'Accuracy', 'F1', 'AUC'])\n",
        "\n",
        "\n",
        "    for i in tqdm(range(iterations)):\n",
        "        accuracy_pso, _, _ = run_accuracy_pso()\n",
        "        f1_pso, _, _ = run_f1_pso()\n",
        "        auc_pso, _, _ = run_auc_pso()\n",
        "        temp = pd.DataFrame({'Algorithm' : ['PSO'], \n",
        "                            'Accuracy' :[-accuracy_pso[0]], \n",
        "                            'F1' : [-f1_pso[0]], \n",
        "                            'AUC' : [-auc_pso[0]]})\n",
        "        #XGBoost_data = XGBoost_data.append(temp, ignore_index = True)\n",
        "        XGBoost_data = pd.concat([XGBoost_data, temp], ignore_index=True)\n",
        "        XGBoost_data[['Algorithm', 'Accuracy', 'F1', 'AUC']].to_csv(filename)\n",
        "        \n",
        "        accuracy_ga, _, _ = run_accuracy_ga()\n",
        "        f1_ga, _, _ = run_f1_ga()\n",
        "        auc_ga, _, _ = run_auc_ga()\n",
        "        temp = pd.DataFrame({'Algorithm' : ['GA'], \n",
        "                            'Accuracy' :[-accuracy_ga[0]], \n",
        "                            'F1' : [-f1_ga[0]], \n",
        "                            'AUC' : [-auc_ga[0]]})\n",
        "        #XGBoost_data = XGBoost_data.append(temp, ignore_index = True)\n",
        "        XGBoost_data = pd.concat([XGBoost_data, temp], ignore_index=True)\n",
        "        XGBoost_data[['Algorithm', 'Accuracy', 'F1', 'AUC']].to_csv(filename)\n",
        "        \n",
        "        accuracy_optuna, _ = run_optuna_accuracy()\n",
        "        f1_optuna, _ = run_optuna_f1()\n",
        "        auc_optuna, _ = run_optuna_auc()\n",
        "        temp = pd.DataFrame({'Algorithm' : ['Optuna'], \n",
        "                            'Accuracy' :[accuracy_optuna], \n",
        "                            'F1' : [f1_optuna], \n",
        "                            'AUC' : [auc_optuna]})\n",
        "        #XGBoost_data = XGBoost_data.append(temp, ignore_index = True)\n",
        "        XGBoost_data = pd.concat([XGBoost_data, temp], ignore_index=True)\n",
        "        XGBoost_data[['Algorithm', 'Accuracy', 'F1', 'AUC']].to_csv(filename)"
      ]
    },
    {
      "cell_type": "code",
      "execution_count": 80,
      "metadata": {},
      "outputs": [],
      "source": [
        "from tqdm import tqdm\n",
        "import pandas as pd\n",
        "from os import system\n",
        "\n",
        "def full_run_optuna(iterations):\n",
        "    filename = './XGBoost_wine_data.csv'\n",
        "\n",
        "    try:\n",
        "        XGBoost_data = pd.read_csv(filename)\n",
        "    except:\n",
        "        open(filename, \"a\")\n",
        "        XGBoost_data = pd.DataFrame(columns=['Algorithm', 'Accuracy', 'F1', 'AUC'])\n",
        "\n",
        "\n",
        "    for i in tqdm(range(iterations)):      \n",
        "        accuracy_optuna, _ = run_optuna_accuracy()\n",
        "        f1_optuna, _ = run_optuna_f1()\n",
        "        auc_optuna, _ = run_optuna_auc()\n",
        "        temp = pd.DataFrame({'Algorithm' : ['Optuna'], \n",
        "                            'Accuracy' :[accuracy_optuna], \n",
        "                            'F1' : [f1_optuna], \n",
        "                            'AUC' : [auc_optuna]})\n",
        "        #XGBoost_data = XGBoost_data.append(temp, ignore_index = True)\n",
        "        XGBoost_data = pd.concat([XGBoost_data, temp], ignore_index=True)\n",
        "        XGBoost_data[['Algorithm', 'Accuracy', 'F1', 'AUC']].to_csv(filename)"
      ]
    },
    {
      "cell_type": "code",
      "execution_count": 81,
      "metadata": {},
      "outputs": [],
      "source": [
        "from tqdm import tqdm\n",
        "import pandas as pd\n",
        "from os import system\n",
        "\n",
        "def full_run_ga(iterations):\n",
        "    filename = './XGBoost_wine_data.csv'\n",
        "\n",
        "    try:\n",
        "        XGBoost_data = pd.read_csv(filename)\n",
        "    except:\n",
        "        open(filename, \"a\")\n",
        "        XGBoost_data = pd.DataFrame(columns=['Algorithm', 'Accuracy', 'F1', 'AUC'])\n",
        "\n",
        "\n",
        "    for i in tqdm(range(iterations)):\n",
        "\n",
        "        accuracy_ga, _, _ = run_accuracy_ga()\n",
        "        f1_ga, _, _ = run_f1_ga()\n",
        "        auc_ga, _, _ = run_auc_ga()\n",
        "        temp = pd.DataFrame({'Algorithm' : ['GA'], \n",
        "                            'Accuracy' :[-accuracy_ga[0]], \n",
        "                            'F1' : [-f1_ga[0]], \n",
        "                            'AUC' : [-auc_ga[0]]})\n",
        "        #XGBoost_data = XGBoost_data.append(temp, ignore_index = True)\n",
        "        XGBoost_data = pd.concat([XGBoost_data, temp], ignore_index=True)\n",
        "        XGBoost_data[['Algorithm', 'Accuracy', 'F1', 'AUC']].to_csv(filename)\n",
        "        "
      ]
    },
    {
      "cell_type": "code",
      "execution_count": 82,
      "metadata": {},
      "outputs": [],
      "source": [
        "from tqdm import tqdm\n",
        "import pandas as pd\n",
        "from os import system\n",
        "\n",
        "def full_run_optuna(iterations):\n",
        "    filename = './XGBoost_wine_data.csv'\n",
        "\n",
        "    try:\n",
        "        XGBoost_data = pd.read_csv(filename)\n",
        "    except:\n",
        "        open(filename, \"a\")\n",
        "        XGBoost_data = pd.DataFrame(columns=['Algorithm', 'Accuracy', 'F1', 'AUC'])\n",
        "\n",
        "\n",
        "    for i in tqdm(range(iterations)):      \n",
        "        accuracy_optuna, _ = run_optuna_accuracy()\n",
        "        f1_optuna, _ = run_optuna_f1()\n",
        "        auc_optuna, _ = run_optuna_auc()\n",
        "        temp = pd.DataFrame({'Algorithm' : ['Optuna'], \n",
        "                            'Accuracy' :[accuracy_optuna], \n",
        "                            'F1' : [f1_optuna], \n",
        "                            'AUC' : [auc_optuna]})\n",
        "        #XGBoost_data = XGBoost_data.append(temp, ignore_index = True)\n",
        "        XGBoost_data = pd.concat([XGBoost_data, temp], ignore_index=True)\n",
        "        XGBoost_data[['Algorithm', 'Accuracy', 'F1', 'AUC']].to_csv(filename)"
      ]
    },
    {
      "cell_type": "code",
      "execution_count": 83,
      "metadata": {},
      "outputs": [
        {
          "name": "stderr",
          "output_type": "stream",
          "text": [
            "100%|██████████| 1/1 [45:50<00:00, 2750.85s/it]\n"
          ]
        }
      ],
      "source": [
        "full_run_optuna(1)"
      ]
    },
    {
      "cell_type": "code",
      "execution_count": 84,
      "metadata": {},
      "outputs": [],
      "source": [
        "from tqdm import tqdm\n",
        "import pandas as pd\n",
        "from os import system\n",
        "\n",
        "def full_run_pso(iterations):\n",
        "    filename = './XGBoost_wine_data.csv'\n",
        "\n",
        "    try:\n",
        "        XGBoost_data = pd.read_csv(filename)\n",
        "    except:\n",
        "        open(filename, \"a\")\n",
        "        XGBoost_data = pd.DataFrame(columns=['Algorithm', 'Accuracy', 'F1', 'AUC'])\n",
        "\n",
        "\n",
        "    for i in tqdm(range(iterations)):\n",
        "        accuracy_pso = run_accuracy_pso()\n",
        "        f1_pso = run_f1_pso()\n",
        "        auc_pso = run_auc_pso()\n",
        "        temp = pd.DataFrame({'Algorithm' : ['PSO'], \n",
        "                            'Accuracy' :[accuracy_pso], \n",
        "                            'F1' : [f1_pso], \n",
        "                            'AUC' : [auc_pso]})\n",
        "        #XGBoost_data = XGBoost_data.append(temp, ignore_index = True)\n",
        "        XGBoost_data = pd.concat([XGBoost_data, temp], ignore_index=True)\n",
        "        XGBoost_data[['Algorithm', 'Accuracy', 'F1', 'AUC']].to_csv(filename)\n",
        "        "
      ]
    },
    {
      "cell_type": "code",
      "execution_count": 85,
      "metadata": {},
      "outputs": [],
      "source": [
        "def full_run_random_searh(iterations):\n",
        "    filename = './XGBoost_wine_data.csv'\n",
        "\n",
        "    try:\n",
        "        XGBoost_data = pd.read_csv(filename)\n",
        "    except:\n",
        "        open(filename, \"a\")\n",
        "        XGBoost_data = pd.DataFrame(columns=['Algorithm', 'Accuracy', 'F1', 'AUC'])\n",
        "\n",
        "\n",
        "    for i in tqdm(range(iterations)):\n",
        "\n",
        "        accuracy_rs = run_random_search_accuracy()\n",
        "        f1_rs = run_random_search_f1()\n",
        "        auc_rs = run_random_search_auc()\n",
        "        temp = pd.DataFrame({'Algorithm' : ['Random Search'], \n",
        "                            'Accuracy' :[accuracy_rs], \n",
        "                            'F1' : [f1_rs], \n",
        "                            'AUC' : [auc_rs]})\n",
        "        #XGBoost_data = XGBoost_data.append(temp, ignore_index = True)\n",
        "        XGBoost_data = pd.concat([XGBoost_data, temp], ignore_index=True)\n",
        "        XGBoost_data[['Algorithm', 'Accuracy', 'F1', 'AUC']].to_csv(filename)"
      ]
    }
  ],
  "metadata": {
    "colab": {
      "collapsed_sections": [
        "_HsPc7BH-MWL",
        "iTAAhn6w-Be4",
        "F-WtiEIO0kFu",
        "vA6kphUO0vcT"
      ],
      "provenance": []
    },
    "kernelspec": {
      "display_name": "Python 3",
      "language": "python",
      "name": "python3"
    },
    "language_info": {
      "codemirror_mode": {
        "name": "ipython",
        "version": 3
      },
      "file_extension": ".py",
      "mimetype": "text/x-python",
      "name": "python",
      "nbconvert_exporter": "python",
      "pygments_lexer": "ipython3",
      "version": "3.11.3"
    },
    "vscode": {
      "interpreter": {
        "hash": "8149941357ab46e91af0255cc46a7a09aaccc03c1980a89f638a5973ac5bc49f"
      }
    },
    "widgets": {
      "application/vnd.jupyter.widget-state+json": {
        "01d3490253a8464281845cb171385d59": {
          "model_module": "@jupyter-widgets/controls",
          "model_module_version": "1.5.0",
          "model_name": "DescriptionStyleModel",
          "state": {
            "_model_module": "@jupyter-widgets/controls",
            "_model_module_version": "1.5.0",
            "_model_name": "DescriptionStyleModel",
            "_view_count": null,
            "_view_module": "@jupyter-widgets/base",
            "_view_module_version": "1.2.0",
            "_view_name": "StyleView",
            "description_width": ""
          }
        },
        "12434838d89048188eefe1af0332bfd6": {
          "model_module": "@jupyter-widgets/controls",
          "model_module_version": "1.5.0",
          "model_name": "HBoxModel",
          "state": {
            "_dom_classes": [],
            "_model_module": "@jupyter-widgets/controls",
            "_model_module_version": "1.5.0",
            "_model_name": "HBoxModel",
            "_view_count": null,
            "_view_module": "@jupyter-widgets/controls",
            "_view_module_version": "1.5.0",
            "_view_name": "HBoxView",
            "box_style": "",
            "children": [
              "IPY_MODEL_b6288aa156624b108015ab993c54d52b",
              "IPY_MODEL_f45e5f0d4187404fb8f63acd3c26fe17",
              "IPY_MODEL_aaa16b6dbffd42ef973b1826e5ed2242"
            ],
            "layout": "IPY_MODEL_8721e5217b97444d948e5b85c6fd53c7"
          }
        },
        "124e5b4b5b3344f4abdc93628b112d8f": {
          "model_module": "@jupyter-widgets/controls",
          "model_module_version": "1.5.0",
          "model_name": "DescriptionStyleModel",
          "state": {
            "_model_module": "@jupyter-widgets/controls",
            "_model_module_version": "1.5.0",
            "_model_name": "DescriptionStyleModel",
            "_view_count": null,
            "_view_module": "@jupyter-widgets/base",
            "_view_module_version": "1.2.0",
            "_view_name": "StyleView",
            "description_width": ""
          }
        },
        "1614757884124ed487149ebed485833f": {
          "model_module": "@jupyter-widgets/base",
          "model_module_version": "1.2.0",
          "model_name": "LayoutModel",
          "state": {
            "_model_module": "@jupyter-widgets/base",
            "_model_module_version": "1.2.0",
            "_model_name": "LayoutModel",
            "_view_count": null,
            "_view_module": "@jupyter-widgets/base",
            "_view_module_version": "1.2.0",
            "_view_name": "LayoutView",
            "align_content": null,
            "align_items": null,
            "align_self": null,
            "border": null,
            "bottom": null,
            "display": null,
            "flex": null,
            "flex_flow": null,
            "grid_area": null,
            "grid_auto_columns": null,
            "grid_auto_flow": null,
            "grid_auto_rows": null,
            "grid_column": null,
            "grid_gap": null,
            "grid_row": null,
            "grid_template_areas": null,
            "grid_template_columns": null,
            "grid_template_rows": null,
            "height": null,
            "justify_content": null,
            "justify_items": null,
            "left": null,
            "margin": null,
            "max_height": null,
            "max_width": null,
            "min_height": null,
            "min_width": null,
            "object_fit": null,
            "object_position": null,
            "order": null,
            "overflow": null,
            "overflow_x": null,
            "overflow_y": null,
            "padding": null,
            "right": null,
            "top": null,
            "visibility": null,
            "width": null
          }
        },
        "1a32143976c744e5a388d7b343e7c054": {
          "model_module": "@jupyter-widgets/controls",
          "model_module_version": "1.5.0",
          "model_name": "DescriptionStyleModel",
          "state": {
            "_model_module": "@jupyter-widgets/controls",
            "_model_module_version": "1.5.0",
            "_model_name": "DescriptionStyleModel",
            "_view_count": null,
            "_view_module": "@jupyter-widgets/base",
            "_view_module_version": "1.2.0",
            "_view_name": "StyleView",
            "description_width": ""
          }
        },
        "20a38960e7374ab594f04f4b1c5e2321": {
          "model_module": "@jupyter-widgets/controls",
          "model_module_version": "1.5.0",
          "model_name": "HTMLModel",
          "state": {
            "_dom_classes": [],
            "_model_module": "@jupyter-widgets/controls",
            "_model_module_version": "1.5.0",
            "_model_name": "HTMLModel",
            "_view_count": null,
            "_view_module": "@jupyter-widgets/controls",
            "_view_module_version": "1.5.0",
            "_view_name": "HTMLView",
            "description": "",
            "description_tooltip": null,
            "layout": "IPY_MODEL_6f29547455ac4adb8edaa11d5839f5cb",
            "placeholder": "​",
            "style": "IPY_MODEL_1a32143976c744e5a388d7b343e7c054",
            "value": "100%"
          }
        },
        "54cbbc7ffbcc401abfbf3167f882019e": {
          "model_module": "@jupyter-widgets/controls",
          "model_module_version": "1.5.0",
          "model_name": "ProgressStyleModel",
          "state": {
            "_model_module": "@jupyter-widgets/controls",
            "_model_module_version": "1.5.0",
            "_model_name": "ProgressStyleModel",
            "_view_count": null,
            "_view_module": "@jupyter-widgets/base",
            "_view_module_version": "1.2.0",
            "_view_name": "StyleView",
            "bar_color": null,
            "description_width": ""
          }
        },
        "6f124da663194ac0b073ab7a3fb168c3": {
          "model_module": "@jupyter-widgets/controls",
          "model_module_version": "1.5.0",
          "model_name": "ProgressStyleModel",
          "state": {
            "_model_module": "@jupyter-widgets/controls",
            "_model_module_version": "1.5.0",
            "_model_name": "ProgressStyleModel",
            "_view_count": null,
            "_view_module": "@jupyter-widgets/base",
            "_view_module_version": "1.2.0",
            "_view_name": "StyleView",
            "bar_color": null,
            "description_width": ""
          }
        },
        "6f29547455ac4adb8edaa11d5839f5cb": {
          "model_module": "@jupyter-widgets/base",
          "model_module_version": "1.2.0",
          "model_name": "LayoutModel",
          "state": {
            "_model_module": "@jupyter-widgets/base",
            "_model_module_version": "1.2.0",
            "_model_name": "LayoutModel",
            "_view_count": null,
            "_view_module": "@jupyter-widgets/base",
            "_view_module_version": "1.2.0",
            "_view_name": "LayoutView",
            "align_content": null,
            "align_items": null,
            "align_self": null,
            "border": null,
            "bottom": null,
            "display": null,
            "flex": null,
            "flex_flow": null,
            "grid_area": null,
            "grid_auto_columns": null,
            "grid_auto_flow": null,
            "grid_auto_rows": null,
            "grid_column": null,
            "grid_gap": null,
            "grid_row": null,
            "grid_template_areas": null,
            "grid_template_columns": null,
            "grid_template_rows": null,
            "height": null,
            "justify_content": null,
            "justify_items": null,
            "left": null,
            "margin": null,
            "max_height": null,
            "max_width": null,
            "min_height": null,
            "min_width": null,
            "object_fit": null,
            "object_position": null,
            "order": null,
            "overflow": null,
            "overflow_x": null,
            "overflow_y": null,
            "padding": null,
            "right": null,
            "top": null,
            "visibility": null,
            "width": null
          }
        },
        "76b3046c318d4fbcb66b198b50cd91e7": {
          "model_module": "@jupyter-widgets/base",
          "model_module_version": "1.2.0",
          "model_name": "LayoutModel",
          "state": {
            "_model_module": "@jupyter-widgets/base",
            "_model_module_version": "1.2.0",
            "_model_name": "LayoutModel",
            "_view_count": null,
            "_view_module": "@jupyter-widgets/base",
            "_view_module_version": "1.2.0",
            "_view_name": "LayoutView",
            "align_content": null,
            "align_items": null,
            "align_self": null,
            "border": null,
            "bottom": null,
            "display": null,
            "flex": null,
            "flex_flow": null,
            "grid_area": null,
            "grid_auto_columns": null,
            "grid_auto_flow": null,
            "grid_auto_rows": null,
            "grid_column": null,
            "grid_gap": null,
            "grid_row": null,
            "grid_template_areas": null,
            "grid_template_columns": null,
            "grid_template_rows": null,
            "height": null,
            "justify_content": null,
            "justify_items": null,
            "left": null,
            "margin": null,
            "max_height": null,
            "max_width": null,
            "min_height": null,
            "min_width": null,
            "object_fit": null,
            "object_position": null,
            "order": null,
            "overflow": null,
            "overflow_x": null,
            "overflow_y": null,
            "padding": null,
            "right": null,
            "top": null,
            "visibility": null,
            "width": null
          }
        },
        "7c3472a6094a4249a082f8dc630e5258": {
          "model_module": "@jupyter-widgets/controls",
          "model_module_version": "1.5.0",
          "model_name": "FloatProgressModel",
          "state": {
            "_dom_classes": [],
            "_model_module": "@jupyter-widgets/controls",
            "_model_module_version": "1.5.0",
            "_model_name": "FloatProgressModel",
            "_view_count": null,
            "_view_module": "@jupyter-widgets/controls",
            "_view_module_version": "1.5.0",
            "_view_name": "ProgressView",
            "bar_style": "success",
            "description": "",
            "description_tooltip": null,
            "layout": "IPY_MODEL_1614757884124ed487149ebed485833f",
            "max": 32,
            "min": 0,
            "orientation": "horizontal",
            "style": "IPY_MODEL_6f124da663194ac0b073ab7a3fb168c3",
            "value": 32
          }
        },
        "7f079b743c6e4ad897ae55ba366a15b9": {
          "model_module": "@jupyter-widgets/base",
          "model_module_version": "1.2.0",
          "model_name": "LayoutModel",
          "state": {
            "_model_module": "@jupyter-widgets/base",
            "_model_module_version": "1.2.0",
            "_model_name": "LayoutModel",
            "_view_count": null,
            "_view_module": "@jupyter-widgets/base",
            "_view_module_version": "1.2.0",
            "_view_name": "LayoutView",
            "align_content": null,
            "align_items": null,
            "align_self": null,
            "border": null,
            "bottom": null,
            "display": null,
            "flex": null,
            "flex_flow": null,
            "grid_area": null,
            "grid_auto_columns": null,
            "grid_auto_flow": null,
            "grid_auto_rows": null,
            "grid_column": null,
            "grid_gap": null,
            "grid_row": null,
            "grid_template_areas": null,
            "grid_template_columns": null,
            "grid_template_rows": null,
            "height": null,
            "justify_content": null,
            "justify_items": null,
            "left": null,
            "margin": null,
            "max_height": null,
            "max_width": null,
            "min_height": null,
            "min_width": null,
            "object_fit": null,
            "object_position": null,
            "order": null,
            "overflow": null,
            "overflow_x": null,
            "overflow_y": null,
            "padding": null,
            "right": null,
            "top": null,
            "visibility": null,
            "width": null
          }
        },
        "8721e5217b97444d948e5b85c6fd53c7": {
          "model_module": "@jupyter-widgets/base",
          "model_module_version": "1.2.0",
          "model_name": "LayoutModel",
          "state": {
            "_model_module": "@jupyter-widgets/base",
            "_model_module_version": "1.2.0",
            "_model_name": "LayoutModel",
            "_view_count": null,
            "_view_module": "@jupyter-widgets/base",
            "_view_module_version": "1.2.0",
            "_view_name": "LayoutView",
            "align_content": null,
            "align_items": null,
            "align_self": null,
            "border": null,
            "bottom": null,
            "display": null,
            "flex": null,
            "flex_flow": null,
            "grid_area": null,
            "grid_auto_columns": null,
            "grid_auto_flow": null,
            "grid_auto_rows": null,
            "grid_column": null,
            "grid_gap": null,
            "grid_row": null,
            "grid_template_areas": null,
            "grid_template_columns": null,
            "grid_template_rows": null,
            "height": null,
            "justify_content": null,
            "justify_items": null,
            "left": null,
            "margin": null,
            "max_height": null,
            "max_width": null,
            "min_height": null,
            "min_width": null,
            "object_fit": null,
            "object_position": null,
            "order": null,
            "overflow": null,
            "overflow_x": null,
            "overflow_y": null,
            "padding": null,
            "right": null,
            "top": null,
            "visibility": null,
            "width": null
          }
        },
        "992dda0d38b145b88946b67edc62ab57": {
          "model_module": "@jupyter-widgets/base",
          "model_module_version": "1.2.0",
          "model_name": "LayoutModel",
          "state": {
            "_model_module": "@jupyter-widgets/base",
            "_model_module_version": "1.2.0",
            "_model_name": "LayoutModel",
            "_view_count": null,
            "_view_module": "@jupyter-widgets/base",
            "_view_module_version": "1.2.0",
            "_view_name": "LayoutView",
            "align_content": null,
            "align_items": null,
            "align_self": null,
            "border": null,
            "bottom": null,
            "display": null,
            "flex": null,
            "flex_flow": null,
            "grid_area": null,
            "grid_auto_columns": null,
            "grid_auto_flow": null,
            "grid_auto_rows": null,
            "grid_column": null,
            "grid_gap": null,
            "grid_row": null,
            "grid_template_areas": null,
            "grid_template_columns": null,
            "grid_template_rows": null,
            "height": null,
            "justify_content": null,
            "justify_items": null,
            "left": null,
            "margin": null,
            "max_height": null,
            "max_width": null,
            "min_height": null,
            "min_width": null,
            "object_fit": null,
            "object_position": null,
            "order": null,
            "overflow": null,
            "overflow_x": null,
            "overflow_y": null,
            "padding": null,
            "right": null,
            "top": null,
            "visibility": null,
            "width": null
          }
        },
        "aaa16b6dbffd42ef973b1826e5ed2242": {
          "model_module": "@jupyter-widgets/controls",
          "model_module_version": "1.5.0",
          "model_name": "HTMLModel",
          "state": {
            "_dom_classes": [],
            "_model_module": "@jupyter-widgets/controls",
            "_model_module_version": "1.5.0",
            "_model_name": "HTMLModel",
            "_view_count": null,
            "_view_module": "@jupyter-widgets/controls",
            "_view_module_version": "1.5.0",
            "_view_name": "HTMLView",
            "description": "",
            "description_tooltip": null,
            "layout": "IPY_MODEL_d539e4a476cb4ae28e78769b17b97aa9",
            "placeholder": "​",
            "style": "IPY_MODEL_fb379b55e7bd4b3bb7ed4b0ec6390b2e",
            "value": " 32/32 [48:44&lt;00:00, 118.10s/it]"
          }
        },
        "ae818704a52542d696c8eb0c1c182a81": {
          "model_module": "@jupyter-widgets/controls",
          "model_module_version": "1.5.0",
          "model_name": "HTMLModel",
          "state": {
            "_dom_classes": [],
            "_model_module": "@jupyter-widgets/controls",
            "_model_module_version": "1.5.0",
            "_model_name": "HTMLModel",
            "_view_count": null,
            "_view_module": "@jupyter-widgets/controls",
            "_view_module_version": "1.5.0",
            "_view_name": "HTMLView",
            "description": "",
            "description_tooltip": null,
            "layout": "IPY_MODEL_76b3046c318d4fbcb66b198b50cd91e7",
            "placeholder": "​",
            "style": "IPY_MODEL_124e5b4b5b3344f4abdc93628b112d8f",
            "value": " 32/32 [15:48&lt;00:00, 30.29s/it]"
          }
        },
        "b504307a10f54034ad07715278fa1dbc": {
          "model_module": "@jupyter-widgets/controls",
          "model_module_version": "1.5.0",
          "model_name": "HBoxModel",
          "state": {
            "_dom_classes": [],
            "_model_module": "@jupyter-widgets/controls",
            "_model_module_version": "1.5.0",
            "_model_name": "HBoxModel",
            "_view_count": null,
            "_view_module": "@jupyter-widgets/controls",
            "_view_module_version": "1.5.0",
            "_view_name": "HBoxView",
            "box_style": "",
            "children": [
              "IPY_MODEL_20a38960e7374ab594f04f4b1c5e2321",
              "IPY_MODEL_7c3472a6094a4249a082f8dc630e5258",
              "IPY_MODEL_ae818704a52542d696c8eb0c1c182a81"
            ],
            "layout": "IPY_MODEL_992dda0d38b145b88946b67edc62ab57"
          }
        },
        "b6288aa156624b108015ab993c54d52b": {
          "model_module": "@jupyter-widgets/controls",
          "model_module_version": "1.5.0",
          "model_name": "HTMLModel",
          "state": {
            "_dom_classes": [],
            "_model_module": "@jupyter-widgets/controls",
            "_model_module_version": "1.5.0",
            "_model_name": "HTMLModel",
            "_view_count": null,
            "_view_module": "@jupyter-widgets/controls",
            "_view_module_version": "1.5.0",
            "_view_name": "HTMLView",
            "description": "",
            "description_tooltip": null,
            "layout": "IPY_MODEL_d25235d18f8045de9948417d13538ef3",
            "placeholder": "​",
            "style": "IPY_MODEL_01d3490253a8464281845cb171385d59",
            "value": "100%"
          }
        },
        "d25235d18f8045de9948417d13538ef3": {
          "model_module": "@jupyter-widgets/base",
          "model_module_version": "1.2.0",
          "model_name": "LayoutModel",
          "state": {
            "_model_module": "@jupyter-widgets/base",
            "_model_module_version": "1.2.0",
            "_model_name": "LayoutModel",
            "_view_count": null,
            "_view_module": "@jupyter-widgets/base",
            "_view_module_version": "1.2.0",
            "_view_name": "LayoutView",
            "align_content": null,
            "align_items": null,
            "align_self": null,
            "border": null,
            "bottom": null,
            "display": null,
            "flex": null,
            "flex_flow": null,
            "grid_area": null,
            "grid_auto_columns": null,
            "grid_auto_flow": null,
            "grid_auto_rows": null,
            "grid_column": null,
            "grid_gap": null,
            "grid_row": null,
            "grid_template_areas": null,
            "grid_template_columns": null,
            "grid_template_rows": null,
            "height": null,
            "justify_content": null,
            "justify_items": null,
            "left": null,
            "margin": null,
            "max_height": null,
            "max_width": null,
            "min_height": null,
            "min_width": null,
            "object_fit": null,
            "object_position": null,
            "order": null,
            "overflow": null,
            "overflow_x": null,
            "overflow_y": null,
            "padding": null,
            "right": null,
            "top": null,
            "visibility": null,
            "width": null
          }
        },
        "d539e4a476cb4ae28e78769b17b97aa9": {
          "model_module": "@jupyter-widgets/base",
          "model_module_version": "1.2.0",
          "model_name": "LayoutModel",
          "state": {
            "_model_module": "@jupyter-widgets/base",
            "_model_module_version": "1.2.0",
            "_model_name": "LayoutModel",
            "_view_count": null,
            "_view_module": "@jupyter-widgets/base",
            "_view_module_version": "1.2.0",
            "_view_name": "LayoutView",
            "align_content": null,
            "align_items": null,
            "align_self": null,
            "border": null,
            "bottom": null,
            "display": null,
            "flex": null,
            "flex_flow": null,
            "grid_area": null,
            "grid_auto_columns": null,
            "grid_auto_flow": null,
            "grid_auto_rows": null,
            "grid_column": null,
            "grid_gap": null,
            "grid_row": null,
            "grid_template_areas": null,
            "grid_template_columns": null,
            "grid_template_rows": null,
            "height": null,
            "justify_content": null,
            "justify_items": null,
            "left": null,
            "margin": null,
            "max_height": null,
            "max_width": null,
            "min_height": null,
            "min_width": null,
            "object_fit": null,
            "object_position": null,
            "order": null,
            "overflow": null,
            "overflow_x": null,
            "overflow_y": null,
            "padding": null,
            "right": null,
            "top": null,
            "visibility": null,
            "width": null
          }
        },
        "f45e5f0d4187404fb8f63acd3c26fe17": {
          "model_module": "@jupyter-widgets/controls",
          "model_module_version": "1.5.0",
          "model_name": "FloatProgressModel",
          "state": {
            "_dom_classes": [],
            "_model_module": "@jupyter-widgets/controls",
            "_model_module_version": "1.5.0",
            "_model_name": "FloatProgressModel",
            "_view_count": null,
            "_view_module": "@jupyter-widgets/controls",
            "_view_module_version": "1.5.0",
            "_view_name": "ProgressView",
            "bar_style": "success",
            "description": "",
            "description_tooltip": null,
            "layout": "IPY_MODEL_7f079b743c6e4ad897ae55ba366a15b9",
            "max": 32,
            "min": 0,
            "orientation": "horizontal",
            "style": "IPY_MODEL_54cbbc7ffbcc401abfbf3167f882019e",
            "value": 32
          }
        },
        "fb379b55e7bd4b3bb7ed4b0ec6390b2e": {
          "model_module": "@jupyter-widgets/controls",
          "model_module_version": "1.5.0",
          "model_name": "DescriptionStyleModel",
          "state": {
            "_model_module": "@jupyter-widgets/controls",
            "_model_module_version": "1.5.0",
            "_model_name": "DescriptionStyleModel",
            "_view_count": null,
            "_view_module": "@jupyter-widgets/base",
            "_view_module_version": "1.2.0",
            "_view_name": "StyleView",
            "description_width": ""
          }
        }
      }
    }
  },
  "nbformat": 4,
  "nbformat_minor": 0
}
