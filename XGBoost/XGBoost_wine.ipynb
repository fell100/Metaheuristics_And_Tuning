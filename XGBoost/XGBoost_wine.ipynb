{
  "cells": [
    {
      "attachments": {},
      "cell_type": "markdown",
      "metadata": {},
      "source": [
        "## Definindo o Problema"
      ]
    },
    {
      "cell_type": "code",
      "execution_count": 1,
      "metadata": {
        "colab": {
          "base_uri": "https://localhost:8080/"
        },
        "id": "9Sev1tJEIXbP",
        "outputId": "a8d34b52-5234-4e1c-ba54-12555337e150"
      },
      "outputs": [],
      "source": [
        "#!pip install lightgbm;\n",
        "#!pip install pymoo;\n",
        "#!pip install -U pyrecorder;"
      ]
    },
    {
      "cell_type": "code",
      "execution_count": 2,
      "metadata": {},
      "outputs": [],
      "source": [
        "import numpy as np\n",
        "def special_floor(x):\n",
        "    x = int(np.round(x))\n",
        "    if x == 0:\n",
        "        x = 1\n",
        "    return x"
      ]
    },
    {
      "cell_type": "code",
      "execution_count": 3,
      "metadata": {},
      "outputs": [],
      "source": [
        "ITERATIONS = 32\n",
        "POPULATION = 32"
      ]
    },
    {
      "cell_type": "code",
      "execution_count": 4,
      "metadata": {
        "id": "QrgfvJRNIFyW"
      },
      "outputs": [],
      "source": [
        "import pickle\n",
        "from sklearn.neighbors import KNeighborsClassifier\n",
        "from sklearn.metrics import accuracy_score, confusion_matrix, classification_report\n",
        "#from yellowbrick.classifier import ConfusionMatrix\n",
        "import numpy as np\n",
        "from tqdm.notebook import tqdm as tqdm\n",
        "import matplotlib.pyplot as plt\n",
        "from sklearn.model_selection import cross_val_score, KFold\n",
        "#from google.colab import drive\n",
        "import pickle\n",
        "from pymoo.algorithms.soo.nonconvex.pso import PSO, PSOAnimation\n",
        "#from pymoo.factory import Rastrigin\n",
        "from pymoo.optimize import minimize\n",
        "import matplotlib.pyplot as plt\n",
        "from pymoo.factory import get_termination\n",
        "#from pymoo.util.display import Display\n",
        "from pymoo.core.callback import Callback"
      ]
    },
    {
      "cell_type": "code",
      "execution_count": 5,
      "metadata": {},
      "outputs": [],
      "source": [
        "#!pip install XGBoost"
      ]
    },
    {
      "cell_type": "code",
      "execution_count": 6,
      "metadata": {},
      "outputs": [],
      "source": [
        "import xgboost as xgb"
      ]
    },
    {
      "cell_type": "code",
      "execution_count": 7,
      "metadata": {
        "colab": {
          "base_uri": "https://localhost:8080/"
        },
        "id": "io1a1cJQIQoZ",
        "outputId": "7762ca48-fc4c-4746-a658-5238c24392fc"
      },
      "outputs": [],
      "source": [
        "#drive.mount('/content/gdrive')"
      ]
    },
    {
      "cell_type": "code",
      "execution_count": 8,
      "metadata": {},
      "outputs": [],
      "source": [
        "with open('./wine.pkl', 'rb') as f:\n",
        "    x_wine, y_wine = pickle.load(f)"
      ]
    },
    {
      "cell_type": "code",
      "execution_count": 9,
      "metadata": {},
      "outputs": [
        {
          "name": "stdout",
          "output_type": "stream",
          "text": [
            "[0 3 3 ... 3 1 1]\n"
          ]
        }
      ],
      "source": [
        "from sklearn.preprocessing import LabelEncoder\n",
        "\n",
        "\n",
        "# Create an instance of LabelEncoder\n",
        "encoder = LabelEncoder()\n",
        "\n",
        "# Fit the encoder to the data and transform the labels\n",
        "y_wine = encoder.fit_transform(y_wine)\n",
        "\n",
        "# Print the encoded labels\n",
        "print(y_wine)\n"
      ]
    },
    {
      "attachments": {},
      "cell_type": "markdown",
      "metadata": {
        "id": "tHg0NYkn-4CK"
      },
      "source": [
        "Definindo as restrições "
      ]
    },
    {
      "cell_type": "code",
      "execution_count": 10,
      "metadata": {},
      "outputs": [],
      "source": [
        "DIMENSIONS = 16"
      ]
    },
    {
      "cell_type": "code",
      "execution_count": 11,
      "metadata": {
        "id": "BkFUaoY1fTFl"
      },
      "outputs": [],
      "source": [
        "\n",
        "n_estimators_max = 1000\n",
        "learning_rate_max = 0.6\n",
        "subsample_max = 1.0\n",
        "colsample_bytree_max = 1.0\n",
        "gamma_max = 0.5\n",
        "max_depth_max = 10\n",
        "min_child_weight_max = 10\n",
        "reg_alpha_max = 0.1\n",
        "reg_lambda_max = 1\n",
        "scale_pos_weight_max = 10\n",
        "base_score_max = 1\n",
        "\n",
        "\n",
        "\n",
        "\n",
        "\n",
        "n_estimators_min = 10\n",
        "learning_rate_min = 0.0001\n",
        "subsample_min = 0.6\n",
        "colsample_bytree_min = 0.6\n",
        "gamma_min = 0\n",
        "max_depth_min = 3\n",
        "min_child_weight_min = 1\n",
        "reg_alpha_min = 0\n",
        "reg_lambda_min = 0\n",
        "scale_pos_weight_min = 1\n",
        "base_score_min = 0\n"
      ]
    },
    {
      "attachments": {},
      "cell_type": "markdown",
      "metadata": {
        "id": "xSbKK_Og-7Oe"
      },
      "source": [
        "Definindo o problema"
      ]
    },
    {
      "cell_type": "code",
      "execution_count": 12,
      "metadata": {
        "id": "Elrs3UT_j7t6"
      },
      "outputs": [],
      "source": [
        "import numpy as np\n",
        "from pymoo.core.problem import ElementwiseProblem\n",
        "\n",
        "class OptimizeWithAccuracy(ElementwiseProblem):\n",
        "\n",
        "    def __init__(self):\n",
        "        super().__init__(n_var= 11,\n",
        "                         n_obj=1,\n",
        "                         n_constr=11,\n",
        "                         xl=np.array([\n",
        "                          n_estimators_min,\n",
        "                            learning_rate_min,\n",
        "                            subsample_min,\n",
        "                            colsample_bytree_min,\n",
        "                            gamma_min,\n",
        "                            max_depth_min,\n",
        "                            min_child_weight_min,\n",
        "                            reg_alpha_min,\n",
        "                            reg_lambda_min,\n",
        "                            scale_pos_weight_min,\n",
        "                            base_score_min\n",
        "                          ]),\n",
        "                         xu=np.array([\n",
        "                            n_estimators_max,\n",
        "                            learning_rate_max,\n",
        "                            subsample_max,\n",
        "                            colsample_bytree_max,\n",
        "                            gamma_max,\n",
        "                            max_depth_max,\n",
        "                            min_child_weight_max,\n",
        "                            reg_alpha_max,\n",
        "                            reg_lambda_max,\n",
        "                            scale_pos_weight_max,\n",
        "                            base_score_max,\n",
        "                            ])\n",
        "                        )\n",
        "\n",
        "    def _evaluate(self, x, out, *args, **kwargs):\n",
        "        #num_leaves, min_child_samples, n_estimators, learning_rate, subsample_for_bin, min_split_gain, min_child_weight, reg_alpha, reg_lambda\n",
        "       \n",
        "        model_xgboost = xgb.XGBClassifier(\n",
        "                            n_estimators = int(np.round(x[0])),\n",
        "                            learning_rate = x[1],\n",
        "                            subsample = x[2],\n",
        "                            colsample_bytree = x[2],\n",
        "                            gamma = x[3],\n",
        "                            max_depth = special_floor(x[4]),\n",
        "                            min_child_weight = int(np.round(x[5])),\n",
        "                            reg_alpha = x[6],\n",
        "                            reg_lambda = x[7],\n",
        "                            scale_pos_weight = int(x[8]),\n",
        "                            base_score       = x[9],\n",
        "                            n_jobs = -1\n",
        "                                       )\n",
        "        \n",
        "        kfold = KFold(n_splits = 3, shuffle = True)\n",
        "        \n",
        "        scores = cross_val_score(model_xgboost, x_wine, y_wine, cv = kfold, n_jobs=-1)  \n",
        "        result = scores.mean()\n",
        "        #if not result:\n",
        "        #  result = 0\n",
        "        \n",
        "        out['F'] = -1 * result\n",
        "\n",
        "problemAccuracy = OptimizeWithAccuracy()"
      ]
    },
    {
      "cell_type": "code",
      "execution_count": 13,
      "metadata": {},
      "outputs": [],
      "source": [
        "import numpy as np\n",
        "from pymoo.core.problem import ElementwiseProblem\n",
        "\n",
        "class OptimizeWithF1(ElementwiseProblem):\n",
        "\n",
        "    def __init__(self):\n",
        "        super().__init__(n_var= 11,\n",
        "                         n_obj=1,\n",
        "                         n_constr=11,\n",
        "                         xl=np.array([\n",
        "                          n_estimators_min,\n",
        "                            learning_rate_min,\n",
        "                            subsample_min,\n",
        "                            colsample_bytree_min,\n",
        "                            gamma_min,\n",
        "                            max_depth_min,\n",
        "                            min_child_weight_min,\n",
        "                            reg_alpha_min,\n",
        "                            reg_lambda_min,\n",
        "                            scale_pos_weight_min,\n",
        "                            base_score_min\n",
        "                          ]),\n",
        "                         xu=np.array([\n",
        "                            n_estimators_max,\n",
        "                            learning_rate_max,\n",
        "                            subsample_max,\n",
        "                            colsample_bytree_max,\n",
        "                            gamma_max,\n",
        "                            max_depth_max,\n",
        "                            min_child_weight_max,\n",
        "                            reg_alpha_max,\n",
        "                            reg_lambda_max,\n",
        "                            scale_pos_weight_max,\n",
        "                            base_score_max,\n",
        "                            ])\n",
        "                        )\n",
        "\n",
        "    def _evaluate(self, x, out, *args, **kwargs):\n",
        "        #num_leaves, min_child_samples, n_estimators, learning_rate, subsample_for_bin, min_split_gain, min_child_weight, reg_alpha, reg_lambda\n",
        "       \n",
        "        model_xgboost = xgb.XGBClassifier(\n",
        "                            n_estimators = int(np.round(x[0])),\n",
        "                            learning_rate = x[1],\n",
        "                            subsample = x[2],\n",
        "                            colsample_bytree = x[2],\n",
        "                            gamma = x[3],\n",
        "                            max_depth = special_floor(x[4]),\n",
        "                            min_child_weight = int(np.round(x[5])),\n",
        "                            reg_alpha = x[6],\n",
        "                            reg_lambda = x[7],\n",
        "                            scale_pos_weight = int(x[8]),\n",
        "                            base_score       = x[9],\n",
        "                            n_jobs = -1\n",
        "                                       )\n",
        "        \n",
        "        kfold = KFold(n_splits = 3, shuffle = True)\n",
        "\n",
        "        scores = cross_val_score(model_xgboost, x_wine, y_wine, cv = kfold, scoring='f1_weighted', n_jobs=-1)  \n",
        "        result = scores.mean()\n",
        "        out['F'] = -1 * result\n",
        "\n",
        "problemF1 = OptimizeWithF1()"
      ]
    },
    {
      "cell_type": "code",
      "execution_count": 14,
      "metadata": {},
      "outputs": [],
      "source": [
        "import numpy as np\n",
        "from pymoo.core.problem import ElementwiseProblem\n",
        "\n",
        "class OptimizeWithAUC(ElementwiseProblem):\n",
        "\n",
        "    def __init__(self):\n",
        "        super().__init__(n_var= 11,\n",
        "                         n_obj=1,\n",
        "                         n_constr=11,\n",
        "                         xl=np.array([\n",
        "                          n_estimators_min,\n",
        "                            learning_rate_min,\n",
        "                            subsample_min,\n",
        "                            colsample_bytree_min,\n",
        "                            gamma_min,\n",
        "                            max_depth_min,\n",
        "                            min_child_weight_min,\n",
        "                            reg_alpha_min,\n",
        "                            reg_lambda_min,\n",
        "                            scale_pos_weight_min,\n",
        "                            base_score_min\n",
        "                          ]),\n",
        "                         xu=np.array([\n",
        "                            n_estimators_max,\n",
        "                            learning_rate_max,\n",
        "                            subsample_max,\n",
        "                            colsample_bytree_max,\n",
        "                            gamma_max,\n",
        "                            max_depth_max,\n",
        "                            min_child_weight_max,\n",
        "                            reg_alpha_max,\n",
        "                            reg_lambda_max,\n",
        "                            scale_pos_weight_max,\n",
        "                            base_score_max,\n",
        "                            ])\n",
        "                        )\n",
        "\n",
        "    def _evaluate(self, x, out, *args, **kwargs):\n",
        "        #num_leaves, min_child_samples, n_estimators, learning_rate, subsample_for_bin, min_split_gain, min_child_weight, reg_alpha, reg_lambda\n",
        "       \n",
        "        model_xgboost = xgb.XGBClassifier(\n",
        "                            n_estimators = int(np.round(x[0])),\n",
        "                            learning_rate = x[1],\n",
        "                            subsample = x[2],\n",
        "                            colsample_bytree = x[2],\n",
        "                            gamma = x[3],\n",
        "                            max_depth = special_floor(x[4]),\n",
        "                            min_child_weight = int(np.round(x[5])),\n",
        "                            reg_alpha = x[6],\n",
        "                            reg_lambda = x[7],\n",
        "                            scale_pos_weight = int(x[8]),\n",
        "                            base_score       = x[9],\n",
        "                            n_jobs = -1\n",
        "                                       )\n",
        "\n",
        "        \n",
        "        kfold = KFold(n_splits = 3, shuffle = True)\n",
        "  \n",
        "        scores = cross_val_score(model_xgboost, x_wine, y_wine, cv = kfold, scoring='roc_auc_ovr_weighted', n_jobs=-1)  \n",
        "        \n",
        "        result = scores.mean()\n",
        "\n",
        "        out['F'] = -1 * result\n",
        "\n",
        "problemAUC = OptimizeWithAUC()"
      ]
    },
    {
      "cell_type": "code",
      "execution_count": 15,
      "metadata": {},
      "outputs": [],
      "source": [
        "from pymoo.util.display.column import Column\n",
        "from pymoo.util.display.output import Output"
      ]
    },
    {
      "cell_type": "code",
      "execution_count": 16,
      "metadata": {},
      "outputs": [],
      "source": [
        "class MyOutput(Output):\n",
        "\n",
        "    def __init__(self):\n",
        "        super().__init__()\n",
        "        global pbar \n",
        "        pbar = tqdm(total=ITERATIONS)\n",
        "        self.score = Column(\"score\", width=13)\n",
        "        self.Parameters = Column(\"Parameters\", width=35)\n",
        "        self.columns += [self.score, self.Parameters]\n",
        "\n",
        "    def update(self, algorithm):\n",
        "        super().update(algorithm)\n",
        "        self.score.set(-np.min(algorithm.pop.get(\"F\")))\n",
        "        #self.Parameters.set(algorithm.pop.get(\"X\")[0])\n",
        "        pbar.update(1)\n",
        "        if pbar.n == ITERATIONS: pbar.close()"
      ]
    },
    {
      "attachments": {},
      "cell_type": "markdown",
      "metadata": {
        "id": "_HsPc7BH-MWL"
      },
      "source": [
        "## Particle Swarm Optimization (PSO)"
      ]
    },
    {
      "attachments": {},
      "cell_type": "markdown",
      "metadata": {},
      "source": [
        "### Acurácia"
      ]
    },
    {
      "cell_type": "code",
      "execution_count": 17,
      "metadata": {},
      "outputs": [],
      "source": [
        "import pyswarms as ps\n",
        "from pyswarms.utils.functions import single_obj as fx\n",
        "import numpy as np"
      ]
    },
    {
      "cell_type": "code",
      "execution_count": 18,
      "metadata": {},
      "outputs": [],
      "source": [
        "xl=np.array([n_estimators_min,\n",
        "             learning_rate_min,\n",
        "             subsample_min,\n",
        "             colsample_bytree_min,\n",
        "             gamma_min,\n",
        "             max_depth_min,\n",
        "             min_child_weight_min,\n",
        "             reg_alpha_min,\n",
        "             reg_lambda_min,\n",
        "             scale_pos_weight_min,\n",
        "             base_score_min])\n",
        "xu=np.array([n_estimators_max,\n",
        "             learning_rate_max,\n",
        "             subsample_max,\n",
        "             colsample_bytree_max,\n",
        "             gamma_max,\n",
        "             max_depth_max,\n",
        "             min_child_weight_max,\n",
        "             reg_alpha_max,\n",
        "             reg_lambda_max,\n",
        "             scale_pos_weight_max,\n",
        "             base_score_max])"
      ]
    },
    {
      "cell_type": "code",
      "execution_count": 19,
      "metadata": {},
      "outputs": [],
      "source": [
        "def PSO_Optimize_Accuracy(values):\n",
        "    x = values[0] \n",
        "    model_xgboost = xgb.XGBClassifier(\n",
        "                        n_estimators = int(np.round(x[0])),\n",
        "                        learning_rate = x[1],\n",
        "                        subsample = x[2],\n",
        "                        colsample_bytree = x[2],\n",
        "                        gamma = x[3],\n",
        "                        max_depth = special_floor(x[4]),\n",
        "                        min_child_weight = int(np.round(x[5])),\n",
        "                        reg_alpha = x[6],\n",
        "                        reg_lambda = x[7],\n",
        "                        scale_pos_weight = int(x[8]),\n",
        "                        base_score       = x[9],\n",
        "                        n_jobs = -1\n",
        "                                    )\n",
        "    \n",
        "    kfold = KFold(n_splits = 10, shuffle = True)\n",
        "    \n",
        "    scores = cross_val_score(model_xgboost, x_wine, y_wine, cv = kfold, n_jobs=-1)  \n",
        "    result = scores.mean()     \n",
        "\n",
        "    return -result"
      ]
    },
    {
      "cell_type": "code",
      "execution_count": 20,
      "metadata": {},
      "outputs": [],
      "source": [
        "def PSO_Optimize_F1(values):\n",
        "    x = values[0] \n",
        "    model_xgboost = xgb.XGBClassifier(\n",
        "                        n_estimators = int(np.round(x[0])),\n",
        "                        learning_rate = x[1],\n",
        "                        subsample = x[2],\n",
        "                        colsample_bytree = x[2],\n",
        "                        gamma = x[3],\n",
        "                        max_depth = special_floor(x[4]),\n",
        "                        min_child_weight = int(np.round(x[5])),\n",
        "                        reg_alpha = x[6],\n",
        "                        reg_lambda = x[7],\n",
        "                        scale_pos_weight = int(x[8]),\n",
        "                        base_score       = x[9],\n",
        "                        n_jobs = -1\n",
        "                                    )\n",
        "    \n",
        "    kfold = KFold(n_splits = 10, shuffle = True)\n",
        "    \n",
        "    scores = cross_val_score(model_xgboost,  x_wine, y_wine, cv = kfold, n_jobs=-1, scoring='f1_weighted')  \n",
        "    result = scores.mean()     \n",
        "\n",
        "    return -result"
      ]
    },
    {
      "cell_type": "code",
      "execution_count": 21,
      "metadata": {},
      "outputs": [],
      "source": [
        "def PSO_Optimize_AUC(values):\n",
        "    x = values[0] \n",
        "    model_xgboost = xgb.XGBClassifier(\n",
        "                        n_estimators = int(np.round(x[0])),\n",
        "                        learning_rate = x[1],\n",
        "                        subsample = x[2],\n",
        "                        colsample_bytree = x[2],\n",
        "                        gamma = x[3],\n",
        "                        max_depth = special_floor(x[4]),\n",
        "                        min_child_weight = int(np.round(x[5])),\n",
        "                        reg_alpha = x[6],\n",
        "                        reg_lambda = x[7],\n",
        "                        scale_pos_weight = int(x[8]),\n",
        "                        base_score       = x[9],\n",
        "                        n_jobs = -1\n",
        "                                    )\n",
        "    \n",
        "    kfold = KFold(n_splits = 10, shuffle = True)\n",
        "    \n",
        "    scores = cross_val_score(model_xgboost, x_wine, y_wine, cv = kfold, n_jobs=-1, scoring='roc_auc_ovr_weighted')  \n",
        "    result = scores.mean()     \n",
        "\n",
        "    return -result"
      ]
    },
    {
      "cell_type": "code",
      "execution_count": 22,
      "metadata": {},
      "outputs": [],
      "source": [
        "def run_accuracy_pso():\n",
        "    # Call an instance of PSO\n",
        "    swarm_size = 32\n",
        "    iters = 32\n",
        "    dim = 11\n",
        "    options = {'c1': 1.5, 'c2':1.5, 'w':0.5}\n",
        "    constraints = (xl,xu)\n",
        "\n",
        "    optimizer = ps.single.GlobalBestPSO(n_particles=swarm_size,\n",
        "                                        dimensions=dim,\n",
        "                                        options=options,\n",
        "                                        bounds=constraints)\n",
        "    cost, joint_vars = optimizer.optimize(objective_func = PSO_Optimize_Accuracy, iters=iters)\n",
        "    return -cost"
      ]
    },
    {
      "cell_type": "code",
      "execution_count": 23,
      "metadata": {},
      "outputs": [],
      "source": [
        "def run_auc_pso():\n",
        "    # Call an instance of PSO\n",
        "    swarm_size = 32\n",
        "    iters = 32\n",
        "    dim = 11\n",
        "    options = {'c1': 1.5, 'c2':1.5, 'w':0.5}\n",
        "    constraints = (xl,xu)\n",
        "\n",
        "    optimizer = ps.single.GlobalBestPSO(n_particles=swarm_size,\n",
        "                                        dimensions=dim,\n",
        "                                        options=options,\n",
        "                                        bounds=constraints)\n",
        "    cost, joint_vars = optimizer.optimize(objective_func = PSO_Optimize_AUC, iters=iters)\n",
        "    return -cost"
      ]
    },
    {
      "cell_type": "code",
      "execution_count": 24,
      "metadata": {},
      "outputs": [],
      "source": [
        "def run_f1_pso():\n",
        "    # Call an instance of PSO\n",
        "    swarm_size = 32\n",
        "    iters = 32\n",
        "    dim = 11\n",
        "    options = {'c1': 1.5, 'c2':1.5, 'w':0.5}\n",
        "    constraints = (xl,xu)\n",
        "\n",
        "    optimizer = ps.single.GlobalBestPSO(n_particles=swarm_size,\n",
        "                                        dimensions=dim,\n",
        "                                        options=options,\n",
        "                                        bounds=constraints)\n",
        "    cost, joint_vars = optimizer.optimize(objective_func = PSO_Optimize_F1, iters=iters)\n",
        "    return -cost"
      ]
    },
    {
      "attachments": {},
      "cell_type": "markdown",
      "metadata": {
        "id": "iTAAhn6w-Be4"
      },
      "source": [
        "## Algoritmo Genético (GA)"
      ]
    },
    {
      "attachments": {},
      "cell_type": "markdown",
      "metadata": {},
      "source": [
        "### Acurácia"
      ]
    },
    {
      "cell_type": "code",
      "execution_count": 25,
      "metadata": {
        "id": "1iXezRJUgWiM"
      },
      "outputs": [],
      "source": [
        "ITERATIONS = 32\n",
        "POPULATION = 32"
      ]
    },
    {
      "cell_type": "code",
      "execution_count": 26,
      "metadata": {},
      "outputs": [],
      "source": [
        "from pymoo.algorithms.soo.nonconvex.ga import GA"
      ]
    },
    {
      "cell_type": "code",
      "execution_count": 27,
      "metadata": {
        "colab": {
          "base_uri": "https://localhost:8080/",
          "height": 848,
          "referenced_widgets": [
            "12434838d89048188eefe1af0332bfd6",
            "b6288aa156624b108015ab993c54d52b",
            "f45e5f0d4187404fb8f63acd3c26fe17",
            "aaa16b6dbffd42ef973b1826e5ed2242",
            "8721e5217b97444d948e5b85c6fd53c7",
            "d25235d18f8045de9948417d13538ef3",
            "01d3490253a8464281845cb171385d59",
            "7f079b743c6e4ad897ae55ba366a15b9",
            "54cbbc7ffbcc401abfbf3167f882019e",
            "d539e4a476cb4ae28e78769b17b97aa9",
            "fb379b55e7bd4b3bb7ed4b0ec6390b2e"
          ]
        },
        "id": "TK9YdWdMfAw3",
        "outputId": "60624262-0c77-4e32-8106-540ea70cd8f9"
      },
      "outputs": [],
      "source": [
        "def run_accuracy_ga(ITERATIONS = 32, POPULATION = 32):\n",
        "\n",
        "    algorithm = GA(pop_size=POPULATION)\n",
        "\n",
        "    term = get_termination(\"n_gen\", ITERATIONS)\n",
        "\n",
        "    res = minimize(problemAccuracy,\n",
        "                algorithm,\n",
        "                save_history=False,\n",
        "                verbose=True,\n",
        "                output=MyOutput(),\n",
        "                termination = term)\n",
        "\n",
        "\n",
        "    index_best_individual = np.where(res.pop.get('F') == np.min(res.pop.get('F')))[0][0]\n",
        "    score_best_individual = res.pop.get('F')[index_best_individual]\n",
        "    parameters_best_individual = res.pop.get('X')[index_best_individual]\n",
        "\n",
        "    #print(f'Best Accuracy Score {-score_best_individual}')\n",
        "    #print(f'Model parameters: \\n {parameters_best_individual}')\n",
        "    \n",
        "    return score_best_individual, parameters_best_individual, res"
      ]
    },
    {
      "cell_type": "code",
      "execution_count": 28,
      "metadata": {
        "colab": {
          "base_uri": "https://localhost:8080/",
          "height": 364
        },
        "id": "Aw1RtuhKgPkR",
        "outputId": "6b173010-6841-44be-fc9c-1e08c709308c"
      },
      "outputs": [],
      "source": [
        "#tracking = [-np.min(individual.pop.get('F')) for individual in res.history ]\n",
        "#tracking_GA_Accuracy = tracking\n",
        "#plt.plot(tracking)"
      ]
    },
    {
      "cell_type": "code",
      "execution_count": 29,
      "metadata": {
        "id": "EuxPTJqU95Ib"
      },
      "outputs": [],
      "source": [
        "#trlist = np.array([])\n",
        "#for i in range(len(res.history)):\n",
        "#  trlist = np.append(trlist, -res.history[i].pop.get('F').reshape(-1)) "
      ]
    },
    {
      "cell_type": "code",
      "execution_count": 30,
      "metadata": {
        "id": "COvG1svS97RF"
      },
      "outputs": [],
      "source": [
        "#scorelist = []\n",
        "#\n",
        "#for i in range(len(trlist)):\n",
        "#  if i == 0:\n",
        "#    scorelist.append(trlist[i])\n",
        "#  elif trlist[i] > scorelist[i-1]:\n",
        "#    scorelist.append(trlist[i])\n",
        "#  else:\n",
        "#    scorelist.append(scorelist[i-1])"
      ]
    },
    {
      "cell_type": "code",
      "execution_count": 31,
      "metadata": {
        "id": "P4ubDrqPGUnS"
      },
      "outputs": [],
      "source": [
        "#Accuracy_GA = scorelist"
      ]
    },
    {
      "cell_type": "code",
      "execution_count": 32,
      "metadata": {
        "colab": {
          "base_uri": "https://localhost:8080/",
          "height": 347
        },
        "id": "N3xxFM4e99pt",
        "outputId": "e0d19dc9-1416-42a5-c33f-945a66a17ee0"
      },
      "outputs": [],
      "source": [
        "#plt.plot(scorelist);"
      ]
    },
    {
      "attachments": {},
      "cell_type": "markdown",
      "metadata": {},
      "source": [
        "### F1 Score "
      ]
    },
    {
      "cell_type": "code",
      "execution_count": 33,
      "metadata": {},
      "outputs": [],
      "source": [
        "from pymoo.algorithms.soo.nonconvex.ga import GA\n",
        "def run_f1_ga(ITERATIONS = 32, POPULATION = 32):\n",
        "    algorithm = GA(pop_size=POPULATION)\n",
        "\n",
        "    term = get_termination(\"n_gen\", ITERATIONS)\n",
        "\n",
        "    res = minimize(problemF1,\n",
        "                algorithm,\n",
        "                save_history=False,\n",
        "                verbose=False,\n",
        "                output=MyOutput(),\n",
        "                termination = term)\n",
        "\n",
        "\n",
        "    index_best_individual = np.where(res.pop.get('F') == np.min(res.pop.get('F')))[0][0]\n",
        "    score_best_individual = res.pop.get('F')[index_best_individual]\n",
        "    parameters_best_individual = res.pop.get('X')[index_best_individual]\n",
        "\n",
        "    #print(f'Best F1 Score {-score_best_individual}')\n",
        "    #print(f'Model parameters: \\n {parameters_best_individual}')\n",
        "    \n",
        "    return score_best_individual, parameters_best_individual, res"
      ]
    },
    {
      "cell_type": "code",
      "execution_count": 34,
      "metadata": {},
      "outputs": [],
      "source": [
        "#trlist = np.array([])\n",
        "#for i in range(len(res.history)):\n",
        "#  trlist = np.append(trlist, -res.history[i].pop.get('F').reshape(-1)) \n",
        "#  \n",
        "#scorelist = []\n",
        "#\n",
        "#for i in range(len(trlist)):\n",
        "##for i in range(1):\n",
        "#  if i == 0:\n",
        "#    scorelist.append(trlist[i])\n",
        "#  elif trlist[i] > scorelist[i-1]:\n",
        "#    scorelist.append(trlist[i])\n",
        "#  else:\n",
        "#    scorelist.append(scorelist[i-1])\n",
        "#    \n",
        "#F1_GA = scorelist\n",
        "#\n",
        "#plt.plot(scorelist);"
      ]
    },
    {
      "cell_type": "code",
      "execution_count": 35,
      "metadata": {},
      "outputs": [],
      "source": [
        "#tracking = [-np.min(individual.pop.get('F')) for individual in res.history ]\n",
        "#tracking_GA_F1 = tracking\n",
        "#plt.plot(tracking)"
      ]
    },
    {
      "attachments": {},
      "cell_type": "markdown",
      "metadata": {},
      "source": [
        "### AUC"
      ]
    },
    {
      "cell_type": "code",
      "execution_count": 36,
      "metadata": {},
      "outputs": [],
      "source": [
        "from pymoo.algorithms.soo.nonconvex.ga import GA\n",
        "def run_auc_ga(ITERATIONS = 32, POPULATION = 32):\n",
        "    algorithm = GA(pop_size=POPULATION)\n",
        "\n",
        "    term = get_termination(\"n_gen\", ITERATIONS)\n",
        "\n",
        "    res = minimize(problemAUC,\n",
        "                algorithm,\n",
        "                save_history=False,\n",
        "                verbose=False,\n",
        "                output=MyOutput(),\n",
        "                termination = term)\n",
        "\n",
        "    \n",
        "    index_best_individual = np.where(res.pop.get('F') == np.min(res.pop.get('F')))[0][0]\n",
        "    score_best_individual = res.pop.get('F')[index_best_individual]\n",
        "    parameters_best_individual = res.pop.get('X')[index_best_individual]\n",
        "\n",
        "    #print(f'Best AUC Score {-score_best_individual}')\n",
        "    #print(f'Model parameters: \\n {parameters_best_individual}')\n",
        "    \n",
        "    return score_best_individual, parameters_best_individual, res"
      ]
    },
    {
      "cell_type": "code",
      "execution_count": 37,
      "metadata": {},
      "outputs": [],
      "source": [
        "#trlist = np.array([])\n",
        "#for i in range(len(res.history)):\n",
        "#  trlist = np.append(trlist, -res.history[i].pop.get('F').reshape(-1)) \n",
        "#  \n",
        "#scorelist = []\n",
        "#\n",
        "#for i in range(len(trlist)):\n",
        "##for i in range(1):\n",
        "#  if i == 0:\n",
        "#    scorelist.append(trlist[i])\n",
        "#  elif trlist[i] > scorelist[i-1]:\n",
        "#    scorelist.append(trlist[i])\n",
        "#  else:\n",
        "#    scorelist.append(scorelist[i-1])\n",
        "#    \n",
        "#AUC_GA = scorelist\n",
        "#\n",
        "#plt.plot(scorelist);"
      ]
    },
    {
      "cell_type": "code",
      "execution_count": 38,
      "metadata": {},
      "outputs": [],
      "source": [
        "#tracking = [-np.min(individual.pop.get('F')) for individual in res.history ]\n",
        "#tracking_GA_AUC = tracking\n",
        "#plt.plot(tracking)"
      ]
    },
    {
      "attachments": {},
      "cell_type": "markdown",
      "metadata": {
        "id": "F-WtiEIO0kFu"
      },
      "source": [
        "## Grid Search"
      ]
    },
    {
      "attachments": {},
      "cell_type": "markdown",
      "metadata": {},
      "source": [
        "### Acurácia"
      ]
    },
    {
      "cell_type": "code",
      "execution_count": 39,
      "metadata": {
        "id": "OvuV46Aa0dBR"
      },
      "outputs": [],
      "source": [
        "from sklearn.model_selection import GridSearchCV"
      ]
    },
    {
      "cell_type": "code",
      "execution_count": 40,
      "metadata": {
        "colab": {
          "base_uri": "https://localhost:8080/"
        },
        "id": "X4nK3alPCEQm",
        "outputId": "ece560c4-eb7c-4e23-e62a-b9423bd07386"
      },
      "outputs": [],
      "source": [
        "#n_possibilities = 2\n",
        "#\n",
        "##num_leaves_grid = [i for i in range(num_leaves_min,num_leaves_max, int((num_leaves_max)/13))]\n",
        "#num_leaves_grid = [i for i in map(lambda x: int(x), np.linspace(num_leaves_min, num_leaves_max, n_possibilities))]\n",
        "#num_leaves_grid = num_leaves_grid + [100, 50, 75, 125, 11,150]\n",
        "##print('Num_Leaves_Grid: ')\n",
        "##print(num_leaves_grid, len(num_leaves_grid))\n",
        "##print('\\n')\n",
        "#\n",
        "#\n",
        "#min_child_samples_grid = [i for i in map(lambda x: int(x), np.linspace(min_child_samples_min, min_child_samples_max, n_possibilities))]\n",
        "##print('min_child_samples_grid:')\n",
        "##print(min_child_samples_grid, len(min_child_samples_grid))\n",
        "##print('\\n')\n",
        "#\n",
        "#n_estimators_grid = [i for i in map(lambda x: int(x), np.linspace(n_estimators_min, n_estimators_max, n_possibilities))]\n",
        "##print('n_estimators_grid:')\n",
        "##print(n_estimators_grid, len(n_estimators_grid))\n",
        "##print('\\n')\n",
        "#\n",
        "#learning_rate_grid = np.linspace(learning_rate_min, learning_rate_max, n_possibilities)\n",
        "##print('learning_rate_grid:')\n",
        "##print(learning_rate_grid, len(learning_rate_grid))\n",
        "##print('\\n')\n",
        "#\n",
        "#subsample_for_bin_grid = [i for i in map(lambda x: int(x), np.linspace(subsample_for_bin_min, subsample_for_bin_max, n_possibilities))]\n",
        "##print('subsample_for_bin_grid:')\n",
        "##print(subsample_for_bin_grid, len(subsample_for_bin_grid))\n",
        "##print('\\n')\n",
        "#\n",
        "#min_split_gain_grid = np.linspace(min_split_gain_min, min_split_gain_max, n_possibilities)\n",
        "##print('min_split_gain_grid:')\n",
        "##print(min_split_gain_grid, len(min_split_gain_grid))\n",
        "##print('\\n')\n",
        "#\n",
        "#min_child_weight_grid = np.linspace(min_child_weight_min, min_child_weight_max, n_possibilities)\n",
        "##print('min_child_weight_grid:')\n",
        "##print(min_child_weight_grid, len(min_child_weight_grid))\n",
        "##print('\\n')\n",
        "#\n",
        "#reg_alpha_grid = np.linspace(reg_alpha_min, reg_alpha_max, n_possibilities)\n",
        "##print('reg_alpha_grid:')\n",
        "##print(reg_alpha_grid, len(reg_alpha_grid))\n",
        "##print('\\n')\n"
      ]
    },
    {
      "cell_type": "code",
      "execution_count": 41,
      "metadata": {
        "id": "sWL2gq5M0jmq"
      },
      "outputs": [],
      "source": [
        "#parametros = {'num_leaves': num_leaves_grid, #int\n",
        "#              'min_child_samples': min_child_samples_grid,#int\n",
        "#              'n_estimators': n_estimators_grid, #int\n",
        "#              'learning_rate': learning_rate_grid,\n",
        "#              'subsample_for_bin': subsample_for_bin_grid, # int\n",
        "#              'min_split_gain': min_split_gain_grid,\n",
        "#              'min_child_weight': min_child_weight_grid,\n",
        "#              'reg_alpha': reg_alpha_grid,\n",
        "#              'max_depth': [-1],\n",
        "#              'n_jobs': [-1]}"
      ]
    },
    {
      "cell_type": "code",
      "execution_count": 42,
      "metadata": {
        "colab": {
          "base_uri": "https://localhost:8080/"
        },
        "id": "Cg8ZpgTM0tK7",
        "outputId": "efa2aaa1-3397-45fe-83c3-2eea6127b6a7"
      },
      "outputs": [],
      "source": [
        "#kfold = KFold(n_splits = 3, shuffle = True)\n",
        "#grid_search = GridSearchCV(estimator = lgb.LGBMClassifier(), param_grid = parametros, cv = kfold, n_jobs= -1, verbose = 3)\n",
        "#grid_search.fit(x_wine, y_wine)\n",
        "#melhores_parametros = grid_search.best_params_\n",
        "#melhor_resultado = grid_search.best_score_\n",
        "##print(melhores_parametros)\n",
        "##print(melhor_resultado)"
      ]
    },
    {
      "cell_type": "code",
      "execution_count": 43,
      "metadata": {
        "colab": {
          "base_uri": "https://localhost:8080/"
        },
        "id": "ekOamIhnrFd5",
        "outputId": "4d91ab89-5f11-4dc4-d71b-3837ba0cd1e9"
      },
      "outputs": [],
      "source": [
        "#grid_search.cv_results_.keys()"
      ]
    },
    {
      "cell_type": "code",
      "execution_count": 44,
      "metadata": {
        "id": "uo45HhIasnc4"
      },
      "outputs": [],
      "source": [
        "#trlist = grid_search.cv_results_['mean_test_score']"
      ]
    },
    {
      "cell_type": "code",
      "execution_count": 45,
      "metadata": {
        "id": "k0PjBeFHIqKw"
      },
      "outputs": [],
      "source": [
        "#scorelist = []\n",
        "#\n",
        "#for i in range(len(trlist)):\n",
        "##for i in range(1):\n",
        "#  if i == 0:\n",
        "#    scorelist.append(trlist[i])\n",
        "#  elif trlist[i] > scorelist[i-1]:\n",
        "#    scorelist.append(trlist[i])\n",
        "#  else:\n",
        "#    scorelist.append(scorelist[i-1])"
      ]
    },
    {
      "cell_type": "code",
      "execution_count": 46,
      "metadata": {
        "colab": {
          "base_uri": "https://localhost:8080/"
        },
        "id": "xjb_n_Hkr3WK",
        "outputId": "91f6887b-7c92-4b1d-8719-825d2ce7d88e"
      },
      "outputs": [],
      "source": [
        "#tracking_GS_Accuracy = scorelist\n",
        "#plt.plot(scorelist); "
      ]
    },
    {
      "attachments": {},
      "cell_type": "markdown",
      "metadata": {},
      "source": [
        "### F1 Score"
      ]
    },
    {
      "cell_type": "code",
      "execution_count": 47,
      "metadata": {},
      "outputs": [],
      "source": [
        "#kfold = KFold(n_splits = 3, shuffle = True)\n",
        "#grid_search = GridSearchCV(estimator = lgb.LGBMClassifier(), param_grid = parametros, cv = kfold, n_jobs= -1, scoring='f1', verbose = 3)\n",
        "#grid_search.fit(x_wine, y_wine)\n",
        "#melhores_parametros = grid_search.best_params_\n",
        "#melhor_resultado = grid_search.best_score_\n",
        "##print(melhores_parametros)\n",
        "##print(melhor_resultado)\n",
        "#\n",
        "#trlist = grid_search.cv_results_['mean_test_score']\n",
        "#\n",
        "#\n",
        "#scorelist = []\n",
        "#\n",
        "#for i in range(len(trlist)):\n",
        "##for i in range(1):\n",
        "#  if i == 0:\n",
        "#    scorelist.append(trlist[i])\n",
        "#  elif trlist[i] > scorelist[i-1]:\n",
        "#    scorelist.append(trlist[i])\n",
        "#  else:\n",
        "#    scorelist.append(scorelist[i-1])\n",
        "#    \n",
        "#tracking_GS_F1 = scorelist\n",
        "#plt.plot(scorelist); "
      ]
    },
    {
      "attachments": {},
      "cell_type": "markdown",
      "metadata": {},
      "source": [
        "### AUC"
      ]
    },
    {
      "cell_type": "code",
      "execution_count": 48,
      "metadata": {},
      "outputs": [],
      "source": [
        "#kfold = KFold(n_splits = 3, shuffle = True)\n",
        "#grid_search = GridSearchCV(estimator = lgb.LGBMClassifier(), param_grid = parametros, cv = kfold, n_jobs= -1, scoring='roc_auc', verbose = 3)\n",
        "#grid_search.fit(x_wine, y_wine)\n",
        "#melhores_parametros = grid_search.best_params_\n",
        "#melhor_resultado = grid_search.best_score_\n",
        "##print(melhores_parametros)\n",
        "##print(melhor_resultado)\n",
        "#\n",
        "#trlist = grid_search.cv_results_['mean_test_score']\n",
        "#\n",
        "#\n",
        "#scorelist = []\n",
        "#\n",
        "#for i in range(len(trlist)):\n",
        "##for i in range(1):\n",
        "#  if i == 0:\n",
        "#    scorelist.append(trlist[i])\n",
        "#  elif trlist[i] > scorelist[i-1]:\n",
        "#    scorelist.append(trlist[i])\n",
        "#  else:\n",
        "#    scorelist.append(scorelist[i-1])\n",
        "#    \n",
        "#tracking_GS_AUC = scorelist\n",
        "#plt.plot(scorelist); "
      ]
    },
    {
      "attachments": {},
      "cell_type": "markdown",
      "metadata": {
        "id": "vA6kphUO0vcT"
      },
      "source": [
        "## Optuna"
      ]
    },
    {
      "attachments": {},
      "cell_type": "markdown",
      "metadata": {},
      "source": [
        "### Acurácia"
      ]
    },
    {
      "cell_type": "code",
      "execution_count": 49,
      "metadata": {
        "colab": {
          "base_uri": "https://localhost:8080/"
        },
        "id": "AtVNXGxotkiD",
        "outputId": "3eeeb6d4-9bc6-49eb-b3d6-7c9482852c52"
      },
      "outputs": [
        {
          "name": "stdout",
          "output_type": "stream",
          "text": [
            "Requirement already satisfied: optuna in c:\\users\\felps\\appdata\\local\\packages\\pythonsoftwarefoundation.python.3.11_qbz5n2kfra8p0\\localcache\\local-packages\\python311\\site-packages (3.2.0)\n",
            "Requirement already satisfied: alembic>=1.5.0 in c:\\users\\felps\\appdata\\local\\packages\\pythonsoftwarefoundation.python.3.11_qbz5n2kfra8p0\\localcache\\local-packages\\python311\\site-packages (from optuna) (1.11.1)\n",
            "Requirement already satisfied: cmaes>=0.9.1 in c:\\users\\felps\\appdata\\local\\packages\\pythonsoftwarefoundation.python.3.11_qbz5n2kfra8p0\\localcache\\local-packages\\python311\\site-packages (from optuna) (0.9.1)\n",
            "Requirement already satisfied: colorlog in c:\\users\\felps\\appdata\\local\\packages\\pythonsoftwarefoundation.python.3.11_qbz5n2kfra8p0\\localcache\\local-packages\\python311\\site-packages (from optuna) (6.7.0)\n",
            "Requirement already satisfied: numpy in c:\\users\\felps\\appdata\\local\\packages\\pythonsoftwarefoundation.python.3.11_qbz5n2kfra8p0\\localcache\\local-packages\\python311\\site-packages (from optuna) (1.24.3)\n",
            "Requirement already satisfied: packaging>=20.0 in c:\\users\\felps\\appdata\\local\\packages\\pythonsoftwarefoundation.python.3.11_qbz5n2kfra8p0\\localcache\\local-packages\\python311\\site-packages (from optuna) (23.1)\n",
            "Requirement already satisfied: sqlalchemy>=1.3.0 in c:\\users\\felps\\appdata\\local\\packages\\pythonsoftwarefoundation.python.3.11_qbz5n2kfra8p0\\localcache\\local-packages\\python311\\site-packages (from optuna) (2.0.15)\n",
            "Requirement already satisfied: tqdm in c:\\users\\felps\\appdata\\local\\packages\\pythonsoftwarefoundation.python.3.11_qbz5n2kfra8p0\\localcache\\local-packages\\python311\\site-packages (from optuna) (4.65.0)\n",
            "Requirement already satisfied: PyYAML in c:\\users\\felps\\appdata\\local\\packages\\pythonsoftwarefoundation.python.3.11_qbz5n2kfra8p0\\localcache\\local-packages\\python311\\site-packages (from optuna) (6.0)\n",
            "Requirement already satisfied: Mako in c:\\users\\felps\\appdata\\local\\packages\\pythonsoftwarefoundation.python.3.11_qbz5n2kfra8p0\\localcache\\local-packages\\python311\\site-packages (from alembic>=1.5.0->optuna) (1.2.4)\n",
            "Requirement already satisfied: typing-extensions>=4 in c:\\users\\felps\\appdata\\local\\packages\\pythonsoftwarefoundation.python.3.11_qbz5n2kfra8p0\\localcache\\local-packages\\python311\\site-packages (from alembic>=1.5.0->optuna) (4.5.0)\n",
            "Requirement already satisfied: greenlet!=0.4.17 in c:\\users\\felps\\appdata\\local\\packages\\pythonsoftwarefoundation.python.3.11_qbz5n2kfra8p0\\localcache\\local-packages\\python311\\site-packages (from sqlalchemy>=1.3.0->optuna) (2.0.2)\n",
            "Requirement already satisfied: colorama in c:\\users\\felps\\appdata\\local\\packages\\pythonsoftwarefoundation.python.3.11_qbz5n2kfra8p0\\localcache\\local-packages\\python311\\site-packages (from colorlog->optuna) (0.4.6)\n",
            "Requirement already satisfied: MarkupSafe>=0.9.2 in c:\\users\\felps\\appdata\\local\\packages\\pythonsoftwarefoundation.python.3.11_qbz5n2kfra8p0\\localcache\\local-packages\\python311\\site-packages (from Mako->alembic>=1.5.0->optuna) (2.1.2)\n"
          ]
        },
        {
          "name": "stderr",
          "output_type": "stream",
          "text": [
            "\n",
            "[notice] A new release of pip available: 22.3.1 -> 23.1.2\n",
            "[notice] To update, run: C:\\Users\\Felps\\AppData\\Local\\Microsoft\\WindowsApps\\PythonSoftwareFoundation.Python.3.11_qbz5n2kfra8p0\\python.exe -m pip install --upgrade pip\n"
          ]
        }
      ],
      "source": [
        "!pip install optuna"
      ]
    },
    {
      "cell_type": "code",
      "execution_count": 50,
      "metadata": {
        "id": "X_R8NlJD0xYP"
      },
      "outputs": [],
      "source": [
        "import optuna\n",
        "optuna.logging.set_verbosity(optuna.logging.WARNING)\n",
        "import sklearn\n",
        "from sklearn import datasets\n",
        "def objective_accuracy(trial):\n",
        "      \n",
        "      n_estimators = trial.suggest_int('n_estimators', n_estimators_min, n_estimators_max)\n",
        "      learning_rate = trial.suggest_float('learning_rate', learning_rate_min, learning_rate_max)\n",
        "      subsample = trial.suggest_float('subsample', subsample_min, subsample_max)\n",
        "      colsample_bytree = trial.suggest_float('colsample_bytree', colsample_bytree_min, colsample_bytree_max)\n",
        "      gamma = trial.suggest_float('gamma', gamma_min, gamma_max)\n",
        "      max_depth = trial.suggest_int('max_depth', max_depth_min, max_depth_max)\n",
        "      min_child_weight = trial.suggest_int('min_child_weight', min_child_weight_min, min_child_weight_max)\n",
        "      reg_alpha = trial.suggest_float('reg_alpha', reg_alpha_min, reg_alpha_max)\n",
        "      reg_lambda = trial.suggest_float('reg_lambda', reg_lambda_min, reg_lambda_max)\n",
        "      scale_pos_weight = trial.suggest_int('scale_pos_weight', scale_pos_weight_min, scale_pos_weight_max)\n",
        "      base_score = trial.suggest_float('base_score', base_score_min, base_score_max)\n",
        "      \n",
        "      model_xgboost = xgb.XGBClassifier(\n",
        "                        n_estimators = n_estimators,\n",
        "                        learning_rate = learning_rate,\n",
        "                        subsample = subsample,\n",
        "                        colsample_bytree = colsample_bytree,\n",
        "                        gamma = gamma,\n",
        "                        max_depth = max_depth,\n",
        "                        min_child_weight = min_child_weight,\n",
        "                        reg_alpha = reg_alpha,\n",
        "                        reg_lambda = reg_lambda,\n",
        "                        scale_pos_weight = scale_pos_weight,\n",
        "                        base_score = base_score,\n",
        "                        n_jobs = -1\n",
        "                                    )\n",
        "\n",
        "      \n",
        "      kfold = KFold(n_splits = 3, shuffle = True)\n",
        "      \n",
        "      return sklearn.model_selection.cross_val_score(model_xgboost, x_wine, y_wine, n_jobs=-1, cv=kfold).mean()"
      ]
    },
    {
      "cell_type": "code",
      "execution_count": 51,
      "metadata": {
        "colab": {
          "base_uri": "https://localhost:8080/"
        },
        "id": "r62Ch5ng00NT",
        "outputId": "05e8015b-6c79-4043-daf8-028abeea7334"
      },
      "outputs": [],
      "source": [
        "def run_optuna_accuracy(n_trials=1024):\n",
        "    study = optuna.create_study(direction='maximize')\n",
        "    study.optimize(objective_accuracy, n_trials=n_trials, n_jobs = -1)\n",
        "    trial = study.best_trial\n",
        "    #print('Accuracy: {}'.format(trial.value))\n",
        "    #print(\"Best hyperparameters: {}\".format(trial.params))\n",
        "    return trial.value, study\n"
      ]
    },
    {
      "cell_type": "code",
      "execution_count": 52,
      "metadata": {},
      "outputs": [],
      "source": [
        "trial, study = run_optuna_accuracy(1)"
      ]
    },
    {
      "cell_type": "code",
      "execution_count": 53,
      "metadata": {},
      "outputs": [
        {
          "data": {
            "text/plain": [
              "0.8015732850604147"
            ]
          },
          "execution_count": 53,
          "metadata": {},
          "output_type": "execute_result"
        }
      ],
      "source": [
        "trial"
      ]
    },
    {
      "cell_type": "code",
      "execution_count": 54,
      "metadata": {
        "id": "odCO6YCmz1q4"
      },
      "outputs": [],
      "source": [
        "#tracking = []\n",
        "#for i in range(len(study.trials)):\n",
        "#  if i == 0: \n",
        "#    tracking.append(study.trials[i].value)\n",
        "#  elif tracking[i-1] > study.trials[i].value:\n",
        "#    tracking.append(tracking[i-1])\n",
        "#  else:\n",
        "#    tracking.append(study.trials[i].value)\n",
        "##tracking_sorted = sorted(tracking)"
      ]
    },
    {
      "cell_type": "code",
      "execution_count": 55,
      "metadata": {
        "id": "ukqgm-fOHTVs"
      },
      "outputs": [],
      "source": [
        "#tracking_Optuna_Accuracy = tracking"
      ]
    },
    {
      "cell_type": "code",
      "execution_count": 56,
      "metadata": {
        "colab": {
          "base_uri": "https://localhost:8080/",
          "height": 347
        },
        "id": "L8cqXHz06SXp",
        "outputId": "e0ea3abf-1a22-479f-b12c-fa76bb91b4c6"
      },
      "outputs": [],
      "source": [
        "#plt.plot(tracking);\n",
        "#plt.plot(tracking_sorted) "
      ]
    },
    {
      "cell_type": "code",
      "execution_count": 57,
      "metadata": {
        "colab": {
          "base_uri": "https://localhost:8080/",
          "height": 542
        },
        "id": "dSnAebcQ04n8",
        "outputId": "e0275cf0-9485-43d1-af08-75042d2f3351"
      },
      "outputs": [],
      "source": [
        "#optuna.visualization.plot_optimization_history(study)"
      ]
    },
    {
      "cell_type": "code",
      "execution_count": 58,
      "metadata": {
        "colab": {
          "base_uri": "https://localhost:8080/",
          "height": 562
        },
        "id": "PykRbFk506AF",
        "outputId": "b37580c8-b893-4d8f-f745-60affb470c52"
      },
      "outputs": [],
      "source": [
        "#optuna.visualization.plot_slice(study)"
      ]
    },
    {
      "attachments": {},
      "cell_type": "markdown",
      "metadata": {},
      "source": [
        "### F1 Score"
      ]
    },
    {
      "cell_type": "code",
      "execution_count": 59,
      "metadata": {},
      "outputs": [],
      "source": [
        "def objective_f1(trial):\n",
        "  \n",
        "      n_estimators = trial.suggest_int('n_estimators', n_estimators_min, n_estimators_max)\n",
        "      learning_rate = trial.suggest_float('learning_rate', learning_rate_min, learning_rate_max)\n",
        "      subsample = trial.suggest_float('subsample', subsample_min, subsample_max)\n",
        "      colsample_bytree = trial.suggest_float('colsample_bytree', colsample_bytree_min, colsample_bytree_max)\n",
        "      gamma = trial.suggest_float('gamma', gamma_min, gamma_max)\n",
        "      max_depth = trial.suggest_int('max_depth', max_depth_min, max_depth_max)\n",
        "      min_child_weight = trial.suggest_int('min_child_weight', min_child_weight_min, min_child_weight_max)\n",
        "      reg_alpha = trial.suggest_float('reg_alpha', reg_alpha_min, reg_alpha_max)\n",
        "      reg_lambda = trial.suggest_float('reg_lambda', reg_lambda_min, reg_lambda_max)\n",
        "      scale_pos_weight = trial.suggest_int('scale_pos_weight', scale_pos_weight_min, scale_pos_weight_max)\n",
        "      base_score = trial.suggest_float('base_score', base_score_min, base_score_max)\n",
        "      \n",
        "      model_xgboost = xgb.XGBClassifier(\n",
        "                        n_estimators = n_estimators,\n",
        "                        learning_rate = learning_rate,\n",
        "                        subsample = subsample,\n",
        "                        colsample_bytree = colsample_bytree,\n",
        "                        gamma = gamma,\n",
        "                        max_depth = max_depth,\n",
        "                        min_child_weight = min_child_weight,\n",
        "                        reg_alpha = reg_alpha,\n",
        "                        reg_lambda = reg_lambda,\n",
        "                        scale_pos_weight = scale_pos_weight,\n",
        "                        base_score = base_score,\n",
        "                        n_jobs = -1\n",
        "                                    )\n",
        "\n",
        "      \n",
        "      kfold = KFold(n_splits = 3, shuffle = True)\n",
        "\n",
        "      return sklearn.model_selection.cross_val_score(model_xgboost, x_wine, y_wine, n_jobs=-1, scoring='f1_weighted', cv=kfold).mean()"
      ]
    },
    {
      "cell_type": "code",
      "execution_count": 60,
      "metadata": {},
      "outputs": [],
      "source": [
        "def run_optuna_f1(n_trials=1024):\n",
        "    study = optuna.create_study(direction='maximize')\n",
        "    study.optimize(objective_f1, n_trials=n_trials, n_jobs = -1)\n",
        "    trial = study.best_trial\n",
        "    #print('F1: {}'.format(trial.value))\n",
        "    #print(\"Best hyperparameters: {}\".format(trial.params))\n",
        "    return trial.value, study"
      ]
    },
    {
      "cell_type": "code",
      "execution_count": 61,
      "metadata": {},
      "outputs": [],
      "source": [
        "trial, study = run_optuna_f1(1)"
      ]
    },
    {
      "cell_type": "code",
      "execution_count": 62,
      "metadata": {},
      "outputs": [],
      "source": [
        "#tracking = []\n",
        "#for i in range(len(study.trials)):\n",
        "#  if i == 0: \n",
        "#    tracking.append(study.trials[i].value)\n",
        "#  elif tracking[i-1] > study.trials[i].value:\n",
        "#    tracking.append(tracking[i-1])\n",
        "#  else:\n",
        "#    tracking.append(study.trials[i].value)\n",
        "##tracking_sorted = sorted(tracking)\n",
        "#\n",
        "#tracking_Optuna_F1 = tracking\n",
        "#\n",
        "#plt.plot(tracking);\n",
        "##plt.plot(tracking_sorted) "
      ]
    },
    {
      "attachments": {},
      "cell_type": "markdown",
      "metadata": {},
      "source": [
        "### AUC"
      ]
    },
    {
      "cell_type": "code",
      "execution_count": 63,
      "metadata": {},
      "outputs": [],
      "source": [
        "def objective_auc(trial):\n",
        "  \n",
        "      n_estimators = trial.suggest_int('n_estimators', n_estimators_min, n_estimators_max)\n",
        "      learning_rate = trial.suggest_float('learning_rate', learning_rate_min, learning_rate_max)\n",
        "      subsample = trial.suggest_float('subsample', subsample_min, subsample_max)\n",
        "      colsample_bytree = trial.suggest_float('colsample_bytree', colsample_bytree_min, colsample_bytree_max)\n",
        "      gamma = trial.suggest_float('gamma', gamma_min, gamma_max)\n",
        "      max_depth = trial.suggest_int('max_depth', max_depth_min, max_depth_max)\n",
        "      min_child_weight = trial.suggest_int('min_child_weight', min_child_weight_min, min_child_weight_max)\n",
        "      reg_alpha = trial.suggest_float('reg_alpha', reg_alpha_min, reg_alpha_max)\n",
        "      reg_lambda = trial.suggest_float('reg_lambda', reg_lambda_min, reg_lambda_max)\n",
        "      scale_pos_weight = trial.suggest_int('scale_pos_weight', scale_pos_weight_min, scale_pos_weight_max)\n",
        "      base_score = trial.suggest_float('base_score', base_score_min, base_score_max)\n",
        "      \n",
        "      model_xgboost = xgb.XGBClassifier(\n",
        "                        n_estimators = n_estimators,\n",
        "                        learning_rate = learning_rate,\n",
        "                        subsample = subsample,\n",
        "                        colsample_bytree = colsample_bytree,\n",
        "                        gamma = gamma,\n",
        "                        max_depth = max_depth,\n",
        "                        min_child_weight = min_child_weight,\n",
        "                        reg_alpha = reg_alpha,\n",
        "                        reg_lambda = reg_lambda,\n",
        "                        scale_pos_weight = scale_pos_weight,\n",
        "                        base_score = base_score,\n",
        "                        n_jobs = -1\n",
        "                                    )\n",
        "\n",
        "      kfold = KFold(n_splits = 3, shuffle = True)\n",
        "\n",
        "\n",
        "      return sklearn.model_selection.cross_val_score(model_xgboost, x_wine, y_wine, n_jobs=-1, scoring='roc_auc_ovr_weighted', cv=kfold).mean()"
      ]
    },
    {
      "cell_type": "code",
      "execution_count": 64,
      "metadata": {},
      "outputs": [],
      "source": [
        "def run_optuna_auc(n_trials=1024):\n",
        "    study = optuna.create_study(direction='maximize')\n",
        "    study.optimize(objective_auc, n_trials=n_trials, n_jobs = -1)\n",
        "    trial = study.best_trial\n",
        "    #print('AUC: {}'.format(trial.value))\n",
        "    #print(\"Best hyperparameters: {}\".format(trial.params))\n",
        "    return trial.value, study"
      ]
    },
    {
      "cell_type": "code",
      "execution_count": 65,
      "metadata": {},
      "outputs": [],
      "source": [
        "trial, study = run_optuna_auc(1)"
      ]
    },
    {
      "cell_type": "code",
      "execution_count": 66,
      "metadata": {},
      "outputs": [],
      "source": [
        "#tracking = []\n",
        "#for i in range(len(study.trials)):\n",
        "#  if i == 0: \n",
        "#    tracking.append(study.trials[i].value)\n",
        "#  elif tracking[i-1] > study.trials[i].value:\n",
        "#    tracking.append(tracking[i-1])\n",
        "#  else:\n",
        "#    tracking.append(study.trials[i].value)\n",
        "##tracking_sorted = sorted(tracking)\n",
        "#\n",
        "#tracking_Optuna_AUC = tracking\n",
        "#\n",
        "#plt.plot(tracking);\n",
        "##plt.plot(tracking_sorted) "
      ]
    },
    {
      "attachments": {},
      "cell_type": "markdown",
      "metadata": {
        "id": "O554Q6QTEVSZ"
      },
      "source": [
        "# Análise Comparativa"
      ]
    },
    {
      "cell_type": "code",
      "execution_count": 67,
      "metadata": {
        "colab": {
          "base_uri": "https://localhost:8080/",
          "height": 335
        },
        "id": "fQLG5-KOEa-j",
        "outputId": "475764bd-0f8b-4a28-dfbc-06b9f8e93d0d"
      },
      "outputs": [],
      "source": [
        "#fig, (ax1, ax2) = plt.subplots(1, 2, figsize=(20,5))\n",
        "#\n",
        "#ax1.set_title('PSO X Gerações')\n",
        "#ax2.set_title('PSO X Avaliações')\n",
        "#\n",
        "#ax1.plot(tracking_PSO_Accuracy)\n",
        "#ax2.plot(Accuracy_PSO)\n",
        "#plt.show()"
      ]
    },
    {
      "cell_type": "code",
      "execution_count": 68,
      "metadata": {
        "colab": {
          "base_uri": "https://localhost:8080/",
          "height": 335
        },
        "id": "rQXRvTMeGdtO",
        "outputId": "3e5b32fe-6843-4453-c4c0-c72f988355e3"
      },
      "outputs": [],
      "source": [
        "#fig, (ax1, ax2) = plt.subplots(1, 2, figsize=(20,5))\n",
        "#\n",
        "#ax1.set_title('GA X Gerações')\n",
        "#ax2.set_title('GA X Avaliações')\n",
        "#\n",
        "#ax1.plot(tracking_GA_Accuracy)\n",
        "#ax2.plot(Accuracy_GA)\n",
        "#plt.show()"
      ]
    },
    {
      "attachments": {},
      "cell_type": "markdown",
      "metadata": {},
      "source": [
        "Gráficos Comparativos Acurácia"
      ]
    },
    {
      "cell_type": "code",
      "execution_count": 69,
      "metadata": {
        "colab": {
          "base_uri": "https://localhost:8080/",
          "height": 592
        },
        "id": "wPAE1qekG2QL",
        "outputId": "ed21fdf7-0168-43ed-be6f-6a7d40ee56a7"
      },
      "outputs": [],
      "source": [
        "#from IPython.core.pylabtools import figsize\n",
        "#from matplotlib.pyplot import figure\n",
        "#import matplotlib.patches as mpatches\n",
        "#\n",
        "#plt.figure(figsize=(12, 6))\n",
        "#red_patch = mpatches.Patch(color='red', label='PSO')\n",
        "#blue_patch = mpatches.Patch(color='blue', label='GA')\n",
        "#green_patch = mpatches.Patch(color='green', label='Optuna')\n",
        "##black_patch = mpatches.Patch(color='black', label='GridSearch')\n",
        "#\n",
        "#plt.legend(handles=[red_patch, blue_patch, green_patch])\n",
        "#plt.plot(Accuracy_GA, color = 'blue', linewidth=1, linestyle='-', )\n",
        "#plt.plot(Accuracy_PSO, color = 'red', linewidth=1, linestyle='-')\n",
        "#plt.plot(tracking_Optuna_Accuracy, color = 'green', linewidth=1, linestyle='-')\n",
        "##plt.plot(tracking_GS, color = 'black', linewidth=3, linestyle='-')\n",
        "#plt.show()"
      ]
    },
    {
      "cell_type": "code",
      "execution_count": 70,
      "metadata": {
        "colab": {
          "base_uri": "https://localhost:8080/",
          "height": 901
        },
        "id": "hkxfnJJoKHia",
        "outputId": "b1c67284-9c27-4868-c7c1-54368e704ec5"
      },
      "outputs": [],
      "source": [
        "#fig, ax = plt.subplots(2, 2, figsize=(25,15))\n",
        "#\n",
        "#ax[0, 0].set_title(f'Genetic Algorithm (GA) - Accuracy: {max(tracking_GA_Accuracy)}', fontdict={'fontsize': 20, 'fontweight': 'medium'})\n",
        "#ax[0, 1].set_title(f'Particle Swarm Optimization (PSO) - Accuracy: {max(tracking_PSO_Accuracy)}', fontdict={'fontsize': 20, 'fontweight': 'medium'})\n",
        "#\n",
        "#ax[1, 0].set_title(f'Grid Search - Accuracy: {max(tracking_GS_Accuracy)}', fontdict={'fontsize': 20, 'fontweight': 'medium'})\n",
        "#ax[1, 1].set_title(f'Optuna - Accuracy: {max(tracking_Optuna_Accuracy)}', fontdict={'fontsize': 20, 'fontweight': 'medium'})\n",
        "#\n",
        "#ax[0,0].plot(tracking_GA_Accuracy, color = 'blue', linewidth=3, linestyle='-', )\n",
        "#ax[0,1].plot(tracking_PSO_Accuracy, color = 'red', linewidth=3, linestyle='-')\n",
        "#\n",
        "#ax[1,0].plot(tracking_GS_Accuracy, color = 'black', linewidth=3, linestyle='-')\n",
        "#ax[1,1].plot(tracking_Optuna_Accuracy, color = 'green', linewidth=3, linestyle='-')\n"
      ]
    },
    {
      "attachments": {},
      "cell_type": "markdown",
      "metadata": {},
      "source": [
        "F1 score"
      ]
    },
    {
      "cell_type": "code",
      "execution_count": 71,
      "metadata": {},
      "outputs": [],
      "source": [
        "#plt.figure(figsize=(12, 6))\n",
        "#red_patch = mpatches.Patch(color='red', label='PSO')\n",
        "#blue_patch = mpatches.Patch(color='blue', label='GA')\n",
        "#green_patch = mpatches.Patch(color='green', label='Optuna')\n",
        "##black_patch = mpatches.Patch(color='black', label='GridSearch')\n",
        "#\n",
        "#plt.legend(handles=[red_patch, blue_patch, green_patch])\n",
        "#plt.plot(F1_GA, color = 'blue', linewidth=1, linestyle='-', )\n",
        "#plt.plot(F1_PSO, color = 'red', linewidth=1, linestyle='-')\n",
        "#plt.plot(tracking_Optuna_F1, color = 'green', linewidth=1, linestyle='-')\n",
        "##plt.plot(tracking_GS, color = 'black', linewidth=3, linestyle='-')\n",
        "#plt.show()"
      ]
    },
    {
      "cell_type": "code",
      "execution_count": 72,
      "metadata": {},
      "outputs": [],
      "source": [
        "#fig, ax = plt.subplots(2, 2, figsize=(25,15))\n",
        "#\n",
        "#ax[0, 0].set_title(f'Genetic Algorithm (GA) - Accuracy: {max(tracking_GA_F1)}', fontdict={'fontsize': 20, 'fontweight': 'medium'})\n",
        "#ax[0, 1].set_title(f'Particle Swarm Optimization (PSO) - Accuracy: {max(tracking_PSO_F1)}', fontdict={'fontsize': 20, 'fontweight': 'medium'})\n",
        "#\n",
        "#ax[1, 0].set_title(f'Grid Search - Accuracy: {max(tracking_GS_F1)}', fontdict={'fontsize': 20, 'fontweight': 'medium'})\n",
        "#ax[1, 1].set_title(f'Optuna - Accuracy: {max(tracking_Optuna_F1)}', fontdict={'fontsize': 20, 'fontweight': 'medium'})\n",
        "#\n",
        "#ax[0,0].plot(tracking_GA_F1, color = 'blue', linewidth=3, linestyle='-', )\n",
        "#ax[0,1].plot(tracking_PSO_F1, color = 'red', linewidth=3, linestyle='-')\n",
        "#\n",
        "#ax[1,0].plot(tracking_GS_F1, color = 'black', linewidth=3, linestyle='-')\n",
        "#ax[1,1].plot(tracking_Optuna_F1, color = 'green', linewidth=3, linestyle='-')\n"
      ]
    },
    {
      "attachments": {},
      "cell_type": "markdown",
      "metadata": {},
      "source": [
        "ROC AUC"
      ]
    },
    {
      "cell_type": "code",
      "execution_count": 73,
      "metadata": {},
      "outputs": [],
      "source": [
        "#plt.figure(figsize=(12, 6))\n",
        "#red_patch = mpatches.Patch(color='red', label='PSO')\n",
        "#blue_patch = mpatches.Patch(color='blue', label='GA')\n",
        "#green_patch = mpatches.Patch(color='green', label='Optuna')\n",
        "##black_patch = mpatches.Patch(color='black', label='GridSearch')\n",
        "#\n",
        "#plt.legend(handles=[red_patch, blue_patch, green_patch])\n",
        "#plt.plot(AUC_GA, color = 'blue', linewidth=1, linestyle='-', )\n",
        "#plt.plot(AUC_PSO, color = 'red', linewidth=1, linestyle='-')\n",
        "#plt.plot(tracking_Optuna_AUC, color = 'green', linewidth=1, linestyle='-')\n",
        "##plt.plot(tracking_GS, color = 'black', linewidth=3, linestyle='-')\n",
        "#plt.show()"
      ]
    },
    {
      "cell_type": "code",
      "execution_count": 74,
      "metadata": {},
      "outputs": [],
      "source": [
        "#fig, ax = plt.subplots(2, 2, figsize=(25,15))\n",
        "#\n",
        "#ax[0, 0].set_title(f'Genetic Algorithm (GA) - Accuracy: {max(tracking_GA_AUC)}', fontdict={'fontsize': 20, 'fontweight': 'medium'})\n",
        "#ax[0, 1].set_title(f'Particle Swarm Optimization (PSO) - Accuracy: {max(tracking_PSO_AUC)}', fontdict={'fontsize': 20, 'fontweight': 'medium'})\n",
        "#\n",
        "#ax[1, 0].set_title(f'Grid Search - Accuracy: {max(tracking_GS_AUC)}', fontdict={'fontsize': 20, 'fontweight': 'medium'})\n",
        "#ax[1, 1].set_title(f'Optuna - Accuracy: {max(tracking_Optuna_AUC)}', fontdict={'fontsize': 20, 'fontweight': 'medium'})\n",
        "#\n",
        "#ax[0,0].plot(tracking_GA_AUC, color = 'blue', linewidth=3, linestyle='-', )\n",
        "#ax[0,1].plot(tracking_PSO_AUC, color = 'red', linewidth=3, linestyle='-')\n",
        "#\n",
        "#ax[1,0].plot(tracking_GS_AUC, color = 'black', linewidth=3, linestyle='-')\n",
        "#ax[1,1].plot(tracking_Optuna_AUC, color = 'green', linewidth=3, linestyle='-')\n",
        "#"
      ]
    },
    {
      "cell_type": "code",
      "execution_count": 75,
      "metadata": {},
      "outputs": [],
      "source": [
        "from scipy.stats import uniform\n",
        "from scipy.stats import randint\n",
        "from sklearn.model_selection import RandomizedSearchCV\n",
        "\n",
        "def random_search_int_range(min_l, max_l):\n",
        "    return (np.arange(randint.ppf(0.01, min_l, max_l),randint.ppf(0.99, min_l, max_l))).astype(int)\n",
        "\n",
        "def run_random_search_accuracy(iterations = 1024):\n",
        "    param_distribution = {\n",
        "    'n_estimators' : random_search_int_range(n_estimators_min, n_estimators_max),\n",
        "    'learning_rate' : uniform(learning_rate_min, learning_rate_max),\n",
        "    'subsample' : uniform(subsample_min, subsample_max - 1),\n",
        "    'colsample_bytree' : uniform(colsample_bytree_min, colsample_bytree_max  - 1),\n",
        "    'gamma' : uniform(gamma_min, gamma_max),\n",
        "    'max_depth' : random_search_int_range(max_depth_min, max_depth_max),\n",
        "    'min_child_weight' : random_search_int_range(min_child_weight_min, min_child_weight_max),\n",
        "    'reg_alpha' : uniform(reg_alpha_min, reg_alpha_max),\n",
        "    'reg_lambda' : uniform(reg_lambda_min, reg_lambda_max),\n",
        "    'scale_pos_weight' : random_search_int_range(scale_pos_weight_min, scale_pos_weight_max),\n",
        "    'base_score' : uniform(base_score_min, base_score_max),\n",
        "    'n_jobs' :  [-1]\n",
        "    }\n",
        "    \n",
        "\n",
        "\n",
        "\n",
        "\n",
        "\n",
        "    kfold = KFold(n_splits = 3, shuffle = True)\n",
        "\n",
        "    random_search_accuracy = RandomizedSearchCV(xgb.XGBClassifier(), param_distribution, n_iter = iterations, n_jobs = 10, cv=kfold, verbose=False)\n",
        "    random_search_accuracy.fit(x_wine, y_wine)\n",
        "\n",
        "    return random_search_accuracy.best_score_"
      ]
    },
    {
      "cell_type": "code",
      "execution_count": 76,
      "metadata": {},
      "outputs": [],
      "source": [
        "from scipy.stats import uniform\n",
        "from scipy.stats import randint\n",
        "from sklearn.model_selection import RandomizedSearchCV\n",
        "\n",
        "def random_search_int_range(min_l, max_l):\n",
        "    return (np.arange(randint.ppf(0.01, min_l, max_l),randint.ppf(0.99, min_l, max_l))).astype(int)\n",
        "\n",
        "\n",
        "def run_random_search_f1(iterations = 1024):\n",
        "    param_distribution = {\n",
        "    'n_estimators' : random_search_int_range(n_estimators_min, n_estimators_max),\n",
        "    'learning_rate' : uniform(learning_rate_min, learning_rate_max),\n",
        "    'subsample' : uniform(subsample_min, subsample_max - 1),\n",
        "    'colsample_bytree' : uniform(colsample_bytree_min, colsample_bytree_max  - 1),\n",
        "    'gamma' : uniform(gamma_min, gamma_max),\n",
        "    'max_depth' : random_search_int_range(max_depth_min, max_depth_max),\n",
        "    'min_child_weight' : random_search_int_range(min_child_weight_min, min_child_weight_max),\n",
        "    'reg_alpha' : uniform(reg_alpha_min, reg_alpha_max),\n",
        "    'reg_lambda' : uniform(reg_lambda_min, reg_lambda_max),\n",
        "    'scale_pos_weight' : random_search_int_range(scale_pos_weight_min, scale_pos_weight_max),\n",
        "    'base_score' : uniform(base_score_min, base_score_max),\n",
        "    'n_jobs' :  [-1]\n",
        "    }\n",
        "    \n",
        "\n",
        "\n",
        "\n",
        "\n",
        "    kfold = KFold(n_splits = 3, shuffle = True)\n",
        "\n",
        "    random_search_accuracy = RandomizedSearchCV(xgb.XGBClassifier(), param_distribution, n_iter = iterations, n_jobs = 10, cv=kfold, verbose=False, scoring='f1_weighted')\n",
        "    random_search_accuracy.fit(x_wine, y_wine)\n",
        "\n",
        "    return random_search_accuracy.best_score_"
      ]
    },
    {
      "cell_type": "code",
      "execution_count": 77,
      "metadata": {},
      "outputs": [
        {
          "name": "stdout",
          "output_type": "stream",
          "text": [
            "[08:25:22] WARNING: C:\\buildkite-agent\\builds\\buildkite-windows-cpu-autoscaling-group-i-07593ffd91cd9da33-1\\xgboost\\xgboost-ci-windows\\src\\learner.cc:767: \n",
            "Parameters: { \"scale_pos_weight\" } are not used.\n",
            "\n"
          ]
        },
        {
          "data": {
            "text/plain": [
              "0.7869693277296653"
            ]
          },
          "execution_count": 77,
          "metadata": {},
          "output_type": "execute_result"
        }
      ],
      "source": [
        "run_random_search_f1(1)"
      ]
    },
    {
      "cell_type": "code",
      "execution_count": 78,
      "metadata": {},
      "outputs": [],
      "source": [
        "from scipy.stats import uniform\n",
        "from scipy.stats import randint\n",
        "from sklearn.model_selection import RandomizedSearchCV\n",
        "\n",
        "def random_search_int_range(min_l, max_l):\n",
        "    return (np.arange(randint.ppf(0.01, min_l, max_l),randint.ppf(0.99, min_l, max_l))).astype(int)\n",
        "\n",
        "def run_random_search_auc(iterations = 1024):\n",
        "    param_distribution = {\n",
        "    'n_estimators' : random_search_int_range(n_estimators_min, n_estimators_max),\n",
        "    'learning_rate' : uniform(learning_rate_min, learning_rate_max),\n",
        "    'subsample' : uniform(subsample_min, subsample_max - 1),\n",
        "    'colsample_bytree' : uniform(colsample_bytree_min, colsample_bytree_max  - 1),\n",
        "    'gamma' : uniform(gamma_min, gamma_max),\n",
        "    'max_depth' : random_search_int_range(max_depth_min, max_depth_max),\n",
        "    'min_child_weight' : random_search_int_range(min_child_weight_min, min_child_weight_max),\n",
        "    'reg_alpha' : uniform(reg_alpha_min, reg_alpha_max),\n",
        "    'reg_lambda' : uniform(reg_lambda_min, reg_lambda_max),\n",
        "    'scale_pos_weight' : random_search_int_range(scale_pos_weight_min, scale_pos_weight_max),\n",
        "    'base_score' : uniform(base_score_min, base_score_max),\n",
        "    'n_jobs' :  [-1]\n",
        "    }\n",
        "    \n",
        "    \n",
        "\n",
        "\n",
        "\n",
        "\n",
        "    kfold = KFold(n_splits = 3, shuffle = True)\n",
        "\n",
        "    random_search_accuracy = RandomizedSearchCV(xgb.XGBClassifier(), param_distribution, n_iter = iterations, n_jobs = 10, cv=kfold, verbose=False, scoring='roc_auc_ovr_weighted')\n",
        "    random_search_accuracy.fit(x_wine, y_wine)\n",
        "\n",
        "    return random_search_accuracy.best_score_"
      ]
    },
    {
      "attachments": {},
      "cell_type": "markdown",
      "metadata": {},
      "source": [
        "# Gerando Dados Para Análise "
      ]
    },
    {
      "cell_type": "code",
      "execution_count": 79,
      "metadata": {},
      "outputs": [],
      "source": [
        "from tqdm import tqdm\n",
        "import pandas as pd\n",
        "from os import system\n",
        "\n",
        "def full_run(iterations):\n",
        "    filename = './Catboost_fruit_data.csv'\n",
        "\n",
        "    try:\n",
        "        XGBoost_data = pd.read_csv(filename)\n",
        "    except:\n",
        "        open(filename, \"a\")\n",
        "        XGBoost_data = pd.DataFrame(columns=['Algorithm', 'Accuracy', 'F1', 'AUC'])\n",
        "\n",
        "\n",
        "    for i in tqdm(range(iterations)):\n",
        "        accuracy_pso, _, _ = run_accuracy_pso()\n",
        "        f1_pso, _, _ = run_f1_pso()\n",
        "        auc_pso, _, _ = run_auc_pso()\n",
        "        temp = pd.DataFrame({'Algorithm' : ['PSO'], \n",
        "                            'Accuracy' :[-accuracy_pso[0]], \n",
        "                            'F1' : [-f1_pso[0]], \n",
        "                            'AUC' : [-auc_pso[0]]})\n",
        "        #XGBoost_data = XGBoost_data.append(temp, ignore_index = True)\n",
        "        XGBoost_data = pd.concat([XGBoost_data, temp], ignore_index=True)\n",
        "        XGBoost_data[['Algorithm', 'Accuracy', 'F1', 'AUC']].to_csv(filename)\n",
        "        \n",
        "        accuracy_ga, _, _ = run_accuracy_ga()\n",
        "        f1_ga, _, _ = run_f1_ga()\n",
        "        auc_ga, _, _ = run_auc_ga()\n",
        "        temp = pd.DataFrame({'Algorithm' : ['GA'], \n",
        "                            'Accuracy' :[-accuracy_ga[0]], \n",
        "                            'F1' : [-f1_ga[0]], \n",
        "                            'AUC' : [-auc_ga[0]]})\n",
        "        #XGBoost_data = XGBoost_data.append(temp, ignore_index = True)\n",
        "        XGBoost_data = pd.concat([XGBoost_data, temp], ignore_index=True)\n",
        "        XGBoost_data[['Algorithm', 'Accuracy', 'F1', 'AUC']].to_csv(filename)\n",
        "        \n",
        "        accuracy_optuna, _ = run_optuna_accuracy()\n",
        "        f1_optuna, _ = run_optuna_f1()\n",
        "        auc_optuna, _ = run_optuna_auc()\n",
        "        temp = pd.DataFrame({'Algorithm' : ['Optuna'], \n",
        "                            'Accuracy' :[accuracy_optuna], \n",
        "                            'F1' : [f1_optuna], \n",
        "                            'AUC' : [auc_optuna]})\n",
        "        #XGBoost_data = XGBoost_data.append(temp, ignore_index = True)\n",
        "        XGBoost_data = pd.concat([XGBoost_data, temp], ignore_index=True)\n",
        "        XGBoost_data[['Algorithm', 'Accuracy', 'F1', 'AUC']].to_csv(filename)"
      ]
    },
    {
      "cell_type": "code",
      "execution_count": 80,
      "metadata": {},
      "outputs": [],
      "source": [
        "from tqdm import tqdm\n",
        "import pandas as pd\n",
        "from os import system\n",
        "\n",
        "def full_run_optuna(iterations):\n",
        "    filename = './XGBoost_wine_data.csv'\n",
        "\n",
        "    try:\n",
        "        XGBoost_data = pd.read_csv(filename)\n",
        "    except:\n",
        "        open(filename, \"a\")\n",
        "        XGBoost_data = pd.DataFrame(columns=['Algorithm', 'Accuracy', 'F1', 'AUC'])\n",
        "\n",
        "\n",
        "    for i in tqdm(range(iterations)):      \n",
        "        accuracy_optuna, _ = run_optuna_accuracy()\n",
        "        f1_optuna, _ = run_optuna_f1()\n",
        "        auc_optuna, _ = run_optuna_auc()\n",
        "        temp = pd.DataFrame({'Algorithm' : ['Optuna'], \n",
        "                            'Accuracy' :[accuracy_optuna], \n",
        "                            'F1' : [f1_optuna], \n",
        "                            'AUC' : [auc_optuna]})\n",
        "        #XGBoost_data = XGBoost_data.append(temp, ignore_index = True)\n",
        "        XGBoost_data = pd.concat([XGBoost_data, temp], ignore_index=True)\n",
        "        XGBoost_data[['Algorithm', 'Accuracy', 'F1', 'AUC']].to_csv(filename)"
      ]
    },
    {
      "cell_type": "code",
      "execution_count": 81,
      "metadata": {},
      "outputs": [],
      "source": [
        "from tqdm import tqdm\n",
        "import pandas as pd\n",
        "from os import system\n",
        "\n",
        "def full_run_ga(iterations):\n",
        "    filename = './XGBoost_wine_data.csv'\n",
        "\n",
        "    try:\n",
        "        XGBoost_data = pd.read_csv(filename)\n",
        "    except:\n",
        "        open(filename, \"a\")\n",
        "        XGBoost_data = pd.DataFrame(columns=['Algorithm', 'Accuracy', 'F1', 'AUC'])\n",
        "\n",
        "\n",
        "    for i in tqdm(range(iterations)):\n",
        "\n",
        "        accuracy_ga, _, _ = run_accuracy_ga()\n",
        "        f1_ga, _, _ = run_f1_ga()\n",
        "        auc_ga, _, _ = run_auc_ga()\n",
        "        temp = pd.DataFrame({'Algorithm' : ['GA'], \n",
        "                            'Accuracy' :[-accuracy_ga[0]], \n",
        "                            'F1' : [-f1_ga[0]], \n",
        "                            'AUC' : [-auc_ga[0]]})\n",
        "        #XGBoost_data = XGBoost_data.append(temp, ignore_index = True)\n",
        "        XGBoost_data = pd.concat([XGBoost_data, temp], ignore_index=True)\n",
        "        XGBoost_data[['Algorithm', 'Accuracy', 'F1', 'AUC']].to_csv(filename)\n",
        "        "
      ]
    },
    {
      "cell_type": "code",
      "execution_count": 82,
      "metadata": {},
      "outputs": [],
      "source": [
        "from tqdm import tqdm\n",
        "import pandas as pd\n",
        "from os import system\n",
        "\n",
        "def full_run_optuna(iterations):\n",
        "    filename = './XGBoost_wine_data.csv'\n",
        "\n",
        "    try:\n",
        "        XGBoost_data = pd.read_csv(filename)\n",
        "    except:\n",
        "        open(filename, \"a\")\n",
        "        XGBoost_data = pd.DataFrame(columns=['Algorithm', 'Accuracy', 'F1', 'AUC'])\n",
        "\n",
        "\n",
        "    for i in tqdm(range(iterations)):      \n",
        "        accuracy_optuna, _ = run_optuna_accuracy()\n",
        "        f1_optuna, _ = run_optuna_f1()\n",
        "        auc_optuna, _ = run_optuna_auc()\n",
        "        temp = pd.DataFrame({'Algorithm' : ['Optuna'], \n",
        "                            'Accuracy' :[accuracy_optuna], \n",
        "                            'F1' : [f1_optuna], \n",
        "                            'AUC' : [auc_optuna]})\n",
        "        #XGBoost_data = XGBoost_data.append(temp, ignore_index = True)\n",
        "        XGBoost_data = pd.concat([XGBoost_data, temp], ignore_index=True)\n",
        "        XGBoost_data[['Algorithm', 'Accuracy', 'F1', 'AUC']].to_csv(filename)"
      ]
    },
    {
      "cell_type": "code",
      "execution_count": 83,
      "metadata": {},
      "outputs": [],
      "source": [
        "from tqdm import tqdm\n",
        "import pandas as pd\n",
        "from os import system\n",
        "\n",
        "def full_run_pso(iterations):\n",
        "    filename = './XGBoost_wine_data.csv'\n",
        "\n",
        "    try:\n",
        "        XGBoost_data = pd.read_csv(filename)\n",
        "    except:\n",
        "        open(filename, \"a\")\n",
        "        XGBoost_data = pd.DataFrame(columns=['Algorithm', 'Accuracy', 'F1', 'AUC'])\n",
        "\n",
        "\n",
        "    for i in tqdm(range(iterations)):\n",
        "        accuracy_pso = run_accuracy_pso()\n",
        "        f1_pso = run_f1_pso()\n",
        "        auc_pso = run_auc_pso()\n",
        "        temp = pd.DataFrame({'Algorithm' : ['PSO'], \n",
        "                            'Accuracy' :[accuracy_pso], \n",
        "                            'F1' : [f1_pso], \n",
        "                            'AUC' : [auc_pso]})\n",
        "        #XGBoost_data = XGBoost_data.append(temp, ignore_index = True)\n",
        "        XGBoost_data = pd.concat([XGBoost_data, temp], ignore_index=True)\n",
        "        XGBoost_data[['Algorithm', 'Accuracy', 'F1', 'AUC']].to_csv(filename)\n",
        "        "
      ]
    },
    {
      "cell_type": "code",
      "execution_count": 84,
      "metadata": {},
      "outputs": [
        {
          "name": "stderr",
          "output_type": "stream",
          "text": [
            "  0%|          | 0/30 [00:00<?, ?it/s]2023-06-13 08:25:22,980 - pyswarms.single.global_best - INFO - Optimize for 32 iters with {'c1': 1.5, 'c2': 1.5, 'w': 0.5}\n",
            "pyswarms.single.global_best: 100%|██████████|32/32, best_cost=-.697\n",
            "2023-06-13 08:25:50,991 - pyswarms.single.global_best - INFO - Optimization finished | best cost: -0.6971013307155324, best pos: [3.30444431e+02 4.37311253e-01 8.12562137e-01 6.38925037e-01\n",
            " 1.74959115e-01 8.49453584e+00 4.65214222e+00 1.98140235e-02\n",
            " 4.82037626e-01 5.46351368e+00 3.60605558e-01]\n",
            "2023-06-13 08:25:50,996 - pyswarms.single.global_best - INFO - Optimize for 32 iters with {'c1': 1.5, 'c2': 1.5, 'w': 0.5}\n",
            "pyswarms.single.global_best: 100%|██████████|32/32, best_cost=-.668\n",
            "2023-06-13 08:26:01,263 - pyswarms.single.global_best - INFO - Optimization finished | best cost: -0.6677969171471891, best pos: [1.17772566e+02 2.65328704e-01 8.03841005e-01 7.18128706e-01\n",
            " 3.45351941e-01 8.15087794e+00 2.53012898e+00 2.36808060e-02\n",
            " 5.09367311e-01 1.24208007e+00 6.21363132e-01]\n",
            "2023-06-13 08:26:01,267 - pyswarms.single.global_best - INFO - Optimize for 32 iters with {'c1': 1.5, 'c2': 1.5, 'w': 0.5}\n",
            "pyswarms.single.global_best: 100%|██████████|32/32, best_cost=-.909\n",
            "2023-06-13 08:26:45,988 - pyswarms.single.global_best - INFO - Optimization finished | best cost: -0.9091969379884987, best pos: [5.03350486e+02 5.84952407e-01 9.00391414e-01 7.08343436e-01\n",
            " 2.76168030e-01 6.32710528e+00 3.70646405e+00 4.82071565e-02\n",
            " 1.36024340e-01 1.89207851e+00 2.35066604e-01]\n",
            "  3%|▎         | 1/30 [01:23<40:07, 83.02s/it]2023-06-13 08:26:46,001 - pyswarms.single.global_best - INFO - Optimize for 32 iters with {'c1': 1.5, 'c2': 1.5, 'w': 0.5}\n",
            "pyswarms.single.global_best: 100%|██████████|32/32, best_cost=-.739\n",
            "2023-06-13 08:28:00,518 - pyswarms.single.global_best - INFO - Optimization finished | best cost: -0.7394388089005235, best pos: [9.01387390e+02 4.12335796e-01 8.04008357e-01 7.40314184e-01\n",
            " 2.48545716e-01 4.05174570e+00 1.78331579e+00 6.07653466e-02\n",
            " 7.67795865e-01 6.63297813e+00 4.21449776e-01]\n",
            "2023-06-13 08:28:00,522 - pyswarms.single.global_best - INFO - Optimize for 32 iters with {'c1': 1.5, 'c2': 1.5, 'w': 0.5}\n",
            "pyswarms.single.global_best: 100%|██████████|32/32, best_cost=-.704\n",
            "2023-06-13 08:28:57,239 - pyswarms.single.global_best - INFO - Optimization finished | best cost: -0.7041937508126097, best pos: [6.47265871e+02 5.90673674e-01 8.38341103e-01 8.50068529e-01\n",
            " 3.79791847e-02 4.52918981e+00 3.70504696e+00 2.31378312e-02\n",
            " 6.84058670e-01 4.76852823e+00 4.08678778e-01]\n",
            "2023-06-13 08:28:57,243 - pyswarms.single.global_best - INFO - Optimize for 32 iters with {'c1': 1.5, 'c2': 1.5, 'w': 0.5}\n",
            "pyswarms.single.global_best: 100%|██████████|32/32, best_cost=-.892\n",
            "2023-06-13 08:29:04,052 - pyswarms.single.global_best - INFO - Optimization finished | best cost: -0.8922943542879673, best pos: [6.85359623e+01 5.51054799e-01 9.29757847e-01 6.48172762e-01\n",
            " 4.45696648e-02 7.14074908e+00 5.12646939e+00 3.34310129e-02\n",
            " 2.71710964e-01 2.82379355e+00 8.03712931e-01]\n",
            "  7%|▋         | 2/30 [03:41<53:51, 115.40s/it]2023-06-13 08:29:04,059 - pyswarms.single.global_best - INFO - Optimize for 32 iters with {'c1': 1.5, 'c2': 1.5, 'w': 0.5}\n",
            "pyswarms.single.global_best: 100%|██████████|32/32, best_cost=-.684\n",
            "2023-06-13 08:30:02,156 - pyswarms.single.global_best - INFO - Optimization finished | best cost: -0.6835869328097731, best pos: [6.36701720e+02 2.02038341e-01 9.37951536e-01 6.78327033e-01\n",
            " 1.34739766e-01 4.92062527e+00 5.15727057e+00 7.81156677e-02\n",
            " 6.60934138e-02 8.29698798e+00 2.29823491e-01]\n",
            "2023-06-13 08:30:02,160 - pyswarms.single.global_best - INFO - Optimize for 32 iters with {'c1': 1.5, 'c2': 1.5, 'w': 0.5}\n",
            "pyswarms.single.global_best: 100%|██████████|32/32, best_cost=-.684\n",
            "2023-06-13 08:30:34,056 - pyswarms.single.global_best - INFO - Optimization finished | best cost: -0.6844032680147869, best pos: [3.62471064e+02 5.81315817e-01 8.86976999e-01 6.71610535e-01\n",
            " 2.76734598e-01 5.65731679e+00 5.54498064e+00 4.57612160e-02\n",
            " 2.57304322e-01 3.34622049e+00 7.53963871e-01]\n",
            "2023-06-13 08:30:34,060 - pyswarms.single.global_best - INFO - Optimize for 32 iters with {'c1': 1.5, 'c2': 1.5, 'w': 0.5}\n",
            "pyswarms.single.global_best: 100%|██████████|32/32, best_cost=-.924\n",
            "2023-06-13 08:31:45,022 - pyswarms.single.global_best - INFO - Optimization finished | best cost: -0.9235555983838472, best pos: [9.67192751e+02 3.88477588e-01 6.85665634e-01 6.25747568e-01\n",
            " 2.12833120e-01 9.02189533e+00 2.04861106e+00 4.65258141e-02\n",
            " 8.21968522e-01 7.27504085e+00 7.04210525e-01]\n",
            " 10%|█         | 3/30 [06:22<1:01:17, 136.21s/it]2023-06-13 08:31:45,028 - pyswarms.single.global_best - INFO - Optimize for 32 iters with {'c1': 1.5, 'c2': 1.5, 'w': 0.5}\n",
            "pyswarms.single.global_best: 100%|██████████|32/32, best_cost=-.659\n",
            "2023-06-13 08:31:52,580 - pyswarms.single.global_best - INFO - Optimization finished | best cost: -0.6589959642233857, best pos: [7.57511196e+01 5.01020273e-01 9.75479890e-01 9.16048592e-01\n",
            " 2.26244348e-01 8.53318134e+00 5.29665817e+00 4.36531443e-02\n",
            " 1.49067915e-01 2.87529869e+00 8.60874349e-01]\n",
            "2023-06-13 08:31:52,584 - pyswarms.single.global_best - INFO - Optimize for 32 iters with {'c1': 1.5, 'c2': 1.5, 'w': 0.5}\n",
            "pyswarms.single.global_best: 100%|██████████|32/32, best_cost=-.671\n",
            "2023-06-13 08:32:29,430 - pyswarms.single.global_best - INFO - Optimization finished | best cost: -0.6711991989708024, best pos: [4.73691731e+02 4.33238459e-01 6.98226215e-01 7.01276073e-01\n",
            " 2.43445253e-01 5.84381262e+00 6.78291647e+00 6.07700284e-02\n",
            " 4.91020973e-01 7.58751535e+00 4.26677215e-01]\n",
            "2023-06-13 08:32:29,435 - pyswarms.single.global_best - INFO - Optimize for 32 iters with {'c1': 1.5, 'c2': 1.5, 'w': 0.5}\n",
            "pyswarms.single.global_best: 100%|██████████|32/32, best_cost=-.892\n",
            "2023-06-13 08:33:41,212 - pyswarms.single.global_best - INFO - Optimization finished | best cost: -0.8922341861342579, best pos: [9.25010376e+02 2.65009297e-01 7.37598119e-01 6.96692042e-01\n",
            " 1.38997998e-01 5.04658011e+00 8.66455978e+00 8.80802462e-02\n",
            " 3.76622190e-01 7.92290149e+00 3.34001153e-01]\n",
            " 13%|█▎        | 4/30 [08:18<55:35, 128.30s/it]  2023-06-13 08:33:41,218 - pyswarms.single.global_best - INFO - Optimize for 32 iters with {'c1': 1.5, 'c2': 1.5, 'w': 0.5}\n",
            "pyswarms.single.global_best: 100%|██████████|32/32, best_cost=-.616\n",
            "2023-06-13 08:33:44,964 - pyswarms.single.global_best - INFO - Optimization finished | best cost: -0.6156877181500873, best pos: [4.01571734e+01 3.05751318e-01 7.25011370e-01 9.23764856e-01\n",
            " 6.64331594e-02 5.13843338e+00 5.54655330e+00 7.83117492e-02\n",
            " 1.89632568e-02 5.60005485e+00 9.62360534e-01]\n",
            "2023-06-13 08:33:44,967 - pyswarms.single.global_best - INFO - Optimize for 32 iters with {'c1': 1.5, 'c2': 1.5, 'w': 0.5}\n",
            "pyswarms.single.global_best: 100%|██████████|32/32, best_cost=-.656\n",
            "2023-06-13 08:34:36,708 - pyswarms.single.global_best - INFO - Optimization finished | best cost: -0.6562881673262577, best pos: [6.38177009e+02 3.47903162e-01 8.05900975e-01 6.41369825e-01\n",
            " 3.46915099e-01 8.24820717e+00 8.80708503e+00 2.28119508e-02\n",
            " 8.16269186e-01 8.48303673e+00 6.36018804e-01]\n",
            "2023-06-13 08:34:36,712 - pyswarms.single.global_best - INFO - Optimize for 32 iters with {'c1': 1.5, 'c2': 1.5, 'w': 0.5}\n",
            "pyswarms.single.global_best: 100%|██████████|32/32, best_cost=-.911\n",
            "2023-06-13 08:35:09,487 - pyswarms.single.global_best - INFO - Optimization finished | best cost: -0.9113822468547849, best pos: [3.91193692e+02 2.34562901e-01 8.18282089e-01 6.67211004e-01\n",
            " 1.19692244e-01 7.35072460e+00 3.31528013e+00 5.92391087e-02\n",
            " 3.32225897e-01 2.93003708e+00 2.92110538e-01]\n",
            " 17%|█▋        | 5/30 [09:46<47:26, 113.87s/it]2023-06-13 08:35:09,493 - pyswarms.single.global_best - INFO - Optimize for 32 iters with {'c1': 1.5, 'c2': 1.5, 'w': 0.5}\n",
            "pyswarms.single.global_best: 100%|██████████|32/32, best_cost=-.738\n",
            "2023-06-13 08:36:02,738 - pyswarms.single.global_best - INFO - Optimization finished | best cost: -0.7378899432809773, best pos: [6.61020518e+02 5.25332921e-01 8.19525669e-01 6.16937497e-01\n",
            " 4.47954454e-01 7.75122525e+00 1.57287715e+00 3.58040308e-02\n",
            " 2.43095105e-01 1.41269246e+00 6.66977991e-01]\n",
            "2023-06-13 08:36:02,742 - pyswarms.single.global_best - INFO - Optimize for 32 iters with {'c1': 1.5, 'c2': 1.5, 'w': 0.5}\n",
            "pyswarms.single.global_best: 100%|██████████|32/32, best_cost=-.685\n",
            "2023-06-13 08:36:27,853 - pyswarms.single.global_best - INFO - Optimization finished | best cost: -0.6852651188602648, best pos: [3.47498557e+02 4.14154208e-01 6.22375972e-01 6.08286318e-01\n",
            " 2.60225266e-01 9.28589866e+00 5.12759068e+00 5.99632076e-02\n",
            " 1.52035341e-01 7.82097915e+00 2.64522822e-01]\n",
            "2023-06-13 08:36:27,857 - pyswarms.single.global_best - INFO - Optimize for 32 iters with {'c1': 1.5, 'c2': 1.5, 'w': 0.5}\n",
            "pyswarms.single.global_best: 100%|██████████|32/32, best_cost=-.891\n",
            "2023-06-13 08:36:35,180 - pyswarms.single.global_best - INFO - Optimization finished | best cost: -0.8907273037997001, best pos: [8.09423964e+01 5.99250681e-01 8.57266070e-01 7.56410436e-01\n",
            " 1.85504353e-01 7.41967950e+00 7.45237085e+00 5.26480652e-02\n",
            " 1.47008395e-01 7.94471677e+00 2.96574246e-01]\n",
            " 20%|██        | 6/30 [11:12<41:42, 104.29s/it]2023-06-13 08:36:35,186 - pyswarms.single.global_best - INFO - Optimize for 32 iters with {'c1': 1.5, 'c2': 1.5, 'w': 0.5}\n",
            "pyswarms.single.global_best: 100%|██████████|32/32, best_cost=-.704\n",
            "2023-06-13 08:37:37,583 - pyswarms.single.global_best - INFO - Optimization finished | best cost: -0.7044284467713787, best pos: [7.13159359e+02 3.45064099e-01 8.56045062e-01 7.03668013e-01\n",
            " 2.26588301e-01 3.28937402e+00 4.46353466e+00 5.06763057e-02\n",
            " 6.27937485e-01 8.67899275e+00 3.81883801e-01]\n",
            "2023-06-13 08:37:37,587 - pyswarms.single.global_best - INFO - Optimize for 32 iters with {'c1': 1.5, 'c2': 1.5, 'w': 0.5}\n",
            "pyswarms.single.global_best: 100%|██████████|32/32, best_cost=-.657\n",
            "2023-06-13 08:38:15,906 - pyswarms.single.global_best - INFO - Optimization finished | best cost: -0.6570815763612686, best pos: [4.98015206e+02 5.69819200e-01 7.01837707e-01 8.60793675e-01\n",
            " 2.02970178e-01 4.99431750e+00 7.93220692e+00 5.33183418e-02\n",
            " 7.27142994e-01 3.97047490e+00 2.95634291e-01]\n",
            "2023-06-13 08:38:15,910 - pyswarms.single.global_best - INFO - Optimize for 32 iters with {'c1': 1.5, 'c2': 1.5, 'w': 0.5}\n",
            "pyswarms.single.global_best: 100%|██████████|32/32, best_cost=-.89\n",
            "2023-06-13 08:38:22,639 - pyswarms.single.global_best - INFO - Optimization finished | best cost: -0.8904868826295618, best pos: [7.00818173e+01 5.91093563e-01 8.23038638e-01 7.29807121e-01\n",
            " 1.91706840e-01 3.31188210e+00 5.83417838e+00 4.97429132e-02\n",
            " 3.89949934e-01 8.46038958e+00 9.06175163e-01]\n",
            " 23%|██▎       | 7/30 [12:59<40:22, 105.33s/it]2023-06-13 08:38:22,646 - pyswarms.single.global_best - INFO - Optimize for 32 iters with {'c1': 1.5, 'c2': 1.5, 'w': 0.5}\n",
            "pyswarms.single.global_best: 100%|██████████|32/32, best_cost=-.715\n",
            "2023-06-13 08:38:49,301 - pyswarms.single.global_best - INFO - Optimization finished | best cost: -0.7154095767888308, best pos: [3.21423535e+02 5.32305617e-01 6.11061284e-01 8.71385031e-01\n",
            " 4.77264005e-01 4.77402824e+00 3.46002498e+00 8.45297058e-02\n",
            " 7.43920346e-01 3.68121364e+00 2.68395869e-01]\n",
            "2023-06-13 08:38:49,304 - pyswarms.single.global_best - INFO - Optimize for 32 iters with {'c1': 1.5, 'c2': 1.5, 'w': 0.5}\n",
            "pyswarms.single.global_best: 100%|██████████|32/32, best_cost=-.656\n",
            "2023-06-13 08:39:40,431 - pyswarms.single.global_best - INFO - Optimization finished | best cost: -0.6563643435171971, best pos: [6.73098298e+02 5.95932571e-01 7.26799668e-01 7.57671632e-01\n",
            " 2.48576746e-01 8.19132986e+00 9.29970818e+00 5.05479702e-02\n",
            " 4.17569962e-01 8.55643816e+00 4.76088293e-01]\n",
            "2023-06-13 08:39:40,435 - pyswarms.single.global_best - INFO - Optimize for 32 iters with {'c1': 1.5, 'c2': 1.5, 'w': 0.5}\n",
            "pyswarms.single.global_best: 100%|██████████|32/32, best_cost=-.919\n",
            "2023-06-13 08:40:15,310 - pyswarms.single.global_best - INFO - Optimization finished | best cost: -0.9188123417962555, best pos: [4.06703353e+02 3.97524130e-01 7.93486580e-01 7.65713020e-01\n",
            " 4.02805184e-01 3.57725148e+00 1.69514200e+00 2.64836988e-02\n",
            " 5.08619568e-01 4.25233863e+00 6.36350209e-01]\n",
            " 27%|██▋       | 8/30 [14:52<39:28, 107.66s/it]2023-06-13 08:40:15,316 - pyswarms.single.global_best - INFO - Optimize for 32 iters with {'c1': 1.5, 'c2': 1.5, 'w': 0.5}\n",
            "pyswarms.single.global_best: 100%|██████████|32/32, best_cost=-.655\n",
            "2023-06-13 08:40:51,445 - pyswarms.single.global_best - INFO - Optimization finished | best cost: -0.654763852530541, best pos: [4.61732148e+02 3.72337527e-01 7.27095924e-01 7.71346895e-01\n",
            " 1.09586380e-01 4.76009447e+00 9.06651207e+00 5.28901576e-03\n",
            " 8.31979221e-01 1.91424667e+00 3.16882340e-01]\n",
            "2023-06-13 08:40:51,449 - pyswarms.single.global_best - INFO - Optimize for 32 iters with {'c1': 1.5, 'c2': 1.5, 'w': 0.5}\n",
            "pyswarms.single.global_best: 100%|██████████|32/32, best_cost=-.694\n",
            "2023-06-13 08:41:53,744 - pyswarms.single.global_best - INFO - Optimization finished | best cost: -0.693991367945595, best pos: [7.60730157e+02 1.59148770e-01 8.00952281e-01 8.93917482e-01\n",
            " 4.41417091e-01 5.21835972e+00 3.92376443e+00 5.32656816e-02\n",
            " 7.31547572e-01 9.50512013e+00 4.55204179e-01]\n",
            "2023-06-13 08:41:53,747 - pyswarms.single.global_best - INFO - Optimize for 32 iters with {'c1': 1.5, 'c2': 1.5, 'w': 0.5}\n",
            "pyswarms.single.global_best: 100%|██████████|32/32, best_cost=-.889\n",
            "2023-06-13 08:42:45,222 - pyswarms.single.global_best - INFO - Optimization finished | best cost: -0.8891740624981104, best pos: [6.73324757e+02 4.19205972e-01 6.76932615e-01 8.03375245e-01\n",
            " 4.12819298e-02 3.77522744e+00 8.92195839e+00 2.43429652e-02\n",
            " 8.32187217e-02 2.29318072e+00 8.48909815e-01]\n",
            " 30%|███       | 9/30 [17:22<42:18, 120.87s/it]2023-06-13 08:42:45,228 - pyswarms.single.global_best - INFO - Optimize for 32 iters with {'c1': 1.5, 'c2': 1.5, 'w': 0.5}\n",
            "pyswarms.single.global_best: 100%|██████████|32/32, best_cost=-.724\n",
            "2023-06-13 08:43:02,636 - pyswarms.single.global_best - INFO - Optimization finished | best cost: -0.7237183682373474, best pos: [2.03324664e+02 5.53868015e-01 8.08590466e-01 7.84724912e-01\n",
            " 1.79253884e-01 5.02641411e+00 1.27745147e+00 4.12673685e-02\n",
            " 3.18742514e-01 5.28252668e+00 3.19811071e-01]\n",
            "2023-06-13 08:43:02,640 - pyswarms.single.global_best - INFO - Optimize for 32 iters with {'c1': 1.5, 'c2': 1.5, 'w': 0.5}\n",
            "pyswarms.single.global_best: 100%|██████████|32/32, best_cost=-.646\n",
            "2023-06-13 08:43:41,276 - pyswarms.single.global_best - INFO - Optimization finished | best cost: -0.6459868543284333, best pos: [4.99899928e+02 4.45274355e-01 6.91396419e-01 6.16822440e-01\n",
            " 1.48945773e-01 4.41627890e+00 9.34493488e+00 5.54545112e-02\n",
            " 7.80639612e-01 2.93426599e+00 6.43913000e-01]\n",
            "2023-06-13 08:43:41,280 - pyswarms.single.global_best - INFO - Optimize for 32 iters with {'c1': 1.5, 'c2': 1.5, 'w': 0.5}\n",
            "pyswarms.single.global_best: 100%|██████████|32/32, best_cost=-.914\n",
            "2023-06-13 08:44:19,020 - pyswarms.single.global_best - INFO - Optimization finished | best cost: -0.9136897760442636, best pos: [5.21851300e+02 5.48511020e-01 6.58354897e-01 6.25972252e-01\n",
            " 2.49576462e-01 6.83246571e+00 3.48551701e+00 4.38306929e-02\n",
            " 7.54008792e-01 9.49538074e+00 3.49102669e-01]\n",
            " 33%|███▎      | 10/30 [18:56<37:30, 112.51s/it]2023-06-13 08:44:19,026 - pyswarms.single.global_best - INFO - Optimize for 32 iters with {'c1': 1.5, 'c2': 1.5, 'w': 0.5}\n",
            "pyswarms.single.global_best: 100%|██████████|32/32, best_cost=-.681\n",
            "2023-06-13 08:45:14,447 - pyswarms.single.global_best - INFO - Optimization finished | best cost: -0.6808818717277487, best pos: [7.34384777e+02 4.00437927e-01 7.07594391e-01 7.80725353e-01\n",
            " 2.33580464e-01 8.49922935e+00 6.68405933e+00 4.71750458e-02\n",
            " 2.46138037e-01 2.18829458e+00 8.34446110e-01]\n",
            "2023-06-13 08:45:14,451 - pyswarms.single.global_best - INFO - Optimize for 32 iters with {'c1': 1.5, 'c2': 1.5, 'w': 0.5}\n",
            "pyswarms.single.global_best: 100%|██████████|32/32, best_cost=-.703\n",
            "2023-06-13 08:46:00,137 - pyswarms.single.global_best - INFO - Optimization finished | best cost: -0.7027785357595797, best pos: [4.84031071e+02 1.91998483e-01 9.25090372e-01 9.46056496e-01\n",
            " 1.95745578e-01 4.40912462e+00 2.38999993e+00 7.80210779e-02\n",
            " 6.11906419e-01 2.84735619e+00 7.93084534e-01]\n",
            "2023-06-13 08:46:00,141 - pyswarms.single.global_best - INFO - Optimize for 32 iters with {'c1': 1.5, 'c2': 1.5, 'w': 0.5}\n",
            "pyswarms.single.global_best: 100%|██████████|32/32, best_cost=-.92\n",
            "2023-06-13 08:46:55,799 - pyswarms.single.global_best - INFO - Optimization finished | best cost: -0.9197084147535458, best pos: [6.83864313e+02 5.45590751e-01 7.40848448e-01 9.56651819e-01\n",
            " 2.03760147e-01 4.50135521e+00 1.85877476e+00 3.50387223e-02\n",
            " 9.53260946e-02 2.30309131e+00 7.65586918e-01]\n",
            " 37%|███▋      | 11/30 [21:32<39:55, 126.06s/it]2023-06-13 08:46:55,805 - pyswarms.single.global_best - INFO - Optimize for 32 iters with {'c1': 1.5, 'c2': 1.5, 'w': 0.5}\n",
            "pyswarms.single.global_best: 100%|██████████|32/32, best_cost=-.651\n",
            "2023-06-13 08:47:07,104 - pyswarms.single.global_best - INFO - Optimization finished | best cost: -0.6506190008726003, best pos: [1.30311132e+02 5.26315067e-01 9.90403565e-01 7.26918123e-01\n",
            " 3.20665675e-01 9.79895753e+00 7.94317095e+00 2.15912678e-02\n",
            " 1.66339241e-01 4.20758544e+00 9.59405667e-01]\n",
            "2023-06-13 08:47:07,108 - pyswarms.single.global_best - INFO - Optimize for 32 iters with {'c1': 1.5, 'c2': 1.5, 'w': 0.5}\n",
            "pyswarms.single.global_best: 100%|██████████|32/32, best_cost=-.662\n",
            "2023-06-13 08:47:39,991 - pyswarms.single.global_best - INFO - Optimization finished | best cost: -0.6622014414860151, best pos: [3.97939359e+02 3.57835000e-01 7.72724061e-01 6.32340456e-01\n",
            " 2.39404664e-01 4.49912862e+00 7.48292654e+00 6.67749651e-02\n",
            " 6.74692276e-01 9.07633633e+00 2.70072584e-01]\n",
            "2023-06-13 08:47:39,996 - pyswarms.single.global_best - INFO - Optimize for 32 iters with {'c1': 1.5, 'c2': 1.5, 'w': 0.5}\n",
            "pyswarms.single.global_best: 100%|██████████|32/32, best_cost=-.898\n",
            "2023-06-13 08:48:52,197 - pyswarms.single.global_best - INFO - Optimization finished | best cost: -0.89783178034201, best pos: [8.89055326e+02 4.09785945e-01 7.63482848e-01 6.29565978e-01\n",
            " 6.76836654e-02 4.05265525e+00 7.46182236e+00 1.31396750e-02\n",
            " 8.70894543e-02 2.31397215e+00 8.16156316e-01]\n",
            " 40%|████      | 12/30 [23:29<36:56, 123.12s/it]2023-06-13 08:48:52,203 - pyswarms.single.global_best - INFO - Optimize for 32 iters with {'c1': 1.5, 'c2': 1.5, 'w': 0.5}\n",
            "pyswarms.single.global_best: 100%|██████████|32/32, best_cost=-.73\n",
            "2023-06-13 08:49:17,050 - pyswarms.single.global_best - INFO - Optimization finished | best cost: -0.7295102530541011, best pos: [2.99534397e+02 3.53101807e-01 7.54005611e-01 7.67979460e-01\n",
            " 2.79341440e-01 5.24043907e+00 1.17706168e+00 5.12403527e-02\n",
            " 5.17903034e-01 3.99978609e+00 9.14371569e-01]\n",
            "2023-06-13 08:49:17,054 - pyswarms.single.global_best - INFO - Optimize for 32 iters with {'c1': 1.5, 'c2': 1.5, 'w': 0.5}\n",
            "pyswarms.single.global_best: 100%|██████████|32/32, best_cost=-.745\n",
            "2023-06-13 08:50:16,355 - pyswarms.single.global_best - INFO - Optimization finished | best cost: -0.7446215729531545, best pos: [7.29302582e+02 3.87089741e-01 6.12508528e-01 6.14591527e-01\n",
            " 9.08585034e-02 8.33073491e+00 1.18357964e+00 5.81206264e-02\n",
            " 4.86707160e-01 8.55117032e+00 7.69832081e-01]\n",
            "2023-06-13 08:50:16,359 - pyswarms.single.global_best - INFO - Optimize for 32 iters with {'c1': 1.5, 'c2': 1.5, 'w': 0.5}\n",
            "pyswarms.single.global_best: 100%|██████████|32/32, best_cost=-.896\n",
            "2023-06-13 08:51:24,119 - pyswarms.single.global_best - INFO - Optimization finished | best cost: -0.8955046786828923, best pos: [9.53590497e+02 5.31219261e-01 6.14341253e-01 6.51498364e-01\n",
            " 3.66268706e-01 7.97659324e+00 8.33355339e+00 6.49583672e-02\n",
            " 6.17286688e-01 1.72664738e+00 5.07853111e-01]\n",
            " 43%|████▎     | 13/30 [26:01<37:21, 131.85s/it]2023-06-13 08:51:24,125 - pyswarms.single.global_best - INFO - Optimize for 32 iters with {'c1': 1.5, 'c2': 1.5, 'w': 0.5}\n",
            "pyswarms.single.global_best: 100%|██████████|32/32, best_cost=-.71\n",
            "2023-06-13 08:52:20,201 - pyswarms.single.global_best - INFO - Optimization finished | best cost: -0.7096395069808028, best pos: [5.96569521e+02 2.51390585e-01 9.39966383e-01 6.09998239e-01\n",
            " 3.48900352e-01 3.73964057e+00 3.08771730e+00 1.94589305e-02\n",
            " 2.97109943e-01 5.32419099e+00 6.30717778e-01]\n",
            "2023-06-13 08:52:20,205 - pyswarms.single.global_best - INFO - Optimize for 32 iters with {'c1': 1.5, 'c2': 1.5, 'w': 0.5}\n",
            "pyswarms.single.global_best: 100%|██████████|32/32, best_cost=-.72\n",
            "2023-06-13 08:52:37,966 - pyswarms.single.global_best - INFO - Optimization finished | best cost: -0.7204924006860238, best pos: [2.09536856e+02 5.64280449e-01 6.30816576e-01 8.78026076e-01\n",
            " 1.16656391e-01 4.32731968e+00 1.17715312e+00 1.59844359e-02\n",
            " 3.08929893e-01 1.74348793e+00 3.05355257e-01]\n",
            "2023-06-13 08:52:37,970 - pyswarms.single.global_best - INFO - Optimize for 32 iters with {'c1': 1.5, 'c2': 1.5, 'w': 0.5}\n",
            "pyswarms.single.global_best: 100%|██████████|32/32, best_cost=-.867\n",
            "2023-06-13 08:52:41,996 - pyswarms.single.global_best - INFO - Optimization finished | best cost: -0.8670724236212578, best pos: [34.6749857   0.31168124  0.97470747  0.92910431  0.4928738   8.48837886\n",
            "  3.94905843  0.0645121   0.29865973  1.311766    0.09861172]\n",
            " 47%|████▋     | 14/30 [27:19<30:48, 115.54s/it]2023-06-13 08:52:42,002 - pyswarms.single.global_best - INFO - Optimize for 32 iters with {'c1': 1.5, 'c2': 1.5, 'w': 0.5}\n",
            "pyswarms.single.global_best: 100%|██████████|32/32, best_cost=-.579\n",
            "2023-06-13 08:52:44,238 - pyswarms.single.global_best - INFO - Optimization finished | best cost: -0.5790794066317627, best pos: [20.48620453  0.33503326  0.71987064  0.97448552  0.36411421  4.55310875\n",
            "  2.63738832  0.09956917  0.73774344  3.50064457  0.65144355]\n",
            "2023-06-13 08:52:44,242 - pyswarms.single.global_best - INFO - Optimize for 32 iters with {'c1': 1.5, 'c2': 1.5, 'w': 0.5}\n",
            "pyswarms.single.global_best: 100%|██████████|32/32, best_cost=-.74\n",
            "2023-06-13 08:53:38,624 - pyswarms.single.global_best - INFO - Optimization finished | best cost: -0.7395961589334539, best pos: [6.69165522e+02 3.27314401e-01 6.80918326e-01 7.52918426e-01\n",
            " 1.34571517e-01 3.16129458e+00 1.43879649e+00 8.20936469e-02\n",
            " 5.41303969e-01 4.31066782e+00 7.34779328e-01]\n",
            "2023-06-13 08:53:38,628 - pyswarms.single.global_best - INFO - Optimize for 32 iters with {'c1': 1.5, 'c2': 1.5, 'w': 0.5}\n",
            "pyswarms.single.global_best: 100%|██████████|32/32, best_cost=-.894\n",
            "2023-06-13 08:54:02,909 - pyswarms.single.global_best - INFO - Optimization finished | best cost: -0.8936277692631218, best pos: [3.01557542e+02 1.12068855e-01 6.73430231e-01 9.00261616e-01\n",
            " 9.80526508e-02 4.20535854e+00 4.27055096e+00 9.60884345e-02\n",
            " 2.87393350e-01 6.73271929e+00 6.56438663e-01]\n",
            " 50%|█████     | 15/30 [28:39<26:16, 105.11s/it]2023-06-13 08:54:02,915 - pyswarms.single.global_best - INFO - Optimize for 32 iters with {'c1': 1.5, 'c2': 1.5, 'w': 0.5}\n",
            "pyswarms.single.global_best: 100%|██████████|32/32, best_cost=-.633\n",
            "2023-06-13 08:54:09,482 - pyswarms.single.global_best - INFO - Optimization finished | best cost: -0.6328370418848168, best pos: [7.13708173e+01 4.70239834e-01 8.04712082e-01 6.29383765e-01\n",
            " 5.60329385e-02 4.20185028e+00 8.24518512e+00 8.21557966e-02\n",
            " 4.41594980e-01 1.67203516e+00 9.71858187e-01]\n",
            "2023-06-13 08:54:09,486 - pyswarms.single.global_best - INFO - Optimize for 32 iters with {'c1': 1.5, 'c2': 1.5, 'w': 0.5}\n",
            "pyswarms.single.global_best: 100%|██████████|32/32, best_cost=-.642\n",
            "2023-06-13 08:54:44,864 - pyswarms.single.global_best - INFO - Optimization finished | best cost: -0.6423474718162026, best pos: [4.57216584e+02 2.76139403e-01 6.79702653e-01 6.86165394e-01\n",
            " 4.71342729e-01 4.56712269e+00 9.39723741e+00 5.48537218e-02\n",
            " 3.19717586e-01 2.61364217e+00 1.27484190e-01]\n",
            "2023-06-13 08:54:44,868 - pyswarms.single.global_best - INFO - Optimize for 32 iters with {'c1': 1.5, 'c2': 1.5, 'w': 0.5}\n",
            "pyswarms.single.global_best: 100%|██████████|32/32, best_cost=-.892\n",
            "2023-06-13 08:55:26,582 - pyswarms.single.global_best - INFO - Optimization finished | best cost: -0.8920604608411468, best pos: [5.00724261e+02 4.77363695e-01 8.02659772e-01 6.55399051e-01\n",
            " 3.24732008e-01 6.34607232e+00 8.44561376e+00 5.69267297e-02\n",
            " 8.28007292e-01 5.03921191e+00 7.50813729e-01]\n",
            " 53%|█████▎    | 16/30 [30:03<23:01, 98.65s/it] 2023-06-13 08:55:26,588 - pyswarms.single.global_best - INFO - Optimize for 32 iters with {'c1': 1.5, 'c2': 1.5, 'w': 0.5}\n",
            "pyswarms.single.global_best: 100%|██████████|32/32, best_cost=-.731\n",
            "2023-06-13 08:55:48,752 - pyswarms.single.global_best - INFO - Optimization finished | best cost: -0.7305164703315881, best pos: [2.96071330e+02 4.68184165e-01 6.40753842e-01 7.27696197e-01\n",
            " 1.21667887e-01 9.24529379e+00 1.33868785e+00 7.26984961e-02\n",
            " 7.24565362e-01 6.15929357e+00 8.18042933e-01]\n",
            "2023-06-13 08:55:48,756 - pyswarms.single.global_best - INFO - Optimize for 32 iters with {'c1': 1.5, 'c2': 1.5, 'w': 0.5}\n",
            "pyswarms.single.global_best: 100%|██████████|32/32, best_cost=-.669\n",
            "2023-06-13 08:56:45,180 - pyswarms.single.global_best - INFO - Optimization finished | best cost: -0.6689704277762698, best pos: [6.75079394e+02 5.03379631e-01 8.42207990e-01 7.10685366e-01\n",
            " 3.97317821e-01 6.99582334e+00 7.42683167e+00 4.69008509e-02\n",
            " 5.68629886e-01 3.61810601e+00 5.95791734e-01]\n",
            "2023-06-13 08:56:45,184 - pyswarms.single.global_best - INFO - Optimize for 32 iters with {'c1': 1.5, 'c2': 1.5, 'w': 0.5}\n",
            "pyswarms.single.global_best: 100%|██████████|32/32, best_cost=-.903\n",
            "2023-06-13 08:57:01,506 - pyswarms.single.global_best - INFO - Optimization finished | best cost: -0.9028839475497759, best pos: [1.77804147e+02 5.81865346e-01 6.14876353e-01 8.52103885e-01\n",
            " 3.64228373e-01 5.13981212e+00 4.57332001e+00 5.86845805e-02\n",
            " 4.53620744e-01 8.22920814e+00 3.38034594e-01]\n",
            " 57%|█████▋    | 17/30 [31:38<21:07, 97.53s/it]2023-06-13 08:57:01,512 - pyswarms.single.global_best - INFO - Optimize for 32 iters with {'c1': 1.5, 'c2': 1.5, 'w': 0.5}\n",
            "pyswarms.single.global_best: 100%|██████████|32/32, best_cost=-.654\n",
            "2023-06-13 08:58:18,473 - pyswarms.single.global_best - INFO - Optimization finished | best cost: -0.6537712696335077, best pos: [9.64317336e+02 4.78908468e-01 7.12195619e-01 7.50940119e-01\n",
            " 4.37334276e-01 4.94803851e+00 9.80711953e+00 7.26655055e-02\n",
            " 3.11951213e-01 6.08273888e+00 4.97919606e-01]\n",
            "2023-06-13 08:58:18,477 - pyswarms.single.global_best - INFO - Optimize for 32 iters with {'c1': 1.5, 'c2': 1.5, 'w': 0.5}\n",
            "pyswarms.single.global_best: 100%|██████████|32/32, best_cost=-.653\n",
            "2023-06-13 08:58:39,271 - pyswarms.single.global_best - INFO - Optimization finished | best cost: -0.6529416143477509, best pos: [2.45113652e+02 4.79790173e-01 8.24637673e-01 7.08859030e-01\n",
            " 1.35111011e-02 5.65111177e+00 8.40630001e+00 2.77507787e-02\n",
            " 6.41759352e-01 3.29050612e+00 6.99556727e-01]\n",
            "2023-06-13 08:58:39,275 - pyswarms.single.global_best - INFO - Optimize for 32 iters with {'c1': 1.5, 'c2': 1.5, 'w': 0.5}\n",
            "pyswarms.single.global_best: 100%|██████████|32/32, best_cost=-.914\n",
            "2023-06-13 08:59:15,687 - pyswarms.single.global_best - INFO - Optimization finished | best cost: -0.9144957483128732, best pos: [4.35429924e+02 2.47132681e-01 7.69217608e-01 6.89345936e-01\n",
            " 2.22592680e-01 5.14076225e+00 2.58427933e+00 4.91212777e-02\n",
            " 1.67338080e-01 2.92603291e+00 6.05511570e-01]\n",
            " 60%|██████    | 18/30 [33:52<21:42, 108.55s/it]2023-06-13 08:59:15,692 - pyswarms.single.global_best - INFO - Optimize for 32 iters with {'c1': 1.5, 'c2': 1.5, 'w': 0.5}\n",
            "pyswarms.single.global_best: 100%|██████████|32/32, best_cost=-.733\n",
            "2023-06-13 09:00:28,852 - pyswarms.single.global_best - INFO - Optimization finished | best cost: -0.732659794938918, best pos: [8.50138793e+02 3.16201039e-01 8.44413305e-01 7.54132022e-01\n",
            " 3.27820109e-01 5.86120358e+00 1.91352849e+00 9.90800699e-02\n",
            " 3.36524399e-01 5.61667900e+00 1.92844835e-01]\n",
            "2023-06-13 09:00:28,856 - pyswarms.single.global_best - INFO - Optimize for 32 iters with {'c1': 1.5, 'c2': 1.5, 'w': 0.5}\n",
            "pyswarms.single.global_best: 100%|██████████|32/32, best_cost=-.691\n",
            "2023-06-13 09:00:40,726 - pyswarms.single.global_best - INFO - Optimization finished | best cost: -0.6905445778935961, best pos: [1.51448794e+02 2.85724714e-01 6.53170587e-01 6.65838674e-01\n",
            " 1.20065118e-01 7.04173441e+00 1.31010082e+00 8.15617077e-02\n",
            " 2.78619090e-01 4.80538300e+00 5.39123196e-01]\n",
            "2023-06-13 09:00:40,730 - pyswarms.single.global_best - INFO - Optimize for 32 iters with {'c1': 1.5, 'c2': 1.5, 'w': 0.5}\n",
            "pyswarms.single.global_best: 100%|██████████|32/32, best_cost=-.892\n",
            "2023-06-13 09:00:50,584 - pyswarms.single.global_best - INFO - Optimization finished | best cost: -0.8922071293796747, best pos: [9.84914011e+01 5.75795428e-01 9.43000276e-01 7.55933277e-01\n",
            " 1.47652020e-01 9.54629532e+00 6.72943399e+00 9.26816742e-02\n",
            " 7.42289675e-01 9.49235286e+00 8.31883310e-01]\n",
            " 63%|██████▎   | 19/30 [35:27<19:08, 104.45s/it]2023-06-13 09:00:50,590 - pyswarms.single.global_best - INFO - Optimize for 32 iters with {'c1': 1.5, 'c2': 1.5, 'w': 0.5}\n",
            "pyswarms.single.global_best: 100%|██████████|32/32, best_cost=-.704\n",
            "2023-06-13 09:02:12,337 - pyswarms.single.global_best - INFO - Optimization finished | best cost: -0.7044802574171029, best pos: [9.44875784e+02 4.53232467e-01 8.66957224e-01 7.64043587e-01\n",
            " 4.05093925e-01 8.31702689e+00 4.48667204e+00 6.35762969e-02\n",
            " 7.24559870e-01 9.29976109e+00 2.81714117e-01]\n",
            "2023-06-13 09:02:12,340 - pyswarms.single.global_best - INFO - Optimize for 32 iters with {'c1': 1.5, 'c2': 1.5, 'w': 0.5}\n",
            "pyswarms.single.global_best: 100%|██████████|32/32, best_cost=-.7\n",
            "2023-06-13 09:02:26,677 - pyswarms.single.global_best - INFO - Optimization finished | best cost: -0.6996604756459154, best pos: [1.63971748e+02 5.15566470e-01 6.61549506e-01 8.92997105e-01\n",
            " 1.35924078e-01 7.36897569e+00 2.72336769e+00 4.12838311e-02\n",
            " 2.86467339e-01 2.59112793e+00 5.65543175e-01]\n",
            "2023-06-13 09:02:26,681 - pyswarms.single.global_best - INFO - Optimize for 32 iters with {'c1': 1.5, 'c2': 1.5, 'w': 0.5}\n",
            "pyswarms.single.global_best: 100%|██████████|32/32, best_cost=-.906\n",
            "2023-06-13 09:02:53,103 - pyswarms.single.global_best - INFO - Optimization finished | best cost: -0.9064930365285184, best pos: [3.13042392e+02 5.37751541e-01 7.71178300e-01 7.26994452e-01\n",
            " 7.70230942e-02 5.17973492e+00 4.56167623e+00 6.11927546e-02\n",
            " 5.25443120e-02 5.20174507e+00 4.53272973e-01]\n",
            " 67%|██████▋   | 20/30 [37:30<18:18, 109.87s/it]2023-06-13 09:02:53,109 - pyswarms.single.global_best - INFO - Optimize for 32 iters with {'c1': 1.5, 'c2': 1.5, 'w': 0.5}\n",
            "pyswarms.single.global_best: 100%|██████████|32/32, best_cost=-.702\n",
            "2023-06-13 09:03:46,668 - pyswarms.single.global_best - INFO - Optimization finished | best cost: -0.7018106457242583, best pos: [7.03125159e+02 2.00395924e-01 6.58959832e-01 7.50403463e-01\n",
            " 1.88557093e-01 7.23297777e+00 4.49024712e+00 4.54863524e-02\n",
            " 7.68075154e-01 4.20711778e+00 3.80849845e-01]\n",
            "2023-06-13 09:03:46,672 - pyswarms.single.global_best - INFO - Optimize for 32 iters with {'c1': 1.5, 'c2': 1.5, 'w': 0.5}\n",
            "pyswarms.single.global_best: 100%|██████████|32/32, best_cost=-.646\n",
            "2023-06-13 09:04:50,716 - pyswarms.single.global_best - INFO - Optimization finished | best cost: -0.6455344234237006, best pos: [7.72649258e+02 5.34728045e-01 8.17791696e-01 7.33041675e-01\n",
            " 3.75390289e-01 7.15121868e+00 9.62866094e+00 8.29425827e-02\n",
            " 2.52114957e-01 4.84341491e+00 8.72296560e-01]\n",
            "2023-06-13 09:04:50,720 - pyswarms.single.global_best - INFO - Optimize for 32 iters with {'c1': 1.5, 'c2': 1.5, 'w': 0.5}\n",
            "pyswarms.single.global_best: 100%|██████████|32/32, best_cost=-.896\n",
            "2023-06-13 09:05:24,637 - pyswarms.single.global_best - INFO - Optimization finished | best cost: -0.8958406832976931, best pos: [3.54914130e+02 2.62531794e-01 9.32411833e-01 6.15797941e-01\n",
            " 2.95066245e-01 7.37282996e+00 6.39776903e+00 6.63255828e-02\n",
            " 5.02748293e-01 6.73564726e+00 2.25804190e-01]\n",
            " 70%|███████   | 21/30 [40:01<18:21, 122.38s/it]2023-06-13 09:05:24,643 - pyswarms.single.global_best - INFO - Optimize for 32 iters with {'c1': 1.5, 'c2': 1.5, 'w': 0.5}\n",
            "pyswarms.single.global_best: 100%|██████████|32/32, best_cost=-.603\n",
            "2023-06-13 09:05:27,247 - pyswarms.single.global_best - INFO - Optimization finished | best cost: -0.6026041666666667, best pos: [2.47735861e+01 5.24683640e-01 7.40530382e-01 8.59915675e-01\n",
            " 2.27823239e-01 8.07678353e+00 5.88004734e+00 1.06006414e-02\n",
            " 1.07813465e-01 8.85502730e+00 3.72210452e-01]\n",
            "2023-06-13 09:05:27,251 - pyswarms.single.global_best - INFO - Optimize for 32 iters with {'c1': 1.5, 'c2': 1.5, 'w': 0.5}\n",
            "pyswarms.single.global_best: 100%|██████████|32/32, best_cost=-.643\n",
            "2023-06-13 09:06:43,917 - pyswarms.single.global_best - INFO - Optimization finished | best cost: -0.6433309331646991, best pos: [8.77079031e+02 3.47537335e-01 8.94273068e-01 7.59161879e-01\n",
            " 2.79264291e-01 5.88390798e+00 9.86268926e+00 4.32208419e-02\n",
            " 6.38279335e-01 8.39620162e+00 5.30738985e-01]\n",
            "2023-06-13 09:06:43,921 - pyswarms.single.global_best - INFO - Optimize for 32 iters with {'c1': 1.5, 'c2': 1.5, 'w': 0.5}\n",
            "pyswarms.single.global_best: 100%|██████████|32/32, best_cost=-.905\n",
            "2023-06-13 09:07:54,143 - pyswarms.single.global_best - INFO - Optimization finished | best cost: -0.9046494268000924, best pos: [8.33996266e+02 3.89339674e-01 7.28008819e-01 8.03905381e-01\n",
            " 2.17030298e-01 6.51995414e+00 5.71214083e+00 6.07217098e-02\n",
            " 6.10111922e-01 6.22457969e+00 6.86566932e-01]\n",
            " 73%|███████▎  | 22/30 [42:31<17:24, 130.52s/it]2023-06-13 09:07:54,150 - pyswarms.single.global_best - INFO - Optimize for 32 iters with {'c1': 1.5, 'c2': 1.5, 'w': 0.5}\n",
            "pyswarms.single.global_best: 100%|██████████|32/32, best_cost=-.652\n",
            "2023-06-13 09:07:59,454 - pyswarms.single.global_best - INFO - Optimization finished | best cost: -0.6516961169284468, best pos: [5.11276334e+01 5.99346634e-01 8.74662946e-01 7.21621126e-01\n",
            " 5.08361687e-02 4.94856210e+00 5.36546645e+00 8.22093598e-02\n",
            " 2.51344562e-01 5.28482312e+00 2.47074942e-01]\n",
            "2023-06-13 09:07:59,457 - pyswarms.single.global_best - INFO - Optimize for 32 iters with {'c1': 1.5, 'c2': 1.5, 'w': 0.5}\n",
            "pyswarms.single.global_best: 100%|██████████|32/32, best_cost=-.671\n",
            "2023-06-13 09:08:54,536 - pyswarms.single.global_best - INFO - Optimization finished | best cost: -0.6705804492123788, best pos: [6.72808792e+02 2.19420052e-01 7.87452818e-01 6.46363948e-01\n",
            " 3.79697558e-01 7.94674858e+00 6.46413174e+00 7.31499395e-02\n",
            " 3.80221155e-01 2.11724232e+00 2.86366491e-01]\n",
            "2023-06-13 09:08:54,541 - pyswarms.single.global_best - INFO - Optimize for 32 iters with {'c1': 1.5, 'c2': 1.5, 'w': 0.5}\n",
            "pyswarms.single.global_best: 100%|██████████|32/32, best_cost=-.914\n",
            "2023-06-13 09:09:18,194 - pyswarms.single.global_best - INFO - Optimization finished | best cost: -0.9144895710434845, best pos: [2.76526323e+02 5.35547540e-01 7.68838353e-01 6.13780656e-01\n",
            " 2.89191923e-01 3.89694822e+00 3.25466242e+00 4.24063996e-02\n",
            " 9.25916602e-01 4.44064702e+00 7.04710690e-01]\n",
            " 77%|███████▋  | 23/30 [43:55<13:36, 116.58s/it]2023-06-13 09:09:18,200 - pyswarms.single.global_best - INFO - Optimize for 32 iters with {'c1': 1.5, 'c2': 1.5, 'w': 0.5}\n",
            "pyswarms.single.global_best: 100%|██████████|32/32, best_cost=-.642\n",
            "2023-06-13 09:09:25,140 - pyswarms.single.global_best - INFO - Optimization finished | best cost: -0.641803010471204, best pos: [7.51861888e+01 2.49647206e-01 8.32333437e-01 9.52943057e-01\n",
            " 1.99012631e-01 7.18279381e+00 2.84186788e+00 5.13523619e-02\n",
            " 1.16492710e-01 7.49379695e+00 8.15117582e-01]\n",
            "2023-06-13 09:09:25,145 - pyswarms.single.global_best - INFO - Optimize for 32 iters with {'c1': 1.5, 'c2': 1.5, 'w': 0.5}\n",
            "pyswarms.single.global_best: 100%|██████████|32/32, best_cost=-.743\n",
            "2023-06-13 09:09:55,478 - pyswarms.single.global_best - INFO - Optimization finished | best cost: -0.7427767153485716, best pos: [4.02986345e+02 4.31302880e-01 6.65398442e-01 6.03582640e-01\n",
            " 4.27831005e-01 8.82131684e+00 1.35023042e+00 3.57714491e-02\n",
            " 3.58958201e-01 7.69334332e+00 4.47501988e-01]\n",
            "2023-06-13 09:09:55,482 - pyswarms.single.global_best - INFO - Optimize for 32 iters with {'c1': 1.5, 'c2': 1.5, 'w': 0.5}\n",
            "pyswarms.single.global_best: 100%|██████████|32/32, best_cost=-.906\n",
            "2023-06-13 09:10:06,118 - pyswarms.single.global_best - INFO - Optimization finished | best cost: -0.9060395374551777, best pos: [1.20162029e+02 4.90877920e-01 7.55670754e-01 8.02831145e-01\n",
            " 1.40352940e-01 6.28361569e+00 3.26521935e+00 4.23502043e-02\n",
            " 7.44539764e-01 4.75723741e+00 5.76728838e-01]\n",
            " 80%|████████  | 24/30 [44:43<09:35, 95.98s/it] 2023-06-13 09:10:06,124 - pyswarms.single.global_best - INFO - Optimize for 32 iters with {'c1': 1.5, 'c2': 1.5, 'w': 0.5}\n",
            "pyswarms.single.global_best: 100%|██████████|32/32, best_cost=-.692\n",
            "2023-06-13 09:10:24,770 - pyswarms.single.global_best - INFO - Optimization finished | best cost: -0.6924438263525305, best pos: [2.21237096e+02 5.73474357e-01 7.60348823e-01 7.06680685e-01\n",
            " 9.61024951e-02 9.43997228e+00 5.01787658e+00 7.01023759e-02\n",
            " 4.24052859e-01 4.25881172e+00 7.55759118e-01]\n",
            "2023-06-13 09:10:24,774 - pyswarms.single.global_best - INFO - Optimize for 32 iters with {'c1': 1.5, 'c2': 1.5, 'w': 0.5}\n",
            "pyswarms.single.global_best: 100%|██████████|32/32, best_cost=-.704\n",
            "2023-06-13 09:10:48,384 - pyswarms.single.global_best - INFO - Optimization finished | best cost: -0.7042300495409342, best pos: [3.03332529e+02 2.13696171e-01 6.88130560e-01 6.94241387e-01\n",
            " 4.53712295e-01 9.03848706e+00 2.38532045e+00 7.30837859e-02\n",
            " 8.59805812e-01 2.57206465e+00 3.13462393e-01]\n",
            "2023-06-13 09:10:48,388 - pyswarms.single.global_best - INFO - Optimize for 32 iters with {'c1': 1.5, 'c2': 1.5, 'w': 0.5}\n",
            "pyswarms.single.global_best: 100%|██████████|32/32, best_cost=-.888\n",
            "2023-06-13 09:11:39,743 - pyswarms.single.global_best - INFO - Optimization finished | best cost: -0.8877995174428097, best pos: [5.41969706e+02 3.83416490e-01 9.75034350e-01 6.98102813e-01\n",
            " 1.27745592e-01 6.17655626e+00 8.35586124e+00 6.59436297e-02\n",
            " 2.38023784e-01 7.16437492e+00 7.74104129e-01]\n",
            " 83%|████████▎ | 25/30 [46:16<07:56, 95.27s/it]2023-06-13 09:11:39,749 - pyswarms.single.global_best - INFO - Optimize for 32 iters with {'c1': 1.5, 'c2': 1.5, 'w': 0.5}\n",
            "pyswarms.single.global_best: 100%|██████████|32/32, best_cost=-.648\n",
            "2023-06-13 09:11:55,932 - pyswarms.single.global_best - INFO - Optimization finished | best cost: -0.6480475567190227, best pos: [1.88450663e+02 1.14429796e-01 7.93660778e-01 6.99838646e-01\n",
            " 1.10154141e-01 5.94428498e+00 3.52089809e+00 4.08333096e-02\n",
            " 7.10271555e-01 9.10674493e+00 4.72749887e-01]\n",
            "2023-06-13 09:11:55,936 - pyswarms.single.global_best - INFO - Optimize for 32 iters with {'c1': 1.5, 'c2': 1.5, 'w': 0.5}\n",
            "pyswarms.single.global_best: 100%|██████████|32/32, best_cost=-.716\n",
            "2023-06-13 09:12:44,079 - pyswarms.single.global_best - INFO - Optimization finished | best cost: -0.7158489666355434, best pos: [6.29657525e+02 3.10392139e-01 7.21156729e-01 6.43735475e-01\n",
            " 3.20706477e-01 9.71270772e+00 3.19005997e+00 4.17270237e-02\n",
            " 2.69222073e-01 5.56167421e+00 3.62799173e-01]\n",
            "2023-06-13 09:12:44,083 - pyswarms.single.global_best - INFO - Optimize for 32 iters with {'c1': 1.5, 'c2': 1.5, 'w': 0.5}\n",
            "pyswarms.single.global_best: 100%|██████████|32/32, best_cost=-.889\n",
            "2023-06-13 09:13:14,768 - pyswarms.single.global_best - INFO - Optimization finished | best cost: -0.8893322667237827, best pos: [3.62394974e+02 1.77786931e-01 8.32675541e-01 8.12146615e-01\n",
            " 5.81296159e-02 8.37173538e+00 7.58128741e+00 8.84501546e-02\n",
            " 2.25097339e-01 5.16654664e+00 8.15157141e-01]\n",
            " 87%|████████▋ | 26/30 [47:51<06:20, 95.20s/it]2023-06-13 09:13:14,774 - pyswarms.single.global_best - INFO - Optimize for 32 iters with {'c1': 1.5, 'c2': 1.5, 'w': 0.5}\n",
            "pyswarms.single.global_best: 100%|██████████|32/32, best_cost=-.679\n",
            "2023-06-13 09:13:22,513 - pyswarms.single.global_best - INFO - Optimization finished | best cost: -0.67936027486911, best pos: [8.03450994e+01 5.27526800e-01 8.60702969e-01 7.03544190e-01\n",
            " 1.30888805e-01 8.44507531e+00 3.29281073e+00 1.53776486e-02\n",
            " 6.42219613e-01 2.23435541e+00 8.89584239e-01]\n",
            "2023-06-13 09:13:22,517 - pyswarms.single.global_best - INFO - Optimize for 32 iters with {'c1': 1.5, 'c2': 1.5, 'w': 0.5}\n",
            "pyswarms.single.global_best: 100%|██████████|32/32, best_cost=-.732\n",
            "2023-06-13 09:14:16,330 - pyswarms.single.global_best - INFO - Optimization finished | best cost: -0.7316433240131541, best pos: [6.86343514e+02 4.45664219e-01 7.43485219e-01 8.20511689e-01\n",
            " 1.67532528e-01 3.81092830e+00 1.29482610e+00 9.30348409e-02\n",
            " 9.60082370e-01 1.54164698e+00 4.63261029e-01]\n",
            "2023-06-13 09:14:16,334 - pyswarms.single.global_best - INFO - Optimize for 32 iters with {'c1': 1.5, 'c2': 1.5, 'w': 0.5}\n",
            "pyswarms.single.global_best: 100%|██████████|32/32, best_cost=-.916\n",
            "2023-06-13 09:15:19,677 - pyswarms.single.global_best - INFO - Optimization finished | best cost: -0.9157629440216066, best pos: [7.17085545e+02 3.71323657e-01 8.73676104e-01 6.83043495e-01\n",
            " 2.13803667e-01 4.05980807e+00 2.65098153e+00 2.77069463e-02\n",
            " 7.79440965e-01 5.45913998e+00 8.62889611e-01]\n",
            " 90%|█████████ | 27/30 [49:56<05:12, 104.11s/it]2023-06-13 09:15:19,683 - pyswarms.single.global_best - INFO - Optimize for 32 iters with {'c1': 1.5, 'c2': 1.5, 'w': 0.5}\n",
            "pyswarms.single.global_best: 100%|██████████|32/32, best_cost=-.661\n",
            "2023-06-13 09:15:36,674 - pyswarms.single.global_best - INFO - Optimization finished | best cost: -0.6610629363001744, best pos: [1.86277597e+02 5.57879164e-01 8.36644733e-01 8.48187273e-01\n",
            " 4.83468017e-01 5.68037892e+00 7.72362532e+00 8.00335975e-02\n",
            " 8.91217951e-01 2.36150742e+00 6.58398455e-01]\n",
            "2023-06-13 09:15:36,678 - pyswarms.single.global_best - INFO - Optimize for 32 iters with {'c1': 1.5, 'c2': 1.5, 'w': 0.5}\n",
            "pyswarms.single.global_best: 100%|██████████|32/32, best_cost=-.66\n",
            "2023-06-13 09:16:09,945 - pyswarms.single.global_best - INFO - Optimization finished | best cost: -0.6600751687207169, best pos: [4.11182539e+02 2.66046608e-01 6.94265880e-01 7.79624446e-01\n",
            " 3.06102805e-01 9.20537920e+00 7.00908875e+00 6.70248772e-02\n",
            " 3.98906380e-01 5.79428490e+00 3.63598836e-01]\n",
            "2023-06-13 09:16:09,949 - pyswarms.single.global_best - INFO - Optimize for 32 iters with {'c1': 1.5, 'c2': 1.5, 'w': 0.5}\n",
            "pyswarms.single.global_best: 100%|██████████|32/32, best_cost=-.901\n",
            "2023-06-13 09:17:06,294 - pyswarms.single.global_best - INFO - Optimization finished | best cost: -0.9012460606645527, best pos: [6.37364445e+02 4.50875838e-01 8.56097568e-01 6.41870759e-01\n",
            " 1.64197392e-01 3.24929965e+00 6.05826271e+00 6.03182946e-02\n",
            " 6.05541481e-01 2.06891637e+00 6.71352661e-01]\n",
            " 93%|█████████▎| 28/30 [51:43<03:29, 104.86s/it]2023-06-13 09:17:06,300 - pyswarms.single.global_best - INFO - Optimize for 32 iters with {'c1': 1.5, 'c2': 1.5, 'w': 0.5}\n",
            "pyswarms.single.global_best: 100%|██████████|32/32, best_cost=-.654\n",
            "2023-06-13 09:17:37,511 - pyswarms.single.global_best - INFO - Optimization finished | best cost: -0.6537821771378709, best pos: [4.22330985e+02 2.87242757e-01 6.25790411e-01 7.38988931e-01\n",
            " 2.23112808e-01 7.27674199e+00 8.57207117e+00 4.20520939e-02\n",
            " 8.36542654e-01 1.09550514e+00 6.74420801e-01]\n",
            "2023-06-13 09:17:37,515 - pyswarms.single.global_best - INFO - Optimize for 32 iters with {'c1': 1.5, 'c2': 1.5, 'w': 0.5}\n",
            "pyswarms.single.global_best: 100%|██████████|32/32, best_cost=-.73\n",
            "2023-06-13 09:18:25,786 - pyswarms.single.global_best - INFO - Optimization finished | best cost: -0.7298327523216972, best pos: [6.11296539e+02 4.43763952e-01 7.30717388e-01 6.93443164e-01\n",
            " 2.88328457e-01 7.45381826e+00 2.79980915e+00 4.63193905e-02\n",
            " 3.54162805e-01 6.65530216e+00 4.59957991e-01]\n",
            "2023-06-13 09:18:25,791 - pyswarms.single.global_best - INFO - Optimize for 32 iters with {'c1': 1.5, 'c2': 1.5, 'w': 0.5}\n",
            "pyswarms.single.global_best: 100%|██████████|32/32, best_cost=-.913\n",
            "2023-06-13 09:19:14,576 - pyswarms.single.global_best - INFO - Optimization finished | best cost: -0.9125991473209731, best pos: [6.31841231e+02 4.02111428e-01 7.10435712e-01 7.47311240e-01\n",
            " 3.24368131e-01 5.89515624e+00 3.72433608e+00 5.52877708e-02\n",
            " 6.21909258e-01 3.18252496e+00 3.85314149e-01]\n",
            " 97%|█████████▋| 29/30 [53:51<01:51, 111.89s/it]2023-06-13 09:19:14,583 - pyswarms.single.global_best - INFO - Optimize for 32 iters with {'c1': 1.5, 'c2': 1.5, 'w': 0.5}\n",
            "pyswarms.single.global_best: 100%|██████████|32/32, best_cost=-.735\n",
            "2023-06-13 09:20:25,711 - pyswarms.single.global_best - INFO - Optimization finished | best cost: -0.7347840314136126, best pos: [8.78022281e+02 3.96015549e-01 7.90257989e-01 7.11710746e-01\n",
            " 3.29275833e-01 5.38047638e+00 2.41661472e+00 2.33391234e-02\n",
            " 6.10578678e-01 6.49501814e+00 7.22316205e-01]\n",
            "2023-06-13 09:20:25,715 - pyswarms.single.global_best - INFO - Optimize for 32 iters with {'c1': 1.5, 'c2': 1.5, 'w': 0.5}\n",
            "pyswarms.single.global_best: 100%|██████████|32/32, best_cost=-.663\n",
            "2023-06-13 09:20:57,604 - pyswarms.single.global_best - INFO - Optimization finished | best cost: -0.6625931514741044, best pos: [3.83214571e+02 5.36109092e-01 7.77888218e-01 9.39869301e-01\n",
            " 4.84861808e-01 7.34485126e+00 6.55752604e+00 6.82618720e-02\n",
            " 4.25235621e-01 4.69354139e+00 4.50841745e-01]\n",
            "2023-06-13 09:20:57,609 - pyswarms.single.global_best - INFO - Optimize for 32 iters with {'c1': 1.5, 'c2': 1.5, 'w': 0.5}\n",
            "pyswarms.single.global_best: 100%|██████████|32/32, best_cost=-.886\n",
            "2023-06-13 09:21:14,344 - pyswarms.single.global_best - INFO - Optimization finished | best cost: -0.8864942026780188, best pos: [1.92004616e+02 3.24627981e-01 8.42345514e-01 7.73153011e-01\n",
            " 2.80353232e-01 9.63132362e+00 8.51025596e+00 4.98546808e-02\n",
            " 2.02431671e-01 5.21311333e+00 5.26021596e-01]\n",
            "100%|██████████| 30/30 [55:51<00:00, 111.71s/it]\n"
          ]
        }
      ],
      "source": [
        "#2 min cada, ver se tem early stop\n",
        "full_run_pso(30)"
      ]
    },
    {
      "cell_type": "code",
      "execution_count": 85,
      "metadata": {},
      "outputs": [],
      "source": [
        "def full_run_random_searh(iterations):\n",
        "    filename = './XGBoost_wine_data.csv'\n",
        "\n",
        "    try:\n",
        "        XGBoost_data = pd.read_csv(filename)\n",
        "    except:\n",
        "        open(filename, \"a\")\n",
        "        XGBoost_data = pd.DataFrame(columns=['Algorithm', 'Accuracy', 'F1', 'AUC'])\n",
        "\n",
        "\n",
        "    for i in tqdm(range(iterations)):\n",
        "\n",
        "        accuracy_rs = run_random_search_accuracy()\n",
        "        f1_rs = run_random_search_f1()\n",
        "        auc_rs = run_random_search_auc()\n",
        "        temp = pd.DataFrame({'Algorithm' : ['Random Search'], \n",
        "                            'Accuracy' :[accuracy_rs], \n",
        "                            'F1' : [f1_rs], \n",
        "                            'AUC' : [auc_rs]})\n",
        "        #XGBoost_data = XGBoost_data.append(temp, ignore_index = True)\n",
        "        XGBoost_data = pd.concat([XGBoost_data, temp], ignore_index=True)\n",
        "        XGBoost_data[['Algorithm', 'Accuracy', 'F1', 'AUC']].to_csv(filename)"
      ]
    },
    {
      "cell_type": "code",
      "execution_count": 86,
      "metadata": {},
      "outputs": [
        {
          "name": "stderr",
          "output_type": "stream",
          "text": [
            "  0%|          | 0/1 [00:00<?, ?it/s]"
          ]
        },
        {
          "name": "stdout",
          "output_type": "stream",
          "text": [
            "[09:31:26] WARNING: C:\\buildkite-agent\\builds\\buildkite-windows-cpu-autoscaling-group-i-07593ffd91cd9da33-1\\xgboost\\xgboost-ci-windows\\src\\learner.cc:767: \n",
            "Parameters: { \"scale_pos_weight\" } are not used.\n",
            "\n",
            "[09:41:34] WARNING: C:\\buildkite-agent\\builds\\buildkite-windows-cpu-autoscaling-group-i-07593ffd91cd9da33-1\\xgboost\\xgboost-ci-windows\\src\\learner.cc:767: \n",
            "Parameters: { \"scale_pos_weight\" } are not used.\n",
            "\n",
            "[09:51:29] WARNING: C:\\buildkite-agent\\builds\\buildkite-windows-cpu-autoscaling-group-i-07593ffd91cd9da33-1\\xgboost\\xgboost-ci-windows\\src\\learner.cc:767: \n",
            "Parameters: { \"scale_pos_weight\" } are not used.\n",
            "\n"
          ]
        },
        {
          "name": "stderr",
          "output_type": "stream",
          "text": [
            "100%|██████████| 1/1 [30:16<00:00, 1816.03s/it]\n",
            "  0%|          | 0/1 [00:00<?, ?it/s]"
          ]
        },
        {
          "name": "stdout",
          "output_type": "stream",
          "text": [
            "[10:01:27] WARNING: C:\\buildkite-agent\\builds\\buildkite-windows-cpu-autoscaling-group-i-07593ffd91cd9da33-1\\xgboost\\xgboost-ci-windows\\src\\learner.cc:767: \n",
            "Parameters: { \"scale_pos_weight\" } are not used.\n",
            "\n",
            "[10:11:15] WARNING: C:\\buildkite-agent\\builds\\buildkite-windows-cpu-autoscaling-group-i-07593ffd91cd9da33-1\\xgboost\\xgboost-ci-windows\\src\\learner.cc:767: \n",
            "Parameters: { \"scale_pos_weight\" } are not used.\n",
            "\n",
            "[10:21:25] WARNING: C:\\buildkite-agent\\builds\\buildkite-windows-cpu-autoscaling-group-i-07593ffd91cd9da33-1\\xgboost\\xgboost-ci-windows\\src\\learner.cc:767: \n",
            "Parameters: { \"scale_pos_weight\" } are not used.\n",
            "\n"
          ]
        },
        {
          "name": "stderr",
          "output_type": "stream",
          "text": [
            "100%|██████████| 1/1 [29:55<00:00, 1795.85s/it]\n",
            "  0%|          | 0/1 [00:00<?, ?it/s]"
          ]
        },
        {
          "name": "stdout",
          "output_type": "stream",
          "text": [
            "[10:31:02] WARNING: C:\\buildkite-agent\\builds\\buildkite-windows-cpu-autoscaling-group-i-07593ffd91cd9da33-1\\xgboost\\xgboost-ci-windows\\src\\learner.cc:767: \n",
            "Parameters: { \"scale_pos_weight\" } are not used.\n",
            "\n",
            "[10:41:05] WARNING: C:\\buildkite-agent\\builds\\buildkite-windows-cpu-autoscaling-group-i-07593ffd91cd9da33-1\\xgboost\\xgboost-ci-windows\\src\\learner.cc:767: \n",
            "Parameters: { \"scale_pos_weight\" } are not used.\n",
            "\n",
            "[10:50:49] WARNING: C:\\buildkite-agent\\builds\\buildkite-windows-cpu-autoscaling-group-i-07593ffd91cd9da33-1\\xgboost\\xgboost-ci-windows\\src\\learner.cc:767: \n",
            "Parameters: { \"scale_pos_weight\" } are not used.\n",
            "\n"
          ]
        },
        {
          "name": "stderr",
          "output_type": "stream",
          "text": [
            "100%|██████████| 1/1 [29:25<00:00, 1765.53s/it]\n",
            "  0%|          | 0/1 [00:00<?, ?it/s]"
          ]
        },
        {
          "name": "stdout",
          "output_type": "stream",
          "text": [
            "[11:00:50] WARNING: C:\\buildkite-agent\\builds\\buildkite-windows-cpu-autoscaling-group-i-07593ffd91cd9da33-1\\xgboost\\xgboost-ci-windows\\src\\learner.cc:767: \n",
            "Parameters: { \"scale_pos_weight\" } are not used.\n",
            "\n",
            "[11:10:56] WARNING: C:\\buildkite-agent\\builds\\buildkite-windows-cpu-autoscaling-group-i-07593ffd91cd9da33-1\\xgboost\\xgboost-ci-windows\\src\\learner.cc:767: \n",
            "Parameters: { \"scale_pos_weight\" } are not used.\n",
            "\n",
            "[11:20:59] WARNING: C:\\buildkite-agent\\builds\\buildkite-windows-cpu-autoscaling-group-i-07593ffd91cd9da33-1\\xgboost\\xgboost-ci-windows\\src\\learner.cc:767: \n",
            "Parameters: { \"scale_pos_weight\" } are not used.\n",
            "\n"
          ]
        },
        {
          "name": "stderr",
          "output_type": "stream",
          "text": [
            "100%|██████████| 1/1 [30:09<00:00, 1809.09s/it]\n",
            "  0%|          | 0/1 [00:00<?, ?it/s]"
          ]
        },
        {
          "name": "stdout",
          "output_type": "stream",
          "text": [
            "[11:31:04] WARNING: C:\\buildkite-agent\\builds\\buildkite-windows-cpu-autoscaling-group-i-07593ffd91cd9da33-1\\xgboost\\xgboost-ci-windows\\src\\learner.cc:767: \n",
            "Parameters: { \"scale_pos_weight\" } are not used.\n",
            "\n",
            "[11:40:58] WARNING: C:\\buildkite-agent\\builds\\buildkite-windows-cpu-autoscaling-group-i-07593ffd91cd9da33-1\\xgboost\\xgboost-ci-windows\\src\\learner.cc:767: \n",
            "Parameters: { \"scale_pos_weight\" } are not used.\n",
            "\n",
            "[11:50:46] WARNING: C:\\buildkite-agent\\builds\\buildkite-windows-cpu-autoscaling-group-i-07593ffd91cd9da33-1\\xgboost\\xgboost-ci-windows\\src\\learner.cc:767: \n",
            "Parameters: { \"scale_pos_weight\" } are not used.\n",
            "\n"
          ]
        },
        {
          "name": "stderr",
          "output_type": "stream",
          "text": [
            "100%|██████████| 1/1 [29:46<00:00, 1786.37s/it]\n",
            "  0%|          | 0/1 [00:00<?, ?it/s]"
          ]
        },
        {
          "name": "stdout",
          "output_type": "stream",
          "text": [
            "[12:00:44] WARNING: C:\\buildkite-agent\\builds\\buildkite-windows-cpu-autoscaling-group-i-07593ffd91cd9da33-1\\xgboost\\xgboost-ci-windows\\src\\learner.cc:767: \n",
            "Parameters: { \"scale_pos_weight\" } are not used.\n",
            "\n",
            "[12:10:54] WARNING: C:\\buildkite-agent\\builds\\buildkite-windows-cpu-autoscaling-group-i-07593ffd91cd9da33-1\\xgboost\\xgboost-ci-windows\\src\\learner.cc:767: \n",
            "Parameters: { \"scale_pos_weight\" } are not used.\n",
            "\n",
            "[12:20:56] WARNING: C:\\buildkite-agent\\builds\\buildkite-windows-cpu-autoscaling-group-i-07593ffd91cd9da33-1\\xgboost\\xgboost-ci-windows\\src\\learner.cc:767: \n",
            "Parameters: { \"scale_pos_weight\" } are not used.\n",
            "\n"
          ]
        },
        {
          "name": "stderr",
          "output_type": "stream",
          "text": [
            "100%|██████████| 1/1 [30:11<00:00, 1811.44s/it]\n",
            "  0%|          | 0/1 [00:00<?, ?it/s]"
          ]
        },
        {
          "name": "stdout",
          "output_type": "stream",
          "text": [
            "[12:31:25] WARNING: C:\\buildkite-agent\\builds\\buildkite-windows-cpu-autoscaling-group-i-07593ffd91cd9da33-1\\xgboost\\xgboost-ci-windows\\src\\learner.cc:767: \n",
            "Parameters: { \"scale_pos_weight\" } are not used.\n",
            "\n",
            "[12:41:16] WARNING: C:\\buildkite-agent\\builds\\buildkite-windows-cpu-autoscaling-group-i-07593ffd91cd9da33-1\\xgboost\\xgboost-ci-windows\\src\\learner.cc:767: \n",
            "Parameters: { \"scale_pos_weight\" } are not used.\n",
            "\n",
            "[12:51:23] WARNING: C:\\buildkite-agent\\builds\\buildkite-windows-cpu-autoscaling-group-i-07593ffd91cd9da33-1\\xgboost\\xgboost-ci-windows\\src\\learner.cc:767: \n",
            "Parameters: { \"scale_pos_weight\" } are not used.\n",
            "\n"
          ]
        },
        {
          "name": "stderr",
          "output_type": "stream",
          "text": [
            "100%|██████████| 1/1 [30:24<00:00, 1824.97s/it]\n",
            "  0%|          | 0/1 [00:00<?, ?it/s]"
          ]
        },
        {
          "name": "stdout",
          "output_type": "stream",
          "text": [
            "[13:01:23] WARNING: C:\\buildkite-agent\\builds\\buildkite-windows-cpu-autoscaling-group-i-07593ffd91cd9da33-1\\xgboost\\xgboost-ci-windows\\src\\learner.cc:767: \n",
            "Parameters: { \"scale_pos_weight\" } are not used.\n",
            "\n",
            "[13:11:26] WARNING: C:\\buildkite-agent\\builds\\buildkite-windows-cpu-autoscaling-group-i-07593ffd91cd9da33-1\\xgboost\\xgboost-ci-windows\\src\\learner.cc:767: \n",
            "Parameters: { \"scale_pos_weight\" } are not used.\n",
            "\n",
            "[13:21:49] WARNING: C:\\buildkite-agent\\builds\\buildkite-windows-cpu-autoscaling-group-i-07593ffd91cd9da33-1\\xgboost\\xgboost-ci-windows\\src\\learner.cc:767: \n",
            "Parameters: { \"scale_pos_weight\" } are not used.\n",
            "\n"
          ]
        },
        {
          "name": "stderr",
          "output_type": "stream",
          "text": [
            "100%|██████████| 1/1 [30:25<00:00, 1825.97s/it]\n",
            "  0%|          | 0/1 [00:00<?, ?it/s]"
          ]
        },
        {
          "name": "stdout",
          "output_type": "stream",
          "text": [
            "[13:31:42] WARNING: C:\\buildkite-agent\\builds\\buildkite-windows-cpu-autoscaling-group-i-07593ffd91cd9da33-1\\xgboost\\xgboost-ci-windows\\src\\learner.cc:767: \n",
            "Parameters: { \"scale_pos_weight\" } are not used.\n",
            "\n",
            "[13:41:42] WARNING: C:\\buildkite-agent\\builds\\buildkite-windows-cpu-autoscaling-group-i-07593ffd91cd9da33-1\\xgboost\\xgboost-ci-windows\\src\\learner.cc:767: \n",
            "Parameters: { \"scale_pos_weight\" } are not used.\n",
            "\n",
            "[13:51:38] WARNING: C:\\buildkite-agent\\builds\\buildkite-windows-cpu-autoscaling-group-i-07593ffd91cd9da33-1\\xgboost\\xgboost-ci-windows\\src\\learner.cc:767: \n",
            "Parameters: { \"scale_pos_weight\" } are not used.\n",
            "\n"
          ]
        },
        {
          "name": "stderr",
          "output_type": "stream",
          "text": [
            "100%|██████████| 1/1 [29:49<00:00, 1789.50s/it]\n",
            "  0%|          | 0/1 [00:00<?, ?it/s]"
          ]
        },
        {
          "name": "stdout",
          "output_type": "stream",
          "text": [
            "[14:01:41] WARNING: C:\\buildkite-agent\\builds\\buildkite-windows-cpu-autoscaling-group-i-07593ffd91cd9da33-1\\xgboost\\xgboost-ci-windows\\src\\learner.cc:767: \n",
            "Parameters: { \"scale_pos_weight\" } are not used.\n",
            "\n",
            "[14:11:45] WARNING: C:\\buildkite-agent\\builds\\buildkite-windows-cpu-autoscaling-group-i-07593ffd91cd9da33-1\\xgboost\\xgboost-ci-windows\\src\\learner.cc:767: \n",
            "Parameters: { \"scale_pos_weight\" } are not used.\n",
            "\n",
            "[14:22:11] WARNING: C:\\buildkite-agent\\builds\\buildkite-windows-cpu-autoscaling-group-i-07593ffd91cd9da33-1\\xgboost\\xgboost-ci-windows\\src\\learner.cc:767: \n",
            "Parameters: { \"scale_pos_weight\" } are not used.\n",
            "\n"
          ]
        },
        {
          "name": "stderr",
          "output_type": "stream",
          "text": [
            "100%|██████████| 1/1 [30:34<00:00, 1834.35s/it]\n",
            "  0%|          | 0/1 [00:00<?, ?it/s]"
          ]
        },
        {
          "name": "stdout",
          "output_type": "stream",
          "text": [
            "[14:31:53] WARNING: C:\\buildkite-agent\\builds\\buildkite-windows-cpu-autoscaling-group-i-07593ffd91cd9da33-1\\xgboost\\xgboost-ci-windows\\src\\learner.cc:767: \n",
            "Parameters: { \"scale_pos_weight\" } are not used.\n",
            "\n",
            "[14:41:37] WARNING: C:\\buildkite-agent\\builds\\buildkite-windows-cpu-autoscaling-group-i-07593ffd91cd9da33-1\\xgboost\\xgboost-ci-windows\\src\\learner.cc:767: \n",
            "Parameters: { \"scale_pos_weight\" } are not used.\n",
            "\n",
            "[14:51:46] WARNING: C:\\buildkite-agent\\builds\\buildkite-windows-cpu-autoscaling-group-i-07593ffd91cd9da33-1\\xgboost\\xgboost-ci-windows\\src\\learner.cc:767: \n",
            "Parameters: { \"scale_pos_weight\" } are not used.\n",
            "\n"
          ]
        },
        {
          "name": "stderr",
          "output_type": "stream",
          "text": [
            "100%|██████████| 1/1 [29:34<00:00, 1774.02s/it]\n",
            "  0%|          | 0/1 [00:00<?, ?it/s]"
          ]
        },
        {
          "name": "stdout",
          "output_type": "stream",
          "text": [
            "[15:01:48] WARNING: C:\\buildkite-agent\\builds\\buildkite-windows-cpu-autoscaling-group-i-07593ffd91cd9da33-1\\xgboost\\xgboost-ci-windows\\src\\learner.cc:767: \n",
            "Parameters: { \"scale_pos_weight\" } are not used.\n",
            "\n",
            "[15:11:58] WARNING: C:\\buildkite-agent\\builds\\buildkite-windows-cpu-autoscaling-group-i-07593ffd91cd9da33-1\\xgboost\\xgboost-ci-windows\\src\\learner.cc:767: \n",
            "Parameters: { \"scale_pos_weight\" } are not used.\n",
            "\n",
            "[15:21:57] WARNING: C:\\buildkite-agent\\builds\\buildkite-windows-cpu-autoscaling-group-i-07593ffd91cd9da33-1\\xgboost\\xgboost-ci-windows\\src\\learner.cc:767: \n",
            "Parameters: { \"scale_pos_weight\" } are not used.\n",
            "\n"
          ]
        },
        {
          "name": "stderr",
          "output_type": "stream",
          "text": [
            "100%|██████████| 1/1 [30:11<00:00, 1811.45s/it]\n",
            "  0%|          | 0/1 [06:19<?, ?it/s]\n"
          ]
        },
        {
          "ename": "KeyboardInterrupt",
          "evalue": "",
          "output_type": "error",
          "traceback": [
            "\u001b[1;31m---------------------------------------------------------------------------\u001b[0m",
            "\u001b[1;31mKeyboardInterrupt\u001b[0m                         Traceback (most recent call last)",
            "Cell \u001b[1;32mIn[86], line 13\u001b[0m\n\u001b[0;32m     11\u001b[0m full_run_random_searh(\u001b[39m1\u001b[39m)\n\u001b[0;32m     12\u001b[0m full_run_random_searh(\u001b[39m1\u001b[39m)\n\u001b[1;32m---> 13\u001b[0m full_run_random_searh(\u001b[39m1\u001b[39;49m)\n\u001b[0;32m     14\u001b[0m full_run_random_searh(\u001b[39m1\u001b[39m)\n\u001b[0;32m     15\u001b[0m full_run_random_searh(\u001b[39m1\u001b[39m)\n",
            "Cell \u001b[1;32mIn[85], line 13\u001b[0m, in \u001b[0;36mfull_run_random_searh\u001b[1;34m(iterations)\u001b[0m\n\u001b[0;32m      8\u001b[0m     XGBoost_data \u001b[39m=\u001b[39m pd\u001b[39m.\u001b[39mDataFrame(columns\u001b[39m=\u001b[39m[\u001b[39m'\u001b[39m\u001b[39mAlgorithm\u001b[39m\u001b[39m'\u001b[39m, \u001b[39m'\u001b[39m\u001b[39mAccuracy\u001b[39m\u001b[39m'\u001b[39m, \u001b[39m'\u001b[39m\u001b[39mF1\u001b[39m\u001b[39m'\u001b[39m, \u001b[39m'\u001b[39m\u001b[39mAUC\u001b[39m\u001b[39m'\u001b[39m])\n\u001b[0;32m     11\u001b[0m \u001b[39mfor\u001b[39;00m i \u001b[39min\u001b[39;00m tqdm(\u001b[39mrange\u001b[39m(iterations)):\n\u001b[1;32m---> 13\u001b[0m     accuracy_rs \u001b[39m=\u001b[39m run_random_search_accuracy()\n\u001b[0;32m     14\u001b[0m     f1_rs \u001b[39m=\u001b[39m run_random_search_f1()\n\u001b[0;32m     15\u001b[0m     auc_rs \u001b[39m=\u001b[39m run_random_search_auc()\n",
            "Cell \u001b[1;32mIn[75], line 32\u001b[0m, in \u001b[0;36mrun_random_search_accuracy\u001b[1;34m(iterations)\u001b[0m\n\u001b[0;32m     29\u001b[0m kfold \u001b[39m=\u001b[39m KFold(n_splits \u001b[39m=\u001b[39m \u001b[39m3\u001b[39m, shuffle \u001b[39m=\u001b[39m \u001b[39mTrue\u001b[39;00m)\n\u001b[0;32m     31\u001b[0m random_search_accuracy \u001b[39m=\u001b[39m RandomizedSearchCV(xgb\u001b[39m.\u001b[39mXGBClassifier(), param_distribution, n_iter \u001b[39m=\u001b[39m iterations, n_jobs \u001b[39m=\u001b[39m \u001b[39m10\u001b[39m, cv\u001b[39m=\u001b[39mkfold, verbose\u001b[39m=\u001b[39m\u001b[39mFalse\u001b[39;00m)\n\u001b[1;32m---> 32\u001b[0m random_search_accuracy\u001b[39m.\u001b[39;49mfit(x_wine, y_wine)\n\u001b[0;32m     34\u001b[0m \u001b[39mreturn\u001b[39;00m random_search_accuracy\u001b[39m.\u001b[39mbest_score_\n",
            "File \u001b[1;32m~\\AppData\\Local\\Packages\\PythonSoftwareFoundation.Python.3.11_qbz5n2kfra8p0\\LocalCache\\local-packages\\Python311\\site-packages\\sklearn\\model_selection\\_search.py:874\u001b[0m, in \u001b[0;36mBaseSearchCV.fit\u001b[1;34m(self, X, y, groups, **fit_params)\u001b[0m\n\u001b[0;32m    868\u001b[0m     results \u001b[39m=\u001b[39m \u001b[39mself\u001b[39m\u001b[39m.\u001b[39m_format_results(\n\u001b[0;32m    869\u001b[0m         all_candidate_params, n_splits, all_out, all_more_results\n\u001b[0;32m    870\u001b[0m     )\n\u001b[0;32m    872\u001b[0m     \u001b[39mreturn\u001b[39;00m results\n\u001b[1;32m--> 874\u001b[0m \u001b[39mself\u001b[39;49m\u001b[39m.\u001b[39;49m_run_search(evaluate_candidates)\n\u001b[0;32m    876\u001b[0m \u001b[39m# multimetric is determined here because in the case of a callable\u001b[39;00m\n\u001b[0;32m    877\u001b[0m \u001b[39m# self.scoring the return type is only known after calling\u001b[39;00m\n\u001b[0;32m    878\u001b[0m first_test_score \u001b[39m=\u001b[39m all_out[\u001b[39m0\u001b[39m][\u001b[39m\"\u001b[39m\u001b[39mtest_scores\u001b[39m\u001b[39m\"\u001b[39m]\n",
            "File \u001b[1;32m~\\AppData\\Local\\Packages\\PythonSoftwareFoundation.Python.3.11_qbz5n2kfra8p0\\LocalCache\\local-packages\\Python311\\site-packages\\sklearn\\model_selection\\_search.py:1768\u001b[0m, in \u001b[0;36mRandomizedSearchCV._run_search\u001b[1;34m(self, evaluate_candidates)\u001b[0m\n\u001b[0;32m   1766\u001b[0m \u001b[39mdef\u001b[39;00m \u001b[39m_run_search\u001b[39m(\u001b[39mself\u001b[39m, evaluate_candidates):\n\u001b[0;32m   1767\u001b[0m \u001b[39m    \u001b[39m\u001b[39m\"\"\"Search n_iter candidates from param_distributions\"\"\"\u001b[39;00m\n\u001b[1;32m-> 1768\u001b[0m     evaluate_candidates(\n\u001b[0;32m   1769\u001b[0m         ParameterSampler(\n\u001b[0;32m   1770\u001b[0m             \u001b[39mself\u001b[39;49m\u001b[39m.\u001b[39;49mparam_distributions, \u001b[39mself\u001b[39;49m\u001b[39m.\u001b[39;49mn_iter, random_state\u001b[39m=\u001b[39;49m\u001b[39mself\u001b[39;49m\u001b[39m.\u001b[39;49mrandom_state\n\u001b[0;32m   1771\u001b[0m         )\n\u001b[0;32m   1772\u001b[0m     )\n",
            "File \u001b[1;32m~\\AppData\\Local\\Packages\\PythonSoftwareFoundation.Python.3.11_qbz5n2kfra8p0\\LocalCache\\local-packages\\Python311\\site-packages\\sklearn\\model_selection\\_search.py:821\u001b[0m, in \u001b[0;36mBaseSearchCV.fit.<locals>.evaluate_candidates\u001b[1;34m(candidate_params, cv, more_results)\u001b[0m\n\u001b[0;32m    813\u001b[0m \u001b[39mif\u001b[39;00m \u001b[39mself\u001b[39m\u001b[39m.\u001b[39mverbose \u001b[39m>\u001b[39m \u001b[39m0\u001b[39m:\n\u001b[0;32m    814\u001b[0m     \u001b[39mprint\u001b[39m(\n\u001b[0;32m    815\u001b[0m         \u001b[39m\"\u001b[39m\u001b[39mFitting \u001b[39m\u001b[39m{0}\u001b[39;00m\u001b[39m folds for each of \u001b[39m\u001b[39m{1}\u001b[39;00m\u001b[39m candidates,\u001b[39m\u001b[39m\"\u001b[39m\n\u001b[0;32m    816\u001b[0m         \u001b[39m\"\u001b[39m\u001b[39m totalling \u001b[39m\u001b[39m{2}\u001b[39;00m\u001b[39m fits\u001b[39m\u001b[39m\"\u001b[39m\u001b[39m.\u001b[39mformat(\n\u001b[0;32m    817\u001b[0m             n_splits, n_candidates, n_candidates \u001b[39m*\u001b[39m n_splits\n\u001b[0;32m    818\u001b[0m         )\n\u001b[0;32m    819\u001b[0m     )\n\u001b[1;32m--> 821\u001b[0m out \u001b[39m=\u001b[39m parallel(\n\u001b[0;32m    822\u001b[0m     delayed(_fit_and_score)(\n\u001b[0;32m    823\u001b[0m         clone(base_estimator),\n\u001b[0;32m    824\u001b[0m         X,\n\u001b[0;32m    825\u001b[0m         y,\n\u001b[0;32m    826\u001b[0m         train\u001b[39m=\u001b[39;49mtrain,\n\u001b[0;32m    827\u001b[0m         test\u001b[39m=\u001b[39;49mtest,\n\u001b[0;32m    828\u001b[0m         parameters\u001b[39m=\u001b[39;49mparameters,\n\u001b[0;32m    829\u001b[0m         split_progress\u001b[39m=\u001b[39;49m(split_idx, n_splits),\n\u001b[0;32m    830\u001b[0m         candidate_progress\u001b[39m=\u001b[39;49m(cand_idx, n_candidates),\n\u001b[0;32m    831\u001b[0m         \u001b[39m*\u001b[39;49m\u001b[39m*\u001b[39;49mfit_and_score_kwargs,\n\u001b[0;32m    832\u001b[0m     )\n\u001b[0;32m    833\u001b[0m     \u001b[39mfor\u001b[39;49;00m (cand_idx, parameters), (split_idx, (train, test)) \u001b[39min\u001b[39;49;00m product(\n\u001b[0;32m    834\u001b[0m         \u001b[39menumerate\u001b[39;49m(candidate_params), \u001b[39menumerate\u001b[39;49m(cv\u001b[39m.\u001b[39;49msplit(X, y, groups))\n\u001b[0;32m    835\u001b[0m     )\n\u001b[0;32m    836\u001b[0m )\n\u001b[0;32m    838\u001b[0m \u001b[39mif\u001b[39;00m \u001b[39mlen\u001b[39m(out) \u001b[39m<\u001b[39m \u001b[39m1\u001b[39m:\n\u001b[0;32m    839\u001b[0m     \u001b[39mraise\u001b[39;00m \u001b[39mValueError\u001b[39;00m(\n\u001b[0;32m    840\u001b[0m         \u001b[39m\"\u001b[39m\u001b[39mNo fits were performed. \u001b[39m\u001b[39m\"\u001b[39m\n\u001b[0;32m    841\u001b[0m         \u001b[39m\"\u001b[39m\u001b[39mWas the CV iterator empty? \u001b[39m\u001b[39m\"\u001b[39m\n\u001b[0;32m    842\u001b[0m         \u001b[39m\"\u001b[39m\u001b[39mWere there no candidates?\u001b[39m\u001b[39m\"\u001b[39m\n\u001b[0;32m    843\u001b[0m     )\n",
            "File \u001b[1;32m~\\AppData\\Local\\Packages\\PythonSoftwareFoundation.Python.3.11_qbz5n2kfra8p0\\LocalCache\\local-packages\\Python311\\site-packages\\sklearn\\utils\\parallel.py:63\u001b[0m, in \u001b[0;36mParallel.__call__\u001b[1;34m(self, iterable)\u001b[0m\n\u001b[0;32m     58\u001b[0m config \u001b[39m=\u001b[39m get_config()\n\u001b[0;32m     59\u001b[0m iterable_with_config \u001b[39m=\u001b[39m (\n\u001b[0;32m     60\u001b[0m     (_with_config(delayed_func, config), args, kwargs)\n\u001b[0;32m     61\u001b[0m     \u001b[39mfor\u001b[39;00m delayed_func, args, kwargs \u001b[39min\u001b[39;00m iterable\n\u001b[0;32m     62\u001b[0m )\n\u001b[1;32m---> 63\u001b[0m \u001b[39mreturn\u001b[39;00m \u001b[39msuper\u001b[39;49m()\u001b[39m.\u001b[39;49m\u001b[39m__call__\u001b[39;49m(iterable_with_config)\n",
            "File \u001b[1;32m~\\AppData\\Local\\Packages\\PythonSoftwareFoundation.Python.3.11_qbz5n2kfra8p0\\LocalCache\\local-packages\\Python311\\site-packages\\joblib\\parallel.py:1098\u001b[0m, in \u001b[0;36mParallel.__call__\u001b[1;34m(self, iterable)\u001b[0m\n\u001b[0;32m   1095\u001b[0m     \u001b[39mself\u001b[39m\u001b[39m.\u001b[39m_iterating \u001b[39m=\u001b[39m \u001b[39mFalse\u001b[39;00m\n\u001b[0;32m   1097\u001b[0m \u001b[39mwith\u001b[39;00m \u001b[39mself\u001b[39m\u001b[39m.\u001b[39m_backend\u001b[39m.\u001b[39mretrieval_context():\n\u001b[1;32m-> 1098\u001b[0m     \u001b[39mself\u001b[39;49m\u001b[39m.\u001b[39;49mretrieve()\n\u001b[0;32m   1099\u001b[0m \u001b[39m# Make sure that we get a last message telling us we are done\u001b[39;00m\n\u001b[0;32m   1100\u001b[0m elapsed_time \u001b[39m=\u001b[39m time\u001b[39m.\u001b[39mtime() \u001b[39m-\u001b[39m \u001b[39mself\u001b[39m\u001b[39m.\u001b[39m_start_time\n",
            "File \u001b[1;32m~\\AppData\\Local\\Packages\\PythonSoftwareFoundation.Python.3.11_qbz5n2kfra8p0\\LocalCache\\local-packages\\Python311\\site-packages\\joblib\\parallel.py:975\u001b[0m, in \u001b[0;36mParallel.retrieve\u001b[1;34m(self)\u001b[0m\n\u001b[0;32m    973\u001b[0m \u001b[39mtry\u001b[39;00m:\n\u001b[0;32m    974\u001b[0m     \u001b[39mif\u001b[39;00m \u001b[39mgetattr\u001b[39m(\u001b[39mself\u001b[39m\u001b[39m.\u001b[39m_backend, \u001b[39m'\u001b[39m\u001b[39msupports_timeout\u001b[39m\u001b[39m'\u001b[39m, \u001b[39mFalse\u001b[39;00m):\n\u001b[1;32m--> 975\u001b[0m         \u001b[39mself\u001b[39m\u001b[39m.\u001b[39m_output\u001b[39m.\u001b[39mextend(job\u001b[39m.\u001b[39;49mget(timeout\u001b[39m=\u001b[39;49m\u001b[39mself\u001b[39;49m\u001b[39m.\u001b[39;49mtimeout))\n\u001b[0;32m    976\u001b[0m     \u001b[39melse\u001b[39;00m:\n\u001b[0;32m    977\u001b[0m         \u001b[39mself\u001b[39m\u001b[39m.\u001b[39m_output\u001b[39m.\u001b[39mextend(job\u001b[39m.\u001b[39mget())\n",
            "File \u001b[1;32m~\\AppData\\Local\\Packages\\PythonSoftwareFoundation.Python.3.11_qbz5n2kfra8p0\\LocalCache\\local-packages\\Python311\\site-packages\\joblib\\_parallel_backends.py:567\u001b[0m, in \u001b[0;36mLokyBackend.wrap_future_result\u001b[1;34m(future, timeout)\u001b[0m\n\u001b[0;32m    564\u001b[0m \u001b[39m\u001b[39m\u001b[39m\"\"\"Wrapper for Future.result to implement the same behaviour as\u001b[39;00m\n\u001b[0;32m    565\u001b[0m \u001b[39mAsyncResults.get from multiprocessing.\"\"\"\u001b[39;00m\n\u001b[0;32m    566\u001b[0m \u001b[39mtry\u001b[39;00m:\n\u001b[1;32m--> 567\u001b[0m     \u001b[39mreturn\u001b[39;00m future\u001b[39m.\u001b[39;49mresult(timeout\u001b[39m=\u001b[39;49mtimeout)\n\u001b[0;32m    568\u001b[0m \u001b[39mexcept\u001b[39;00m CfTimeoutError \u001b[39mas\u001b[39;00m e:\n\u001b[0;32m    569\u001b[0m     \u001b[39mraise\u001b[39;00m \u001b[39mTimeoutError\u001b[39;00m \u001b[39mfrom\u001b[39;00m \u001b[39me\u001b[39;00m\n",
            "File \u001b[1;32mC:\\Program Files\\WindowsApps\\PythonSoftwareFoundation.Python.3.11_3.11.1008.0_x64__qbz5n2kfra8p0\\Lib\\concurrent\\futures\\_base.py:451\u001b[0m, in \u001b[0;36mFuture.result\u001b[1;34m(self, timeout)\u001b[0m\n\u001b[0;32m    448\u001b[0m \u001b[39melif\u001b[39;00m \u001b[39mself\u001b[39m\u001b[39m.\u001b[39m_state \u001b[39m==\u001b[39m FINISHED:\n\u001b[0;32m    449\u001b[0m     \u001b[39mreturn\u001b[39;00m \u001b[39mself\u001b[39m\u001b[39m.\u001b[39m__get_result()\n\u001b[1;32m--> 451\u001b[0m \u001b[39mself\u001b[39;49m\u001b[39m.\u001b[39;49m_condition\u001b[39m.\u001b[39;49mwait(timeout)\n\u001b[0;32m    453\u001b[0m \u001b[39mif\u001b[39;00m \u001b[39mself\u001b[39m\u001b[39m.\u001b[39m_state \u001b[39min\u001b[39;00m [CANCELLED, CANCELLED_AND_NOTIFIED]:\n\u001b[0;32m    454\u001b[0m     \u001b[39mraise\u001b[39;00m CancelledError()\n",
            "File \u001b[1;32mC:\\Program Files\\WindowsApps\\PythonSoftwareFoundation.Python.3.11_3.11.1008.0_x64__qbz5n2kfra8p0\\Lib\\threading.py:320\u001b[0m, in \u001b[0;36mCondition.wait\u001b[1;34m(self, timeout)\u001b[0m\n\u001b[0;32m    318\u001b[0m \u001b[39mtry\u001b[39;00m:    \u001b[39m# restore state no matter what (e.g., KeyboardInterrupt)\u001b[39;00m\n\u001b[0;32m    319\u001b[0m     \u001b[39mif\u001b[39;00m timeout \u001b[39mis\u001b[39;00m \u001b[39mNone\u001b[39;00m:\n\u001b[1;32m--> 320\u001b[0m         waiter\u001b[39m.\u001b[39;49macquire()\n\u001b[0;32m    321\u001b[0m         gotit \u001b[39m=\u001b[39m \u001b[39mTrue\u001b[39;00m\n\u001b[0;32m    322\u001b[0m     \u001b[39melse\u001b[39;00m:\n",
            "\u001b[1;31mKeyboardInterrupt\u001b[0m: "
          ]
        }
      ],
      "source": [
        "full_run_random_searh(1)\n",
        "full_run_random_searh(1)\n",
        "full_run_random_searh(1)\n",
        "full_run_random_searh(1)\n",
        "full_run_random_searh(1)\n",
        "full_run_random_searh(1)\n",
        "full_run_random_searh(1)\n",
        "full_run_random_searh(1)\n",
        "full_run_random_searh(1)\n",
        "full_run_random_searh(1)\n",
        "full_run_random_searh(1)\n",
        "full_run_random_searh(1)\n",
        "full_run_random_searh(1)\n",
        "full_run_random_searh(1)\n",
        "full_run_random_searh(1)\n",
        "full_run_random_searh(1)\n",
        "full_run_random_searh(1)\n",
        "full_run_random_searh(1)\n",
        "full_run_random_searh(1)"
      ]
    }
  ],
  "metadata": {
    "colab": {
      "collapsed_sections": [
        "_HsPc7BH-MWL",
        "iTAAhn6w-Be4",
        "F-WtiEIO0kFu",
        "vA6kphUO0vcT"
      ],
      "provenance": []
    },
    "kernelspec": {
      "display_name": "Python 3",
      "language": "python",
      "name": "python3"
    },
    "language_info": {
      "codemirror_mode": {
        "name": "ipython",
        "version": 3
      },
      "file_extension": ".py",
      "mimetype": "text/x-python",
      "name": "python",
      "nbconvert_exporter": "python",
      "pygments_lexer": "ipython3",
      "version": "3.11.3"
    },
    "vscode": {
      "interpreter": {
        "hash": "8149941357ab46e91af0255cc46a7a09aaccc03c1980a89f638a5973ac5bc49f"
      }
    },
    "widgets": {
      "application/vnd.jupyter.widget-state+json": {
        "01d3490253a8464281845cb171385d59": {
          "model_module": "@jupyter-widgets/controls",
          "model_module_version": "1.5.0",
          "model_name": "DescriptionStyleModel",
          "state": {
            "_model_module": "@jupyter-widgets/controls",
            "_model_module_version": "1.5.0",
            "_model_name": "DescriptionStyleModel",
            "_view_count": null,
            "_view_module": "@jupyter-widgets/base",
            "_view_module_version": "1.2.0",
            "_view_name": "StyleView",
            "description_width": ""
          }
        },
        "12434838d89048188eefe1af0332bfd6": {
          "model_module": "@jupyter-widgets/controls",
          "model_module_version": "1.5.0",
          "model_name": "HBoxModel",
          "state": {
            "_dom_classes": [],
            "_model_module": "@jupyter-widgets/controls",
            "_model_module_version": "1.5.0",
            "_model_name": "HBoxModel",
            "_view_count": null,
            "_view_module": "@jupyter-widgets/controls",
            "_view_module_version": "1.5.0",
            "_view_name": "HBoxView",
            "box_style": "",
            "children": [
              "IPY_MODEL_b6288aa156624b108015ab993c54d52b",
              "IPY_MODEL_f45e5f0d4187404fb8f63acd3c26fe17",
              "IPY_MODEL_aaa16b6dbffd42ef973b1826e5ed2242"
            ],
            "layout": "IPY_MODEL_8721e5217b97444d948e5b85c6fd53c7"
          }
        },
        "124e5b4b5b3344f4abdc93628b112d8f": {
          "model_module": "@jupyter-widgets/controls",
          "model_module_version": "1.5.0",
          "model_name": "DescriptionStyleModel",
          "state": {
            "_model_module": "@jupyter-widgets/controls",
            "_model_module_version": "1.5.0",
            "_model_name": "DescriptionStyleModel",
            "_view_count": null,
            "_view_module": "@jupyter-widgets/base",
            "_view_module_version": "1.2.0",
            "_view_name": "StyleView",
            "description_width": ""
          }
        },
        "1614757884124ed487149ebed485833f": {
          "model_module": "@jupyter-widgets/base",
          "model_module_version": "1.2.0",
          "model_name": "LayoutModel",
          "state": {
            "_model_module": "@jupyter-widgets/base",
            "_model_module_version": "1.2.0",
            "_model_name": "LayoutModel",
            "_view_count": null,
            "_view_module": "@jupyter-widgets/base",
            "_view_module_version": "1.2.0",
            "_view_name": "LayoutView",
            "align_content": null,
            "align_items": null,
            "align_self": null,
            "border": null,
            "bottom": null,
            "display": null,
            "flex": null,
            "flex_flow": null,
            "grid_area": null,
            "grid_auto_columns": null,
            "grid_auto_flow": null,
            "grid_auto_rows": null,
            "grid_column": null,
            "grid_gap": null,
            "grid_row": null,
            "grid_template_areas": null,
            "grid_template_columns": null,
            "grid_template_rows": null,
            "height": null,
            "justify_content": null,
            "justify_items": null,
            "left": null,
            "margin": null,
            "max_height": null,
            "max_width": null,
            "min_height": null,
            "min_width": null,
            "object_fit": null,
            "object_position": null,
            "order": null,
            "overflow": null,
            "overflow_x": null,
            "overflow_y": null,
            "padding": null,
            "right": null,
            "top": null,
            "visibility": null,
            "width": null
          }
        },
        "1a32143976c744e5a388d7b343e7c054": {
          "model_module": "@jupyter-widgets/controls",
          "model_module_version": "1.5.0",
          "model_name": "DescriptionStyleModel",
          "state": {
            "_model_module": "@jupyter-widgets/controls",
            "_model_module_version": "1.5.0",
            "_model_name": "DescriptionStyleModel",
            "_view_count": null,
            "_view_module": "@jupyter-widgets/base",
            "_view_module_version": "1.2.0",
            "_view_name": "StyleView",
            "description_width": ""
          }
        },
        "20a38960e7374ab594f04f4b1c5e2321": {
          "model_module": "@jupyter-widgets/controls",
          "model_module_version": "1.5.0",
          "model_name": "HTMLModel",
          "state": {
            "_dom_classes": [],
            "_model_module": "@jupyter-widgets/controls",
            "_model_module_version": "1.5.0",
            "_model_name": "HTMLModel",
            "_view_count": null,
            "_view_module": "@jupyter-widgets/controls",
            "_view_module_version": "1.5.0",
            "_view_name": "HTMLView",
            "description": "",
            "description_tooltip": null,
            "layout": "IPY_MODEL_6f29547455ac4adb8edaa11d5839f5cb",
            "placeholder": "​",
            "style": "IPY_MODEL_1a32143976c744e5a388d7b343e7c054",
            "value": "100%"
          }
        },
        "54cbbc7ffbcc401abfbf3167f882019e": {
          "model_module": "@jupyter-widgets/controls",
          "model_module_version": "1.5.0",
          "model_name": "ProgressStyleModel",
          "state": {
            "_model_module": "@jupyter-widgets/controls",
            "_model_module_version": "1.5.0",
            "_model_name": "ProgressStyleModel",
            "_view_count": null,
            "_view_module": "@jupyter-widgets/base",
            "_view_module_version": "1.2.0",
            "_view_name": "StyleView",
            "bar_color": null,
            "description_width": ""
          }
        },
        "6f124da663194ac0b073ab7a3fb168c3": {
          "model_module": "@jupyter-widgets/controls",
          "model_module_version": "1.5.0",
          "model_name": "ProgressStyleModel",
          "state": {
            "_model_module": "@jupyter-widgets/controls",
            "_model_module_version": "1.5.0",
            "_model_name": "ProgressStyleModel",
            "_view_count": null,
            "_view_module": "@jupyter-widgets/base",
            "_view_module_version": "1.2.0",
            "_view_name": "StyleView",
            "bar_color": null,
            "description_width": ""
          }
        },
        "6f29547455ac4adb8edaa11d5839f5cb": {
          "model_module": "@jupyter-widgets/base",
          "model_module_version": "1.2.0",
          "model_name": "LayoutModel",
          "state": {
            "_model_module": "@jupyter-widgets/base",
            "_model_module_version": "1.2.0",
            "_model_name": "LayoutModel",
            "_view_count": null,
            "_view_module": "@jupyter-widgets/base",
            "_view_module_version": "1.2.0",
            "_view_name": "LayoutView",
            "align_content": null,
            "align_items": null,
            "align_self": null,
            "border": null,
            "bottom": null,
            "display": null,
            "flex": null,
            "flex_flow": null,
            "grid_area": null,
            "grid_auto_columns": null,
            "grid_auto_flow": null,
            "grid_auto_rows": null,
            "grid_column": null,
            "grid_gap": null,
            "grid_row": null,
            "grid_template_areas": null,
            "grid_template_columns": null,
            "grid_template_rows": null,
            "height": null,
            "justify_content": null,
            "justify_items": null,
            "left": null,
            "margin": null,
            "max_height": null,
            "max_width": null,
            "min_height": null,
            "min_width": null,
            "object_fit": null,
            "object_position": null,
            "order": null,
            "overflow": null,
            "overflow_x": null,
            "overflow_y": null,
            "padding": null,
            "right": null,
            "top": null,
            "visibility": null,
            "width": null
          }
        },
        "76b3046c318d4fbcb66b198b50cd91e7": {
          "model_module": "@jupyter-widgets/base",
          "model_module_version": "1.2.0",
          "model_name": "LayoutModel",
          "state": {
            "_model_module": "@jupyter-widgets/base",
            "_model_module_version": "1.2.0",
            "_model_name": "LayoutModel",
            "_view_count": null,
            "_view_module": "@jupyter-widgets/base",
            "_view_module_version": "1.2.0",
            "_view_name": "LayoutView",
            "align_content": null,
            "align_items": null,
            "align_self": null,
            "border": null,
            "bottom": null,
            "display": null,
            "flex": null,
            "flex_flow": null,
            "grid_area": null,
            "grid_auto_columns": null,
            "grid_auto_flow": null,
            "grid_auto_rows": null,
            "grid_column": null,
            "grid_gap": null,
            "grid_row": null,
            "grid_template_areas": null,
            "grid_template_columns": null,
            "grid_template_rows": null,
            "height": null,
            "justify_content": null,
            "justify_items": null,
            "left": null,
            "margin": null,
            "max_height": null,
            "max_width": null,
            "min_height": null,
            "min_width": null,
            "object_fit": null,
            "object_position": null,
            "order": null,
            "overflow": null,
            "overflow_x": null,
            "overflow_y": null,
            "padding": null,
            "right": null,
            "top": null,
            "visibility": null,
            "width": null
          }
        },
        "7c3472a6094a4249a082f8dc630e5258": {
          "model_module": "@jupyter-widgets/controls",
          "model_module_version": "1.5.0",
          "model_name": "FloatProgressModel",
          "state": {
            "_dom_classes": [],
            "_model_module": "@jupyter-widgets/controls",
            "_model_module_version": "1.5.0",
            "_model_name": "FloatProgressModel",
            "_view_count": null,
            "_view_module": "@jupyter-widgets/controls",
            "_view_module_version": "1.5.0",
            "_view_name": "ProgressView",
            "bar_style": "success",
            "description": "",
            "description_tooltip": null,
            "layout": "IPY_MODEL_1614757884124ed487149ebed485833f",
            "max": 32,
            "min": 0,
            "orientation": "horizontal",
            "style": "IPY_MODEL_6f124da663194ac0b073ab7a3fb168c3",
            "value": 32
          }
        },
        "7f079b743c6e4ad897ae55ba366a15b9": {
          "model_module": "@jupyter-widgets/base",
          "model_module_version": "1.2.0",
          "model_name": "LayoutModel",
          "state": {
            "_model_module": "@jupyter-widgets/base",
            "_model_module_version": "1.2.0",
            "_model_name": "LayoutModel",
            "_view_count": null,
            "_view_module": "@jupyter-widgets/base",
            "_view_module_version": "1.2.0",
            "_view_name": "LayoutView",
            "align_content": null,
            "align_items": null,
            "align_self": null,
            "border": null,
            "bottom": null,
            "display": null,
            "flex": null,
            "flex_flow": null,
            "grid_area": null,
            "grid_auto_columns": null,
            "grid_auto_flow": null,
            "grid_auto_rows": null,
            "grid_column": null,
            "grid_gap": null,
            "grid_row": null,
            "grid_template_areas": null,
            "grid_template_columns": null,
            "grid_template_rows": null,
            "height": null,
            "justify_content": null,
            "justify_items": null,
            "left": null,
            "margin": null,
            "max_height": null,
            "max_width": null,
            "min_height": null,
            "min_width": null,
            "object_fit": null,
            "object_position": null,
            "order": null,
            "overflow": null,
            "overflow_x": null,
            "overflow_y": null,
            "padding": null,
            "right": null,
            "top": null,
            "visibility": null,
            "width": null
          }
        },
        "8721e5217b97444d948e5b85c6fd53c7": {
          "model_module": "@jupyter-widgets/base",
          "model_module_version": "1.2.0",
          "model_name": "LayoutModel",
          "state": {
            "_model_module": "@jupyter-widgets/base",
            "_model_module_version": "1.2.0",
            "_model_name": "LayoutModel",
            "_view_count": null,
            "_view_module": "@jupyter-widgets/base",
            "_view_module_version": "1.2.0",
            "_view_name": "LayoutView",
            "align_content": null,
            "align_items": null,
            "align_self": null,
            "border": null,
            "bottom": null,
            "display": null,
            "flex": null,
            "flex_flow": null,
            "grid_area": null,
            "grid_auto_columns": null,
            "grid_auto_flow": null,
            "grid_auto_rows": null,
            "grid_column": null,
            "grid_gap": null,
            "grid_row": null,
            "grid_template_areas": null,
            "grid_template_columns": null,
            "grid_template_rows": null,
            "height": null,
            "justify_content": null,
            "justify_items": null,
            "left": null,
            "margin": null,
            "max_height": null,
            "max_width": null,
            "min_height": null,
            "min_width": null,
            "object_fit": null,
            "object_position": null,
            "order": null,
            "overflow": null,
            "overflow_x": null,
            "overflow_y": null,
            "padding": null,
            "right": null,
            "top": null,
            "visibility": null,
            "width": null
          }
        },
        "992dda0d38b145b88946b67edc62ab57": {
          "model_module": "@jupyter-widgets/base",
          "model_module_version": "1.2.0",
          "model_name": "LayoutModel",
          "state": {
            "_model_module": "@jupyter-widgets/base",
            "_model_module_version": "1.2.0",
            "_model_name": "LayoutModel",
            "_view_count": null,
            "_view_module": "@jupyter-widgets/base",
            "_view_module_version": "1.2.0",
            "_view_name": "LayoutView",
            "align_content": null,
            "align_items": null,
            "align_self": null,
            "border": null,
            "bottom": null,
            "display": null,
            "flex": null,
            "flex_flow": null,
            "grid_area": null,
            "grid_auto_columns": null,
            "grid_auto_flow": null,
            "grid_auto_rows": null,
            "grid_column": null,
            "grid_gap": null,
            "grid_row": null,
            "grid_template_areas": null,
            "grid_template_columns": null,
            "grid_template_rows": null,
            "height": null,
            "justify_content": null,
            "justify_items": null,
            "left": null,
            "margin": null,
            "max_height": null,
            "max_width": null,
            "min_height": null,
            "min_width": null,
            "object_fit": null,
            "object_position": null,
            "order": null,
            "overflow": null,
            "overflow_x": null,
            "overflow_y": null,
            "padding": null,
            "right": null,
            "top": null,
            "visibility": null,
            "width": null
          }
        },
        "aaa16b6dbffd42ef973b1826e5ed2242": {
          "model_module": "@jupyter-widgets/controls",
          "model_module_version": "1.5.0",
          "model_name": "HTMLModel",
          "state": {
            "_dom_classes": [],
            "_model_module": "@jupyter-widgets/controls",
            "_model_module_version": "1.5.0",
            "_model_name": "HTMLModel",
            "_view_count": null,
            "_view_module": "@jupyter-widgets/controls",
            "_view_module_version": "1.5.0",
            "_view_name": "HTMLView",
            "description": "",
            "description_tooltip": null,
            "layout": "IPY_MODEL_d539e4a476cb4ae28e78769b17b97aa9",
            "placeholder": "​",
            "style": "IPY_MODEL_fb379b55e7bd4b3bb7ed4b0ec6390b2e",
            "value": " 32/32 [48:44&lt;00:00, 118.10s/it]"
          }
        },
        "ae818704a52542d696c8eb0c1c182a81": {
          "model_module": "@jupyter-widgets/controls",
          "model_module_version": "1.5.0",
          "model_name": "HTMLModel",
          "state": {
            "_dom_classes": [],
            "_model_module": "@jupyter-widgets/controls",
            "_model_module_version": "1.5.0",
            "_model_name": "HTMLModel",
            "_view_count": null,
            "_view_module": "@jupyter-widgets/controls",
            "_view_module_version": "1.5.0",
            "_view_name": "HTMLView",
            "description": "",
            "description_tooltip": null,
            "layout": "IPY_MODEL_76b3046c318d4fbcb66b198b50cd91e7",
            "placeholder": "​",
            "style": "IPY_MODEL_124e5b4b5b3344f4abdc93628b112d8f",
            "value": " 32/32 [15:48&lt;00:00, 30.29s/it]"
          }
        },
        "b504307a10f54034ad07715278fa1dbc": {
          "model_module": "@jupyter-widgets/controls",
          "model_module_version": "1.5.0",
          "model_name": "HBoxModel",
          "state": {
            "_dom_classes": [],
            "_model_module": "@jupyter-widgets/controls",
            "_model_module_version": "1.5.0",
            "_model_name": "HBoxModel",
            "_view_count": null,
            "_view_module": "@jupyter-widgets/controls",
            "_view_module_version": "1.5.0",
            "_view_name": "HBoxView",
            "box_style": "",
            "children": [
              "IPY_MODEL_20a38960e7374ab594f04f4b1c5e2321",
              "IPY_MODEL_7c3472a6094a4249a082f8dc630e5258",
              "IPY_MODEL_ae818704a52542d696c8eb0c1c182a81"
            ],
            "layout": "IPY_MODEL_992dda0d38b145b88946b67edc62ab57"
          }
        },
        "b6288aa156624b108015ab993c54d52b": {
          "model_module": "@jupyter-widgets/controls",
          "model_module_version": "1.5.0",
          "model_name": "HTMLModel",
          "state": {
            "_dom_classes": [],
            "_model_module": "@jupyter-widgets/controls",
            "_model_module_version": "1.5.0",
            "_model_name": "HTMLModel",
            "_view_count": null,
            "_view_module": "@jupyter-widgets/controls",
            "_view_module_version": "1.5.0",
            "_view_name": "HTMLView",
            "description": "",
            "description_tooltip": null,
            "layout": "IPY_MODEL_d25235d18f8045de9948417d13538ef3",
            "placeholder": "​",
            "style": "IPY_MODEL_01d3490253a8464281845cb171385d59",
            "value": "100%"
          }
        },
        "d25235d18f8045de9948417d13538ef3": {
          "model_module": "@jupyter-widgets/base",
          "model_module_version": "1.2.0",
          "model_name": "LayoutModel",
          "state": {
            "_model_module": "@jupyter-widgets/base",
            "_model_module_version": "1.2.0",
            "_model_name": "LayoutModel",
            "_view_count": null,
            "_view_module": "@jupyter-widgets/base",
            "_view_module_version": "1.2.0",
            "_view_name": "LayoutView",
            "align_content": null,
            "align_items": null,
            "align_self": null,
            "border": null,
            "bottom": null,
            "display": null,
            "flex": null,
            "flex_flow": null,
            "grid_area": null,
            "grid_auto_columns": null,
            "grid_auto_flow": null,
            "grid_auto_rows": null,
            "grid_column": null,
            "grid_gap": null,
            "grid_row": null,
            "grid_template_areas": null,
            "grid_template_columns": null,
            "grid_template_rows": null,
            "height": null,
            "justify_content": null,
            "justify_items": null,
            "left": null,
            "margin": null,
            "max_height": null,
            "max_width": null,
            "min_height": null,
            "min_width": null,
            "object_fit": null,
            "object_position": null,
            "order": null,
            "overflow": null,
            "overflow_x": null,
            "overflow_y": null,
            "padding": null,
            "right": null,
            "top": null,
            "visibility": null,
            "width": null
          }
        },
        "d539e4a476cb4ae28e78769b17b97aa9": {
          "model_module": "@jupyter-widgets/base",
          "model_module_version": "1.2.0",
          "model_name": "LayoutModel",
          "state": {
            "_model_module": "@jupyter-widgets/base",
            "_model_module_version": "1.2.0",
            "_model_name": "LayoutModel",
            "_view_count": null,
            "_view_module": "@jupyter-widgets/base",
            "_view_module_version": "1.2.0",
            "_view_name": "LayoutView",
            "align_content": null,
            "align_items": null,
            "align_self": null,
            "border": null,
            "bottom": null,
            "display": null,
            "flex": null,
            "flex_flow": null,
            "grid_area": null,
            "grid_auto_columns": null,
            "grid_auto_flow": null,
            "grid_auto_rows": null,
            "grid_column": null,
            "grid_gap": null,
            "grid_row": null,
            "grid_template_areas": null,
            "grid_template_columns": null,
            "grid_template_rows": null,
            "height": null,
            "justify_content": null,
            "justify_items": null,
            "left": null,
            "margin": null,
            "max_height": null,
            "max_width": null,
            "min_height": null,
            "min_width": null,
            "object_fit": null,
            "object_position": null,
            "order": null,
            "overflow": null,
            "overflow_x": null,
            "overflow_y": null,
            "padding": null,
            "right": null,
            "top": null,
            "visibility": null,
            "width": null
          }
        },
        "f45e5f0d4187404fb8f63acd3c26fe17": {
          "model_module": "@jupyter-widgets/controls",
          "model_module_version": "1.5.0",
          "model_name": "FloatProgressModel",
          "state": {
            "_dom_classes": [],
            "_model_module": "@jupyter-widgets/controls",
            "_model_module_version": "1.5.0",
            "_model_name": "FloatProgressModel",
            "_view_count": null,
            "_view_module": "@jupyter-widgets/controls",
            "_view_module_version": "1.5.0",
            "_view_name": "ProgressView",
            "bar_style": "success",
            "description": "",
            "description_tooltip": null,
            "layout": "IPY_MODEL_7f079b743c6e4ad897ae55ba366a15b9",
            "max": 32,
            "min": 0,
            "orientation": "horizontal",
            "style": "IPY_MODEL_54cbbc7ffbcc401abfbf3167f882019e",
            "value": 32
          }
        },
        "fb379b55e7bd4b3bb7ed4b0ec6390b2e": {
          "model_module": "@jupyter-widgets/controls",
          "model_module_version": "1.5.0",
          "model_name": "DescriptionStyleModel",
          "state": {
            "_model_module": "@jupyter-widgets/controls",
            "_model_module_version": "1.5.0",
            "_model_name": "DescriptionStyleModel",
            "_view_count": null,
            "_view_module": "@jupyter-widgets/base",
            "_view_module_version": "1.2.0",
            "_view_name": "StyleView",
            "description_width": ""
          }
        }
      }
    }
  },
  "nbformat": 4,
  "nbformat_minor": 0
}
