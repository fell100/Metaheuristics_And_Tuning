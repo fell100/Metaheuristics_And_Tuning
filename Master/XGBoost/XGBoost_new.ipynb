{
 "cells": [
  {
   "cell_type": "code",
   "execution_count": 65,
   "metadata": {},
   "outputs": [],
   "source": [
    "import xgboost as xgb\n",
    "from sklearn.model_selection import cross_val_score, KFold\n",
    "import pandas as pd\n",
    "import numpy as np\n",
    "from os import system\n",
    "from numpy import inf\n",
    "import pickle\n",
    "from sklearn.neighbors import KNeighborsClassifier\n",
    "from sklearn.metrics import accuracy_score, confusion_matrix, classification_report\n",
    "import numpy as np\n",
    "from tqdm.notebook import tqdm as tqdm\n",
    "import matplotlib.pyplot as plt\n",
    "from sklearn.model_selection import cross_val_score, KFold\n",
    "import pickle\n",
    "from pymoo.algorithms.soo.nonconvex.pso import PSO, PSOAnimation\n",
    "from pymoo.optimize import minimize\n",
    "from pymoo.factory import get_termination\n",
    "from pymoo.core.callback import Callback\n",
    "\n",
    "from pymoo.core.mixed import MixedVariableGA\n",
    "from pymoo.core.variable import Real, Integer\n",
    "from pymoo.optimize import minimize\n",
    "\n",
    "from pymoo.util.display.column import Column\n",
    "from pymoo.util.display.output import Output\n",
    "\n",
    "from pymoo.core.problem import ElementwiseProblem\n",
    "from pymoo.core.variable import Real, Integer, Choice, Binary\n",
    "import time"
   ]
  },
  {
   "cell_type": "code",
   "execution_count": 66,
   "metadata": {},
   "outputs": [],
   "source": [
    "df = pd.read_csv('../preprocessing/processed_data/wine.csv')\n",
    "y_wine = df[['quality']]\n",
    "x_wine = df.drop(columns='quality')\n",
    "x_wine = x_wine.drop(columns='Unnamed: 0')"
   ]
  },
  {
   "cell_type": "code",
   "execution_count": 67,
   "metadata": {},
   "outputs": [],
   "source": [
    "ITERATIONS = 32\n",
    "POPULATION = 32"
   ]
  },
  {
   "cell_type": "code",
   "execution_count": 68,
   "metadata": {},
   "outputs": [],
   "source": [
    "class MyOutput(Output):\n",
    "\n",
    "    def __init__(self):\n",
    "        super().__init__()\n",
    "        global pbar \n",
    "        pbar = tqdm(total=ITERATIONS)\n",
    "        self.score = Column(\"score\", width=13)\n",
    "        self.Parameters = Column(\"Parameters\", width=35)\n",
    "        self.columns += [self.score, self.Parameters]\n",
    "\n",
    "    def update(self, algorithm):\n",
    "        super().update(algorithm)\n",
    "        self.score.set(-np.min(algorithm.pop.get(\"F\")))\n",
    "        #self.Parameters.set(algorithm.pop.get(\"X\")[0])\n",
    "        pbar.update(1)\n",
    "        if pbar.n == ITERATIONS: pbar.close()"
   ]
  },
  {
   "cell_type": "markdown",
   "metadata": {},
   "source": [
    "# Genetic Algorithm"
   ]
  },
  {
   "cell_type": "code",
   "execution_count": 69,
   "metadata": {},
   "outputs": [],
   "source": [
    "class MixedVariableProblem(ElementwiseProblem):\n",
    "    def __init__(self, **kwargs):\n",
    "        #params reference 1\n",
    "        xgb_params = {\n",
    "        'n_estimators' : Integer(bounds=(3, 10000)), #high num\n",
    "        'learning_rate' : Real(bounds=(0.001, 0.3)),\n",
    "        'max_depth' : Integer(bounds=(3, 15)),\n",
    "        'subsample' : Real(bounds=(0.05, 1.0)),\n",
    "        'colsample_bytree' : Real(bounds=(0.2, 1.0)),\n",
    "        'gamma'            : Real(bounds=(0, 10)),\n",
    "        'min_child_weight' : Real(bounds=(0, 10)),\n",
    "        'reg_lambda'       : Real(bounds=(0, 1)), #l2 lambda\n",
    "        'reg_alpha'        : Real(bounds=(0, 1)), #L1 alpha\n",
    "        }\n",
    "        super().__init__(vars=xgb_params, n_obj=1, **kwargs)\n",
    "\n",
    "    def _evaluate(self, X, out, *args, **kwargs):\n",
    "        n_estimators = X['n_estimators']\n",
    "        learning_rate = X['learning_rate']\n",
    "        max_depth = X['max_depth']\n",
    "        subsample = X['subsample']\n",
    "        colsample_bytree = X['colsample_bytree']\n",
    "        gamma = X['gamma']\n",
    "        min_child_weight = X['min_child_weight']\n",
    "        reg_lambda = X['reg_lambda']\n",
    "        reg_alpha = X['reg_alpha']\n",
    "        \n",
    "        model_xgboost = xgb.XGBClassifier(\n",
    "            n_estimators = n_estimators,\n",
    "            learning_rate = learning_rate,\n",
    "            max_depth = max_depth,\n",
    "            subsample = subsample,\n",
    "            colsample_bytree = colsample_bytree,\n",
    "            gamma = gamma,\n",
    "            min_child_weight = min_child_weight,\n",
    "            reg_lambda = reg_lambda,\n",
    "            reg_alpha = reg_alpha,\n",
    "            n_jobs = -1\n",
    "            )\n",
    "        \n",
    "        kfold = KFold(n_splits = 3, shuffle = True)\n",
    "        \n",
    "        scores = cross_val_score(model_xgboost,  x_wine, y_wine, cv = kfold, n_jobs=-1, scoring='f1_weighted')  \n",
    "        result = scores.mean()     \n",
    "        if result == np.nan:\n",
    "            result = 0\n",
    "        #print(result)\n",
    "        #return result\n",
    "        out[\"F\"] = -result"
   ]
  },
  {
   "cell_type": "code",
   "execution_count": 70,
   "metadata": {},
   "outputs": [],
   "source": [
    "def run_accuracy_ga(ITERATIONS=32, POPULATION=32):\n",
    "    problem = MixedVariableProblem()\n",
    "\n",
    "    algorithm = MixedVariableGA(pop_size=POPULATION)\n",
    "\n",
    "    term = get_termination(\"n_gen\", ITERATIONS)\n",
    "\n",
    "    start_time = time.time()\n",
    "\n",
    "    res = minimize(problem,\n",
    "                   algorithm,\n",
    "                   termination=term,\n",
    "                   verbose=True,\n",
    "                   output=MyOutput(),\n",
    "                   # seed=1,\n",
    "                   )\n",
    "\n",
    "    end_time = time.time()\n",
    "\n",
    "    execution_time = end_time - start_time\n",
    "    #print(f\"Execution time: {execution_time:.2f} seconds\")\n",
    "    #print(\"Best solution found: \\nX = %s\\nF = %s\" % (res.X, res.F))\n",
    "    params, score = res.X, res.F[0]\n",
    "    return params, -score, execution_time\n"
   ]
  },
  {
   "cell_type": "code",
   "execution_count": 71,
   "metadata": {},
   "outputs": [],
   "source": [
    "def full_run_ga(iterations):\n",
    "    filename = './XGBoost_wine_data.csv'\n",
    "    try:\n",
    "        XGBoost_data = pd.read_csv(filename)\n",
    "    except:\n",
    "        open(filename, \"a\")\n",
    "        XGBoost_data = pd.DataFrame(columns=['Algorithm', 'Model', 'F1', 'Time', 'params'])\n",
    "\n",
    "    \n",
    "    for i in tqdm(range(iterations)):\n",
    "        params, score, execution_time = run_accuracy_ga()\n",
    "        \n",
    "        temp = pd.DataFrame({'Algorithm' : ['GA'], \n",
    "                             'Model' : ['XGBoost'], \n",
    "                            'F1' : [score], \n",
    "                            'Time' : [execution_time],\n",
    "                            'params' : [params]\n",
    "                            })\n",
    "        \n",
    "        XGBoost_data = pd.concat([XGBoost_data, temp], ignore_index=True)\n",
    "        XGBoost_data[['Algorithm', 'Model', 'F1', 'Time', 'params']].to_csv(filename, index=False)"
   ]
  },
  {
   "cell_type": "code",
   "execution_count": null,
   "metadata": {},
   "outputs": [],
   "source": []
  },
  {
   "cell_type": "markdown",
   "metadata": {},
   "source": [
    "# PSO"
   ]
  },
  {
   "cell_type": "markdown",
   "metadata": {},
   "source": [
    "https://pymoo.org/algorithms/soo/pso.html?highlight=pso"
   ]
  },
  {
   "cell_type": "code",
   "execution_count": 96,
   "metadata": {},
   "outputs": [],
   "source": [
    "n_estimators_min = 3, \n",
    "n_estimators_max = 10000\n",
    "learning_rate_min = 0.001, \n",
    "learning_rate_max = 0.3\n",
    "max_depth_min = 3, \n",
    "max_depth_max = 15\n",
    "subsample_min = 0.05, \n",
    "subsample_max = 1.0\n",
    "colsample_bytree_min = 0.2, \n",
    "colsample_bytree_max = 1.0\n",
    "gamma_min = 0, \n",
    "gamma_max = 10\n",
    "min_child_weight_min = 0, \n",
    "min_child_weight_max = 10\n",
    "reg_lambda_min = 0, \n",
    "reg_lambda_max = 1\n",
    "reg_alpha_min = 0, \n",
    "reg_alpha_max = 1"
   ]
  },
  {
   "cell_type": "code",
   "execution_count": 97,
   "metadata": {},
   "outputs": [
    {
     "name": "stdout",
     "output_type": "stream",
     "text": [
      "```markdown\n",
      "\\[ \\text{{scaled\\_value}} = \\text{{min\\_val}} + (\\text{{max\\_val}} - \\text{{min\\_val}}) \\cdot \\frac{x}{1000} \\]\n",
      "```\n"
     ]
    }
   ],
   "source": [
    "latex_formula = r\"\\[ \\text{{scaled\\_value}} = \\text{{min\\_val}} + (\\text{{max\\_val}} - \\text{{min\\_val}}) \\cdot \\frac{x}{1000} \\]\"\n",
    "\n",
    "# Print the LaTeX formula in Markdown format\n",
    "print(f\"```markdown\\n{latex_formula}\\n```\")"
   ]
  },
  {
   "cell_type": "code",
   "execution_count": 98,
   "metadata": {},
   "outputs": [
    {
     "name": "stdout",
     "output_type": "stream",
     "text": [
      "0.5992\n"
     ]
    }
   ],
   "source": [
    "def search_range(x, max_val, min_val):\n",
    "    # Ensure that x is within the range [0, 1000]\n",
    "    #x = max(0, min(1000, x))\n",
    "    \n",
    "    # Scale x to the range [min_val, max_val]\n",
    "    scaled_value = min_val + (max_val - min_val) * (x / 1000)\n",
    "    \n",
    "    return scaled_value\n",
    "# Example usage\n",
    "result = search_range(499, 1.0, 0.2)\n",
    "print(result)"
   ]
  },
  {
   "cell_type": "code",
   "execution_count": 101,
   "metadata": {},
   "outputs": [],
   "source": [
    "def round_to_integers(positions, lower_bound, upper_bound):\n",
    "    return np.clip(np.round(positions), lower_bound, upper_bound).astype(int)"
   ]
  },
  {
   "cell_type": "code",
   "execution_count": 102,
   "metadata": {},
   "outputs": [
    {
     "ename": "ValueError",
     "evalue": "setting an array element with a sequence. The requested array has an inhomogeneous shape after 1 dimensions. The detected shape was (9,) + inhomogeneous part.",
     "output_type": "error",
     "traceback": [
      "\u001b[1;31m---------------------------------------------------------------------------\u001b[0m",
      "\u001b[1;31mValueError\u001b[0m                                Traceback (most recent call last)",
      "Cell \u001b[1;32mIn[102], line 64\u001b[0m\n\u001b[0;32m     60\u001b[0m         \u001b[38;5;66;03m#print(result)\u001b[39;00m\n\u001b[0;32m     61\u001b[0m         \u001b[38;5;66;03m#return result\u001b[39;00m\n\u001b[0;32m     62\u001b[0m         out[\u001b[38;5;124m\"\u001b[39m\u001b[38;5;124mF\u001b[39m\u001b[38;5;124m\"\u001b[39m] \u001b[38;5;241m=\u001b[39m \u001b[38;5;241m-\u001b[39mresult\n\u001b[1;32m---> 64\u001b[0m problem \u001b[38;5;241m=\u001b[39m \u001b[43mPSO_Problem\u001b[49m\u001b[43m(\u001b[49m\u001b[43m)\u001b[49m\n\u001b[0;32m     66\u001b[0m algorithm \u001b[38;5;241m=\u001b[39m PSO(pop_size\u001b[38;5;241m=\u001b[39m\u001b[38;5;241m32\u001b[39m, w\u001b[38;5;241m=\u001b[39m\u001b[38;5;241m0.9\u001b[39m, c1\u001b[38;5;241m=\u001b[39m\u001b[38;5;241m2.0\u001b[39m, c2\u001b[38;5;241m=\u001b[39m\u001b[38;5;241m2.0\u001b[39m, adaptive\u001b[38;5;241m=\u001b[39m\u001b[38;5;28;01mTrue\u001b[39;00m, initial_velocity\u001b[38;5;241m=\u001b[39m\u001b[38;5;124m'\u001b[39m\u001b[38;5;124mrandom\u001b[39m\u001b[38;5;124m'\u001b[39m, max_velocity_rate\u001b[38;5;241m=\u001b[39m\u001b[38;5;241m0.20\u001b[39m, pertube_best\u001b[38;5;241m=\u001b[39m\u001b[38;5;28;01mTrue\u001b[39;00m)\n\u001b[0;32m     68\u001b[0m res \u001b[38;5;241m=\u001b[39m minimize(problem,\n\u001b[0;32m     69\u001b[0m                algorithm,\n\u001b[0;32m     70\u001b[0m                seed\u001b[38;5;241m=\u001b[39m\u001b[38;5;241m1\u001b[39m,\n\u001b[0;32m     71\u001b[0m                verbose\u001b[38;5;241m=\u001b[39m\u001b[38;5;28;01mFalse\u001b[39;00m)\n",
      "Cell \u001b[1;32mIn[102], line 13\u001b[0m, in \u001b[0;36mPSO_Problem.__init__\u001b[1;34m(self)\u001b[0m\n\u001b[0;32m     12\u001b[0m \u001b[38;5;28;01mdef\u001b[39;00m \u001b[38;5;21m__init__\u001b[39m(\u001b[38;5;28mself\u001b[39m):\n\u001b[1;32m---> 13\u001b[0m     \u001b[38;5;28;43msuper\u001b[39;49m\u001b[43m(\u001b[49m\u001b[43m)\u001b[49m\u001b[38;5;241;43m.\u001b[39;49m\u001b[38;5;21;43m__init__\u001b[39;49m\u001b[43m(\u001b[49m\u001b[43mn_var\u001b[49m\u001b[38;5;241;43m=\u001b[39;49m\u001b[38;5;241;43m9\u001b[39;49m\u001b[43m,\u001b[49m\u001b[43m \u001b[49m\u001b[43mn_obj\u001b[49m\u001b[38;5;241;43m=\u001b[39;49m\u001b[38;5;241;43m1\u001b[39;49m\u001b[43m,\u001b[49m\u001b[43m \u001b[49m\u001b[43mn_constr\u001b[49m\u001b[38;5;241;43m=\u001b[39;49m\u001b[38;5;241;43m1\u001b[39;49m\u001b[43m,\u001b[49m\u001b[43m \u001b[49m\n\u001b[0;32m     14\u001b[0m \u001b[43m                     \u001b[49m\u001b[38;5;66;43;03m#xl=[n_estimators_min, 0, max_depth_min, 0, 0, 0, 0, 0, 0],\u001b[39;49;00m\n\u001b[0;32m     15\u001b[0m \u001b[43m                    \u001b[49m\u001b[43mxl\u001b[49m\u001b[38;5;241;43m=\u001b[39;49m\u001b[43m[\u001b[49m\u001b[38;5;241;43m0\u001b[39;49m\u001b[43m,\u001b[49m\u001b[43m \u001b[49m\u001b[43mlearning_rate_min\u001b[49m\u001b[43m,\u001b[49m\u001b[43m \u001b[49m\u001b[38;5;241;43m0\u001b[39;49m\u001b[43m,\u001b[49m\u001b[43m \u001b[49m\u001b[43msubsample_min\u001b[49m\u001b[43m,\u001b[49m\u001b[43m \u001b[49m\u001b[43mcolsample_bytree_min\u001b[49m\u001b[43m,\u001b[49m\u001b[43m \u001b[49m\u001b[43mgamma_min\u001b[49m\u001b[43m,\u001b[49m\u001b[43m \u001b[49m\u001b[43mmin_child_weight_min\u001b[49m\u001b[43m,\u001b[49m\u001b[43m \u001b[49m\u001b[43mreg_lambda_min\u001b[49m\u001b[43m,\u001b[49m\u001b[43m \u001b[49m\u001b[43mreg_alpha_min\u001b[49m\u001b[43m]\u001b[49m\u001b[43m,\u001b[49m\u001b[43m \u001b[49m\n\u001b[0;32m     16\u001b[0m \u001b[43m                    \u001b[49m\u001b[43mxu\u001b[49m\u001b[38;5;241;43m=\u001b[39;49m\u001b[43m[\u001b[49m\u001b[38;5;241;43m1\u001b[39;49m\u001b[43m,\u001b[49m\u001b[43m \u001b[49m\u001b[43mlearning_rate_max\u001b[49m\u001b[43m,\u001b[49m\u001b[43m \u001b[49m\u001b[38;5;241;43m1\u001b[39;49m\u001b[43m,\u001b[49m\u001b[43m \u001b[49m\u001b[43msubsample_max\u001b[49m\u001b[43m,\u001b[49m\u001b[43m \u001b[49m\u001b[43mcolsample_bytree_max\u001b[49m\u001b[43m,\u001b[49m\u001b[43m \u001b[49m\u001b[43mgamma_max\u001b[49m\u001b[43m,\u001b[49m\u001b[43m \u001b[49m\u001b[43mmin_child_weight_max\u001b[49m\u001b[43m,\u001b[49m\u001b[43m \u001b[49m\u001b[43mreg_lambda_max\u001b[49m\u001b[43m,\u001b[49m\u001b[43m \u001b[49m\u001b[43mreg_alpha_max\u001b[49m\u001b[43m]\u001b[49m\u001b[43m,\u001b[49m\u001b[43m \u001b[49m\n\u001b[0;32m     17\u001b[0m \u001b[43m                     \u001b[49m\u001b[38;5;66;43;03m#xu=[n_estimators_max, 1000, max_depth_max, 1000, 1000, 1000, 1000, 1000, 1000], \u001b[39;49;00m\n\u001b[0;32m     18\u001b[0m \u001b[43m                     \u001b[49m\u001b[43mvtype\u001b[49m\u001b[38;5;241;43m=\u001b[39;49m\u001b[38;5;28;43mint\u001b[39;49m\u001b[43m)\u001b[49m\n",
      "File \u001b[1;32m~\\AppData\\Local\\Packages\\PythonSoftwareFoundation.Python.3.11_qbz5n2kfra8p0\\LocalCache\\local-packages\\Python311\\site-packages\\pymoo\\core\\problem.py:151\u001b[0m, in \u001b[0;36mProblem.__init__\u001b[1;34m(self, n_var, n_obj, n_ieq_constr, n_eq_constr, xl, xu, vtype, vars, elementwise, elementwise_func, elementwise_runner, replace_nan_values_by, exclude_from_serialization, callback, strict, **kwargs)\u001b[0m\n\u001b[0;32m    149\u001b[0m \u001b[38;5;28;01mif\u001b[39;00m \u001b[38;5;28mself\u001b[39m\u001b[38;5;241m.\u001b[39mxl \u001b[38;5;129;01mis\u001b[39;00m \u001b[38;5;129;01mnot\u001b[39;00m \u001b[38;5;28;01mNone\u001b[39;00m:\n\u001b[0;32m    150\u001b[0m     \u001b[38;5;28;01mif\u001b[39;00m \u001b[38;5;129;01mnot\u001b[39;00m \u001b[38;5;28misinstance\u001b[39m(\u001b[38;5;28mself\u001b[39m\u001b[38;5;241m.\u001b[39mxl, np\u001b[38;5;241m.\u001b[39mndarray):\n\u001b[1;32m--> 151\u001b[0m         \u001b[38;5;28mself\u001b[39m\u001b[38;5;241m.\u001b[39mxl \u001b[38;5;241m=\u001b[39m \u001b[43mnp\u001b[49m\u001b[38;5;241;43m.\u001b[39;49m\u001b[43mones\u001b[49m\u001b[43m(\u001b[49m\u001b[43mn_var\u001b[49m\u001b[43m)\u001b[49m\u001b[43m \u001b[49m\u001b[38;5;241;43m*\u001b[39;49m\u001b[43m \u001b[49m\u001b[43mxl\u001b[49m\n\u001b[0;32m    152\u001b[0m     \u001b[38;5;28mself\u001b[39m\u001b[38;5;241m.\u001b[39mxl \u001b[38;5;241m=\u001b[39m \u001b[38;5;28mself\u001b[39m\u001b[38;5;241m.\u001b[39mxl\u001b[38;5;241m.\u001b[39mastype(\u001b[38;5;28mfloat\u001b[39m)\n\u001b[0;32m    154\u001b[0m \u001b[38;5;28;01mif\u001b[39;00m \u001b[38;5;28mself\u001b[39m\u001b[38;5;241m.\u001b[39mxu \u001b[38;5;129;01mis\u001b[39;00m \u001b[38;5;129;01mnot\u001b[39;00m \u001b[38;5;28;01mNone\u001b[39;00m:\n",
      "\u001b[1;31mValueError\u001b[0m: setting an array element with a sequence. The requested array has an inhomogeneous shape after 1 dimensions. The detected shape was (9,) + inhomogeneous part."
     ]
    }
   ],
   "source": [
    "import numpy as np\n",
    "from pymoo.algorithms.soo.nonconvex.ga import GA\n",
    "from pymoo.core.problem import Problem\n",
    "from pymoo.operators.crossover.sbx import SBX\n",
    "from pymoo.operators.mutation.pm import PM\n",
    "from pymoo.operators.repair.rounding import RoundingRepair\n",
    "from pymoo.operators.sampling.rnd import IntegerRandomSampling\n",
    "from pymoo.optimize import minimize\n",
    "\n",
    "class PSO_Problem(Problem):\n",
    "\n",
    "    def __init__(self):\n",
    "        super().__init__(n_var=9, n_obj=1, n_constr=1, \n",
    "                         #xl=[n_estimators_min, 0, max_depth_min, 0, 0, 0, 0, 0, 0],\n",
    "                        xl=[0, learning_rate_min, 0, subsample_min, colsample_bytree_min, gamma_min, min_child_weight_min, reg_lambda_min, reg_alpha_min], \n",
    "                        xu=[1, learning_rate_max, 1, subsample_max, colsample_bytree_max, gamma_max, min_child_weight_max, reg_lambda_max, reg_alpha_max], \n",
    "                         #xu=[n_estimators_max, 1000, max_depth_max, 1000, 1000, 1000, 1000, 1000, 1000], \n",
    "                         vtype=int)\n",
    "\n",
    "    def _evaluate(self, X, out, *args, **kwargs):\n",
    "        n_estimators = round_to_integers(X[0] * n_estimators_max, n_estimators_min, n_estimators_max)\n",
    "        learning_rate = X[1] \n",
    "        max_depth = round_to_integers(X[2] * max_depth_max, max_depth_min, max_depth_max)\n",
    "        subsample = X[3]\n",
    "        colsample_bytree = X[4]\n",
    "        gamma = X[5]\n",
    "        min_child_weight = X[6]\n",
    "        reg_lambda = X[7]\n",
    "        reg_alpha = X[8]\n",
    "        \n",
    "        print('n_estimators', n_estimators)\n",
    "        print('learning_rate', learning_rate)\n",
    "        print('max_depth', max_depth)\n",
    "        print('subsample', subsample)\n",
    "        print('colsample_bytree', colsample_bytree)\n",
    "        print('gamma', gamma)\n",
    "        print('min_child_weight', min_child_weight)\n",
    "        print('reg_lambda', reg_lambda)\n",
    "        print('reg_alpha', reg_alpha)\n",
    "        \n",
    "        model_xgboost = xgb.XGBClassifier(\n",
    "            n_estimators = n_estimators,\n",
    "            learning_rate = learning_rate,\n",
    "            max_depth = max_depth,\n",
    "            subsample = subsample,\n",
    "            colsample_bytree = colsample_bytree,\n",
    "            gamma = gamma,\n",
    "            min_child_weight = min_child_weight,\n",
    "            reg_lambda = reg_lambda,\n",
    "            reg_alpha = reg_alpha,\n",
    "            n_jobs = -1\n",
    "            )\n",
    "        \n",
    "        kfold = KFold(n_splits = 3, shuffle = True)\n",
    "        \n",
    "        scores = cross_val_score(model_xgboost,  x_wine, y_wine, cv = kfold, n_jobs=-1, scoring='f1_weighted')  \n",
    "        result = scores.mean()     \n",
    "        if result == np.nan:\n",
    "            result = 0\n",
    "        #print(result)\n",
    "        #return result\n",
    "        out[\"F\"] = -result\n",
    "\n",
    "problem = PSO_Problem()\n",
    "\n",
    "algorithm = PSO(pop_size=32, w=0.9, c1=2.0, c2=2.0, adaptive=True, initial_velocity='random', max_velocity_rate=0.20, pertube_best=True)\n",
    "\n",
    "res = minimize(problem,\n",
    "               algorithm,\n",
    "               seed=1,\n",
    "               verbose=False)\n",
    "\n",
    "print(\"Best solution found: %s\" % res.X)\n",
    "print(\"Function value: %s\" % res.F)\n",
    "print(\"Constraint violation: %s\" % res.CV)\n"
   ]
  },
  {
   "cell_type": "code",
   "execution_count": null,
   "metadata": {},
   "outputs": [],
   "source": []
  }
 ],
 "metadata": {
  "kernelspec": {
   "display_name": "Python 3",
   "language": "python",
   "name": "python3"
  },
  "language_info": {
   "codemirror_mode": {
    "name": "ipython",
    "version": 3
   },
   "file_extension": ".py",
   "mimetype": "text/x-python",
   "name": "python",
   "nbconvert_exporter": "python",
   "pygments_lexer": "ipython3",
   "version": "3.11.7"
  }
 },
 "nbformat": 4,
 "nbformat_minor": 2
}
