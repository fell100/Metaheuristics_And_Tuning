{
 "cells": [
  {
   "cell_type": "code",
   "execution_count": 218,
   "metadata": {},
   "outputs": [],
   "source": [
    "import xgboost as xgb\n",
    "from sklearn.model_selection import cross_val_score, KFold\n",
    "import pandas as pd\n",
    "import numpy as np"
   ]
  },
  {
   "cell_type": "code",
   "execution_count": 219,
   "metadata": {},
   "outputs": [],
   "source": [
    "df = pd.read_csv('../preprocessing/processed_data/wine.csv')"
   ]
  },
  {
   "cell_type": "code",
   "execution_count": 220,
   "metadata": {},
   "outputs": [
    {
     "data": {
      "text/plain": [
       "Index(['Unnamed: 0', 'fixed acidity', 'volatile acidity', 'citric acid',\n",
       "       'residual sugar', 'chlorides', 'free sulfur dioxide',\n",
       "       'total sulfur dioxide', 'density', 'pH', 'sulphates', 'alcohol',\n",
       "       'quality'],\n",
       "      dtype='object')"
      ]
     },
     "execution_count": 220,
     "metadata": {},
     "output_type": "execute_result"
    }
   ],
   "source": [
    "df.columns"
   ]
  },
  {
   "cell_type": "code",
   "execution_count": 221,
   "metadata": {},
   "outputs": [],
   "source": [
    "y_wine = df[['quality']]\n",
    "x_wine = df.drop(columns='quality')\n",
    "x_wine = x_wine.drop(columns='Unnamed: 0')"
   ]
  },
  {
   "cell_type": "code",
   "execution_count": 222,
   "metadata": {},
   "outputs": [
    {
     "data": {
      "text/plain": [
       "array([0, 1, 2, 3, 4, 5], dtype=int64)"
      ]
     },
     "execution_count": 222,
     "metadata": {},
     "output_type": "execute_result"
    }
   ],
   "source": [
    "np.unique(y_wine.values)"
   ]
  },
  {
   "cell_type": "code",
   "execution_count": 223,
   "metadata": {},
   "outputs": [],
   "source": [
    "from numpy import inf\n",
    "import pickle\n",
    "from sklearn.neighbors import KNeighborsClassifier\n",
    "from sklearn.metrics import accuracy_score, confusion_matrix, classification_report\n",
    "import numpy as np\n",
    "from tqdm.notebook import tqdm as tqdm\n",
    "import matplotlib.pyplot as plt\n",
    "from sklearn.model_selection import cross_val_score, KFold\n",
    "import pickle\n",
    "from pymoo.algorithms.soo.nonconvex.pso import PSO, PSOAnimation\n",
    "from pymoo.optimize import minimize\n",
    "from pymoo.factory import get_termination\n",
    "from pymoo.core.callback import Callback\n",
    "\n",
    "import numpy as np\n",
    "def special_floor(x):\n",
    "    x = int(np.round(x))\n",
    "    if x == 0:\n",
    "        x = 1\n",
    "    return x\n",
    "\n",
    "ITERATIONS = 32\n",
    "POPULATION = 32\n",
    "\n",
    "DIMENSIONS = 16\n",
    "\n",
    "\n",
    "n_estimators_max = 1000\n",
    "learning_rate_max = 0.6\n",
    "subsample_max = 1.0\n",
    "colsample_bytree_max = 1.0\n",
    "gamma_max = 0.5\n",
    "max_depth_max = 10\n",
    "min_child_weight_max = 10\n",
    "reg_alpha_max = 0.1\n",
    "reg_lambda_max = 1\n",
    "scale_pos_weight_max = 10\n",
    "base_score_max = 1\n",
    "\n",
    "n_estimators_min = 10\n",
    "learning_rate_min = 0.0001\n",
    "subsample_min = 0.6\n",
    "colsample_bytree_min = 0.6\n",
    "gamma_min = 0\n",
    "max_depth_min = 3\n",
    "min_child_weight_min = 1\n",
    "reg_alpha_min = 0\n",
    "reg_lambda_min = 0\n",
    "scale_pos_weight_min = 1\n",
    "base_score_min = 0\n",
    "\n",
    "import numpy as np\n",
    "from pymoo.core.problem import ElementwiseProblem\n",
    "\n",
    "class OptimizeWithF1(ElementwiseProblem):\n",
    "\n",
    "    def __init__(self):\n",
    "        super().__init__(n_var= 11,\n",
    "                         n_obj=1,\n",
    "                         n_constr=11,\n",
    "                         types = np.array([int, float, float, float, float, int, int, float, float, float, float]),\n",
    "                         xl=np.array([\n",
    "                          n_estimators_min,\n",
    "                            learning_rate_min,\n",
    "                            subsample_min,\n",
    "                            colsample_bytree_min,\n",
    "                            gamma_min,\n",
    "                            max_depth_min,\n",
    "                            min_child_weight_min,\n",
    "                            reg_alpha_min,\n",
    "                            reg_lambda_min,\n",
    "                            scale_pos_weight_min,\n",
    "                            base_score_min\n",
    "                          ]),\n",
    "                         xu=np.array([\n",
    "                            n_estimators_max,\n",
    "                            learning_rate_max,\n",
    "                            subsample_max,\n",
    "                            colsample_bytree_max,\n",
    "                            gamma_max,\n",
    "                            max_depth_max,\n",
    "                            min_child_weight_max,\n",
    "                            reg_alpha_max,\n",
    "                            reg_lambda_max,\n",
    "                            scale_pos_weight_max,\n",
    "                            base_score_max,\n",
    "                            ])\n",
    "                        )\n",
    "\n",
    "    def _evaluate(self, x, out, *args, **kwargs):\n",
    "        #num_leaves, min_child_samples, n_estimators, learning_rate, subsample_for_bin, min_split_gain, min_child_weight, reg_alpha, reg_lambda\n",
    "       \n",
    "        model_xgboost = xgb.XGBClassifier(\n",
    "                          n_estimators = int(np.round(x[0])),\n",
    "                          learning_rate = x[1],\n",
    "                          subsample = x[2],\n",
    "                          colsample_bytree = x[3],\n",
    "                          gamma = x[4],\n",
    "                          max_depth = special_floor(x[5]),\n",
    "                          min_child_weight = int(np.round(x[6])),\n",
    "                          reg_alpha = x[7],\n",
    "                          reg_lambda = x[8],\n",
    "                          scale_pos_weight = int(x[9]),\n",
    "                          base_score       = x[10],\n",
    "                          n_jobs = -1\n",
    "                                       )\n",
    "        \n",
    "        kfold = KFold(n_splits = 3, shuffle = True)\n",
    "\n",
    "        scores = cross_val_score(model_xgboost, x_wine, y_wine, cv = kfold, scoring='f1_weighted', n_jobs=-1)  \n",
    "        result = scores.mean()\n",
    "        out['F'] = -1 * result\n",
    "\n",
    "problemF1 = OptimizeWithF1()\n",
    "\n",
    "from pymoo.util.display.column import Column\n",
    "from pymoo.util.display.output import Output\n",
    "\n",
    "class MyOutput(Output):\n",
    "\n",
    "    def __init__(self):\n",
    "        super().__init__()\n",
    "        global pbar \n",
    "        pbar = tqdm(total=ITERATIONS)\n",
    "        self.score = Column(\"score\", width=13)\n",
    "        self.Parameters = Column(\"Parameters\", width=35)\n",
    "        self.columns += [self.score, self.Parameters]\n",
    "\n",
    "    def update(self, algorithm):\n",
    "        super().update(algorithm)\n",
    "        self.score.set(-np.min(algorithm.pop.get(\"F\")))\n",
    "        #self.Parameters.set(algorithm.pop.get(\"X\")[0])\n",
    "        pbar.update(1)\n",
    "        if pbar.n == ITERATIONS: pbar.close()\n",
    "        \n",
    "import numpy as np\n",
    "\n",
    "xl=np.array([n_estimators_min,\n",
    "             learning_rate_min,\n",
    "             subsample_min,\n",
    "             colsample_bytree_min,\n",
    "             gamma_min,\n",
    "             max_depth_min,\n",
    "             min_child_weight_min,\n",
    "             reg_alpha_min,\n",
    "             reg_lambda_min,\n",
    "             scale_pos_weight_min,\n",
    "             base_score_min])\n",
    "xu=np.array([n_estimators_max,\n",
    "             learning_rate_max,\n",
    "             subsample_max,\n",
    "             colsample_bytree_max,\n",
    "             gamma_max,\n",
    "             max_depth_max,\n",
    "             min_child_weight_max,\n",
    "             reg_alpha_max,\n",
    "             reg_lambda_max,\n",
    "             scale_pos_weight_max,\n",
    "             base_score_max])\n",
    "\n",
    "def PSO_Optimize_F1(values):\n",
    "    x = values[0] \n",
    "    model_xgboost = xgb.XGBClassifier(\n",
    "                          n_estimators = int(np.round(x[0])),\n",
    "                          learning_rate = x[1],\n",
    "                          subsample = x[2],\n",
    "                          colsample_bytree = x[3],\n",
    "                          gamma = x[4],\n",
    "                          max_depth = special_floor(x[5]),\n",
    "                          min_child_weight = int(np.round(x[6])),\n",
    "                          reg_alpha = x[7],\n",
    "                          reg_lambda = x[8],\n",
    "                          scale_pos_weight = int(x[9]),\n",
    "                          base_score       = x[10],\n",
    "                          n_jobs = -1\n",
    "                                    )\n",
    "    \n",
    "    kfold = KFold(n_splits = 10, shuffle = True)\n",
    "    \n",
    "    scores = cross_val_score(model_xgboost,  x_wine, y_wine, cv = kfold, n_jobs=-1, scoring='f1_weighted')  \n",
    "    result = scores.mean()     \n",
    "    if result == np.nan:\n",
    "        result = 0\n",
    "    print(result)\n",
    "    return -result\n",
    "\n",
    "from pymoo.algorithms.soo.nonconvex.pso import PSO\n",
    "\n",
    "# Define the number of cores you want to use\n",
    "n_cores = 16\n",
    "\n",
    "def run_f1_pso(ITERATIONS=2, POPULATION=3):\n",
    "    algorithm = PSO(pop_size = POPULATION, c1 = 1.5, c2 = 1.5, w = 0.5)\n",
    "\n",
    "    term = get_termination(\"n_gen\", ITERATIONS)\n",
    "\n",
    "    res = minimize(problemF1,\n",
    "                   algorithm,\n",
    "                   save_history=False,\n",
    "                   verbose=True,\n",
    "                   vtype = ['int', 'float', 'float', 'float', 'float', 'float', 'int', 'float', 'float', 'int', 'float'],\n",
    "                   output=MyOutput(),\n",
    "                   termination=term)\n",
    "\n",
    "    index_best_individual = np.where(res.pop.get('F') == np.min(res.pop.get('F')))[0][0]\n",
    "    score_best_individual = res.pop.get('F')[index_best_individual]\n",
    "    parameters_best_individual = res.pop.get('X')[index_best_individual]\n",
    "    \n",
    "    return score_best_individual, parameters_best_individual, res\n"
   ]
  },
  {
   "cell_type": "code",
   "execution_count": 224,
   "metadata": {},
   "outputs": [],
   "source": [
    "#score_best_individual, parameters_best_individual, res = run_f1_pso()"
   ]
  },
  {
   "cell_type": "code",
   "execution_count": 225,
   "metadata": {},
   "outputs": [],
   "source": [
    "from pymoo.algorithms.soo.nonconvex.ga import GA\n",
    "def run_f1_ga(ITERATIONS = 32, POPULATION = 32):\n",
    "    algorithm = GA(pop_size=POPULATION)\n",
    "\n",
    "    term = get_termination(\"n_gen\", ITERATIONS)\n",
    "\n",
    "    res = minimize(problemF1,\n",
    "                algorithm,\n",
    "                save_history=False,\n",
    "                vtype = ['int', 'float', 'float', 'float', 'float', 'float', 'int', 'float', 'float', 'int', 'float'],\n",
    "                verbose=True,\n",
    "                output=MyOutput(),\n",
    "                termination = term)\n",
    "\n",
    "\n",
    "    index_best_individual = np.where(res.pop.get('F') == np.min(res.pop.get('F')))[0][0]\n",
    "    score_best_individual = res.pop.get('F')[index_best_individual]\n",
    "    parameters_best_individual = res.pop.get('X')[index_best_individual]\n",
    "\n",
    "    #print(f'Best F1 Score {-score_best_individual}')\n",
    "    #print(f'Model parameters: \\n {parameters_best_individual}')\n",
    "    \n",
    "    return score_best_individual, parameters_best_individual, res"
   ]
  },
  {
   "cell_type": "code",
   "execution_count": 226,
   "metadata": {},
   "outputs": [
    {
     "name": "stderr",
     "output_type": "stream",
     "text": [
      "C:\\Users\\Felps\\AppData\\Local\\Temp\\ipykernel_28040\\641466539.py:5: DeprecationWarning: Call to deprecated function (or staticmethod) get_termination. (Please use `from pymoo.termination import get_termination`)\n",
      "  term = get_termination(\"n_gen\", ITERATIONS)\n"
     ]
    },
    {
     "data": {
      "application/vnd.jupyter.widget-view+json": {
       "model_id": "3e4fda2b1e09410b853bd1b25132fbb3",
       "version_major": 2,
       "version_minor": 0
      },
      "text/plain": [
       "  0%|          | 0/32 [00:00<?, ?it/s]"
      ]
     },
     "metadata": {},
     "output_type": "display_data"
    },
    {
     "name": "stdout",
     "output_type": "stream",
     "text": [
      "=======================================================================\n",
      "n_gen  |  n_eval  |     score     |              Parameters            \n",
      "=======================================================================\n",
      "     1 |       10 |  0.6245778803 |                                   -\n",
      "     2 |       20 |  0.6439697088 |                                   -\n",
      "     3 |       30 |  0.6439697088 |                                   -\n",
      "     4 |       40 |  0.6439697088 |                                   -\n",
      "     5 |       50 |  0.6439697088 |                                   -\n",
      "     6 |       60 |  0.6439697088 |                                   -\n"
     ]
    },
    {
     "name": "stderr",
     "output_type": "stream",
     "text": [
      "C:\\Users\\Felps\\AppData\\Local\\Packages\\PythonSoftwareFoundation.Python.3.11_qbz5n2kfra8p0\\LocalCache\\local-packages\\Python311\\site-packages\\sklearn\\model_selection\\_validation.py:378: FitFailedWarning: \n",
      "1 fits failed out of a total of 3.\n",
      "The score on these train-test partitions for these parameters will be set to nan.\n",
      "If these failures are not expected, you can try to debug them by setting error_score='raise'.\n",
      "\n",
      "Below are more details about the failures:\n",
      "--------------------------------------------------------------------------------\n",
      "1 fits failed with the following error:\n",
      "Traceback (most recent call last):\n",
      "  File \"C:\\Users\\Felps\\AppData\\Local\\Packages\\PythonSoftwareFoundation.Python.3.11_qbz5n2kfra8p0\\LocalCache\\local-packages\\Python311\\site-packages\\sklearn\\model_selection\\_validation.py\", line 686, in _fit_and_score\n",
      "    estimator.fit(X_train, y_train, **fit_params)\n",
      "  File \"C:\\Users\\Felps\\AppData\\Local\\Packages\\PythonSoftwareFoundation.Python.3.11_qbz5n2kfra8p0\\LocalCache\\local-packages\\Python311\\site-packages\\xgboost\\core.py\", line 620, in inner_f\n",
      "    return func(**kwargs)\n",
      "           ^^^^^^^^^^^^^^\n",
      "  File \"C:\\Users\\Felps\\AppData\\Local\\Packages\\PythonSoftwareFoundation.Python.3.11_qbz5n2kfra8p0\\LocalCache\\local-packages\\Python311\\site-packages\\xgboost\\sklearn.py\", line 1440, in fit\n",
      "    raise ValueError(\n",
      "ValueError: Invalid classes inferred from unique values of `y`.  Expected: [0 1 2 3 4], got [1 2 3 4 5]\n",
      "\n",
      "  warnings.warn(some_fits_failed_message, FitFailedWarning)\n"
     ]
    },
    {
     "name": "stdout",
     "output_type": "stream",
     "text": [
      "     7 |       70 |  0.6514054194 |                                   -\n",
      "     8 |       80 |  0.6514054194 |                                   -\n",
      "     9 |       90 |  0.6514054194 |                                   -\n",
      "    10 |      100 |  0.6514054194 |                                   -\n"
     ]
    },
    {
     "data": {
      "application/vnd.jupyter.widget-view+json": {
       "model_id": "04bc6a48178b490f81bdaf38d317ba50",
       "version_major": 2,
       "version_minor": 0
      },
      "text/plain": [
       "  0%|          | 0/32 [00:00<?, ?it/s]"
      ]
     },
     "metadata": {},
     "output_type": "display_data"
    },
    {
     "name": "stdout",
     "output_type": "stream",
     "text": [
      "=======================================================================\n",
      "n_gen  |  n_eval  |     score     |              Parameters            \n",
      "=======================================================================\n",
      "     1 |       10 |  0.6239266008 |                                   -\n",
      "     2 |       20 |  0.6297685574 |                                   -\n",
      "     3 |       30 |  0.6297685574 |                                   -\n",
      "     4 |       40 |  0.6297685574 |                                   -\n",
      "     5 |       50 |  0.6297685574 |                                   -\n",
      "     6 |       60 |  0.6297685574 |                                   -\n",
      "     7 |       70 |  0.6300654155 |                                   -\n",
      "     8 |       80 |  0.6371089640 |                                   -\n",
      "     9 |       90 |  0.6371089640 |                                   -\n",
      "    10 |      100 |  0.6371089640 |                                   -\n"
     ]
    },
    {
     "data": {
      "application/vnd.jupyter.widget-view+json": {
       "model_id": "90c046acf79b4a6098a2750da29dc089",
       "version_major": 2,
       "version_minor": 0
      },
      "text/plain": [
       "  0%|          | 0/32 [00:00<?, ?it/s]"
      ]
     },
     "metadata": {},
     "output_type": "display_data"
    },
    {
     "name": "stdout",
     "output_type": "stream",
     "text": [
      "=======================================================================\n",
      "n_gen  |  n_eval  |     score     |              Parameters            \n",
      "=======================================================================\n",
      "     1 |       10 |  0.6223561044 |                                   -\n",
      "     2 |       20 |  0.6395659647 |                                   -\n",
      "     3 |       30 |  0.6395659647 |                                   -\n",
      "     4 |       40 |  0.6395659647 |                                   -\n",
      "     5 |       50 |  0.6395659647 |                                   -\n",
      "     6 |       60 |  0.6395659647 |                                   -\n",
      "     7 |       70 |  0.6395659647 |                                   -\n",
      "     8 |       80 |  0.6395659647 |                                   -\n",
      "     9 |       90 |  0.6395659647 |                                   -\n",
      "    10 |      100 |  0.6418073732 |                                   -\n"
     ]
    },
    {
     "data": {
      "application/vnd.jupyter.widget-view+json": {
       "model_id": "acd5d74dc0a04de58f5c132b22411ca3",
       "version_major": 2,
       "version_minor": 0
      },
      "text/plain": [
       "  0%|          | 0/32 [00:00<?, ?it/s]"
      ]
     },
     "metadata": {},
     "output_type": "display_data"
    },
    {
     "name": "stdout",
     "output_type": "stream",
     "text": [
      "=======================================================================\n",
      "n_gen  |  n_eval  |     score     |              Parameters            \n",
      "=======================================================================\n",
      "     1 |       10 |  0.6292249490 |                                   -\n",
      "     2 |       20 |  0.6292249490 |                                   -\n",
      "     3 |       30 |  0.6292249490 |                                   -\n",
      "     4 |       40 |  0.6479013696 |                                   -\n",
      "     5 |       50 |  0.6479013696 |                                   -\n",
      "     6 |       60 |  0.6479013696 |                                   -\n",
      "     7 |       70 |  0.6479013696 |                                   -\n",
      "     8 |       80 |  0.6479013696 |                                   -\n",
      "     9 |       90 |  0.6479013696 |                                   -\n",
      "    10 |      100 |  0.6479013696 |                                   -\n"
     ]
    },
    {
     "data": {
      "application/vnd.jupyter.widget-view+json": {
       "model_id": "4672dd4ae2bd4eb7bfb4c3ea8a397635",
       "version_major": 2,
       "version_minor": 0
      },
      "text/plain": [
       "  0%|          | 0/32 [00:00<?, ?it/s]"
      ]
     },
     "metadata": {},
     "output_type": "display_data"
    },
    {
     "name": "stdout",
     "output_type": "stream",
     "text": [
      "=======================================================================\n",
      "n_gen  |  n_eval  |     score     |              Parameters            \n",
      "=======================================================================\n",
      "     1 |       10 |  0.6281572800 |                                   -\n",
      "     2 |       20 |  0.6281572800 |                                   -\n",
      "     3 |       30 |  0.6421925769 |                                   -\n",
      "     4 |       40 |  0.6447503288 |                                   -\n",
      "     5 |       50 |  0.6447503288 |                                   -\n",
      "     6 |       60 |  0.6447503288 |                                   -\n",
      "     7 |       70 |  0.6473951861 |                                   -\n",
      "     8 |       80 |  0.6476955332 |                                   -\n",
      "     9 |       90 |  0.6476955332 |                                   -\n",
      "    10 |      100 |  0.6476955332 |                                   -\n"
     ]
    },
    {
     "data": {
      "application/vnd.jupyter.widget-view+json": {
       "model_id": "ba28391d8537472181b63a8101fab83c",
       "version_major": 2,
       "version_minor": 0
      },
      "text/plain": [
       "  0%|          | 0/32 [00:00<?, ?it/s]"
      ]
     },
     "metadata": {},
     "output_type": "display_data"
    },
    {
     "name": "stdout",
     "output_type": "stream",
     "text": [
      "=======================================================================\n",
      "n_gen  |  n_eval  |     score     |              Parameters            \n",
      "=======================================================================\n",
      "     1 |       10 |  0.6261409179 |                                   -\n",
      "     2 |       20 |  0.6378867062 |                                   -\n",
      "     3 |       30 |  0.6462835653 |                                   -\n",
      "     4 |       40 |  0.6462835653 |                                   -\n",
      "     5 |       50 |  0.6462835653 |                                   -\n",
      "     6 |       60 |  0.6466579117 |                                   -\n",
      "     7 |       70 |  0.6466579117 |                                   -\n",
      "     8 |       80 |  0.6466579117 |                                   -\n",
      "     9 |       90 |  0.6466579117 |                                   -\n",
      "    10 |      100 |  0.6466579117 |                                   -\n"
     ]
    },
    {
     "data": {
      "application/vnd.jupyter.widget-view+json": {
       "model_id": "0899f7c2b99642c490a30cbda6b36065",
       "version_major": 2,
       "version_minor": 0
      },
      "text/plain": [
       "  0%|          | 0/32 [00:00<?, ?it/s]"
      ]
     },
     "metadata": {},
     "output_type": "display_data"
    },
    {
     "name": "stdout",
     "output_type": "stream",
     "text": [
      "=======================================================================\n",
      "n_gen  |  n_eval  |     score     |              Parameters            \n",
      "=======================================================================\n",
      "     1 |       10 |  0.6457663986 |                                   -\n",
      "     2 |       20 |  0.6457663986 |                                   -\n",
      "     3 |       30 |  0.6457663986 |                                   -\n",
      "     4 |       40 |  0.6457663986 |                                   -\n",
      "     5 |       50 |  0.6457663986 |                                   -\n",
      "     6 |       60 |  0.6515297211 |                                   -\n",
      "     7 |       70 |  0.6515297211 |                                   -\n",
      "     8 |       80 |  0.6515297211 |                                   -\n",
      "     9 |       90 |  0.6515297211 |                                   -\n",
      "    10 |      100 |  0.6515297211 |                                   -\n"
     ]
    },
    {
     "data": {
      "application/vnd.jupyter.widget-view+json": {
       "model_id": "b73b6222926e47ff8134ad786599488c",
       "version_major": 2,
       "version_minor": 0
      },
      "text/plain": [
       "  0%|          | 0/32 [00:00<?, ?it/s]"
      ]
     },
     "metadata": {},
     "output_type": "display_data"
    },
    {
     "name": "stdout",
     "output_type": "stream",
     "text": [
      "=======================================================================\n",
      "n_gen  |  n_eval  |     score     |              Parameters            \n",
      "=======================================================================\n",
      "     1 |       10 |  0.6386330581 |                                   -\n",
      "     2 |       20 |  0.6386330581 |                                   -\n",
      "     3 |       30 |  0.6386330581 |                                   -\n",
      "     4 |       40 |  0.6386330581 |                                   -\n",
      "     5 |       50 |  0.6386330581 |                                   -\n",
      "     6 |       60 |  0.6386330581 |                                   -\n",
      "     7 |       70 |  0.6386330581 |                                   -\n",
      "     8 |       80 |  0.6386330581 |                                   -\n",
      "     9 |       90 |  0.6386330581 |                                   -\n",
      "    10 |      100 |  0.6386330581 |                                   -\n"
     ]
    },
    {
     "data": {
      "application/vnd.jupyter.widget-view+json": {
       "model_id": "fdc3f69582f644c1b5e786a878c68a1a",
       "version_major": 2,
       "version_minor": 0
      },
      "text/plain": [
       "  0%|          | 0/32 [00:00<?, ?it/s]"
      ]
     },
     "metadata": {},
     "output_type": "display_data"
    },
    {
     "name": "stdout",
     "output_type": "stream",
     "text": [
      "=======================================================================\n",
      "n_gen  |  n_eval  |     score     |              Parameters            \n",
      "=======================================================================\n",
      "     1 |       10 |  0.6285528946 |                                   -\n",
      "     2 |       20 |  0.6285528946 |                                   -\n",
      "     3 |       30 |  0.6285528946 |                                   -\n",
      "     4 |       40 |  0.6304677381 |                                   -\n",
      "     5 |       50 |  0.6304677381 |                                   -\n",
      "     6 |       60 |  0.6436422075 |                                   -\n",
      "     7 |       70 |  0.6436422075 |                                   -\n",
      "     8 |       80 |  0.6436422075 |                                   -\n",
      "     9 |       90 |  0.6436422075 |                                   -\n",
      "    10 |      100 |  0.6436422075 |                                   -\n"
     ]
    },
    {
     "data": {
      "application/vnd.jupyter.widget-view+json": {
       "model_id": "782a6e7b56ff47abab6465d2fec5cc0e",
       "version_major": 2,
       "version_minor": 0
      },
      "text/plain": [
       "  0%|          | 0/32 [00:00<?, ?it/s]"
      ]
     },
     "metadata": {},
     "output_type": "display_data"
    },
    {
     "name": "stdout",
     "output_type": "stream",
     "text": [
      "=======================================================================\n",
      "n_gen  |  n_eval  |     score     |              Parameters            \n",
      "=======================================================================\n",
      "     1 |       10 |  0.6135530627 |                                   -\n",
      "     2 |       20 |  0.6198580625 |                                   -\n",
      "     3 |       30 |  0.6417110020 |                                   -\n",
      "     4 |       40 |  0.6417110020 |                                   -\n",
      "     5 |       50 |  0.6417110020 |                                   -\n",
      "     6 |       60 |  0.6417110020 |                                   -\n",
      "     7 |       70 |  0.6417110020 |                                   -\n",
      "     8 |       80 |  0.6417110020 |                                   -\n",
      "     9 |       90 |  0.6417110020 |                                   -\n",
      "    10 |      100 |  0.6417110020 |                                   -\n"
     ]
    },
    {
     "data": {
      "application/vnd.jupyter.widget-view+json": {
       "model_id": "ea0ec2749e0349008baccc3e658af4bb",
       "version_major": 2,
       "version_minor": 0
      },
      "text/plain": [
       "  0%|          | 0/32 [00:00<?, ?it/s]"
      ]
     },
     "metadata": {},
     "output_type": "display_data"
    },
    {
     "name": "stdout",
     "output_type": "stream",
     "text": [
      "=======================================================================\n",
      "n_gen  |  n_eval  |     score     |              Parameters            \n",
      "=======================================================================\n",
      "     1 |       10 |  0.6293063806 |                                   -\n",
      "     2 |       20 |  0.6293063806 |                                   -\n",
      "     3 |       30 |  0.6293063806 |                                   -\n",
      "     4 |       40 |  0.6293063806 |                                   -\n",
      "     5 |       50 |  0.6293063806 |                                   -\n",
      "     6 |       60 |  0.6293063806 |                                   -\n",
      "     7 |       70 |  0.6293063806 |                                   -\n",
      "     8 |       80 |  0.6381924504 |                                   -\n",
      "     9 |       90 |  0.6381924504 |                                   -\n",
      "    10 |      100 |  0.6381924504 |                                   -\n"
     ]
    },
    {
     "data": {
      "application/vnd.jupyter.widget-view+json": {
       "model_id": "44582d9cd27146dc9d505d5dc7169595",
       "version_major": 2,
       "version_minor": 0
      },
      "text/plain": [
       "  0%|          | 0/32 [00:00<?, ?it/s]"
      ]
     },
     "metadata": {},
     "output_type": "display_data"
    },
    {
     "name": "stdout",
     "output_type": "stream",
     "text": [
      "=======================================================================\n",
      "n_gen  |  n_eval  |     score     |              Parameters            \n",
      "=======================================================================\n",
      "     1 |       10 |  0.6248919025 |                                   -\n",
      "     2 |       20 |  0.6248919025 |                                   -\n",
      "     3 |       30 |  0.6248919025 |                                   -\n",
      "     4 |       40 |  0.6300066290 |                                   -\n",
      "     5 |       50 |  0.6443226996 |                                   -\n",
      "     6 |       60 |  0.6443226996 |                                   -\n",
      "     7 |       70 |  0.6443226996 |                                   -\n",
      "     8 |       80 |  0.6443226996 |                                   -\n",
      "     9 |       90 |  0.6443226996 |                                   -\n",
      "    10 |      100 |  0.6500034524 |                                   -\n"
     ]
    },
    {
     "data": {
      "application/vnd.jupyter.widget-view+json": {
       "model_id": "302a7dfd09a24b45b8a63a7716db9bdd",
       "version_major": 2,
       "version_minor": 0
      },
      "text/plain": [
       "  0%|          | 0/32 [00:00<?, ?it/s]"
      ]
     },
     "metadata": {},
     "output_type": "display_data"
    },
    {
     "name": "stdout",
     "output_type": "stream",
     "text": [
      "=======================================================================\n",
      "n_gen  |  n_eval  |     score     |              Parameters            \n",
      "=======================================================================\n",
      "     1 |       10 |  0.6314123859 |                                   -\n",
      "     2 |       20 |  0.6354224867 |                                   -\n",
      "     3 |       30 |  0.6354224867 |                                   -\n",
      "     4 |       40 |  0.6354224867 |                                   -\n",
      "     5 |       50 |  0.6354224867 |                                   -\n",
      "     6 |       60 |  0.6457450436 |                                   -\n",
      "     7 |       70 |  0.6457450436 |                                   -\n",
      "     8 |       80 |  0.6457450436 |                                   -\n",
      "     9 |       90 |  0.6457450436 |                                   -\n",
      "    10 |      100 |  0.6457450436 |                                   -\n"
     ]
    },
    {
     "data": {
      "application/vnd.jupyter.widget-view+json": {
       "model_id": "ee2fdd8dbb80443dbb1e4a75db546f5e",
       "version_major": 2,
       "version_minor": 0
      },
      "text/plain": [
       "  0%|          | 0/32 [00:00<?, ?it/s]"
      ]
     },
     "metadata": {},
     "output_type": "display_data"
    },
    {
     "name": "stdout",
     "output_type": "stream",
     "text": [
      "=======================================================================\n",
      "n_gen  |  n_eval  |     score     |              Parameters            \n",
      "=======================================================================\n",
      "     1 |       10 |  0.6377416780 |                                   -\n",
      "     2 |       20 |  0.6377416780 |                                   -\n",
      "     3 |       30 |  0.6377416780 |                                   -\n",
      "     4 |       40 |  0.6377416780 |                                   -\n",
      "     5 |       50 |  0.6377416780 |                                   -\n",
      "     6 |       60 |  0.6377416780 |                                   -\n",
      "     7 |       70 |  0.6377416780 |                                   -\n",
      "     8 |       80 |  0.6377416780 |                                   -\n",
      "     9 |       90 |  0.6377416780 |                                   -\n",
      "    10 |      100 |  0.6377416780 |                                   -\n"
     ]
    },
    {
     "data": {
      "application/vnd.jupyter.widget-view+json": {
       "model_id": "54d07cf7a42f4a2cbde43056130807a7",
       "version_major": 2,
       "version_minor": 0
      },
      "text/plain": [
       "  0%|          | 0/32 [00:00<?, ?it/s]"
      ]
     },
     "metadata": {},
     "output_type": "display_data"
    },
    {
     "name": "stdout",
     "output_type": "stream",
     "text": [
      "=======================================================================\n",
      "n_gen  |  n_eval  |     score     |              Parameters            \n",
      "=======================================================================\n",
      "     1 |       10 |  0.6306876198 |                                   -\n",
      "     2 |       20 |  0.6459821629 |                                   -\n",
      "     3 |       30 |  0.6459821629 |                                   -\n",
      "     4 |       40 |  0.6459821629 |                                   -\n",
      "     5 |       50 |  0.6459821629 |                                   -\n",
      "     6 |       60 |  0.6459821629 |                                   -\n",
      "     7 |       70 |  0.6459821629 |                                   -\n",
      "     8 |       80 |  0.6459821629 |                                   -\n",
      "     9 |       90 |  0.6501937076 |                                   -\n",
      "    10 |      100 |  0.6501937076 |                                   -\n"
     ]
    },
    {
     "data": {
      "application/vnd.jupyter.widget-view+json": {
       "model_id": "32080ad4b52446b9b98da94fb6061489",
       "version_major": 2,
       "version_minor": 0
      },
      "text/plain": [
       "  0%|          | 0/32 [00:00<?, ?it/s]"
      ]
     },
     "metadata": {},
     "output_type": "display_data"
    },
    {
     "name": "stdout",
     "output_type": "stream",
     "text": [
      "=======================================================================\n",
      "n_gen  |  n_eval  |     score     |              Parameters            \n",
      "=======================================================================\n",
      "     1 |       10 |  0.6294539052 |                                   -\n",
      "     2 |       20 |  0.6390947331 |                                   -\n",
      "     3 |       30 |  0.6390947331 |                                   -\n",
      "     4 |       40 |  0.6390947331 |                                   -\n",
      "     5 |       50 |  0.6390947331 |                                   -\n",
      "     6 |       60 |  0.6390947331 |                                   -\n",
      "     7 |       70 |  0.6390947331 |                                   -\n",
      "     8 |       80 |  0.6390947331 |                                   -\n",
      "     9 |       90 |  0.6390947331 |                                   -\n",
      "    10 |      100 |  0.6390947331 |                                   -\n"
     ]
    },
    {
     "data": {
      "application/vnd.jupyter.widget-view+json": {
       "model_id": "df35dd2988c449009066bdcbd5617f17",
       "version_major": 2,
       "version_minor": 0
      },
      "text/plain": [
       "  0%|          | 0/32 [00:00<?, ?it/s]"
      ]
     },
     "metadata": {},
     "output_type": "display_data"
    },
    {
     "name": "stdout",
     "output_type": "stream",
     "text": [
      "=======================================================================\n",
      "n_gen  |  n_eval  |     score     |              Parameters            \n",
      "=======================================================================\n",
      "     1 |       10 |  0.6345603302 |                                   -\n",
      "     2 |       20 |  0.6345603302 |                                   -\n",
      "     3 |       30 |  0.6345603302 |                                   -\n",
      "     4 |       40 |  0.6345603302 |                                   -\n",
      "     5 |       50 |  0.6345603302 |                                   -\n"
     ]
    },
    {
     "ename": "KeyboardInterrupt",
     "evalue": "",
     "output_type": "error",
     "traceback": [
      "\u001b[1;31m---------------------------------------------------------------------------\u001b[0m",
      "\u001b[1;31mKeyboardInterrupt\u001b[0m                         Traceback (most recent call last)",
      "Cell \u001b[1;32mIn[226], line 3\u001b[0m\n\u001b[0;32m      1\u001b[0m with_vartype_list \u001b[38;5;241m=\u001b[39m [] \n\u001b[0;32m      2\u001b[0m \u001b[38;5;28;01mfor\u001b[39;00m i \u001b[38;5;129;01min\u001b[39;00m \u001b[38;5;28mrange\u001b[39m(\u001b[38;5;241m100\u001b[39m):\n\u001b[1;32m----> 3\u001b[0m     score_best_individual, parameters_best_individual, res \u001b[38;5;241m=\u001b[39m \u001b[43mrun_f1_ga\u001b[49m\u001b[43m(\u001b[49m\u001b[38;5;241;43m10\u001b[39;49m\u001b[43m,\u001b[49m\u001b[43m \u001b[49m\u001b[38;5;241;43m10\u001b[39;49m\u001b[43m)\u001b[49m\n\u001b[0;32m      4\u001b[0m     with_vartype_list\u001b[38;5;241m.\u001b[39mappend(\u001b[38;5;241m-\u001b[39mscore_best_individual[\u001b[38;5;241m0\u001b[39m])\n",
      "Cell \u001b[1;32mIn[225], line 7\u001b[0m, in \u001b[0;36mrun_f1_ga\u001b[1;34m(ITERATIONS, POPULATION)\u001b[0m\n\u001b[0;32m      3\u001b[0m algorithm \u001b[38;5;241m=\u001b[39m GA(pop_size\u001b[38;5;241m=\u001b[39mPOPULATION)\n\u001b[0;32m      5\u001b[0m term \u001b[38;5;241m=\u001b[39m get_termination(\u001b[38;5;124m\"\u001b[39m\u001b[38;5;124mn_gen\u001b[39m\u001b[38;5;124m\"\u001b[39m, ITERATIONS)\n\u001b[1;32m----> 7\u001b[0m res \u001b[38;5;241m=\u001b[39m \u001b[43mminimize\u001b[49m\u001b[43m(\u001b[49m\u001b[43mproblemF1\u001b[49m\u001b[43m,\u001b[49m\n\u001b[0;32m      8\u001b[0m \u001b[43m            \u001b[49m\u001b[43malgorithm\u001b[49m\u001b[43m,\u001b[49m\n\u001b[0;32m      9\u001b[0m \u001b[43m            \u001b[49m\u001b[43msave_history\u001b[49m\u001b[38;5;241;43m=\u001b[39;49m\u001b[38;5;28;43;01mFalse\u001b[39;49;00m\u001b[43m,\u001b[49m\n\u001b[0;32m     10\u001b[0m \u001b[43m            \u001b[49m\u001b[43mvtype\u001b[49m\u001b[43m \u001b[49m\u001b[38;5;241;43m=\u001b[39;49m\u001b[43m \u001b[49m\u001b[43m[\u001b[49m\u001b[38;5;124;43m'\u001b[39;49m\u001b[38;5;124;43mint\u001b[39;49m\u001b[38;5;124;43m'\u001b[39;49m\u001b[43m,\u001b[49m\u001b[43m \u001b[49m\u001b[38;5;124;43m'\u001b[39;49m\u001b[38;5;124;43mfloat\u001b[39;49m\u001b[38;5;124;43m'\u001b[39;49m\u001b[43m,\u001b[49m\u001b[43m \u001b[49m\u001b[38;5;124;43m'\u001b[39;49m\u001b[38;5;124;43mfloat\u001b[39;49m\u001b[38;5;124;43m'\u001b[39;49m\u001b[43m,\u001b[49m\u001b[43m \u001b[49m\u001b[38;5;124;43m'\u001b[39;49m\u001b[38;5;124;43mfloat\u001b[39;49m\u001b[38;5;124;43m'\u001b[39;49m\u001b[43m,\u001b[49m\u001b[43m \u001b[49m\u001b[38;5;124;43m'\u001b[39;49m\u001b[38;5;124;43mfloat\u001b[39;49m\u001b[38;5;124;43m'\u001b[39;49m\u001b[43m,\u001b[49m\u001b[43m \u001b[49m\u001b[38;5;124;43m'\u001b[39;49m\u001b[38;5;124;43mfloat\u001b[39;49m\u001b[38;5;124;43m'\u001b[39;49m\u001b[43m,\u001b[49m\u001b[43m \u001b[49m\u001b[38;5;124;43m'\u001b[39;49m\u001b[38;5;124;43mint\u001b[39;49m\u001b[38;5;124;43m'\u001b[39;49m\u001b[43m,\u001b[49m\u001b[43m \u001b[49m\u001b[38;5;124;43m'\u001b[39;49m\u001b[38;5;124;43mfloat\u001b[39;49m\u001b[38;5;124;43m'\u001b[39;49m\u001b[43m,\u001b[49m\u001b[43m \u001b[49m\u001b[38;5;124;43m'\u001b[39;49m\u001b[38;5;124;43mfloat\u001b[39;49m\u001b[38;5;124;43m'\u001b[39;49m\u001b[43m,\u001b[49m\u001b[43m \u001b[49m\u001b[38;5;124;43m'\u001b[39;49m\u001b[38;5;124;43mint\u001b[39;49m\u001b[38;5;124;43m'\u001b[39;49m\u001b[43m,\u001b[49m\u001b[43m \u001b[49m\u001b[38;5;124;43m'\u001b[39;49m\u001b[38;5;124;43mfloat\u001b[39;49m\u001b[38;5;124;43m'\u001b[39;49m\u001b[43m]\u001b[49m\u001b[43m,\u001b[49m\n\u001b[0;32m     11\u001b[0m \u001b[43m            \u001b[49m\u001b[43mverbose\u001b[49m\u001b[38;5;241;43m=\u001b[39;49m\u001b[38;5;28;43;01mTrue\u001b[39;49;00m\u001b[43m,\u001b[49m\n\u001b[0;32m     12\u001b[0m \u001b[43m            \u001b[49m\u001b[43moutput\u001b[49m\u001b[38;5;241;43m=\u001b[39;49m\u001b[43mMyOutput\u001b[49m\u001b[43m(\u001b[49m\u001b[43m)\u001b[49m\u001b[43m,\u001b[49m\n\u001b[0;32m     13\u001b[0m \u001b[43m            \u001b[49m\u001b[43mtermination\u001b[49m\u001b[43m \u001b[49m\u001b[38;5;241;43m=\u001b[39;49m\u001b[43m \u001b[49m\u001b[43mterm\u001b[49m\u001b[43m)\u001b[49m\n\u001b[0;32m     16\u001b[0m index_best_individual \u001b[38;5;241m=\u001b[39m np\u001b[38;5;241m.\u001b[39mwhere(res\u001b[38;5;241m.\u001b[39mpop\u001b[38;5;241m.\u001b[39mget(\u001b[38;5;124m'\u001b[39m\u001b[38;5;124mF\u001b[39m\u001b[38;5;124m'\u001b[39m) \u001b[38;5;241m==\u001b[39m np\u001b[38;5;241m.\u001b[39mmin(res\u001b[38;5;241m.\u001b[39mpop\u001b[38;5;241m.\u001b[39mget(\u001b[38;5;124m'\u001b[39m\u001b[38;5;124mF\u001b[39m\u001b[38;5;124m'\u001b[39m)))[\u001b[38;5;241m0\u001b[39m][\u001b[38;5;241m0\u001b[39m]\n\u001b[0;32m     17\u001b[0m score_best_individual \u001b[38;5;241m=\u001b[39m res\u001b[38;5;241m.\u001b[39mpop\u001b[38;5;241m.\u001b[39mget(\u001b[38;5;124m'\u001b[39m\u001b[38;5;124mF\u001b[39m\u001b[38;5;124m'\u001b[39m)[index_best_individual]\n",
      "File \u001b[1;32m~\\AppData\\Local\\Packages\\PythonSoftwareFoundation.Python.3.11_qbz5n2kfra8p0\\LocalCache\\local-packages\\Python311\\site-packages\\pymoo\\optimize.py:67\u001b[0m, in \u001b[0;36mminimize\u001b[1;34m(problem, algorithm, termination, copy_algorithm, copy_termination, **kwargs)\u001b[0m\n\u001b[0;32m     64\u001b[0m     algorithm\u001b[38;5;241m.\u001b[39msetup(problem, \u001b[38;5;241m*\u001b[39m\u001b[38;5;241m*\u001b[39mkwargs)\n\u001b[0;32m     66\u001b[0m \u001b[38;5;66;03m# actually execute the algorithm\u001b[39;00m\n\u001b[1;32m---> 67\u001b[0m res \u001b[38;5;241m=\u001b[39m \u001b[43malgorithm\u001b[49m\u001b[38;5;241;43m.\u001b[39;49m\u001b[43mrun\u001b[49m\u001b[43m(\u001b[49m\u001b[43m)\u001b[49m\n\u001b[0;32m     69\u001b[0m \u001b[38;5;66;03m# store the deep copied algorithm in the result object\u001b[39;00m\n\u001b[0;32m     70\u001b[0m res\u001b[38;5;241m.\u001b[39malgorithm \u001b[38;5;241m=\u001b[39m algorithm\n",
      "File \u001b[1;32m~\\AppData\\Local\\Packages\\PythonSoftwareFoundation.Python.3.11_qbz5n2kfra8p0\\LocalCache\\local-packages\\Python311\\site-packages\\pymoo\\core\\algorithm.py:141\u001b[0m, in \u001b[0;36mAlgorithm.run\u001b[1;34m(self)\u001b[0m\n\u001b[0;32m    139\u001b[0m \u001b[38;5;28;01mdef\u001b[39;00m \u001b[38;5;21mrun\u001b[39m(\u001b[38;5;28mself\u001b[39m):\n\u001b[0;32m    140\u001b[0m     \u001b[38;5;28;01mwhile\u001b[39;00m \u001b[38;5;28mself\u001b[39m\u001b[38;5;241m.\u001b[39mhas_next():\n\u001b[1;32m--> 141\u001b[0m         \u001b[38;5;28;43mself\u001b[39;49m\u001b[38;5;241;43m.\u001b[39;49m\u001b[43mnext\u001b[49m\u001b[43m(\u001b[49m\u001b[43m)\u001b[49m\n\u001b[0;32m    142\u001b[0m     \u001b[38;5;28;01mreturn\u001b[39;00m \u001b[38;5;28mself\u001b[39m\u001b[38;5;241m.\u001b[39mresult()\n",
      "File \u001b[1;32m~\\AppData\\Local\\Packages\\PythonSoftwareFoundation.Python.3.11_qbz5n2kfra8p0\\LocalCache\\local-packages\\Python311\\site-packages\\pymoo\\core\\algorithm.py:161\u001b[0m, in \u001b[0;36mAlgorithm.next\u001b[1;34m(self)\u001b[0m\n\u001b[0;32m    159\u001b[0m \u001b[38;5;66;03m# call the advance with them after evaluation\u001b[39;00m\n\u001b[0;32m    160\u001b[0m \u001b[38;5;28;01mif\u001b[39;00m infills \u001b[38;5;129;01mis\u001b[39;00m \u001b[38;5;129;01mnot\u001b[39;00m \u001b[38;5;28;01mNone\u001b[39;00m:\n\u001b[1;32m--> 161\u001b[0m     \u001b[38;5;28;43mself\u001b[39;49m\u001b[38;5;241;43m.\u001b[39;49m\u001b[43mevaluator\u001b[49m\u001b[38;5;241;43m.\u001b[39;49m\u001b[43meval\u001b[49m\u001b[43m(\u001b[49m\u001b[38;5;28;43mself\u001b[39;49m\u001b[38;5;241;43m.\u001b[39;49m\u001b[43mproblem\u001b[49m\u001b[43m,\u001b[49m\u001b[43m \u001b[49m\u001b[43minfills\u001b[49m\u001b[43m,\u001b[49m\u001b[43m \u001b[49m\u001b[43malgorithm\u001b[49m\u001b[38;5;241;43m=\u001b[39;49m\u001b[38;5;28;43mself\u001b[39;49m\u001b[43m)\u001b[49m\n\u001b[0;32m    162\u001b[0m     \u001b[38;5;28mself\u001b[39m\u001b[38;5;241m.\u001b[39madvance(infills\u001b[38;5;241m=\u001b[39minfills)\n\u001b[0;32m    164\u001b[0m \u001b[38;5;66;03m# if the algorithm does not follow the infill-advance scheme just call advance\u001b[39;00m\n\u001b[0;32m    165\u001b[0m \u001b[38;5;28;01melse\u001b[39;00m:\n",
      "File \u001b[1;32m~\\AppData\\Local\\Packages\\PythonSoftwareFoundation.Python.3.11_qbz5n2kfra8p0\\LocalCache\\local-packages\\Python311\\site-packages\\pymoo\\core\\evaluator.py:69\u001b[0m, in \u001b[0;36mEvaluator.eval\u001b[1;34m(self, problem, pop, skip_already_evaluated, evaluate_values_of, count_evals, **kwargs)\u001b[0m\n\u001b[0;32m     65\u001b[0m \u001b[38;5;66;03m# evaluate the solutions (if there are any)\u001b[39;00m\n\u001b[0;32m     66\u001b[0m \u001b[38;5;28;01mif\u001b[39;00m \u001b[38;5;28mlen\u001b[39m(I) \u001b[38;5;241m>\u001b[39m \u001b[38;5;241m0\u001b[39m:\n\u001b[0;32m     67\u001b[0m \n\u001b[0;32m     68\u001b[0m     \u001b[38;5;66;03m# do the actual evaluation - call the sub-function to set the corresponding values to the population\u001b[39;00m\n\u001b[1;32m---> 69\u001b[0m     \u001b[38;5;28;43mself\u001b[39;49m\u001b[38;5;241;43m.\u001b[39;49m\u001b[43m_eval\u001b[49m\u001b[43m(\u001b[49m\u001b[43mproblem\u001b[49m\u001b[43m,\u001b[49m\u001b[43m \u001b[49m\u001b[43mpop\u001b[49m\u001b[43m[\u001b[49m\u001b[43mI\u001b[49m\u001b[43m]\u001b[49m\u001b[43m,\u001b[49m\u001b[43m \u001b[49m\u001b[43mevaluate_values_of\u001b[49m\u001b[43m,\u001b[49m\u001b[43m \u001b[49m\u001b[38;5;241;43m*\u001b[39;49m\u001b[38;5;241;43m*\u001b[39;49m\u001b[43mkwargs\u001b[49m\u001b[43m)\u001b[49m\n\u001b[0;32m     71\u001b[0m \u001b[38;5;66;03m# update the function evaluation counter\u001b[39;00m\n\u001b[0;32m     72\u001b[0m \u001b[38;5;28;01mif\u001b[39;00m count_evals:\n",
      "File \u001b[1;32m~\\AppData\\Local\\Packages\\PythonSoftwareFoundation.Python.3.11_qbz5n2kfra8p0\\LocalCache\\local-packages\\Python311\\site-packages\\pymoo\\core\\evaluator.py:90\u001b[0m, in \u001b[0;36mEvaluator._eval\u001b[1;34m(self, problem, pop, evaluate_values_of, **kwargs)\u001b[0m\n\u001b[0;32m     87\u001b[0m X \u001b[38;5;241m=\u001b[39m pop\u001b[38;5;241m.\u001b[39mget(\u001b[38;5;124m\"\u001b[39m\u001b[38;5;124mX\u001b[39m\u001b[38;5;124m\"\u001b[39m)\n\u001b[0;32m     89\u001b[0m \u001b[38;5;66;03m# call the problem to evaluate the solutions\u001b[39;00m\n\u001b[1;32m---> 90\u001b[0m out \u001b[38;5;241m=\u001b[39m \u001b[43mproblem\u001b[49m\u001b[38;5;241;43m.\u001b[39;49m\u001b[43mevaluate\u001b[49m\u001b[43m(\u001b[49m\u001b[43mX\u001b[49m\u001b[43m,\u001b[49m\u001b[43m \u001b[49m\u001b[43mreturn_values_of\u001b[49m\u001b[38;5;241;43m=\u001b[39;49m\u001b[43mevaluate_values_of\u001b[49m\u001b[43m,\u001b[49m\u001b[43m \u001b[49m\u001b[43mreturn_as_dictionary\u001b[49m\u001b[38;5;241;43m=\u001b[39;49m\u001b[38;5;28;43;01mTrue\u001b[39;49;00m\u001b[43m,\u001b[49m\u001b[43m \u001b[49m\u001b[38;5;241;43m*\u001b[39;49m\u001b[38;5;241;43m*\u001b[39;49m\u001b[43mkwargs\u001b[49m\u001b[43m)\u001b[49m\n\u001b[0;32m     92\u001b[0m \u001b[38;5;66;03m# for each of the attributes set it to the problem\u001b[39;00m\n\u001b[0;32m     93\u001b[0m \u001b[38;5;28;01mfor\u001b[39;00m key, val \u001b[38;5;129;01min\u001b[39;00m out\u001b[38;5;241m.\u001b[39mitems():\n",
      "File \u001b[1;32m~\\AppData\\Local\\Packages\\PythonSoftwareFoundation.Python.3.11_qbz5n2kfra8p0\\LocalCache\\local-packages\\Python311\\site-packages\\pymoo\\core\\problem.py:187\u001b[0m, in \u001b[0;36mProblem.evaluate\u001b[1;34m(self, X, return_values_of, return_as_dictionary, *args, **kwargs)\u001b[0m\n\u001b[0;32m    184\u001b[0m     only_single_value \u001b[38;5;241m=\u001b[39m \u001b[38;5;129;01mnot\u001b[39;00m (\u001b[38;5;28misinstance\u001b[39m(X, \u001b[38;5;28mlist\u001b[39m) \u001b[38;5;129;01mor\u001b[39;00m \u001b[38;5;28misinstance\u001b[39m(X, np\u001b[38;5;241m.\u001b[39mndarray))\n\u001b[0;32m    186\u001b[0m \u001b[38;5;66;03m# this is where the actual evaluation takes place\u001b[39;00m\n\u001b[1;32m--> 187\u001b[0m _out \u001b[38;5;241m=\u001b[39m \u001b[38;5;28;43mself\u001b[39;49m\u001b[38;5;241;43m.\u001b[39;49m\u001b[43mdo\u001b[49m\u001b[43m(\u001b[49m\u001b[43mX\u001b[49m\u001b[43m,\u001b[49m\u001b[43m \u001b[49m\u001b[43mreturn_values_of\u001b[49m\u001b[43m,\u001b[49m\u001b[43m \u001b[49m\u001b[38;5;241;43m*\u001b[39;49m\u001b[43margs\u001b[49m\u001b[43m,\u001b[49m\u001b[43m \u001b[49m\u001b[38;5;241;43m*\u001b[39;49m\u001b[38;5;241;43m*\u001b[39;49m\u001b[43mkwargs\u001b[49m\u001b[43m)\u001b[49m\n\u001b[0;32m    189\u001b[0m out \u001b[38;5;241m=\u001b[39m {}\n\u001b[0;32m    190\u001b[0m \u001b[38;5;28;01mfor\u001b[39;00m k, v \u001b[38;5;129;01min\u001b[39;00m _out\u001b[38;5;241m.\u001b[39mitems():\n\u001b[0;32m    191\u001b[0m \n\u001b[0;32m    192\u001b[0m     \u001b[38;5;66;03m# copy it to a numpy array (it might be one of jax at this point)\u001b[39;00m\n",
      "File \u001b[1;32m~\\AppData\\Local\\Packages\\PythonSoftwareFoundation.Python.3.11_qbz5n2kfra8p0\\LocalCache\\local-packages\\Python311\\site-packages\\pymoo\\core\\problem.py:227\u001b[0m, in \u001b[0;36mProblem.do\u001b[1;34m(self, X, return_values_of, *args, **kwargs)\u001b[0m\n\u001b[0;32m    225\u001b[0m \u001b[38;5;66;03m# do the function evaluation\u001b[39;00m\n\u001b[0;32m    226\u001b[0m \u001b[38;5;28;01mif\u001b[39;00m \u001b[38;5;28mself\u001b[39m\u001b[38;5;241m.\u001b[39melementwise:\n\u001b[1;32m--> 227\u001b[0m     \u001b[38;5;28;43mself\u001b[39;49m\u001b[38;5;241;43m.\u001b[39;49m\u001b[43m_evaluate_elementwise\u001b[49m\u001b[43m(\u001b[49m\u001b[43mX\u001b[49m\u001b[43m,\u001b[49m\u001b[43m \u001b[49m\u001b[43mout\u001b[49m\u001b[43m,\u001b[49m\u001b[43m \u001b[49m\u001b[38;5;241;43m*\u001b[39;49m\u001b[43margs\u001b[49m\u001b[43m,\u001b[49m\u001b[43m \u001b[49m\u001b[38;5;241;43m*\u001b[39;49m\u001b[38;5;241;43m*\u001b[39;49m\u001b[43mkwargs\u001b[49m\u001b[43m)\u001b[49m\n\u001b[0;32m    228\u001b[0m \u001b[38;5;28;01melse\u001b[39;00m:\n\u001b[0;32m    229\u001b[0m     \u001b[38;5;28mself\u001b[39m\u001b[38;5;241m.\u001b[39m_evaluate_vectorized(X, out, \u001b[38;5;241m*\u001b[39margs, \u001b[38;5;241m*\u001b[39m\u001b[38;5;241m*\u001b[39mkwargs)\n",
      "File \u001b[1;32m~\\AppData\\Local\\Packages\\PythonSoftwareFoundation.Python.3.11_qbz5n2kfra8p0\\LocalCache\\local-packages\\Python311\\site-packages\\pymoo\\core\\problem.py:245\u001b[0m, in \u001b[0;36mProblem._evaluate_elementwise\u001b[1;34m(self, X, out, *args, **kwargs)\u001b[0m\n\u001b[0;32m    242\u001b[0m f \u001b[38;5;241m=\u001b[39m \u001b[38;5;28mself\u001b[39m\u001b[38;5;241m.\u001b[39melementwise_func(\u001b[38;5;28mself\u001b[39m, args, kwargs)\n\u001b[0;32m    244\u001b[0m \u001b[38;5;66;03m# execute the runner\u001b[39;00m\n\u001b[1;32m--> 245\u001b[0m elems \u001b[38;5;241m=\u001b[39m \u001b[38;5;28;43mself\u001b[39;49m\u001b[38;5;241;43m.\u001b[39;49m\u001b[43melementwise_runner\u001b[49m\u001b[43m(\u001b[49m\u001b[43mf\u001b[49m\u001b[43m,\u001b[49m\u001b[43m \u001b[49m\u001b[43mX\u001b[49m\u001b[43m)\u001b[49m\n\u001b[0;32m    247\u001b[0m \u001b[38;5;66;03m# for each evaluation call\u001b[39;00m\n\u001b[0;32m    248\u001b[0m \u001b[38;5;28;01mfor\u001b[39;00m elem \u001b[38;5;129;01min\u001b[39;00m elems:\n\u001b[0;32m    249\u001b[0m \n\u001b[0;32m    250\u001b[0m     \u001b[38;5;66;03m# for each key stored for this evaluation\u001b[39;00m\n",
      "File \u001b[1;32m~\\AppData\\Local\\Packages\\PythonSoftwareFoundation.Python.3.11_qbz5n2kfra8p0\\LocalCache\\local-packages\\Python311\\site-packages\\pymoo\\core\\problem.py:27\u001b[0m, in \u001b[0;36mLoopedElementwiseEvaluation.__call__\u001b[1;34m(self, f, X)\u001b[0m\n\u001b[0;32m     26\u001b[0m \u001b[38;5;28;01mdef\u001b[39;00m \u001b[38;5;21m__call__\u001b[39m(\u001b[38;5;28mself\u001b[39m, f, X):\n\u001b[1;32m---> 27\u001b[0m     \u001b[38;5;28;01mreturn\u001b[39;00m \u001b[43m[\u001b[49m\u001b[43mf\u001b[49m\u001b[43m(\u001b[49m\u001b[43mx\u001b[49m\u001b[43m)\u001b[49m\u001b[43m \u001b[49m\u001b[38;5;28;43;01mfor\u001b[39;49;00m\u001b[43m \u001b[49m\u001b[43mx\u001b[49m\u001b[43m \u001b[49m\u001b[38;5;129;43;01min\u001b[39;49;00m\u001b[43m \u001b[49m\u001b[43mX\u001b[49m\u001b[43m]\u001b[49m\n",
      "File \u001b[1;32m~\\AppData\\Local\\Packages\\PythonSoftwareFoundation.Python.3.11_qbz5n2kfra8p0\\LocalCache\\local-packages\\Python311\\site-packages\\pymoo\\core\\problem.py:27\u001b[0m, in \u001b[0;36m<listcomp>\u001b[1;34m(.0)\u001b[0m\n\u001b[0;32m     26\u001b[0m \u001b[38;5;28;01mdef\u001b[39;00m \u001b[38;5;21m__call__\u001b[39m(\u001b[38;5;28mself\u001b[39m, f, X):\n\u001b[1;32m---> 27\u001b[0m     \u001b[38;5;28;01mreturn\u001b[39;00m [\u001b[43mf\u001b[49m\u001b[43m(\u001b[49m\u001b[43mx\u001b[49m\u001b[43m)\u001b[49m \u001b[38;5;28;01mfor\u001b[39;00m x \u001b[38;5;129;01min\u001b[39;00m X]\n",
      "File \u001b[1;32m~\\AppData\\Local\\Packages\\PythonSoftwareFoundation.Python.3.11_qbz5n2kfra8p0\\LocalCache\\local-packages\\Python311\\site-packages\\pymoo\\core\\problem.py:20\u001b[0m, in \u001b[0;36mElementwiseEvaluationFunction.__call__\u001b[1;34m(self, x)\u001b[0m\n\u001b[0;32m     18\u001b[0m \u001b[38;5;28;01mdef\u001b[39;00m \u001b[38;5;21m__call__\u001b[39m(\u001b[38;5;28mself\u001b[39m, x):\n\u001b[0;32m     19\u001b[0m     out \u001b[38;5;241m=\u001b[39m \u001b[38;5;28mdict\u001b[39m()\n\u001b[1;32m---> 20\u001b[0m     \u001b[38;5;28;43mself\u001b[39;49m\u001b[38;5;241;43m.\u001b[39;49m\u001b[43mproblem\u001b[49m\u001b[38;5;241;43m.\u001b[39;49m\u001b[43m_evaluate\u001b[49m\u001b[43m(\u001b[49m\u001b[43mx\u001b[49m\u001b[43m,\u001b[49m\u001b[43m \u001b[49m\u001b[43mout\u001b[49m\u001b[43m,\u001b[49m\u001b[43m \u001b[49m\u001b[38;5;241;43m*\u001b[39;49m\u001b[38;5;28;43mself\u001b[39;49m\u001b[38;5;241;43m.\u001b[39;49m\u001b[43margs\u001b[49m\u001b[43m,\u001b[49m\u001b[43m \u001b[49m\u001b[38;5;241;43m*\u001b[39;49m\u001b[38;5;241;43m*\u001b[39;49m\u001b[38;5;28;43mself\u001b[39;49m\u001b[38;5;241;43m.\u001b[39;49m\u001b[43mkwargs\u001b[49m\u001b[43m)\u001b[49m\n\u001b[0;32m     21\u001b[0m     \u001b[38;5;28;01mreturn\u001b[39;00m out\n",
      "Cell \u001b[1;32mIn[223], line 110\u001b[0m, in \u001b[0;36mOptimizeWithF1._evaluate\u001b[1;34m(self, x, out, *args, **kwargs)\u001b[0m\n\u001b[0;32m     93\u001b[0m model_xgboost \u001b[38;5;241m=\u001b[39m xgb\u001b[38;5;241m.\u001b[39mXGBClassifier(\n\u001b[0;32m     94\u001b[0m                   n_estimators \u001b[38;5;241m=\u001b[39m \u001b[38;5;28mint\u001b[39m(np\u001b[38;5;241m.\u001b[39mround(x[\u001b[38;5;241m0\u001b[39m])),\n\u001b[0;32m     95\u001b[0m                   learning_rate \u001b[38;5;241m=\u001b[39m x[\u001b[38;5;241m1\u001b[39m],\n\u001b[1;32m   (...)\u001b[0m\n\u001b[0;32m    105\u001b[0m                   n_jobs \u001b[38;5;241m=\u001b[39m \u001b[38;5;241m-\u001b[39m\u001b[38;5;241m1\u001b[39m\n\u001b[0;32m    106\u001b[0m                                )\n\u001b[0;32m    108\u001b[0m kfold \u001b[38;5;241m=\u001b[39m KFold(n_splits \u001b[38;5;241m=\u001b[39m \u001b[38;5;241m3\u001b[39m, shuffle \u001b[38;5;241m=\u001b[39m \u001b[38;5;28;01mTrue\u001b[39;00m)\n\u001b[1;32m--> 110\u001b[0m scores \u001b[38;5;241m=\u001b[39m \u001b[43mcross_val_score\u001b[49m\u001b[43m(\u001b[49m\u001b[43mmodel_xgboost\u001b[49m\u001b[43m,\u001b[49m\u001b[43m \u001b[49m\u001b[43mx_wine\u001b[49m\u001b[43m,\u001b[49m\u001b[43m \u001b[49m\u001b[43my_wine\u001b[49m\u001b[43m,\u001b[49m\u001b[43m \u001b[49m\u001b[43mcv\u001b[49m\u001b[43m \u001b[49m\u001b[38;5;241;43m=\u001b[39;49m\u001b[43m \u001b[49m\u001b[43mkfold\u001b[49m\u001b[43m,\u001b[49m\u001b[43m \u001b[49m\u001b[43mscoring\u001b[49m\u001b[38;5;241;43m=\u001b[39;49m\u001b[38;5;124;43m'\u001b[39;49m\u001b[38;5;124;43mf1_weighted\u001b[39;49m\u001b[38;5;124;43m'\u001b[39;49m\u001b[43m,\u001b[49m\u001b[43m \u001b[49m\u001b[43mn_jobs\u001b[49m\u001b[38;5;241;43m=\u001b[39;49m\u001b[38;5;241;43m-\u001b[39;49m\u001b[38;5;241;43m1\u001b[39;49m\u001b[43m)\u001b[49m  \n\u001b[0;32m    111\u001b[0m result \u001b[38;5;241m=\u001b[39m scores\u001b[38;5;241m.\u001b[39mmean()\n\u001b[0;32m    112\u001b[0m out[\u001b[38;5;124m'\u001b[39m\u001b[38;5;124mF\u001b[39m\u001b[38;5;124m'\u001b[39m] \u001b[38;5;241m=\u001b[39m \u001b[38;5;241m-\u001b[39m\u001b[38;5;241m1\u001b[39m \u001b[38;5;241m*\u001b[39m result\n",
      "File \u001b[1;32m~\\AppData\\Local\\Packages\\PythonSoftwareFoundation.Python.3.11_qbz5n2kfra8p0\\LocalCache\\local-packages\\Python311\\site-packages\\sklearn\\model_selection\\_validation.py:515\u001b[0m, in \u001b[0;36mcross_val_score\u001b[1;34m(estimator, X, y, groups, scoring, cv, n_jobs, verbose, fit_params, pre_dispatch, error_score)\u001b[0m\n\u001b[0;32m    512\u001b[0m \u001b[38;5;66;03m# To ensure multimetric format is not supported\u001b[39;00m\n\u001b[0;32m    513\u001b[0m scorer \u001b[38;5;241m=\u001b[39m check_scoring(estimator, scoring\u001b[38;5;241m=\u001b[39mscoring)\n\u001b[1;32m--> 515\u001b[0m cv_results \u001b[38;5;241m=\u001b[39m \u001b[43mcross_validate\u001b[49m\u001b[43m(\u001b[49m\n\u001b[0;32m    516\u001b[0m \u001b[43m    \u001b[49m\u001b[43mestimator\u001b[49m\u001b[38;5;241;43m=\u001b[39;49m\u001b[43mestimator\u001b[49m\u001b[43m,\u001b[49m\n\u001b[0;32m    517\u001b[0m \u001b[43m    \u001b[49m\u001b[43mX\u001b[49m\u001b[38;5;241;43m=\u001b[39;49m\u001b[43mX\u001b[49m\u001b[43m,\u001b[49m\n\u001b[0;32m    518\u001b[0m \u001b[43m    \u001b[49m\u001b[43my\u001b[49m\u001b[38;5;241;43m=\u001b[39;49m\u001b[43my\u001b[49m\u001b[43m,\u001b[49m\n\u001b[0;32m    519\u001b[0m \u001b[43m    \u001b[49m\u001b[43mgroups\u001b[49m\u001b[38;5;241;43m=\u001b[39;49m\u001b[43mgroups\u001b[49m\u001b[43m,\u001b[49m\n\u001b[0;32m    520\u001b[0m \u001b[43m    \u001b[49m\u001b[43mscoring\u001b[49m\u001b[38;5;241;43m=\u001b[39;49m\u001b[43m{\u001b[49m\u001b[38;5;124;43m\"\u001b[39;49m\u001b[38;5;124;43mscore\u001b[39;49m\u001b[38;5;124;43m\"\u001b[39;49m\u001b[43m:\u001b[49m\u001b[43m \u001b[49m\u001b[43mscorer\u001b[49m\u001b[43m}\u001b[49m\u001b[43m,\u001b[49m\n\u001b[0;32m    521\u001b[0m \u001b[43m    \u001b[49m\u001b[43mcv\u001b[49m\u001b[38;5;241;43m=\u001b[39;49m\u001b[43mcv\u001b[49m\u001b[43m,\u001b[49m\n\u001b[0;32m    522\u001b[0m \u001b[43m    \u001b[49m\u001b[43mn_jobs\u001b[49m\u001b[38;5;241;43m=\u001b[39;49m\u001b[43mn_jobs\u001b[49m\u001b[43m,\u001b[49m\n\u001b[0;32m    523\u001b[0m \u001b[43m    \u001b[49m\u001b[43mverbose\u001b[49m\u001b[38;5;241;43m=\u001b[39;49m\u001b[43mverbose\u001b[49m\u001b[43m,\u001b[49m\n\u001b[0;32m    524\u001b[0m \u001b[43m    \u001b[49m\u001b[43mfit_params\u001b[49m\u001b[38;5;241;43m=\u001b[39;49m\u001b[43mfit_params\u001b[49m\u001b[43m,\u001b[49m\n\u001b[0;32m    525\u001b[0m \u001b[43m    \u001b[49m\u001b[43mpre_dispatch\u001b[49m\u001b[38;5;241;43m=\u001b[39;49m\u001b[43mpre_dispatch\u001b[49m\u001b[43m,\u001b[49m\n\u001b[0;32m    526\u001b[0m \u001b[43m    \u001b[49m\u001b[43merror_score\u001b[49m\u001b[38;5;241;43m=\u001b[39;49m\u001b[43merror_score\u001b[49m\u001b[43m,\u001b[49m\n\u001b[0;32m    527\u001b[0m \u001b[43m\u001b[49m\u001b[43m)\u001b[49m\n\u001b[0;32m    528\u001b[0m \u001b[38;5;28;01mreturn\u001b[39;00m cv_results[\u001b[38;5;124m\"\u001b[39m\u001b[38;5;124mtest_score\u001b[39m\u001b[38;5;124m\"\u001b[39m]\n",
      "File \u001b[1;32m~\\AppData\\Local\\Packages\\PythonSoftwareFoundation.Python.3.11_qbz5n2kfra8p0\\LocalCache\\local-packages\\Python311\\site-packages\\sklearn\\model_selection\\_validation.py:266\u001b[0m, in \u001b[0;36mcross_validate\u001b[1;34m(estimator, X, y, groups, scoring, cv, n_jobs, verbose, fit_params, pre_dispatch, return_train_score, return_estimator, error_score)\u001b[0m\n\u001b[0;32m    263\u001b[0m \u001b[38;5;66;03m# We clone the estimator to make sure that all the folds are\u001b[39;00m\n\u001b[0;32m    264\u001b[0m \u001b[38;5;66;03m# independent, and that it is pickle-able.\u001b[39;00m\n\u001b[0;32m    265\u001b[0m parallel \u001b[38;5;241m=\u001b[39m Parallel(n_jobs\u001b[38;5;241m=\u001b[39mn_jobs, verbose\u001b[38;5;241m=\u001b[39mverbose, pre_dispatch\u001b[38;5;241m=\u001b[39mpre_dispatch)\n\u001b[1;32m--> 266\u001b[0m results \u001b[38;5;241m=\u001b[39m \u001b[43mparallel\u001b[49m\u001b[43m(\u001b[49m\n\u001b[0;32m    267\u001b[0m \u001b[43m    \u001b[49m\u001b[43mdelayed\u001b[49m\u001b[43m(\u001b[49m\u001b[43m_fit_and_score\u001b[49m\u001b[43m)\u001b[49m\u001b[43m(\u001b[49m\n\u001b[0;32m    268\u001b[0m \u001b[43m        \u001b[49m\u001b[43mclone\u001b[49m\u001b[43m(\u001b[49m\u001b[43mestimator\u001b[49m\u001b[43m)\u001b[49m\u001b[43m,\u001b[49m\n\u001b[0;32m    269\u001b[0m \u001b[43m        \u001b[49m\u001b[43mX\u001b[49m\u001b[43m,\u001b[49m\n\u001b[0;32m    270\u001b[0m \u001b[43m        \u001b[49m\u001b[43my\u001b[49m\u001b[43m,\u001b[49m\n\u001b[0;32m    271\u001b[0m \u001b[43m        \u001b[49m\u001b[43mscorers\u001b[49m\u001b[43m,\u001b[49m\n\u001b[0;32m    272\u001b[0m \u001b[43m        \u001b[49m\u001b[43mtrain\u001b[49m\u001b[43m,\u001b[49m\n\u001b[0;32m    273\u001b[0m \u001b[43m        \u001b[49m\u001b[43mtest\u001b[49m\u001b[43m,\u001b[49m\n\u001b[0;32m    274\u001b[0m \u001b[43m        \u001b[49m\u001b[43mverbose\u001b[49m\u001b[43m,\u001b[49m\n\u001b[0;32m    275\u001b[0m \u001b[43m        \u001b[49m\u001b[38;5;28;43;01mNone\u001b[39;49;00m\u001b[43m,\u001b[49m\n\u001b[0;32m    276\u001b[0m \u001b[43m        \u001b[49m\u001b[43mfit_params\u001b[49m\u001b[43m,\u001b[49m\n\u001b[0;32m    277\u001b[0m \u001b[43m        \u001b[49m\u001b[43mreturn_train_score\u001b[49m\u001b[38;5;241;43m=\u001b[39;49m\u001b[43mreturn_train_score\u001b[49m\u001b[43m,\u001b[49m\n\u001b[0;32m    278\u001b[0m \u001b[43m        \u001b[49m\u001b[43mreturn_times\u001b[49m\u001b[38;5;241;43m=\u001b[39;49m\u001b[38;5;28;43;01mTrue\u001b[39;49;00m\u001b[43m,\u001b[49m\n\u001b[0;32m    279\u001b[0m \u001b[43m        \u001b[49m\u001b[43mreturn_estimator\u001b[49m\u001b[38;5;241;43m=\u001b[39;49m\u001b[43mreturn_estimator\u001b[49m\u001b[43m,\u001b[49m\n\u001b[0;32m    280\u001b[0m \u001b[43m        \u001b[49m\u001b[43merror_score\u001b[49m\u001b[38;5;241;43m=\u001b[39;49m\u001b[43merror_score\u001b[49m\u001b[43m,\u001b[49m\n\u001b[0;32m    281\u001b[0m \u001b[43m    \u001b[49m\u001b[43m)\u001b[49m\n\u001b[0;32m    282\u001b[0m \u001b[43m    \u001b[49m\u001b[38;5;28;43;01mfor\u001b[39;49;00m\u001b[43m \u001b[49m\u001b[43mtrain\u001b[49m\u001b[43m,\u001b[49m\u001b[43m \u001b[49m\u001b[43mtest\u001b[49m\u001b[43m \u001b[49m\u001b[38;5;129;43;01min\u001b[39;49;00m\u001b[43m \u001b[49m\u001b[43mcv\u001b[49m\u001b[38;5;241;43m.\u001b[39;49m\u001b[43msplit\u001b[49m\u001b[43m(\u001b[49m\u001b[43mX\u001b[49m\u001b[43m,\u001b[49m\u001b[43m \u001b[49m\u001b[43my\u001b[49m\u001b[43m,\u001b[49m\u001b[43m \u001b[49m\u001b[43mgroups\u001b[49m\u001b[43m)\u001b[49m\n\u001b[0;32m    283\u001b[0m \u001b[43m\u001b[49m\u001b[43m)\u001b[49m\n\u001b[0;32m    285\u001b[0m _warn_or_raise_about_fit_failures(results, error_score)\n\u001b[0;32m    287\u001b[0m \u001b[38;5;66;03m# For callabe scoring, the return type is only know after calling. If the\u001b[39;00m\n\u001b[0;32m    288\u001b[0m \u001b[38;5;66;03m# return type is a dictionary, the error scores can now be inserted with\u001b[39;00m\n\u001b[0;32m    289\u001b[0m \u001b[38;5;66;03m# the correct key.\u001b[39;00m\n",
      "File \u001b[1;32m~\\AppData\\Local\\Packages\\PythonSoftwareFoundation.Python.3.11_qbz5n2kfra8p0\\LocalCache\\local-packages\\Python311\\site-packages\\sklearn\\utils\\parallel.py:63\u001b[0m, in \u001b[0;36mParallel.__call__\u001b[1;34m(self, iterable)\u001b[0m\n\u001b[0;32m     58\u001b[0m config \u001b[38;5;241m=\u001b[39m get_config()\n\u001b[0;32m     59\u001b[0m iterable_with_config \u001b[38;5;241m=\u001b[39m (\n\u001b[0;32m     60\u001b[0m     (_with_config(delayed_func, config), args, kwargs)\n\u001b[0;32m     61\u001b[0m     \u001b[38;5;28;01mfor\u001b[39;00m delayed_func, args, kwargs \u001b[38;5;129;01min\u001b[39;00m iterable\n\u001b[0;32m     62\u001b[0m )\n\u001b[1;32m---> 63\u001b[0m \u001b[38;5;28;01mreturn\u001b[39;00m \u001b[38;5;28;43msuper\u001b[39;49m\u001b[43m(\u001b[49m\u001b[43m)\u001b[49m\u001b[38;5;241;43m.\u001b[39;49m\u001b[38;5;21;43m__call__\u001b[39;49m\u001b[43m(\u001b[49m\u001b[43miterable_with_config\u001b[49m\u001b[43m)\u001b[49m\n",
      "File \u001b[1;32m~\\AppData\\Local\\Packages\\PythonSoftwareFoundation.Python.3.11_qbz5n2kfra8p0\\LocalCache\\local-packages\\Python311\\site-packages\\joblib\\parallel.py:1098\u001b[0m, in \u001b[0;36mParallel.__call__\u001b[1;34m(self, iterable)\u001b[0m\n\u001b[0;32m   1095\u001b[0m     \u001b[38;5;28mself\u001b[39m\u001b[38;5;241m.\u001b[39m_iterating \u001b[38;5;241m=\u001b[39m \u001b[38;5;28;01mFalse\u001b[39;00m\n\u001b[0;32m   1097\u001b[0m \u001b[38;5;28;01mwith\u001b[39;00m \u001b[38;5;28mself\u001b[39m\u001b[38;5;241m.\u001b[39m_backend\u001b[38;5;241m.\u001b[39mretrieval_context():\n\u001b[1;32m-> 1098\u001b[0m     \u001b[38;5;28;43mself\u001b[39;49m\u001b[38;5;241;43m.\u001b[39;49m\u001b[43mretrieve\u001b[49m\u001b[43m(\u001b[49m\u001b[43m)\u001b[49m\n\u001b[0;32m   1099\u001b[0m \u001b[38;5;66;03m# Make sure that we get a last message telling us we are done\u001b[39;00m\n\u001b[0;32m   1100\u001b[0m elapsed_time \u001b[38;5;241m=\u001b[39m time\u001b[38;5;241m.\u001b[39mtime() \u001b[38;5;241m-\u001b[39m \u001b[38;5;28mself\u001b[39m\u001b[38;5;241m.\u001b[39m_start_time\n",
      "File \u001b[1;32m~\\AppData\\Local\\Packages\\PythonSoftwareFoundation.Python.3.11_qbz5n2kfra8p0\\LocalCache\\local-packages\\Python311\\site-packages\\joblib\\parallel.py:975\u001b[0m, in \u001b[0;36mParallel.retrieve\u001b[1;34m(self)\u001b[0m\n\u001b[0;32m    973\u001b[0m \u001b[38;5;28;01mtry\u001b[39;00m:\n\u001b[0;32m    974\u001b[0m     \u001b[38;5;28;01mif\u001b[39;00m \u001b[38;5;28mgetattr\u001b[39m(\u001b[38;5;28mself\u001b[39m\u001b[38;5;241m.\u001b[39m_backend, \u001b[38;5;124m'\u001b[39m\u001b[38;5;124msupports_timeout\u001b[39m\u001b[38;5;124m'\u001b[39m, \u001b[38;5;28;01mFalse\u001b[39;00m):\n\u001b[1;32m--> 975\u001b[0m         \u001b[38;5;28mself\u001b[39m\u001b[38;5;241m.\u001b[39m_output\u001b[38;5;241m.\u001b[39mextend(\u001b[43mjob\u001b[49m\u001b[38;5;241;43m.\u001b[39;49m\u001b[43mget\u001b[49m\u001b[43m(\u001b[49m\u001b[43mtimeout\u001b[49m\u001b[38;5;241;43m=\u001b[39;49m\u001b[38;5;28;43mself\u001b[39;49m\u001b[38;5;241;43m.\u001b[39;49m\u001b[43mtimeout\u001b[49m\u001b[43m)\u001b[49m)\n\u001b[0;32m    976\u001b[0m     \u001b[38;5;28;01melse\u001b[39;00m:\n\u001b[0;32m    977\u001b[0m         \u001b[38;5;28mself\u001b[39m\u001b[38;5;241m.\u001b[39m_output\u001b[38;5;241m.\u001b[39mextend(job\u001b[38;5;241m.\u001b[39mget())\n",
      "File \u001b[1;32m~\\AppData\\Local\\Packages\\PythonSoftwareFoundation.Python.3.11_qbz5n2kfra8p0\\LocalCache\\local-packages\\Python311\\site-packages\\joblib\\_parallel_backends.py:567\u001b[0m, in \u001b[0;36mLokyBackend.wrap_future_result\u001b[1;34m(future, timeout)\u001b[0m\n\u001b[0;32m    564\u001b[0m \u001b[38;5;250m\u001b[39m\u001b[38;5;124;03m\"\"\"Wrapper for Future.result to implement the same behaviour as\u001b[39;00m\n\u001b[0;32m    565\u001b[0m \u001b[38;5;124;03mAsyncResults.get from multiprocessing.\"\"\"\u001b[39;00m\n\u001b[0;32m    566\u001b[0m \u001b[38;5;28;01mtry\u001b[39;00m:\n\u001b[1;32m--> 567\u001b[0m     \u001b[38;5;28;01mreturn\u001b[39;00m \u001b[43mfuture\u001b[49m\u001b[38;5;241;43m.\u001b[39;49m\u001b[43mresult\u001b[49m\u001b[43m(\u001b[49m\u001b[43mtimeout\u001b[49m\u001b[38;5;241;43m=\u001b[39;49m\u001b[43mtimeout\u001b[49m\u001b[43m)\u001b[49m\n\u001b[0;32m    568\u001b[0m \u001b[38;5;28;01mexcept\u001b[39;00m CfTimeoutError \u001b[38;5;28;01mas\u001b[39;00m e:\n\u001b[0;32m    569\u001b[0m     \u001b[38;5;28;01mraise\u001b[39;00m \u001b[38;5;167;01mTimeoutError\u001b[39;00m \u001b[38;5;28;01mfrom\u001b[39;00m \u001b[38;5;21;01me\u001b[39;00m\n",
      "File \u001b[1;32mC:\\Program Files\\WindowsApps\\PythonSoftwareFoundation.Python.3.11_3.11.2032.0_x64__qbz5n2kfra8p0\\Lib\\concurrent\\futures\\_base.py:451\u001b[0m, in \u001b[0;36mFuture.result\u001b[1;34m(self, timeout)\u001b[0m\n\u001b[0;32m    448\u001b[0m \u001b[38;5;28;01melif\u001b[39;00m \u001b[38;5;28mself\u001b[39m\u001b[38;5;241m.\u001b[39m_state \u001b[38;5;241m==\u001b[39m FINISHED:\n\u001b[0;32m    449\u001b[0m     \u001b[38;5;28;01mreturn\u001b[39;00m \u001b[38;5;28mself\u001b[39m\u001b[38;5;241m.\u001b[39m__get_result()\n\u001b[1;32m--> 451\u001b[0m \u001b[38;5;28;43mself\u001b[39;49m\u001b[38;5;241;43m.\u001b[39;49m\u001b[43m_condition\u001b[49m\u001b[38;5;241;43m.\u001b[39;49m\u001b[43mwait\u001b[49m\u001b[43m(\u001b[49m\u001b[43mtimeout\u001b[49m\u001b[43m)\u001b[49m\n\u001b[0;32m    453\u001b[0m \u001b[38;5;28;01mif\u001b[39;00m \u001b[38;5;28mself\u001b[39m\u001b[38;5;241m.\u001b[39m_state \u001b[38;5;129;01min\u001b[39;00m [CANCELLED, CANCELLED_AND_NOTIFIED]:\n\u001b[0;32m    454\u001b[0m     \u001b[38;5;28;01mraise\u001b[39;00m CancelledError()\n",
      "File \u001b[1;32mC:\\Program Files\\WindowsApps\\PythonSoftwareFoundation.Python.3.11_3.11.2032.0_x64__qbz5n2kfra8p0\\Lib\\threading.py:327\u001b[0m, in \u001b[0;36mCondition.wait\u001b[1;34m(self, timeout)\u001b[0m\n\u001b[0;32m    325\u001b[0m \u001b[38;5;28;01mtry\u001b[39;00m:    \u001b[38;5;66;03m# restore state no matter what (e.g., KeyboardInterrupt)\u001b[39;00m\n\u001b[0;32m    326\u001b[0m     \u001b[38;5;28;01mif\u001b[39;00m timeout \u001b[38;5;129;01mis\u001b[39;00m \u001b[38;5;28;01mNone\u001b[39;00m:\n\u001b[1;32m--> 327\u001b[0m         \u001b[43mwaiter\u001b[49m\u001b[38;5;241;43m.\u001b[39;49m\u001b[43macquire\u001b[49m\u001b[43m(\u001b[49m\u001b[43m)\u001b[49m\n\u001b[0;32m    328\u001b[0m         gotit \u001b[38;5;241m=\u001b[39m \u001b[38;5;28;01mTrue\u001b[39;00m\n\u001b[0;32m    329\u001b[0m     \u001b[38;5;28;01melse\u001b[39;00m:\n",
      "\u001b[1;31mKeyboardInterrupt\u001b[0m: "
     ]
    }
   ],
   "source": [
    "with_vartype_list = [] \n",
    "for i in range(100):\n",
    "    score_best_individual, parameters_best_individual, res = run_f1_ga(10, 10)\n",
    "    with_vartype_list.append(-score_best_individual[0])"
   ]
  },
  {
   "cell_type": "code",
   "execution_count": null,
   "metadata": {},
   "outputs": [],
   "source": [
    "from pymoo.algorithms.soo.nonconvex.ga import GA\n",
    "def run_f1_ga(ITERATIONS = 32, POPULATION = 32):\n",
    "    algorithm = GA(pop_size=POPULATION)\n",
    "\n",
    "    term = get_termination(\"n_gen\", ITERATIONS)\n",
    "\n",
    "    res = minimize(problemF1,\n",
    "                algorithm,\n",
    "                save_history=False,\n",
    "                verbose=True,\n",
    "                output=MyOutput(),\n",
    "                termination = term)\n",
    "\n",
    "\n",
    "    index_best_individual = np.where(res.pop.get('F') == np.min(res.pop.get('F')))[0][0]\n",
    "    score_best_individual = res.pop.get('F')[index_best_individual]\n",
    "    parameters_best_individual = res.pop.get('X')[index_best_individual]\n",
    "\n",
    "    #print(f'Best F1 Score {-score_best_individual}')\n",
    "    #print(f'Model parameters: \\n {parameters_best_individual}')\n",
    "    \n",
    "    return score_best_individual, parameters_best_individual, res"
   ]
  },
  {
   "cell_type": "code",
   "execution_count": null,
   "metadata": {},
   "outputs": [
    {
     "name": "stderr",
     "output_type": "stream",
     "text": [
      "C:\\Users\\Felps\\AppData\\Local\\Temp\\ipykernel_28040\\641466539.py:5: DeprecationWarning: Call to deprecated function (or staticmethod) get_termination. (Please use `from pymoo.termination import get_termination`)\n",
      "  term = get_termination(\"n_gen\", ITERATIONS)\n"
     ]
    },
    {
     "data": {
      "application/vnd.jupyter.widget-view+json": {
       "model_id": "7ce6450fd7834c99961abec17a4d7988",
       "version_major": 2,
       "version_minor": 0
      },
      "text/plain": [
       "  0%|          | 0/32 [00:00<?, ?it/s]"
      ]
     },
     "metadata": {},
     "output_type": "display_data"
    },
    {
     "name": "stdout",
     "output_type": "stream",
     "text": [
      "=======================================================================\n",
      "n_gen  |  n_eval  |     score     |              Parameters            \n",
      "=======================================================================\n",
      "     1 |       10 |  0.6324535750 |                                   -\n",
      "     2 |       20 |  0.6324535750 |                                   -\n",
      "     3 |       30 |  0.6324535750 |                                   -\n"
     ]
    },
    {
     "name": "stderr",
     "output_type": "stream",
     "text": [
      "C:\\Users\\Felps\\AppData\\Local\\Packages\\PythonSoftwareFoundation.Python.3.11_qbz5n2kfra8p0\\LocalCache\\local-packages\\Python311\\site-packages\\sklearn\\model_selection\\_validation.py:378: FitFailedWarning: \n",
      "1 fits failed out of a total of 3.\n",
      "The score on these train-test partitions for these parameters will be set to nan.\n",
      "If these failures are not expected, you can try to debug them by setting error_score='raise'.\n",
      "\n",
      "Below are more details about the failures:\n",
      "--------------------------------------------------------------------------------\n",
      "1 fits failed with the following error:\n",
      "Traceback (most recent call last):\n",
      "  File \"C:\\Users\\Felps\\AppData\\Local\\Packages\\PythonSoftwareFoundation.Python.3.11_qbz5n2kfra8p0\\LocalCache\\local-packages\\Python311\\site-packages\\sklearn\\model_selection\\_validation.py\", line 686, in _fit_and_score\n",
      "    estimator.fit(X_train, y_train, **fit_params)\n",
      "  File \"C:\\Users\\Felps\\AppData\\Local\\Packages\\PythonSoftwareFoundation.Python.3.11_qbz5n2kfra8p0\\LocalCache\\local-packages\\Python311\\site-packages\\xgboost\\core.py\", line 620, in inner_f\n",
      "    return func(**kwargs)\n",
      "           ^^^^^^^^^^^^^^\n",
      "  File \"C:\\Users\\Felps\\AppData\\Local\\Packages\\PythonSoftwareFoundation.Python.3.11_qbz5n2kfra8p0\\LocalCache\\local-packages\\Python311\\site-packages\\xgboost\\sklearn.py\", line 1440, in fit\n",
      "    raise ValueError(\n",
      "ValueError: Invalid classes inferred from unique values of `y`.  Expected: [0 1 2 3 4], got [1 2 3 4 5]\n",
      "\n",
      "  warnings.warn(some_fits_failed_message, FitFailedWarning)\n"
     ]
    },
    {
     "name": "stdout",
     "output_type": "stream",
     "text": [
      "     4 |       40 |  0.6324535750 |                                   -\n",
      "     5 |       50 |  0.6324535750 |                                   -\n",
      "     6 |       60 |  0.6324535750 |                                   -\n",
      "     7 |       70 |  0.6324535750 |                                   -\n",
      "     8 |       80 |  0.6329938246 |                                   -\n",
      "     9 |       90 |  0.6435392336 |                                   -\n",
      "    10 |      100 |  0.6473288788 |                                   -\n"
     ]
    }
   ],
   "source": [
    "without_vartype_list = [] \n",
    "for i in range(100):\n",
    "    score_best_individual, parameters_best_individual, res = run_f1_ga(10, 10)\n",
    "    without_vartype_list.append(-score_best_individual[0])"
   ]
  }
 ],
 "metadata": {
  "kernelspec": {
   "display_name": "Python 3",
   "language": "python",
   "name": "python3"
  },
  "language_info": {
   "codemirror_mode": {
    "name": "ipython",
    "version": 3
   },
   "file_extension": ".py",
   "mimetype": "text/x-python",
   "name": "python",
   "nbconvert_exporter": "python",
   "pygments_lexer": "ipython3",
   "version": "3.11.7"
  }
 },
 "nbformat": 4,
 "nbformat_minor": 2
}
