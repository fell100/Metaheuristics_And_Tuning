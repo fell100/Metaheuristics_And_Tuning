{
 "cells": [
  {
   "cell_type": "code",
   "execution_count": 38,
   "metadata": {},
   "outputs": [],
   "source": [
    "import pandas as pd\n",
    "from sklearn.preprocessing import LabelEncoder\n",
    "from sklearn.preprocessing import StandardScaler"
   ]
  },
  {
   "cell_type": "code",
   "execution_count": 39,
   "metadata": {},
   "outputs": [
    {
     "name": "stdout",
     "output_type": "stream",
     "text": [
      "<class 'pandas.core.frame.DataFrame'>\n",
      "RangeIndex: 1143 entries, 0 to 1142\n",
      "Data columns (total 13 columns):\n",
      " #   Column                Non-Null Count  Dtype  \n",
      "---  ------                --------------  -----  \n",
      " 0   fixed acidity         1143 non-null   float64\n",
      " 1   volatile acidity      1143 non-null   float64\n",
      " 2   citric acid           1143 non-null   float64\n",
      " 3   residual sugar        1143 non-null   float64\n",
      " 4   chlorides             1143 non-null   float64\n",
      " 5   free sulfur dioxide   1143 non-null   float64\n",
      " 6   total sulfur dioxide  1143 non-null   float64\n",
      " 7   density               1143 non-null   float64\n",
      " 8   pH                    1143 non-null   float64\n",
      " 9   sulphates             1143 non-null   float64\n",
      " 10  alcohol               1143 non-null   float64\n",
      " 11  quality               1143 non-null   int64  \n",
      " 12  Id                    1143 non-null   int64  \n",
      "dtypes: float64(11), int64(2)\n",
      "memory usage: 116.2 KB\n"
     ]
    }
   ],
   "source": [
    "wine = pd.read_csv(\"original_data\\WineQT.csv\")\n",
    "wine.info()"
   ]
  },
  {
   "cell_type": "code",
   "execution_count": 40,
   "metadata": {},
   "outputs": [
    {
     "data": {
      "text/plain": [
       "['fixed acidity',\n",
       " 'volatile acidity',\n",
       " 'citric acid',\n",
       " 'residual sugar',\n",
       " 'chlorides',\n",
       " 'free sulfur dioxide',\n",
       " 'total sulfur dioxide',\n",
       " 'density',\n",
       " 'pH',\n",
       " 'sulphates',\n",
       " 'alcohol']"
      ]
     },
     "execution_count": 40,
     "metadata": {},
     "output_type": "execute_result"
    }
   ],
   "source": [
    "numeric_columns = wine.select_dtypes(include=['float64', 'int64']).columns.to_list() #remove target\n",
    "numeric_columns.remove('quality')\n",
    "numeric_columns.remove('Id')\n",
    "numeric_columns"
   ]
  },
  {
   "cell_type": "code",
   "execution_count": 41,
   "metadata": {},
   "outputs": [],
   "source": [
    "scaler = StandardScaler()\n",
    "\n",
    "# Fit and transform only the selected columns\n",
    "scaled_data = scaler.fit_transform(wine[numeric_columns])\n",
    "\n",
    "# Replace the original values in the DataFrame with the scaled values\n",
    "wine[numeric_columns] = scaled_data"
   ]
  },
  {
   "cell_type": "code",
   "execution_count": 42,
   "metadata": {},
   "outputs": [],
   "source": [
    "wine.drop('Id', axis=1, inplace=True)"
   ]
  },
  {
   "cell_type": "code",
   "execution_count": 43,
   "metadata": {},
   "outputs": [],
   "source": [
    "label_encoder = LabelEncoder()\n",
    "label_data = label_encoder.fit_transform(wine['quality'])"
   ]
  },
  {
   "cell_type": "code",
   "execution_count": 44,
   "metadata": {},
   "outputs": [
    {
     "data": {
      "text/plain": [
       "array([2, 3, 4, 1, 5, 0], dtype=int64)"
      ]
     },
     "execution_count": 44,
     "metadata": {},
     "output_type": "execute_result"
    }
   ],
   "source": [
    "wine['quality'] = label_data \n",
    "wine['quality'].unique()"
   ]
  },
  {
   "cell_type": "code",
   "execution_count": 45,
   "metadata": {},
   "outputs": [
    {
     "data": {
      "text/html": [
       "<div>\n",
       "<style scoped>\n",
       "    .dataframe tbody tr th:only-of-type {\n",
       "        vertical-align: middle;\n",
       "    }\n",
       "\n",
       "    .dataframe tbody tr th {\n",
       "        vertical-align: top;\n",
       "    }\n",
       "\n",
       "    .dataframe thead th {\n",
       "        text-align: right;\n",
       "    }\n",
       "</style>\n",
       "<table border=\"1\" class=\"dataframe\">\n",
       "  <thead>\n",
       "    <tr style=\"text-align: right;\">\n",
       "      <th></th>\n",
       "      <th>fixed acidity</th>\n",
       "      <th>volatile acidity</th>\n",
       "      <th>citric acid</th>\n",
       "      <th>residual sugar</th>\n",
       "      <th>chlorides</th>\n",
       "      <th>free sulfur dioxide</th>\n",
       "      <th>total sulfur dioxide</th>\n",
       "      <th>density</th>\n",
       "      <th>pH</th>\n",
       "      <th>sulphates</th>\n",
       "      <th>alcohol</th>\n",
       "      <th>quality</th>\n",
       "    </tr>\n",
       "  </thead>\n",
       "  <tbody>\n",
       "    <tr>\n",
       "      <th>0</th>\n",
       "      <td>-0.521580</td>\n",
       "      <td>0.939332</td>\n",
       "      <td>-1.365027</td>\n",
       "      <td>-0.466421</td>\n",
       "      <td>-0.231395</td>\n",
       "      <td>-0.450467</td>\n",
       "      <td>-0.363610</td>\n",
       "      <td>0.555854</td>\n",
       "      <td>1.270695</td>\n",
       "      <td>-0.573658</td>\n",
       "      <td>-0.963382</td>\n",
       "      <td>2</td>\n",
       "    </tr>\n",
       "    <tr>\n",
       "      <th>1</th>\n",
       "      <td>-0.292593</td>\n",
       "      <td>1.941813</td>\n",
       "      <td>-1.365027</td>\n",
       "      <td>0.050060</td>\n",
       "      <td>0.234247</td>\n",
       "      <td>0.915920</td>\n",
       "      <td>0.643477</td>\n",
       "      <td>0.036165</td>\n",
       "      <td>-0.708928</td>\n",
       "      <td>0.130881</td>\n",
       "      <td>-0.593601</td>\n",
       "      <td>2</td>\n",
       "    </tr>\n",
       "    <tr>\n",
       "      <th>2</th>\n",
       "      <td>-0.292593</td>\n",
       "      <td>1.273492</td>\n",
       "      <td>-1.161568</td>\n",
       "      <td>-0.171289</td>\n",
       "      <td>0.107253</td>\n",
       "      <td>-0.060071</td>\n",
       "      <td>0.246745</td>\n",
       "      <td>0.140103</td>\n",
       "      <td>-0.325775</td>\n",
       "      <td>-0.045254</td>\n",
       "      <td>-0.593601</td>\n",
       "      <td>2</td>\n",
       "    </tr>\n",
       "    <tr>\n",
       "      <th>3</th>\n",
       "      <td>1.653789</td>\n",
       "      <td>-1.399789</td>\n",
       "      <td>1.483400</td>\n",
       "      <td>-0.466421</td>\n",
       "      <td>-0.252560</td>\n",
       "      <td>0.135127</td>\n",
       "      <td>0.429852</td>\n",
       "      <td>0.659792</td>\n",
       "      <td>-0.964363</td>\n",
       "      <td>-0.456235</td>\n",
       "      <td>-0.593601</td>\n",
       "      <td>3</td>\n",
       "    </tr>\n",
       "    <tr>\n",
       "      <th>4</th>\n",
       "      <td>-0.521580</td>\n",
       "      <td>0.939332</td>\n",
       "      <td>-1.365027</td>\n",
       "      <td>-0.466421</td>\n",
       "      <td>-0.231395</td>\n",
       "      <td>-0.450467</td>\n",
       "      <td>-0.363610</td>\n",
       "      <td>0.555854</td>\n",
       "      <td>1.270695</td>\n",
       "      <td>-0.573658</td>\n",
       "      <td>-0.963382</td>\n",
       "      <td>2</td>\n",
       "    </tr>\n",
       "  </tbody>\n",
       "</table>\n",
       "</div>"
      ],
      "text/plain": [
       "   fixed acidity  volatile acidity  citric acid  residual sugar  chlorides   \n",
       "0      -0.521580          0.939332    -1.365027       -0.466421  -0.231395  \\\n",
       "1      -0.292593          1.941813    -1.365027        0.050060   0.234247   \n",
       "2      -0.292593          1.273492    -1.161568       -0.171289   0.107253   \n",
       "3       1.653789         -1.399789     1.483400       -0.466421  -0.252560   \n",
       "4      -0.521580          0.939332    -1.365027       -0.466421  -0.231395   \n",
       "\n",
       "   free sulfur dioxide  total sulfur dioxide   density        pH  sulphates   \n",
       "0            -0.450467             -0.363610  0.555854  1.270695  -0.573658  \\\n",
       "1             0.915920              0.643477  0.036165 -0.708928   0.130881   \n",
       "2            -0.060071              0.246745  0.140103 -0.325775  -0.045254   \n",
       "3             0.135127              0.429852  0.659792 -0.964363  -0.456235   \n",
       "4            -0.450467             -0.363610  0.555854  1.270695  -0.573658   \n",
       "\n",
       "    alcohol  quality  \n",
       "0 -0.963382        2  \n",
       "1 -0.593601        2  \n",
       "2 -0.593601        2  \n",
       "3 -0.593601        3  \n",
       "4 -0.963382        2  "
      ]
     },
     "execution_count": 45,
     "metadata": {},
     "output_type": "execute_result"
    }
   ],
   "source": [
    "wine.head()"
   ]
  },
  {
   "cell_type": "code",
   "execution_count": 46,
   "metadata": {},
   "outputs": [],
   "source": [
    "wine.to_csv(\"processed_data\\wine.csv\")"
   ]
  }
 ],
 "metadata": {
  "kernelspec": {
   "display_name": "Python 3",
   "language": "python",
   "name": "python3"
  },
  "language_info": {
   "codemirror_mode": {
    "name": "ipython",
    "version": 3
   },
   "file_extension": ".py",
   "mimetype": "text/x-python",
   "name": "python",
   "nbconvert_exporter": "python",
   "pygments_lexer": "ipython3",
   "version": "3.11.7"
  }
 },
 "nbformat": 4,
 "nbformat_minor": 2
}
