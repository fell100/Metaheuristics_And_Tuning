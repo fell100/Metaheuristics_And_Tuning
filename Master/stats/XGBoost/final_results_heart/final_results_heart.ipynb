{
 "cells": [
  {
   "cell_type": "code",
   "execution_count": 1,
   "metadata": {},
   "outputs": [],
   "source": [
    "import pandas as pd"
   ]
  },
  {
   "cell_type": "code",
   "execution_count": 2,
   "metadata": {},
   "outputs": [],
   "source": [
    "df1 = pd.read_csv('XGBoost_heart_data.csv')[['Algorithm', 'Accuracy', 'F1', 'AUC']]"
   ]
  },
  {
   "cell_type": "code",
   "execution_count": 3,
   "metadata": {},
   "outputs": [],
   "source": [
    "GA_DF1 = df1.loc[df1['Algorithm'] == 'GA']\n",
    "OPTUNA_DF1 = df1.loc[df1['Algorithm'] == 'Optuna']\n",
    "PSO_DF1 = df1.loc[df1['Algorithm'] == 'PSO']\n",
    "RS_DF1 = df1.loc[df1['Algorithm'] == 'Random Search']"
   ]
  },
  {
   "cell_type": "code",
   "execution_count": 4,
   "metadata": {},
   "outputs": [],
   "source": [
    "final_ga_df =  GA_DF1.drop_duplicates()[:30]#pd.concat([GA_DF1, GA_DF2, GA_DF3], ignore_index=True)\n",
    "final_optuna_df =  OPTUNA_DF1.drop_duplicates()[:30]#pd.concat([OPTUNA_DF1, OPTUNA_DF2, OPTUNA_DF3], ignore_index=True)\n",
    "final_pso_df = PSO_DF1.drop_duplicates()[:30]\n",
    "final_rs_df = RS_DF1.drop_duplicates()[:30]"
   ]
  },
  {
   "cell_type": "code",
   "execution_count": 5,
   "metadata": {},
   "outputs": [
    {
     "data": {
      "text/plain": [
       "(30, 30, 30, 30)"
      ]
     },
     "execution_count": 5,
     "metadata": {},
     "output_type": "execute_result"
    }
   ],
   "source": [
    "len(final_ga_df), len(final_optuna_df), len(final_pso_df), len(final_rs_df)"
   ]
  },
  {
   "cell_type": "code",
   "execution_count": 6,
   "metadata": {},
   "outputs": [
    {
     "name": "stdout",
     "output_type": "stream",
     "text": [
      "0.899419315526106\n",
      "0.8827483985960015\n",
      "0.8978130491629013\n",
      "0.8901398342026411\n"
     ]
    }
   ],
   "source": [
    "print(final_ga_df['F1'].mean())\n",
    "print(final_pso_df['F1'].mean())\n",
    "print(final_optuna_df['F1'].mean())\n",
    "print(final_rs_df['F1'].mean())"
   ]
  },
  {
   "cell_type": "code",
   "execution_count": 7,
   "metadata": {},
   "outputs": [],
   "source": [
    "#final_ga_df.to_csv('FINAL_RESULT_GA_HEART.csv') \n",
    "#final_optuna_df.to_csv('FINAL_RESULT_OPTUNA_HEART.csv') \n",
    "#final_pso_df.to_csv('FINAL_RESULT_PSO_HEART.csv')\n",
    "#final_rs_df.to_csv('FINAL_RESULT_RS_HEART.csv')"
   ]
  }
 ],
 "metadata": {
  "kernelspec": {
   "display_name": "Python 3",
   "language": "python",
   "name": "python3"
  },
  "language_info": {
   "codemirror_mode": {
    "name": "ipython",
    "version": 3
   },
   "file_extension": ".py",
   "mimetype": "text/x-python",
   "name": "python",
   "nbconvert_exporter": "python",
   "pygments_lexer": "ipython3",
   "version": "3.11.3"
  },
  "orig_nbformat": 4,
  "vscode": {
   "interpreter": {
    "hash": "cc2a200e1e6dab10c4dc3986f0e7a998296447c993c26561a1bd050a849d8214"
   }
  }
 },
 "nbformat": 4,
 "nbformat_minor": 2
}
