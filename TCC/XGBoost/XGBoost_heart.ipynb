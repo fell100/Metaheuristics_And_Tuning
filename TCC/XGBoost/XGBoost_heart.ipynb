{
  "cells": [
    {
      "attachments": {},
      "cell_type": "markdown",
      "metadata": {},
      "source": [
        "## Definindo o Problema"
      ]
    },
    {
      "cell_type": "code",
      "execution_count": 123,
      "metadata": {
        "colab": {
          "base_uri": "https://localhost:8080/"
        },
        "id": "9Sev1tJEIXbP",
        "outputId": "a8d34b52-5234-4e1c-ba54-12555337e150"
      },
      "outputs": [],
      "source": [
        "#!pip install lightgbm;\n",
        "#!pip install pymoo;\n",
        "#!pip install -U pyrecorder;"
      ]
    },
    {
      "cell_type": "code",
      "execution_count": 124,
      "metadata": {},
      "outputs": [],
      "source": [
        "import numpy as np\n",
        "def special_floor(x):\n",
        "    x = int(np.round(x))\n",
        "    if x == 0:\n",
        "        x = 1\n",
        "    return x"
      ]
    },
    {
      "cell_type": "code",
      "execution_count": 125,
      "metadata": {},
      "outputs": [],
      "source": [
        "ITERATIONS = 32\n",
        "POPULATION = 32"
      ]
    },
    {
      "cell_type": "code",
      "execution_count": 2,
      "metadata": {
        "id": "QrgfvJRNIFyW"
      },
      "outputs": [],
      "source": [
        "import pickle\n",
        "from sklearn.neighbors import KNeighborsClassifier\n",
        "from sklearn.metrics import accuracy_score, confusion_matrix, classification_report\n",
        "#from yellowbrick.classifier import ConfusionMatrix\n",
        "import numpy as np\n",
        "from tqdm.notebook import tqdm as tqdm\n",
        "import matplotlib.pyplot as plt\n",
        "from sklearn.model_selection import cross_val_score, KFold\n",
        "#from google.colab import drive\n",
        "import pickle\n",
        "from pymoo.algorithms.soo.nonconvex.pso import PSO, PSOAnimation\n",
        "#from pymoo.factory import Rastrigin\n",
        "from pymoo.optimize import minimize\n",
        "import matplotlib.pyplot as plt\n",
        "from pymoo.factory import get_termination\n",
        "#from pymoo.util.display import Display\n",
        "from pymoo.core.callback import Callback"
      ]
    },
    {
      "cell_type": "code",
      "execution_count": 127,
      "metadata": {},
      "outputs": [],
      "source": [
        "#!pip install XGBoost"
      ]
    },
    {
      "cell_type": "code",
      "execution_count": 3,
      "metadata": {},
      "outputs": [],
      "source": [
        "import xgboost as xgb"
      ]
    },
    {
      "cell_type": "code",
      "execution_count": 129,
      "metadata": {
        "colab": {
          "base_uri": "https://localhost:8080/"
        },
        "id": "io1a1cJQIQoZ",
        "outputId": "7762ca48-fc4c-4746-a658-5238c24392fc"
      },
      "outputs": [],
      "source": [
        "#drive.mount('/content/gdrive')"
      ]
    },
    {
      "cell_type": "code",
      "execution_count": 4,
      "metadata": {
        "id": "4TYgT1s1ISuF"
      },
      "outputs": [],
      "source": [
        "#with open('/content/gdrive/MyDrive/datasets/credit.pkl', 'rb') as f:\n",
        "#    x_heart_train, x_heart_test, y_heart_train, y_heart_test = pickle.load(f)\n",
        "    \n",
        "#with open('./heart.pkl', 'rb') as f:\n",
        "#    x_heart, y_heart = pickle.load(f)\n",
        "    \n",
        "with open('./heart.pkl', 'rb') as f:\n",
        "    x_heart, y_heart = pickle.load(f)"
      ]
    },
    {
      "attachments": {},
      "cell_type": "markdown",
      "metadata": {
        "id": "tHg0NYkn-4CK"
      },
      "source": [
        "Definindo as restrições "
      ]
    },
    {
      "cell_type": "code",
      "execution_count": 131,
      "metadata": {},
      "outputs": [],
      "source": [
        "DIMENSIONS = 16"
      ]
    },
    {
      "cell_type": "code",
      "execution_count": 132,
      "metadata": {
        "id": "BkFUaoY1fTFl"
      },
      "outputs": [],
      "source": [
        "\n",
        "n_estimators_max = 1000\n",
        "learning_rate_max = 0.6\n",
        "subsample_max = 1.0\n",
        "colsample_bytree_max = 1.0\n",
        "gamma_max = 0.5\n",
        "max_depth_max = 10\n",
        "min_child_weight_max = 10\n",
        "reg_alpha_max = 0.1\n",
        "reg_lambda_max = 1\n",
        "scale_pos_weight_max = 10\n",
        "base_score_max = 1\n",
        "\n",
        "\n",
        "\n",
        "\n",
        "\n",
        "n_estimators_min = 10\n",
        "learning_rate_min = 0.0001\n",
        "subsample_min = 0.6\n",
        "colsample_bytree_min = 0.6\n",
        "gamma_min = 0\n",
        "max_depth_min = 3\n",
        "min_child_weight_min = 1\n",
        "reg_alpha_min = 0\n",
        "reg_lambda_min = 0\n",
        "scale_pos_weight_min = 1\n",
        "base_score_min = 0\n"
      ]
    },
    {
      "attachments": {},
      "cell_type": "markdown",
      "metadata": {
        "id": "xSbKK_Og-7Oe"
      },
      "source": [
        "Definindo o problema"
      ]
    },
    {
      "cell_type": "code",
      "execution_count": 133,
      "metadata": {
        "id": "Elrs3UT_j7t6"
      },
      "outputs": [],
      "source": [
        "import numpy as np\n",
        "from pymoo.core.problem import ElementwiseProblem\n",
        "\n",
        "class OptimizeWithAccuracy(ElementwiseProblem):\n",
        "\n",
        "    def __init__(self):\n",
        "        super().__init__(n_var= 11,\n",
        "                         n_obj=1,\n",
        "                         n_constr=11,\n",
        "                         xl=np.array([\n",
        "                          n_estimators_min,\n",
        "                            learning_rate_min,\n",
        "                            subsample_min,\n",
        "                            colsample_bytree_min,\n",
        "                            gamma_min,\n",
        "                            max_depth_min,\n",
        "                            min_child_weight_min,\n",
        "                            reg_alpha_min,\n",
        "                            reg_lambda_min,\n",
        "                            scale_pos_weight_min,\n",
        "                            base_score_min\n",
        "                          ]),\n",
        "                         xu=np.array([\n",
        "                            n_estimators_max,\n",
        "                            learning_rate_max,\n",
        "                            subsample_max,\n",
        "                            colsample_bytree_max,\n",
        "                            gamma_max,\n",
        "                            max_depth_max,\n",
        "                            min_child_weight_max,\n",
        "                            reg_alpha_max,\n",
        "                            reg_lambda_max,\n",
        "                            scale_pos_weight_max,\n",
        "                            base_score_max,\n",
        "                            ])\n",
        "                        )\n",
        "\n",
        "    def _evaluate(self, x, out, *args, **kwargs):\n",
        "        #num_leaves, min_child_samples, n_estimators, learning_rate, subsample_for_bin, min_split_gain, min_child_weight, reg_alpha, reg_lambda\n",
        "       \n",
        "        model_xgboost = xgb.XGBClassifier(\n",
        "                          n_estimators = int(np.round(x[0])),\n",
        "                          learning_rate = x[1],\n",
        "                          subsample = x[2],\n",
        "                          colsample_bytree = x[3],\n",
        "                          gamma = x[4],\n",
        "                          max_depth = special_floor(x[5]),\n",
        "                          min_child_weight = int(np.round(x[6])),\n",
        "                          reg_alpha = x[7],\n",
        "                          reg_lambda = x[8],\n",
        "                          scale_pos_weight = int(x[9]),\n",
        "                          base_score       = x[10],\n",
        "                          n_jobs = -1\n",
        "                                       )\n",
        "        \n",
        "        kfold = KFold(n_splits = 3, shuffle = True)\n",
        "        \n",
        "        scores = cross_val_score(model_xgboost, x_heart, y_heart, cv = kfold, n_jobs = -1)  \n",
        "        result = scores.mean()\n",
        "        #if not result:\n",
        "        #  result = 0\n",
        "        \n",
        "        out['F'] = -1 * result\n",
        "\n",
        "problemAccuracy = OptimizeWithAccuracy()"
      ]
    },
    {
      "cell_type": "code",
      "execution_count": 134,
      "metadata": {},
      "outputs": [],
      "source": [
        "import numpy as np\n",
        "from pymoo.core.problem import ElementwiseProblem\n",
        "\n",
        "class OptimizeWithF1(ElementwiseProblem):\n",
        "\n",
        "    def __init__(self):\n",
        "        super().__init__(n_var= 11,\n",
        "                         n_obj=1,\n",
        "                         n_constr=11,\n",
        "                         xl=np.array([\n",
        "                          n_estimators_min,\n",
        "                            learning_rate_min,\n",
        "                            subsample_min,\n",
        "                            colsample_bytree_min,\n",
        "                            gamma_min,\n",
        "                            max_depth_min,\n",
        "                            min_child_weight_min,\n",
        "                            reg_alpha_min,\n",
        "                            reg_lambda_min,\n",
        "                            scale_pos_weight_min,\n",
        "                            base_score_min\n",
        "                          ]),\n",
        "                         xu=np.array([\n",
        "                            n_estimators_max,\n",
        "                            learning_rate_max,\n",
        "                            subsample_max,\n",
        "                            colsample_bytree_max,\n",
        "                            gamma_max,\n",
        "                            max_depth_max,\n",
        "                            min_child_weight_max,\n",
        "                            reg_alpha_max,\n",
        "                            reg_lambda_max,\n",
        "                            scale_pos_weight_max,\n",
        "                            base_score_max,\n",
        "                            ])\n",
        "                        )\n",
        "\n",
        "    def _evaluate(self, x, out, *args, **kwargs):\n",
        "        #num_leaves, min_child_samples, n_estimators, learning_rate, subsample_for_bin, min_split_gain, min_child_weight, reg_alpha, reg_lambda\n",
        "       \n",
        "        model_xgboost = xgb.XGBClassifier(\n",
        "                          n_estimators = int(np.round(x[0])),\n",
        "                          learning_rate = x[1],\n",
        "                          subsample = x[2],\n",
        "                          colsample_bytree = x[3],\n",
        "                          gamma = x[4],\n",
        "                          max_depth = special_floor(x[5]),\n",
        "                          min_child_weight = int(np.round(x[6])),\n",
        "                          reg_alpha = x[7],\n",
        "                          reg_lambda = x[8],\n",
        "                          scale_pos_weight = int(x[9]),\n",
        "                          base_score       = x[10],\n",
        "                          n_jobs = -1\n",
        "                                       )\n",
        "        \n",
        "        kfold = KFold(n_splits = 3, shuffle = True)\n",
        "\n",
        "        scores = cross_val_score(model_xgboost, x_heart, y_heart, cv = kfold, scoring='f1', n_jobs = -1)  \n",
        "        result = scores.mean()\n",
        "        out['F'] = -1 * result\n",
        "\n",
        "problemF1 = OptimizeWithF1()"
      ]
    },
    {
      "cell_type": "code",
      "execution_count": 5,
      "metadata": {},
      "outputs": [
        {
          "name": "stdout",
          "output_type": "stream",
          "text": [
            "' 0.8702435033805583 '\n"
          ]
        }
      ],
      "source": [
        "xgb_mean = []\n",
        "for i in range(30):\n",
        "    model_xgboost = xgb.XGBClassifier(\n",
        "                        n_jobs = -1\n",
        "                                    )\n",
        "    \n",
        "\n",
        "    kfold = KFold(n_splits = 3, shuffle = True)\n",
        "\n",
        "    scores = cross_val_score(model_xgboost, x_heart, y_heart, cv = kfold, scoring='f1', n_jobs = -1)  \n",
        "\n",
        "    result = scores.mean()\n",
        "    \n",
        "    xgb_mean.append(result)\n",
        "    \n",
        "xgb_mean# Convert the Python array to a numpy array\n",
        "numpy_array = np.array(xgb_mean)\n",
        "\n",
        "# Calculate the average value using numpy.mean()\n",
        "average_value = np.mean(numpy_array)\n",
        "\n",
        "print(\"'\", average_value, \"'\")"
      ]
    },
    {
      "cell_type": "code",
      "execution_count": 135,
      "metadata": {},
      "outputs": [],
      "source": [
        "import numpy as np\n",
        "from pymoo.core.problem import ElementwiseProblem\n",
        "\n",
        "class OptimizeWithAUC(ElementwiseProblem):\n",
        "\n",
        "    def __init__(self):\n",
        "        super().__init__(n_var= 11,\n",
        "                         n_obj=1,\n",
        "                         n_constr=11,\n",
        "                         xl=np.array([\n",
        "                          n_estimators_min,\n",
        "                            learning_rate_min,\n",
        "                            subsample_min,\n",
        "                            colsample_bytree_min,\n",
        "                            gamma_min,\n",
        "                            max_depth_min,\n",
        "                            min_child_weight_min,\n",
        "                            reg_alpha_min,\n",
        "                            reg_lambda_min,\n",
        "                            scale_pos_weight_min,\n",
        "                            base_score_min\n",
        "                          ]),\n",
        "                         xu=np.array([\n",
        "                            n_estimators_max,\n",
        "                            learning_rate_max,\n",
        "                            subsample_max,\n",
        "                            colsample_bytree_max,\n",
        "                            gamma_max,\n",
        "                            max_depth_max,\n",
        "                            min_child_weight_max,\n",
        "                            reg_alpha_max,\n",
        "                            reg_lambda_max,\n",
        "                            scale_pos_weight_max,\n",
        "                            base_score_max,\n",
        "                            ])\n",
        "                        )\n",
        "\n",
        "    def _evaluate(self, x, out, *args, **kwargs):\n",
        "        #num_leaves, min_child_samples, n_estimators, learning_rate, subsample_for_bin, min_split_gain, min_child_weight, reg_alpha, reg_lambda\n",
        "       \n",
        "        model_xgboost = xgb.XGBClassifier(\n",
        "                          n_estimators = int(np.round(x[0])),\n",
        "                          learning_rate = x[1],\n",
        "                          subsample = x[2],\n",
        "                          colsample_bytree = x[3],\n",
        "                          gamma = x[4],\n",
        "                          max_depth = special_floor(x[5]),\n",
        "                          min_child_weight = int(np.round(x[6])),\n",
        "                          reg_alpha = x[7],\n",
        "                          reg_lambda = x[8],\n",
        "                          scale_pos_weight = int(x[9]),\n",
        "                          base_score       = x[10],\n",
        "                          n_jobs = -1\n",
        "                                       )\n",
        "\n",
        "        \n",
        "        kfold = KFold(n_splits = 3, shuffle = True)\n",
        "  \n",
        "        scores = cross_val_score(model_xgboost, x_heart, y_heart, cv = kfold, scoring='roc_auc', n_jobs = -1)  \n",
        "        \n",
        "        result = scores.mean()\n",
        "\n",
        "        out['F'] = -1 * result\n",
        "\n",
        "problemAUC = OptimizeWithAUC()"
      ]
    },
    {
      "cell_type": "code",
      "execution_count": 136,
      "metadata": {},
      "outputs": [],
      "source": [
        "from pymoo.util.display.column import Column\n",
        "from pymoo.util.display.output import Output"
      ]
    },
    {
      "cell_type": "code",
      "execution_count": 137,
      "metadata": {},
      "outputs": [],
      "source": [
        "class MyOutput(Output):\n",
        "\n",
        "    def __init__(self):\n",
        "        super().__init__()\n",
        "        global pbar \n",
        "        pbar = tqdm(total=ITERATIONS)\n",
        "        self.score = Column(\"score\", width=13)\n",
        "        self.Parameters = Column(\"Parameters\", width=35)\n",
        "        self.columns += [self.score, self.Parameters]\n",
        "\n",
        "    def update(self, algorithm):\n",
        "        super().update(algorithm)\n",
        "        self.score.set(-np.min(algorithm.pop.get(\"F\")))\n",
        "        #self.Parameters.set(algorithm.pop.get(\"X\")[0])\n",
        "        pbar.update(1)\n",
        "        if pbar.n == ITERATIONS: pbar.close()"
      ]
    },
    {
      "attachments": {},
      "cell_type": "markdown",
      "metadata": {
        "id": "_HsPc7BH-MWL"
      },
      "source": [
        "## Particle Swarm Optimization (PSO)"
      ]
    },
    {
      "attachments": {},
      "cell_type": "markdown",
      "metadata": {},
      "source": [
        "### Acurácia"
      ]
    },
    {
      "cell_type": "code",
      "execution_count": 138,
      "metadata": {},
      "outputs": [],
      "source": [
        "import pyswarms as ps\n",
        "from pyswarms.utils.functions import single_obj as fx\n",
        "import numpy as np"
      ]
    },
    {
      "cell_type": "code",
      "execution_count": 139,
      "metadata": {},
      "outputs": [],
      "source": [
        "xl=np.array([n_estimators_min,\n",
        "             learning_rate_min,\n",
        "             subsample_min,\n",
        "             colsample_bytree_min,\n",
        "             gamma_min,\n",
        "             max_depth_min,\n",
        "             min_child_weight_min,\n",
        "             reg_alpha_min,\n",
        "             reg_lambda_min,\n",
        "             scale_pos_weight_min,\n",
        "             base_score_min])\n",
        "xu=np.array([n_estimators_max,\n",
        "             learning_rate_max,\n",
        "             subsample_max,\n",
        "             colsample_bytree_max,\n",
        "             gamma_max,\n",
        "             max_depth_max,\n",
        "             min_child_weight_max,\n",
        "             reg_alpha_max,\n",
        "             reg_lambda_max,\n",
        "             scale_pos_weight_max,\n",
        "             base_score_max])"
      ]
    },
    {
      "cell_type": "code",
      "execution_count": 140,
      "metadata": {},
      "outputs": [],
      "source": [
        "def PSO_Optimize_Accuracy(values):\n",
        "    x = values[0] \n",
        "    model_xgboost = xgb.XGBClassifier(\n",
        "                          n_estimators = int(np.round(x[0])),\n",
        "                          learning_rate = x[1],\n",
        "                          subsample = x[2],\n",
        "                          colsample_bytree = x[3],\n",
        "                          gamma = x[4],\n",
        "                          max_depth = special_floor(x[5]),\n",
        "                          min_child_weight = int(np.round(x[6])),\n",
        "                          reg_alpha = x[7],\n",
        "                          reg_lambda = x[8],\n",
        "                          scale_pos_weight = int(x[9]),\n",
        "                          base_score       = x[10],\n",
        "                          n_jobs = -1\n",
        "                                    )\n",
        "    \n",
        "    kfold = KFold(n_splits = 10, shuffle = True)\n",
        "    \n",
        "    scores = cross_val_score(model_xgboost, x_heart, y_heart, cv = kfold, n_jobs = -1)  \n",
        "    result = scores.mean()     \n",
        "\n",
        "    return -result"
      ]
    },
    {
      "cell_type": "code",
      "execution_count": 141,
      "metadata": {},
      "outputs": [],
      "source": [
        "def PSO_Optimize_F1(values):\n",
        "    x = values[0] \n",
        "    model_xgboost = xgb.XGBClassifier(\n",
        "                          n_estimators = int(np.round(x[0])),\n",
        "                          learning_rate = x[1],\n",
        "                          subsample = x[2],\n",
        "                          colsample_bytree = x[3],\n",
        "                          gamma = x[4],\n",
        "                          max_depth = special_floor(x[5]),\n",
        "                          min_child_weight = int(np.round(x[6])),\n",
        "                          reg_alpha = x[7],\n",
        "                          reg_lambda = x[8],\n",
        "                          scale_pos_weight = int(x[9]),\n",
        "                          base_score       = x[10],\n",
        "                          n_jobs = -1\n",
        "                                    )\n",
        "    \n",
        "    kfold = KFold(n_splits = 10, shuffle = True)\n",
        "    \n",
        "    scores = cross_val_score(model_xgboost,  x_heart, y_heart, cv = kfold, n_jobs = -1, scoring='f1')  \n",
        "    result = scores.mean()     \n",
        "\n",
        "    return -result"
      ]
    },
    {
      "cell_type": "code",
      "execution_count": 142,
      "metadata": {},
      "outputs": [],
      "source": [
        "def PSO_Optimize_AUC(values):\n",
        "    x = values[0] \n",
        "    model_xgboost = xgb.XGBClassifier(\n",
        "                          n_estimators = int(np.round(x[0])),\n",
        "                          learning_rate = x[1],\n",
        "                          subsample = x[2],\n",
        "                          colsample_bytree = x[3],\n",
        "                          gamma = x[4],\n",
        "                          max_depth = special_floor(x[5]),\n",
        "                          min_child_weight = int(np.round(x[6])),\n",
        "                          reg_alpha = x[7],\n",
        "                          reg_lambda = x[8],\n",
        "                          scale_pos_weight = int(x[9]),\n",
        "                          base_score       = x[10],\n",
        "                          n_jobs = -1\n",
        "                                    )\n",
        "    \n",
        "    kfold = KFold(n_splits = 10, shuffle = True)\n",
        "    \n",
        "    scores = cross_val_score(model_xgboost, x_heart, y_heart, cv = kfold, n_jobs = -1, scoring='roc_auc')  \n",
        "    result = scores.mean()     \n",
        "\n",
        "    return -result"
      ]
    },
    {
      "cell_type": "code",
      "execution_count": 143,
      "metadata": {},
      "outputs": [],
      "source": [
        "def run_accuracy_pso():\n",
        "    # Call an instance of PSO\n",
        "    swarm_size = 32\n",
        "    iters = 32\n",
        "    dim = 11\n",
        "    options = {'c1': 1.5, 'c2':1.5, 'w':0.5}\n",
        "    constraints = (xl,xu)\n",
        "\n",
        "    optimizer = ps.single.GlobalBestPSO(n_particles=swarm_size,\n",
        "                                        dimensions=dim,\n",
        "                                        options=options,\n",
        "                                        bounds=constraints)\n",
        "    cost, joint_vars = optimizer.optimize(objective_func = PSO_Optimize_Accuracy, iters=iters)\n",
        "    return -cost"
      ]
    },
    {
      "cell_type": "code",
      "execution_count": 144,
      "metadata": {},
      "outputs": [],
      "source": [
        "def run_auc_pso():\n",
        "    # Call an instance of PSO\n",
        "    swarm_size = 32\n",
        "    iters = 32\n",
        "    dim = 11\n",
        "    options = {'c1': 1.5, 'c2':1.5, 'w':0.5}\n",
        "    constraints = (xl,xu)\n",
        "\n",
        "    optimizer = ps.single.GlobalBestPSO(n_particles=swarm_size,\n",
        "                                        dimensions=dim,\n",
        "                                        options=options,\n",
        "                                        bounds=constraints)\n",
        "    cost, joint_vars = optimizer.optimize(objective_func = PSO_Optimize_AUC, iters=iters)\n",
        "    return -cost"
      ]
    },
    {
      "cell_type": "code",
      "execution_count": 145,
      "metadata": {},
      "outputs": [],
      "source": [
        "def run_f1_pso():\n",
        "    # Call an instance of PSO\n",
        "    swarm_size = 32\n",
        "    iters = 32\n",
        "    dim = 11\n",
        "    options = {'c1': 1.5, 'c2':1.5, 'w':0.5}\n",
        "    constraints = (xl,xu)\n",
        "\n",
        "    optimizer = ps.single.GlobalBestPSO(n_particles=swarm_size,\n",
        "                                        dimensions=dim,\n",
        "                                        options=options,\n",
        "                                        bounds=constraints)\n",
        "    cost, joint_vars = optimizer.optimize(objective_func = PSO_Optimize_F1, iters=iters)\n",
        "    return -cost"
      ]
    },
    {
      "attachments": {},
      "cell_type": "markdown",
      "metadata": {
        "id": "iTAAhn6w-Be4"
      },
      "source": [
        "## Algoritmo Genético (GA)"
      ]
    },
    {
      "attachments": {},
      "cell_type": "markdown",
      "metadata": {},
      "source": [
        "### Acurácia"
      ]
    },
    {
      "cell_type": "code",
      "execution_count": 146,
      "metadata": {
        "id": "1iXezRJUgWiM"
      },
      "outputs": [],
      "source": [
        "ITERATIONS = 32\n",
        "POPULATION = 32"
      ]
    },
    {
      "cell_type": "code",
      "execution_count": 147,
      "metadata": {},
      "outputs": [],
      "source": [
        "from pymoo.algorithms.soo.nonconvex.ga import GA"
      ]
    },
    {
      "cell_type": "code",
      "execution_count": 148,
      "metadata": {
        "colab": {
          "base_uri": "https://localhost:8080/",
          "height": 848,
          "referenced_widgets": [
            "12434838d89048188eefe1af0332bfd6",
            "b6288aa156624b108015ab993c54d52b",
            "f45e5f0d4187404fb8f63acd3c26fe17",
            "aaa16b6dbffd42ef973b1826e5ed2242",
            "8721e5217b97444d948e5b85c6fd53c7",
            "d25235d18f8045de9948417d13538ef3",
            "01d3490253a8464281845cb171385d59",
            "7f079b743c6e4ad897ae55ba366a15b9",
            "54cbbc7ffbcc401abfbf3167f882019e",
            "d539e4a476cb4ae28e78769b17b97aa9",
            "fb379b55e7bd4b3bb7ed4b0ec6390b2e"
          ]
        },
        "id": "TK9YdWdMfAw3",
        "outputId": "60624262-0c77-4e32-8106-540ea70cd8f9"
      },
      "outputs": [],
      "source": [
        "def run_accuracy_ga(ITERATIONS = 32, POPULATION = 32):\n",
        "\n",
        "    algorithm = GA(pop_size=POPULATION)\n",
        "\n",
        "    term = get_termination(\"n_gen\", ITERATIONS)\n",
        "\n",
        "    res = minimize(problemAccuracy,\n",
        "                algorithm,\n",
        "                save_history=True,\n",
        "                verbose=True,\n",
        "                output=MyOutput(),\n",
        "                termination = term)\n",
        "\n",
        "\n",
        "    index_best_individual = np.where(res.pop.get('F') == np.min(res.pop.get('F')))[0][0]\n",
        "    score_best_individual = res.pop.get('F')[index_best_individual]\n",
        "    parameters_best_individual = res.pop.get('X')[index_best_individual]\n",
        "\n",
        "    #print(f'Best Accuracy Score {-score_best_individual}')\n",
        "    #print(f'Model parameters: \\n {parameters_best_individual}')\n",
        "    \n",
        "    return score_best_individual, parameters_best_individual, res"
      ]
    },
    {
      "cell_type": "code",
      "execution_count": 149,
      "metadata": {
        "colab": {
          "base_uri": "https://localhost:8080/",
          "height": 364
        },
        "id": "Aw1RtuhKgPkR",
        "outputId": "6b173010-6841-44be-fc9c-1e08c709308c"
      },
      "outputs": [],
      "source": [
        "#tracking = [-np.min(individual.pop.get('F')) for individual in res.history ]\n",
        "#tracking_GA_Accuracy = tracking\n",
        "#plt.plot(tracking)"
      ]
    },
    {
      "cell_type": "code",
      "execution_count": 150,
      "metadata": {
        "id": "EuxPTJqU95Ib"
      },
      "outputs": [],
      "source": [
        "#trlist = np.array([])\n",
        "#for i in range(len(res.history)):\n",
        "#  trlist = np.append(trlist, -res.history[i].pop.get('F').reshape(-1)) "
      ]
    },
    {
      "cell_type": "code",
      "execution_count": 151,
      "metadata": {
        "id": "COvG1svS97RF"
      },
      "outputs": [],
      "source": [
        "#scorelist = []\n",
        "#\n",
        "#for i in range(len(trlist)):\n",
        "#  if i == 0:\n",
        "#    scorelist.append(trlist[i])\n",
        "#  elif trlist[i] > scorelist[i-1]:\n",
        "#    scorelist.append(trlist[i])\n",
        "#  else:\n",
        "#    scorelist.append(scorelist[i-1])"
      ]
    },
    {
      "cell_type": "code",
      "execution_count": 152,
      "metadata": {
        "id": "P4ubDrqPGUnS"
      },
      "outputs": [],
      "source": [
        "#Accuracy_GA = scorelist"
      ]
    },
    {
      "cell_type": "code",
      "execution_count": 153,
      "metadata": {
        "colab": {
          "base_uri": "https://localhost:8080/",
          "height": 347
        },
        "id": "N3xxFM4e99pt",
        "outputId": "e0d19dc9-1416-42a5-c33f-945a66a17ee0"
      },
      "outputs": [],
      "source": [
        "#plt.plot(scorelist);"
      ]
    },
    {
      "attachments": {},
      "cell_type": "markdown",
      "metadata": {},
      "source": [
        "### F1 Score "
      ]
    },
    {
      "cell_type": "code",
      "execution_count": 214,
      "metadata": {},
      "outputs": [],
      "source": [
        "from pymoo.algorithms.soo.nonconvex.ga import GA\n",
        "def run_f1_ga(ITERATIONS = 32, POPULATION = 32):\n",
        "    algorithm = GA(pop_size=POPULATION)\n",
        "\n",
        "    term = get_termination(\"n_gen\", ITERATIONS)\n",
        "\n",
        "    res = minimize(problemF1,\n",
        "                algorithm,\n",
        "                save_history=True,\n",
        "                verbose=False,\n",
        "                output=MyOutput(),\n",
        "                termination = term)\n",
        "\n",
        "\n",
        "    index_best_individual = np.where(res.pop.get('F') == np.min(res.pop.get('F')))[0][0]\n",
        "    score_best_individual = res.pop.get('F')[index_best_individual]\n",
        "    parameters_best_individual = res.pop.get('X')[index_best_individual]\n",
        "\n",
        "    #print(f'Best F1 Score {-score_best_individual}')\n",
        "    #print(f'Model parameters: \\n {parameters_best_individual}')\n",
        "    \n",
        "    return score_best_individual, parameters_best_individual, res"
      ]
    },
    {
      "cell_type": "code",
      "execution_count": 265,
      "metadata": {},
      "outputs": [
        {
          "ename": "AttributeError",
          "evalue": "type object 'GA' has no attribute 'mutation'",
          "output_type": "error",
          "traceback": [
            "\u001b[1;31m---------------------------------------------------------------------------\u001b[0m",
            "\u001b[1;31mAttributeError\u001b[0m                            Traceback (most recent call last)",
            "Cell \u001b[1;32mIn[265], line 1\u001b[0m\n\u001b[1;32m----> 1\u001b[0m GA\u001b[39m.\u001b[39;49mmutation\n",
            "\u001b[1;31mAttributeError\u001b[0m: type object 'GA' has no attribute 'mutation'"
          ]
        }
      ],
      "source": [
        "GA.mutation"
      ]
    },
    {
      "cell_type": "code",
      "execution_count": 155,
      "metadata": {},
      "outputs": [],
      "source": [
        "#trlist = np.array([])\n",
        "#for i in range(len(res.history)):\n",
        "#  trlist = np.append(trlist, -res.history[i].pop.get('F').reshape(-1)) \n",
        "#  \n",
        "#scorelist = []\n",
        "#\n",
        "#for i in range(len(trlist)):\n",
        "##for i in range(1):\n",
        "#  if i == 0:\n",
        "#    scorelist.append(trlist[i])\n",
        "#  elif trlist[i] > scorelist[i-1]:\n",
        "#    scorelist.append(trlist[i])\n",
        "#  else:\n",
        "#    scorelist.append(scorelist[i-1])\n",
        "#    \n",
        "#F1_GA = scorelist\n",
        "#\n",
        "#plt.plot(scorelist);"
      ]
    },
    {
      "cell_type": "code",
      "execution_count": 156,
      "metadata": {},
      "outputs": [],
      "source": [
        "#tracking = [-np.min(individual.pop.get('F')) for individual in res.history ]\n",
        "#tracking_GA_F1 = tracking\n",
        "#plt.plot(tracking)"
      ]
    },
    {
      "attachments": {},
      "cell_type": "markdown",
      "metadata": {},
      "source": [
        "### AUC"
      ]
    },
    {
      "cell_type": "code",
      "execution_count": 157,
      "metadata": {},
      "outputs": [],
      "source": [
        "from pymoo.algorithms.soo.nonconvex.ga import GA\n",
        "def run_auc_ga(ITERATIONS = 32, POPULATION = 32):\n",
        "    algorithm = GA(pop_size=POPULATION)\n",
        "\n",
        "    term = get_termination(\"n_gen\", ITERATIONS)\n",
        "\n",
        "    res = minimize(problemAUC,\n",
        "                algorithm,\n",
        "                save_history=False,\n",
        "                verbose=False,\n",
        "                output=MyOutput(),\n",
        "                termination = term)\n",
        "\n",
        "    \n",
        "    index_best_individual = np.where(res.pop.get('F') == np.min(res.pop.get('F')))[0][0]\n",
        "    score_best_individual = res.pop.get('F')[index_best_individual]\n",
        "    parameters_best_individual = res.pop.get('X')[index_best_individual]\n",
        "\n",
        "    #print(f'Best AUC Score {-score_best_individual}')\n",
        "    #print(f'Model parameters: \\n {parameters_best_individual}')\n",
        "    \n",
        "    return score_best_individual, parameters_best_individual, res"
      ]
    },
    {
      "cell_type": "code",
      "execution_count": 158,
      "metadata": {},
      "outputs": [],
      "source": [
        "#trlist = np.array([])\n",
        "#for i in range(len(res.history)):\n",
        "#  trlist = np.append(trlist, -res.history[i].pop.get('F').reshape(-1)) \n",
        "#  \n",
        "#scorelist = []\n",
        "#\n",
        "#for i in range(len(trlist)):\n",
        "##for i in range(1):\n",
        "#  if i == 0:\n",
        "#    scorelist.append(trlist[i])\n",
        "#  elif trlist[i] > scorelist[i-1]:\n",
        "#    scorelist.append(trlist[i])\n",
        "#  else:\n",
        "#    scorelist.append(scorelist[i-1])\n",
        "#    \n",
        "#AUC_GA = scorelist\n",
        "#\n",
        "#plt.plot(scorelist);"
      ]
    },
    {
      "cell_type": "code",
      "execution_count": 159,
      "metadata": {},
      "outputs": [],
      "source": [
        "#tracking = [-np.min(individual.pop.get('F')) for individual in res.history ]\n",
        "#tracking_GA_AUC = tracking\n",
        "#plt.plot(tracking)"
      ]
    },
    {
      "attachments": {},
      "cell_type": "markdown",
      "metadata": {
        "id": "F-WtiEIO0kFu"
      },
      "source": [
        "## Grid Search"
      ]
    },
    {
      "attachments": {},
      "cell_type": "markdown",
      "metadata": {},
      "source": [
        "### Acurácia"
      ]
    },
    {
      "cell_type": "code",
      "execution_count": 160,
      "metadata": {
        "id": "OvuV46Aa0dBR"
      },
      "outputs": [],
      "source": [
        "from sklearn.model_selection import GridSearchCV"
      ]
    },
    {
      "cell_type": "code",
      "execution_count": 161,
      "metadata": {
        "colab": {
          "base_uri": "https://localhost:8080/"
        },
        "id": "X4nK3alPCEQm",
        "outputId": "ece560c4-eb7c-4e23-e62a-b9423bd07386"
      },
      "outputs": [],
      "source": [
        "#n_possibilities = 2\n",
        "#\n",
        "##num_leaves_grid = [i for i in range(num_leaves_min,num_leaves_max, int((num_leaves_max)/13))]\n",
        "#num_leaves_grid = [i for i in map(lambda x: int(x), np.linspace(num_leaves_min, num_leaves_max, n_possibilities))]\n",
        "#num_leaves_grid = num_leaves_grid + [100, 50, 75, 125, 11,150]\n",
        "##print('Num_Leaves_Grid: ')\n",
        "##print(num_leaves_grid, len(num_leaves_grid))\n",
        "##print('\\n')\n",
        "#\n",
        "#\n",
        "#min_child_samples_grid = [i for i in map(lambda x: int(x), np.linspace(min_child_samples_min, min_child_samples_max, n_possibilities))]\n",
        "##print('min_child_samples_grid:')\n",
        "##print(min_child_samples_grid, len(min_child_samples_grid))\n",
        "##print('\\n')\n",
        "#\n",
        "#n_estimators_grid = [i for i in map(lambda x: int(x), np.linspace(n_estimators_min, n_estimators_max, n_possibilities))]\n",
        "##print('n_estimators_grid:')\n",
        "##print(n_estimators_grid, len(n_estimators_grid))\n",
        "##print('\\n')\n",
        "#\n",
        "#learning_rate_grid = np.linspace(learning_rate_min, learning_rate_max, n_possibilities)\n",
        "##print('learning_rate_grid:')\n",
        "##print(learning_rate_grid, len(learning_rate_grid))\n",
        "##print('\\n')\n",
        "#\n",
        "#subsample_for_bin_grid = [i for i in map(lambda x: int(x), np.linspace(subsample_for_bin_min, subsample_for_bin_max, n_possibilities))]\n",
        "##print('subsample_for_bin_grid:')\n",
        "##print(subsample_for_bin_grid, len(subsample_for_bin_grid))\n",
        "##print('\\n')\n",
        "#\n",
        "#min_split_gain_grid = np.linspace(min_split_gain_min, min_split_gain_max, n_possibilities)\n",
        "##print('min_split_gain_grid:')\n",
        "##print(min_split_gain_grid, len(min_split_gain_grid))\n",
        "##print('\\n')\n",
        "#\n",
        "#min_child_weight_grid = np.linspace(min_child_weight_min, min_child_weight_max, n_possibilities)\n",
        "##print('min_child_weight_grid:')\n",
        "##print(min_child_weight_grid, len(min_child_weight_grid))\n",
        "##print('\\n')\n",
        "#\n",
        "#reg_alpha_grid = np.linspace(reg_alpha_min, reg_alpha_max, n_possibilities)\n",
        "##print('reg_alpha_grid:')\n",
        "##print(reg_alpha_grid, len(reg_alpha_grid))\n",
        "##print('\\n')\n"
      ]
    },
    {
      "cell_type": "code",
      "execution_count": 162,
      "metadata": {
        "id": "sWL2gq5M0jmq"
      },
      "outputs": [],
      "source": [
        "#parametros = {'num_leaves': num_leaves_grid, #int\n",
        "#              'min_child_samples': min_child_samples_grid,#int\n",
        "#              'n_estimators': n_estimators_grid, #int\n",
        "#              'learning_rate': learning_rate_grid,\n",
        "#              'subsample_for_bin': subsample_for_bin_grid, # int\n",
        "#              'min_split_gain': min_split_gain_grid,\n",
        "#              'min_child_weight': min_child_weight_grid,\n",
        "#              'reg_alpha': reg_alpha_grid,\n",
        "#              'max_depth': [-1],\n",
        "#              'n_jobs': [-1]}"
      ]
    },
    {
      "cell_type": "code",
      "execution_count": 163,
      "metadata": {
        "colab": {
          "base_uri": "https://localhost:8080/"
        },
        "id": "Cg8ZpgTM0tK7",
        "outputId": "efa2aaa1-3397-45fe-83c3-2eea6127b6a7"
      },
      "outputs": [],
      "source": [
        "#kfold = KFold(n_splits = 3, shuffle = True)\n",
        "#grid_search = GridSearchCV(estimator = lgb.LGBMClassifier(), param_grid = parametros, cv = kfold, n_jobs= -1, verbose = 3)\n",
        "#grid_search.fit(x_heart, y_heart)\n",
        "#melhores_parametros = grid_search.best_params_\n",
        "#melhor_resultado = grid_search.best_score_\n",
        "##print(melhores_parametros)\n",
        "##print(melhor_resultado)"
      ]
    },
    {
      "cell_type": "code",
      "execution_count": 164,
      "metadata": {
        "colab": {
          "base_uri": "https://localhost:8080/"
        },
        "id": "ekOamIhnrFd5",
        "outputId": "4d91ab89-5f11-4dc4-d71b-3837ba0cd1e9"
      },
      "outputs": [],
      "source": [
        "#grid_search.cv_results_.keys()"
      ]
    },
    {
      "cell_type": "code",
      "execution_count": 165,
      "metadata": {
        "id": "uo45HhIasnc4"
      },
      "outputs": [],
      "source": [
        "#trlist = grid_search.cv_results_['mean_test_score']"
      ]
    },
    {
      "cell_type": "code",
      "execution_count": 166,
      "metadata": {
        "id": "k0PjBeFHIqKw"
      },
      "outputs": [],
      "source": [
        "#scorelist = []\n",
        "#\n",
        "#for i in range(len(trlist)):\n",
        "##for i in range(1):\n",
        "#  if i == 0:\n",
        "#    scorelist.append(trlist[i])\n",
        "#  elif trlist[i] > scorelist[i-1]:\n",
        "#    scorelist.append(trlist[i])\n",
        "#  else:\n",
        "#    scorelist.append(scorelist[i-1])"
      ]
    },
    {
      "cell_type": "code",
      "execution_count": 167,
      "metadata": {
        "colab": {
          "base_uri": "https://localhost:8080/"
        },
        "id": "xjb_n_Hkr3WK",
        "outputId": "91f6887b-7c92-4b1d-8719-825d2ce7d88e"
      },
      "outputs": [],
      "source": [
        "#tracking_GS_Accuracy = scorelist\n",
        "#plt.plot(scorelist); "
      ]
    },
    {
      "attachments": {},
      "cell_type": "markdown",
      "metadata": {},
      "source": [
        "### F1 Score"
      ]
    },
    {
      "cell_type": "code",
      "execution_count": 168,
      "metadata": {},
      "outputs": [],
      "source": [
        "#kfold = KFold(n_splits = 3, shuffle = True)\n",
        "#grid_search = GridSearchCV(estimator = lgb.LGBMClassifier(), param_grid = parametros, cv = kfold, n_jobs= -1, scoring='f1', verbose = 3)\n",
        "#grid_search.fit(x_heart, y_heart)\n",
        "#melhores_parametros = grid_search.best_params_\n",
        "#melhor_resultado = grid_search.best_score_\n",
        "##print(melhores_parametros)\n",
        "##print(melhor_resultado)\n",
        "#\n",
        "#trlist = grid_search.cv_results_['mean_test_score']\n",
        "#\n",
        "#\n",
        "#scorelist = []\n",
        "#\n",
        "#for i in range(len(trlist)):\n",
        "##for i in range(1):\n",
        "#  if i == 0:\n",
        "#    scorelist.append(trlist[i])\n",
        "#  elif trlist[i] > scorelist[i-1]:\n",
        "#    scorelist.append(trlist[i])\n",
        "#  else:\n",
        "#    scorelist.append(scorelist[i-1])\n",
        "#    \n",
        "#tracking_GS_F1 = scorelist\n",
        "#plt.plot(scorelist); "
      ]
    },
    {
      "attachments": {},
      "cell_type": "markdown",
      "metadata": {},
      "source": [
        "### AUC"
      ]
    },
    {
      "cell_type": "code",
      "execution_count": 169,
      "metadata": {},
      "outputs": [],
      "source": [
        "#kfold = KFold(n_splits = 3, shuffle = True)\n",
        "#grid_search = GridSearchCV(estimator = lgb.LGBMClassifier(), param_grid = parametros, cv = kfold, n_jobs= -1, scoring='roc_auc', verbose = 3)\n",
        "#grid_search.fit(x_heart, y_heart)\n",
        "#melhores_parametros = grid_search.best_params_\n",
        "#melhor_resultado = grid_search.best_score_\n",
        "##print(melhores_parametros)\n",
        "##print(melhor_resultado)\n",
        "#\n",
        "#trlist = grid_search.cv_results_['mean_test_score']\n",
        "#\n",
        "#\n",
        "#scorelist = []\n",
        "#\n",
        "#for i in range(len(trlist)):\n",
        "##for i in range(1):\n",
        "#  if i == 0:\n",
        "#    scorelist.append(trlist[i])\n",
        "#  elif trlist[i] > scorelist[i-1]:\n",
        "#    scorelist.append(trlist[i])\n",
        "#  else:\n",
        "#    scorelist.append(scorelist[i-1])\n",
        "#    \n",
        "#tracking_GS_AUC = scorelist\n",
        "#plt.plot(scorelist); "
      ]
    },
    {
      "attachments": {},
      "cell_type": "markdown",
      "metadata": {
        "id": "vA6kphUO0vcT"
      },
      "source": [
        "## Optuna"
      ]
    },
    {
      "attachments": {},
      "cell_type": "markdown",
      "metadata": {},
      "source": [
        "### Acurácia"
      ]
    },
    {
      "cell_type": "code",
      "execution_count": 170,
      "metadata": {
        "colab": {
          "base_uri": "https://localhost:8080/"
        },
        "id": "AtVNXGxotkiD",
        "outputId": "3eeeb6d4-9bc6-49eb-b3d6-7c9482852c52"
      },
      "outputs": [
        {
          "name": "stdout",
          "output_type": "stream",
          "text": [
            "Requirement already satisfied: optuna in c:\\users\\felps\\appdata\\local\\packages\\pythonsoftwarefoundation.python.3.11_qbz5n2kfra8p0\\localcache\\local-packages\\python311\\site-packages (3.2.0)"
          ]
        },
        {
          "name": "stderr",
          "output_type": "stream",
          "text": [
            "\n",
            "[notice] A new release of pip available: 22.3.1 -> 23.2\n",
            "[notice] To update, run: C:\\Users\\Felps\\AppData\\Local\\Microsoft\\WindowsApps\\PythonSoftwareFoundation.Python.3.11_qbz5n2kfra8p0\\python.exe -m pip install --upgrade pip\n"
          ]
        },
        {
          "name": "stdout",
          "output_type": "stream",
          "text": [
            "\n",
            "Requirement already satisfied: alembic>=1.5.0 in c:\\users\\felps\\appdata\\local\\packages\\pythonsoftwarefoundation.python.3.11_qbz5n2kfra8p0\\localcache\\local-packages\\python311\\site-packages (from optuna) (1.11.1)\n",
            "Requirement already satisfied: cmaes>=0.9.1 in c:\\users\\felps\\appdata\\local\\packages\\pythonsoftwarefoundation.python.3.11_qbz5n2kfra8p0\\localcache\\local-packages\\python311\\site-packages (from optuna) (0.9.1)\n",
            "Requirement already satisfied: colorlog in c:\\users\\felps\\appdata\\local\\packages\\pythonsoftwarefoundation.python.3.11_qbz5n2kfra8p0\\localcache\\local-packages\\python311\\site-packages (from optuna) (6.7.0)\n",
            "Requirement already satisfied: numpy in c:\\users\\felps\\appdata\\local\\packages\\pythonsoftwarefoundation.python.3.11_qbz5n2kfra8p0\\localcache\\local-packages\\python311\\site-packages (from optuna) (1.24.3)\n",
            "Requirement already satisfied: packaging>=20.0 in c:\\users\\felps\\appdata\\local\\packages\\pythonsoftwarefoundation.python.3.11_qbz5n2kfra8p0\\localcache\\local-packages\\python311\\site-packages (from optuna) (23.1)\n",
            "Requirement already satisfied: sqlalchemy>=1.3.0 in c:\\users\\felps\\appdata\\local\\packages\\pythonsoftwarefoundation.python.3.11_qbz5n2kfra8p0\\localcache\\local-packages\\python311\\site-packages (from optuna) (2.0.15)\n",
            "Requirement already satisfied: tqdm in c:\\users\\felps\\appdata\\local\\packages\\pythonsoftwarefoundation.python.3.11_qbz5n2kfra8p0\\localcache\\local-packages\\python311\\site-packages (from optuna) (4.65.0)\n",
            "Requirement already satisfied: PyYAML in c:\\users\\felps\\appdata\\local\\packages\\pythonsoftwarefoundation.python.3.11_qbz5n2kfra8p0\\localcache\\local-packages\\python311\\site-packages (from optuna) (6.0)\n",
            "Requirement already satisfied: Mako in c:\\users\\felps\\appdata\\local\\packages\\pythonsoftwarefoundation.python.3.11_qbz5n2kfra8p0\\localcache\\local-packages\\python311\\site-packages (from alembic>=1.5.0->optuna) (1.2.4)\n",
            "Requirement already satisfied: typing-extensions>=4 in c:\\users\\felps\\appdata\\local\\packages\\pythonsoftwarefoundation.python.3.11_qbz5n2kfra8p0\\localcache\\local-packages\\python311\\site-packages (from alembic>=1.5.0->optuna) (4.5.0)\n",
            "Requirement already satisfied: greenlet!=0.4.17 in c:\\users\\felps\\appdata\\local\\packages\\pythonsoftwarefoundation.python.3.11_qbz5n2kfra8p0\\localcache\\local-packages\\python311\\site-packages (from sqlalchemy>=1.3.0->optuna) (2.0.2)\n",
            "Requirement already satisfied: colorama in c:\\users\\felps\\appdata\\local\\packages\\pythonsoftwarefoundation.python.3.11_qbz5n2kfra8p0\\localcache\\local-packages\\python311\\site-packages (from colorlog->optuna) (0.4.6)\n",
            "Requirement already satisfied: MarkupSafe>=0.9.2 in c:\\users\\felps\\appdata\\local\\packages\\pythonsoftwarefoundation.python.3.11_qbz5n2kfra8p0\\localcache\\local-packages\\python311\\site-packages (from Mako->alembic>=1.5.0->optuna) (2.1.2)\n"
          ]
        }
      ],
      "source": [
        "!pip install optuna"
      ]
    },
    {
      "cell_type": "code",
      "execution_count": 171,
      "metadata": {
        "id": "X_R8NlJD0xYP"
      },
      "outputs": [],
      "source": [
        "import optuna\n",
        "optuna.logging.set_verbosity(optuna.logging.WARNING)\n",
        "import sklearn\n",
        "from sklearn import datasets\n",
        "def objective_accuracy(trial):\n",
        "      \n",
        "      n_estimators = trial.suggest_int('n_estimators', n_estimators_min, n_estimators_max)\n",
        "      learning_rate = trial.suggest_float('learning_rate', learning_rate_min, learning_rate_max)\n",
        "      subsample = trial.suggest_float('subsample', subsample_min, subsample_max)\n",
        "      colsample_bytree = trial.suggest_float('colsample_bytree', colsample_bytree_min, colsample_bytree_max)\n",
        "      gamma = trial.suggest_float('gamma', gamma_min, gamma_max)\n",
        "      max_depth = trial.suggest_int('max_depth', max_depth_min, max_depth_max)\n",
        "      min_child_weight = trial.suggest_int('min_child_weight', min_child_weight_min, min_child_weight_max)\n",
        "      reg_alpha = trial.suggest_float('reg_alpha', reg_alpha_min, reg_alpha_max)\n",
        "      reg_lambda = trial.suggest_float('reg_lambda', reg_lambda_min, reg_lambda_max)\n",
        "      scale_pos_weight = trial.suggest_int('scale_pos_weight', scale_pos_weight_min, scale_pos_weight_max)\n",
        "      base_score = trial.suggest_float('base_score', base_score_min, base_score_max)\n",
        "      \n",
        "      model_xgboost = xgb.XGBClassifier(\n",
        "                        n_estimators = n_estimators,\n",
        "                        learning_rate = learning_rate,\n",
        "                        subsample = subsample,\n",
        "                        colsample_bytree = colsample_bytree,\n",
        "                        gamma = gamma,\n",
        "                        max_depth = max_depth,\n",
        "                        min_child_weight = min_child_weight,\n",
        "                        reg_alpha = reg_alpha,\n",
        "                        reg_lambda = reg_lambda,\n",
        "                        scale_pos_weight = scale_pos_weight,\n",
        "                        base_score = base_score,\n",
        "                        n_jobs = -1\n",
        "                                    )\n",
        "\n",
        "      \n",
        "      kfold = KFold(n_splits = 3, shuffle = True)\n",
        "      \n",
        "      return sklearn.model_selection.cross_val_score(model_xgboost, x_heart, y_heart, n_jobs = -1, cv=kfold).mean()"
      ]
    },
    {
      "cell_type": "code",
      "execution_count": 172,
      "metadata": {
        "colab": {
          "base_uri": "https://localhost:8080/"
        },
        "id": "r62Ch5ng00NT",
        "outputId": "05e8015b-6c79-4043-daf8-028abeea7334"
      },
      "outputs": [],
      "source": [
        "def run_optuna_accuracy(n_trials=1024):\n",
        "    study = optuna.create_study(direction='maximize')\n",
        "    study.optimize(objective_accuracy, n_trials=n_trials, n_jobs = -1)\n",
        "    trial = study.best_trial\n",
        "    #print('Accuracy: {}'.format(trial.value))\n",
        "    #print(\"Best hyperparameters: {}\".format(trial.params))\n",
        "    return trial.value, study\n"
      ]
    },
    {
      "cell_type": "code",
      "execution_count": 173,
      "metadata": {},
      "outputs": [],
      "source": [
        "trial, study = run_optuna_accuracy(1)"
      ]
    },
    {
      "cell_type": "code",
      "execution_count": 174,
      "metadata": {},
      "outputs": [
        {
          "data": {
            "text/plain": [
              "0.8441655115765697"
            ]
          },
          "execution_count": 174,
          "metadata": {},
          "output_type": "execute_result"
        }
      ],
      "source": [
        "trial"
      ]
    },
    {
      "cell_type": "code",
      "execution_count": 175,
      "metadata": {
        "id": "odCO6YCmz1q4"
      },
      "outputs": [],
      "source": [
        "#tracking = []\n",
        "#for i in range(len(study.trials)):\n",
        "#  if i == 0: \n",
        "#    tracking.append(study.trials[i].value)\n",
        "#  elif tracking[i-1] > study.trials[i].value:\n",
        "#    tracking.append(tracking[i-1])\n",
        "#  else:\n",
        "#    tracking.append(study.trials[i].value)\n",
        "##tracking_sorted = sorted(tracking)"
      ]
    },
    {
      "cell_type": "code",
      "execution_count": 176,
      "metadata": {
        "id": "ukqgm-fOHTVs"
      },
      "outputs": [],
      "source": [
        "#tracking_Optuna_Accuracy = tracking"
      ]
    },
    {
      "cell_type": "code",
      "execution_count": 177,
      "metadata": {
        "colab": {
          "base_uri": "https://localhost:8080/",
          "height": 347
        },
        "id": "L8cqXHz06SXp",
        "outputId": "e0ea3abf-1a22-479f-b12c-fa76bb91b4c6"
      },
      "outputs": [],
      "source": [
        "#plt.plot(tracking);\n",
        "#plt.plot(tracking_sorted) "
      ]
    },
    {
      "cell_type": "code",
      "execution_count": 178,
      "metadata": {
        "colab": {
          "base_uri": "https://localhost:8080/",
          "height": 542
        },
        "id": "dSnAebcQ04n8",
        "outputId": "e0275cf0-9485-43d1-af08-75042d2f3351"
      },
      "outputs": [],
      "source": [
        "#optuna.visualization.plot_optimization_history(study)"
      ]
    },
    {
      "cell_type": "code",
      "execution_count": 179,
      "metadata": {
        "colab": {
          "base_uri": "https://localhost:8080/",
          "height": 562
        },
        "id": "PykRbFk506AF",
        "outputId": "b37580c8-b893-4d8f-f745-60affb470c52"
      },
      "outputs": [],
      "source": [
        "#optuna.visualization.plot_slice(study)"
      ]
    },
    {
      "attachments": {},
      "cell_type": "markdown",
      "metadata": {},
      "source": [
        "### F1 Score"
      ]
    },
    {
      "cell_type": "code",
      "execution_count": 180,
      "metadata": {},
      "outputs": [],
      "source": [
        "def objective_f1(trial):\n",
        "  \n",
        "      n_estimators = trial.suggest_int('n_estimators', n_estimators_min, n_estimators_max)\n",
        "      learning_rate = trial.suggest_float('learning_rate', learning_rate_min, learning_rate_max)\n",
        "      subsample = trial.suggest_float('subsample', subsample_min, subsample_max)\n",
        "      colsample_bytree = trial.suggest_float('colsample_bytree', colsample_bytree_min, colsample_bytree_max)\n",
        "      gamma = trial.suggest_float('gamma', gamma_min, gamma_max)\n",
        "      max_depth = trial.suggest_int('max_depth', max_depth_min, max_depth_max)\n",
        "      min_child_weight = trial.suggest_int('min_child_weight', min_child_weight_min, min_child_weight_max)\n",
        "      reg_alpha = trial.suggest_float('reg_alpha', reg_alpha_min, reg_alpha_max)\n",
        "      reg_lambda = trial.suggest_float('reg_lambda', reg_lambda_min, reg_lambda_max)\n",
        "      scale_pos_weight = trial.suggest_int('scale_pos_weight', scale_pos_weight_min, scale_pos_weight_max)\n",
        "      base_score = trial.suggest_float('base_score', base_score_min, base_score_max)\n",
        "      \n",
        "      model_xgboost = xgb.XGBClassifier(\n",
        "                        n_estimators = n_estimators,\n",
        "                        learning_rate = learning_rate,\n",
        "                        subsample = subsample,\n",
        "                        colsample_bytree = colsample_bytree,\n",
        "                        gamma = gamma,\n",
        "                        max_depth = max_depth,\n",
        "                        min_child_weight = min_child_weight,\n",
        "                        reg_alpha = reg_alpha,\n",
        "                        reg_lambda = reg_lambda,\n",
        "                        scale_pos_weight = scale_pos_weight,\n",
        "                        base_score = base_score,\n",
        "                        n_jobs = -1\n",
        "                                    )\n",
        "\n",
        "      \n",
        "      kfold = KFold(n_splits = 3, shuffle = True)\n",
        "\n",
        "      return sklearn.model_selection.cross_val_score(model_xgboost, x_heart, y_heart, n_jobs = -1, scoring='f1', cv=kfold).mean()"
      ]
    },
    {
      "cell_type": "code",
      "execution_count": 181,
      "metadata": {},
      "outputs": [],
      "source": [
        "def run_optuna_f1(n_trials=1024):\n",
        "    study = optuna.create_study(direction='maximize')\n",
        "    study.optimize(objective_f1, n_trials=n_trials, n_jobs = -1)\n",
        "    trial = study.best_trial\n",
        "    #print('F1: {}'.format(trial.value))\n",
        "    #print(\"Best hyperparameters: {}\".format(trial.params))\n",
        "    return trial.value, study"
      ]
    },
    {
      "cell_type": "code",
      "execution_count": 182,
      "metadata": {},
      "outputs": [],
      "source": [
        "trial, study = run_optuna_f1(1)"
      ]
    },
    {
      "cell_type": "code",
      "execution_count": 183,
      "metadata": {},
      "outputs": [],
      "source": [
        "#tracking = []\n",
        "#for i in range(len(study.trials)):\n",
        "#  if i == 0: \n",
        "#    tracking.append(study.trials[i].value)\n",
        "#  elif tracking[i-1] > study.trials[i].value:\n",
        "#    tracking.append(tracking[i-1])\n",
        "#  else:\n",
        "#    tracking.append(study.trials[i].value)\n",
        "##tracking_sorted = sorted(tracking)\n",
        "#\n",
        "#tracking_Optuna_F1 = tracking\n",
        "#\n",
        "#plt.plot(tracking);\n",
        "##plt.plot(tracking_sorted) "
      ]
    },
    {
      "attachments": {},
      "cell_type": "markdown",
      "metadata": {},
      "source": [
        "### AUC"
      ]
    },
    {
      "cell_type": "code",
      "execution_count": 184,
      "metadata": {},
      "outputs": [],
      "source": [
        "def objective_auc(trial):\n",
        "  \n",
        "      n_estimators = trial.suggest_int('n_estimators', n_estimators_min, n_estimators_max)\n",
        "      learning_rate = trial.suggest_float('learning_rate', learning_rate_min, learning_rate_max)\n",
        "      subsample = trial.suggest_float('subsample', subsample_min, subsample_max)\n",
        "      colsample_bytree = trial.suggest_float('colsample_bytree', colsample_bytree_min, colsample_bytree_max)\n",
        "      gamma = trial.suggest_float('gamma', gamma_min, gamma_max)\n",
        "      max_depth = trial.suggest_int('max_depth', max_depth_min, max_depth_max)\n",
        "      min_child_weight = trial.suggest_int('min_child_weight', min_child_weight_min, min_child_weight_max)\n",
        "      reg_alpha = trial.suggest_float('reg_alpha', reg_alpha_min, reg_alpha_max)\n",
        "      reg_lambda = trial.suggest_float('reg_lambda', reg_lambda_min, reg_lambda_max)\n",
        "      scale_pos_weight = trial.suggest_int('scale_pos_weight', scale_pos_weight_min, scale_pos_weight_max)\n",
        "      base_score = trial.suggest_float('base_score', base_score_min, base_score_max)\n",
        "      \n",
        "      model_xgboost = xgb.XGBClassifier(\n",
        "                        n_estimators = n_estimators,\n",
        "                        learning_rate = learning_rate,\n",
        "                        subsample = subsample,\n",
        "                        colsample_bytree = colsample_bytree,\n",
        "                        gamma = gamma,\n",
        "                        max_depth = max_depth,\n",
        "                        min_child_weight = min_child_weight,\n",
        "                        reg_alpha = reg_alpha,\n",
        "                        reg_lambda = reg_lambda,\n",
        "                        scale_pos_weight = scale_pos_weight,\n",
        "                        base_score = base_score,\n",
        "                        n_jobs = -1\n",
        "                                    )\n",
        "\n",
        "      kfold = KFold(n_splits = 3, shuffle = True)\n",
        "\n",
        "\n",
        "      return sklearn.model_selection.cross_val_score(model_xgboost, x_heart, y_heart, n_jobs = -1, scoring='roc_auc', cv=kfold).mean()"
      ]
    },
    {
      "cell_type": "code",
      "execution_count": 185,
      "metadata": {},
      "outputs": [],
      "source": [
        "def run_optuna_auc(n_trials=1024):\n",
        "    study = optuna.create_study(direction='maximize')\n",
        "    study.optimize(objective_auc, n_trials=n_trials, n_jobs = -1)\n",
        "    trial = study.best_trial\n",
        "    #print('AUC: {}'.format(trial.value))\n",
        "    #print(\"Best hyperparameters: {}\".format(trial.params))\n",
        "    return trial.value, study"
      ]
    },
    {
      "cell_type": "code",
      "execution_count": 186,
      "metadata": {},
      "outputs": [],
      "source": [
        "trial, study = run_optuna_auc(1)"
      ]
    },
    {
      "cell_type": "code",
      "execution_count": 187,
      "metadata": {},
      "outputs": [],
      "source": [
        "#tracking = []\n",
        "#for i in range(len(study.trials)):\n",
        "#  if i == 0: \n",
        "#    tracking.append(study.trials[i].value)\n",
        "#  elif tracking[i-1] > study.trials[i].value:\n",
        "#    tracking.append(tracking[i-1])\n",
        "#  else:\n",
        "#    tracking.append(study.trials[i].value)\n",
        "##tracking_sorted = sorted(tracking)\n",
        "#\n",
        "#tracking_Optuna_AUC = tracking\n",
        "#\n",
        "#plt.plot(tracking);\n",
        "##plt.plot(tracking_sorted) "
      ]
    },
    {
      "attachments": {},
      "cell_type": "markdown",
      "metadata": {
        "id": "O554Q6QTEVSZ"
      },
      "source": [
        "# Análise Comparativa"
      ]
    },
    {
      "cell_type": "code",
      "execution_count": 188,
      "metadata": {
        "colab": {
          "base_uri": "https://localhost:8080/",
          "height": 335
        },
        "id": "fQLG5-KOEa-j",
        "outputId": "475764bd-0f8b-4a28-dfbc-06b9f8e93d0d"
      },
      "outputs": [],
      "source": [
        "#fig, (ax1, ax2) = plt.subplots(1, 2, figsize=(20,5))\n",
        "#\n",
        "#ax1.set_title('PSO X Gerações')\n",
        "#ax2.set_title('PSO X Avaliações')\n",
        "#\n",
        "#ax1.plot(tracking_PSO_Accuracy)\n",
        "#ax2.plot(Accuracy_PSO)\n",
        "#plt.show()"
      ]
    },
    {
      "cell_type": "code",
      "execution_count": 189,
      "metadata": {
        "colab": {
          "base_uri": "https://localhost:8080/",
          "height": 335
        },
        "id": "rQXRvTMeGdtO",
        "outputId": "3e5b32fe-6843-4453-c4c0-c72f988355e3"
      },
      "outputs": [],
      "source": [
        "#fig, (ax1, ax2) = plt.subplots(1, 2, figsize=(20,5))\n",
        "#\n",
        "#ax1.set_title('GA X Gerações')\n",
        "#ax2.set_title('GA X Avaliações')\n",
        "#\n",
        "#ax1.plot(tracking_GA_Accuracy)\n",
        "#ax2.plot(Accuracy_GA)\n",
        "#plt.show()"
      ]
    },
    {
      "attachments": {},
      "cell_type": "markdown",
      "metadata": {},
      "source": [
        "Gráficos Comparativos Acurácia"
      ]
    },
    {
      "cell_type": "code",
      "execution_count": 190,
      "metadata": {
        "colab": {
          "base_uri": "https://localhost:8080/",
          "height": 592
        },
        "id": "wPAE1qekG2QL",
        "outputId": "ed21fdf7-0168-43ed-be6f-6a7d40ee56a7"
      },
      "outputs": [],
      "source": [
        "#from IPython.core.pylabtools import figsize\n",
        "#from matplotlib.pyplot import figure\n",
        "#import matplotlib.patches as mpatches\n",
        "#\n",
        "#plt.figure(figsize=(12, 6))\n",
        "#red_patch = mpatches.Patch(color='red', label='PSO')\n",
        "#blue_patch = mpatches.Patch(color='blue', label='GA')\n",
        "#green_patch = mpatches.Patch(color='green', label='Optuna')\n",
        "##black_patch = mpatches.Patch(color='black', label='GridSearch')\n",
        "#\n",
        "#plt.legend(handles=[red_patch, blue_patch, green_patch])\n",
        "#plt.plot(Accuracy_GA, color = 'blue', linewidth=1, linestyle='-', )\n",
        "#plt.plot(Accuracy_PSO, color = 'red', linewidth=1, linestyle='-')\n",
        "#plt.plot(tracking_Optuna_Accuracy, color = 'green', linewidth=1, linestyle='-')\n",
        "##plt.plot(tracking_GS, color = 'black', linewidth=3, linestyle='-')\n",
        "#plt.show()"
      ]
    },
    {
      "cell_type": "code",
      "execution_count": 191,
      "metadata": {
        "colab": {
          "base_uri": "https://localhost:8080/",
          "height": 901
        },
        "id": "hkxfnJJoKHia",
        "outputId": "b1c67284-9c27-4868-c7c1-54368e704ec5"
      },
      "outputs": [],
      "source": [
        "#fig, ax = plt.subplots(2, 2, figsize=(25,15))\n",
        "#\n",
        "#ax[0, 0].set_title(f'Genetic Algorithm (GA) - Accuracy: {max(tracking_GA_Accuracy)}', fontdict={'fontsize': 20, 'fontweight': 'medium'})\n",
        "#ax[0, 1].set_title(f'Particle Swarm Optimization (PSO) - Accuracy: {max(tracking_PSO_Accuracy)}', fontdict={'fontsize': 20, 'fontweight': 'medium'})\n",
        "#\n",
        "#ax[1, 0].set_title(f'Grid Search - Accuracy: {max(tracking_GS_Accuracy)}', fontdict={'fontsize': 20, 'fontweight': 'medium'})\n",
        "#ax[1, 1].set_title(f'Optuna - Accuracy: {max(tracking_Optuna_Accuracy)}', fontdict={'fontsize': 20, 'fontweight': 'medium'})\n",
        "#\n",
        "#ax[0,0].plot(tracking_GA_Accuracy, color = 'blue', linewidth=3, linestyle='-', )\n",
        "#ax[0,1].plot(tracking_PSO_Accuracy, color = 'red', linewidth=3, linestyle='-')\n",
        "#\n",
        "#ax[1,0].plot(tracking_GS_Accuracy, color = 'black', linewidth=3, linestyle='-')\n",
        "#ax[1,1].plot(tracking_Optuna_Accuracy, color = 'green', linewidth=3, linestyle='-')\n"
      ]
    },
    {
      "attachments": {},
      "cell_type": "markdown",
      "metadata": {},
      "source": [
        "F1 score"
      ]
    },
    {
      "cell_type": "code",
      "execution_count": 192,
      "metadata": {},
      "outputs": [],
      "source": [
        "#plt.figure(figsize=(12, 6))\n",
        "#red_patch = mpatches.Patch(color='red', label='PSO')\n",
        "#blue_patch = mpatches.Patch(color='blue', label='GA')\n",
        "#green_patch = mpatches.Patch(color='green', label='Optuna')\n",
        "##black_patch = mpatches.Patch(color='black', label='GridSearch')\n",
        "#\n",
        "#plt.legend(handles=[red_patch, blue_patch, green_patch])\n",
        "#plt.plot(F1_GA, color = 'blue', linewidth=1, linestyle='-', )\n",
        "#plt.plot(F1_PSO, color = 'red', linewidth=1, linestyle='-')\n",
        "#plt.plot(tracking_Optuna_F1, color = 'green', linewidth=1, linestyle='-')\n",
        "##plt.plot(tracking_GS, color = 'black', linewidth=3, linestyle='-')\n",
        "#plt.show()"
      ]
    },
    {
      "cell_type": "code",
      "execution_count": 193,
      "metadata": {},
      "outputs": [],
      "source": [
        "#fig, ax = plt.subplots(2, 2, figsize=(25,15))\n",
        "#\n",
        "#ax[0, 0].set_title(f'Genetic Algorithm (GA) - Accuracy: {max(tracking_GA_F1)}', fontdict={'fontsize': 20, 'fontweight': 'medium'})\n",
        "#ax[0, 1].set_title(f'Particle Swarm Optimization (PSO) - Accuracy: {max(tracking_PSO_F1)}', fontdict={'fontsize': 20, 'fontweight': 'medium'})\n",
        "#\n",
        "#ax[1, 0].set_title(f'Grid Search - Accuracy: {max(tracking_GS_F1)}', fontdict={'fontsize': 20, 'fontweight': 'medium'})\n",
        "#ax[1, 1].set_title(f'Optuna - Accuracy: {max(tracking_Optuna_F1)}', fontdict={'fontsize': 20, 'fontweight': 'medium'})\n",
        "#\n",
        "#ax[0,0].plot(tracking_GA_F1, color = 'blue', linewidth=3, linestyle='-', )\n",
        "#ax[0,1].plot(tracking_PSO_F1, color = 'red', linewidth=3, linestyle='-')\n",
        "#\n",
        "#ax[1,0].plot(tracking_GS_F1, color = 'black', linewidth=3, linestyle='-')\n",
        "#ax[1,1].plot(tracking_Optuna_F1, color = 'green', linewidth=3, linestyle='-')\n"
      ]
    },
    {
      "attachments": {},
      "cell_type": "markdown",
      "metadata": {},
      "source": [
        "ROC AUC"
      ]
    },
    {
      "cell_type": "code",
      "execution_count": 194,
      "metadata": {},
      "outputs": [],
      "source": [
        "#plt.figure(figsize=(12, 6))\n",
        "#red_patch = mpatches.Patch(color='red', label='PSO')\n",
        "#blue_patch = mpatches.Patch(color='blue', label='GA')\n",
        "#green_patch = mpatches.Patch(color='green', label='Optuna')\n",
        "##black_patch = mpatches.Patch(color='black', label='GridSearch')\n",
        "#\n",
        "#plt.legend(handles=[red_patch, blue_patch, green_patch])\n",
        "#plt.plot(AUC_GA, color = 'blue', linewidth=1, linestyle='-', )\n",
        "#plt.plot(AUC_PSO, color = 'red', linewidth=1, linestyle='-')\n",
        "#plt.plot(tracking_Optuna_AUC, color = 'green', linewidth=1, linestyle='-')\n",
        "##plt.plot(tracking_GS, color = 'black', linewidth=3, linestyle='-')\n",
        "#plt.show()"
      ]
    },
    {
      "cell_type": "code",
      "execution_count": 195,
      "metadata": {},
      "outputs": [],
      "source": [
        "#fig, ax = plt.subplots(2, 2, figsize=(25,15))\n",
        "#\n",
        "#ax[0, 0].set_title(f'Genetic Algorithm (GA) - Accuracy: {max(tracking_GA_AUC)}', fontdict={'fontsize': 20, 'fontweight': 'medium'})\n",
        "#ax[0, 1].set_title(f'Particle Swarm Optimization (PSO) - Accuracy: {max(tracking_PSO_AUC)}', fontdict={'fontsize': 20, 'fontweight': 'medium'})\n",
        "#\n",
        "#ax[1, 0].set_title(f'Grid Search - Accuracy: {max(tracking_GS_AUC)}', fontdict={'fontsize': 20, 'fontweight': 'medium'})\n",
        "#ax[1, 1].set_title(f'Optuna - Accuracy: {max(tracking_Optuna_AUC)}', fontdict={'fontsize': 20, 'fontweight': 'medium'})\n",
        "#\n",
        "#ax[0,0].plot(tracking_GA_AUC, color = 'blue', linewidth=3, linestyle='-', )\n",
        "#ax[0,1].plot(tracking_PSO_AUC, color = 'red', linewidth=3, linestyle='-')\n",
        "#\n",
        "#ax[1,0].plot(tracking_GS_AUC, color = 'black', linewidth=3, linestyle='-')\n",
        "#ax[1,1].plot(tracking_Optuna_AUC, color = 'green', linewidth=3, linestyle='-')\n",
        "#"
      ]
    },
    {
      "cell_type": "code",
      "execution_count": 196,
      "metadata": {},
      "outputs": [],
      "source": [
        "from scipy.stats import uniform\n",
        "from scipy.stats import randint\n",
        "from sklearn.model_selection import RandomizedSearchCV\n",
        "\n",
        "def random_search_int_range(min_l, max_l):\n",
        "    return (np.arange(randint.ppf(0.01, min_l, max_l),randint.ppf(0.99, min_l, max_l))).astype(int)\n",
        "\n",
        "def run_random_search_accuracy(iterations = 1024):\n",
        "    param_distribution = {\n",
        "    'n_estimators' : random_search_int_range(n_estimators_min, n_estimators_max),\n",
        "    'learning_rate' : uniform(learning_rate_min, learning_rate_max),\n",
        "    'subsample' : uniform(subsample_min, subsample_max - 1),\n",
        "    'colsample_bytree' : uniform(colsample_bytree_min, colsample_bytree_max  - 1),\n",
        "    'gamma' : uniform(gamma_min, gamma_max),\n",
        "    'max_depth' : random_search_int_range(max_depth_min, max_depth_max),\n",
        "    'min_child_weight' : random_search_int_range(min_child_weight_min, min_child_weight_max),\n",
        "    'reg_alpha' : uniform(reg_alpha_min, reg_alpha_max),\n",
        "    'reg_lambda' : uniform(reg_lambda_min, reg_lambda_max),\n",
        "    'scale_pos_weight' : random_search_int_range(scale_pos_weight_min, scale_pos_weight_max),\n",
        "    'base_score' : uniform(base_score_min, base_score_max),\n",
        "    'n_jobs' :  [-1]\n",
        "    }\n",
        "    \n",
        "\n",
        "\n",
        "\n",
        "\n",
        "\n",
        "    kfold = KFold(n_splits = 3, shuffle = True)\n",
        "\n",
        "    random_search_accuracy = RandomizedSearchCV(xgb.XGBClassifier(), param_distribution, n_iter = iterations, n_jobs = -1, cv=kfold, verbose=False)\n",
        "    random_search_accuracy.fit(x_heart, y_heart)\n",
        "\n",
        "    return random_search_accuracy.best_score_"
      ]
    },
    {
      "cell_type": "code",
      "execution_count": 197,
      "metadata": {},
      "outputs": [],
      "source": [
        "from scipy.stats import uniform\n",
        "from scipy.stats import randint\n",
        "from sklearn.model_selection import RandomizedSearchCV\n",
        "\n",
        "def random_search_int_range(min_l, max_l):\n",
        "    return (np.arange(randint.ppf(0.01, min_l, max_l),randint.ppf(0.99, min_l, max_l))).astype(int)\n",
        "\n",
        "\n",
        "def run_random_search_f1(iterations = 1024):\n",
        "    param_distribution = {\n",
        "    'n_estimators' : random_search_int_range(n_estimators_min, n_estimators_max),\n",
        "    'learning_rate' : uniform(learning_rate_min, learning_rate_max),\n",
        "    'subsample' : uniform(subsample_min, subsample_max - 1),\n",
        "    'colsample_bytree' : uniform(colsample_bytree_min, colsample_bytree_max  - 1),\n",
        "    'gamma' : uniform(gamma_min, gamma_max),\n",
        "    'max_depth' : random_search_int_range(max_depth_min, max_depth_max),\n",
        "    'min_child_weight' : random_search_int_range(min_child_weight_min, min_child_weight_max),\n",
        "    'reg_alpha' : uniform(reg_alpha_min, reg_alpha_max),\n",
        "    'reg_lambda' : uniform(reg_lambda_min, reg_lambda_max),\n",
        "    'scale_pos_weight' : random_search_int_range(scale_pos_weight_min, scale_pos_weight_max),\n",
        "    'base_score' : uniform(base_score_min, base_score_max),\n",
        "    'n_jobs' :  [-1]\n",
        "    }\n",
        "    \n",
        "\n",
        "\n",
        "\n",
        "\n",
        "    kfold = KFold(n_splits = 3, shuffle = True)\n",
        "\n",
        "    random_search_accuracy = RandomizedSearchCV(xgb.XGBClassifier(), param_distribution, n_iter = iterations, n_jobs = -1, cv=kfold, verbose=False, scoring='f1')\n",
        "    random_search_accuracy.fit(x_heart, y_heart)\n",
        "\n",
        "    return random_search_accuracy.best_score_"
      ]
    },
    {
      "cell_type": "code",
      "execution_count": 198,
      "metadata": {},
      "outputs": [
        {
          "data": {
            "text/plain": [
              "0.8451205046834449"
            ]
          },
          "execution_count": 198,
          "metadata": {},
          "output_type": "execute_result"
        }
      ],
      "source": [
        "run_random_search_f1(1)"
      ]
    },
    {
      "cell_type": "code",
      "execution_count": 199,
      "metadata": {},
      "outputs": [],
      "source": [
        "from scipy.stats import uniform\n",
        "from scipy.stats import randint\n",
        "from sklearn.model_selection import RandomizedSearchCV\n",
        "\n",
        "def random_search_int_range(min_l, max_l):\n",
        "    return (np.arange(randint.ppf(0.01, min_l, max_l),randint.ppf(0.99, min_l, max_l))).astype(int)\n",
        "\n",
        "def run_random_search_auc(iterations = 1024):\n",
        "    param_distribution = {\n",
        "    'n_estimators' : random_search_int_range(n_estimators_min, n_estimators_max),\n",
        "    'learning_rate' : uniform(learning_rate_min, learning_rate_max),\n",
        "    'subsample' : uniform(subsample_min, subsample_max - 1),\n",
        "    'colsample_bytree' : uniform(colsample_bytree_min, colsample_bytree_max  - 1),\n",
        "    'gamma' : uniform(gamma_min, gamma_max),\n",
        "    'max_depth' : random_search_int_range(max_depth_min, max_depth_max),\n",
        "    'min_child_weight' : random_search_int_range(min_child_weight_min, min_child_weight_max),\n",
        "    'reg_alpha' : uniform(reg_alpha_min, reg_alpha_max),\n",
        "    'reg_lambda' : uniform(reg_lambda_min, reg_lambda_max),\n",
        "    'scale_pos_weight' : random_search_int_range(scale_pos_weight_min, scale_pos_weight_max),\n",
        "    'base_score' : uniform(base_score_min, base_score_max),\n",
        "    'n_jobs' :  [-1]\n",
        "    }\n",
        "    \n",
        "    \n",
        "\n",
        "\n",
        "\n",
        "\n",
        "    kfold = KFold(n_splits = 3, shuffle = True)\n",
        "\n",
        "    random_search_accuracy = RandomizedSearchCV(xgb.XGBClassifier(), param_distribution, n_iter = iterations, n_jobs = -1, cv=kfold, verbose=False, scoring='roc_auc')\n",
        "    random_search_accuracy.fit(x_heart, y_heart)\n",
        "\n",
        "    return random_search_accuracy.best_score_"
      ]
    },
    {
      "attachments": {},
      "cell_type": "markdown",
      "metadata": {},
      "source": [
        "# Gerando Dados Para Análise "
      ]
    },
    {
      "cell_type": "code",
      "execution_count": 200,
      "metadata": {},
      "outputs": [],
      "source": [
        "from tqdm import tqdm\n",
        "import pandas as pd\n",
        "from os import system\n",
        "\n",
        "def full_run_optuna(iterations):\n",
        "    filename = './XGBoost_heart_data.csv'\n",
        "\n",
        "    try:\n",
        "        XGBoost_data = pd.read_csv(filename)\n",
        "    except:\n",
        "        open(filename, \"a\")\n",
        "        XGBoost_data = pd.DataFrame(columns=['Algorithm', 'Accuracy', 'F1', 'AUC'])\n",
        "\n",
        "\n",
        "    for i in tqdm(range(iterations)):      \n",
        "        accuracy_optuna, _ = run_optuna_accuracy()\n",
        "        f1_optuna, _ = run_optuna_f1()\n",
        "        auc_optuna, _ = run_optuna_auc()\n",
        "        temp = pd.DataFrame({'Algorithm' : ['Optuna'], \n",
        "                            'Accuracy' :[accuracy_optuna], \n",
        "                            'F1' : [f1_optuna], \n",
        "                            'AUC' : [auc_optuna]})\n",
        "        #XGBoost_data = XGBoost_data.append(temp, ignore_index = True)\n",
        "        XGBoost_data = pd.concat([XGBoost_data, temp], ignore_index=True)\n",
        "        XGBoost_data[['Algorithm', 'Accuracy', 'F1', 'AUC']].to_csv(filename)"
      ]
    },
    {
      "cell_type": "code",
      "execution_count": 201,
      "metadata": {},
      "outputs": [],
      "source": [
        "from tqdm import tqdm\n",
        "import pandas as pd\n",
        "from os import system\n",
        "\n",
        "def full_run_ga(iterations):\n",
        "    filename = './XGBoost_heart_data.csv'\n",
        "\n",
        "    try:\n",
        "        XGBoost_data = pd.read_csv(filename)\n",
        "    except:\n",
        "        open(filename, \"a\")\n",
        "        XGBoost_data = pd.DataFrame(columns=['Algorithm', 'Accuracy', 'F1', 'AUC'])\n",
        "\n",
        "\n",
        "    for i in tqdm(range(iterations)):\n",
        "\n",
        "        accuracy_ga, _, _ = run_accuracy_ga()\n",
        "        f1_ga, _, _ = run_f1_ga()\n",
        "        auc_ga, _, _ = run_auc_ga()\n",
        "        temp = pd.DataFrame({'Algorithm' : ['GA'], \n",
        "                            'Accuracy' :[-accuracy_ga[0]], \n",
        "                            'F1' : [-f1_ga[0]], \n",
        "                            'AUC' : [-auc_ga[0]]})\n",
        "        #XGBoost_data = XGBoost_data.append(temp, ignore_index = True)\n",
        "        XGBoost_data = pd.concat([XGBoost_data, temp], ignore_index=True)\n",
        "        XGBoost_data[['Algorithm', 'Accuracy', 'F1', 'AUC']].to_csv(filename)\n",
        "        "
      ]
    },
    {
      "cell_type": "code",
      "execution_count": 202,
      "metadata": {},
      "outputs": [],
      "source": [
        "from tqdm import tqdm\n",
        "import pandas as pd\n",
        "from os import system\n",
        "\n",
        "def full_run_optuna(iterations):\n",
        "    filename = './XGBoost_heart_data.csv'\n",
        "\n",
        "    try:\n",
        "        XGBoost_data = pd.read_csv(filename)\n",
        "    except:\n",
        "        open(filename, \"a\")\n",
        "        XGBoost_data = pd.DataFrame(columns=['Algorithm', 'Accuracy', 'F1', 'AUC'])\n",
        "\n",
        "\n",
        "    for i in tqdm(range(iterations)):      \n",
        "        accuracy_optuna, _ = run_optuna_accuracy()\n",
        "        f1_optuna, _ = run_optuna_f1()\n",
        "        auc_optuna, _ = run_optuna_auc()\n",
        "        temp = pd.DataFrame({'Algorithm' : ['Optuna'], \n",
        "                            'Accuracy' :[accuracy_optuna], \n",
        "                            'F1' : [f1_optuna], \n",
        "                            'AUC' : [auc_optuna]})\n",
        "        #XGBoost_data = XGBoost_data.append(temp, ignore_index = True)\n",
        "        XGBoost_data = pd.concat([XGBoost_data, temp], ignore_index=True)\n",
        "        XGBoost_data[['Algorithm', 'Accuracy', 'F1', 'AUC']].to_csv(filename)"
      ]
    },
    {
      "cell_type": "code",
      "execution_count": 203,
      "metadata": {},
      "outputs": [],
      "source": [
        "from tqdm import tqdm\n",
        "import pandas as pd\n",
        "from os import system\n",
        "\n",
        "def full_run_pso(iterations):\n",
        "    filename = './XGBoost_heart_data.csv'\n",
        "\n",
        "    try:\n",
        "        XGBoost_data = pd.read_csv(filename)\n",
        "    except:\n",
        "        open(filename, \"a\")\n",
        "        XGBoost_data = pd.DataFrame(columns=['Algorithm', 'Accuracy', 'F1', 'AUC'])\n",
        "\n",
        "\n",
        "    for i in tqdm(range(iterations)):\n",
        "        accuracy_pso = run_accuracy_pso()\n",
        "        f1_pso = run_f1_pso()\n",
        "        auc_pso = run_auc_pso()\n",
        "        temp = pd.DataFrame({'Algorithm' : ['PSO'], \n",
        "                            'Accuracy' :[accuracy_pso], \n",
        "                            'F1' : [f1_pso], \n",
        "                            'AUC' : [auc_pso]})\n",
        "        #XGBoost_data = XGBoost_data.append(temp, ignore_index = True)\n",
        "        XGBoost_data = pd.concat([XGBoost_data, temp], ignore_index=True)\n",
        "        XGBoost_data[['Algorithm', 'Accuracy', 'F1', 'AUC']].to_csv(filename)\n",
        "        "
      ]
    },
    {
      "cell_type": "code",
      "execution_count": 204,
      "metadata": {},
      "outputs": [],
      "source": [
        "def full_run_random_searh(iterations):\n",
        "    filename = './XGBoost_heart_data.csv'\n",
        "\n",
        "    try:\n",
        "        XGBoost_data = pd.read_csv(filename)\n",
        "    except:\n",
        "        open(filename, \"a\")\n",
        "        XGBoost_data = pd.DataFrame(columns=['Algorithm', 'Accuracy', 'F1', 'AUC'])\n",
        "\n",
        "\n",
        "    for i in tqdm(range(iterations)):\n",
        "\n",
        "        accuracy_rs = run_random_search_accuracy()\n",
        "        f1_rs = run_random_search_f1()\n",
        "        auc_rs = run_random_search_auc()\n",
        "        temp = pd.DataFrame({'Algorithm' : ['Random Search'], \n",
        "                            'Accuracy' :[accuracy_rs], \n",
        "                            'F1' : [f1_rs], \n",
        "                            'AUC' : [auc_rs]})\n",
        "        #XGBoost_data = XGBoost_data.append(temp, ignore_index = True)\n",
        "        XGBoost_data = pd.concat([XGBoost_data, temp], ignore_index=True)\n",
        "        XGBoost_data[['Algorithm', 'Accuracy', 'F1', 'AUC']].to_csv(filename)"
      ]
    },
    {
      "cell_type": "code",
      "execution_count": 205,
      "metadata": {},
      "outputs": [],
      "source": [
        "def run_f1_pso():\n",
        "    # Call an instance of PSO\n",
        "    swarm_size = 32\n",
        "    iters = 32\n",
        "    dim = 11\n",
        "    options = {'c1': 1.5, 'c2':1.5, 'w':0.5}\n",
        "    constraints = (xl,xu)\n",
        "\n",
        "    optimizer = ps.single.GlobalBestPSO(n_particles=swarm_size,\n",
        "                                        dimensions=dim,\n",
        "                                        options=options,\n",
        "                                        bounds=constraints)\n",
        "    cost, joint_vars = optimizer.optimize(objective_func = PSO_Optimize_F1, iters=iters)\n",
        "    return -cost"
      ]
    },
    {
      "cell_type": "code",
      "execution_count": 206,
      "metadata": {},
      "outputs": [
        {
          "name": "stderr",
          "output_type": "stream",
          "text": [
            "2023-07-22 19:52:58,684 - pyswarms.single.global_best - INFO - Optimize for 32 iters with {'c1': 1.5, 'c2': 1.5, 'w': 0.5}\n",
            "pyswarms.single.global_best:   6%|▋         |2/32, best_cost=-.876"
          ]
        },
        {
          "name": "stderr",
          "output_type": "stream",
          "text": [
            "pyswarms.single.global_best: 100%|██████████|32/32, best_cost=-.887\n",
            "2023-07-22 19:53:04,328 - pyswarms.single.global_best - INFO - Optimization finished | best cost: -0.8870003858510642, best pos: [2.71872253e+02 7.52039420e-02 9.11770404e-01 6.05792240e-01\n",
            " 3.37514914e-01 9.97509608e+00 8.13716949e+00 5.39829908e-02\n",
            " 3.64664037e-01 1.18735436e+00 4.57453134e-01]\n"
          ]
        }
      ],
      "source": [
        "swarm_size = 32\n",
        "iters = 32\n",
        "dim = 11\n",
        "options = {'c1': 1.5, 'c2':1.5, 'w':0.5}\n",
        "constraints = (xl,xu)\n",
        "\n",
        "optimizer = ps.single.GlobalBestPSO(n_particles=swarm_size,\n",
        "                                    dimensions=dim,\n",
        "                                    options=options,\n",
        "                                    bounds=constraints)\n",
        "cost, joint_vars = optimizer.optimize(objective_func = PSO_Optimize_F1, iters=iters)"
      ]
    },
    {
      "cell_type": "code",
      "execution_count": 229,
      "metadata": {},
      "outputs": [],
      "source": [
        "pso_cost_hist = []"
      ]
    },
    {
      "cell_type": "code",
      "execution_count": 230,
      "metadata": {},
      "outputs": [
        {
          "name": "stderr",
          "output_type": "stream",
          "text": [
            "2023-07-22 22:47:17,929 - pyswarms.single.global_best - INFO - Optimize for 32 iters with {'c1': 1.5, 'c2': 1.5, 'w': 0.5}\n",
            "pyswarms.single.global_best: 100%|██████████|32/32, best_cost=-.89 \n",
            "2023-07-22 22:47:33,221 - pyswarms.single.global_best - INFO - Optimization finished | best cost: -0.8899495805387534, best pos: [2.38640668e+02 4.81642976e-02 7.92300400e-01 8.47115338e-01\n",
            " 7.72306655e-02 7.93310625e+00 5.78514551e+00 5.58540414e-02\n",
            " 1.31291701e-01 1.22839710e+00 1.47390769e-01]\n",
            "2023-07-22 22:47:33,224 - pyswarms.single.global_best - INFO - Optimize for 32 iters with {'c1': 1.5, 'c2': 1.5, 'w': 0.5}\n",
            "pyswarms.single.global_best: 100%|██████████|32/32, best_cost=-.888\n",
            "2023-07-22 22:47:37,771 - pyswarms.single.global_best - INFO - Optimization finished | best cost: -0.8881195381295278, best pos: [2.69149226e+02 8.95994677e-02 8.06904931e-01 8.68045831e-01\n",
            " 3.81098560e-02 3.39486661e+00 8.61586215e+00 7.69509214e-02\n",
            " 6.65609749e-01 2.85083593e+00 7.69374321e-01]\n",
            "2023-07-22 22:47:37,775 - pyswarms.single.global_best - INFO - Optimize for 32 iters with {'c1': 1.5, 'c2': 1.5, 'w': 0.5}\n",
            "pyswarms.single.global_best: 100%|██████████|32/32, best_cost=-.874\n",
            "2023-07-22 22:47:48,986 - pyswarms.single.global_best - INFO - Optimization finished | best cost: -0.8743643777238688, best pos: [6.71145098e+02 2.12033302e-01 8.01416297e-01 8.45893086e-01\n",
            " 6.39795053e-02 4.12802367e+00 7.67793411e+00 1.55038114e-02\n",
            " 9.42451279e-01 1.67483485e+00 2.56415299e-01]\n",
            "2023-07-22 22:47:48,990 - pyswarms.single.global_best - INFO - Optimize for 32 iters with {'c1': 1.5, 'c2': 1.5, 'w': 0.5}\n",
            "pyswarms.single.global_best: 100%|██████████|32/32, best_cost=-.882\n",
            "2023-07-22 22:48:10,894 - pyswarms.single.global_best - INFO - Optimization finished | best cost: -0.8817870425591812, best pos: [9.34471270e+02 5.61757313e-02 8.57666131e-01 8.95418172e-01\n",
            " 2.97198748e-01 5.82045262e+00 5.49395581e+00 4.46339302e-02\n",
            " 1.06551947e-01 6.35413296e+00 7.22232513e-01]\n",
            "2023-07-22 22:48:10,898 - pyswarms.single.global_best - INFO - Optimize for 32 iters with {'c1': 1.5, 'c2': 1.5, 'w': 0.5}\n",
            "pyswarms.single.global_best: 100%|██████████|32/32, best_cost=-.884\n",
            "2023-07-22 22:48:12,543 - pyswarms.single.global_best - INFO - Optimization finished | best cost: -0.8835356316862433, best pos: [4.57059558e+01 3.94285555e-01 6.67803175e-01 8.64251644e-01\n",
            " 9.07454831e-02 5.87946326e+00 6.51298582e+00 2.87934914e-02\n",
            " 2.93625517e-01 9.42930736e+00 6.49552619e-01]\n",
            "2023-07-22 22:48:12,547 - pyswarms.single.global_best - INFO - Optimize for 32 iters with {'c1': 1.5, 'c2': 1.5, 'w': 0.5}\n",
            "pyswarms.single.global_best: 100%|██████████|32/32, best_cost=-.876\n",
            "2023-07-22 22:48:21,016 - pyswarms.single.global_best - INFO - Optimization finished | best cost: -0.8758817530532218, best pos: [6.03216573e+02 5.11061931e-01 8.47874289e-01 6.58027766e-01\n",
            " 4.14693722e-01 7.03091269e+00 9.86511066e+00 2.62746873e-02\n",
            " 4.97854197e-01 6.25793964e+00 3.20654020e-01]\n",
            "2023-07-22 22:48:21,020 - pyswarms.single.global_best - INFO - Optimize for 32 iters with {'c1': 1.5, 'c2': 1.5, 'w': 0.5}\n",
            "pyswarms.single.global_best: 100%|██████████|32/32, best_cost=-.878\n",
            "2023-07-22 22:48:40,638 - pyswarms.single.global_best - INFO - Optimization finished | best cost: -0.8777199324787702, best pos: [9.55867660e+02 5.24430621e-02 7.25817107e-01 9.30672363e-01\n",
            " 4.15482354e-01 5.98049774e+00 7.87600069e+00 3.50170820e-02\n",
            " 7.92602919e-01 9.45527332e+00 7.66763214e-01]\n",
            "2023-07-22 22:48:40,642 - pyswarms.single.global_best - INFO - Optimize for 32 iters with {'c1': 1.5, 'c2': 1.5, 'w': 0.5}\n",
            "pyswarms.single.global_best: 100%|██████████|32/32, best_cost=-.872\n",
            "2023-07-22 22:48:51,680 - pyswarms.single.global_best - INFO - Optimization finished | best cost: -0.8723424232000957, best pos: [7.04180902e+02 5.22628349e-01 7.28579511e-01 6.28674564e-01\n",
            " 2.18437501e-01 5.33363883e+00 5.76817620e+00 4.72239892e-02\n",
            " 6.01989903e-01 7.61361952e+00 2.92085401e-01]\n",
            "2023-07-22 22:48:51,685 - pyswarms.single.global_best - INFO - Optimize for 32 iters with {'c1': 1.5, 'c2': 1.5, 'w': 0.5}\n",
            "pyswarms.single.global_best: 100%|██████████|32/32, best_cost=-.886\n",
            "2023-07-22 22:48:58,739 - pyswarms.single.global_best - INFO - Optimization finished | best cost: -0.8864532493621479, best pos: [2.21380293e+02 1.26774675e-01 8.63899247e-01 7.64333557e-01\n",
            " 9.48925232e-02 8.59057024e+00 1.99544245e+00 9.65064780e-02\n",
            " 1.53618520e-01 4.50354251e+00 4.12008155e-01]\n",
            "2023-07-22 22:48:58,743 - pyswarms.single.global_best - INFO - Optimize for 32 iters with {'c1': 1.5, 'c2': 1.5, 'w': 0.5}\n",
            "pyswarms.single.global_best: 100%|██████████|32/32, best_cost=-.894\n",
            "2023-07-22 22:49:06,225 - pyswarms.single.global_best - INFO - Optimization finished | best cost: -0.8935635716593449, best pos: [3.19888565e+02 2.53697784e-02 8.13673725e-01 8.30791591e-01\n",
            " 1.41583299e-01 5.60772020e+00 4.39307392e+00 7.35282967e-02\n",
            " 4.99936778e-01 2.53393242e+00 9.61964307e-01]\n",
            "2023-07-22 22:49:06,229 - pyswarms.single.global_best - INFO - Optimize for 32 iters with {'c1': 1.5, 'c2': 1.5, 'w': 0.5}\n",
            "pyswarms.single.global_best: 100%|██████████|32/32, best_cost=-.891\n",
            "2023-07-22 22:49:21,713 - pyswarms.single.global_best - INFO - Optimization finished | best cost: -0.8911661466344982, best pos: [9.21552289e+02 1.38239931e-02 7.96085777e-01 7.40171836e-01\n",
            " 2.80484498e-01 3.62953393e+00 4.69167926e+00 1.05830508e-02\n",
            " 3.86818357e-01 2.38357647e+00 8.35767867e-02]\n",
            "2023-07-22 22:49:21,717 - pyswarms.single.global_best - INFO - Optimize for 32 iters with {'c1': 1.5, 'c2': 1.5, 'w': 0.5}\n",
            "pyswarms.single.global_best: 100%|██████████|32/32, best_cost=-.879\n",
            "2023-07-22 22:49:33,022 - pyswarms.single.global_best - INFO - Optimization finished | best cost: -0.8791073089096478, best pos: [5.95200602e+02 1.09038566e-01 8.86486730e-01 6.84064559e-01\n",
            " 3.86398551e-01 5.66425515e+00 8.20228571e+00 4.81083632e-02\n",
            " 9.61763996e-01 4.32918829e+00 9.51106523e-01]\n",
            "2023-07-22 22:49:33,027 - pyswarms.single.global_best - INFO - Optimize for 32 iters with {'c1': 1.5, 'c2': 1.5, 'w': 0.5}\n",
            "pyswarms.single.global_best: 100%|██████████|32/32, best_cost=-.879\n",
            "2023-07-22 22:49:34,446 - pyswarms.single.global_best - INFO - Optimization finished | best cost: -0.8789399579154129, best pos: [57.6395558   0.42758802  0.74512052  0.80170243  0.28258506  3.28553693\n",
            "  8.67546556  0.07380682  0.56310806  7.40563413  0.60143969]\n",
            "2023-07-22 22:49:34,450 - pyswarms.single.global_best - INFO - Optimize for 32 iters with {'c1': 1.5, 'c2': 1.5, 'w': 0.5}\n",
            "pyswarms.single.global_best: 100%|██████████|32/32, best_cost=-.881\n",
            "2023-07-22 22:49:43,566 - pyswarms.single.global_best - INFO - Optimization finished | best cost: -0.881368587925302, best pos: [3.75540523e+02 3.39847403e-01 8.61442305e-01 9.29948832e-01\n",
            " 3.56795180e-01 7.65769946e+00 3.02602146e+00 5.89566447e-02\n",
            " 2.69005426e-01 8.71568941e+00 2.87309076e-01]\n",
            "2023-07-22 22:49:43,571 - pyswarms.single.global_best - INFO - Optimize for 32 iters with {'c1': 1.5, 'c2': 1.5, 'w': 0.5}\n",
            "pyswarms.single.global_best: 100%|██████████|32/32, best_cost=-.879\n",
            "2023-07-22 22:49:58,796 - pyswarms.single.global_best - INFO - Optimization finished | best cost: -0.8788817882924083, best pos: [7.84985012e+02 2.92525742e-02 7.98328300e-01 8.35189631e-01\n",
            " 1.27587499e-01 5.23359101e+00 3.77962980e+00 5.94808678e-02\n",
            " 9.31871684e-01 7.48494774e+00 2.27633198e-01]\n",
            "2023-07-22 22:49:58,800 - pyswarms.single.global_best - INFO - Optimize for 32 iters with {'c1': 1.5, 'c2': 1.5, 'w': 0.5}\n",
            "pyswarms.single.global_best: 100%|██████████|32/32, best_cost=-.878\n",
            "2023-07-22 22:50:11,411 - pyswarms.single.global_best - INFO - Optimization finished | best cost: -0.8784676917514126, best pos: [6.56326748e+02 3.00728294e-01 8.35642016e-01 7.98178374e-01\n",
            " 4.17598791e-01 7.65031418e+00 4.11415742e+00 6.42906930e-02\n",
            " 4.94195799e-01 9.81093729e+00 3.56054930e-01]\n",
            "2023-07-22 22:50:11,415 - pyswarms.single.global_best - INFO - Optimize for 32 iters with {'c1': 1.5, 'c2': 1.5, 'w': 0.5}\n",
            "pyswarms.single.global_best: 100%|██████████|32/32, best_cost=-.881\n",
            "2023-07-22 22:50:30,067 - pyswarms.single.global_best - INFO - Optimization finished | best cost: -0.8814571994664279, best pos: [7.37300141e+02 4.59558450e-02 7.79243731e-01 9.17525314e-01\n",
            " 2.99050567e-01 7.20029373e+00 6.02857799e+00 4.59906915e-02\n",
            " 7.94679481e-01 7.38603647e+00 5.00419317e-01]\n",
            "2023-07-22 22:50:30,071 - pyswarms.single.global_best - INFO - Optimize for 32 iters with {'c1': 1.5, 'c2': 1.5, 'w': 0.5}\n",
            "pyswarms.single.global_best: 100%|██████████|32/32, best_cost=-.88 \n",
            "2023-07-22 22:50:31,486 - pyswarms.single.global_best - INFO - Optimization finished | best cost: -0.8799801208832271, best pos: [39.39368099  0.19979922  0.83430333  0.72008354  0.12199756  5.38389061\n",
            "  3.47241775  0.07378387  0.58066229  7.96599609  0.87651692]\n",
            "2023-07-22 22:50:31,490 - pyswarms.single.global_best - INFO - Optimize for 32 iters with {'c1': 1.5, 'c2': 1.5, 'w': 0.5}\n",
            "pyswarms.single.global_best: 100%|██████████|32/32, best_cost=-.886\n",
            "2023-07-22 22:50:52,946 - pyswarms.single.global_best - INFO - Optimization finished | best cost: -0.8862160679023937, best pos: [9.71880690e+02 1.73058080e-01 9.81906732e-01 8.79660305e-01\n",
            " 3.38678272e-01 9.08326036e+00 3.84337372e+00 3.75972559e-02\n",
            " 3.23108983e-01 7.59870017e+00 3.22185466e-01]\n",
            "2023-07-22 22:50:52,950 - pyswarms.single.global_best - INFO - Optimize for 32 iters with {'c1': 1.5, 'c2': 1.5, 'w': 0.5}\n",
            "pyswarms.single.global_best: 100%|██████████|32/32, best_cost=-.873\n",
            "2023-07-22 22:51:05,759 - pyswarms.single.global_best - INFO - Optimization finished | best cost: -0.873329267147765, best pos: [8.59988381e+02 3.34713029e-01 8.30409460e-01 6.76423650e-01\n",
            " 2.36676605e-01 6.82897640e+00 8.56808854e+00 7.67597597e-02\n",
            " 1.77695052e-02 7.00944540e+00 5.08766514e-01]\n",
            "2023-07-22 22:51:05,763 - pyswarms.single.global_best - INFO - Optimize for 32 iters with {'c1': 1.5, 'c2': 1.5, 'w': 0.5}\n",
            "pyswarms.single.global_best: 100%|██████████|32/32, best_cost=-.876\n",
            "2023-07-22 22:51:15,130 - pyswarms.single.global_best - INFO - Optimization finished | best cost: -0.8761755223381256, best pos: [5.86135715e+02 2.96224527e-01 7.88027618e-01 7.70097030e-01\n",
            " 9.87691675e-03 4.35103553e+00 7.67302681e+00 2.24898595e-02\n",
            " 3.83136673e-01 1.37163078e+00 7.67036615e-01]\n",
            "2023-07-22 22:51:15,134 - pyswarms.single.global_best - INFO - Optimize for 32 iters with {'c1': 1.5, 'c2': 1.5, 'w': 0.5}\n",
            "pyswarms.single.global_best: 100%|██████████|32/32, best_cost=-.881\n",
            "2023-07-22 22:51:31,120 - pyswarms.single.global_best - INFO - Optimization finished | best cost: -0.8814240164373182, best pos: [6.38723146e+02 5.56592682e-01 8.80185556e-01 7.96481353e-01\n",
            " 2.06401025e-01 9.52428064e+00 1.33752225e+00 6.66462959e-02\n",
            " 8.89685489e-01 4.51690385e+00 3.36548542e-01]\n",
            "2023-07-22 22:51:31,124 - pyswarms.single.global_best - INFO - Optimize for 32 iters with {'c1': 1.5, 'c2': 1.5, 'w': 0.5}\n",
            "pyswarms.single.global_best: 100%|██████████|32/32, best_cost=-.879\n",
            "2023-07-22 22:51:44,570 - pyswarms.single.global_best - INFO - Optimization finished | best cost: -0.8787099273531694, best pos: [6.81184659e+02 1.11960011e-01 7.73587434e-01 9.03720880e-01\n",
            " 1.85023598e-01 4.35893056e+00 1.95589420e+00 5.74435286e-02\n",
            " 6.99762709e-01 4.32583448e+00 3.17698365e-01]\n",
            "2023-07-22 22:51:44,574 - pyswarms.single.global_best - INFO - Optimize for 32 iters with {'c1': 1.5, 'c2': 1.5, 'w': 0.5}\n",
            "pyswarms.single.global_best: 100%|██████████|32/32, best_cost=-.886\n",
            "2023-07-22 22:51:58,192 - pyswarms.single.global_best - INFO - Optimization finished | best cost: -0.8858381320685276, best pos: [5.60830050e+02 2.23446224e-01 8.95469221e-01 7.82723363e-01\n",
            " 2.75132429e-01 7.00231207e+00 1.79007055e+00 2.52832344e-02\n",
            " 3.29456572e-01 3.19986145e+00 2.88043526e-01]\n",
            "2023-07-22 22:51:58,196 - pyswarms.single.global_best - INFO - Optimize for 32 iters with {'c1': 1.5, 'c2': 1.5, 'w': 0.5}\n",
            "pyswarms.single.global_best: 100%|██████████|32/32, best_cost=-.879\n",
            "2023-07-22 22:52:06,131 - pyswarms.single.global_best - INFO - Optimization finished | best cost: -0.8794350905509971, best pos: [4.66035321e+02 2.64506032e-01 7.04683723e-01 7.69063575e-01\n",
            " 4.45245914e-02 3.29967412e+00 1.60821330e+00 7.02698615e-02\n",
            " 2.59350671e-01 7.78567625e+00 5.14407352e-01]\n",
            "2023-07-22 22:52:06,136 - pyswarms.single.global_best - INFO - Optimize for 32 iters with {'c1': 1.5, 'c2': 1.5, 'w': 0.5}\n",
            "pyswarms.single.global_best: 100%|██████████|32/32, best_cost=-.893\n",
            "2023-07-22 22:52:11,333 - pyswarms.single.global_best - INFO - Optimization finished | best cost: -0.8930626632262241, best pos: [1.32772038e+02 2.01067993e-02 9.11085577e-01 6.88556767e-01\n",
            " 2.22587921e-01 8.90360312e+00 2.45716142e+00 9.44439323e-02\n",
            " 1.57521912e-01 2.41822093e+00 1.23886736e-01]\n",
            "2023-07-22 22:52:11,337 - pyswarms.single.global_best - INFO - Optimize for 32 iters with {'c1': 1.5, 'c2': 1.5, 'w': 0.5}\n",
            "pyswarms.single.global_best: 100%|██████████|32/32, best_cost=-.876\n",
            "2023-07-22 22:52:23,668 - pyswarms.single.global_best - INFO - Optimization finished | best cost: -0.8762365604141376, best pos: [6.00188558e+02 2.40590568e-01 9.02582907e-01 8.75440125e-01\n",
            " 5.19934938e-02 8.05474738e+00 6.04165215e+00 4.14560485e-02\n",
            " 1.69970366e-01 5.71351119e+00 4.90231116e-01]\n",
            "2023-07-22 22:52:23,672 - pyswarms.single.global_best - INFO - Optimize for 32 iters with {'c1': 1.5, 'c2': 1.5, 'w': 0.5}\n",
            "pyswarms.single.global_best: 100%|██████████|32/32, best_cost=-.885\n",
            "2023-07-22 22:52:34,263 - pyswarms.single.global_best - INFO - Optimization finished | best cost: -0.8854671814415964, best pos: [4.98208815e+02 8.26083773e-02 9.35416314e-01 6.82154623e-01\n",
            " 2.74704282e-01 8.37775118e+00 5.71983484e+00 7.46863613e-02\n",
            " 9.61400970e-02 2.25529233e+00 4.55087235e-01]\n",
            "2023-07-22 22:52:34,268 - pyswarms.single.global_best - INFO - Optimize for 32 iters with {'c1': 1.5, 'c2': 1.5, 'w': 0.5}\n",
            "pyswarms.single.global_best: 100%|██████████|32/32, best_cost=-.883\n",
            "2023-07-22 22:52:43,454 - pyswarms.single.global_best - INFO - Optimization finished | best cost: -0.8828246278869782, best pos: [4.81867147e+02 1.31182418e-01 8.98750982e-01 7.15583051e-01\n",
            " 4.36344407e-01 4.36532781e+00 2.09150764e+00 2.78099911e-03\n",
            " 4.70898840e-01 4.49728738e+00 6.19750128e-01]\n",
            "2023-07-22 22:52:43,458 - pyswarms.single.global_best - INFO - Optimize for 32 iters with {'c1': 1.5, 'c2': 1.5, 'w': 0.5}\n",
            "pyswarms.single.global_best: 100%|██████████|32/32, best_cost=-.897\n",
            "2023-07-22 22:52:44,745 - pyswarms.single.global_best - INFO - Optimization finished | best cost: -0.8968531940441842, best pos: [39.35715762  0.17443649  0.72731589  0.78014839  0.10975175  4.92434508\n",
            "  7.6309041   0.07313154  0.38815993  1.40794827  0.207245  ]\n",
            "2023-07-22 22:52:44,749 - pyswarms.single.global_best - INFO - Optimize for 32 iters with {'c1': 1.5, 'c2': 1.5, 'w': 0.5}\n",
            "pyswarms.single.global_best: 100%|██████████|32/32, best_cost=-.878\n",
            "2023-07-22 22:52:52,658 - pyswarms.single.global_best - INFO - Optimization finished | best cost: -0.8781794749379044, best pos: [3.83649745e+02 4.41861083e-01 9.20453909e-01 6.77596883e-01\n",
            " 2.45192759e-01 6.84061484e+00 3.77236723e+00 5.07904344e-02\n",
            " 8.01984566e-01 3.19887004e+00 7.07502450e-01]\n",
            "2023-07-22 22:52:52,662 - pyswarms.single.global_best - INFO - Optimize for 32 iters with {'c1': 1.5, 'c2': 1.5, 'w': 0.5}\n",
            "pyswarms.single.global_best: 100%|██████████|32/32, best_cost=-.886\n",
            "2023-07-22 22:53:02,484 - pyswarms.single.global_best - INFO - Optimization finished | best cost: -0.8857375378363013, best pos: [5.24860241e+02 5.30394906e-02 7.36127753e-01 9.37262708e-01\n",
            " 2.51962954e-01 6.23331331e+00 8.77913766e+00 3.78902268e-02\n",
            " 7.05507571e-01 2.72787211e+00 2.80344044e-01]\n",
            "2023-07-22 22:53:02,488 - pyswarms.single.global_best - INFO - Optimize for 32 iters with {'c1': 1.5, 'c2': 1.5, 'w': 0.5}\n",
            "pyswarms.single.global_best: 100%|██████████|32/32, best_cost=-.881\n",
            "2023-07-22 22:53:08,196 - pyswarms.single.global_best - INFO - Optimization finished | best cost: -0.880584747697414, best pos: [2.55684257e+02 1.73211085e-01 7.93050665e-01 7.07449290e-01\n",
            " 2.72710847e-01 5.56721635e+00 7.16494812e+00 8.75649431e-02\n",
            " 6.43633020e-01 6.27674247e+00 1.97761437e-01]\n",
            "2023-07-22 22:53:08,200 - pyswarms.single.global_best - INFO - Optimize for 32 iters with {'c1': 1.5, 'c2': 1.5, 'w': 0.5}\n",
            "pyswarms.single.global_best: 100%|██████████|32/32, best_cost=-.888\n",
            "2023-07-22 22:53:27,303 - pyswarms.single.global_best - INFO - Optimization finished | best cost: -0.887981496417661, best pos: [7.95822647e+02 1.06449756e-01 8.73688567e-01 7.84759887e-01\n",
            " 3.80950623e-01 5.95540694e+00 1.91076269e+00 3.91818755e-02\n",
            " 9.57461425e-01 1.08536788e+00 6.19893408e-01]\n",
            "2023-07-22 22:53:27,307 - pyswarms.single.global_best - INFO - Optimize for 32 iters with {'c1': 1.5, 'c2': 1.5, 'w': 0.5}\n",
            "pyswarms.single.global_best: 100%|██████████|32/32, best_cost=-.882\n",
            "2023-07-22 22:53:32,086 - pyswarms.single.global_best - INFO - Optimization finished | best cost: -0.8821886332644576, best pos: [1.56128652e+02 6.98844344e-02 6.72465422e-01 7.92289662e-01\n",
            " 2.87074892e-01 8.34662883e+00 4.79417705e+00 3.43516553e-02\n",
            " 2.77048392e-01 6.24581999e+00 7.88192911e-02]\n",
            "2023-07-22 22:53:32,090 - pyswarms.single.global_best - INFO - Optimize for 32 iters with {'c1': 1.5, 'c2': 1.5, 'w': 0.5}\n",
            "pyswarms.single.global_best: 100%|██████████|32/32, best_cost=-.879\n",
            "2023-07-22 22:53:45,276 - pyswarms.single.global_best - INFO - Optimization finished | best cost: -0.8792686130247688, best pos: [7.97222689e+02 3.22198036e-01 8.98070965e-01 8.95897541e-01\n",
            " 3.98362849e-01 3.66319977e+00 5.06576694e+00 6.99585325e-02\n",
            " 3.48462069e-01 7.92160677e+00 6.02183971e-01]\n",
            "2023-07-22 22:53:45,280 - pyswarms.single.global_best - INFO - Optimize for 32 iters with {'c1': 1.5, 'c2': 1.5, 'w': 0.5}\n",
            "pyswarms.single.global_best: 100%|██████████|32/32, best_cost=-.885\n",
            "2023-07-22 22:53:50,099 - pyswarms.single.global_best - INFO - Optimization finished | best cost: -0.8845162904373829, best pos: [1.63856990e+02 3.09134662e-01 8.76645740e-01 9.01823587e-01\n",
            " 2.60772883e-01 7.14943313e+00 1.81680117e+00 5.48277443e-02\n",
            " 4.86566979e-01 3.27572945e+00 3.67474129e-01]\n",
            "2023-07-22 22:53:50,103 - pyswarms.single.global_best - INFO - Optimize for 32 iters with {'c1': 1.5, 'c2': 1.5, 'w': 0.5}\n",
            "pyswarms.single.global_best: 100%|██████████|32/32, best_cost=-.871\n",
            "2023-07-22 22:53:55,904 - pyswarms.single.global_best - INFO - Optimization finished | best cost: -0.8708905965063514, best pos: [3.05779718e+02 5.04123442e-01 7.83720371e-01 7.02918963e-01\n",
            " 3.21518553e-01 6.26615651e+00 5.28140519e+00 5.79228136e-02\n",
            " 4.39257911e-01 2.41826322e+00 4.83224294e-01]\n",
            "2023-07-22 22:53:55,908 - pyswarms.single.global_best - INFO - Optimize for 32 iters with {'c1': 1.5, 'c2': 1.5, 'w': 0.5}\n",
            "pyswarms.single.global_best: 100%|██████████|32/32, best_cost=-.881\n",
            "2023-07-22 22:54:10,748 - pyswarms.single.global_best - INFO - Optimization finished | best cost: -0.8808594239220573, best pos: [8.01156474e+02 1.90585720e-01 9.97870412e-01 8.06552753e-01\n",
            " 2.52622286e-01 6.89733295e+00 5.20401373e+00 7.56682297e-02\n",
            " 8.74598839e-01 5.48903268e+00 8.28117417e-01]\n",
            "2023-07-22 22:54:10,752 - pyswarms.single.global_best - INFO - Optimize for 32 iters with {'c1': 1.5, 'c2': 1.5, 'w': 0.5}\n",
            "pyswarms.single.global_best: 100%|██████████|32/32, best_cost=-.888\n",
            "2023-07-22 22:54:11,528 - pyswarms.single.global_best - INFO - Optimization finished | best cost: -0.8883506275656057, best pos: [12.49147285  0.3975514   0.94202929  0.65895385  0.3534167   5.53951472\n",
            "  4.1401693   0.03938113  0.1003469   1.5073082   0.88665221]\n",
            "2023-07-22 22:54:11,532 - pyswarms.single.global_best - INFO - Optimize for 32 iters with {'c1': 1.5, 'c2': 1.5, 'w': 0.5}\n",
            "pyswarms.single.global_best: 100%|██████████|32/32, best_cost=-.877\n",
            "2023-07-22 22:54:23,925 - pyswarms.single.global_best - INFO - Optimization finished | best cost: -0.8772195605159265, best pos: [7.22728631e+02 3.80207435e-01 9.82416880e-01 7.97644150e-01\n",
            " 4.89406605e-01 3.91187398e+00 3.78587902e+00 5.89432421e-02\n",
            " 4.51392282e-01 6.98120450e+00 5.84129912e-01]\n",
            "2023-07-22 22:54:23,930 - pyswarms.single.global_best - INFO - Optimize for 32 iters with {'c1': 1.5, 'c2': 1.5, 'w': 0.5}\n",
            "pyswarms.single.global_best: 100%|██████████|32/32, best_cost=-.887\n",
            "2023-07-22 22:54:36,529 - pyswarms.single.global_best - INFO - Optimization finished | best cost: -0.8867321450367462, best pos: [2.77180272e+02 3.70895192e-02 9.63394112e-01 9.05118774e-01\n",
            " 4.42733356e-01 9.28157254e+00 1.16415121e+00 4.61459177e-02\n",
            " 9.01033162e-01 7.80303400e+00 7.39389192e-01]\n",
            "2023-07-22 22:54:36,534 - pyswarms.single.global_best - INFO - Optimize for 32 iters with {'c1': 1.5, 'c2': 1.5, 'w': 0.5}\n",
            "pyswarms.single.global_best: 100%|██████████|32/32, best_cost=-.88 \n",
            "2023-07-22 22:54:53,410 - pyswarms.single.global_best - INFO - Optimization finished | best cost: -0.8796814641161512, best pos: [8.04121336e+02 2.09926229e-02 8.53147161e-01 8.38173829e-01\n",
            " 1.10037504e-01 6.21960794e+00 2.49250094e+00 3.05040583e-02\n",
            " 4.17623623e-01 8.71199933e+00 3.14009353e-01]\n",
            "2023-07-22 22:54:53,414 - pyswarms.single.global_best - INFO - Optimize for 32 iters with {'c1': 1.5, 'c2': 1.5, 'w': 0.5}\n",
            "pyswarms.single.global_best: 100%|██████████|32/32, best_cost=-.877\n",
            "2023-07-22 22:55:04,039 - pyswarms.single.global_best - INFO - Optimization finished | best cost: -0.8769767857339883, best pos: [6.32864833e+02 4.46519544e-01 9.20835513e-01 7.65368949e-01\n",
            " 3.93108226e-01 8.79755188e+00 8.16663241e+00 7.76223522e-02\n",
            " 1.46501287e-01 7.06536223e+00 4.88212140e-01]\n",
            "2023-07-22 22:55:04,044 - pyswarms.single.global_best - INFO - Optimize for 32 iters with {'c1': 1.5, 'c2': 1.5, 'w': 0.5}\n",
            "pyswarms.single.global_best: 100%|██████████|32/32, best_cost=-.882\n",
            "2023-07-22 22:55:14,478 - pyswarms.single.global_best - INFO - Optimization finished | best cost: -0.882435602713698, best pos: [6.73414568e+02 3.79728192e-01 9.95425931e-01 7.78306157e-01\n",
            " 2.95231175e-01 3.23650760e+00 3.49172689e+00 5.74752338e-02\n",
            " 1.96404062e-01 4.51091324e+00 8.43048512e-01]\n",
            "2023-07-22 22:55:14,483 - pyswarms.single.global_best - INFO - Optimize for 32 iters with {'c1': 1.5, 'c2': 1.5, 'w': 0.5}\n",
            "pyswarms.single.global_best: 100%|██████████|32/32, best_cost=-.877\n",
            "2023-07-22 22:55:21,122 - pyswarms.single.global_best - INFO - Optimization finished | best cost: -0.8770220112335517, best pos: [3.77103330e+02 5.74944337e-01 7.91447171e-01 6.57294893e-01\n",
            " 3.10092108e-01 9.34127984e+00 6.89744040e+00 2.24196520e-02\n",
            " 7.49935834e-01 7.79677928e+00 2.28967932e-01]\n",
            "2023-07-22 22:55:21,128 - pyswarms.single.global_best - INFO - Optimize for 32 iters with {'c1': 1.5, 'c2': 1.5, 'w': 0.5}\n",
            "pyswarms.single.global_best: 100%|██████████|32/32, best_cost=-.876\n",
            "2023-07-22 22:55:27,392 - pyswarms.single.global_best - INFO - Optimization finished | best cost: -0.8761635318661817, best pos: [3.40345845e+02 3.29505921e-01 6.37040605e-01 7.21340530e-01\n",
            " 3.52110642e-01 4.07340350e+00 7.88779989e+00 7.56429463e-02\n",
            " 2.77249420e-01 7.53448621e+00 2.99715379e-01]\n",
            "2023-07-22 22:55:27,397 - pyswarms.single.global_best - INFO - Optimize for 32 iters with {'c1': 1.5, 'c2': 1.5, 'w': 0.5}\n",
            "pyswarms.single.global_best: 100%|██████████|32/32, best_cost=-.886\n",
            "2023-07-22 22:55:43,838 - pyswarms.single.global_best - INFO - Optimization finished | best cost: -0.8861006941098328, best pos: [8.45244917e+02 2.36083466e-01 8.49374318e-01 6.97726704e-01\n",
            " 1.99714037e-01 9.11110805e+00 1.46135900e+00 2.14368424e-02\n",
            " 8.85510900e-01 3.78339919e+00 5.37505263e-01]\n",
            "2023-07-22 22:55:43,843 - pyswarms.single.global_best - INFO - Optimize for 32 iters with {'c1': 1.5, 'c2': 1.5, 'w': 0.5}\n",
            "pyswarms.single.global_best: 100%|██████████|32/32, best_cost=-.88 \n",
            "2023-07-22 22:55:58,894 - pyswarms.single.global_best - INFO - Optimization finished | best cost: -0.8798267720362094, best pos: [7.77616920e+02 6.03047828e-02 7.53741459e-01 8.64290088e-01\n",
            " 2.23631412e-01 7.99540753e+00 7.27021401e+00 4.35213308e-02\n",
            " 4.30000477e-01 3.48122311e+00 1.52727052e-01]\n",
            "2023-07-22 22:55:58,899 - pyswarms.single.global_best - INFO - Optimize for 32 iters with {'c1': 1.5, 'c2': 1.5, 'w': 0.5}\n",
            "pyswarms.single.global_best: 100%|██████████|32/32, best_cost=-.881\n",
            "2023-07-22 22:56:04,090 - pyswarms.single.global_best - INFO - Optimization finished | best cost: -0.8809653115036671, best pos: [1.90906278e+02 9.96674546e-02 6.59540491e-01 8.89217868e-01\n",
            " 4.56021900e-01 6.01633077e+00 4.72977335e+00 2.22977730e-02\n",
            " 1.83808107e-01 3.40803647e+00 1.36208518e-01]\n",
            "2023-07-22 22:56:04,095 - pyswarms.single.global_best - INFO - Optimize for 32 iters with {'c1': 1.5, 'c2': 1.5, 'w': 0.5}\n",
            "pyswarms.single.global_best: 100%|██████████|32/32, best_cost=-.88 \n",
            "2023-07-22 22:56:22,601 - pyswarms.single.global_best - INFO - Optimization finished | best cost: -0.879577399229583, best pos: [9.42334569e+02 2.00705779e-01 8.69279217e-01 7.83437000e-01\n",
            " 4.52835054e-01 6.53462940e+00 5.11917660e+00 3.58234440e-02\n",
            " 4.67598948e-01 6.97910304e+00 6.82558627e-01]\n",
            "2023-07-22 22:56:22,605 - pyswarms.single.global_best - INFO - Optimize for 32 iters with {'c1': 1.5, 'c2': 1.5, 'w': 0.5}\n",
            "pyswarms.single.global_best: 100%|██████████|32/32, best_cost=-.878\n",
            "2023-07-22 22:56:37,851 - pyswarms.single.global_best - INFO - Optimization finished | best cost: -0.8781490826514531, best pos: [6.66006432e+02 4.77420769e-01 7.94112369e-01 8.84036927e-01\n",
            " 2.84764287e-01 7.92140510e+00 3.76258562e+00 8.62159438e-02\n",
            " 4.59563456e-01 8.11460978e+00 7.67680094e-01]\n",
            "2023-07-22 22:56:37,855 - pyswarms.single.global_best - INFO - Optimize for 32 iters with {'c1': 1.5, 'c2': 1.5, 'w': 0.5}\n",
            "pyswarms.single.global_best: 100%|██████████|32/32, best_cost=-.878\n",
            "2023-07-22 22:56:51,984 - pyswarms.single.global_best - INFO - Optimization finished | best cost: -0.8778234138905215, best pos: [7.57594261e+02 7.35710783e-02 6.98648477e-01 7.58933914e-01\n",
            " 1.95658897e-01 7.83473621e+00 6.73043351e+00 9.11732091e-02\n",
            " 1.67965852e-01 1.68778222e+00 1.95502564e-01]\n",
            "2023-07-22 22:56:51,988 - pyswarms.single.global_best - INFO - Optimize for 32 iters with {'c1': 1.5, 'c2': 1.5, 'w': 0.5}\n",
            "pyswarms.single.global_best: 100%|██████████|32/32, best_cost=-.883\n",
            "2023-07-22 22:56:59,835 - pyswarms.single.global_best - INFO - Optimization finished | best cost: -0.883292343516007, best pos: [3.30129112e+02 1.70158190e-01 9.82272810e-01 6.95370075e-01\n",
            " 2.70654900e-01 7.86109452e+00 5.78510835e+00 1.07735592e-02\n",
            " 4.89596106e-01 7.20370321e+00 4.13270786e-01]\n",
            "2023-07-22 22:56:59,839 - pyswarms.single.global_best - INFO - Optimize for 32 iters with {'c1': 1.5, 'c2': 1.5, 'w': 0.5}\n",
            "pyswarms.single.global_best: 100%|██████████|32/32, best_cost=-.874\n",
            "2023-07-22 22:57:12,463 - pyswarms.single.global_best - INFO - Optimization finished | best cost: -0.874110909170963, best pos: [7.83401765e+02 2.40342899e-01 7.09640414e-01 8.14989236e-01\n",
            " 1.14154848e-01 6.33070320e+00 8.42541753e+00 3.48370862e-02\n",
            " 6.41240127e-01 1.29316392e+00 3.42319874e-01]\n",
            "2023-07-22 22:57:12,467 - pyswarms.single.global_best - INFO - Optimize for 32 iters with {'c1': 1.5, 'c2': 1.5, 'w': 0.5}\n",
            "pyswarms.single.global_best: 100%|██████████|32/32, best_cost=-.882\n",
            "2023-07-22 22:57:20,827 - pyswarms.single.global_best - INFO - Optimization finished | best cost: -0.88157780830823, best pos: [4.37153945e+02 5.27646085e-02 8.59448395e-01 6.46748479e-01\n",
            " 1.58877191e-01 5.39793397e+00 5.44708835e+00 6.82656129e-02\n",
            " 2.67809672e-01 8.37910311e+00 8.54024495e-01]\n",
            "2023-07-22 22:57:20,832 - pyswarms.single.global_best - INFO - Optimize for 32 iters with {'c1': 1.5, 'c2': 1.5, 'w': 0.5}\n",
            "pyswarms.single.global_best: 100%|██████████|32/32, best_cost=-.878\n",
            "2023-07-22 22:57:35,302 - pyswarms.single.global_best - INFO - Optimization finished | best cost: -0.8784006146115445, best pos: [9.73748099e+02 2.05336147e-01 9.00939064e-01 6.44279680e-01\n",
            " 2.30243270e-01 4.89393157e+00 8.95666630e+00 1.68886311e-02\n",
            " 1.12089423e-01 2.11431942e+00 1.71639175e-02]\n",
            "2023-07-22 22:57:35,306 - pyswarms.single.global_best - INFO - Optimize for 32 iters with {'c1': 1.5, 'c2': 1.5, 'w': 0.5}\n",
            "pyswarms.single.global_best: 100%|██████████|32/32, best_cost=-.879\n",
            "2023-07-22 22:57:48,552 - pyswarms.single.global_best - INFO - Optimization finished | best cost: -0.8793402404396643, best pos: [8.67387662e+02 3.03424146e-01 9.16190519e-01 9.41390812e-01\n",
            " 4.26975595e-01 3.34702581e+00 4.74485450e+00 8.42835901e-02\n",
            " 9.56732786e-01 5.62706896e+00 7.75787815e-01]\n",
            "2023-07-22 22:57:48,556 - pyswarms.single.global_best - INFO - Optimize for 32 iters with {'c1': 1.5, 'c2': 1.5, 'w': 0.5}\n",
            "pyswarms.single.global_best: 100%|██████████|32/32, best_cost=-.879\n",
            "2023-07-22 22:57:56,182 - pyswarms.single.global_best - INFO - Optimization finished | best cost: -0.8794835025537706, best pos: [4.07982387e+02 4.23276160e-01 9.10575700e-01 6.86520872e-01\n",
            " 2.62718461e-01 8.40714665e+00 5.88798292e+00 3.30794719e-02\n",
            " 7.81381060e-01 5.67589960e+00 1.68398459e-01]\n",
            "2023-07-22 22:57:56,186 - pyswarms.single.global_best - INFO - Optimize for 32 iters with {'c1': 1.5, 'c2': 1.5, 'w': 0.5}\n",
            "pyswarms.single.global_best: 100%|██████████|32/32, best_cost=-.881\n",
            "2023-07-22 22:57:59,693 - pyswarms.single.global_best - INFO - Optimization finished | best cost: -0.8814354424815868, best pos: [1.81814647e+02 2.68933674e-01 7.68766463e-01 8.36118781e-01\n",
            " 4.92376052e-02 3.12987848e+00 8.15490086e+00 1.91713083e-02\n",
            " 4.78356324e-01 4.35188156e+00 5.79398125e-01]\n",
            "2023-07-22 22:57:59,697 - pyswarms.single.global_best - INFO - Optimize for 32 iters with {'c1': 1.5, 'c2': 1.5, 'w': 0.5}\n",
            "pyswarms.single.global_best: 100%|██████████|32/32, best_cost=-.875\n",
            "2023-07-22 22:58:05,927 - pyswarms.single.global_best - INFO - Optimization finished | best cost: -0.875338823418663, best pos: [2.87465866e+02 5.14937381e-01 8.24978518e-01 8.92551223e-01\n",
            " 1.67098634e-01 5.69172024e+00 3.67461742e+00 8.89695210e-03\n",
            " 3.07383277e-01 7.02417613e+00 3.81990309e-01]\n",
            "2023-07-22 22:58:05,931 - pyswarms.single.global_best - INFO - Optimize for 32 iters with {'c1': 1.5, 'c2': 1.5, 'w': 0.5}\n",
            "pyswarms.single.global_best: 100%|██████████|32/32, best_cost=-.882\n",
            "2023-07-22 22:58:12,814 - pyswarms.single.global_best - INFO - Optimization finished | best cost: -0.8820310772295438, best pos: [1.85091114e+02 5.06864615e-02 8.70316962e-01 7.71648032e-01\n",
            " 3.05603973e-01 8.84879811e+00 4.27625279e+00 1.67963239e-02\n",
            " 2.02393715e-01 9.31560253e+00 6.52680832e-01]\n",
            "2023-07-22 22:58:12,818 - pyswarms.single.global_best - INFO - Optimize for 32 iters with {'c1': 1.5, 'c2': 1.5, 'w': 0.5}\n",
            "pyswarms.single.global_best: 100%|██████████|32/32, best_cost=-.884\n",
            "2023-07-22 22:58:23,387 - pyswarms.single.global_best - INFO - Optimization finished | best cost: -0.8844681722873835, best pos: [4.39388567e+02 2.57294235e-02 8.18704254e-01 8.89679484e-01\n",
            " 2.73040855e-01 4.79689379e+00 2.21764340e+00 7.56256970e-02\n",
            " 5.15479766e-01 7.64959269e+00 6.19085672e-01]\n",
            "2023-07-22 22:58:23,392 - pyswarms.single.global_best - INFO - Optimize for 32 iters with {'c1': 1.5, 'c2': 1.5, 'w': 0.5}\n",
            "pyswarms.single.global_best: 100%|██████████|32/32, best_cost=-.888\n",
            "2023-07-22 22:58:34,711 - pyswarms.single.global_best - INFO - Optimization finished | best cost: -0.888432740209441, best pos: [3.60159456e+02 6.54976609e-02 9.02430376e-01 8.72135527e-01\n",
            " 1.34047923e-01 5.74052114e+00 1.06551498e+00 2.29598828e-02\n",
            " 7.53531526e-01 8.38869737e+00 1.97026698e-01]\n",
            "2023-07-22 22:58:34,714 - pyswarms.single.global_best - INFO - Optimize for 32 iters with {'c1': 1.5, 'c2': 1.5, 'w': 0.5}\n",
            "pyswarms.single.global_best: 100%|██████████|32/32, best_cost=-.883\n",
            "2023-07-22 22:58:42,264 - pyswarms.single.global_best - INFO - Optimization finished | best cost: -0.8827819236996189, best pos: [3.50653306e+02 1.88457543e-01 6.21355166e-01 6.83811557e-01\n",
            " 3.64855438e-01 5.33860981e+00 9.25352506e+00 5.58528606e-02\n",
            " 8.62993124e-01 8.95354595e+00 5.17563662e-01]\n",
            "2023-07-22 22:58:42,268 - pyswarms.single.global_best - INFO - Optimize for 32 iters with {'c1': 1.5, 'c2': 1.5, 'w': 0.5}\n",
            "pyswarms.single.global_best: 100%|██████████|32/32, best_cost=-.89 \n",
            "2023-07-22 22:58:52,460 - pyswarms.single.global_best - INFO - Optimization finished | best cost: -0.8900910370894224, best pos: [5.10821223e+02 2.76585817e-02 8.06180868e-01 8.89830796e-01\n",
            " 2.51408450e-01 6.55554310e+00 6.71540230e+00 3.09311582e-02\n",
            " 5.26362793e-01 2.58030154e+00 5.15374586e-01]\n",
            "2023-07-22 22:58:52,465 - pyswarms.single.global_best - INFO - Optimize for 32 iters with {'c1': 1.5, 'c2': 1.5, 'w': 0.5}\n",
            "pyswarms.single.global_best: 100%|██████████|32/32, best_cost=-.863\n",
            "2023-07-22 22:59:07,592 - pyswarms.single.global_best - INFO - Optimization finished | best cost: -0.8629168538650053, best pos: [9.68911587e+02 4.52198771e-01 7.40059787e-01 8.24302095e-01\n",
            " 2.04062821e-01 7.59447490e+00 5.52648655e+00 5.81854163e-02\n",
            " 1.48099049e-01 1.31092743e+00 2.08206018e-01]\n",
            "2023-07-22 22:59:07,596 - pyswarms.single.global_best - INFO - Optimize for 32 iters with {'c1': 1.5, 'c2': 1.5, 'w': 0.5}\n",
            "pyswarms.single.global_best: 100%|██████████|32/32, best_cost=-.88 \n",
            "2023-07-22 22:59:19,871 - pyswarms.single.global_best - INFO - Optimization finished | best cost: -0.8803033555121905, best pos: [7.31513049e+02 3.72405437e-01 8.04102729e-01 7.74291400e-01\n",
            " 1.26409388e-01 8.66032230e+00 6.66112036e+00 3.95418545e-03\n",
            " 8.45780710e-01 2.22859054e+00 2.22726409e-01]\n",
            "2023-07-22 22:59:19,876 - pyswarms.single.global_best - INFO - Optimize for 32 iters with {'c1': 1.5, 'c2': 1.5, 'w': 0.5}\n",
            "pyswarms.single.global_best: 100%|██████████|32/32, best_cost=-.894\n",
            "2023-07-22 22:59:22,279 - pyswarms.single.global_best - INFO - Optimization finished | best cost: -0.8937533592293198, best pos: [7.58827986e+01 1.90470238e-01 8.61343136e-01 7.86904263e-01\n",
            " 4.38695249e-01 7.93769956e+00 9.19677530e+00 4.73437365e-02\n",
            " 7.50767496e-01 3.68446329e+00 3.60136928e-02]\n",
            "2023-07-22 22:59:22,284 - pyswarms.single.global_best - INFO - Optimize for 32 iters with {'c1': 1.5, 'c2': 1.5, 'w': 0.5}\n",
            "pyswarms.single.global_best: 100%|██████████|32/32, best_cost=-.882\n",
            "2023-07-22 22:59:32,000 - pyswarms.single.global_best - INFO - Optimization finished | best cost: -0.8822638686739961, best pos: [5.41724399e+02 8.17800091e-02 9.23782005e-01 6.31134201e-01\n",
            " 1.01868041e-01 7.87448236e+00 8.55227321e+00 8.60133997e-02\n",
            " 2.51016499e-01 6.89761385e+00 4.53365212e-01]\n",
            "2023-07-22 22:59:32,004 - pyswarms.single.global_best - INFO - Optimize for 32 iters with {'c1': 1.5, 'c2': 1.5, 'w': 0.5}\n",
            "pyswarms.single.global_best: 100%|██████████|32/32, best_cost=-.878\n",
            "2023-07-22 22:59:44,285 - pyswarms.single.global_best - INFO - Optimization finished | best cost: -0.8780770785244147, best pos: [7.91950537e+02 3.66463721e-01 9.41923853e-01 6.41676430e-01\n",
            " 1.08285174e-01 7.29695310e+00 6.44206514e+00 3.92644838e-02\n",
            " 7.46920087e-01 5.12401412e+00 1.78208123e-01]\n",
            "2023-07-22 22:59:44,289 - pyswarms.single.global_best - INFO - Optimize for 32 iters with {'c1': 1.5, 'c2': 1.5, 'w': 0.5}\n",
            "pyswarms.single.global_best: 100%|██████████|32/32, best_cost=-.871\n",
            "2023-07-22 22:59:49,655 - pyswarms.single.global_best - INFO - Optimization finished | best cost: -0.8705522044442876, best pos: [2.51022677e+02 5.30515430e-01 7.41538890e-01 8.75939488e-01\n",
            " 2.55737349e-01 5.19562515e+00 8.24459289e+00 7.21179483e-02\n",
            " 6.16290425e-01 7.89705744e+00 7.44366091e-01]\n",
            "2023-07-22 22:59:49,660 - pyswarms.single.global_best - INFO - Optimize for 32 iters with {'c1': 1.5, 'c2': 1.5, 'w': 0.5}\n",
            "pyswarms.single.global_best: 100%|██████████|32/32, best_cost=-.879\n",
            "2023-07-22 22:59:53,784 - pyswarms.single.global_best - INFO - Optimization finished | best cost: -0.8786351961515407, best pos: [1.73940642e+02 3.69693697e-01 7.66494440e-01 6.87608031e-01\n",
            " 4.28698309e-01 5.92330672e+00 9.57512102e+00 1.87455253e-02\n",
            " 4.75962463e-01 9.30388391e+00 8.51876240e-01]\n",
            "2023-07-22 22:59:53,788 - pyswarms.single.global_best - INFO - Optimize for 32 iters with {'c1': 1.5, 'c2': 1.5, 'w': 0.5}\n",
            "pyswarms.single.global_best: 100%|██████████|32/32, best_cost=-.884\n",
            "2023-07-22 23:00:08,414 - pyswarms.single.global_best - INFO - Optimization finished | best cost: -0.8841465023551558, best pos: [7.20048113e+02 9.19635195e-03 6.98701309e-01 7.45778882e-01\n",
            " 2.20832722e-01 8.45215640e+00 2.83170214e+00 1.04386414e-02\n",
            " 2.60764130e-01 5.99850753e+00 4.05244339e-01]\n",
            "2023-07-22 23:00:08,418 - pyswarms.single.global_best - INFO - Optimize for 32 iters with {'c1': 1.5, 'c2': 1.5, 'w': 0.5}\n",
            "pyswarms.single.global_best: 100%|██████████|32/32, best_cost=-.884\n",
            "2023-07-22 23:00:14,000 - pyswarms.single.global_best - INFO - Optimization finished | best cost: -0.8835057997312546, best pos: [3.36288748e+02 1.36168867e-01 8.47701919e-01 7.62466217e-01\n",
            " 3.32577278e-01 3.16728386e+00 9.17267598e+00 3.87372559e-02\n",
            " 5.64061975e-01 5.98162456e+00 3.69767242e-01]\n",
            "2023-07-22 23:00:14,004 - pyswarms.single.global_best - INFO - Optimize for 32 iters with {'c1': 1.5, 'c2': 1.5, 'w': 0.5}\n",
            "pyswarms.single.global_best: 100%|██████████|32/32, best_cost=-.885\n",
            "2023-07-22 23:00:15,331 - pyswarms.single.global_best - INFO - Optimization finished | best cost: -0.8848733693476369, best pos: [3.83095427e+01 2.94047148e-01 7.95772759e-01 7.70169620e-01\n",
            " 8.49651683e-02 3.74958242e+00 3.03981855e+00 4.52076960e-02\n",
            " 1.15736966e-02 8.24707618e+00 5.74466946e-01]\n",
            "2023-07-22 23:00:15,336 - pyswarms.single.global_best - INFO - Optimize for 32 iters with {'c1': 1.5, 'c2': 1.5, 'w': 0.5}\n",
            "pyswarms.single.global_best: 100%|██████████|32/32, best_cost=-.889\n",
            "2023-07-22 23:00:17,780 - pyswarms.single.global_best - INFO - Optimization finished | best cost: -0.8888996182534218, best pos: [8.46811113e+01 2.25796029e-01 8.14719744e-01 8.86826216e-01\n",
            " 1.56146023e-01 9.03245538e+00 9.10139750e+00 1.60349659e-02\n",
            " 6.03400451e-01 2.20846109e+00 6.03317892e-01]\n",
            "2023-07-22 23:00:17,784 - pyswarms.single.global_best - INFO - Optimize for 32 iters with {'c1': 1.5, 'c2': 1.5, 'w': 0.5}\n",
            "pyswarms.single.global_best: 100%|██████████|32/32, best_cost=-.878\n",
            "2023-07-22 23:00:20,786 - pyswarms.single.global_best - INFO - Optimization finished | best cost: -0.8783366184463262, best pos: [1.09139497e+02 3.61689456e-01 6.93061669e-01 9.49183550e-01\n",
            " 4.92614727e-01 5.95412042e+00 8.96028657e+00 1.70083803e-02\n",
            " 5.08251876e-01 7.87940850e+00 1.92373157e-01]\n",
            "2023-07-22 23:00:20,790 - pyswarms.single.global_best - INFO - Optimize for 32 iters with {'c1': 1.5, 'c2': 1.5, 'w': 0.5}\n",
            "pyswarms.single.global_best: 100%|██████████|32/32, best_cost=-.875\n",
            "2023-07-22 23:00:33,984 - pyswarms.single.global_best - INFO - Optimization finished | best cost: -0.8746805015973319, best pos: [8.14624201e+02 3.58556130e-01 7.99129474e-01 6.04861608e-01\n",
            " 3.87535840e-01 6.48896638e+00 9.36514962e+00 7.07986325e-02\n",
            " 4.00270477e-01 8.75225774e+00 3.93153327e-01]\n",
            "2023-07-22 23:00:33,989 - pyswarms.single.global_best - INFO - Optimize for 32 iters with {'c1': 1.5, 'c2': 1.5, 'w': 0.5}\n",
            "pyswarms.single.global_best: 100%|██████████|32/32, best_cost=-.874\n",
            "2023-07-22 23:00:45,597 - pyswarms.single.global_best - INFO - Optimization finished | best cost: -0.8741222887689185, best pos: [6.94454571e+02 5.46243141e-01 9.00151179e-01 8.14573603e-01\n",
            " 7.49719074e-02 8.23631663e+00 5.02169603e+00 5.24072386e-02\n",
            " 2.67572237e-01 9.17088986e+00 5.73577654e-01]\n",
            "2023-07-22 23:00:45,601 - pyswarms.single.global_best - INFO - Optimize for 32 iters with {'c1': 1.5, 'c2': 1.5, 'w': 0.5}\n",
            "pyswarms.single.global_best: 100%|██████████|32/32, best_cost=-.885\n",
            "2023-07-22 23:00:47,754 - pyswarms.single.global_best - INFO - Optimization finished | best cost: -0.8847311516320288, best pos: [5.56058309e+01 2.47551202e-01 8.89115255e-01 7.07486171e-01\n",
            " 4.75898302e-02 7.38097208e+00 3.91412600e+00 6.08099840e-02\n",
            " 5.41413609e-01 6.87298540e+00 5.56693743e-01]\n",
            "2023-07-22 23:00:47,759 - pyswarms.single.global_best - INFO - Optimize for 32 iters with {'c1': 1.5, 'c2': 1.5, 'w': 0.5}\n",
            "pyswarms.single.global_best: 100%|██████████|32/32, best_cost=-.884\n",
            "2023-07-22 23:00:56,964 - pyswarms.single.global_best - INFO - Optimization finished | best cost: -0.8844332667826617, best pos: [2.98172151e+02 1.18055651e-01 7.88874658e-01 7.31472709e-01\n",
            " 7.69760203e-02 7.80827536e+00 1.05872687e+00 6.10505232e-02\n",
            " 3.68502277e-01 7.46872130e+00 6.14069418e-01]\n",
            "2023-07-22 23:00:56,968 - pyswarms.single.global_best - INFO - Optimize for 32 iters with {'c1': 1.5, 'c2': 1.5, 'w': 0.5}\n",
            "pyswarms.single.global_best: 100%|██████████|32/32, best_cost=-.878\n",
            "2023-07-22 23:01:01,893 - pyswarms.single.global_best - INFO - Optimization finished | best cost: -0.8783343098545506, best pos: [2.04065008e+02 4.65734399e-01 8.34742003e-01 6.70253064e-01\n",
            " 2.12913753e-01 7.16793755e+00 2.63308095e+00 2.06185450e-02\n",
            " 3.01712398e-01 7.56316744e+00 1.38571936e-01]\n",
            "2023-07-22 23:01:01,898 - pyswarms.single.global_best - INFO - Optimize for 32 iters with {'c1': 1.5, 'c2': 1.5, 'w': 0.5}\n",
            "pyswarms.single.global_best: 100%|██████████|32/32, best_cost=-.881\n",
            "2023-07-22 23:01:14,706 - pyswarms.single.global_best - INFO - Optimization finished | best cost: -0.8807750458863947, best pos: [7.36185442e+02 2.16895230e-01 9.77783882e-01 6.35451303e-01\n",
            " 4.78342942e-02 3.53542890e+00 6.72505367e+00 6.64746661e-02\n",
            " 3.51322888e-02 6.95495762e+00 1.99294625e-01]\n",
            "2023-07-22 23:01:14,711 - pyswarms.single.global_best - INFO - Optimize for 32 iters with {'c1': 1.5, 'c2': 1.5, 'w': 0.5}\n",
            "pyswarms.single.global_best: 100%|██████████|32/32, best_cost=-.876\n",
            "2023-07-22 23:01:21,722 - pyswarms.single.global_best - INFO - Optimization finished | best cost: -0.8756179834474309, best pos: [3.48759594e+02 4.26931542e-01 9.16792550e-01 8.83848241e-01\n",
            " 2.03585148e-01 9.80899964e+00 8.49814092e+00 8.08828953e-02\n",
            " 1.34064381e-01 3.83654822e+00 6.51760490e-02]\n",
            "2023-07-22 23:01:21,727 - pyswarms.single.global_best - INFO - Optimize for 32 iters with {'c1': 1.5, 'c2': 1.5, 'w': 0.5}\n",
            "pyswarms.single.global_best: 100%|██████████|32/32, best_cost=-.882\n",
            "2023-07-22 23:01:40,842 - pyswarms.single.global_best - INFO - Optimization finished | best cost: -0.8822948548931224, best pos: [7.78012801e+02 1.26888490e-01 9.41061602e-01 7.57817191e-01\n",
            " 3.00814139e-01 9.21349232e+00 2.59474199e+00 6.24719046e-02\n",
            " 9.26076631e-01 9.93712113e+00 9.35273306e-01]\n",
            "2023-07-22 23:01:40,847 - pyswarms.single.global_best - INFO - Optimize for 32 iters with {'c1': 1.5, 'c2': 1.5, 'w': 0.5}\n",
            "pyswarms.single.global_best: 100%|██████████|32/32, best_cost=-.88 \n",
            "2023-07-22 23:01:53,487 - pyswarms.single.global_best - INFO - Optimization finished | best cost: -0.879561497866376, best pos: [7.47679388e+02 2.43289788e-01 9.99133786e-01 7.28281968e-01\n",
            " 2.31147009e-01 9.50931081e+00 9.35836934e+00 2.29875057e-03\n",
            " 6.64133351e-01 4.63138260e+00 1.91653848e-01]\n",
            "2023-07-22 23:01:53,491 - pyswarms.single.global_best - INFO - Optimize for 32 iters with {'c1': 1.5, 'c2': 1.5, 'w': 0.5}\n",
            "pyswarms.single.global_best: 100%|██████████|32/32, best_cost=-.891\n",
            "2023-07-22 23:01:55,402 - pyswarms.single.global_best - INFO - Optimization finished | best cost: -0.8914541726656429, best pos: [5.93215929e+01 9.76240042e-02 7.85346429e-01 7.32879992e-01\n",
            " 2.80394998e-01 9.38125707e+00 6.30068555e+00 4.18583863e-02\n",
            " 1.60855853e-01 1.83919509e+00 2.75406775e-01]\n",
            "2023-07-22 23:01:55,407 - pyswarms.single.global_best - INFO - Optimize for 32 iters with {'c1': 1.5, 'c2': 1.5, 'w': 0.5}\n",
            "pyswarms.single.global_best: 100%|██████████|32/32, best_cost=-.885\n",
            "2023-07-22 23:02:12,894 - pyswarms.single.global_best - INFO - Optimization finished | best cost: -0.8846951916329099, best pos: [7.27345961e+02 8.78221671e-02 7.97500511e-01 8.41335690e-01\n",
            " 1.97582544e-01 8.53294784e+00 1.85606893e+00 4.68463198e-02\n",
            " 4.76509949e-01 7.41819544e+00 5.83078481e-02]\n",
            "2023-07-22 23:02:12,898 - pyswarms.single.global_best - INFO - Optimize for 32 iters with {'c1': 1.5, 'c2': 1.5, 'w': 0.5}\n",
            "pyswarms.single.global_best: 100%|██████████|32/32, best_cost=-.878\n",
            "2023-07-22 23:02:16,804 - pyswarms.single.global_best - INFO - Optimization finished | best cost: -0.8775851754424648, best pos: [1.35260347e+02 3.01766993e-01 7.48298185e-01 9.19097086e-01\n",
            " 2.12904521e-01 9.11249076e+00 7.43219402e+00 4.87584313e-02\n",
            " 2.60406751e-01 6.63142096e+00 6.68823513e-01]\n",
            "2023-07-22 23:02:16,809 - pyswarms.single.global_best - INFO - Optimize for 32 iters with {'c1': 1.5, 'c2': 1.5, 'w': 0.5}\n",
            "pyswarms.single.global_best: 100%|██████████|32/32, best_cost=-.882\n",
            "2023-07-22 23:02:23,554 - pyswarms.single.global_best - INFO - Optimization finished | best cost: -0.8815382072953698, best pos: [3.02336918e+02 2.59967187e-01 7.23463235e-01 8.71822910e-01\n",
            " 2.76839088e-01 5.12967488e+00 4.91442394e+00 2.60142627e-02\n",
            " 4.14613531e-01 2.60363916e+00 3.04595640e-01]\n",
            "2023-07-22 23:02:23,559 - pyswarms.single.global_best - INFO - Optimize for 32 iters with {'c1': 1.5, 'c2': 1.5, 'w': 0.5}\n",
            "pyswarms.single.global_best: 100%|██████████|32/32, best_cost=-.88 \n",
            "2023-07-22 23:02:34,846 - pyswarms.single.global_best - INFO - Optimization finished | best cost: -0.8801344188844192, best pos: [6.53495310e+02 1.93844260e-01 7.08583196e-01 8.27679780e-01\n",
            " 1.23097390e-01 3.75444093e+00 8.76242233e+00 1.02168737e-02\n",
            " 1.90852840e-01 2.51341291e+00 5.58860362e-01]\n",
            "2023-07-22 23:02:34,851 - pyswarms.single.global_best - INFO - Optimize for 32 iters with {'c1': 1.5, 'c2': 1.5, 'w': 0.5}\n",
            "pyswarms.single.global_best: 100%|██████████|32/32, best_cost=-.881\n",
            "2023-07-22 23:02:50,572 - pyswarms.single.global_best - INFO - Optimization finished | best cost: -0.8807839401022168, best pos: [9.71142868e+02 3.38710030e-01 8.89928607e-01 6.52896553e-01\n",
            " 2.70233092e-01 4.18923001e+00 1.65401804e+00 5.87442537e-02\n",
            " 3.44417879e-01 1.42609490e+00 5.45049321e-01]\n",
            "2023-07-22 23:02:50,576 - pyswarms.single.global_best - INFO - Optimize for 32 iters with {'c1': 1.5, 'c2': 1.5, 'w': 0.5}\n",
            "pyswarms.single.global_best: 100%|██████████|32/32, best_cost=-.888\n",
            "2023-07-22 23:02:54,407 - pyswarms.single.global_best - INFO - Optimization finished | best cost: -0.8876742082582106, best pos: [9.41724049e+01 8.37907319e-02 7.83365501e-01 9.63461357e-01\n",
            " 3.70731905e-01 5.88065761e+00 1.43621625e+00 4.61791094e-02\n",
            " 4.19756364e-01 3.48500360e+00 4.91526836e-01]\n",
            "2023-07-22 23:02:54,411 - pyswarms.single.global_best - INFO - Optimize for 32 iters with {'c1': 1.5, 'c2': 1.5, 'w': 0.5}\n",
            "pyswarms.single.global_best: 100%|██████████|32/32, best_cost=-.875\n",
            "2023-07-22 23:03:06,437 - pyswarms.single.global_best - INFO - Optimization finished | best cost: -0.8754192666825377, best pos: [6.94982541e+02 2.37475759e-01 7.96934958e-01 8.16341356e-01\n",
            " 3.19376959e-01 5.82125946e+00 9.05436751e+00 3.70788359e-02\n",
            " 4.22169528e-01 2.34090998e+00 5.16754766e-01]\n",
            "2023-07-22 23:03:06,441 - pyswarms.single.global_best - INFO - Optimize for 32 iters with {'c1': 1.5, 'c2': 1.5, 'w': 0.5}\n",
            "pyswarms.single.global_best: 100%|██████████|32/32, best_cost=-.889\n",
            "2023-07-22 23:03:28,182 - pyswarms.single.global_best - INFO - Optimization finished | best cost: -0.8890109364554795, best pos: [6.78207631e+02 3.58433718e-02 7.92784426e-01 9.38305881e-01\n",
            " 1.68029640e-01 7.77651098e+00 3.40919334e+00 4.85645565e-02\n",
            " 2.55570107e-01 2.03128667e+00 3.30754891e-01]\n",
            "2023-07-22 23:03:28,186 - pyswarms.single.global_best - INFO - Optimize for 32 iters with {'c1': 1.5, 'c2': 1.5, 'w': 0.5}\n",
            "pyswarms.single.global_best: 100%|██████████|32/32, best_cost=-.887\n",
            "2023-07-22 23:03:33,489 - pyswarms.single.global_best - INFO - Optimization finished | best cost: -0.8865170380693014, best pos: [1.86563407e+02 8.12138467e-02 8.69681238e-01 7.59425197e-01\n",
            " 2.74842715e-01 7.77930707e+00 4.48340812e+00 7.41444409e-02\n",
            " 1.45347009e-01 4.29283890e+00 4.56461123e-01]\n",
            "2023-07-22 23:03:33,493 - pyswarms.single.global_best - INFO - Optimize for 32 iters with {'c1': 1.5, 'c2': 1.5, 'w': 0.5}\n",
            "pyswarms.single.global_best: 100%|██████████|32/32, best_cost=-.875\n",
            "2023-07-22 23:03:50,406 - pyswarms.single.global_best - INFO - Optimization finished | best cost: -0.8754658659030815, best pos: [9.44772445e+02 2.42615290e-01 7.01828986e-01 8.17253669e-01\n",
            " 4.28074045e-01 3.81135109e+00 4.48648100e+00 8.27686600e-02\n",
            " 7.26104703e-01 9.20907547e+00 5.44788930e-01]\n",
            "2023-07-22 23:03:50,410 - pyswarms.single.global_best - INFO - Optimize for 32 iters with {'c1': 1.5, 'c2': 1.5, 'w': 0.5}\n",
            "pyswarms.single.global_best: 100%|██████████|32/32, best_cost=-.883\n",
            "2023-07-22 23:04:07,875 - pyswarms.single.global_best - INFO - Optimization finished | best cost: -0.8831732899373032, best pos: [8.41591331e+02 2.60904805e-01 8.34499987e-01 8.31750894e-01\n",
            " 1.02945081e-01 8.47989045e+00 2.31410485e+00 5.93427469e-02\n",
            " 7.78765743e-01 6.05114946e+00 7.52878291e-01]\n",
            "2023-07-22 23:04:07,879 - pyswarms.single.global_best - INFO - Optimize for 32 iters with {'c1': 1.5, 'c2': 1.5, 'w': 0.5}\n",
            "pyswarms.single.global_best: 100%|██████████|32/32, best_cost=-.877\n",
            "2023-07-22 23:04:16,164 - pyswarms.single.global_best - INFO - Optimization finished | best cost: -0.8769033316682184, best pos: [4.23775278e+02 2.32863466e-01 7.14796626e-01 6.48701261e-01\n",
            " 1.10801909e-01 4.95966202e+00 5.11703076e+00 1.71931236e-02\n",
            " 3.65891650e-01 2.16095461e+00 8.06605656e-01]\n"
          ]
        }
      ],
      "source": [
        "for i in range(100):\n",
        "    swarm_size = 32\n",
        "    iters = 32\n",
        "    dim = 11\n",
        "    options = {'c1': 1.5, 'c2':1.5, 'w':0.5}\n",
        "    constraints = (xl,xu)\n",
        "\n",
        "    optimizer = ps.single.GlobalBestPSO(n_particles=swarm_size,\n",
        "                                        dimensions=dim,\n",
        "                                        options=options,\n",
        "                                        bounds=constraints)\n",
        "    cost, joint_vars = optimizer.optimize(objective_func = PSO_Optimize_F1, iters=iters)\n",
        "    \n",
        "    pso_cost_hist.append(optimizer.cost_history)"
      ]
    },
    {
      "cell_type": "code",
      "execution_count": 231,
      "metadata": {},
      "outputs": [],
      "source": [
        "mean_list = []\n",
        "for i in range(32):\n",
        "    sum_values = 0\n",
        "    for j in range(100):\n",
        "        sum_values += -pso_cost_hist[j][i]\n",
        "    mean_list.append(sum_values/100)"
      ]
    },
    {
      "cell_type": "code",
      "execution_count": 232,
      "metadata": {},
      "outputs": [
        {
          "data": {
            "text/plain": [
              "32"
            ]
          },
          "execution_count": 232,
          "metadata": {},
          "output_type": "execute_result"
        }
      ],
      "source": [
        "len(mean_list)"
      ]
    },
    {
      "cell_type": "code",
      "execution_count": 233,
      "metadata": {},
      "outputs": [
        {
          "data": {
            "text/plain": [
              "[<matplotlib.lines.Line2D at 0x2178ac77590>]"
            ]
          },
          "execution_count": 233,
          "metadata": {},
          "output_type": "execute_result"
        },
        {
          "data": {
            "image/png": "[encoded data removed]",
            "text/plain": [
              "<Figure size 640x480 with 1 Axes>"
            ]
          },
          "metadata": {},
          "output_type": "display_data"
        }
      ],
      "source": [
        "import matplotlib.pyplot as plt \n",
        "plt.plot(mean_list)"
      ]
    },
    {
      "cell_type": "code",
      "execution_count": 234,
      "metadata": {},
      "outputs": [
        {
          "name": "stderr",
          "output_type": "stream",
          "text": [
            "C:\\Users\\Felps\\AppData\\Local\\Temp\\ipykernel_8744\\1421991478.py:5: DeprecationWarning: Call to deprecated function (or staticmethod) get_termination. (Please use `from pymoo.termination import get_termination`)\n",
            "  term = get_termination(\"n_gen\", ITERATIONS)\n",
            "  0%|          | 0/32 [3:08:49<?, ?it/s]\n",
            "  0%|          | 0/32 [02:02<?, ?it/s]\n",
            "  0%|          | 0/32 [02:10<?, ?it/s]\n",
            "  0%|          | 0/32 [01:50<?, ?it/s]\n",
            "  0%|          | 0/32 [01:08<?, ?it/s]\n",
            "  0%|          | 0/32 [01:02<?, ?it/s]\n",
            "  0%|          | 0/32 [02:43<?, ?it/s]\n",
            "  0%|          | 0/32 [02:03<?, ?it/s]\n",
            "  0%|          | 0/32 [01:14<?, ?it/s]\n",
            "  0%|          | 0/32 [02:51<?, ?it/s]\n",
            "  0%|          | 0/32 [02:18<?, ?it/s]\n",
            "  0%|          | 0/32 [01:15<?, ?it/s]\n",
            "  0%|          | 0/32 [01:30<?, ?it/s]\n",
            "  0%|          | 0/32 [02:16<?, ?it/s]\n",
            "  0%|          | 0/32 [03:28<?, ?it/s]\n",
            "  0%|          | 0/32 [01:14<?, ?it/s]\n",
            "  0%|          | 0/32 [01:17<?, ?it/s]\n",
            "  0%|          | 0/32 [01:36<?, ?it/s]\n",
            "  0%|          | 0/32 [00:39<?, ?it/s]\n",
            "  0%|          | 0/32 [02:32<?, ?it/s]\n",
            "  0%|          | 0/32 [02:00<?, ?it/s]\n",
            "  0%|          | 0/32 [02:26<?, ?it/s]\n",
            "  0%|          | 0/32 [02:54<?, ?it/s]\n",
            "  0%|          | 0/32 [02:24<?, ?it/s]\n",
            "  0%|          | 0/32 [01:34<?, ?it/s]\n",
            "  0%|          | 0/32 [02:34<?, ?it/s]\n",
            "  0%|          | 0/32 [02:33<?, ?it/s]\n",
            "  0%|          | 0/32 [02:02<?, ?it/s]\n",
            "  0%|          | 0/32 [01:34<?, ?it/s]\n",
            "  0%|          | 0/32 [01:55<?, ?it/s]\n",
            "  0%|          | 0/32 [01:58<?, ?it/s]\n",
            "  0%|          | 0/32 [01:23<?, ?it/s]\n",
            "  0%|          | 0/32 [01:34<?, ?it/s]\n",
            "  0%|          | 0/32 [03:58<?, ?it/s]\n",
            "  0%|          | 0/32 [02:03<?, ?it/s]\n",
            "  0%|          | 0/32 [01:07<?, ?it/s]\n",
            "  0%|          | 0/32 [02:19<?, ?it/s]\n",
            "  0%|          | 0/32 [01:40<?, ?it/s]\n",
            "  0%|          | 0/32 [01:50<?, ?it/s]\n",
            "  0%|          | 0/32 [01:15<?, ?it/s]\n",
            "  0%|          | 0/32 [00:43<?, ?it/s]\n",
            "  0%|          | 0/32 [04:09<?, ?it/s]\n",
            "  0%|          | 0/32 [02:00<?, ?it/s]\n",
            "  0%|          | 0/32 [02:08<?, ?it/s]\n",
            "  0%|          | 0/32 [01:24<?, ?it/s]\n",
            "  0%|          | 0/32 [01:25<?, ?it/s]\n",
            "  0%|          | 0/32 [01:37<?, ?it/s]\n",
            "  0%|          | 0/32 [01:37<?, ?it/s]\n",
            "  0%|          | 0/32 [02:07<?, ?it/s]\n",
            "  0%|          | 0/32 [01:09<?, ?it/s]\n",
            "  0%|          | 0/32 [01:29<?, ?it/s]\n",
            "  0%|          | 0/32 [01:31<?, ?it/s]\n",
            "  0%|          | 0/32 [01:30<?, ?it/s]\n",
            "  0%|          | 0/32 [01:00<?, ?it/s]\n",
            "  0%|          | 0/32 [03:12<?, ?it/s]\n",
            "  0%|          | 0/32 [02:26<?, ?it/s]\n",
            "  0%|          | 0/32 [01:51<?, ?it/s]\n",
            "  0%|          | 0/32 [02:05<?, ?it/s]\n",
            "  0%|          | 0/32 [01:20<?, ?it/s]\n",
            "  0%|          | 0/32 [03:04<?, ?it/s]\n",
            "  0%|          | 0/32 [01:39<?, ?it/s]\n",
            "  0%|          | 0/32 [01:14<?, ?it/s]\n",
            "  0%|          | 0/32 [02:46<?, ?it/s]\n",
            "  0%|          | 0/32 [03:08<?, ?it/s]\n",
            "  0%|          | 0/32 [03:34<?, ?it/s]\n",
            "  0%|          | 0/32 [03:29<?, ?it/s]\n",
            "  0%|          | 0/32 [01:29<?, ?it/s]\n",
            "  0%|          | 0/32 [01:21<?, ?it/s]\n",
            "  0%|          | 0/32 [01:21<?, ?it/s]\n",
            "  0%|          | 0/32 [01:29<?, ?it/s]\n",
            "  0%|          | 0/32 [02:32<?, ?it/s]\n",
            "  0%|          | 0/32 [03:37<?, ?it/s]\n",
            "  0%|          | 0/32 [01:07<?, ?it/s]\n",
            "  0%|          | 0/32 [03:12<?, ?it/s]\n",
            "  0%|          | 0/32 [01:57<?, ?it/s]\n",
            "  0%|          | 0/32 [01:33<?, ?it/s]\n",
            "  0%|          | 0/32 [02:19<?, ?it/s]\n",
            "  0%|          | 0/32 [01:42<?, ?it/s]\n",
            "  0%|          | 0/32 [01:48<?, ?it/s]\n",
            "  0%|          | 0/32 [01:38<?, ?it/s]\n",
            "  0%|          | 0/32 [01:35<?, ?it/s]\n",
            "  0%|          | 0/32 [03:11<?, ?it/s]\n",
            "  0%|          | 0/32 [03:19<?, ?it/s]\n",
            "  0%|          | 0/32 [03:37<?, ?it/s]\n",
            "  0%|          | 0/32 [01:47<?, ?it/s]\n",
            "  0%|          | 0/32 [01:52<?, ?it/s]\n",
            "  0%|          | 0/32 [01:55<?, ?it/s]\n",
            "  0%|          | 0/32 [01:33<?, ?it/s]\n",
            "  0%|          | 0/32 [01:17<?, ?it/s]\n",
            "  0%|          | 0/32 [01:52<?, ?it/s]\n",
            "  0%|          | 0/32 [02:47<?, ?it/s]\n",
            "  0%|          | 0/32 [01:24<?, ?it/s]\n",
            "  0%|          | 0/32 [01:08<?, ?it/s]\n",
            "  0%|          | 0/32 [01:47<?, ?it/s]\n",
            "  0%|          | 0/32 [02:05<?, ?it/s]\n",
            "  0%|          | 0/32 [03:01<?, ?it/s]\n",
            "  0%|          | 0/32 [01:43<?, ?it/s]\n",
            "  0%|          | 0/32 [01:10<?, ?it/s]\n",
            "  0%|          | 0/32 [01:36<?, ?it/s]\n",
            "  0%|          | 0/32 [02:38<?, ?it/s]\n"
          ]
        }
      ],
      "source": [
        "ga_cost_hist = []\n",
        "for run in range(100):\n",
        "  score_best_individual, parameters_best_individual, res = run_f1_ga(ITERATIONS = 32, POPULATION = 32)\n",
        "\n",
        "  trlist = np.array([])\n",
        "  for i in range(len(res.history)):\n",
        "    trlist = np.append(trlist, -res.history[i].pop.get('F').reshape(-1)) \n",
        "    \n",
        "  scorelist = []\n",
        "\n",
        "  for i in range(len(trlist)):\n",
        "  #for i in range(1):\n",
        "    if i == 0:\n",
        "      scorelist.append(trlist[i])\n",
        "    elif trlist[i] > scorelist[i-1]:\n",
        "      scorelist.append(trlist[i])\n",
        "    else:\n",
        "      scorelist.append(scorelist[i-1])\n",
        "    \n",
        "  ga_cost_hist.append(scorelist)"
      ]
    },
    {
      "cell_type": "code",
      "execution_count": 235,
      "metadata": {},
      "outputs": [],
      "source": [
        "ga_mean_list = []\n",
        "for i in range(32):\n",
        "    sum_values = 0\n",
        "    for j in range(100):\n",
        "        sum_values += -ga_cost_hist[j][i]\n",
        "    ga_mean_list.append(sum_values/100)"
      ]
    },
    {
      "cell_type": "code",
      "execution_count": 241,
      "metadata": {},
      "outputs": [
        {
          "data": {
            "text/plain": [
              "[0.8491262572350705,\n",
              " 0.8722502802605159,\n",
              " 0.8736990903799096,\n",
              " 0.8757233461559529,\n",
              " 0.8768083254279709,\n",
              " 0.8777780368570757,\n",
              " 0.8785217719190352,\n",
              " 0.8791148964605969,\n",
              " 0.8796408535240329,\n",
              " 0.8799530317442317,\n",
              " 0.8802628178579055,\n",
              " 0.8806464226254921,\n",
              " 0.8809643874742143,\n",
              " 0.8815296548359101,\n",
              " 0.8815935773481055,\n",
              " 0.8817484710026575,\n",
              " 0.8819065456933042,\n",
              " 0.8819929515330593,\n",
              " 0.8822036223136956,\n",
              " 0.8825896673826986,\n",
              " 0.8826769677953594,\n",
              " 0.8827796555339681,\n",
              " 0.8829908917930674,\n",
              " 0.8829990303908741,\n",
              " 0.8830638311751585,\n",
              " 0.88340917550198,\n",
              " 0.883529388772862,\n",
              " 0.8837235666077322,\n",
              " 0.8838430048526792,\n",
              " 0.884051474709576,\n",
              " 0.8842412209525824,\n",
              " 0.8843628455191092]"
            ]
          },
          "execution_count": 241,
          "metadata": {},
          "output_type": "execute_result"
        }
      ],
      "source": [
        "newlist = [-i for i in ga_mean_list]\n",
        "newlist"
      ]
    },
    {
      "cell_type": "code",
      "execution_count": 242,
      "metadata": {},
      "outputs": [
        {
          "data": {
            "text/plain": [
              "[<matplotlib.lines.Line2D at 0x2178b32fdd0>]"
            ]
          },
          "execution_count": 242,
          "metadata": {},
          "output_type": "execute_result"
        },
        {
          "data": {
            "image/png": "[encoded data removed]",
            "text/plain": [
              "<Figure size 640x480 with 1 Axes>"
            ]
          },
          "metadata": {},
          "output_type": "display_data"
        }
      ],
      "source": [
        "\n",
        "plt.plot(newlist)"
      ]
    },
    {
      "cell_type": "code",
      "execution_count": 254,
      "metadata": {},
      "outputs": [
        {
          "data": {
            "image/png": "[encoded data removed]",
            "text/plain": [
              "<Figure size 1200x600 with 1 Axes>"
            ]
          },
          "metadata": {},
          "output_type": "display_data"
        }
      ],
      "source": [
        "from IPython.core.pylabtools import figsize\n",
        "from matplotlib.pyplot import figure\n",
        "import matplotlib.patches as mpatches\n",
        "import matplotlib.pyplot as plt\n",
        "\n",
        "plt.figure(figsize=(12, 6))\n",
        "red_patch = mpatches.Patch(color='red', label='PSO')\n",
        "blue_patch = mpatches.Patch(color='blue', label='GA')\n",
        "\n",
        "plt.legend(handles=[red_patch, blue_patch])\n",
        "plt.plot(newlist, color='blue', linewidth=1, linestyle='-')\n",
        "plt.plot(mean_list, color='red', linewidth=1, linestyle='-')\n",
        "\n",
        "# Add the title to the plot\n",
        "plt.title('PSO vs GA')\n",
        "# Add x-label and y-label\n",
        "plt.ylabel('F1 Score')\n",
        "plt.xlabel('Gerações')\n",
        "plt.savefig('pso_vs_ga_plot_1.pdf')\n",
        "\n",
        "plt.show()\n"
      ]
    }
  ],
  "metadata": {
    "colab": {
      "collapsed_sections": [
        "_HsPc7BH-MWL",
        "iTAAhn6w-Be4",
        "F-WtiEIO0kFu",
        "vA6kphUO0vcT"
      ],
      "provenance": []
    },
    "kernelspec": {
      "display_name": "Python 3",
      "language": "python",
      "name": "python3"
    },
    "language_info": {
      "codemirror_mode": {
        "name": "ipython",
        "version": 3
      },
      "file_extension": ".py",
      "mimetype": "text/x-python",
      "name": "python",
      "nbconvert_exporter": "python",
      "pygments_lexer": "ipython3",
      "version": "3.11.3"
    },
    "vscode": {
      "interpreter": {
        "hash": "8149941357ab46e91af0255cc46a7a09aaccc03c1980a89f638a5973ac5bc49f"
      }
    },
    "widgets": {
      "application/vnd.jupyter.widget-state+json": {
        "01d3490253a8464281845cb171385d59": {
          "model_module": "@jupyter-widgets/controls",
          "model_module_version": "1.5.0",
          "model_name": "DescriptionStyleModel",
          "state": {
            "_model_module": "@jupyter-widgets/controls",
            "_model_module_version": "1.5.0",
            "_model_name": "DescriptionStyleModel",
            "_view_count": null,
            "_view_module": "@jupyter-widgets/base",
            "_view_module_version": "1.2.0",
            "_view_name": "StyleView",
            "description_width": ""
          }
        },
        "12434838d89048188eefe1af0332bfd6": {
          "model_module": "@jupyter-widgets/controls",
          "model_module_version": "1.5.0",
          "model_name": "HBoxModel",
          "state": {
            "_dom_classes": [],
            "_model_module": "@jupyter-widgets/controls",
            "_model_module_version": "1.5.0",
            "_model_name": "HBoxModel",
            "_view_count": null,
            "_view_module": "@jupyter-widgets/controls",
            "_view_module_version": "1.5.0",
            "_view_name": "HBoxView",
            "box_style": "",
            "children": [
              "IPY_MODEL_b6288aa156624b108015ab993c54d52b",
              "IPY_MODEL_f45e5f0d4187404fb8f63acd3c26fe17",
              "IPY_MODEL_aaa16b6dbffd42ef973b1826e5ed2242"
            ],
            "layout": "IPY_MODEL_8721e5217b97444d948e5b85c6fd53c7"
          }
        },
        "124e5b4b5b3344f4abdc93628b112d8f": {
          "model_module": "@jupyter-widgets/controls",
          "model_module_version": "1.5.0",
          "model_name": "DescriptionStyleModel",
          "state": {
            "_model_module": "@jupyter-widgets/controls",
            "_model_module_version": "1.5.0",
            "_model_name": "DescriptionStyleModel",
            "_view_count": null,
            "_view_module": "@jupyter-widgets/base",
            "_view_module_version": "1.2.0",
            "_view_name": "StyleView",
            "description_width": ""
          }
        },
        "1614757884124ed487149ebed485833f": {
          "model_module": "@jupyter-widgets/base",
          "model_module_version": "1.2.0",
          "model_name": "LayoutModel",
          "state": {
            "_model_module": "@jupyter-widgets/base",
            "_model_module_version": "1.2.0",
            "_model_name": "LayoutModel",
            "_view_count": null,
            "_view_module": "@jupyter-widgets/base",
            "_view_module_version": "1.2.0",
            "_view_name": "LayoutView",
            "align_content": null,
            "align_items": null,
            "align_self": null,
            "border": null,
            "bottom": null,
            "display": null,
            "flex": null,
            "flex_flow": null,
            "grid_area": null,
            "grid_auto_columns": null,
            "grid_auto_flow": null,
            "grid_auto_rows": null,
            "grid_column": null,
            "grid_gap": null,
            "grid_row": null,
            "grid_template_areas": null,
            "grid_template_columns": null,
            "grid_template_rows": null,
            "height": null,
            "justify_content": null,
            "justify_items": null,
            "left": null,
            "margin": null,
            "max_height": null,
            "max_width": null,
            "min_height": null,
            "min_width": null,
            "object_fit": null,
            "object_position": null,
            "order": null,
            "overflow": null,
            "overflow_x": null,
            "overflow_y": null,
            "padding": null,
            "right": null,
            "top": null,
            "visibility": null,
            "width": null
          }
        },
        "1a32143976c744e5a388d7b343e7c054": {
          "model_module": "@jupyter-widgets/controls",
          "model_module_version": "1.5.0",
          "model_name": "DescriptionStyleModel",
          "state": {
            "_model_module": "@jupyter-widgets/controls",
            "_model_module_version": "1.5.0",
            "_model_name": "DescriptionStyleModel",
            "_view_count": null,
            "_view_module": "@jupyter-widgets/base",
            "_view_module_version": "1.2.0",
            "_view_name": "StyleView",
            "description_width": ""
          }
        },
        "20a38960e7374ab594f04f4b1c5e2321": {
          "model_module": "@jupyter-widgets/controls",
          "model_module_version": "1.5.0",
          "model_name": "HTMLModel",
          "state": {
            "_dom_classes": [],
            "_model_module": "@jupyter-widgets/controls",
            "_model_module_version": "1.5.0",
            "_model_name": "HTMLModel",
            "_view_count": null,
            "_view_module": "@jupyter-widgets/controls",
            "_view_module_version": "1.5.0",
            "_view_name": "HTMLView",
            "description": "",
            "description_tooltip": null,
            "layout": "IPY_MODEL_6f29547455ac4adb8edaa11d5839f5cb",
            "placeholder": "​",
            "style": "IPY_MODEL_1a32143976c744e5a388d7b343e7c054",
            "value": "100%"
          }
        },
        "54cbbc7ffbcc401abfbf3167f882019e": {
          "model_module": "@jupyter-widgets/controls",
          "model_module_version": "1.5.0",
          "model_name": "ProgressStyleModel",
          "state": {
            "_model_module": "@jupyter-widgets/controls",
            "_model_module_version": "1.5.0",
            "_model_name": "ProgressStyleModel",
            "_view_count": null,
            "_view_module": "@jupyter-widgets/base",
            "_view_module_version": "1.2.0",
            "_view_name": "StyleView",
            "bar_color": null,
            "description_width": ""
          }
        },
        "6f124da663194ac0b073ab7a3fb168c3": {
          "model_module": "@jupyter-widgets/controls",
          "model_module_version": "1.5.0",
          "model_name": "ProgressStyleModel",
          "state": {
            "_model_module": "@jupyter-widgets/controls",
            "_model_module_version": "1.5.0",
            "_model_name": "ProgressStyleModel",
            "_view_count": null,
            "_view_module": "@jupyter-widgets/base",
            "_view_module_version": "1.2.0",
            "_view_name": "StyleView",
            "bar_color": null,
            "description_width": ""
          }
        },
        "6f29547455ac4adb8edaa11d5839f5cb": {
          "model_module": "@jupyter-widgets/base",
          "model_module_version": "1.2.0",
          "model_name": "LayoutModel",
          "state": {
            "_model_module": "@jupyter-widgets/base",
            "_model_module_version": "1.2.0",
            "_model_name": "LayoutModel",
            "_view_count": null,
            "_view_module": "@jupyter-widgets/base",
            "_view_module_version": "1.2.0",
            "_view_name": "LayoutView",
            "align_content": null,
            "align_items": null,
            "align_self": null,
            "border": null,
            "bottom": null,
            "display": null,
            "flex": null,
            "flex_flow": null,
            "grid_area": null,
            "grid_auto_columns": null,
            "grid_auto_flow": null,
            "grid_auto_rows": null,
            "grid_column": null,
            "grid_gap": null,
            "grid_row": null,
            "grid_template_areas": null,
            "grid_template_columns": null,
            "grid_template_rows": null,
            "height": null,
            "justify_content": null,
            "justify_items": null,
            "left": null,
            "margin": null,
            "max_height": null,
            "max_width": null,
            "min_height": null,
            "min_width": null,
            "object_fit": null,
            "object_position": null,
            "order": null,
            "overflow": null,
            "overflow_x": null,
            "overflow_y": null,
            "padding": null,
            "right": null,
            "top": null,
            "visibility": null,
            "width": null
          }
        },
        "76b3046c318d4fbcb66b198b50cd91e7": {
          "model_module": "@jupyter-widgets/base",
          "model_module_version": "1.2.0",
          "model_name": "LayoutModel",
          "state": {
            "_model_module": "@jupyter-widgets/base",
            "_model_module_version": "1.2.0",
            "_model_name": "LayoutModel",
            "_view_count": null,
            "_view_module": "@jupyter-widgets/base",
            "_view_module_version": "1.2.0",
            "_view_name": "LayoutView",
            "align_content": null,
            "align_items": null,
            "align_self": null,
            "border": null,
            "bottom": null,
            "display": null,
            "flex": null,
            "flex_flow": null,
            "grid_area": null,
            "grid_auto_columns": null,
            "grid_auto_flow": null,
            "grid_auto_rows": null,
            "grid_column": null,
            "grid_gap": null,
            "grid_row": null,
            "grid_template_areas": null,
            "grid_template_columns": null,
            "grid_template_rows": null,
            "height": null,
            "justify_content": null,
            "justify_items": null,
            "left": null,
            "margin": null,
            "max_height": null,
            "max_width": null,
            "min_height": null,
            "min_width": null,
            "object_fit": null,
            "object_position": null,
            "order": null,
            "overflow": null,
            "overflow_x": null,
            "overflow_y": null,
            "padding": null,
            "right": null,
            "top": null,
            "visibility": null,
            "width": null
          }
        },
        "7c3472a6094a4249a082f8dc630e5258": {
          "model_module": "@jupyter-widgets/controls",
          "model_module_version": "1.5.0",
          "model_name": "FloatProgressModel",
          "state": {
            "_dom_classes": [],
            "_model_module": "@jupyter-widgets/controls",
            "_model_module_version": "1.5.0",
            "_model_name": "FloatProgressModel",
            "_view_count": null,
            "_view_module": "@jupyter-widgets/controls",
            "_view_module_version": "1.5.0",
            "_view_name": "ProgressView",
            "bar_style": "success",
            "description": "",
            "description_tooltip": null,
            "layout": "IPY_MODEL_1614757884124ed487149ebed485833f",
            "max": 32,
            "min": 0,
            "orientation": "horizontal",
            "style": "IPY_MODEL_6f124da663194ac0b073ab7a3fb168c3",
            "value": 32
          }
        },
        "7f079b743c6e4ad897ae55ba366a15b9": {
          "model_module": "@jupyter-widgets/base",
          "model_module_version": "1.2.0",
          "model_name": "LayoutModel",
          "state": {
            "_model_module": "@jupyter-widgets/base",
            "_model_module_version": "1.2.0",
            "_model_name": "LayoutModel",
            "_view_count": null,
            "_view_module": "@jupyter-widgets/base",
            "_view_module_version": "1.2.0",
            "_view_name": "LayoutView",
            "align_content": null,
            "align_items": null,
            "align_self": null,
            "border": null,
            "bottom": null,
            "display": null,
            "flex": null,
            "flex_flow": null,
            "grid_area": null,
            "grid_auto_columns": null,
            "grid_auto_flow": null,
            "grid_auto_rows": null,
            "grid_column": null,
            "grid_gap": null,
            "grid_row": null,
            "grid_template_areas": null,
            "grid_template_columns": null,
            "grid_template_rows": null,
            "height": null,
            "justify_content": null,
            "justify_items": null,
            "left": null,
            "margin": null,
            "max_height": null,
            "max_width": null,
            "min_height": null,
            "min_width": null,
            "object_fit": null,
            "object_position": null,
            "order": null,
            "overflow": null,
            "overflow_x": null,
            "overflow_y": null,
            "padding": null,
            "right": null,
            "top": null,
            "visibility": null,
            "width": null
          }
        },
        "8721e5217b97444d948e5b85c6fd53c7": {
          "model_module": "@jupyter-widgets/base",
          "model_module_version": "1.2.0",
          "model_name": "LayoutModel",
          "state": {
            "_model_module": "@jupyter-widgets/base",
            "_model_module_version": "1.2.0",
            "_model_name": "LayoutModel",
            "_view_count": null,
            "_view_module": "@jupyter-widgets/base",
            "_view_module_version": "1.2.0",
            "_view_name": "LayoutView",
            "align_content": null,
            "align_items": null,
            "align_self": null,
            "border": null,
            "bottom": null,
            "display": null,
            "flex": null,
            "flex_flow": null,
            "grid_area": null,
            "grid_auto_columns": null,
            "grid_auto_flow": null,
            "grid_auto_rows": null,
            "grid_column": null,
            "grid_gap": null,
            "grid_row": null,
            "grid_template_areas": null,
            "grid_template_columns": null,
            "grid_template_rows": null,
            "height": null,
            "justify_content": null,
            "justify_items": null,
            "left": null,
            "margin": null,
            "max_height": null,
            "max_width": null,
            "min_height": null,
            "min_width": null,
            "object_fit": null,
            "object_position": null,
            "order": null,
            "overflow": null,
            "overflow_x": null,
            "overflow_y": null,
            "padding": null,
            "right": null,
            "top": null,
            "visibility": null,
            "width": null
          }
        },
        "992dda0d38b145b88946b67edc62ab57": {
          "model_module": "@jupyter-widgets/base",
          "model_module_version": "1.2.0",
          "model_name": "LayoutModel",
          "state": {
            "_model_module": "@jupyter-widgets/base",
            "_model_module_version": "1.2.0",
            "_model_name": "LayoutModel",
            "_view_count": null,
            "_view_module": "@jupyter-widgets/base",
            "_view_module_version": "1.2.0",
            "_view_name": "LayoutView",
            "align_content": null,
            "align_items": null,
            "align_self": null,
            "border": null,
            "bottom": null,
            "display": null,
            "flex": null,
            "flex_flow": null,
            "grid_area": null,
            "grid_auto_columns": null,
            "grid_auto_flow": null,
            "grid_auto_rows": null,
            "grid_column": null,
            "grid_gap": null,
            "grid_row": null,
            "grid_template_areas": null,
            "grid_template_columns": null,
            "grid_template_rows": null,
            "height": null,
            "justify_content": null,
            "justify_items": null,
            "left": null,
            "margin": null,
            "max_height": null,
            "max_width": null,
            "min_height": null,
            "min_width": null,
            "object_fit": null,
            "object_position": null,
            "order": null,
            "overflow": null,
            "overflow_x": null,
            "overflow_y": null,
            "padding": null,
            "right": null,
            "top": null,
            "visibility": null,
            "width": null
          }
        },
        "aaa16b6dbffd42ef973b1826e5ed2242": {
          "model_module": "@jupyter-widgets/controls",
          "model_module_version": "1.5.0",
          "model_name": "HTMLModel",
          "state": {
            "_dom_classes": [],
            "_model_module": "@jupyter-widgets/controls",
            "_model_module_version": "1.5.0",
            "_model_name": "HTMLModel",
            "_view_count": null,
            "_view_module": "@jupyter-widgets/controls",
            "_view_module_version": "1.5.0",
            "_view_name": "HTMLView",
            "description": "",
            "description_tooltip": null,
            "layout": "IPY_MODEL_d539e4a476cb4ae28e78769b17b97aa9",
            "placeholder": "​",
            "style": "IPY_MODEL_fb379b55e7bd4b3bb7ed4b0ec6390b2e",
            "value": " 32/32 [48:44&lt;00:00, 118.10s/it]"
          }
        },
        "ae818704a52542d696c8eb0c1c182a81": {
          "model_module": "@jupyter-widgets/controls",
          "model_module_version": "1.5.0",
          "model_name": "HTMLModel",
          "state": {
            "_dom_classes": [],
            "_model_module": "@jupyter-widgets/controls",
            "_model_module_version": "1.5.0",
            "_model_name": "HTMLModel",
            "_view_count": null,
            "_view_module": "@jupyter-widgets/controls",
            "_view_module_version": "1.5.0",
            "_view_name": "HTMLView",
            "description": "",
            "description_tooltip": null,
            "layout": "IPY_MODEL_76b3046c318d4fbcb66b198b50cd91e7",
            "placeholder": "​",
            "style": "IPY_MODEL_124e5b4b5b3344f4abdc93628b112d8f",
            "value": " 32/32 [15:48&lt;00:00, 30.29s/it]"
          }
        },
        "b504307a10f54034ad07715278fa1dbc": {
          "model_module": "@jupyter-widgets/controls",
          "model_module_version": "1.5.0",
          "model_name": "HBoxModel",
          "state": {
            "_dom_classes": [],
            "_model_module": "@jupyter-widgets/controls",
            "_model_module_version": "1.5.0",
            "_model_name": "HBoxModel",
            "_view_count": null,
            "_view_module": "@jupyter-widgets/controls",
            "_view_module_version": "1.5.0",
            "_view_name": "HBoxView",
            "box_style": "",
            "children": [
              "IPY_MODEL_20a38960e7374ab594f04f4b1c5e2321",
              "IPY_MODEL_7c3472a6094a4249a082f8dc630e5258",
              "IPY_MODEL_ae818704a52542d696c8eb0c1c182a81"
            ],
            "layout": "IPY_MODEL_992dda0d38b145b88946b67edc62ab57"
          }
        },
        "b6288aa156624b108015ab993c54d52b": {
          "model_module": "@jupyter-widgets/controls",
          "model_module_version": "1.5.0",
          "model_name": "HTMLModel",
          "state": {
            "_dom_classes": [],
            "_model_module": "@jupyter-widgets/controls",
            "_model_module_version": "1.5.0",
            "_model_name": "HTMLModel",
            "_view_count": null,
            "_view_module": "@jupyter-widgets/controls",
            "_view_module_version": "1.5.0",
            "_view_name": "HTMLView",
            "description": "",
            "description_tooltip": null,
            "layout": "IPY_MODEL_d25235d18f8045de9948417d13538ef3",
            "placeholder": "​",
            "style": "IPY_MODEL_01d3490253a8464281845cb171385d59",
            "value": "100%"
          }
        },
        "d25235d18f8045de9948417d13538ef3": {
          "model_module": "@jupyter-widgets/base",
          "model_module_version": "1.2.0",
          "model_name": "LayoutModel",
          "state": {
            "_model_module": "@jupyter-widgets/base",
            "_model_module_version": "1.2.0",
            "_model_name": "LayoutModel",
            "_view_count": null,
            "_view_module": "@jupyter-widgets/base",
            "_view_module_version": "1.2.0",
            "_view_name": "LayoutView",
            "align_content": null,
            "align_items": null,
            "align_self": null,
            "border": null,
            "bottom": null,
            "display": null,
            "flex": null,
            "flex_flow": null,
            "grid_area": null,
            "grid_auto_columns": null,
            "grid_auto_flow": null,
            "grid_auto_rows": null,
            "grid_column": null,
            "grid_gap": null,
            "grid_row": null,
            "grid_template_areas": null,
            "grid_template_columns": null,
            "grid_template_rows": null,
            "height": null,
            "justify_content": null,
            "justify_items": null,
            "left": null,
            "margin": null,
            "max_height": null,
            "max_width": null,
            "min_height": null,
            "min_width": null,
            "object_fit": null,
            "object_position": null,
            "order": null,
            "overflow": null,
            "overflow_x": null,
            "overflow_y": null,
            "padding": null,
            "right": null,
            "top": null,
            "visibility": null,
            "width": null
          }
        },
        "d539e4a476cb4ae28e78769b17b97aa9": {
          "model_module": "@jupyter-widgets/base",
          "model_module_version": "1.2.0",
          "model_name": "LayoutModel",
          "state": {
            "_model_module": "@jupyter-widgets/base",
            "_model_module_version": "1.2.0",
            "_model_name": "LayoutModel",
            "_view_count": null,
            "_view_module": "@jupyter-widgets/base",
            "_view_module_version": "1.2.0",
            "_view_name": "LayoutView",
            "align_content": null,
            "align_items": null,
            "align_self": null,
            "border": null,
            "bottom": null,
            "display": null,
            "flex": null,
            "flex_flow": null,
            "grid_area": null,
            "grid_auto_columns": null,
            "grid_auto_flow": null,
            "grid_auto_rows": null,
            "grid_column": null,
            "grid_gap": null,
            "grid_row": null,
            "grid_template_areas": null,
            "grid_template_columns": null,
            "grid_template_rows": null,
            "height": null,
            "justify_content": null,
            "justify_items": null,
            "left": null,
            "margin": null,
            "max_height": null,
            "max_width": null,
            "min_height": null,
            "min_width": null,
            "object_fit": null,
            "object_position": null,
            "order": null,
            "overflow": null,
            "overflow_x": null,
            "overflow_y": null,
            "padding": null,
            "right": null,
            "top": null,
            "visibility": null,
            "width": null
          }
        },
        "f45e5f0d4187404fb8f63acd3c26fe17": {
          "model_module": "@jupyter-widgets/controls",
          "model_module_version": "1.5.0",
          "model_name": "FloatProgressModel",
          "state": {
            "_dom_classes": [],
            "_model_module": "@jupyter-widgets/controls",
            "_model_module_version": "1.5.0",
            "_model_name": "FloatProgressModel",
            "_view_count": null,
            "_view_module": "@jupyter-widgets/controls",
            "_view_module_version": "1.5.0",
            "_view_name": "ProgressView",
            "bar_style": "success",
            "description": "",
            "description_tooltip": null,
            "layout": "IPY_MODEL_7f079b743c6e4ad897ae55ba366a15b9",
            "max": 32,
            "min": 0,
            "orientation": "horizontal",
            "style": "IPY_MODEL_54cbbc7ffbcc401abfbf3167f882019e",
            "value": 32
          }
        },
        "fb379b55e7bd4b3bb7ed4b0ec6390b2e": {
          "model_module": "@jupyter-widgets/controls",
          "model_module_version": "1.5.0",
          "model_name": "DescriptionStyleModel",
          "state": {
            "_model_module": "@jupyter-widgets/controls",
            "_model_module_version": "1.5.0",
            "_model_name": "DescriptionStyleModel",
            "_view_count": null,
            "_view_module": "@jupyter-widgets/base",
            "_view_module_version": "1.2.0",
            "_view_name": "StyleView",
            "description_width": ""
          }
        }
      }
    }
  },
  "nbformat": 4,
  "nbformat_minor": 0
}
