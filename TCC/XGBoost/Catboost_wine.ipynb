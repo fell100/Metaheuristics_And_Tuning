{
  "cells": [
    {
      "attachments": {},
      "cell_type": "markdown",
      "metadata": {},
      "source": [
        "## Definindo o Problema"
      ]
    },
    {
      "cell_type": "code",
      "execution_count": 75,
      "metadata": {
        "colab": {
          "base_uri": "https://localhost:8080/"
        },
        "id": "9Sev1tJEIXbP",
        "outputId": "a8d34b52-5234-4e1c-ba54-12555337e150"
      },
      "outputs": [],
      "source": [
        "#!pip install Catboost;\n",
        "#!pip install pymoo;\n",
        "#!pip install -U pyrecorder;"
      ]
    },
    {
      "cell_type": "code",
      "execution_count": 76,
      "metadata": {
        "id": "QrgfvJRNIFyW"
      },
      "outputs": [],
      "source": [
        "import pickle\n",
        "from sklearn.neighbors import KNeighborsClassifier\n",
        "from sklearn.metrics import accuracy_score, confusion_matrix, classification_report\n",
        "#from yellowbrick.classifier import ConfusionMatrix\n",
        "import numpy as np\n",
        "from tqdm.notebook import tqdm as tqdm\n",
        "import matplotlib.pyplot as plt\n",
        "from sklearn.model_selection import cross_val_score, KFold\n",
        "#from google.colab import drive\n",
        "import pandas as pd\n",
        "import pickle\n",
        "from pymoo.algorithms.soo.nonconvex.pso import PSO, PSOAnimation\n",
        "#from pymoo.factory import Rastrigin\n",
        "from pymoo.optimize import minimize\n",
        "import matplotlib.pyplot as plt\n",
        "from pymoo.factory import get_termination\n",
        "#from pymoo.util.display import Display\n",
        "from pymoo.core.callback import Callback"
      ]
    },
    {
      "cell_type": "code",
      "execution_count": 77,
      "metadata": {
        "id": "bnmY0okxIjkH"
      },
      "outputs": [],
      "source": [
        "from catboost import CatBoostClassifier"
      ]
    },
    {
      "cell_type": "code",
      "execution_count": 78,
      "metadata": {
        "colab": {
          "base_uri": "https://localhost:8080/"
        },
        "id": "io1a1cJQIQoZ",
        "outputId": "7762ca48-fc4c-4746-a658-5238c24392fc"
      },
      "outputs": [],
      "source": [
        "#drive.mount('/content/gdrive')"
      ]
    },
    {
      "cell_type": "code",
      "execution_count": 79,
      "metadata": {
        "id": "4TYgT1s1ISuF"
      },
      "outputs": [],
      "source": [
        "#with open('/content/gdrive/MyDrive/datasets/credit.pkl', 'rb') as f:\n",
        "#    x_wine_train, x_wine_test, y_wine_train, y_wine_test = pickle.load(f)\n",
        "    \n",
        "#with open('./wine.pkl', 'rb') as f:\n",
        "#    x_wine, y_wine = pickle.load(f)\n",
        "    \n",
        "with open('./wine.pkl', 'rb') as f:\n",
        "    x_wine, y_wine = pickle.load(f)"
      ]
    },
    {
      "attachments": {},
      "cell_type": "markdown",
      "metadata": {
        "id": "tHg0NYkn-4CK"
      },
      "source": [
        "Definindo as restrições "
      ]
    },
    {
      "cell_type": "code",
      "execution_count": 80,
      "metadata": {},
      "outputs": [],
      "source": [
        "DIMENSIONS = 24"
      ]
    },
    {
      "cell_type": "code",
      "execution_count": 81,
      "metadata": {
        "id": "BkFUaoY1fTFl"
      },
      "outputs": [],
      "source": [
        "iterations_min = 20  #n_estimators n_estimators #INT\n",
        "learning_rate_min = 0.001  #FLOAT\n",
        "l2_leaf_reg_min = 0.01  #FLOAT reg_lambda\n",
        "bagging_temperature_min = 0.001  # float\n",
        "subsample_min = 1.0   #float \n",
        "mvs_reg_min = 0.001  #float 0 - inf\n",
        "random_strength_min = 0.001  #float 1.0 \n",
        "use_best_model_min = False  #bool true false\n",
        "best_model_min_trees_min = 1  #int \n",
        "depth_min = 1  #max_depth 8 int\n",
        "min_data_in_leaf_min = 1  #min_child_samples int\n",
        "max_leaves_min = 10  #num_leaves int \n",
        "one_hot_max_size_min = 1  #int \n",
        "rsm_min = 0.001  #colsample_bylevel float (0;1]\n",
        "fold_permutation_block_min = 1  #int \n",
        "leaf_estimation_iterations_min = 1  #int\n",
        "fold_len_multiplier_min = 2.0  #float\n",
        "approx_on_full_history_min = False  #bool \n",
        "boost_from_average_min = False  #bool \n",
        "diffusion_temperature_min = 1000  #float 10000\n",
        "posterior_sampling_min = False  #bool\n",
        "allow_const_label_min = False  #bool\n",
        "penalties_coefficient_min = 1.0  #float\n",
        "model_shrink_rate_min = 0.001  #float\n",
        "\n",
        "iterations_max = 100  #n_estimators n_estimators #INT\n",
        "learning_rate_max = 0.5  #FLOAT\n",
        "l2_leaf_reg_max = 0.01  #FLOAT reg_lambda\n",
        "bagging_temperature_max = 10000.0  # float\n",
        "subsample_max = 2.0  #float \n",
        "mvs_reg_max = 1000.0  #float 0 - inf\n",
        "random_strength_max = 10.0  #float 1.0 \n",
        "use_best_model_max = True  #bool true false\n",
        "best_model_min_trees_max = 10  #int \n",
        "depth_max = 8  #max_depth 8 int \n",
        "min_data_in_leaf_max = 100  #min_child_samples int\n",
        "max_leaves_max = 10  #num_leaves int \n",
        "one_hot_max_size_max = 20  #int \n",
        "rsm_max = 1.0   #colsample_bylevel float (0;1]\n",
        "fold_permutation_block_max = 100  #int \n",
        "leaf_estimation_iterations_max = 100  #int\n",
        "fold_len_multiplier_max = 10.0  #float\n",
        "approx_on_full_history_max = True  #bool \n",
        "boost_from_average_max = True  #bool \n",
        "diffusion_temperature_max = 50000  #float 10000\n",
        "posterior_sampling_max = True  #bool\n",
        "allow_const_label_max = True  #bool\n",
        "penalties_coefficient_max = 10.0  #float\n",
        "model_shrink_rate_max = 1.0  #float\n",
        "\n",
        "grow_policy = 'Lossguide'"
      ]
    },
    {
      "cell_type": "code",
      "execution_count": 82,
      "metadata": {},
      "outputs": [],
      "source": [
        "iterations_min = 20  #n_estimators n_estimators #INT\n",
        "learning_rate_min = 0.001  #FLOAT\n",
        "l2_leaf_reg_min = 0.01  #FLOAT reg_lambda\n",
        "bagging_temperature_min = 0.001  # float\n",
        "subsample_min = 1.0   #float \n",
        "mvs_reg_min = 0.001  #float 0 - inf\n",
        "random_strength_min = 0.001  #float 1.0 \n",
        "use_best_model_min = False  #bool true false\n",
        "best_model_min_trees_min = 1  #int \n",
        "depth_min = 1  #max_depth 8 int\n",
        "min_data_in_leaf_min = 1  #min_child_samples int\n",
        "max_leaves_min = 1  #num_leaves int \n",
        "one_hot_max_size_min = 1  #int \n",
        "rsm_min = 0.001  #colsample_bylevel float (0;1]\n",
        "fold_permutation_block_min = 1  #int \n",
        "leaf_estimation_iterations_min = 1  #int\n",
        "fold_len_multiplier_min = 2.0  #float\n",
        "approx_on_full_history_min = False  #bool \n",
        "boost_from_average_min = False  #bool \n",
        "diffusion_temperature_min = 1000  #float 10000\n",
        "posterior_sampling_min = False  #bool\n",
        "allow_const_label_min = False  #bool\n",
        "penalties_coefficient_min = 1.0  #float\n",
        "model_shrink_rate_min = 0.001  #float\n",
        "\n",
        "iterations_max = 100  #n_estimators n_estimators #INT\n",
        "learning_rate_max = 0.5  #FLOAT\n",
        "l2_leaf_reg_max = 0.01  #FLOAT reg_lambda\n",
        "bagging_temperature_max = 10000.0  # float\n",
        "subsample_max = 2.0  #float \n",
        "mvs_reg_max = 1000.0  #float 0 - inf\n",
        "random_strength_max = 10.0  #float 1.0 \n",
        "use_best_model_max = True  #bool true false\n",
        "best_model_min_trees_max = 10  #int \n",
        "depth_max = 8  #max_depth 8 int \n",
        "min_data_in_leaf_max = 100  #min_child_samples int\n",
        "max_leaves_max = 10  #num_leaves int \n",
        "one_hot_max_size_max = 20  #int \n",
        "rsm_max = 1.0   #colsample_bylevel float (0;1]\n",
        "fold_permutation_block_max = 100  #int \n",
        "leaf_estimation_iterations_max = 100  #int\n",
        "fold_len_multiplier_max = 10.0  #float\n",
        "approx_on_full_history_max = True  #bool \n",
        "boost_from_average_max = True  #bool \n",
        "diffusion_temperature_max = 50000  #float 10000\n",
        "posterior_sampling_max = True  #bool\n",
        "allow_const_label_max = True  #bool\n",
        "penalties_coefficient_max = 10.0  #float\n",
        "model_shrink_rate_max = 1.0  #float\n",
        "\n",
        "grow_policy = 'Lossguide'"
      ]
    },
    {
      "attachments": {},
      "cell_type": "markdown",
      "metadata": {
        "id": "xSbKK_Og-7Oe"
      },
      "source": [
        "Definindo o problema"
      ]
    },
    {
      "cell_type": "code",
      "execution_count": 83,
      "metadata": {
        "id": "Elrs3UT_j7t6"
      },
      "outputs": [],
      "source": [
        "import numpy as np\n",
        "from pymoo.core.problem import ElementwiseProblem\n",
        "\n",
        "class OptimizeWithAccuracy(ElementwiseProblem):\n",
        "\n",
        "    def __init__(self):\n",
        "        super().__init__(n_var= DIMENSIONS,\n",
        "                         n_obj=1,\n",
        "                         n_constr=25,\n",
        "                         xl=np.array([iterations_min,\n",
        "                          learning_rate_min,\n",
        "                          l2_leaf_reg_min,\n",
        "                          bagging_temperature_min,\n",
        "                          subsample_min,\n",
        "                          mvs_reg_min,\n",
        "                          random_strength_min,\n",
        "                          use_best_model_min,\n",
        "                          best_model_min_trees_min,\n",
        "                          depth_min,\n",
        "                          min_data_in_leaf_min,\n",
        "                          max_leaves_min,\n",
        "                          one_hot_max_size_min,\n",
        "                          rsm_min,\n",
        "                          fold_permutation_block_min,\n",
        "                          leaf_estimation_iterations_min,\n",
        "                          fold_len_multiplier_min,\n",
        "                          approx_on_full_history_min,\n",
        "                          boost_from_average_min,\n",
        "                          diffusion_temperature_min,\n",
        "                          posterior_sampling_min,\n",
        "                          allow_const_label_min,\n",
        "                          penalties_coefficient_min,\n",
        "                          model_shrink_rate_min]),\n",
        "                         xu=np.array([iterations_max,\n",
        "                            learning_rate_max,\n",
        "                            l2_leaf_reg_max,\n",
        "                            bagging_temperature_max,\n",
        "                            subsample_max,\n",
        "                            mvs_reg_max,\n",
        "                            random_strength_max,\n",
        "                            use_best_model_max,\n",
        "                            best_model_min_trees_max,\n",
        "                            depth_max,\n",
        "                            min_data_in_leaf_max,\n",
        "                            max_leaves_max,\n",
        "                            one_hot_max_size_max,\n",
        "                            rsm_max,\n",
        "                            fold_permutation_block_max,\n",
        "                            leaf_estimation_iterations_max,\n",
        "                            fold_len_multiplier_max,\n",
        "                            approx_on_full_history_max,\n",
        "                            boost_from_average_max,\n",
        "                            diffusion_temperature_max,\n",
        "                            posterior_sampling_max,\n",
        "                            allow_const_label_max,\n",
        "                            penalties_coefficient_max,\n",
        "                            model_shrink_rate_max])\n",
        "                        )\n",
        "\n",
        "    def _evaluate(self, x, out, *args, **kwargs):\n",
        "        #num_leaves, min_child_samples, n_estimators, learning_rate, subsample_for_bin, min_split_gain, min_child_weight, reg_alpha, reg_lambda\n",
        "        \n",
        "        model_catboost = CatBoostClassifier(#num_leaves        = int(np.round(x[0])), \n",
        "                                       #extra_trees = bool(np.round(x[16])), #boolean\n",
        "                                        iterations = int(np.round(x[0])),\n",
        "                                        \n",
        "                                        learning_rate = x[1],\n",
        "                                        l2_leaf_reg = x[2],\n",
        "                                        bagging_temperature = x[3],\n",
        "                                        #subsample = x[4],\n",
        "                                        #mvs_reg = x[5],\n",
        "                                        random_strength = x[6],\n",
        "                                        #use_best_model = bool(np.round(x[7])),\n",
        "                                        best_model_min_trees = int(np.round(x[8])), \n",
        "                                        depth = int(np.round(x[9])), \n",
        "                                        min_data_in_leaf = int(np.round(x[10])), \n",
        "                                        max_leaves = int(np.round(x[11])), \n",
        "                                        one_hot_max_size = int(np.round(x[12])), \n",
        "                                        rsm = x[13],\n",
        "                                        fold_permutation_block = int(np.round(x[14])), \n",
        "                                        leaf_estimation_iterations = int(np.round(x[15])), \n",
        "                                        fold_len_multiplier = x[16],\n",
        "                                        approx_on_full_history = False, #bool(np.round(x[17])),\n",
        "                                        #boost_from_average = bool(np.round(x[18])),\n",
        "                                        #diffusion_temperature = x[19],\n",
        "                                        posterior_sampling = bool(np.round(x[20])),\n",
        "                                        allow_const_label = bool(np.round(x[21])),\n",
        "                                        penalties_coefficient = x[22],\n",
        "                                        model_shrink_rate = x[23],\n",
        "                                        loss_function='MultiClass',\n",
        "                                        grow_policy = 'Lossguide',\n",
        "                                        thread_count = -1\n",
        "                                       )\n",
        "        \n",
        "        kfold = KFold(n_splits = 3, shuffle = True)\n",
        "        \n",
        "        scores = cross_val_score(model_catboost, x_wine, y_wine, cv = kfold, n_jobs=-1)  \n",
        "        result = scores.mean()\n",
        "        #if not result:\n",
        "        #  result = 0\n",
        "        \n",
        "        out['F'] = -1 * result\n",
        "\n",
        "problemAccuracy = OptimizeWithAccuracy()"
      ]
    },
    {
      "cell_type": "code",
      "execution_count": 84,
      "metadata": {},
      "outputs": [],
      "source": [
        "class OptimizeWithF1(ElementwiseProblem):\n",
        "        def __init__(self):\n",
        "                super().__init__(n_var= DIMENSIONS,\n",
        "                         n_obj=1,\n",
        "                         n_constr=25,\n",
        "                         xl=np.array([iterations_min,\n",
        "                          learning_rate_min,\n",
        "                          l2_leaf_reg_min,\n",
        "                          bagging_temperature_min,\n",
        "                          subsample_min,\n",
        "                          mvs_reg_min,\n",
        "                          random_strength_min,\n",
        "                          use_best_model_min,\n",
        "                          best_model_min_trees_min,\n",
        "                          depth_min,\n",
        "                          min_data_in_leaf_min,\n",
        "                          max_leaves_min,\n",
        "                          one_hot_max_size_min,\n",
        "                          rsm_min,\n",
        "                          fold_permutation_block_min,\n",
        "                          leaf_estimation_iterations_min,\n",
        "                          fold_len_multiplier_min,\n",
        "                          approx_on_full_history_min,\n",
        "                          boost_from_average_min,\n",
        "                          diffusion_temperature_min,\n",
        "                          posterior_sampling_min,\n",
        "                          allow_const_label_min,\n",
        "                          penalties_coefficient_min,\n",
        "                          model_shrink_rate_min]),\n",
        "                         xu=np.array([iterations_max,\n",
        "                            learning_rate_max,\n",
        "                            l2_leaf_reg_max,\n",
        "                            bagging_temperature_max,\n",
        "                            subsample_max,\n",
        "                            mvs_reg_max,\n",
        "                            random_strength_max,\n",
        "                            use_best_model_max,\n",
        "                            best_model_min_trees_max,\n",
        "                            depth_max,\n",
        "                            min_data_in_leaf_max,\n",
        "                            max_leaves_max,\n",
        "                            one_hot_max_size_max,\n",
        "                            rsm_max,\n",
        "                            fold_permutation_block_max,\n",
        "                            leaf_estimation_iterations_max,\n",
        "                            fold_len_multiplier_max,\n",
        "                            approx_on_full_history_max,\n",
        "                            boost_from_average_max,\n",
        "                            diffusion_temperature_max,\n",
        "                            posterior_sampling_max,\n",
        "                            allow_const_label_max,\n",
        "                            penalties_coefficient_max,\n",
        "                            model_shrink_rate_max])\n",
        "                        )\n",
        "\n",
        "        def _evaluate(self, x, out, *args, **kwargs):\n",
        "                #num_leaves, min_child_samples, n_estimators, learning_rate, subsample_for_bin, min_split_gain, min_child_weight, reg_alpha, reg_lambda\n",
        "                \n",
        "                model_catboost = CatBoostClassifier(#num_leaves        = int(np.round(x[0])), \n",
        "                                        #extra_trees = bool(np.round(x[16])), #boolean\n",
        "                                                iterations = int(np.round(x[0])),\n",
        "                                        \n",
        "                                        learning_rate = x[1],\n",
        "                                        l2_leaf_reg = x[2],\n",
        "                                        bagging_temperature = x[3],\n",
        "                                        #subsample = x[4],\n",
        "                                        #mvs_reg = x[5],\n",
        "                                        random_strength = x[6],\n",
        "                                        #use_best_model = bool(np.round(x[7])),\n",
        "                                        best_model_min_trees = int(np.round(x[8])), \n",
        "                                        depth = int(np.round(x[9])), \n",
        "                                        min_data_in_leaf = int(np.round(x[10])), \n",
        "                                        max_leaves = int(np.round(x[11])), \n",
        "                                        one_hot_max_size = int(np.round(x[12])), \n",
        "                                        rsm = x[13],\n",
        "                                        fold_permutation_block = int(np.round(x[14])), \n",
        "                                        leaf_estimation_iterations = int(np.round(x[15])), \n",
        "                                        fold_len_multiplier = x[16],\n",
        "                                        approx_on_full_history = False, #bool(np.round(x[17])),\n",
        "                                        #boost_from_average = bool(np.round(x[18])),\n",
        "                                        #diffusion_temperature = x[19],\n",
        "                                        posterior_sampling = bool(np.round(x[20])),\n",
        "                                        allow_const_label = bool(np.round(x[21])),\n",
        "                                        penalties_coefficient = x[22],\n",
        "                                        model_shrink_rate = x[23],\n",
        "                                        loss_function='MultiClass',\n",
        "                                        grow_policy = 'Lossguide',\n",
        "                                        thread_count = -1\n",
        "                                        )\n",
        "                \n",
        "                kfold = KFold(n_splits = 3, shuffle = True)\n",
        "\n",
        "                scores = cross_val_score(model_catboost, x_wine, y_wine, cv = kfold, scoring='f1_weighted', n_jobs=-1)  \n",
        "                \n",
        "                result = scores.mean()\n",
        "                out['F'] = -1 * result\n",
        "\n",
        "problemF1 = OptimizeWithF1()"
      ]
    },
    {
      "cell_type": "code",
      "execution_count": 85,
      "metadata": {},
      "outputs": [],
      "source": [
        "class OptimizeWithAUC(ElementwiseProblem):\n",
        "    def __init__(self):\n",
        "        super().__init__(n_var= DIMENSIONS,\n",
        "                         n_obj=1,\n",
        "                         n_constr=25,\n",
        "                         xl=np.array([iterations_min,\n",
        "                          learning_rate_min,\n",
        "                          l2_leaf_reg_min,\n",
        "                          bagging_temperature_min,\n",
        "                          subsample_min,\n",
        "                          mvs_reg_min,\n",
        "                          random_strength_min,\n",
        "                          use_best_model_min,\n",
        "                          best_model_min_trees_min,\n",
        "                          depth_min,\n",
        "                          min_data_in_leaf_min,\n",
        "                          max_leaves_min,\n",
        "                          one_hot_max_size_min,\n",
        "                          rsm_min,\n",
        "                          fold_permutation_block_min,\n",
        "                          leaf_estimation_iterations_min,\n",
        "                          fold_len_multiplier_min,\n",
        "                          approx_on_full_history_min,\n",
        "                          boost_from_average_min,\n",
        "                          diffusion_temperature_min,\n",
        "                          posterior_sampling_min,\n",
        "                          allow_const_label_min,\n",
        "                          penalties_coefficient_min,\n",
        "                          model_shrink_rate_min]),\n",
        "                         xu=np.array([iterations_max,\n",
        "                            learning_rate_max,\n",
        "                            l2_leaf_reg_max,\n",
        "                            bagging_temperature_max,\n",
        "                            subsample_max,\n",
        "                            mvs_reg_max,\n",
        "                            random_strength_max,\n",
        "                            use_best_model_max,\n",
        "                            best_model_min_trees_max,\n",
        "                            depth_max,\n",
        "                            min_data_in_leaf_max,\n",
        "                            max_leaves_max,\n",
        "                            one_hot_max_size_max,\n",
        "                            rsm_max,\n",
        "                            fold_permutation_block_max,\n",
        "                            leaf_estimation_iterations_max,\n",
        "                            fold_len_multiplier_max,\n",
        "                            approx_on_full_history_max,\n",
        "                            boost_from_average_max,\n",
        "                            diffusion_temperature_max,\n",
        "                            posterior_sampling_max,\n",
        "                            allow_const_label_max,\n",
        "                            penalties_coefficient_max,\n",
        "                            model_shrink_rate_max])\n",
        "                        )\n",
        "\n",
        "    def _evaluate(self, x, out, *args, **kwargs):\n",
        "        #num_leaves, min_child_samples, n_estimators, learning_rate, subsample_for_bin, min_split_gain, min_child_weight, reg_alpha, reg_lambda\n",
        "        \n",
        "        model_catboost = CatBoostClassifier(#num_leaves        = int(np.round(x[0])), \n",
        "                                       #extra_trees = bool(np.round(x[16])), #boolean\n",
        "                                        iterations = int(np.round(x[0])),\n",
        "                                        \n",
        "                                        learning_rate = x[1],\n",
        "                                        l2_leaf_reg = x[2],\n",
        "                                        bagging_temperature = x[3],\n",
        "                                        #subsample = x[4],\n",
        "                                        #mvs_reg = x[5],\n",
        "                                        random_strength = x[6],\n",
        "                                        #use_best_model = bool(np.round(x[7])),\n",
        "                                        best_model_min_trees = int(np.round(x[8])), \n",
        "                                        depth = int(np.round(x[9])), \n",
        "                                        min_data_in_leaf = int(np.round(x[10])), \n",
        "                                        max_leaves = int(np.round(x[11])), \n",
        "                                        one_hot_max_size = int(np.round(x[12])), \n",
        "                                        rsm = x[13],\n",
        "                                        fold_permutation_block = int(np.round(x[14])), \n",
        "                                        leaf_estimation_iterations = int(np.round(x[15])), \n",
        "                                        fold_len_multiplier = x[16],\n",
        "                                        approx_on_full_history = False, #bool(np.round(x[17])),\n",
        "                                        #boost_from_average = bool(np.round(x[18])),\n",
        "                                        #diffusion_temperature = x[19],\n",
        "                                        posterior_sampling = bool(np.round(x[20])),\n",
        "                                        allow_const_label = bool(np.round(x[21])),\n",
        "                                        penalties_coefficient = x[22],\n",
        "                                        model_shrink_rate = x[23],\n",
        "                                        loss_function='MultiClass',\n",
        "                                        grow_policy = 'Lossguide',\n",
        "                                        thread_count = -1\n",
        "                                       )\n",
        "        \n",
        "        kfold = KFold(n_splits = 3, shuffle = True)\n",
        "   \n",
        "        scores = cross_val_score(model_catboost, x_wine, y_wine, cv = kfold, scoring='roc_auc_ovr_weighted', n_jobs=-1)  \n",
        "        \n",
        "        result = scores.mean()\n",
        "\n",
        "        out['F'] = -1 * result\n",
        "\n",
        "problemAUC = OptimizeWithAUC()"
      ]
    },
    {
      "cell_type": "code",
      "execution_count": 86,
      "metadata": {},
      "outputs": [],
      "source": [
        "from pymoo.util.display.column import Column\n",
        "from pymoo.util.display.output import Output"
      ]
    },
    {
      "cell_type": "code",
      "execution_count": 87,
      "metadata": {},
      "outputs": [],
      "source": [
        "class MyOutput(Output):\n",
        "\n",
        "    def __init__(self):\n",
        "        super().__init__()\n",
        "        global pbar \n",
        "        pbar = tqdm(total=ITERATIONS)\n",
        "        self.score = Column(\"score\", width=13)\n",
        "        self.Parameters = Column(\"Parameters\", width=35)\n",
        "        self.columns += [self.score, self.Parameters]\n",
        "\n",
        "    def update(self, algorithm):\n",
        "        super().update(algorithm)\n",
        "        self.score.set(-np.min(algorithm.pop.get(\"F\")))\n",
        "        #self.Parameters.set(algorithm.pop.get(\"X\")[0])\n",
        "        pbar.update(1)\n",
        "        if pbar.n == ITERATIONS: pbar.close()"
      ]
    },
    {
      "attachments": {},
      "cell_type": "markdown",
      "metadata": {
        "id": "_HsPc7BH-MWL"
      },
      "source": [
        "## Particle Swarm Optimization (PSO)"
      ]
    },
    {
      "attachments": {},
      "cell_type": "markdown",
      "metadata": {},
      "source": [
        "### Acurácia"
      ]
    },
    {
      "cell_type": "code",
      "execution_count": 88,
      "metadata": {},
      "outputs": [
        {
          "name": "stdout",
          "output_type": "stream",
          "text": [
            "Requirement already satisfied: pyswarms in c:\\users\\felps\\appdata\\local\\packages\\pythonsoftwarefoundation.python.3.11_qbz5n2kfra8p0\\localcache\\local-packages\\python311\\site-packages (1.3.0)\n",
            "Requirement already satisfied: scipy in c:\\users\\felps\\appdata\\local\\packages\\pythonsoftwarefoundation.python.3.11_qbz5n2kfra8p0\\localcache\\local-packages\\python311\\site-packages (from pyswarms) (1.10.1)\n",
            "Requirement already satisfied: numpy in c:\\users\\felps\\appdata\\local\\packages\\pythonsoftwarefoundation.python.3.11_qbz5n2kfra8p0\\localcache\\local-packages\\python311\\site-packages (from pyswarms) (1.24.3)\n",
            "Requirement already satisfied: matplotlib>=1.3.1 in c:\\users\\felps\\appdata\\local\\packages\\pythonsoftwarefoundation.python.3.11_qbz5n2kfra8p0\\localcache\\local-packages\\python311\\site-packages (from pyswarms) (3.7.1)\n",
            "Requirement already satisfied: attrs in c:\\users\\felps\\appdata\\local\\packages\\pythonsoftwarefoundation.python.3.11_qbz5n2kfra8p0\\localcache\\local-packages\\python311\\site-packages (from pyswarms) (23.1.0)\n",
            "Requirement already satisfied: tqdm in c:\\users\\felps\\appdata\\local\\packages\\pythonsoftwarefoundation.python.3.11_qbz5n2kfra8p0\\localcache\\local-packages\\python311\\site-packages (from pyswarms) (4.65.0)\n",
            "Requirement already satisfied: future in c:\\users\\felps\\appdata\\local\\packages\\pythonsoftwarefoundation.python.3.11_qbz5n2kfra8p0\\localcache\\local-packages\\python311\\site-packages (from pyswarms) (0.18.3)\n",
            "Requirement already satisfied: pyyaml in c:\\users\\felps\\appdata\\local\\packages\\pythonsoftwarefoundation.python.3.11_qbz5n2kfra8p0\\localcache\\local-packages\\python311\\site-packages (from pyswarms) (6.0)\n",
            "Requirement already satisfied: contourpy>=1.0.1 in c:\\users\\felps\\appdata\\local\\packages\\pythonsoftwarefoundation.python.3.11_qbz5n2kfra8p0\\localcache\\local-packages\\python311\\site-packages (from matplotlib>=1.3.1->pyswarms) (1.0.7)\n",
            "Requirement already satisfied: cycler>=0.10 in c:\\users\\felps\\appdata\\local\\packages\\pythonsoftwarefoundation.python.3.11_qbz5n2kfra8p0\\localcache\\local-packages\\python311\\site-packages (from matplotlib>=1.3.1->pyswarms) (0.11.0)\n",
            "Requirement already satisfied: fonttools>=4.22.0 in c:\\users\\felps\\appdata\\local\\packages\\pythonsoftwarefoundation.python.3.11_qbz5n2kfra8p0\\localcache\\local-packages\\python311\\site-packages (from matplotlib>=1.3.1->pyswarms) (4.39.4)\n",
            "Requirement already satisfied: kiwisolver>=1.0.1 in c:\\users\\felps\\appdata\\local\\packages\\pythonsoftwarefoundation.python.3.11_qbz5n2kfra8p0\\localcache\\local-packages\\python311\\site-packages (from matplotlib>=1.3.1->pyswarms) (1.4.4)\n",
            "Requirement already satisfied: packaging>=20.0 in c:\\users\\felps\\appdata\\local\\packages\\pythonsoftwarefoundation.python.3.11_qbz5n2kfra8p0\\localcache\\local-packages\\python311\\site-packages (from matplotlib>=1.3.1->pyswarms) (23.1)\n",
            "Requirement already satisfied: pillow>=6.2.0 in c:\\users\\felps\\appdata\\local\\packages\\pythonsoftwarefoundation.python.3.11_qbz5n2kfra8p0\\localcache\\local-packages\\python311\\site-packages (from matplotlib>=1.3.1->pyswarms) (9.5.0)\n",
            "Requirement already satisfied: pyparsing>=2.3.1 in c:\\users\\felps\\appdata\\local\\packages\\pythonsoftwarefoundation.python.3.11_qbz5n2kfra8p0\\localcache\\local-packages\\python311\\site-packages (from matplotlib>=1.3.1->pyswarms) (3.0.9)\n",
            "Requirement already satisfied: python-dateutil>=2.7 in c:\\users\\felps\\appdata\\local\\packages\\pythonsoftwarefoundation.python.3.11_qbz5n2kfra8p0\\localcache\\local-packages\\python311\\site-packages (from matplotlib>=1.3.1->pyswarms) (2.8.2)\n",
            "Requirement already satisfied: colorama in c:\\users\\felps\\appdata\\local\\packages\\pythonsoftwarefoundation.python.3.11_qbz5n2kfra8p0\\localcache\\local-packages\\python311\\site-packages (from tqdm->pyswarms) (0.4.6)\n",
            "Requirement already satisfied: six>=1.5 in c:\\users\\felps\\appdata\\local\\packages\\pythonsoftwarefoundation.python.3.11_qbz5n2kfra8p0\\localcache\\local-packages\\python311\\site-packages (from python-dateutil>=2.7->matplotlib>=1.3.1->pyswarms) (1.16.0)\n"
          ]
        },
        {
          "name": "stderr",
          "output_type": "stream",
          "text": [
            "\n",
            "[notice] A new release of pip available: 22.3.1 -> 23.2\n",
            "[notice] To update, run: C:\\Users\\Felps\\AppData\\Local\\Microsoft\\WindowsApps\\PythonSoftwareFoundation.Python.3.11_qbz5n2kfra8p0\\python.exe -m pip install --upgrade pip\n"
          ]
        }
      ],
      "source": [
        "!pip install pyswarms"
      ]
    },
    {
      "cell_type": "code",
      "execution_count": 89,
      "metadata": {},
      "outputs": [],
      "source": [
        "iterations_min = 20  #n_estimators n_estimators #INT\n",
        "learning_rate_min = 0.001  #FLOAT\n",
        "l2_leaf_reg_min = 0.01  #FLOAT reg_lambda\n",
        "bagging_temperature_min = 0.001  # float\n",
        "subsample_min = 1.0   #float \n",
        "mvs_reg_min = 0.001  #float 0 - inf\n",
        "random_strength_min = 0.001  #float 1.0 \n",
        "use_best_model_min = False  #bool true false\n",
        "best_model_min_trees_min = 1  #int \n",
        "depth_min = 1  #max_depth 8 int\n",
        "min_data_in_leaf_min = 1  #min_child_samples int\n",
        "max_leaves_min = 1  #num_leaves int \n",
        "one_hot_max_size_min = 1  #int \n",
        "rsm_min = 0.001  #colsample_bylevel float (0;1]\n",
        "fold_permutation_block_min = 1  #int \n",
        "leaf_estimation_iterations_min = 1  #int\n",
        "fold_len_multiplier_min = 2.0  #float\n",
        "approx_on_full_history_min = False  #bool \n",
        "boost_from_average_min = False  #bool \n",
        "diffusion_temperature_min = 1000  #float 10000\n",
        "posterior_sampling_min = False  #bool\n",
        "allow_const_label_min = False  #bool\n",
        "penalties_coefficient_min = 1.0  #float\n",
        "model_shrink_rate_min = 0.001  #float\n",
        "\n",
        "iterations_max = 100  #n_estimators n_estimators #INT\n",
        "learning_rate_max = 0.5  #FLOAT\n",
        "l2_leaf_reg_max = 0.01  #FLOAT reg_lambda\n",
        "bagging_temperature_max = 10000.0  # float\n",
        "subsample_max = 2.0  #float \n",
        "mvs_reg_max = 1000.0  #float 0 - inf\n",
        "random_strength_max = 10.0  #float 1.0 \n",
        "use_best_model_max = True  #bool true false\n",
        "best_model_min_trees_max = 10  #int \n",
        "depth_max = 8  #max_depth 8 int \n",
        "min_data_in_leaf_max = 100  #min_child_samples int\n",
        "max_leaves_max = 10  #num_leaves int \n",
        "one_hot_max_size_max = 20  #int \n",
        "rsm_max = 1.0   #colsample_bylevel float (0;1]\n",
        "fold_permutation_block_max = 100  #int \n",
        "leaf_estimation_iterations_max = 100  #int\n",
        "fold_len_multiplier_max = 10.0  #float\n",
        "approx_on_full_history_max = True  #bool \n",
        "boost_from_average_max = True  #bool \n",
        "diffusion_temperature_max = 50000  #float 10000\n",
        "posterior_sampling_max = True  #bool\n",
        "allow_const_label_max = True  #bool\n",
        "penalties_coefficient_max = 10.0  #float\n",
        "model_shrink_rate_max = 1.0  #float\n",
        "\n",
        "grow_policy = 'Lossguide'"
      ]
    },
    {
      "cell_type": "code",
      "execution_count": 90,
      "metadata": {},
      "outputs": [],
      "source": [
        "import pyswarms as ps\n",
        "from pyswarms.utils.functions import single_obj as fx\n",
        "import numpy as np"
      ]
    },
    {
      "cell_type": "code",
      "execution_count": 91,
      "metadata": {},
      "outputs": [],
      "source": [
        "xl=np.array([iterations_min,\n",
        "            learning_rate_min,\n",
        "            l2_leaf_reg_min,\n",
        "            bagging_temperature_min,\n",
        "            random_strength_min,\n",
        "            best_model_min_trees_min,\n",
        "            depth_min,\n",
        "            min_data_in_leaf_min,\n",
        "            max_leaves_min,\n",
        "            one_hot_max_size_min,\n",
        "            rsm_min,\n",
        "            fold_permutation_block_min,\n",
        "            leaf_estimation_iterations_min,\n",
        "            fold_len_multiplier_min,\n",
        "            penalties_coefficient_min,\n",
        "            model_shrink_rate_min])\n",
        "xu=np.array([iterations_max,\n",
        "            learning_rate_max,\n",
        "            l2_leaf_reg_max,\n",
        "            bagging_temperature_max,\n",
        "            random_strength_max,\n",
        "            best_model_min_trees_max,\n",
        "            depth_max,\n",
        "            min_data_in_leaf_max,\n",
        "            max_leaves_max,\n",
        "            one_hot_max_size_max,\n",
        "            rsm_max,\n",
        "            fold_permutation_block_max,\n",
        "            leaf_estimation_iterations_max,\n",
        "            fold_len_multiplier_max,\n",
        "            penalties_coefficient_max,\n",
        "            model_shrink_rate_max])"
      ]
    },
    {
      "cell_type": "code",
      "execution_count": 92,
      "metadata": {},
      "outputs": [],
      "source": [
        "def PSO_Optimize_Accuracy(values):\n",
        "    x = values[0] \n",
        "    model_catboost = CatBoostClassifier(\n",
        "                                    iterations = int(np.round(x[0])),\n",
        "                                    learning_rate = x[1],\n",
        "                                    l2_leaf_reg = x[2],\n",
        "                                    bagging_temperature = x[3],\n",
        "                                    random_strength = x[4],\n",
        "                                    best_model_min_trees = int(np.round(x[5])), \n",
        "                                    depth = int(np.round(x[6])), \n",
        "                                    min_data_in_leaf = int(np.round(x[7])), \n",
        "                                    max_leaves = int(np.round(x[8])), \n",
        "                                    one_hot_max_size = int(np.round(x[9])), \n",
        "                                    rsm = x[10],\n",
        "                                    fold_permutation_block = int(np.round(x[11])), \n",
        "                                    leaf_estimation_iterations = int(np.round(x[12])), \n",
        "                                    fold_len_multiplier = x[13],\n",
        "                                    approx_on_full_history = False,\n",
        "                                    penalties_coefficient = x[14],\n",
        "                                    model_shrink_rate = x[15],\n",
        "                                    loss_function='MultiClass',\n",
        "                                    grow_policy = 'Lossguide',\n",
        "                                    thread_count = -1\n",
        "                                    )\n",
        "    \n",
        "    kfold = KFold(n_splits = 10, shuffle = True)\n",
        "    \n",
        "    scores = cross_val_score(model_catboost, x_wine, y_wine, cv = kfold, n_jobs=-1)  \n",
        "    result = scores.mean()     \n",
        "\n",
        "    return -result"
      ]
    },
    {
      "cell_type": "code",
      "execution_count": 93,
      "metadata": {},
      "outputs": [],
      "source": [
        "def PSO_Optimize_F1(values):\n",
        "    x = values[0] \n",
        "    model_catboost = CatBoostClassifier(\n",
        "                                    iterations = int(np.round(x[0])),\n",
        "                                    learning_rate = x[1],\n",
        "                                    l2_leaf_reg = x[2],\n",
        "                                    bagging_temperature = x[3],\n",
        "                                    random_strength = x[4],\n",
        "                                    best_model_min_trees = int(np.round(x[5])), \n",
        "                                    depth = int(np.round(x[6])), \n",
        "                                    min_data_in_leaf = int(np.round(x[7])), \n",
        "                                    max_leaves = int(np.round(x[8])), \n",
        "                                    one_hot_max_size = int(np.round(x[9])), \n",
        "                                    rsm = x[10],\n",
        "                                    fold_permutation_block = int(np.round(x[11])), \n",
        "                                    leaf_estimation_iterations = int(np.round(x[12])), \n",
        "                                    fold_len_multiplier = x[13],\n",
        "                                    approx_on_full_history = False,\n",
        "                                    penalties_coefficient = x[14],\n",
        "                                    model_shrink_rate = x[15],\n",
        "                                    loss_function='MultiClass',\n",
        "                                    grow_policy = 'Lossguide',\n",
        "                                    thread_count = -1\n",
        "                                    )\n",
        "    \n",
        "    kfold = KFold(n_splits = 10, shuffle = True)\n",
        "    \n",
        "    scores = cross_val_score(model_catboost, x_wine, y_wine, cv = kfold, n_jobs=-1, scoring='f1_weighted')  \n",
        "    result = scores.mean()     \n",
        "\n",
        "    return -result"
      ]
    },
    {
      "cell_type": "code",
      "execution_count": 94,
      "metadata": {},
      "outputs": [],
      "source": [
        "def PSO_Optimize_AUC(values):\n",
        "    x = values[0] \n",
        "    model_catboost = CatBoostClassifier(\n",
        "                                    iterations = int(np.round(x[0])),\n",
        "                                    learning_rate = x[1],\n",
        "                                    l2_leaf_reg = x[2],\n",
        "                                    bagging_temperature = x[3],\n",
        "                                    random_strength = x[4],\n",
        "                                    best_model_min_trees = int(np.round(x[5])), \n",
        "                                    depth = int(np.round(x[6])), \n",
        "                                    min_data_in_leaf = int(np.round(x[7])), \n",
        "                                    max_leaves = int(np.round(x[8])), \n",
        "                                    one_hot_max_size = int(np.round(x[9])), \n",
        "                                    rsm = x[10],\n",
        "                                    fold_permutation_block = int(np.round(x[11])), \n",
        "                                    leaf_estimation_iterations = int(np.round(x[12])), \n",
        "                                    fold_len_multiplier = x[13],\n",
        "                                    approx_on_full_history = False,\n",
        "                                    penalties_coefficient = x[14],\n",
        "                                    model_shrink_rate = x[15],\n",
        "                                    loss_function='MultiClass',\n",
        "                                    grow_policy = 'Lossguide',\n",
        "                                    thread_count = -1\n",
        "                                    )\n",
        "    \n",
        "    kfold = KFold(n_splits = 10, shuffle = True)\n",
        "    \n",
        "    scores = cross_val_score(model_catboost, x_wine, y_wine, cv = kfold, n_jobs=-1, scoring='roc_auc_ovr_weighted')  \n",
        "    result = scores.mean()     \n",
        "\n",
        "    return -result"
      ]
    },
    {
      "cell_type": "code",
      "execution_count": 95,
      "metadata": {},
      "outputs": [],
      "source": [
        "def run_accuracy_pso():\n",
        "    # Call an instance of PSO\n",
        "    swarm_size = 32\n",
        "    iters = 32\n",
        "    dim = 16\n",
        "    options = {'c1': 1.5, 'c2':1.5, 'w':0.5}\n",
        "    constraints = (xl,xu)\n",
        "\n",
        "    optimizer = ps.single.GlobalBestPSO(n_particles=swarm_size,\n",
        "                                        dimensions=dim,\n",
        "                                        options=options,\n",
        "                                        bounds=constraints)\n",
        "    cost, joint_vars = optimizer.optimize(objective_func = PSO_Optimize_Accuracy, iters=iters)\n",
        "    return -cost"
      ]
    },
    {
      "cell_type": "code",
      "execution_count": 96,
      "metadata": {},
      "outputs": [],
      "source": [
        "def run_f1_pso():\n",
        "    # Call an instance of PSO\n",
        "    swarm_size = 32\n",
        "    iters = 32\n",
        "    dim = 16\n",
        "    options = {'c1': 1.5, 'c2':1.5, 'w':0.5}\n",
        "    constraints = (xl,xu)\n",
        "\n",
        "    optimizer = ps.single.GlobalBestPSO(n_particles=swarm_size,\n",
        "                                        dimensions=dim,\n",
        "                                        options=options,\n",
        "                                        bounds=constraints)\n",
        "    cost, joint_vars = optimizer.optimize(objective_func = PSO_Optimize_F1, iters=iters)\n",
        "    return -cost"
      ]
    },
    {
      "cell_type": "code",
      "execution_count": 97,
      "metadata": {},
      "outputs": [],
      "source": [
        "def run_auc_pso():\n",
        "    # Call an instance of PSO\n",
        "    swarm_size = 32\n",
        "    iters = 32\n",
        "    dim = 16\n",
        "    options = {'c1': 1.5, 'c2':1.5, 'w':0.5}\n",
        "    constraints = (xl,xu)\n",
        "\n",
        "    optimizer = ps.single.GlobalBestPSO(n_particles=swarm_size,\n",
        "                                        dimensions=dim,\n",
        "                                        options=options,\n",
        "                                        bounds=constraints)\n",
        "    cost, joint_vars = optimizer.optimize(objective_func = PSO_Optimize_AUC, iters=iters)\n",
        "    return -cost"
      ]
    },
    {
      "cell_type": "code",
      "execution_count": 98,
      "metadata": {},
      "outputs": [
        {
          "name": "stderr",
          "output_type": "stream",
          "text": [
            "2023-07-23 08:20:39,337 - pyswarms.single.global_best - INFO - Optimize for 32 iters with {'c1': 1.5, 'c2': 1.5, 'w': 0.5}\n",
            "pyswarms.single.global_best:   3%|▎         |1/32, best_cost=-.5\n"
          ]
        },
        {
          "ename": "ValueError",
          "evalue": "\nAll the 10 fits failed.\nIt is very likely that your model is misconfigured.\nYou can try to debug the error by setting error_score='raise'.\n\nBelow are more details about the failures:\n--------------------------------------------------------------------------------\n10 fits failed with the following error:\nTraceback (most recent call last):\n  File \"C:\\Users\\Felps\\AppData\\Local\\Packages\\PythonSoftwareFoundation.Python.3.11_qbz5n2kfra8p0\\LocalCache\\local-packages\\Python311\\site-packages\\sklearn\\model_selection\\_validation.py\", line 686, in _fit_and_score\n    estimator.fit(X_train, y_train, **fit_params)\n  File \"C:\\Users\\Felps\\AppData\\Local\\Packages\\PythonSoftwareFoundation.Python.3.11_qbz5n2kfra8p0\\LocalCache\\local-packages\\Python311\\site-packages\\catboost\\core.py\", line 5131, in fit\n    self._fit(X, y, cat_features, text_features, embedding_features, None, sample_weight, None, None, None, None, baseline, use_best_model,\n  File \"C:\\Users\\Felps\\AppData\\Local\\Packages\\PythonSoftwareFoundation.Python.3.11_qbz5n2kfra8p0\\LocalCache\\local-packages\\Python311\\site-packages\\catboost\\core.py\", line 2341, in _fit\n    train_params = self._prepare_train_params(\n                   ^^^^^^^^^^^^^^^^^^^^^^^^^^^\n  File \"C:\\Users\\Felps\\AppData\\Local\\Packages\\PythonSoftwareFoundation.Python.3.11_qbz5n2kfra8p0\\LocalCache\\local-packages\\Python311\\site-packages\\catboost\\core.py\", line 2268, in _prepare_train_params\n    _check_train_params(params)\n  File \"_catboost.pyx\", line 6084, in _catboost._check_train_params\n  File \"_catboost.pyx\", line 6103, in _catboost._check_train_params\n_catboost.CatBoostError: C:/Go_Agent/pipelines/BuildMaster/catboost.git/catboost/private/libs/options/json_helper.h:173: Can't parse parameter \"l2_leaf_reg\" with value: null\n",
          "output_type": "error",
          "traceback": [
            "\u001b[1;31m---------------------------------------------------------------------------\u001b[0m",
            "\u001b[1;31mValueError\u001b[0m                                Traceback (most recent call last)",
            "Cell \u001b[1;32mIn[98], line 1\u001b[0m\n\u001b[1;32m----> 1\u001b[0m run_auc_pso()\n",
            "Cell \u001b[1;32mIn[97], line 13\u001b[0m, in \u001b[0;36mrun_auc_pso\u001b[1;34m()\u001b[0m\n\u001b[0;32m      7\u001b[0m constraints \u001b[39m=\u001b[39m (xl,xu)\n\u001b[0;32m      9\u001b[0m optimizer \u001b[39m=\u001b[39m ps\u001b[39m.\u001b[39msingle\u001b[39m.\u001b[39mGlobalBestPSO(n_particles\u001b[39m=\u001b[39mswarm_size,\n\u001b[0;32m     10\u001b[0m                                     dimensions\u001b[39m=\u001b[39mdim,\n\u001b[0;32m     11\u001b[0m                                     options\u001b[39m=\u001b[39moptions,\n\u001b[0;32m     12\u001b[0m                                     bounds\u001b[39m=\u001b[39mconstraints)\n\u001b[1;32m---> 13\u001b[0m cost, joint_vars \u001b[39m=\u001b[39m optimizer\u001b[39m.\u001b[39;49moptimize(objective_func \u001b[39m=\u001b[39;49m PSO_Optimize_AUC, iters\u001b[39m=\u001b[39;49miters)\n\u001b[0;32m     14\u001b[0m \u001b[39mreturn\u001b[39;00m \u001b[39m-\u001b[39mcost\n",
            "File \u001b[1;32m~\\AppData\\Local\\Packages\\PythonSoftwareFoundation.Python.3.11_qbz5n2kfra8p0\\LocalCache\\local-packages\\Python311\\site-packages\\pyswarms\\single\\global_best.py:209\u001b[0m, in \u001b[0;36mGlobalBestPSO.optimize\u001b[1;34m(self, objective_func, iters, n_processes, verbose, **kwargs)\u001b[0m\n\u001b[0;32m    205\u001b[0m ftol_history \u001b[39m=\u001b[39m deque(maxlen\u001b[39m=\u001b[39m\u001b[39mself\u001b[39m\u001b[39m.\u001b[39mftol_iter)\n\u001b[0;32m    206\u001b[0m \u001b[39mfor\u001b[39;00m i \u001b[39min\u001b[39;00m \u001b[39mself\u001b[39m\u001b[39m.\u001b[39mrep\u001b[39m.\u001b[39mpbar(iters, \u001b[39mself\u001b[39m\u001b[39m.\u001b[39mname) \u001b[39mif\u001b[39;00m verbose \u001b[39melse\u001b[39;00m \u001b[39mrange\u001b[39m(iters):\n\u001b[0;32m    207\u001b[0m     \u001b[39m# Compute cost for current position and personal best\u001b[39;00m\n\u001b[0;32m    208\u001b[0m     \u001b[39m# fmt: off\u001b[39;00m\n\u001b[1;32m--> 209\u001b[0m     \u001b[39mself\u001b[39m\u001b[39m.\u001b[39mswarm\u001b[39m.\u001b[39mcurrent_cost \u001b[39m=\u001b[39m compute_objective_function(\u001b[39mself\u001b[39;49m\u001b[39m.\u001b[39;49mswarm, objective_func, pool\u001b[39m=\u001b[39;49mpool, \u001b[39m*\u001b[39;49m\u001b[39m*\u001b[39;49mkwargs)\n\u001b[0;32m    210\u001b[0m     \u001b[39mself\u001b[39m\u001b[39m.\u001b[39mswarm\u001b[39m.\u001b[39mpbest_pos, \u001b[39mself\u001b[39m\u001b[39m.\u001b[39mswarm\u001b[39m.\u001b[39mpbest_cost \u001b[39m=\u001b[39m compute_pbest(\u001b[39mself\u001b[39m\u001b[39m.\u001b[39mswarm)\n\u001b[0;32m    211\u001b[0m     \u001b[39m# Set best_cost_yet_found for ftol\u001b[39;00m\n",
            "File \u001b[1;32m~\\AppData\\Local\\Packages\\PythonSoftwareFoundation.Python.3.11_qbz5n2kfra8p0\\LocalCache\\local-packages\\Python311\\site-packages\\pyswarms\\backend\\operators.py:239\u001b[0m, in \u001b[0;36mcompute_objective_function\u001b[1;34m(swarm, objective_func, pool, **kwargs)\u001b[0m\n\u001b[0;32m    214\u001b[0m \u001b[39m\u001b[39m\u001b[39m\"\"\"Evaluate particles using the objective function\u001b[39;00m\n\u001b[0;32m    215\u001b[0m \n\u001b[0;32m    216\u001b[0m \u001b[39mThis method evaluates each particle in the swarm according to the objective\u001b[39;00m\n\u001b[1;32m   (...)\u001b[0m\n\u001b[0;32m    236\u001b[0m \u001b[39m    Cost-matrix for the given swarm\u001b[39;00m\n\u001b[0;32m    237\u001b[0m \u001b[39m\"\"\"\u001b[39;00m\n\u001b[0;32m    238\u001b[0m \u001b[39mif\u001b[39;00m pool \u001b[39mis\u001b[39;00m \u001b[39mNone\u001b[39;00m:\n\u001b[1;32m--> 239\u001b[0m     \u001b[39mreturn\u001b[39;00m objective_func(swarm\u001b[39m.\u001b[39;49mposition, \u001b[39m*\u001b[39;49m\u001b[39m*\u001b[39;49mkwargs)\n\u001b[0;32m    240\u001b[0m \u001b[39melse\u001b[39;00m:\n\u001b[0;32m    241\u001b[0m     results \u001b[39m=\u001b[39m pool\u001b[39m.\u001b[39mmap(\n\u001b[0;32m    242\u001b[0m         partial(objective_func, \u001b[39m*\u001b[39m\u001b[39m*\u001b[39mkwargs),\n\u001b[0;32m    243\u001b[0m         np\u001b[39m.\u001b[39marray_split(swarm\u001b[39m.\u001b[39mposition, pool\u001b[39m.\u001b[39m_processes),\n\u001b[0;32m    244\u001b[0m     )\n",
            "Cell \u001b[1;32mIn[94], line 28\u001b[0m, in \u001b[0;36mPSO_Optimize_AUC\u001b[1;34m(values)\u001b[0m\n\u001b[0;32m      3\u001b[0m model_catboost \u001b[39m=\u001b[39m CatBoostClassifier(\n\u001b[0;32m      4\u001b[0m                                 iterations \u001b[39m=\u001b[39m \u001b[39mint\u001b[39m(np\u001b[39m.\u001b[39mround(x[\u001b[39m0\u001b[39m])),\n\u001b[0;32m      5\u001b[0m                                 learning_rate \u001b[39m=\u001b[39m x[\u001b[39m1\u001b[39m],\n\u001b[1;32m   (...)\u001b[0m\n\u001b[0;32m     23\u001b[0m                                 thread_count \u001b[39m=\u001b[39m \u001b[39m-\u001b[39m\u001b[39m1\u001b[39m\n\u001b[0;32m     24\u001b[0m                                 )\n\u001b[0;32m     26\u001b[0m kfold \u001b[39m=\u001b[39m KFold(n_splits \u001b[39m=\u001b[39m \u001b[39m10\u001b[39m, shuffle \u001b[39m=\u001b[39m \u001b[39mTrue\u001b[39;00m)\n\u001b[1;32m---> 28\u001b[0m scores \u001b[39m=\u001b[39m cross_val_score(model_catboost, x_wine, y_wine, cv \u001b[39m=\u001b[39;49m kfold, n_jobs\u001b[39m=\u001b[39;49m\u001b[39m-\u001b[39;49m\u001b[39m1\u001b[39;49m, scoring\u001b[39m=\u001b[39;49m\u001b[39m'\u001b[39;49m\u001b[39mroc_auc_ovr_weighted\u001b[39;49m\u001b[39m'\u001b[39;49m)  \n\u001b[0;32m     29\u001b[0m result \u001b[39m=\u001b[39m scores\u001b[39m.\u001b[39mmean()     \n\u001b[0;32m     31\u001b[0m \u001b[39mreturn\u001b[39;00m \u001b[39m-\u001b[39mresult\n",
            "File \u001b[1;32m~\\AppData\\Local\\Packages\\PythonSoftwareFoundation.Python.3.11_qbz5n2kfra8p0\\LocalCache\\local-packages\\Python311\\site-packages\\sklearn\\model_selection\\_validation.py:515\u001b[0m, in \u001b[0;36mcross_val_score\u001b[1;34m(estimator, X, y, groups, scoring, cv, n_jobs, verbose, fit_params, pre_dispatch, error_score)\u001b[0m\n\u001b[0;32m    512\u001b[0m \u001b[39m# To ensure multimetric format is not supported\u001b[39;00m\n\u001b[0;32m    513\u001b[0m scorer \u001b[39m=\u001b[39m check_scoring(estimator, scoring\u001b[39m=\u001b[39mscoring)\n\u001b[1;32m--> 515\u001b[0m cv_results \u001b[39m=\u001b[39m cross_validate(\n\u001b[0;32m    516\u001b[0m     estimator\u001b[39m=\u001b[39;49mestimator,\n\u001b[0;32m    517\u001b[0m     X\u001b[39m=\u001b[39;49mX,\n\u001b[0;32m    518\u001b[0m     y\u001b[39m=\u001b[39;49my,\n\u001b[0;32m    519\u001b[0m     groups\u001b[39m=\u001b[39;49mgroups,\n\u001b[0;32m    520\u001b[0m     scoring\u001b[39m=\u001b[39;49m{\u001b[39m\"\u001b[39;49m\u001b[39mscore\u001b[39;49m\u001b[39m\"\u001b[39;49m: scorer},\n\u001b[0;32m    521\u001b[0m     cv\u001b[39m=\u001b[39;49mcv,\n\u001b[0;32m    522\u001b[0m     n_jobs\u001b[39m=\u001b[39;49mn_jobs,\n\u001b[0;32m    523\u001b[0m     verbose\u001b[39m=\u001b[39;49mverbose,\n\u001b[0;32m    524\u001b[0m     fit_params\u001b[39m=\u001b[39;49mfit_params,\n\u001b[0;32m    525\u001b[0m     pre_dispatch\u001b[39m=\u001b[39;49mpre_dispatch,\n\u001b[0;32m    526\u001b[0m     error_score\u001b[39m=\u001b[39;49merror_score,\n\u001b[0;32m    527\u001b[0m )\n\u001b[0;32m    528\u001b[0m \u001b[39mreturn\u001b[39;00m cv_results[\u001b[39m\"\u001b[39m\u001b[39mtest_score\u001b[39m\u001b[39m\"\u001b[39m]\n",
            "File \u001b[1;32m~\\AppData\\Local\\Packages\\PythonSoftwareFoundation.Python.3.11_qbz5n2kfra8p0\\LocalCache\\local-packages\\Python311\\site-packages\\sklearn\\model_selection\\_validation.py:285\u001b[0m, in \u001b[0;36mcross_validate\u001b[1;34m(estimator, X, y, groups, scoring, cv, n_jobs, verbose, fit_params, pre_dispatch, return_train_score, return_estimator, error_score)\u001b[0m\n\u001b[0;32m    265\u001b[0m parallel \u001b[39m=\u001b[39m Parallel(n_jobs\u001b[39m=\u001b[39mn_jobs, verbose\u001b[39m=\u001b[39mverbose, pre_dispatch\u001b[39m=\u001b[39mpre_dispatch)\n\u001b[0;32m    266\u001b[0m results \u001b[39m=\u001b[39m parallel(\n\u001b[0;32m    267\u001b[0m     delayed(_fit_and_score)(\n\u001b[0;32m    268\u001b[0m         clone(estimator),\n\u001b[1;32m   (...)\u001b[0m\n\u001b[0;32m    282\u001b[0m     \u001b[39mfor\u001b[39;00m train, test \u001b[39min\u001b[39;00m cv\u001b[39m.\u001b[39msplit(X, y, groups)\n\u001b[0;32m    283\u001b[0m )\n\u001b[1;32m--> 285\u001b[0m _warn_or_raise_about_fit_failures(results, error_score)\n\u001b[0;32m    287\u001b[0m \u001b[39m# For callabe scoring, the return type is only know after calling. If the\u001b[39;00m\n\u001b[0;32m    288\u001b[0m \u001b[39m# return type is a dictionary, the error scores can now be inserted with\u001b[39;00m\n\u001b[0;32m    289\u001b[0m \u001b[39m# the correct key.\u001b[39;00m\n\u001b[0;32m    290\u001b[0m \u001b[39mif\u001b[39;00m \u001b[39mcallable\u001b[39m(scoring):\n",
            "File \u001b[1;32m~\\AppData\\Local\\Packages\\PythonSoftwareFoundation.Python.3.11_qbz5n2kfra8p0\\LocalCache\\local-packages\\Python311\\site-packages\\sklearn\\model_selection\\_validation.py:367\u001b[0m, in \u001b[0;36m_warn_or_raise_about_fit_failures\u001b[1;34m(results, error_score)\u001b[0m\n\u001b[0;32m    360\u001b[0m \u001b[39mif\u001b[39;00m num_failed_fits \u001b[39m==\u001b[39m num_fits:\n\u001b[0;32m    361\u001b[0m     all_fits_failed_message \u001b[39m=\u001b[39m (\n\u001b[0;32m    362\u001b[0m         \u001b[39mf\u001b[39m\u001b[39m\"\u001b[39m\u001b[39m\\n\u001b[39;00m\u001b[39mAll the \u001b[39m\u001b[39m{\u001b[39;00mnum_fits\u001b[39m}\u001b[39;00m\u001b[39m fits failed.\u001b[39m\u001b[39m\\n\u001b[39;00m\u001b[39m\"\u001b[39m\n\u001b[0;32m    363\u001b[0m         \u001b[39m\"\u001b[39m\u001b[39mIt is very likely that your model is misconfigured.\u001b[39m\u001b[39m\\n\u001b[39;00m\u001b[39m\"\u001b[39m\n\u001b[0;32m    364\u001b[0m         \u001b[39m\"\u001b[39m\u001b[39mYou can try to debug the error by setting error_score=\u001b[39m\u001b[39m'\u001b[39m\u001b[39mraise\u001b[39m\u001b[39m'\u001b[39m\u001b[39m.\u001b[39m\u001b[39m\\n\u001b[39;00m\u001b[39m\\n\u001b[39;00m\u001b[39m\"\u001b[39m\n\u001b[0;32m    365\u001b[0m         \u001b[39mf\u001b[39m\u001b[39m\"\u001b[39m\u001b[39mBelow are more details about the failures:\u001b[39m\u001b[39m\\n\u001b[39;00m\u001b[39m{\u001b[39;00mfit_errors_summary\u001b[39m}\u001b[39;00m\u001b[39m\"\u001b[39m\n\u001b[0;32m    366\u001b[0m     )\n\u001b[1;32m--> 367\u001b[0m     \u001b[39mraise\u001b[39;00m \u001b[39mValueError\u001b[39;00m(all_fits_failed_message)\n\u001b[0;32m    369\u001b[0m \u001b[39melse\u001b[39;00m:\n\u001b[0;32m    370\u001b[0m     some_fits_failed_message \u001b[39m=\u001b[39m (\n\u001b[0;32m    371\u001b[0m         \u001b[39mf\u001b[39m\u001b[39m\"\u001b[39m\u001b[39m\\n\u001b[39;00m\u001b[39m{\u001b[39;00mnum_failed_fits\u001b[39m}\u001b[39;00m\u001b[39m fits failed out of a total of \u001b[39m\u001b[39m{\u001b[39;00mnum_fits\u001b[39m}\u001b[39;00m\u001b[39m.\u001b[39m\u001b[39m\\n\u001b[39;00m\u001b[39m\"\u001b[39m\n\u001b[0;32m    372\u001b[0m         \u001b[39m\"\u001b[39m\u001b[39mThe score on these train-test partitions for these parameters\u001b[39m\u001b[39m\"\u001b[39m\n\u001b[1;32m   (...)\u001b[0m\n\u001b[0;32m    376\u001b[0m         \u001b[39mf\u001b[39m\u001b[39m\"\u001b[39m\u001b[39mBelow are more details about the failures:\u001b[39m\u001b[39m\\n\u001b[39;00m\u001b[39m{\u001b[39;00mfit_errors_summary\u001b[39m}\u001b[39;00m\u001b[39m\"\u001b[39m\n\u001b[0;32m    377\u001b[0m     )\n",
            "\u001b[1;31mValueError\u001b[0m: \nAll the 10 fits failed.\nIt is very likely that your model is misconfigured.\nYou can try to debug the error by setting error_score='raise'.\n\nBelow are more details about the failures:\n--------------------------------------------------------------------------------\n10 fits failed with the following error:\nTraceback (most recent call last):\n  File \"C:\\Users\\Felps\\AppData\\Local\\Packages\\PythonSoftwareFoundation.Python.3.11_qbz5n2kfra8p0\\LocalCache\\local-packages\\Python311\\site-packages\\sklearn\\model_selection\\_validation.py\", line 686, in _fit_and_score\n    estimator.fit(X_train, y_train, **fit_params)\n  File \"C:\\Users\\Felps\\AppData\\Local\\Packages\\PythonSoftwareFoundation.Python.3.11_qbz5n2kfra8p0\\LocalCache\\local-packages\\Python311\\site-packages\\catboost\\core.py\", line 5131, in fit\n    self._fit(X, y, cat_features, text_features, embedding_features, None, sample_weight, None, None, None, None, baseline, use_best_model,\n  File \"C:\\Users\\Felps\\AppData\\Local\\Packages\\PythonSoftwareFoundation.Python.3.11_qbz5n2kfra8p0\\LocalCache\\local-packages\\Python311\\site-packages\\catboost\\core.py\", line 2341, in _fit\n    train_params = self._prepare_train_params(\n                   ^^^^^^^^^^^^^^^^^^^^^^^^^^^\n  File \"C:\\Users\\Felps\\AppData\\Local\\Packages\\PythonSoftwareFoundation.Python.3.11_qbz5n2kfra8p0\\LocalCache\\local-packages\\Python311\\site-packages\\catboost\\core.py\", line 2268, in _prepare_train_params\n    _check_train_params(params)\n  File \"_catboost.pyx\", line 6084, in _catboost._check_train_params\n  File \"_catboost.pyx\", line 6103, in _catboost._check_train_params\n_catboost.CatBoostError: C:/Go_Agent/pipelines/BuildMaster/catboost.git/catboost/private/libs/options/json_helper.h:173: Can't parse parameter \"l2_leaf_reg\" with value: null\n"
          ]
        }
      ],
      "source": [
        "run_auc_pso()"
      ]
    },
    {
      "cell_type": "code",
      "execution_count": null,
      "metadata": {},
      "outputs": [
        {
          "name": "stderr",
          "output_type": "stream",
          "text": [
            "2023-04-12 09:16:44,692 - pyswarms.single.global_best - INFO - Optimize for 32 iters with {'c1': 1.5, 'c2': 1.5, 'w': 0.5}\n",
            "pyswarms.single.global_best:   0%|          |0/32, best_cost=-.23c:\\Users\\Felps\\anaconda3\\envs\\myenv\\lib\\site-packages\\pyswarms\\backend\\handlers.py:389: RuntimeWarning: invalid value encountered in remainder\n",
            "  bound_d[greater_than_bound],\n",
            "pyswarms.single.global_best:   3%|▎         |1/32, best_cost=-.23c:\\Users\\Felps\\anaconda3\\envs\\myenv\\lib\\site-packages\\sklearn\\model_selection\\_validation.py:372: FitFailedWarning: \n",
            "10 fits failed out of a total of 10.\n",
            "The score on these train-test partitions for these parameters will be set to nan.\n",
            "If these failures are not expected, you can try to debug them by setting error_score='raise'.\n",
            "\n",
            "Below are more details about the failures:\n",
            "--------------------------------------------------------------------------------\n",
            "10 fits failed with the following error:\n",
            "Traceback (most recent call last):\n",
            "  File \"c:\\Users\\Felps\\anaconda3\\envs\\myenv\\lib\\site-packages\\sklearn\\model_selection\\_validation.py\", line 680, in _fit_and_score\n",
            "    estimator.fit(X_train, y_train, **fit_params)\n",
            "  File \"c:\\Users\\Felps\\anaconda3\\envs\\myenv\\lib\\site-packages\\catboost\\core.py\", line 5130, in fit\n",
            "    silent, early_stopping_rounds, save_snapshot, snapshot_file, snapshot_interval, init_model, callbacks, log_cout, log_cerr)\n",
            "  File \"c:\\Users\\Felps\\anaconda3\\envs\\myenv\\lib\\site-packages\\catboost\\core.py\", line 2347, in _fit\n",
            "    callbacks=callbacks\n",
            "  File \"c:\\Users\\Felps\\anaconda3\\envs\\myenv\\lib\\site-packages\\catboost\\core.py\", line 2266, in _prepare_train_params\n",
            "    _check_train_params(params)\n",
            "  File \"_catboost.pyx\", line 6080, in _catboost._check_train_params\n",
            "  File \"_catboost.pyx\", line 6099, in _catboost._check_train_params\n",
            "_catboost.CatBoostError: C:/Program Files (x86)/Go Agent/pipelines/BuildMaster/catboost.git/catboost/private/libs/options/json_helper.h:173: Can't parse parameter \"l2_leaf_reg\" with value: null\n",
            "\n",
            "  warnings.warn(some_fits_failed_message, FitFailedWarning)\n",
            "pyswarms.single.global_best: 100%|██████████|32/32, best_cost=-.23\n",
            "2023-04-12 09:16:48,917 - pyswarms.single.global_best - INFO - Optimization finished | best cost: -0.229763852530541, best pos: [6.00451685e+01 1.04056391e-01 1.00000000e-02 4.11462219e+03\n",
            " 4.65679730e+00 1.99752971e+00 6.77673387e+00 4.99422717e+01\n",
            " 7.62920735e+00 7.73417082e+00 9.60309080e-01 7.76840978e+01\n",
            " 3.41954303e+01 2.93952645e+00 3.26164755e+00 8.84255643e-01]\n"
          ]
        },
        {
          "data": {
            "text/plain": [
              "0.229763852530541"
            ]
          },
          "execution_count": 21,
          "metadata": {},
          "output_type": "execute_result"
        }
      ],
      "source": [
        "run_accuracy_pso()"
      ]
    },
    {
      "cell_type": "code",
      "execution_count": null,
      "metadata": {},
      "outputs": [
        {
          "name": "stderr",
          "output_type": "stream",
          "text": [
            "2023-04-12 09:16:48,955 - pyswarms.single.global_best - INFO - Optimize for 32 iters with {'c1': 1.5, 'c2': 1.5, 'w': 0.5}\n",
            "pyswarms.single.global_best: 100%|██████████|32/32, best_cost=-.0774\n",
            "2023-04-12 09:16:50,521 - pyswarms.single.global_best - INFO - Optimization finished | best cost: -0.07741182812968435, best pos: [7.51451754e+01 3.23467273e-01 1.00000000e-02 6.90828856e+03\n",
            " 1.74789185e+00 6.53079443e+00 7.38804505e+00 4.98978236e+01\n",
            " 8.82431928e+00 1.83595069e+01 5.36833546e-01 8.97713578e+01\n",
            " 5.58284950e+01 2.60684269e+00 5.10159485e+00 9.65166269e-01]\n"
          ]
        },
        {
          "data": {
            "text/plain": [
              "0.07741182812968435"
            ]
          },
          "execution_count": 22,
          "metadata": {},
          "output_type": "execute_result"
        }
      ],
      "source": [
        "run_f1_pso()"
      ]
    },
    {
      "cell_type": "code",
      "execution_count": null,
      "metadata": {},
      "outputs": [
        {
          "name": "stderr",
          "output_type": "stream",
          "text": [
            "2023-04-12 09:16:50,557 - pyswarms.single.global_best - INFO - Optimize for 32 iters with {'c1': 1.5, 'c2': 1.5, 'w': 0.5}\n",
            "pyswarms.single.global_best: 100%|██████████|32/32, best_cost=-.5\n",
            "2023-04-12 09:16:52,383 - pyswarms.single.global_best - INFO - Optimization finished | best cost: -0.5, best pos: [8.07619132e+01 2.80103944e-01 1.00000000e-02 2.04303051e+03\n",
            " 9.11949502e+00 6.11838358e+00 6.73040959e+00 5.90160828e+01\n",
            " 6.93778455e+00 1.50669979e+01 9.81838077e-01 7.30447042e+01\n",
            " 7.50117898e+01 9.93757430e+00 8.42308280e+00 5.75819724e-01]\n"
          ]
        },
        {
          "data": {
            "text/plain": [
              "0.5"
            ]
          },
          "execution_count": 23,
          "metadata": {},
          "output_type": "execute_result"
        }
      ],
      "source": [
        "run_auc_pso()"
      ]
    },
    {
      "cell_type": "code",
      "execution_count": null,
      "metadata": {
        "id": "J275mWjGbVJo"
      },
      "outputs": [],
      "source": [
        "ITERATIONS = 32\n",
        "POPULATION = 32"
      ]
    },
    {
      "cell_type": "code",
      "execution_count": null,
      "metadata": {
        "colab": {
          "base_uri": "https://localhost:8080/",
          "height": 848,
          "referenced_widgets": [
            "b504307a10f54034ad07715278fa1dbc",
            "20a38960e7374ab594f04f4b1c5e2321",
            "7c3472a6094a4249a082f8dc630e5258",
            "ae818704a52542d696c8eb0c1c182a81",
            "992dda0d38b145b88946b67edc62ab57",
            "6f29547455ac4adb8edaa11d5839f5cb",
            "1a32143976c744e5a388d7b343e7c054",
            "1614757884124ed487149ebed485833f",
            "6f124da663194ac0b073ab7a3fb168c3",
            "76b3046c318d4fbcb66b198b50cd91e7",
            "124e5b4b5b3344f4abdc93628b112d8f"
          ]
        },
        "id": "Ub3CpvtimILV",
        "outputId": "b5231789-c65e-4089-99c9-9fcc0b99f5ca"
      },
      "outputs": [],
      "source": [
        "def run_accuracy_pso_old(ITERATIONS = 32, POPULATION = 32):\n",
        "    algorithm = PSO(#pop_size=POPULATION, \n",
        "                    #w=0.3, c1=4.0, c2=1.0, \n",
        "                    #adaptive=False, initial_velocity='random', \n",
        "                    #max_velocity_rate=0.75, pertube_best=False,\n",
        "                    max_velocity_rate=0.25,\n",
        "                    pop_size=POPULATION)\n",
        "    term = get_termination(\"n_gen\", ITERATIONS)\n",
        "\n",
        "    res = minimize(problemAccuracy,\n",
        "                algorithm,\n",
        "                #seed=SEED,\n",
        "                save_history=False,\n",
        "                verbose=False,\n",
        "                output=MyOutput(),\n",
        "                termination = term)\n",
        "\n",
        "\n",
        "    index_best_individual = np.where(res.pop.get('F') == np.min(res.pop.get('F')))[0][0]\n",
        "    score_best_individual = res.pop.get('F')[index_best_individual]\n",
        "    parameters_best_individual = res.pop.get('X')[index_best_individual]\n",
        "\n",
        "    #print(f'Best Accuracy Score {-score_best_individual}')\n",
        "    #print(f'Model parameters: \\n {parameters_best_individual}')\n",
        "    return score_best_individual, parameters_best_individual, res"
      ]
    },
    {
      "cell_type": "code",
      "execution_count": null,
      "metadata": {},
      "outputs": [
        {
          "ename": "TypeError",
          "evalue": "run_accuracy_pso() got an unexpected keyword argument 'ITERATIONS'",
          "output_type": "error",
          "traceback": [
            "\u001b[1;31m---------------------------------------------------------------------------\u001b[0m",
            "\u001b[1;31mTypeError\u001b[0m                                 Traceback (most recent call last)",
            "\u001b[1;32m~\\AppData\\Local\\Temp\\ipykernel_22012\\979489431.py\u001b[0m in \u001b[0;36m<module>\u001b[1;34m\u001b[0m\n\u001b[1;32m----> 1\u001b[1;33m \u001b[0mscore_best_individual\u001b[0m\u001b[1;33m,\u001b[0m \u001b[0mparameters_best_individual\u001b[0m\u001b[1;33m,\u001b[0m \u001b[0mres\u001b[0m \u001b[1;33m=\u001b[0m \u001b[0mrun_accuracy_pso\u001b[0m\u001b[1;33m(\u001b[0m\u001b[0mITERATIONS\u001b[0m \u001b[1;33m=\u001b[0m \u001b[1;36m1\u001b[0m\u001b[1;33m,\u001b[0m \u001b[0mPOPULATION\u001b[0m \u001b[1;33m=\u001b[0m \u001b[1;36m1\u001b[0m\u001b[1;33m)\u001b[0m\u001b[1;33m\u001b[0m\u001b[1;33m\u001b[0m\u001b[0m\n\u001b[0m",
            "\u001b[1;31mTypeError\u001b[0m: run_accuracy_pso() got an unexpected keyword argument 'ITERATIONS'"
          ]
        }
      ],
      "source": [
        "score_best_individual, parameters_best_individual, res = run_accuracy_pso(ITERATIONS = 1, POPULATION = 1)"
      ]
    },
    {
      "cell_type": "code",
      "execution_count": null,
      "metadata": {
        "colab": {
          "base_uri": "https://localhost:8080/"
        },
        "id": "-F1E38iDlQUl",
        "outputId": "d83fa2a1-f2c2-49a3-c8a9-ddc5b449b2bb"
      },
      "outputs": [],
      "source": [
        "#final_model = lgb.LGBMClassifier(num_leaves       = int(np.round(parameters_best_individual[0])), \n",
        "#                                min_child_samples = int(np.round(parameters_best_individual[1])), \n",
        "#                                n_estimators      = int(np.round(parameters_best_individual[2])),\n",
        "#                                learning_rate     = parameters_best_individual[3] ,\n",
        "#                                subsample_for_bin = int(np.round(parameters_best_individual[4])),\n",
        "#                                min_split_gain    = parameters_best_individual[5],\n",
        "#                                min_child_weight  = parameters_best_individual[6],\n",
        "#                                reg_alpha         = parameters_best_individual[7],\n",
        "#                                reg_lambda        = parameters_best_individual[8],\n",
        "#                                max_depth=- 1\n",
        "#                                )\n",
        "#\n",
        "#\n",
        "#kfold = KFold(n_splits = 3, shuffle = True)\n",
        "#\n",
        "#scores = cross_val_score(final_model, x_wine, y_wine, cv = kfold, n_jobs=-1)  \n",
        "#\n",
        "#result = scores.mean()\n",
        "###print(result)"
      ]
    },
    {
      "cell_type": "code",
      "execution_count": null,
      "metadata": {
        "id": "3tT-sQocbOnb"
      },
      "outputs": [],
      "source": [
        "#trlist = np.array([])\n",
        "#for i in range(len(res.history)):\n",
        "#  trlist = np.append(trlist, -res.history[i].pop.get('F').reshape(-1)) "
      ]
    },
    {
      "cell_type": "code",
      "execution_count": null,
      "metadata": {
        "id": "zJu3r3qI4crG"
      },
      "outputs": [],
      "source": [
        "#scorelist = []\n",
        "#\n",
        "#for i in range(len(trlist)):\n",
        "##for i in range(1):\n",
        "#  if i == 0:\n",
        "#    scorelist.append(trlist[i])\n",
        "#  elif trlist[i] > scorelist[i-1]:\n",
        "#    scorelist.append(trlist[i])\n",
        "#  else:\n",
        "#    scorelist.append(scorelist[i-1])"
      ]
    },
    {
      "cell_type": "code",
      "execution_count": null,
      "metadata": {
        "id": "kEcgjgreFrvp"
      },
      "outputs": [],
      "source": [
        "#Accuracy_PSO = scorelist"
      ]
    },
    {
      "cell_type": "code",
      "execution_count": null,
      "metadata": {
        "colab": {
          "base_uri": "https://localhost:8080/",
          "height": 351
        },
        "id": "qLYLRAg_51U5",
        "outputId": "fbd0c7ea-1543-4268-c387-0dd27f8a2a5e"
      },
      "outputs": [],
      "source": [
        "#plt.plot(Accuracy_PSO);"
      ]
    },
    {
      "cell_type": "code",
      "execution_count": null,
      "metadata": {
        "colab": {
          "base_uri": "https://localhost:8080/",
          "height": 364
        },
        "id": "Ie2LDl1g6Yni",
        "outputId": "bcc10420-9cd1-4808-9914-9f90097b8e46"
      },
      "outputs": [],
      "source": [
        "#tracking = [-np.min(individual.pop.get('F')) for individual in res.history ]\n",
        "#tracking_PSO_Accuracy = tracking\n",
        "#plt.plot(tracking)"
      ]
    },
    {
      "attachments": {},
      "cell_type": "markdown",
      "metadata": {},
      "source": [
        "### F1 Score "
      ]
    },
    {
      "cell_type": "code",
      "execution_count": null,
      "metadata": {},
      "outputs": [],
      "source": [
        "def run_f1_pso_old(ITERATIONS = 32, POPULATION = 32):\n",
        "    algorithm = PSO(#pop_size=POPULATION, \n",
        "                    #w=0.3, c1=4.0, c2=1.0, \n",
        "                    #adaptive=False, initial_velocity='random', \n",
        "                    #max_velocity_rate=0.75, pertube_best=False,\n",
        "                    max_velocity_rate=0.25,\n",
        "                    pop_size=POPULATION)\n",
        "    term = get_termination(\"n_gen\", ITERATIONS)\n",
        "\n",
        "    res = minimize(problemF1,\n",
        "                algorithm,\n",
        "                #seed=SEED,\n",
        "                save_history=False,\n",
        "                verbose=False,\n",
        "                output=MyOutput(),\n",
        "                termination = term)\n",
        "\n",
        "\n",
        "    index_best_individual = np.where(res.pop.get('F') == np.min(res.pop.get('F')))[0][0]\n",
        "    score_best_individual = res.pop.get('F')[index_best_individual]\n",
        "    parameters_best_individual = res.pop.get('X')[index_best_individual]\n",
        "\n",
        "    #print(f'Best F1 Score {-score_best_individual}')\n",
        "    #print(f'Model parameters: \\n {parameters_best_individual}')\n",
        "    return score_best_individual, parameters_best_individual, res"
      ]
    },
    {
      "cell_type": "code",
      "execution_count": null,
      "metadata": {},
      "outputs": [
        {
          "name": "stderr",
          "output_type": "stream",
          "text": [
            "C:\\Users\\Felps\\AppData\\Local\\Temp\\ipykernel_19812\\3496873573.py:8: DeprecationWarning: Call to deprecated function (or staticmethod) get_termination. (Please use `from pymoo.termination import get_termination`)\n",
            "  term = get_termination(\"n_gen\", ITERATIONS)\n"
          ]
        },
        {
          "data": {
            "application/vnd.jupyter.widget-view+json": {
              "model_id": "80ad4327354d410f9f61fa07cfbc21a5",
              "version_major": 2,
              "version_minor": 0
            },
            "text/plain": [
              "  0%|          | 0/32 [00:00<?, ?it/s]"
            ]
          },
          "metadata": {},
          "output_type": "display_data"
        }
      ],
      "source": [
        "score_best_individual, parameters_best_individual, res = run_f1_pso(ITERATIONS = 1, POPULATION = 1)"
      ]
    },
    {
      "cell_type": "code",
      "execution_count": null,
      "metadata": {},
      "outputs": [],
      "source": [
        "#trlist = np.array([])\n",
        "#for i in range(len(res.history)):\n",
        "#  trlist = np.append(trlist, -res.history[i].pop.get('F').reshape(-1)) \n",
        "#  \n",
        "#scorelist = []\n",
        "#\n",
        "#for i in range(len(trlist)):\n",
        "##for i in range(1):\n",
        "#  if i == 0:\n",
        "#    scorelist.append(trlist[i])\n",
        "#  elif trlist[i] > scorelist[i-1]:\n",
        "#    scorelist.append(trlist[i])\n",
        "#  else:\n",
        "#    scorelist.append(scorelist[i-1])\n",
        "#    \n",
        "#F1_PSO = scorelist\n",
        "#\n",
        "#plt.plot(scorelist);"
      ]
    },
    {
      "cell_type": "code",
      "execution_count": null,
      "metadata": {},
      "outputs": [],
      "source": [
        "#tracking = [-np.min(individual.pop.get('F')) for individual in res.history ]\n",
        "#tracking_PSO_F1 = tracking\n",
        "#plt.plot(tracking)"
      ]
    },
    {
      "attachments": {},
      "cell_type": "markdown",
      "metadata": {},
      "source": [
        "### AUC"
      ]
    },
    {
      "cell_type": "code",
      "execution_count": null,
      "metadata": {},
      "outputs": [],
      "source": [
        "def run_auc_pso_old(ITERATIONS = 32, POPULATION = 32):\n",
        "    algorithm = PSO(#pop_size=POPULATION, \n",
        "                    #w=0.3, c1=4.0, c2=1.0, \n",
        "                    #adaptive=False, initial_velocity='random', \n",
        "                    #max_velocity_rate=0.75, pertube_best=False,\n",
        "                    max_velocity_rate=0.25,\n",
        "                    pop_size=POPULATION)\n",
        "    term = get_termination(\"n_gen\", ITERATIONS)\n",
        "\n",
        "    res = minimize(problemAUC,\n",
        "                algorithm,\n",
        "                #seed=SEED,\n",
        "                save_history=False,\n",
        "                verbose=False,\n",
        "                output=MyOutput(),\n",
        "                termination = term)\n",
        "\n",
        "\n",
        "    index_best_individual = np.where(res.pop.get('F') == np.min(res.pop.get('F')))[0][0]\n",
        "    score_best_individual = res.pop.get('F')[index_best_individual]\n",
        "    parameters_best_individual = res.pop.get('X')[index_best_individual]\n",
        "\n",
        "    #print(f'Best AUC Score {-score_best_individual}')\n",
        "    #print(f'Model parameters: \\n {parameters_best_individual}')\n",
        "    \n",
        "    return score_best_individual, parameters_best_individual, res"
      ]
    },
    {
      "cell_type": "code",
      "execution_count": null,
      "metadata": {},
      "outputs": [
        {
          "name": "stderr",
          "output_type": "stream",
          "text": [
            "C:\\Users\\Felps\\AppData\\Local\\Temp\\ipykernel_19812\\1707635262.py:8: DeprecationWarning: Call to deprecated function (or staticmethod) get_termination. (Please use `from pymoo.termination import get_termination`)\n",
            "  term = get_termination(\"n_gen\", ITERATIONS)\n"
          ]
        },
        {
          "data": {
            "application/vnd.jupyter.widget-view+json": {
              "model_id": "1ffa660206264555bb6e082015cd0c81",
              "version_major": 2,
              "version_minor": 0
            },
            "text/plain": [
              "  0%|          | 0/32 [00:00<?, ?it/s]"
            ]
          },
          "metadata": {},
          "output_type": "display_data"
        },
        {
          "name": "stderr",
          "output_type": "stream",
          "text": [
            "c:\\Users\\Felps\\anaconda3\\envs\\pymoo\\lib\\site-packages\\pymoo\\util\\misc.py:99: RuntimeWarning: invalid value encountered in divide\n",
            "  return lambda a, b: np.sqrt((((a - b) / (xu - xl)) ** 2).sum(axis=1))\n"
          ]
        },
        {
          "ename": "TypeError",
          "evalue": "'>' not supported between instances of 'NoneType' and 'NoneType'",
          "output_type": "error",
          "traceback": [
            "\u001b[1;31m---------------------------------------------------------------------------\u001b[0m",
            "\u001b[1;31mTypeError\u001b[0m                                 Traceback (most recent call last)",
            "Cell \u001b[1;32mIn[59], line 1\u001b[0m\n\u001b[1;32m----> 1\u001b[0m score_best_individual, parameters_best_individual, res \u001b[39m=\u001b[39m run_auc_pso(ITERATIONS \u001b[39m=\u001b[39;49m \u001b[39m15\u001b[39;49m, POPULATION \u001b[39m=\u001b[39;49m \u001b[39m5\u001b[39;49m)\n",
            "Cell \u001b[1;32mIn[26], line 10\u001b[0m, in \u001b[0;36mrun_auc_pso\u001b[1;34m(ITERATIONS, POPULATION)\u001b[0m\n\u001b[0;32m      2\u001b[0m algorithm \u001b[39m=\u001b[39m PSO(\u001b[39m#pop_size=POPULATION, \u001b[39;00m\n\u001b[0;32m      3\u001b[0m                 \u001b[39m#w=0.3, c1=4.0, c2=1.0, \u001b[39;00m\n\u001b[0;32m      4\u001b[0m                 \u001b[39m#adaptive=False, initial_velocity='random', \u001b[39;00m\n\u001b[0;32m      5\u001b[0m                 \u001b[39m#max_velocity_rate=0.75, pertube_best=False,\u001b[39;00m\n\u001b[0;32m      6\u001b[0m                 max_velocity_rate\u001b[39m=\u001b[39m\u001b[39m0.25\u001b[39m,\n\u001b[0;32m      7\u001b[0m                 pop_size\u001b[39m=\u001b[39mPOPULATION)\n\u001b[0;32m      8\u001b[0m term \u001b[39m=\u001b[39m get_termination(\u001b[39m\"\u001b[39m\u001b[39mn_gen\u001b[39m\u001b[39m\"\u001b[39m, ITERATIONS)\n\u001b[1;32m---> 10\u001b[0m res \u001b[39m=\u001b[39m minimize(problemAUC,\n\u001b[0;32m     11\u001b[0m             algorithm,\n\u001b[0;32m     12\u001b[0m             \u001b[39m#seed=SEED,\u001b[39;49;00m\n\u001b[0;32m     13\u001b[0m             save_history\u001b[39m=\u001b[39;49m\u001b[39mFalse\u001b[39;49;00m,\n\u001b[0;32m     14\u001b[0m             verbose\u001b[39m=\u001b[39;49m\u001b[39mFalse\u001b[39;49;00m,\n\u001b[0;32m     15\u001b[0m             output\u001b[39m=\u001b[39;49mMyOutput(),\n\u001b[0;32m     16\u001b[0m             termination \u001b[39m=\u001b[39;49m term)\n\u001b[0;32m     19\u001b[0m index_best_individual \u001b[39m=\u001b[39m np\u001b[39m.\u001b[39mwhere(res\u001b[39m.\u001b[39mpop\u001b[39m.\u001b[39mget(\u001b[39m'\u001b[39m\u001b[39mF\u001b[39m\u001b[39m'\u001b[39m) \u001b[39m==\u001b[39m np\u001b[39m.\u001b[39mmin(res\u001b[39m.\u001b[39mpop\u001b[39m.\u001b[39mget(\u001b[39m'\u001b[39m\u001b[39mF\u001b[39m\u001b[39m'\u001b[39m)))[\u001b[39m0\u001b[39m][\u001b[39m0\u001b[39m]\n\u001b[0;32m     20\u001b[0m score_best_individual \u001b[39m=\u001b[39m res\u001b[39m.\u001b[39mpop\u001b[39m.\u001b[39mget(\u001b[39m'\u001b[39m\u001b[39mF\u001b[39m\u001b[39m'\u001b[39m)[index_best_individual]\n",
            "File \u001b[1;32mc:\\Users\\Felps\\anaconda3\\envs\\pymoo\\lib\\site-packages\\pymoo\\optimize.py:67\u001b[0m, in \u001b[0;36mminimize\u001b[1;34m(problem, algorithm, termination, copy_algorithm, copy_termination, **kwargs)\u001b[0m\n\u001b[0;32m     64\u001b[0m     algorithm\u001b[39m.\u001b[39msetup(problem, \u001b[39m*\u001b[39m\u001b[39m*\u001b[39mkwargs)\n\u001b[0;32m     66\u001b[0m \u001b[39m# actually execute the algorithm\u001b[39;00m\n\u001b[1;32m---> 67\u001b[0m res \u001b[39m=\u001b[39m algorithm\u001b[39m.\u001b[39;49mrun()\n\u001b[0;32m     69\u001b[0m \u001b[39m# store the deep copied algorithm in the result object\u001b[39;00m\n\u001b[0;32m     70\u001b[0m res\u001b[39m.\u001b[39malgorithm \u001b[39m=\u001b[39m algorithm\n",
            "File \u001b[1;32mc:\\Users\\Felps\\anaconda3\\envs\\pymoo\\lib\\site-packages\\pymoo\\core\\algorithm.py:141\u001b[0m, in \u001b[0;36mAlgorithm.run\u001b[1;34m(self)\u001b[0m\n\u001b[0;32m    139\u001b[0m \u001b[39mdef\u001b[39;00m \u001b[39mrun\u001b[39m(\u001b[39mself\u001b[39m):\n\u001b[0;32m    140\u001b[0m     \u001b[39mwhile\u001b[39;00m \u001b[39mself\u001b[39m\u001b[39m.\u001b[39mhas_next():\n\u001b[1;32m--> 141\u001b[0m         \u001b[39mself\u001b[39;49m\u001b[39m.\u001b[39;49mnext()\n\u001b[0;32m    142\u001b[0m     \u001b[39mreturn\u001b[39;00m \u001b[39mself\u001b[39m\u001b[39m.\u001b[39mresult()\n",
            "File \u001b[1;32mc:\\Users\\Felps\\anaconda3\\envs\\pymoo\\lib\\site-packages\\pymoo\\core\\algorithm.py:162\u001b[0m, in \u001b[0;36mAlgorithm.next\u001b[1;34m(self)\u001b[0m\n\u001b[0;32m    160\u001b[0m \u001b[39mif\u001b[39;00m infills \u001b[39mis\u001b[39;00m \u001b[39mnot\u001b[39;00m \u001b[39mNone\u001b[39;00m:\n\u001b[0;32m    161\u001b[0m     \u001b[39mself\u001b[39m\u001b[39m.\u001b[39mevaluator\u001b[39m.\u001b[39meval(\u001b[39mself\u001b[39m\u001b[39m.\u001b[39mproblem, infills, algorithm\u001b[39m=\u001b[39m\u001b[39mself\u001b[39m)\n\u001b[1;32m--> 162\u001b[0m     \u001b[39mself\u001b[39;49m\u001b[39m.\u001b[39;49madvance(infills\u001b[39m=\u001b[39;49minfills)\n\u001b[0;32m    164\u001b[0m \u001b[39m# if the algorithm does not follow the infill-advance scheme just call advance\u001b[39;00m\n\u001b[0;32m    165\u001b[0m \u001b[39melse\u001b[39;00m:\n\u001b[0;32m    166\u001b[0m     \u001b[39mself\u001b[39m\u001b[39m.\u001b[39madvance()\n",
            "File \u001b[1;32mc:\\Users\\Felps\\anaconda3\\envs\\pymoo\\lib\\site-packages\\pymoo\\core\\algorithm.py:228\u001b[0m, in \u001b[0;36mAlgorithm.advance\u001b[1;34m(self, infills, **kwargs)\u001b[0m\n\u001b[0;32m    223\u001b[0m     \u001b[39mself\u001b[39m\u001b[39m.\u001b[39m_post_advance()\n\u001b[0;32m    225\u001b[0m \u001b[39melse\u001b[39;00m:\n\u001b[0;32m    226\u001b[0m \n\u001b[0;32m    227\u001b[0m     \u001b[39m# call the implementation of the advance method - if the infill is not None\u001b[39;00m\n\u001b[1;32m--> 228\u001b[0m     val \u001b[39m=\u001b[39m \u001b[39mself\u001b[39m\u001b[39m.\u001b[39m_advance(infills\u001b[39m=\u001b[39minfills, \u001b[39m*\u001b[39m\u001b[39m*\u001b[39mkwargs)\n\u001b[0;32m    230\u001b[0m     \u001b[39m# always advance to the next iteration - except if the algorithm returns False\u001b[39;00m\n\u001b[0;32m    231\u001b[0m     \u001b[39mif\u001b[39;00m val \u001b[39mis\u001b[39;00m \u001b[39mNone\u001b[39;00m \u001b[39mor\u001b[39;00m val:\n",
            "File \u001b[1;32mc:\\Users\\Felps\\anaconda3\\envs\\pymoo\\lib\\site-packages\\pymoo\\algorithms\\soo\\nonconvex\\pso.py:281\u001b[0m, in \u001b[0;36mPSO._advance\u001b[1;34m(self, infills, **kwargs)\u001b[0m\n\u001b[0;32m    278\u001b[0m \u001b[39mself\u001b[39m\u001b[39m.\u001b[39mpop[has_improved] \u001b[39m=\u001b[39m infills[has_improved]\n\u001b[0;32m    280\u001b[0m \u001b[39mif\u001b[39;00m \u001b[39mself\u001b[39m\u001b[39m.\u001b[39madaptive:\n\u001b[1;32m--> 281\u001b[0m     \u001b[39mself\u001b[39;49m\u001b[39m.\u001b[39;49m_adapt()\n",
            "File \u001b[1;32mc:\\Users\\Felps\\anaconda3\\envs\\pymoo\\lib\\site-packages\\pymoo\\algorithms\\soo\\nonconvex\\pso.py:303\u001b[0m, in \u001b[0;36mPSO._adapt\u001b[1;34m(self)\u001b[0m\n\u001b[0;32m    300\u001b[0m f \u001b[39m=\u001b[39m (g_D \u001b[39m-\u001b[39m _min) \u001b[39m/\u001b[39m (_max \u001b[39m-\u001b[39m _min \u001b[39m+\u001b[39m \u001b[39m1e-32\u001b[39m)\n\u001b[0;32m    302\u001b[0m S \u001b[39m=\u001b[39m np\u001b[39m.\u001b[39marray([S1_exploration(f), S2_exploitation(f), S3_convergence(f), S4_jumping_out(f)])\n\u001b[1;32m--> 303\u001b[0m strategy \u001b[39m=\u001b[39m S\u001b[39m.\u001b[39;49margmax() \u001b[39m+\u001b[39m \u001b[39m1\u001b[39m\n\u001b[0;32m    305\u001b[0m delta \u001b[39m=\u001b[39m \u001b[39m0.05\u001b[39m \u001b[39m+\u001b[39m (np\u001b[39m.\u001b[39mrandom\u001b[39m.\u001b[39mrandom() \u001b[39m*\u001b[39m \u001b[39m0.05\u001b[39m)\n\u001b[0;32m    307\u001b[0m \u001b[39mif\u001b[39;00m strategy \u001b[39m==\u001b[39m \u001b[39m1\u001b[39m:\n",
            "\u001b[1;31mTypeError\u001b[0m: '>' not supported between instances of 'NoneType' and 'NoneType'"
          ]
        }
      ],
      "source": [
        "score_best_individual, parameters_best_individual, res = run_auc_pso(ITERATIONS = 15, POPULATION = 5)"
      ]
    },
    {
      "cell_type": "code",
      "execution_count": null,
      "metadata": {},
      "outputs": [],
      "source": [
        "#trlist = np.array([])\n",
        "#for i in range(len(res.history)):\n",
        "#  trlist = np.append(trlist, -res.history[i].pop.get('F').reshape(-1)) \n",
        "#  \n",
        "#scorelist = []\n",
        "#\n",
        "#for i in range(len(trlist)):\n",
        "##for i in range(1):\n",
        "#  if i == 0:\n",
        "#    scorelist.append(trlist[i])\n",
        "#  elif trlist[i] > scorelist[i-1]:\n",
        "#    scorelist.append(trlist[i])\n",
        "#  else:\n",
        "#    scorelist.append(scorelist[i-1])\n",
        "#    \n",
        "#AUC_PSO = scorelist\n",
        "#\n",
        "#plt.plot(scorelist);"
      ]
    },
    {
      "cell_type": "code",
      "execution_count": null,
      "metadata": {},
      "outputs": [],
      "source": [
        "#tracking = [-np.min(individual.pop.get('F')) for individual in res.history ]\n",
        "#tracking_PSO_AUC = tracking\n",
        "#plt.plot(tracking)"
      ]
    },
    {
      "attachments": {},
      "cell_type": "markdown",
      "metadata": {
        "id": "iTAAhn6w-Be4"
      },
      "source": [
        "## Algoritmo Genético (GA)"
      ]
    },
    {
      "attachments": {},
      "cell_type": "markdown",
      "metadata": {},
      "source": [
        "### Acurácia"
      ]
    },
    {
      "cell_type": "code",
      "execution_count": 99,
      "metadata": {
        "id": "1iXezRJUgWiM"
      },
      "outputs": [],
      "source": [
        "ITERATIONS = 32\n",
        "POPULATION = 32"
      ]
    },
    {
      "cell_type": "code",
      "execution_count": 100,
      "metadata": {},
      "outputs": [],
      "source": [
        "from pymoo.algorithms.soo.nonconvex.ga import GA"
      ]
    },
    {
      "cell_type": "code",
      "execution_count": 101,
      "metadata": {
        "colab": {
          "base_uri": "https://localhost:8080/",
          "height": 848,
          "referenced_widgets": [
            "12434838d89048188eefe1af0332bfd6",
            "b6288aa156624b108015ab993c54d52b",
            "f45e5f0d4187404fb8f63acd3c26fe17",
            "aaa16b6dbffd42ef973b1826e5ed2242",
            "8721e5217b97444d948e5b85c6fd53c7",
            "d25235d18f8045de9948417d13538ef3",
            "01d3490253a8464281845cb171385d59",
            "7f079b743c6e4ad897ae55ba366a15b9",
            "54cbbc7ffbcc401abfbf3167f882019e",
            "d539e4a476cb4ae28e78769b17b97aa9",
            "fb379b55e7bd4b3bb7ed4b0ec6390b2e"
          ]
        },
        "id": "TK9YdWdMfAw3",
        "outputId": "60624262-0c77-4e32-8106-540ea70cd8f9"
      },
      "outputs": [],
      "source": [
        "def run_accuracy_ga(ITERATIONS = 32, POPULATION = 32):\n",
        "\n",
        "    algorithm = GA(pop_size=POPULATION)\n",
        "\n",
        "    term = get_termination(\"n_gen\", ITERATIONS)\n",
        "\n",
        "    res = minimize(problemAccuracy,\n",
        "                algorithm,\n",
        "                save_history=False,\n",
        "                verbose=True,\n",
        "                output=MyOutput(),\n",
        "                termination = term)\n",
        "\n",
        "\n",
        "    index_best_individual = np.where(res.pop.get('F') == np.min(res.pop.get('F')))[0][0]\n",
        "    score_best_individual = res.pop.get('F')[index_best_individual]\n",
        "    parameters_best_individual = res.pop.get('X')[index_best_individual]\n",
        "\n",
        "    #print(f'Best Accuracy Score {-score_best_individual}')\n",
        "    #print(f'Model parameters: \\n {parameters_best_individual}')\n",
        "    \n",
        "    return score_best_individual, parameters_best_individual, res"
      ]
    },
    {
      "cell_type": "code",
      "execution_count": 102,
      "metadata": {},
      "outputs": [
        {
          "name": "stderr",
          "output_type": "stream",
          "text": [
            "C:\\Users\\Felps\\AppData\\Local\\Temp\\ipykernel_19532\\2209151331.py:5: DeprecationWarning: Call to deprecated function (or staticmethod) get_termination. (Please use `from pymoo.termination import get_termination`)\n",
            "  term = get_termination(\"n_gen\", ITERATIONS)\n"
          ]
        },
        {
          "data": {
            "application/vnd.jupyter.widget-view+json": {
              "model_id": "586705b6880846b29e24cfa9496eac5a",
              "version_major": 2,
              "version_minor": 0
            },
            "text/plain": [
              "  0%|          | 0/32 [00:00<?, ?it/s]"
            ]
          },
          "metadata": {},
          "output_type": "display_data"
        },
        {
          "name": "stdout",
          "output_type": "stream",
          "text": [
            "=======================================================================\n",
            "n_gen  |  n_eval  |     score     |              Parameters            \n",
            "=======================================================================\n",
            "     1 |        1 |  0.2297722244 |                                   -\n"
          ]
        }
      ],
      "source": [
        "score_best_individual, parameters_best_individual, res = run_accuracy_ga(ITERATIONS = 1, POPULATION = 1)"
      ]
    },
    {
      "cell_type": "code",
      "execution_count": 103,
      "metadata": {
        "colab": {
          "base_uri": "https://localhost:8080/",
          "height": 364
        },
        "id": "Aw1RtuhKgPkR",
        "outputId": "6b173010-6841-44be-fc9c-1e08c709308c"
      },
      "outputs": [],
      "source": [
        "#tracking = [-np.min(individual.pop.get('F')) for individual in res.history ]\n",
        "#tracking_GA_Accuracy = tracking\n",
        "#plt.plot(tracking)"
      ]
    },
    {
      "cell_type": "code",
      "execution_count": 104,
      "metadata": {
        "id": "EuxPTJqU95Ib"
      },
      "outputs": [],
      "source": [
        "#trlist = np.array([])\n",
        "#for i in range(len(res.history)):\n",
        "#  trlist = np.append(trlist, -res.history[i].pop.get('F').reshape(-1)) "
      ]
    },
    {
      "cell_type": "code",
      "execution_count": 105,
      "metadata": {
        "id": "COvG1svS97RF"
      },
      "outputs": [],
      "source": [
        "#scorelist = []\n",
        "#\n",
        "#for i in range(len(trlist)):\n",
        "#  if i == 0:\n",
        "#    scorelist.append(trlist[i])\n",
        "#  elif trlist[i] > scorelist[i-1]:\n",
        "#    scorelist.append(trlist[i])\n",
        "#  else:\n",
        "#    scorelist.append(scorelist[i-1])"
      ]
    },
    {
      "cell_type": "code",
      "execution_count": 106,
      "metadata": {
        "id": "P4ubDrqPGUnS"
      },
      "outputs": [],
      "source": [
        "#Accuracy_GA = scorelist"
      ]
    },
    {
      "cell_type": "code",
      "execution_count": 107,
      "metadata": {
        "colab": {
          "base_uri": "https://localhost:8080/",
          "height": 347
        },
        "id": "N3xxFM4e99pt",
        "outputId": "e0d19dc9-1416-42a5-c33f-945a66a17ee0"
      },
      "outputs": [],
      "source": [
        "#plt.plot(scorelist);"
      ]
    },
    {
      "attachments": {},
      "cell_type": "markdown",
      "metadata": {},
      "source": [
        "### F1 Score "
      ]
    },
    {
      "cell_type": "code",
      "execution_count": 108,
      "metadata": {},
      "outputs": [],
      "source": [
        "from pymoo.algorithms.soo.nonconvex.ga import GA\n",
        "def run_f1_ga(ITERATIONS = 32, POPULATION = 32):\n",
        "    algorithm = GA(pop_size=POPULATION)\n",
        "\n",
        "    term = get_termination(\"n_gen\", ITERATIONS)\n",
        "\n",
        "    res = minimize(problemF1,\n",
        "                algorithm,\n",
        "                save_history=False,\n",
        "                verbose=False,\n",
        "                output=MyOutput(),\n",
        "                termination = term)\n",
        "\n",
        "\n",
        "    index_best_individual = np.where(res.pop.get('F') == np.min(res.pop.get('F')))[0][0]\n",
        "    score_best_individual = res.pop.get('F')[index_best_individual]\n",
        "    parameters_best_individual = res.pop.get('X')[index_best_individual]\n",
        "\n",
        "    #print(f'Best F1 Score {-score_best_individual}')\n",
        "    #print(f'Model parameters: \\n {parameters_best_individual}')\n",
        "    \n",
        "    return score_best_individual, parameters_best_individual, res"
      ]
    },
    {
      "cell_type": "code",
      "execution_count": 109,
      "metadata": {},
      "outputs": [
        {
          "name": "stderr",
          "output_type": "stream",
          "text": [
            "C:\\Users\\Felps\\AppData\\Local\\Temp\\ipykernel_19532\\1994123235.py:5: DeprecationWarning: Call to deprecated function (or staticmethod) get_termination. (Please use `from pymoo.termination import get_termination`)\n",
            "  term = get_termination(\"n_gen\", ITERATIONS)\n"
          ]
        },
        {
          "data": {
            "application/vnd.jupyter.widget-view+json": {
              "model_id": "c6bd201bebb14e9dabb45904c9d7bdc5",
              "version_major": 2,
              "version_minor": 0
            },
            "text/plain": [
              "  0%|          | 0/32 [00:00<?, ?it/s]"
            ]
          },
          "metadata": {},
          "output_type": "display_data"
        }
      ],
      "source": [
        "score_best_individual, parameters_best_individual, res = run_f1_ga(ITERATIONS = 1, POPULATION = 1)"
      ]
    },
    {
      "cell_type": "code",
      "execution_count": 110,
      "metadata": {},
      "outputs": [],
      "source": [
        "#trlist = np.array([])\n",
        "#for i in range(len(res.history)):\n",
        "#  trlist = np.append(trlist, -res.history[i].pop.get('F').reshape(-1)) \n",
        "#  \n",
        "#scorelist = []\n",
        "#\n",
        "#for i in range(len(trlist)):\n",
        "##for i in range(1):\n",
        "#  if i == 0:\n",
        "#    scorelist.append(trlist[i])\n",
        "#  elif trlist[i] > scorelist[i-1]:\n",
        "#    scorelist.append(trlist[i])\n",
        "#  else:\n",
        "#    scorelist.append(scorelist[i-1])\n",
        "#    \n",
        "#F1_GA = scorelist\n",
        "#\n",
        "#plt.plot(scorelist);"
      ]
    },
    {
      "cell_type": "code",
      "execution_count": 111,
      "metadata": {},
      "outputs": [],
      "source": [
        "#tracking = [-np.min(individual.pop.get('F')) for individual in res.history ]\n",
        "#tracking_GA_F1 = tracking\n",
        "#plt.plot(tracking)"
      ]
    },
    {
      "attachments": {},
      "cell_type": "markdown",
      "metadata": {},
      "source": [
        "### AUC"
      ]
    },
    {
      "cell_type": "code",
      "execution_count": 112,
      "metadata": {},
      "outputs": [],
      "source": [
        "from pymoo.algorithms.soo.nonconvex.ga import GA\n",
        "def run_auc_ga(ITERATIONS = 32, POPULATION = 32):\n",
        "    algorithm = GA(pop_size=POPULATION)\n",
        "\n",
        "    term = get_termination(\"n_gen\", ITERATIONS)\n",
        "\n",
        "    res = minimize(problemAUC,\n",
        "                algorithm,\n",
        "                save_history=False,\n",
        "                verbose=False,\n",
        "                output=MyOutput(),\n",
        "                termination = term)\n",
        "\n",
        "\n",
        "    index_best_individual = np.where(res.pop.get('F') == np.min(res.pop.get('F')))[0][0]\n",
        "    score_best_individual = res.pop.get('F')[index_best_individual]\n",
        "    parameters_best_individual = res.pop.get('X')[index_best_individual]\n",
        "\n",
        "    #print(f'Best AUC Score {-score_best_individual}')\n",
        "    #print(f'Model parameters: \\n {parameters_best_individual}')\n",
        "    \n",
        "    return score_best_individual, parameters_best_individual, res"
      ]
    },
    {
      "cell_type": "code",
      "execution_count": 113,
      "metadata": {},
      "outputs": [
        {
          "name": "stderr",
          "output_type": "stream",
          "text": [
            "C:\\Users\\Felps\\AppData\\Local\\Temp\\ipykernel_19532\\3250583479.py:5: DeprecationWarning: Call to deprecated function (or staticmethod) get_termination. (Please use `from pymoo.termination import get_termination`)\n",
            "  term = get_termination(\"n_gen\", ITERATIONS)\n"
          ]
        },
        {
          "data": {
            "application/vnd.jupyter.widget-view+json": {
              "model_id": "8f9646472d7248acbea322d5b6c70a2d",
              "version_major": 2,
              "version_minor": 0
            },
            "text/plain": [
              "  0%|          | 0/32 [00:00<?, ?it/s]"
            ]
          },
          "metadata": {},
          "output_type": "display_data"
        }
      ],
      "source": [
        "score_best_individual, parameters_best_individual, res = run_auc_ga(ITERATIONS = 1, POPULATION = 1)"
      ]
    },
    {
      "cell_type": "code",
      "execution_count": 114,
      "metadata": {},
      "outputs": [],
      "source": [
        "#trlist = np.array([])\n",
        "#for i in range(len(res.history)):\n",
        "#  trlist = np.append(trlist, -res.history[i].pop.get('F').reshape(-1)) \n",
        "#  \n",
        "#scorelist = []\n",
        "#\n",
        "#for i in range(len(trlist)):\n",
        "##for i in range(1):\n",
        "#  if i == 0:\n",
        "#    scorelist.append(trlist[i])\n",
        "#  elif trlist[i] > scorelist[i-1]:\n",
        "#    scorelist.append(trlist[i])\n",
        "#  else:\n",
        "#    scorelist.append(scorelist[i-1])\n",
        "#    \n",
        "#AUC_GA = scorelist\n",
        "#\n",
        "#plt.plot(scorelist);"
      ]
    },
    {
      "cell_type": "code",
      "execution_count": 115,
      "metadata": {},
      "outputs": [],
      "source": [
        "#tracking = [-np.min(individual.pop.get('F')) for individual in res.history ]\n",
        "#tracking_GA_AUC = tracking\n",
        "#plt.plot(tracking)"
      ]
    },
    {
      "attachments": {},
      "cell_type": "markdown",
      "metadata": {
        "id": "F-WtiEIO0kFu"
      },
      "source": [
        "## Grid Search"
      ]
    },
    {
      "attachments": {},
      "cell_type": "markdown",
      "metadata": {},
      "source": [
        "### Acurácia"
      ]
    },
    {
      "cell_type": "code",
      "execution_count": 116,
      "metadata": {
        "id": "OvuV46Aa0dBR"
      },
      "outputs": [],
      "source": [
        "from sklearn.model_selection import GridSearchCV"
      ]
    },
    {
      "cell_type": "code",
      "execution_count": 117,
      "metadata": {
        "colab": {
          "base_uri": "https://localhost:8080/"
        },
        "id": "X4nK3alPCEQm",
        "outputId": "ece560c4-eb7c-4e23-e62a-b9423bd07386"
      },
      "outputs": [],
      "source": [
        "#n_possibilities = 2\n",
        "#\n",
        "##num_leaves_grid = [i for i in range(num_leaves_min,num_leaves_max, int((num_leaves_max)/13))]\n",
        "#num_leaves_grid = [i for i in map(lambda x: int(x), np.linspace(num_leaves_min, num_leaves_max, n_possibilities))]\n",
        "#num_leaves_grid = num_leaves_grid + [100, 50, 75, 125, 11,150]\n",
        "##print('Num_Leaves_Grid: ')\n",
        "##print(num_leaves_grid, len(num_leaves_grid))\n",
        "##print('\\n')\n",
        "#\n",
        "#\n",
        "#min_child_samples_grid = [i for i in map(lambda x: int(x), np.linspace(min_child_samples_min, min_child_samples_max, n_possibilities))]\n",
        "##print('min_child_samples_grid:')\n",
        "##print(min_child_samples_grid, len(min_child_samples_grid))\n",
        "##print('\\n')\n",
        "#\n",
        "#n_estimators_grid = [i for i in map(lambda x: int(x), np.linspace(n_estimators_min, n_estimators_max, n_possibilities))]\n",
        "##print('n_estimators_grid:')\n",
        "##print(n_estimators_grid, len(n_estimators_grid))\n",
        "##print('\\n')\n",
        "#\n",
        "#learning_rate_grid = np.linspace(learning_rate_min, learning_rate_max, n_possibilities)\n",
        "##print('learning_rate_grid:')\n",
        "##print(learning_rate_grid, len(learning_rate_grid))\n",
        "##print('\\n')\n",
        "#\n",
        "#subsample_for_bin_grid = [i for i in map(lambda x: int(x), np.linspace(subsample_for_bin_min, subsample_for_bin_max, n_possibilities))]\n",
        "##print('subsample_for_bin_grid:')\n",
        "##print(subsample_for_bin_grid, len(subsample_for_bin_grid))\n",
        "##print('\\n')\n",
        "#\n",
        "#min_split_gain_grid = np.linspace(min_split_gain_min, min_split_gain_max, n_possibilities)\n",
        "##print('min_split_gain_grid:')\n",
        "##print(min_split_gain_grid, len(min_split_gain_grid))\n",
        "##print('\\n')\n",
        "#\n",
        "#min_child_weight_grid = np.linspace(min_child_weight_min, min_child_weight_max, n_possibilities)\n",
        "##print('min_child_weight_grid:')\n",
        "##print(min_child_weight_grid, len(min_child_weight_grid))\n",
        "##print('\\n')\n",
        "#\n",
        "#reg_alpha_grid = np.linspace(reg_alpha_min, reg_alpha_max, n_possibilities)\n",
        "##print('reg_alpha_grid:')\n",
        "##print(reg_alpha_grid, len(reg_alpha_grid))\n",
        "##print('\\n')\n"
      ]
    },
    {
      "cell_type": "code",
      "execution_count": 118,
      "metadata": {
        "id": "sWL2gq5M0jmq"
      },
      "outputs": [],
      "source": [
        "#parametros = {'num_leaves': num_leaves_grid, #int\n",
        "#              'min_child_samples': min_child_samples_grid,#int\n",
        "#              'n_estimators': n_estimators_grid, #int\n",
        "#              'learning_rate': learning_rate_grid,\n",
        "#              'subsample_for_bin': subsample_for_bin_grid, # int\n",
        "#              'min_split_gain': min_split_gain_grid,\n",
        "#              'min_child_weight': min_child_weight_grid,\n",
        "#              'reg_alpha': reg_alpha_grid,\n",
        "#              'max_depth': [-1],\n",
        "#              'n_jobs': [-1]}"
      ]
    },
    {
      "cell_type": "code",
      "execution_count": 119,
      "metadata": {
        "colab": {
          "base_uri": "https://localhost:8080/"
        },
        "id": "Cg8ZpgTM0tK7",
        "outputId": "efa2aaa1-3397-45fe-83c3-2eea6127b6a7"
      },
      "outputs": [],
      "source": [
        "#kfold = KFold(n_splits = 3, shuffle = True)\n",
        "#grid_search = GridSearchCV(estimator = lgb.LGBMClassifier(), param_grid = parametros, cv = kfold, n_jobs= -1, verbose = 3)\n",
        "#grid_search.fit(x_wine, y_wine)\n",
        "#melhores_parametros = grid_search.best_params_\n",
        "#melhor_resultado = grid_search.best_score_\n",
        "##print(melhores_parametros)\n",
        "##print(melhor_resultado)"
      ]
    },
    {
      "cell_type": "code",
      "execution_count": 120,
      "metadata": {
        "colab": {
          "base_uri": "https://localhost:8080/"
        },
        "id": "ekOamIhnrFd5",
        "outputId": "4d91ab89-5f11-4dc4-d71b-3837ba0cd1e9"
      },
      "outputs": [],
      "source": [
        "#rid_search.cv_results_.keys()"
      ]
    },
    {
      "cell_type": "code",
      "execution_count": 121,
      "metadata": {
        "id": "uo45HhIasnc4"
      },
      "outputs": [],
      "source": [
        "#trlist = grid_search.cv_results_['mean_test_score']"
      ]
    },
    {
      "cell_type": "code",
      "execution_count": 122,
      "metadata": {
        "id": "k0PjBeFHIqKw"
      },
      "outputs": [],
      "source": [
        "#scorelist = []\n",
        "#\n",
        "#for i in range(len(trlist)):\n",
        "##for i in range(1):\n",
        "#  if i == 0:\n",
        "#    scorelist.append(trlist[i])\n",
        "#  elif trlist[i] > scorelist[i-1]:\n",
        "#    scorelist.append(trlist[i])\n",
        "#  else:\n",
        "#    scorelist.append(scorelist[i-1])"
      ]
    },
    {
      "cell_type": "code",
      "execution_count": 123,
      "metadata": {
        "colab": {
          "base_uri": "https://localhost:8080/"
        },
        "id": "xjb_n_Hkr3WK",
        "outputId": "91f6887b-7c92-4b1d-8719-825d2ce7d88e"
      },
      "outputs": [],
      "source": [
        "#tracking_GS_Accuracy = scorelist\n",
        "#plt.plot(scorelist); "
      ]
    },
    {
      "attachments": {},
      "cell_type": "markdown",
      "metadata": {},
      "source": [
        "### F1 Score"
      ]
    },
    {
      "cell_type": "code",
      "execution_count": 124,
      "metadata": {},
      "outputs": [],
      "source": [
        "#kfold = KFold(n_splits = 3, shuffle = True)\n",
        "#grid_search = GridSearchCV(estimator = lgb.LGBMClassifier(), param_grid = parametros, cv = kfold, n_jobs= -1, scoring='f1', verbose = 3)\n",
        "#grid_search.fit(x_wine, y_wine)\n",
        "#melhores_parametros = grid_search.best_params_\n",
        "#melhor_resultado = grid_search.best_score_\n",
        "##print(melhores_parametros)\n",
        "##print(melhor_resultado)\n",
        "#\n",
        "#trlist = grid_search.cv_results_['mean_test_score']\n",
        "#\n",
        "#\n",
        "#scorelist = []\n",
        "#\n",
        "#for i in range(len(trlist)):\n",
        "##for i in range(1):\n",
        "#  if i == 0:\n",
        "#    scorelist.append(trlist[i])\n",
        "#  elif trlist[i] > scorelist[i-1]:\n",
        "#    scorelist.append(trlist[i])\n",
        "#  else:\n",
        "#    scorelist.append(scorelist[i-1])\n",
        "#    \n",
        "#tracking_GS_F1 = scorelist\n",
        "#plt.plot(scorelist); "
      ]
    },
    {
      "attachments": {},
      "cell_type": "markdown",
      "metadata": {},
      "source": [
        "### AUC"
      ]
    },
    {
      "cell_type": "code",
      "execution_count": 125,
      "metadata": {},
      "outputs": [],
      "source": [
        "#kfold = KFold(n_splits = 3, shuffle = True)\n",
        "#grid_search = GridSearchCV(estimator = lgb.LGBMClassifier(), param_grid = parametros, cv = kfold, n_jobs= -1, scoring='roc_auc', verbose = 3)\n",
        "#grid_search.fit(x_wine, y_wine)\n",
        "#melhores_parametros = grid_search.best_params_\n",
        "#melhor_resultado = grid_search.best_score_\n",
        "##print(melhores_parametros)\n",
        "##print(melhor_resultado)\n",
        "#\n",
        "#trlist = grid_search.cv_results_['mean_test_score']\n",
        "#\n",
        "#\n",
        "#scorelist = []\n",
        "#\n",
        "#for i in range(len(trlist)):\n",
        "##for i in range(1):\n",
        "#  if i == 0:\n",
        "#    scorelist.append(trlist[i])\n",
        "#  elif trlist[i] > scorelist[i-1]:\n",
        "#    scorelist.append(trlist[i])\n",
        "#  else:\n",
        "#    scorelist.append(scorelist[i-1])\n",
        "#    \n",
        "#tracking_GS_AUC = scorelist\n",
        "#plt.plot(scorelist); "
      ]
    },
    {
      "attachments": {},
      "cell_type": "markdown",
      "metadata": {
        "id": "vA6kphUO0vcT"
      },
      "source": [
        "## Optuna"
      ]
    },
    {
      "attachments": {},
      "cell_type": "markdown",
      "metadata": {},
      "source": [
        "### Acurácia"
      ]
    },
    {
      "cell_type": "code",
      "execution_count": 126,
      "metadata": {
        "colab": {
          "base_uri": "https://localhost:8080/"
        },
        "id": "AtVNXGxotkiD",
        "outputId": "3eeeb6d4-9bc6-49eb-b3d6-7c9482852c52"
      },
      "outputs": [],
      "source": [
        "#!pip install optuna"
      ]
    },
    {
      "cell_type": "code",
      "execution_count": 127,
      "metadata": {
        "id": "X_R8NlJD0xYP"
      },
      "outputs": [],
      "source": [
        "import optuna\n",
        "optuna.logging.set_verbosity(optuna.logging.WARNING)\n",
        "import sklearn\n",
        "from sklearn import datasets\n",
        "def objective_accuracy(trial):\n",
        "      \n",
        "      iterations = trial.suggest_int('iterations', iterations_min, iterations_max)  \n",
        "      learning_rate = trial.suggest_float('learning_rate', learning_rate_min, learning_rate_max)  \n",
        "      l2_leaf_reg = trial.suggest_float('l2_leaf_reg', l2_leaf_reg_min, l2_leaf_reg_max)  \n",
        "      bagging_temperature = trial.suggest_float('bagging_temperature', bagging_temperature_min, bagging_temperature_max)  \n",
        "      random_strength = trial.suggest_float('random_strength', random_strength_min, random_strength_max)  \n",
        "      best_model_min_trees = trial.suggest_int('best_model_min_trees', best_model_min_trees_min, best_model_min_trees_max)  \n",
        "      depth = trial.suggest_int('depth', depth_min, depth_max)  \n",
        "      min_data_in_leaf = trial.suggest_int('min_data_in_leaf', min_data_in_leaf_min, min_data_in_leaf_max)  \n",
        "      max_leaves = trial.suggest_int('max_leaves', max_leaves_min, max_leaves_max)  \n",
        "      one_hot_max_size = trial.suggest_int('one_hot_max_size', one_hot_max_size_min, one_hot_max_size_max)  \n",
        "      rsm = trial.suggest_float('rsm', rsm_min, rsm_max)  \n",
        "      fold_permutation_block = trial.suggest_int('fold_permutation_block', fold_permutation_block_min, fold_permutation_block_max)  \n",
        "      leaf_estimation_iterations = trial.suggest_int('leaf_estimation_iterations', leaf_estimation_iterations_min, leaf_estimation_iterations_max)  \n",
        "      fold_len_multiplier = trial.suggest_float('fold_len_multiplier', fold_len_multiplier_min, fold_len_multiplier_max)  \n",
        "      boost_from_average = trial.suggest_int('boost_from_average', 0, 1)  \n",
        "      posterior_sampling = trial.suggest_int('posterior_sampling', 0, 1)  \n",
        "      allow_const_label = trial.suggest_int('allow_const_label', 0, 1)  \n",
        "      penalties_coefficient = trial.suggest_float('penalties_coefficient', penalties_coefficient_min, penalties_coefficient_max)  \n",
        "      model_shrink_rate = trial.suggest_float('model_shrink_rate', model_shrink_rate_min, model_shrink_rate_max)  \n",
        "      \n",
        "      \n",
        "      model_catboost = CatBoostClassifier(\n",
        "                                    iterations = iterations,\n",
        "                                    learning_rate = learning_rate,\n",
        "                                    l2_leaf_reg = l2_leaf_reg,\n",
        "                                    bagging_temperature = bagging_temperature,\n",
        "                                    random_strength = random_strength,\n",
        "                                    best_model_min_trees = best_model_min_trees,\n",
        "                                    depth = depth,\n",
        "                                    min_data_in_leaf = min_data_in_leaf,\n",
        "                                    max_leaves = max_leaves,\n",
        "                                    one_hot_max_size = one_hot_max_size,\n",
        "                                    rsm = rsm,\n",
        "                                    fold_permutation_block = fold_permutation_block,\n",
        "                                    leaf_estimation_iterations = leaf_estimation_iterations,\n",
        "                                    fold_len_multiplier = fold_len_multiplier,\n",
        "                                    #boost_from_average = bool(boost_from_average),\n",
        "                                    posterior_sampling = bool(posterior_sampling),\n",
        "                                    allow_const_label = bool(allow_const_label),\n",
        "                                    penalties_coefficient = penalties_coefficient,\n",
        "                                    model_shrink_rate = model_shrink_rate,\n",
        "                                    approx_on_full_history = False,\n",
        "                                    loss_function='MultiClass',\n",
        "                                    grow_policy = 'Lossguide',\n",
        "                                    thread_count = -1\n",
        "                                    )\n",
        "\n",
        "      \n",
        "      kfold = KFold(n_splits = 3, shuffle = True)\n",
        "\n",
        "      return sklearn.model_selection.cross_val_score(model_catboost, x_wine, y_wine, n_jobs=-1, cv=kfold).mean()"
      ]
    },
    {
      "cell_type": "code",
      "execution_count": 128,
      "metadata": {
        "colab": {
          "base_uri": "https://localhost:8080/"
        },
        "id": "r62Ch5ng00NT",
        "outputId": "05e8015b-6c79-4043-daf8-028abeea7334"
      },
      "outputs": [],
      "source": [
        "def run_optuna_accuracy(n_trials=1024):\n",
        "    study = optuna.create_study(direction='maximize')\n",
        "    study.optimize(objective_accuracy, n_trials=n_trials, n_jobs = -1)\n",
        "    trial = study.best_trial\n",
        "    #print('Accuracy: {}'.format(trial.value))\n",
        "    #print(\"Best hyperparameters: {}\".format(trial.params))\n",
        "    return trial.value, study\n"
      ]
    },
    {
      "cell_type": "code",
      "execution_count": 129,
      "metadata": {},
      "outputs": [],
      "source": [
        "trial, study = run_optuna_accuracy(1)"
      ]
    },
    {
      "cell_type": "code",
      "execution_count": 130,
      "metadata": {},
      "outputs": [
        {
          "data": {
            "text/plain": [
              "0.20783273891578893"
            ]
          },
          "execution_count": 130,
          "metadata": {},
          "output_type": "execute_result"
        }
      ],
      "source": [
        "trial"
      ]
    },
    {
      "cell_type": "code",
      "execution_count": 131,
      "metadata": {
        "id": "odCO6YCmz1q4"
      },
      "outputs": [],
      "source": [
        "#tracking = []\n",
        "#for i in range(len(study.trials)):\n",
        "#  if i == 0: \n",
        "#    tracking.append(study.trials[i].value)\n",
        "#  elif tracking[i-1] > study.trials[i].value:\n",
        "#    tracking.append(tracking[i-1])\n",
        "#  else:\n",
        "#    tracking.append(study.trials[i].value)\n",
        "##tracking_sorted = sorted(tracking)"
      ]
    },
    {
      "cell_type": "code",
      "execution_count": 132,
      "metadata": {
        "id": "ukqgm-fOHTVs"
      },
      "outputs": [],
      "source": [
        "#tracking_Optuna_Accuracy = tracking"
      ]
    },
    {
      "cell_type": "code",
      "execution_count": 133,
      "metadata": {
        "colab": {
          "base_uri": "https://localhost:8080/",
          "height": 347
        },
        "id": "L8cqXHz06SXp",
        "outputId": "e0ea3abf-1a22-479f-b12c-fa76bb91b4c6"
      },
      "outputs": [],
      "source": [
        "#plt.plot(tracking);\n",
        "#plt.plot(tracking_sorted) "
      ]
    },
    {
      "cell_type": "code",
      "execution_count": 134,
      "metadata": {
        "colab": {
          "base_uri": "https://localhost:8080/",
          "height": 542
        },
        "id": "dSnAebcQ04n8",
        "outputId": "e0275cf0-9485-43d1-af08-75042d2f3351"
      },
      "outputs": [],
      "source": [
        "#optuna.visualization.plot_optimization_history(study)"
      ]
    },
    {
      "cell_type": "code",
      "execution_count": 135,
      "metadata": {
        "colab": {
          "base_uri": "https://localhost:8080/",
          "height": 562
        },
        "id": "PykRbFk506AF",
        "outputId": "b37580c8-b893-4d8f-f745-60affb470c52"
      },
      "outputs": [],
      "source": [
        "#optuna.visualization.plot_slice(study)"
      ]
    },
    {
      "attachments": {},
      "cell_type": "markdown",
      "metadata": {},
      "source": [
        "### F1 Score"
      ]
    },
    {
      "cell_type": "code",
      "execution_count": 136,
      "metadata": {},
      "outputs": [],
      "source": [
        "def objective_f1(trial):\n",
        "      iterations = trial.suggest_int('iterations', iterations_min, iterations_max)  \n",
        "      learning_rate = trial.suggest_float('learning_rate', learning_rate_min, learning_rate_max)  \n",
        "      l2_leaf_reg = trial.suggest_float('l2_leaf_reg', l2_leaf_reg_min, l2_leaf_reg_max)  \n",
        "      bagging_temperature = trial.suggest_float('bagging_temperature', bagging_temperature_min, bagging_temperature_max)  \n",
        "      random_strength = trial.suggest_float('random_strength', random_strength_min, random_strength_max)  \n",
        "      best_model_min_trees = trial.suggest_int('best_model_min_trees', best_model_min_trees_min, best_model_min_trees_max)  \n",
        "      depth = trial.suggest_int('depth', depth_min, depth_max)  \n",
        "      min_data_in_leaf = trial.suggest_int('min_data_in_leaf', min_data_in_leaf_min, min_data_in_leaf_max)  \n",
        "      max_leaves = trial.suggest_int('max_leaves', max_leaves_min, max_leaves_max)  \n",
        "      one_hot_max_size = trial.suggest_int('one_hot_max_size', one_hot_max_size_min, one_hot_max_size_max)  \n",
        "      rsm = trial.suggest_float('rsm', rsm_min, rsm_max)  \n",
        "      fold_permutation_block = trial.suggest_int('fold_permutation_block', fold_permutation_block_min, fold_permutation_block_max)  \n",
        "      leaf_estimation_iterations = trial.suggest_int('leaf_estimation_iterations', leaf_estimation_iterations_min, leaf_estimation_iterations_max)  \n",
        "      fold_len_multiplier = trial.suggest_float('fold_len_multiplier', fold_len_multiplier_min, fold_len_multiplier_max)  \n",
        "      boost_from_average = trial.suggest_int('boost_from_average', 0, 1)  \n",
        "      posterior_sampling = trial.suggest_int('posterior_sampling', 0, 1)  \n",
        "      allow_const_label = trial.suggest_int('allow_const_label', 0, 1)  \n",
        "      penalties_coefficient = trial.suggest_float('penalties_coefficient', penalties_coefficient_min, penalties_coefficient_max)  \n",
        "      model_shrink_rate = trial.suggest_float('model_shrink_rate', model_shrink_rate_min, model_shrink_rate_max)  \n",
        "                                                                \n",
        "      \n",
        "      model_catboost = CatBoostClassifier(\n",
        "                                    iterations = iterations,\n",
        "                                    learning_rate = learning_rate,\n",
        "                                    l2_leaf_reg = l2_leaf_reg,\n",
        "                                    \n",
        "                                    bagging_temperature = bagging_temperature,\n",
        "                                    random_strength = random_strength,\n",
        "                                    best_model_min_trees = best_model_min_trees,\n",
        "                                    depth = depth,\n",
        "                                    \n",
        "                                    min_data_in_leaf = min_data_in_leaf,\n",
        "                                    max_leaves = max_leaves,\n",
        "                                    one_hot_max_size = one_hot_max_size,\n",
        "                                    \n",
        "                                    rsm = rsm,\n",
        "                                    fold_permutation_block = fold_permutation_block,\n",
        "                                    leaf_estimation_iterations = leaf_estimation_iterations,\n",
        "                                    \n",
        "                                    \n",
        "                                    fold_len_multiplier = fold_len_multiplier, #Flag Error\n",
        "                                    #boost_from_average = bool(boost_from_average), #Flag Error\n",
        "                                    posterior_sampling = bool(posterior_sampling),#Flag Error\n",
        "                                    \n",
        "                                    allow_const_label = bool(allow_const_label),\n",
        "                                    penalties_coefficient = penalties_coefficient,\n",
        "                                    model_shrink_rate = model_shrink_rate,\n",
        "                                    approx_on_full_history = False,\n",
        "                                    \n",
        "                                    grow_policy = 'Lossguide',\n",
        "                                    loss_function='MultiClass',\n",
        "                                    thread_count = -1\n",
        "                                    )\n",
        "\n",
        "      \n",
        "      kfold = KFold(n_splits = 3, shuffle = True)\n",
        "\n",
        "\n",
        "      return sklearn.model_selection.cross_val_score(model_catboost, x_wine, y_wine, n_jobs=-1, scoring='f1_weighted', cv=kfold).mean()"
      ]
    },
    {
      "cell_type": "code",
      "execution_count": 137,
      "metadata": {},
      "outputs": [],
      "source": [
        "def run_optuna_f1(n_trials=1024):\n",
        "    study = optuna.create_study(direction='maximize')\n",
        "    study.optimize(objective_f1, n_trials=n_trials, n_jobs = -1)\n",
        "    trial = study.best_trial\n",
        "    #print('F1: {}'.format(trial.value))\n",
        "    #print(\"Best hyperparameters: {}\".format(trial.params))\n",
        "    return trial.value, study"
      ]
    },
    {
      "cell_type": "code",
      "execution_count": 138,
      "metadata": {},
      "outputs": [],
      "source": [
        "trial, study = run_optuna_f1(10)"
      ]
    },
    {
      "cell_type": "code",
      "execution_count": 139,
      "metadata": {},
      "outputs": [
        {
          "data": {
            "text/plain": [
              "0.08604086344734556"
            ]
          },
          "execution_count": 139,
          "metadata": {},
          "output_type": "execute_result"
        }
      ],
      "source": [
        "trial"
      ]
    },
    {
      "cell_type": "code",
      "execution_count": 140,
      "metadata": {},
      "outputs": [],
      "source": [
        "#tracking = []\n",
        "#for i in range(len(study.trials)):\n",
        "#  if i == 0: \n",
        "#    tracking.append(study.trials[i].value)\n",
        "#  elif tracking[i-1] > study.trials[i].value:\n",
        "#    tracking.append(tracking[i-1])\n",
        "#  else:\n",
        "#    tracking.append(study.trials[i].value)\n",
        "##tracking_sorted = sorted(tracking)\n",
        "#\n",
        "#tracking_Optuna_F1 = tracking\n",
        "#\n",
        "#plt.plot(tracking);\n",
        "##plt.plot(tracking_sorted) "
      ]
    },
    {
      "attachments": {},
      "cell_type": "markdown",
      "metadata": {},
      "source": [
        "### AUC"
      ]
    },
    {
      "cell_type": "code",
      "execution_count": 141,
      "metadata": {},
      "outputs": [],
      "source": [
        "def objective_auc(trial):\n",
        "  \n",
        "      iterations = trial.suggest_int('iterations', iterations_min, iterations_max)  \n",
        "      learning_rate = trial.suggest_float('learning_rate', learning_rate_min, learning_rate_max)  \n",
        "      l2_leaf_reg = trial.suggest_float('l2_leaf_reg', l2_leaf_reg_min, l2_leaf_reg_max)  \n",
        "      bagging_temperature = trial.suggest_float('bagging_temperature', bagging_temperature_min, bagging_temperature_max)  \n",
        "      random_strength = trial.suggest_float('random_strength', random_strength_min, random_strength_max)  \n",
        "      best_model_min_trees = trial.suggest_int('best_model_min_trees', best_model_min_trees_min, best_model_min_trees_max)  \n",
        "      depth = trial.suggest_int('depth', depth_min, depth_max)  \n",
        "      min_data_in_leaf = trial.suggest_int('min_data_in_leaf', min_data_in_leaf_min, min_data_in_leaf_max)  \n",
        "      max_leaves = trial.suggest_int('max_leaves', max_leaves_min, max_leaves_max)  \n",
        "      one_hot_max_size = trial.suggest_int('one_hot_max_size', one_hot_max_size_min, one_hot_max_size_max)  \n",
        "      rsm = trial.suggest_float('rsm', rsm_min, rsm_max)  \n",
        "      fold_permutation_block = trial.suggest_int('fold_permutation_block', fold_permutation_block_min, fold_permutation_block_max)  \n",
        "      leaf_estimation_iterations = trial.suggest_int('leaf_estimation_iterations', leaf_estimation_iterations_min, leaf_estimation_iterations_max)  \n",
        "      fold_len_multiplier = trial.suggest_float('fold_len_multiplier', fold_len_multiplier_min, fold_len_multiplier_max)  \n",
        "      boost_from_average = trial.suggest_int('boost_from_average', 0, 1)  \n",
        "      posterior_sampling = trial.suggest_int('posterior_sampling', 0, 1)  \n",
        "      allow_const_label = trial.suggest_int('allow_const_label', 0, 1)  \n",
        "      penalties_coefficient = trial.suggest_float('penalties_coefficient', penalties_coefficient_min, penalties_coefficient_max)  \n",
        "      model_shrink_rate = trial.suggest_float('model_shrink_rate', model_shrink_rate_min, model_shrink_rate_max)  \n",
        "                                                                \n",
        "      \n",
        "      model_catboost = CatBoostClassifier(\n",
        "                                    iterations = iterations,\n",
        "                                    learning_rate = learning_rate,\n",
        "                                    l2_leaf_reg = l2_leaf_reg,\n",
        "                                    \n",
        "                                    bagging_temperature = bagging_temperature,\n",
        "                                    random_strength = random_strength,\n",
        "                                    best_model_min_trees = best_model_min_trees,\n",
        "                                    depth = depth,\n",
        "                                    \n",
        "                                    min_data_in_leaf = min_data_in_leaf,\n",
        "                                    max_leaves = max_leaves,\n",
        "                                    one_hot_max_size = one_hot_max_size,\n",
        "                                    \n",
        "                                    rsm = rsm,\n",
        "                                    fold_permutation_block = fold_permutation_block,\n",
        "                                    leaf_estimation_iterations = leaf_estimation_iterations,\n",
        "                                    \n",
        "                                    \n",
        "                                    fold_len_multiplier = fold_len_multiplier, #Flag Error\n",
        "                                    #boost_from_average = bool(boost_from_average), #Flag Error\n",
        "                                    posterior_sampling = bool(posterior_sampling),#Flag \n",
        "                                    \n",
        "                                    allow_const_label = bool(allow_const_label),\n",
        "                                    penalties_coefficient = penalties_coefficient,\n",
        "                                    model_shrink_rate = model_shrink_rate,\n",
        "                                    approx_on_full_history = False,\n",
        "                                    \n",
        "                                    grow_policy = 'Lossguide',\n",
        "                                    loss_function='MultiClass',\n",
        "                                    thread_count = -1\n",
        "                                    )\n",
        "\n",
        "      \n",
        "      kfold = KFold(n_splits = 3, shuffle = True)\n",
        "\n",
        "\n",
        "      return sklearn.model_selection.cross_val_score(model_catboost, x_wine, y_wine, n_jobs=-1, scoring='roc_auc_ovr_weighted', cv=kfold).mean()"
      ]
    },
    {
      "cell_type": "code",
      "execution_count": 142,
      "metadata": {},
      "outputs": [],
      "source": [
        "def run_optuna_auc(n_trials=1024):\n",
        "    study = optuna.create_study(direction='maximize')\n",
        "    study.optimize(objective_auc, n_trials=n_trials, n_jobs = -1)\n",
        "    trial = study.best_trial\n",
        "    #print('AUC: {}'.format(trial.value))\n",
        "    #print(\"Best hyperparameters: {}\".format(trial.params))\n",
        "    return trial.value, study"
      ]
    },
    {
      "cell_type": "code",
      "execution_count": 143,
      "metadata": {},
      "outputs": [],
      "source": [
        "trial, study = run_optuna_auc(10)"
      ]
    },
    {
      "cell_type": "code",
      "execution_count": 144,
      "metadata": {},
      "outputs": [
        {
          "data": {
            "text/plain": [
              "0.5"
            ]
          },
          "execution_count": 144,
          "metadata": {},
          "output_type": "execute_result"
        }
      ],
      "source": [
        "trial"
      ]
    },
    {
      "cell_type": "code",
      "execution_count": 145,
      "metadata": {},
      "outputs": [],
      "source": [
        "#tracking = []\n",
        "#for i in range(len(study.trials)):\n",
        "#  if i == 0: \n",
        "#    tracking.append(study.trials[i].value)\n",
        "#  elif tracking[i-1] > study.trials[i].value:\n",
        "#    tracking.append(tracking[i-1])\n",
        "#  else:\n",
        "#    tracking.append(study.trials[i].value)\n",
        "##tracking_sorted = sorted(tracking)\n",
        "#\n",
        "#tracking_Optuna_AUC = tracking\n",
        "#\n",
        "#plt.plot(tracking);\n",
        "##plt.plot(tracking_sorted) "
      ]
    },
    {
      "attachments": {},
      "cell_type": "markdown",
      "metadata": {
        "id": "O554Q6QTEVSZ"
      },
      "source": [
        "# Análise Comparativa"
      ]
    },
    {
      "cell_type": "code",
      "execution_count": 146,
      "metadata": {
        "colab": {
          "base_uri": "https://localhost:8080/",
          "height": 335
        },
        "id": "fQLG5-KOEa-j",
        "outputId": "475764bd-0f8b-4a28-dfbc-06b9f8e93d0d"
      },
      "outputs": [],
      "source": [
        "#fig, (ax1, ax2) = plt.subplots(1, 2, figsize=(20,5))\n",
        "#\n",
        "#ax1.set_title('PSO X Gerações')\n",
        "#ax2.set_title('PSO X Avaliações')\n",
        "#\n",
        "#ax1.plot(tracking_PSO_Accuracy)\n",
        "#ax2.plot(Accuracy_PSO)\n",
        "#plt.show()"
      ]
    },
    {
      "cell_type": "code",
      "execution_count": 147,
      "metadata": {
        "colab": {
          "base_uri": "https://localhost:8080/",
          "height": 335
        },
        "id": "rQXRvTMeGdtO",
        "outputId": "3e5b32fe-6843-4453-c4c0-c72f988355e3"
      },
      "outputs": [],
      "source": [
        "#fig, (ax1, ax2) = plt.subplots(1, 2, figsize=(20,5))\n",
        "#\n",
        "#ax1.set_title('GA X Gerações')\n",
        "#ax2.set_title('GA X Avaliações')\n",
        "#\n",
        "#ax1.plot(tracking_GA_Accuracy)\n",
        "#ax2.plot(Accuracy_GA)\n",
        "#plt.show()"
      ]
    },
    {
      "attachments": {},
      "cell_type": "markdown",
      "metadata": {},
      "source": [
        "Gráficos Comparativos Acurácia"
      ]
    },
    {
      "cell_type": "code",
      "execution_count": 148,
      "metadata": {
        "colab": {
          "base_uri": "https://localhost:8080/",
          "height": 592
        },
        "id": "wPAE1qekG2QL",
        "outputId": "ed21fdf7-0168-43ed-be6f-6a7d40ee56a7"
      },
      "outputs": [],
      "source": [
        "#from IPython.core.pylabtools import figsize\n",
        "#from matplotlib.pyplot import figure\n",
        "#import matplotlib.patches as mpatches\n",
        "#\n",
        "#plt.figure(figsize=(12, 6))\n",
        "#red_patch = mpatches.Patch(color='red', label='PSO')\n",
        "#blue_patch = mpatches.Patch(color='blue', label='GA')\n",
        "#green_patch = mpatches.Patch(color='green', label='Optuna')\n",
        "##black_patch = mpatches.Patch(color='black', label='GridSearch')\n",
        "#\n",
        "#plt.legend(handles=[red_patch, blue_patch, green_patch])\n",
        "#plt.plot(Accuracy_GA, color = 'blue', linewidth=1, linestyle='-', )\n",
        "#plt.plot(Accuracy_PSO, color = 'red', linewidth=1, linestyle='-')\n",
        "#plt.plot(tracking_Optuna_Accuracy, color = 'green', linewidth=1, linestyle='-')\n",
        "##plt.plot(tracking_GS, color = 'black', linewidth=3, linestyle='-')\n",
        "#plt.show()"
      ]
    },
    {
      "cell_type": "code",
      "execution_count": 149,
      "metadata": {
        "colab": {
          "base_uri": "https://localhost:8080/",
          "height": 901
        },
        "id": "hkxfnJJoKHia",
        "outputId": "b1c67284-9c27-4868-c7c1-54368e704ec5"
      },
      "outputs": [],
      "source": [
        "#fig, ax = plt.subplots(2, 2, figsize=(25,15))\n",
        "#\n",
        "#ax[0, 0].set_title(f'Genetic Algorithm (GA) - Accuracy: {max(tracking_GA_Accuracy)}', fontdict={'fontsize': 20, 'fontweight': 'medium'})\n",
        "#ax[0, 1].set_title(f'Particle Swarm Optimization (PSO) - Accuracy: {max(tracking_PSO_Accuracy)}', fontdict={'fontsize': 20, 'fontweight': 'medium'})\n",
        "#\n",
        "#ax[1, 0].set_title(f'Grid Search - Accuracy: {max(tracking_GS_Accuracy)}', fontdict={'fontsize': 20, 'fontweight': 'medium'})\n",
        "#ax[1, 1].set_title(f'Optuna - Accuracy: {max(tracking_Optuna_Accuracy)}', fontdict={'fontsize': 20, 'fontweight': 'medium'})\n",
        "#\n",
        "#ax[0,0].plot(tracking_GA_Accuracy, color = 'blue', linewidth=3, linestyle='-', )\n",
        "#ax[0,1].plot(tracking_PSO_Accuracy, color = 'red', linewidth=3, linestyle='-')\n",
        "#\n",
        "#ax[1,0].plot(tracking_GS_Accuracy, color = 'black', linewidth=3, linestyle='-')\n",
        "#ax[1,1].plot(tracking_Optuna_Accuracy, color = 'green', linewidth=3, linestyle='-')\n"
      ]
    },
    {
      "attachments": {},
      "cell_type": "markdown",
      "metadata": {},
      "source": [
        "F1 score"
      ]
    },
    {
      "cell_type": "code",
      "execution_count": 150,
      "metadata": {},
      "outputs": [],
      "source": [
        "#plt.figure(figsize=(12, 6))\n",
        "#red_patch = mpatches.Patch(color='red', label='PSO')\n",
        "#blue_patch = mpatches.Patch(color='blue', label='GA')\n",
        "#green_patch = mpatches.Patch(color='green', label='Optuna')\n",
        "##black_patch = mpatches.Patch(color='black', label='GridSearch')\n",
        "#\n",
        "#plt.legend(handles=[red_patch, blue_patch, green_patch])\n",
        "#plt.plot(F1_GA, color = 'blue', linewidth=1, linestyle='-', )\n",
        "#plt.plot(F1_PSO, color = 'red', linewidth=1, linestyle='-')\n",
        "#plt.plot(tracking_Optuna_F1, color = 'green', linewidth=1, linestyle='-')\n",
        "##plt.plot(tracking_GS, color = 'black', linewidth=3, linestyle='-')\n",
        "#plt.show()"
      ]
    },
    {
      "cell_type": "code",
      "execution_count": 151,
      "metadata": {},
      "outputs": [],
      "source": [
        "#fig, ax = plt.subplots(2, 2, figsize=(25,15))\n",
        "#\n",
        "#ax[0, 0].set_title(f'Genetic Algorithm (GA) - Accuracy: {max(tracking_GA_F1)}', fontdict={'fontsize': 20, 'fontweight': 'medium'})\n",
        "#ax[0, 1].set_title(f'Particle Swarm Optimization (PSO) - Accuracy: {max(tracking_PSO_F1)}', fontdict={'fontsize': 20, 'fontweight': 'medium'})\n",
        "#\n",
        "#ax[1, 0].set_title(f'Grid Search - Accuracy: {max(tracking_GS_F1)}', fontdict={'fontsize': 20, 'fontweight': 'medium'})\n",
        "#ax[1, 1].set_title(f'Optuna - Accuracy: {max(tracking_Optuna_F1)}', fontdict={'fontsize': 20, 'fontweight': 'medium'})\n",
        "#\n",
        "#ax[0,0].plot(tracking_GA_F1, color = 'blue', linewidth=3, linestyle='-', )\n",
        "#ax[0,1].plot(tracking_PSO_F1, color = 'red', linewidth=3, linestyle='-')\n",
        "#\n",
        "#ax[1,0].plot(tracking_GS_F1, color = 'black', linewidth=3, linestyle='-')\n",
        "#ax[1,1].plot(tracking_Optuna_F1, color = 'green', linewidth=3, linestyle='-')\n"
      ]
    },
    {
      "attachments": {},
      "cell_type": "markdown",
      "metadata": {},
      "source": [
        "ROC AUC"
      ]
    },
    {
      "cell_type": "code",
      "execution_count": 152,
      "metadata": {},
      "outputs": [],
      "source": [
        "#plt.figure(figsize=(12, 6))\n",
        "#red_patch = mpatches.Patch(color='red', label='PSO')\n",
        "#blue_patch = mpatches.Patch(color='blue', label='GA')\n",
        "#green_patch = mpatches.Patch(color='green', label='Optuna')\n",
        "##black_patch = mpatches.Patch(color='black', label='GridSearch')\n",
        "#\n",
        "#plt.legend(handles=[red_patch, blue_patch, green_patch])\n",
        "#plt.plot(AUC_GA, color = 'blue', linewidth=1, linestyle='-', )\n",
        "#plt.plot(AUC_PSO, color = 'red', linewidth=1, linestyle='-')\n",
        "#plt.plot(tracking_Optuna_AUC, color = 'green', linewidth=1, linestyle='-')\n",
        "##plt.plot(tracking_GS, color = 'black', linewidth=3, linestyle='-')\n",
        "#plt.show()"
      ]
    },
    {
      "cell_type": "code",
      "execution_count": 153,
      "metadata": {},
      "outputs": [],
      "source": [
        "#fig, ax = plt.subplots(2, 2, figsize=(25,15))\n",
        "#\n",
        "#ax[0, 0].set_title(f'Genetic Algorithm (GA) - Accuracy: {max(tracking_GA_AUC)}', fontdict={'fontsize': 20, 'fontweight': 'medium'})\n",
        "#ax[0, 1].set_title(f'Particle Swarm Optimization (PSO) - Accuracy: {max(tracking_PSO_AUC)}', fontdict={'fontsize': 20, 'fontweight': 'medium'})\n",
        "#\n",
        "#ax[1, 0].set_title(f'Grid Search - Accuracy: {max(tracking_GS_AUC)}', fontdict={'fontsize': 20, 'fontweight': 'medium'})\n",
        "#ax[1, 1].set_title(f'Optuna - Accuracy: {max(tracking_Optuna_AUC)}', fontdict={'fontsize': 20, 'fontweight': 'medium'})\n",
        "#\n",
        "#ax[0,0].plot(tracking_GA_AUC, color = 'blue', linewidth=3, linestyle='-', )\n",
        "#ax[0,1].plot(tracking_PSO_AUC, color = 'red', linewidth=3, linestyle='-')\n",
        "#\n",
        "#ax[1,0].plot(tracking_GS_AUC, color = 'black', linewidth=3, linestyle='-')\n",
        "#ax[1,1].plot(tracking_Optuna_AUC, color = 'green', linewidth=3, linestyle='-')\n",
        "#"
      ]
    },
    {
      "cell_type": "code",
      "execution_count": null,
      "metadata": {},
      "outputs": [],
      "source": []
    },
    {
      "attachments": {},
      "cell_type": "markdown",
      "metadata": {},
      "source": [
        "# Random Search"
      ]
    },
    {
      "attachments": {},
      "cell_type": "markdown",
      "metadata": {},
      "source": [
        "### Accuracy"
      ]
    },
    {
      "cell_type": "code",
      "execution_count": 154,
      "metadata": {},
      "outputs": [],
      "source": [
        "from scipy.stats import uniform\n",
        "from scipy.stats import randint\n",
        "from sklearn.model_selection import RandomizedSearchCV\n",
        "\n",
        "def random_search_int_range(min_l, max_l):\n",
        "    return np.arange(randint.ppf(0.01, min_l, max_l + 2),randint.ppf(0.99, min_l, max_l + 2))\n",
        "\n",
        "\n",
        "def run_random_search_accuracy(iterations = 1024):\n",
        "    param_distribution = {\n",
        "    'iterations' : random_search_int_range(iterations_min, iterations_max),\n",
        "    'learning_rate' : uniform(learning_rate_min, learning_rate_max),\n",
        "    'l2_leaf_reg' : uniform(l2_leaf_reg_min, l2_leaf_reg_max),\n",
        "    'bagging_temperature' : uniform(bagging_temperature_min, bagging_temperature_max),\n",
        "    'random_strength' : uniform(random_strength_min, random_strength_max),\n",
        "    'best_model_min_trees' : random_search_int_range(best_model_min_trees_min, best_model_min_trees_max),\n",
        "    'depth' : random_search_int_range(depth_min, depth_max),\n",
        "    'min_data_in_leaf' : random_search_int_range(min_data_in_leaf_min, min_data_in_leaf_max),\n",
        "    'max_leaves' : random_search_int_range(max_leaves_min, max_leaves_max),\n",
        "    'one_hot_max_size' : random_search_int_range(one_hot_max_size_min, one_hot_max_size_max),\n",
        "    'rsm' : uniform(rsm_min + 0.00001, rsm_max),\n",
        "    'fold_permutation_block' : random_search_int_range(fold_permutation_block_min, fold_permutation_block_max),\n",
        "    'leaf_estimation_iterations' : random_search_int_range(leaf_estimation_iterations_min, leaf_estimation_iterations_max),\n",
        "    'fold_len_multiplier' : uniform(fold_len_multiplier_min, fold_len_multiplier_max),\n",
        "    'posterior_sampling' : [posterior_sampling_min, posterior_sampling_max],\n",
        "    'allow_const_label' : [allow_const_label_min, allow_const_label_max],\n",
        "    'penalties_coefficient' : uniform(penalties_coefficient_min, penalties_coefficient_max),\n",
        "    'model_shrink_rate' : uniform(model_shrink_rate_min, model_shrink_rate_max),\n",
        "    'approx_on_full_history' : [False],\n",
        "    'grow_policy' : ['Lossguide'],\n",
        "    'loss_function' : ['MultiClass'],\n",
        "    'thread_count' :  [-1]\n",
        "    }\n",
        "\n",
        "\n",
        "\n",
        "\n",
        "    kfold = KFold(n_splits = 3, shuffle = True)\n",
        "\n",
        "    random_search_accuracy = RandomizedSearchCV(CatBoostClassifier(), param_distribution, n_iter = iterations, n_jobs = -1, cv=kfold, verbose=False)\n",
        "    random_search_accuracy.fit(x_wine, y_wine)\n",
        "\n",
        "    return random_search_accuracy.best_score_"
      ]
    },
    {
      "cell_type": "code",
      "execution_count": 155,
      "metadata": {},
      "outputs": [],
      "source": [
        "from scipy.stats import uniform\n",
        "from scipy.stats import randint\n",
        "from sklearn.model_selection import RandomizedSearchCV\n",
        "\n",
        "def random_search_int_range(min_l, max_l):\n",
        "    return np.arange(randint.ppf(0.01, min_l, max_l + 2),randint.ppf(0.99, min_l, max_l + 2))\n",
        "\n",
        "\n",
        "def run_random_search_f1(iterations = 1024):\n",
        "    param_distribution = {\n",
        "    'iterations' : random_search_int_range(iterations_min, iterations_max),\n",
        "    'learning_rate' : uniform(learning_rate_min, learning_rate_max),\n",
        "    'l2_leaf_reg' : uniform(l2_leaf_reg_min, l2_leaf_reg_max),\n",
        "    'bagging_temperature' : uniform(bagging_temperature_min, bagging_temperature_max),\n",
        "    'random_strength' : uniform(random_strength_min, random_strength_max),\n",
        "    'best_model_min_trees' : random_search_int_range(best_model_min_trees_min, best_model_min_trees_max),\n",
        "    'depth' : random_search_int_range(depth_min, depth_max),\n",
        "    'min_data_in_leaf' : random_search_int_range(min_data_in_leaf_min, min_data_in_leaf_max),\n",
        "    'max_leaves' : random_search_int_range(max_leaves_min, max_leaves_max),\n",
        "    'one_hot_max_size' : random_search_int_range(one_hot_max_size_min, one_hot_max_size_max),\n",
        "    'rsm' : uniform(rsm_min + 0.00001, rsm_max),\n",
        "    'fold_permutation_block' : random_search_int_range(fold_permutation_block_min, fold_permutation_block_max),\n",
        "    'leaf_estimation_iterations' : random_search_int_range(leaf_estimation_iterations_min, leaf_estimation_iterations_max),\n",
        "    'fold_len_multiplier' : uniform(fold_len_multiplier_min, fold_len_multiplier_max),\n",
        "    'posterior_sampling' : [posterior_sampling_min, posterior_sampling_max],\n",
        "    'allow_const_label' : [allow_const_label_min, allow_const_label_max],\n",
        "    'penalties_coefficient' : uniform(penalties_coefficient_min, penalties_coefficient_max),\n",
        "    'model_shrink_rate' : uniform(model_shrink_rate_min, model_shrink_rate_max),\n",
        "    'approx_on_full_history' : [False],\n",
        "    'grow_policy' : ['Lossguide'],\n",
        "    'loss_function' : ['MultiClass'],\n",
        "    'thread_count' :  [-1]\n",
        "    }\n",
        "\n",
        "\n",
        "\n",
        "\n",
        "    kfold = KFold(n_splits = 3, shuffle = True)\n",
        "\n",
        "    random_search_accuracy = RandomizedSearchCV(CatBoostClassifier(), param_distribution, n_iter = iterations, n_jobs = -1, cv=kfold, verbose=False, scoring='f1_weighted')\n",
        "    random_search_accuracy.fit(x_wine, y_wine)\n",
        "\n",
        "    return random_search_accuracy.best_score_"
      ]
    },
    {
      "cell_type": "code",
      "execution_count": 156,
      "metadata": {},
      "outputs": [],
      "source": [
        "from scipy.stats import uniform\n",
        "from scipy.stats import randint\n",
        "from sklearn.model_selection import RandomizedSearchCV\n",
        "\n",
        "def random_search_int_range(min_l, max_l):\n",
        "    return np.arange(randint.ppf(0.01, min_l, max_l + 2),randint.ppf(0.99, min_l, max_l + 2))\n",
        "\n",
        "\n",
        "def run_random_search_auc(iterations = 1024):\n",
        "    param_distribution = {\n",
        "    'iterations' : random_search_int_range(iterations_min, iterations_max),\n",
        "    'learning_rate' : uniform(learning_rate_min, learning_rate_max),\n",
        "    'l2_leaf_reg' : uniform(l2_leaf_reg_min, l2_leaf_reg_max),\n",
        "    'bagging_temperature' : uniform(bagging_temperature_min, bagging_temperature_max),\n",
        "    'random_strength' : uniform(random_strength_min, random_strength_max),\n",
        "    'best_model_min_trees' : random_search_int_range(best_model_min_trees_min, best_model_min_trees_max),\n",
        "    'depth' : random_search_int_range(depth_min, depth_max),\n",
        "    'min_data_in_leaf' : random_search_int_range(min_data_in_leaf_min, min_data_in_leaf_max),\n",
        "    'max_leaves' : random_search_int_range(max_leaves_min, max_leaves_max),\n",
        "    'one_hot_max_size' : random_search_int_range(one_hot_max_size_min, one_hot_max_size_max),\n",
        "    'rsm' : uniform(rsm_min + 0.00001, rsm_max),\n",
        "    'fold_permutation_block' : random_search_int_range(fold_permutation_block_min, fold_permutation_block_max),\n",
        "    'leaf_estimation_iterations' : random_search_int_range(leaf_estimation_iterations_min, leaf_estimation_iterations_max),\n",
        "    'fold_len_multiplier' : uniform(fold_len_multiplier_min, fold_len_multiplier_max),\n",
        "    'posterior_sampling' : [posterior_sampling_min, posterior_sampling_max],\n",
        "    'allow_const_label' : [allow_const_label_min, allow_const_label_max],\n",
        "    'penalties_coefficient' : uniform(penalties_coefficient_min, penalties_coefficient_max),\n",
        "    'model_shrink_rate' : uniform(model_shrink_rate_min, model_shrink_rate_max),\n",
        "    'approx_on_full_history' : [False],\n",
        "    'grow_policy' : ['Lossguide'],\n",
        "    'loss_function' : ['MultiClass'],\n",
        "    'thread_count' :  [-1]\n",
        "    }\n",
        "\n",
        "\n",
        "\n",
        "\n",
        "    kfold = KFold(n_splits = 3, shuffle = True)\n",
        "\n",
        "    random_search_accuracy = RandomizedSearchCV(CatBoostClassifier(), param_distribution, n_iter = iterations, n_jobs = -1, cv=kfold, verbose=False, scoring='roc_auc_ovr_weighted')\n",
        "    random_search_accuracy.fit(x_wine, y_wine)\n",
        "\n",
        "    return random_search_accuracy.best_score_"
      ]
    },
    {
      "attachments": {},
      "cell_type": "markdown",
      "metadata": {},
      "source": [
        "# Gerando Dados Para Análise "
      ]
    },
    {
      "cell_type": "code",
      "execution_count": 157,
      "metadata": {},
      "outputs": [],
      "source": [
        "from tqdm import tqdm\n",
        "import pandas as pd\n",
        "from os import system\n",
        "\n",
        "def full_run(iterations):\n",
        "    filename = './Catboost_wine_data.csv'\n",
        "\n",
        "    try:\n",
        "        Catboost_data = pd.read_csv(filename)\n",
        "    except:\n",
        "        open(filename, \"a\")\n",
        "        Catboost_data = pd.DataFrame(columns=['Algorithm', 'Accuracy', 'F1', 'AUC'])\n",
        "\n",
        "\n",
        "    for i in tqdm(range(iterations)):\n",
        "        accuracy_pso, _, _ = run_accuracy_pso()\n",
        "        f1_pso, _, _ = run_f1_pso()\n",
        "        auc_pso, _, _ = run_auc_pso()\n",
        "        temp = pd.DataFrame({'Algorithm' : ['PSO'], \n",
        "                            'Accuracy' :[-accuracy_pso[0]], \n",
        "                            'F1' : [-f1_pso[0]], \n",
        "                            'AUC' : [-auc_pso[0]]})\n",
        "        #Catboost_data = Catboost_data.append(temp, ignore_index = True)\n",
        "        Catboost_data = pd.concat([Catboost_data, temp], ignore_index=True)\n",
        "        Catboost_data[['Algorithm', 'Accuracy', 'F1', 'AUC']].to_csv(filename)\n",
        "        \n",
        "        accuracy_ga, _, _ = run_accuracy_ga()\n",
        "        f1_ga, _, _ = run_f1_ga()\n",
        "        auc_ga, _, _ = run_auc_ga()\n",
        "        temp = pd.DataFrame({'Algorithm' : ['GA'], \n",
        "                            'Accuracy' :[-accuracy_ga[0]], \n",
        "                            'F1' : [-f1_ga[0]], \n",
        "                            'AUC' : [-auc_ga[0]]})\n",
        "        #Catboost_data = Catboost_data.append(temp, ignore_index = True)\n",
        "        Catboost_data = pd.concat([Catboost_data, temp], ignore_index=True)\n",
        "        Catboost_data[['Algorithm', 'Accuracy', 'F1', 'AUC']].to_csv(filename)\n",
        "        \n",
        "        accuracy_optuna, _ = run_optuna_accuracy()\n",
        "        f1_optuna, _ = run_optuna_f1()\n",
        "        auc_optuna, _ = run_optuna_auc()\n",
        "        temp = pd.DataFrame({'Algorithm' : ['Optuna'], \n",
        "                            'Accuracy' :[accuracy_optuna], \n",
        "                            'F1' : [f1_optuna], \n",
        "                            'AUC' : [auc_optuna]})\n",
        "        #Catboost_data = Catboost_data.append(temp, ignore_index = True)\n",
        "        Catboost_data = pd.concat([Catboost_data, temp], ignore_index=True)\n",
        "        Catboost_data[['Algorithm', 'Accuracy', 'F1', 'AUC']].to_csv(filename)"
      ]
    },
    {
      "cell_type": "code",
      "execution_count": 160,
      "metadata": {},
      "outputs": [],
      "source": [
        "from tqdm import tqdm\n",
        "import pandas as pd\n",
        "from os import system\n",
        "\n",
        "def full_run_pso(iterations):\n",
        "    filename = './Catboost_wine_data.csv'\n",
        "\n",
        "    try:\n",
        "        Catboost_data = pd.read_csv(filename)\n",
        "    except:\n",
        "        open(filename, \"a\")\n",
        "        Catboost_data = pd.DataFrame(columns=['Algorithm', 'Accuracy', 'F1', 'AUC'])\n",
        "\n",
        "\n",
        "    for i in tqdm(range(iterations)):\n",
        "        accuracy_pso = run_accuracy_pso()\n",
        "        f1_pso = run_f1_pso()\n",
        "        auc_pso = run_auc_pso()\n",
        "        temp = pd.DataFrame({'Algorithm' : ['PSO'], \n",
        "                            'Accuracy' :[accuracy_pso], \n",
        "                            'F1' : [f1_pso], \n",
        "                            'AUC' : [auc_pso]})\n",
        "        #Catboost_data = Catboost_data.append(temp, ignore_index = True)\n",
        "        Catboost_data = pd.concat([Catboost_data, temp], ignore_index=True)\n",
        "        Catboost_data[['Algorithm', 'Accuracy', 'F1', 'AUC']].to_csv(filename)\n",
        "        "
      ]
    },
    {
      "cell_type": "code",
      "execution_count": 161,
      "metadata": {},
      "outputs": [],
      "source": [
        "from tqdm import tqdm\n",
        "import pandas as pd\n",
        "from os import system\n",
        "\n",
        "def full_run_ga(iterations):\n",
        "    filename = './Catboost_wine_data.csv'\n",
        "\n",
        "    try:\n",
        "        Catboost_data = pd.read_csv(filename)\n",
        "    except:\n",
        "        open(filename, \"a\")\n",
        "        Catboost_data = pd.DataFrame(columns=['Algorithm', 'Accuracy', 'F1', 'AUC'])\n",
        "\n",
        "\n",
        "    for i in tqdm(range(iterations)):\n",
        "\n",
        "        accuracy_ga, _, _ = run_accuracy_ga()\n",
        "        f1_ga, _, _ = run_f1_ga()\n",
        "        auc_ga, _, _ = run_auc_ga()\n",
        "        temp = pd.DataFrame({'Algorithm' : ['GA'], \n",
        "                            'Accuracy' :[-accuracy_ga[0]], \n",
        "                            'F1' : [-f1_ga[0]], \n",
        "                            'AUC' : [-auc_ga[0]]})\n",
        "        #Catboost_data = Catboost_data.append(temp, ignore_index = True)\n",
        "        Catboost_data = pd.concat([Catboost_data, temp], ignore_index=True)\n",
        "        Catboost_data[['Algorithm', 'Accuracy', 'F1', 'AUC']].to_csv(filename)\n",
        "        "
      ]
    },
    {
      "cell_type": "code",
      "execution_count": 162,
      "metadata": {},
      "outputs": [],
      "source": [
        "from tqdm import tqdm\n",
        "import pandas as pd\n",
        "from os import system\n",
        "\n",
        "def full_run_optuna(iterations):\n",
        "    filename = './Catboost_wine_data.csv'\n",
        "\n",
        "    try:\n",
        "        Catboost_data = pd.read_csv(filename)\n",
        "    except:\n",
        "        open(filename, \"a\")\n",
        "        Catboost_data = pd.DataFrame(columns=['Algorithm', 'Accuracy', 'F1', 'AUC'])\n",
        "\n",
        "\n",
        "    for i in tqdm(range(iterations)):      \n",
        "        accuracy_optuna, _ = run_optuna_accuracy()\n",
        "        f1_optuna, _ = run_optuna_f1()\n",
        "        auc_optuna, _ = run_optuna_auc()\n",
        "        temp = pd.DataFrame({'Algorithm' : ['Optuna'], \n",
        "                            'Accuracy' :[accuracy_optuna], \n",
        "                            'F1' : [f1_optuna], \n",
        "                            'AUC' : [auc_optuna]})\n",
        "        #Catboost_data = Catboost_data.append(temp, ignore_index = True)\n",
        "        Catboost_data = pd.concat([Catboost_data, temp], ignore_index=True)\n",
        "        Catboost_data[['Algorithm', 'Accuracy', 'F1', 'AUC']].to_csv(filename)"
      ]
    },
    {
      "cell_type": "code",
      "execution_count": 163,
      "metadata": {},
      "outputs": [],
      "source": [
        "def full_run_random_searh(iterations):\n",
        "    filename = './Catboost_wine_data.csv'\n",
        "\n",
        "    try:\n",
        "        Catboost_data = pd.read_csv(filename)\n",
        "    except:\n",
        "        open(filename, \"a\")\n",
        "        Catboost_data = pd.DataFrame(columns=['Algorithm', 'Accuracy', 'F1', 'AUC'])\n",
        "\n",
        "\n",
        "    for i in tqdm(range(iterations)):\n",
        "\n",
        "        accuracy_rs = run_random_search_accuracy()\n",
        "        f1_rs = run_random_search_f1()\n",
        "        auc_rs = run_random_search_auc()\n",
        "        temp = pd.DataFrame({'Algorithm' : ['Random Search'], \n",
        "                            'Accuracy' :[accuracy_rs], \n",
        "                            'F1' : [f1_rs], \n",
        "                            'AUC' : [auc_rs]})\n",
        "        #Catboost_data = Catboost_data.append(temp, ignore_index = True)\n",
        "        Catboost_data = pd.concat([Catboost_data, temp], ignore_index=True)\n",
        "        Catboost_data[['Algorithm', 'Accuracy', 'F1', 'AUC']].to_csv(filename)"
      ]
    },
    {
      "cell_type": "code",
      "execution_count": 170,
      "metadata": {},
      "outputs": [
        {
          "name": "stderr",
          "output_type": "stream",
          "text": [
            "C:\\Users\\Felps\\AppData\\Local\\Temp\\ipykernel_19532\\1994123235.py:5: DeprecationWarning: Call to deprecated function (or staticmethod) get_termination. (Please use `from pymoo.termination import get_termination`)\n",
            "  term = get_termination(\"n_gen\", ITERATIONS)\n",
            "  0%|          | 0/32 [12:49<?, ?it/s]\n",
            "  0%|          | 0/32 [06:49<?, ?it/s]\n",
            "  0%|          | 0/32 [11:28<?, ?it/s]\n",
            "  0%|          | 0/32 [07:51<?, ?it/s]\n",
            "  0%|          | 0/32 [12:45<?, ?it/s]\n",
            "  0%|          | 0/32 [09:02<?, ?it/s]\n",
            "  0%|          | 0/32 [06:30<?, ?it/s]\n",
            "  0%|          | 0/32 [16:04<?, ?it/s]\n",
            "  0%|          | 0/32 [08:50<?, ?it/s]\n",
            "  0%|          | 0/32 [11:24<?, ?it/s]\n",
            "  0%|          | 0/32 [07:13<?, ?it/s]\n",
            "  0%|          | 0/32 [07:30<?, ?it/s]\n",
            "  0%|          | 0/32 [09:51<?, ?it/s]\n",
            "  0%|          | 0/32 [07:47<?, ?it/s]\n",
            "  0%|          | 0/32 [08:31<?, ?it/s]\n",
            "  0%|          | 0/32 [07:05<?, ?it/s]\n",
            "  0%|          | 0/32 [06:13<?, ?it/s]\n",
            "  0%|          | 0/32 [11:07<?, ?it/s]\n",
            "  0%|          | 0/32 [10:22<?, ?it/s]\n",
            "  0%|          | 0/32 [09:16<?, ?it/s]\n",
            "  0%|          | 0/32 [07:35<?, ?it/s]\n",
            "  0%|          | 0/32 [08:53<?, ?it/s]\n",
            "  0%|          | 0/32 [08:21<?, ?it/s]\n",
            "  0%|          | 0/32 [10:45<?, ?it/s]\n",
            "  0%|          | 0/32 [06:54<?, ?it/s]\n",
            "  0%|          | 0/32 [10:40<?, ?it/s]\n",
            "  0%|          | 0/32 [06:22<?, ?it/s]\n",
            "  0%|          | 0/32 [10:08<?, ?it/s]\n",
            "  0%|          | 0/32 [08:37<?, ?it/s]\n",
            "  0%|          | 0/32 [09:28<?, ?it/s]\n"
          ]
        }
      ],
      "source": [
        "ga_cost_hist = []\n",
        "for run in range(30):\n",
        "  score_best_individual, parameters_best_individual, res = run_f1_ga(ITERATIONS = 32, POPULATION = 32)\n",
        "\n",
        "  trlist = np.array([])\n",
        "  for i in range(len(res.history)):\n",
        "    trlist = np.append(trlist, -res.history[i].pop.get('F').reshape(-1)) \n",
        "    \n",
        "  scorelist = []\n",
        "\n",
        "  for i in range(len(trlist)):\n",
        "  #for i in range(1):\n",
        "    if i == 0:\n",
        "      scorelist.append(trlist[i])\n",
        "    elif trlist[i] > scorelist[i-1]:\n",
        "      scorelist.append(trlist[i])\n",
        "    else:\n",
        "      scorelist.append(scorelist[i-1])\n",
        "    \n",
        "  ga_cost_hist.append(scorelist)"
      ]
    },
    {
      "cell_type": "code",
      "execution_count": 171,
      "metadata": {},
      "outputs": [
        {
          "ename": "IndexError",
          "evalue": "list index out of range",
          "output_type": "error",
          "traceback": [
            "\u001b[1;31m---------------------------------------------------------------------------\u001b[0m",
            "\u001b[1;31mIndexError\u001b[0m                                Traceback (most recent call last)",
            "Cell \u001b[1;32mIn[171], line 5\u001b[0m\n\u001b[0;32m      3\u001b[0m sum_values \u001b[39m=\u001b[39m \u001b[39m0\u001b[39m\n\u001b[0;32m      4\u001b[0m \u001b[39mfor\u001b[39;00m j \u001b[39min\u001b[39;00m \u001b[39mrange\u001b[39m(\u001b[39m30\u001b[39m):\n\u001b[1;32m----> 5\u001b[0m     sum_values \u001b[39m+\u001b[39m\u001b[39m=\u001b[39m \u001b[39m-\u001b[39mga_cost_hist[j][i]\n\u001b[0;32m      6\u001b[0m ga_mean_list\u001b[39m.\u001b[39mappend(sum_values\u001b[39m/\u001b[39m\u001b[39m30\u001b[39m)\n",
            "\u001b[1;31mIndexError\u001b[0m: list index out of range"
          ]
        }
      ],
      "source": [
        "ga_mean_list = []\n",
        "for i in range(32):\n",
        "    sum_values = 0\n",
        "    for j in range(30):\n",
        "        sum_values += -ga_cost_hist[j][i]\n",
        "    ga_mean_list.append(sum_values/30)"
      ]
    },
    {
      "cell_type": "code",
      "execution_count": null,
      "metadata": {},
      "outputs": [],
      "source": [
        "newlist = [-i for i in ga_mean_list]\n",
        "newlist"
      ]
    },
    {
      "cell_type": "code",
      "execution_count": null,
      "metadata": {},
      "outputs": [
        {
          "data": {
            "image/png": "[encoded data removed]",
            "text/plain": [
              "<Figure size 640x480 with 1 Axes>"
            ]
          },
          "metadata": {},
          "output_type": "display_data"
        }
      ],
      "source": [
        "tracking_optuna_fi_list =[]\n",
        "for i in range(30):\n",
        "  study = optuna.create_study(direction='maximize')\n",
        "  study.optimize(objective_f1, n_trials=1024, n_jobs = -1)\n",
        "  trial = study.best_trial\n",
        "  #print('AUC: {}'.format(trial.value))\n",
        "  #print(\"Best hyperparameters: {}\".format(trial.params))\n",
        "  trial, study = trial.value, study\n",
        "\n",
        "  tracking = []\n",
        "  for i in range(len(study.trials)):\n",
        "    if i == 0: \n",
        "      tracking.append(study.trials[i].value)\n",
        "    elif tracking[i-1] > study.trials[i].value:\n",
        "      tracking.append(tracking[i-1])\n",
        "    else:\n",
        "      tracking.append(study.trials[i].value)\n",
        "  #tracking_sorted = sorted(tracking)\n",
        "  tracking_optuna_fi_list.append(tracking)\n"
      ]
    }
  ],
  "metadata": {
    "colab": {
      "collapsed_sections": [
        "_HsPc7BH-MWL",
        "iTAAhn6w-Be4",
        "F-WtiEIO0kFu",
        "vA6kphUO0vcT"
      ],
      "provenance": []
    },
    "kernelspec": {
      "display_name": "Python 3",
      "language": "python",
      "name": "python3"
    },
    "language_info": {
      "codemirror_mode": {
        "name": "ipython",
        "version": 3
      },
      "file_extension": ".py",
      "mimetype": "text/x-python",
      "name": "python",
      "nbconvert_exporter": "python",
      "pygments_lexer": "ipython3",
      "version": "3.11.3"
    },
    "vscode": {
      "interpreter": {
        "hash": "8149941357ab46e91af0255cc46a7a09aaccc03c1980a89f638a5973ac5bc49f"
      }
    },
    "widgets": {
      "application/vnd.jupyter.widget-state+json": {
        "01d3490253a8464281845cb171385d59": {
          "model_module": "@jupyter-widgets/controls",
          "model_module_version": "1.5.0",
          "model_name": "DescriptionStyleModel",
          "state": {
            "_model_module": "@jupyter-widgets/controls",
            "_model_module_version": "1.5.0",
            "_model_name": "DescriptionStyleModel",
            "_view_count": null,
            "_view_module": "@jupyter-widgets/base",
            "_view_module_version": "1.2.0",
            "_view_name": "StyleView",
            "description_width": ""
          }
        },
        "12434838d89048188eefe1af0332bfd6": {
          "model_module": "@jupyter-widgets/controls",
          "model_module_version": "1.5.0",
          "model_name": "HBoxModel",
          "state": {
            "_dom_classes": [],
            "_model_module": "@jupyter-widgets/controls",
            "_model_module_version": "1.5.0",
            "_model_name": "HBoxModel",
            "_view_count": null,
            "_view_module": "@jupyter-widgets/controls",
            "_view_module_version": "1.5.0",
            "_view_name": "HBoxView",
            "box_style": "",
            "children": [
              "IPY_MODEL_b6288aa156624b108015ab993c54d52b",
              "IPY_MODEL_f45e5f0d4187404fb8f63acd3c26fe17",
              "IPY_MODEL_aaa16b6dbffd42ef973b1826e5ed2242"
            ],
            "layout": "IPY_MODEL_8721e5217b97444d948e5b85c6fd53c7"
          }
        },
        "124e5b4b5b3344f4abdc93628b112d8f": {
          "model_module": "@jupyter-widgets/controls",
          "model_module_version": "1.5.0",
          "model_name": "DescriptionStyleModel",
          "state": {
            "_model_module": "@jupyter-widgets/controls",
            "_model_module_version": "1.5.0",
            "_model_name": "DescriptionStyleModel",
            "_view_count": null,
            "_view_module": "@jupyter-widgets/base",
            "_view_module_version": "1.2.0",
            "_view_name": "StyleView",
            "description_width": ""
          }
        },
        "1614757884124ed487149ebed485833f": {
          "model_module": "@jupyter-widgets/base",
          "model_module_version": "1.2.0",
          "model_name": "LayoutModel",
          "state": {
            "_model_module": "@jupyter-widgets/base",
            "_model_module_version": "1.2.0",
            "_model_name": "LayoutModel",
            "_view_count": null,
            "_view_module": "@jupyter-widgets/base",
            "_view_module_version": "1.2.0",
            "_view_name": "LayoutView",
            "align_content": null,
            "align_items": null,
            "align_self": null,
            "border": null,
            "bottom": null,
            "display": null,
            "flex": null,
            "flex_flow": null,
            "grid_area": null,
            "grid_auto_columns": null,
            "grid_auto_flow": null,
            "grid_auto_rows": null,
            "grid_column": null,
            "grid_gap": null,
            "grid_row": null,
            "grid_template_areas": null,
            "grid_template_columns": null,
            "grid_template_rows": null,
            "height": null,
            "justify_content": null,
            "justify_items": null,
            "left": null,
            "margin": null,
            "max_height": null,
            "max_width": null,
            "min_height": null,
            "min_width": null,
            "object_fit": null,
            "object_position": null,
            "order": null,
            "overflow": null,
            "overflow_x": null,
            "overflow_y": null,
            "padding": null,
            "right": null,
            "top": null,
            "visibility": null,
            "width": null
          }
        },
        "1a32143976c744e5a388d7b343e7c054": {
          "model_module": "@jupyter-widgets/controls",
          "model_module_version": "1.5.0",
          "model_name": "DescriptionStyleModel",
          "state": {
            "_model_module": "@jupyter-widgets/controls",
            "_model_module_version": "1.5.0",
            "_model_name": "DescriptionStyleModel",
            "_view_count": null,
            "_view_module": "@jupyter-widgets/base",
            "_view_module_version": "1.2.0",
            "_view_name": "StyleView",
            "description_width": ""
          }
        },
        "20a38960e7374ab594f04f4b1c5e2321": {
          "model_module": "@jupyter-widgets/controls",
          "model_module_version": "1.5.0",
          "model_name": "HTMLModel",
          "state": {
            "_dom_classes": [],
            "_model_module": "@jupyter-widgets/controls",
            "_model_module_version": "1.5.0",
            "_model_name": "HTMLModel",
            "_view_count": null,
            "_view_module": "@jupyter-widgets/controls",
            "_view_module_version": "1.5.0",
            "_view_name": "HTMLView",
            "description": "",
            "description_tooltip": null,
            "layout": "IPY_MODEL_6f29547455ac4adb8edaa11d5839f5cb",
            "placeholder": "​",
            "style": "IPY_MODEL_1a32143976c744e5a388d7b343e7c054",
            "value": "100%"
          }
        },
        "54cbbc7ffbcc401abfbf3167f882019e": {
          "model_module": "@jupyter-widgets/controls",
          "model_module_version": "1.5.0",
          "model_name": "ProgressStyleModel",
          "state": {
            "_model_module": "@jupyter-widgets/controls",
            "_model_module_version": "1.5.0",
            "_model_name": "ProgressStyleModel",
            "_view_count": null,
            "_view_module": "@jupyter-widgets/base",
            "_view_module_version": "1.2.0",
            "_view_name": "StyleView",
            "bar_color": null,
            "description_width": ""
          }
        },
        "6f124da663194ac0b073ab7a3fb168c3": {
          "model_module": "@jupyter-widgets/controls",
          "model_module_version": "1.5.0",
          "model_name": "ProgressStyleModel",
          "state": {
            "_model_module": "@jupyter-widgets/controls",
            "_model_module_version": "1.5.0",
            "_model_name": "ProgressStyleModel",
            "_view_count": null,
            "_view_module": "@jupyter-widgets/base",
            "_view_module_version": "1.2.0",
            "_view_name": "StyleView",
            "bar_color": null,
            "description_width": ""
          }
        },
        "6f29547455ac4adb8edaa11d5839f5cb": {
          "model_module": "@jupyter-widgets/base",
          "model_module_version": "1.2.0",
          "model_name": "LayoutModel",
          "state": {
            "_model_module": "@jupyter-widgets/base",
            "_model_module_version": "1.2.0",
            "_model_name": "LayoutModel",
            "_view_count": null,
            "_view_module": "@jupyter-widgets/base",
            "_view_module_version": "1.2.0",
            "_view_name": "LayoutView",
            "align_content": null,
            "align_items": null,
            "align_self": null,
            "border": null,
            "bottom": null,
            "display": null,
            "flex": null,
            "flex_flow": null,
            "grid_area": null,
            "grid_auto_columns": null,
            "grid_auto_flow": null,
            "grid_auto_rows": null,
            "grid_column": null,
            "grid_gap": null,
            "grid_row": null,
            "grid_template_areas": null,
            "grid_template_columns": null,
            "grid_template_rows": null,
            "height": null,
            "justify_content": null,
            "justify_items": null,
            "left": null,
            "margin": null,
            "max_height": null,
            "max_width": null,
            "min_height": null,
            "min_width": null,
            "object_fit": null,
            "object_position": null,
            "order": null,
            "overflow": null,
            "overflow_x": null,
            "overflow_y": null,
            "padding": null,
            "right": null,
            "top": null,
            "visibility": null,
            "width": null
          }
        },
        "76b3046c318d4fbcb66b198b50cd91e7": {
          "model_module": "@jupyter-widgets/base",
          "model_module_version": "1.2.0",
          "model_name": "LayoutModel",
          "state": {
            "_model_module": "@jupyter-widgets/base",
            "_model_module_version": "1.2.0",
            "_model_name": "LayoutModel",
            "_view_count": null,
            "_view_module": "@jupyter-widgets/base",
            "_view_module_version": "1.2.0",
            "_view_name": "LayoutView",
            "align_content": null,
            "align_items": null,
            "align_self": null,
            "border": null,
            "bottom": null,
            "display": null,
            "flex": null,
            "flex_flow": null,
            "grid_area": null,
            "grid_auto_columns": null,
            "grid_auto_flow": null,
            "grid_auto_rows": null,
            "grid_column": null,
            "grid_gap": null,
            "grid_row": null,
            "grid_template_areas": null,
            "grid_template_columns": null,
            "grid_template_rows": null,
            "height": null,
            "justify_content": null,
            "justify_items": null,
            "left": null,
            "margin": null,
            "max_height": null,
            "max_width": null,
            "min_height": null,
            "min_width": null,
            "object_fit": null,
            "object_position": null,
            "order": null,
            "overflow": null,
            "overflow_x": null,
            "overflow_y": null,
            "padding": null,
            "right": null,
            "top": null,
            "visibility": null,
            "width": null
          }
        },
        "7c3472a6094a4249a082f8dc630e5258": {
          "model_module": "@jupyter-widgets/controls",
          "model_module_version": "1.5.0",
          "model_name": "FloatProgressModel",
          "state": {
            "_dom_classes": [],
            "_model_module": "@jupyter-widgets/controls",
            "_model_module_version": "1.5.0",
            "_model_name": "FloatProgressModel",
            "_view_count": null,
            "_view_module": "@jupyter-widgets/controls",
            "_view_module_version": "1.5.0",
            "_view_name": "ProgressView",
            "bar_style": "success",
            "description": "",
            "description_tooltip": null,
            "layout": "IPY_MODEL_1614757884124ed487149ebed485833f",
            "max": 32,
            "min": 0,
            "orientation": "horizontal",
            "style": "IPY_MODEL_6f124da663194ac0b073ab7a3fb168c3",
            "value": 32
          }
        },
        "7f079b743c6e4ad897ae55ba366a15b9": {
          "model_module": "@jupyter-widgets/base",
          "model_module_version": "1.2.0",
          "model_name": "LayoutModel",
          "state": {
            "_model_module": "@jupyter-widgets/base",
            "_model_module_version": "1.2.0",
            "_model_name": "LayoutModel",
            "_view_count": null,
            "_view_module": "@jupyter-widgets/base",
            "_view_module_version": "1.2.0",
            "_view_name": "LayoutView",
            "align_content": null,
            "align_items": null,
            "align_self": null,
            "border": null,
            "bottom": null,
            "display": null,
            "flex": null,
            "flex_flow": null,
            "grid_area": null,
            "grid_auto_columns": null,
            "grid_auto_flow": null,
            "grid_auto_rows": null,
            "grid_column": null,
            "grid_gap": null,
            "grid_row": null,
            "grid_template_areas": null,
            "grid_template_columns": null,
            "grid_template_rows": null,
            "height": null,
            "justify_content": null,
            "justify_items": null,
            "left": null,
            "margin": null,
            "max_height": null,
            "max_width": null,
            "min_height": null,
            "min_width": null,
            "object_fit": null,
            "object_position": null,
            "order": null,
            "overflow": null,
            "overflow_x": null,
            "overflow_y": null,
            "padding": null,
            "right": null,
            "top": null,
            "visibility": null,
            "width": null
          }
        },
        "8721e5217b97444d948e5b85c6fd53c7": {
          "model_module": "@jupyter-widgets/base",
          "model_module_version": "1.2.0",
          "model_name": "LayoutModel",
          "state": {
            "_model_module": "@jupyter-widgets/base",
            "_model_module_version": "1.2.0",
            "_model_name": "LayoutModel",
            "_view_count": null,
            "_view_module": "@jupyter-widgets/base",
            "_view_module_version": "1.2.0",
            "_view_name": "LayoutView",
            "align_content": null,
            "align_items": null,
            "align_self": null,
            "border": null,
            "bottom": null,
            "display": null,
            "flex": null,
            "flex_flow": null,
            "grid_area": null,
            "grid_auto_columns": null,
            "grid_auto_flow": null,
            "grid_auto_rows": null,
            "grid_column": null,
            "grid_gap": null,
            "grid_row": null,
            "grid_template_areas": null,
            "grid_template_columns": null,
            "grid_template_rows": null,
            "height": null,
            "justify_content": null,
            "justify_items": null,
            "left": null,
            "margin": null,
            "max_height": null,
            "max_width": null,
            "min_height": null,
            "min_width": null,
            "object_fit": null,
            "object_position": null,
            "order": null,
            "overflow": null,
            "overflow_x": null,
            "overflow_y": null,
            "padding": null,
            "right": null,
            "top": null,
            "visibility": null,
            "width": null
          }
        },
        "992dda0d38b145b88946b67edc62ab57": {
          "model_module": "@jupyter-widgets/base",
          "model_module_version": "1.2.0",
          "model_name": "LayoutModel",
          "state": {
            "_model_module": "@jupyter-widgets/base",
            "_model_module_version": "1.2.0",
            "_model_name": "LayoutModel",
            "_view_count": null,
            "_view_module": "@jupyter-widgets/base",
            "_view_module_version": "1.2.0",
            "_view_name": "LayoutView",
            "align_content": null,
            "align_items": null,
            "align_self": null,
            "border": null,
            "bottom": null,
            "display": null,
            "flex": null,
            "flex_flow": null,
            "grid_area": null,
            "grid_auto_columns": null,
            "grid_auto_flow": null,
            "grid_auto_rows": null,
            "grid_column": null,
            "grid_gap": null,
            "grid_row": null,
            "grid_template_areas": null,
            "grid_template_columns": null,
            "grid_template_rows": null,
            "height": null,
            "justify_content": null,
            "justify_items": null,
            "left": null,
            "margin": null,
            "max_height": null,
            "max_width": null,
            "min_height": null,
            "min_width": null,
            "object_fit": null,
            "object_position": null,
            "order": null,
            "overflow": null,
            "overflow_x": null,
            "overflow_y": null,
            "padding": null,
            "right": null,
            "top": null,
            "visibility": null,
            "width": null
          }
        },
        "aaa16b6dbffd42ef973b1826e5ed2242": {
          "model_module": "@jupyter-widgets/controls",
          "model_module_version": "1.5.0",
          "model_name": "HTMLModel",
          "state": {
            "_dom_classes": [],
            "_model_module": "@jupyter-widgets/controls",
            "_model_module_version": "1.5.0",
            "_model_name": "HTMLModel",
            "_view_count": null,
            "_view_module": "@jupyter-widgets/controls",
            "_view_module_version": "1.5.0",
            "_view_name": "HTMLView",
            "description": "",
            "description_tooltip": null,
            "layout": "IPY_MODEL_d539e4a476cb4ae28e78769b17b97aa9",
            "placeholder": "​",
            "style": "IPY_MODEL_fb379b55e7bd4b3bb7ed4b0ec6390b2e",
            "value": " 32/32 [48:44&lt;00:00, 118.10s/it]"
          }
        },
        "ae818704a52542d696c8eb0c1c182a81": {
          "model_module": "@jupyter-widgets/controls",
          "model_module_version": "1.5.0",
          "model_name": "HTMLModel",
          "state": {
            "_dom_classes": [],
            "_model_module": "@jupyter-widgets/controls",
            "_model_module_version": "1.5.0",
            "_model_name": "HTMLModel",
            "_view_count": null,
            "_view_module": "@jupyter-widgets/controls",
            "_view_module_version": "1.5.0",
            "_view_name": "HTMLView",
            "description": "",
            "description_tooltip": null,
            "layout": "IPY_MODEL_76b3046c318d4fbcb66b198b50cd91e7",
            "placeholder": "​",
            "style": "IPY_MODEL_124e5b4b5b3344f4abdc93628b112d8f",
            "value": " 32/32 [15:48&lt;00:00, 30.29s/it]"
          }
        },
        "b504307a10f54034ad07715278fa1dbc": {
          "model_module": "@jupyter-widgets/controls",
          "model_module_version": "1.5.0",
          "model_name": "HBoxModel",
          "state": {
            "_dom_classes": [],
            "_model_module": "@jupyter-widgets/controls",
            "_model_module_version": "1.5.0",
            "_model_name": "HBoxModel",
            "_view_count": null,
            "_view_module": "@jupyter-widgets/controls",
            "_view_module_version": "1.5.0",
            "_view_name": "HBoxView",
            "box_style": "",
            "children": [
              "IPY_MODEL_20a38960e7374ab594f04f4b1c5e2321",
              "IPY_MODEL_7c3472a6094a4249a082f8dc630e5258",
              "IPY_MODEL_ae818704a52542d696c8eb0c1c182a81"
            ],
            "layout": "IPY_MODEL_992dda0d38b145b88946b67edc62ab57"
          }
        },
        "b6288aa156624b108015ab993c54d52b": {
          "model_module": "@jupyter-widgets/controls",
          "model_module_version": "1.5.0",
          "model_name": "HTMLModel",
          "state": {
            "_dom_classes": [],
            "_model_module": "@jupyter-widgets/controls",
            "_model_module_version": "1.5.0",
            "_model_name": "HTMLModel",
            "_view_count": null,
            "_view_module": "@jupyter-widgets/controls",
            "_view_module_version": "1.5.0",
            "_view_name": "HTMLView",
            "description": "",
            "description_tooltip": null,
            "layout": "IPY_MODEL_d25235d18f8045de9948417d13538ef3",
            "placeholder": "​",
            "style": "IPY_MODEL_01d3490253a8464281845cb171385d59",
            "value": "100%"
          }
        },
        "d25235d18f8045de9948417d13538ef3": {
          "model_module": "@jupyter-widgets/base",
          "model_module_version": "1.2.0",
          "model_name": "LayoutModel",
          "state": {
            "_model_module": "@jupyter-widgets/base",
            "_model_module_version": "1.2.0",
            "_model_name": "LayoutModel",
            "_view_count": null,
            "_view_module": "@jupyter-widgets/base",
            "_view_module_version": "1.2.0",
            "_view_name": "LayoutView",
            "align_content": null,
            "align_items": null,
            "align_self": null,
            "border": null,
            "bottom": null,
            "display": null,
            "flex": null,
            "flex_flow": null,
            "grid_area": null,
            "grid_auto_columns": null,
            "grid_auto_flow": null,
            "grid_auto_rows": null,
            "grid_column": null,
            "grid_gap": null,
            "grid_row": null,
            "grid_template_areas": null,
            "grid_template_columns": null,
            "grid_template_rows": null,
            "height": null,
            "justify_content": null,
            "justify_items": null,
            "left": null,
            "margin": null,
            "max_height": null,
            "max_width": null,
            "min_height": null,
            "min_width": null,
            "object_fit": null,
            "object_position": null,
            "order": null,
            "overflow": null,
            "overflow_x": null,
            "overflow_y": null,
            "padding": null,
            "right": null,
            "top": null,
            "visibility": null,
            "width": null
          }
        },
        "d539e4a476cb4ae28e78769b17b97aa9": {
          "model_module": "@jupyter-widgets/base",
          "model_module_version": "1.2.0",
          "model_name": "LayoutModel",
          "state": {
            "_model_module": "@jupyter-widgets/base",
            "_model_module_version": "1.2.0",
            "_model_name": "LayoutModel",
            "_view_count": null,
            "_view_module": "@jupyter-widgets/base",
            "_view_module_version": "1.2.0",
            "_view_name": "LayoutView",
            "align_content": null,
            "align_items": null,
            "align_self": null,
            "border": null,
            "bottom": null,
            "display": null,
            "flex": null,
            "flex_flow": null,
            "grid_area": null,
            "grid_auto_columns": null,
            "grid_auto_flow": null,
            "grid_auto_rows": null,
            "grid_column": null,
            "grid_gap": null,
            "grid_row": null,
            "grid_template_areas": null,
            "grid_template_columns": null,
            "grid_template_rows": null,
            "height": null,
            "justify_content": null,
            "justify_items": null,
            "left": null,
            "margin": null,
            "max_height": null,
            "max_width": null,
            "min_height": null,
            "min_width": null,
            "object_fit": null,
            "object_position": null,
            "order": null,
            "overflow": null,
            "overflow_x": null,
            "overflow_y": null,
            "padding": null,
            "right": null,
            "top": null,
            "visibility": null,
            "width": null
          }
        },
        "f45e5f0d4187404fb8f63acd3c26fe17": {
          "model_module": "@jupyter-widgets/controls",
          "model_module_version": "1.5.0",
          "model_name": "FloatProgressModel",
          "state": {
            "_dom_classes": [],
            "_model_module": "@jupyter-widgets/controls",
            "_model_module_version": "1.5.0",
            "_model_name": "FloatProgressModel",
            "_view_count": null,
            "_view_module": "@jupyter-widgets/controls",
            "_view_module_version": "1.5.0",
            "_view_name": "ProgressView",
            "bar_style": "success",
            "description": "",
            "description_tooltip": null,
            "layout": "IPY_MODEL_7f079b743c6e4ad897ae55ba366a15b9",
            "max": 32,
            "min": 0,
            "orientation": "horizontal",
            "style": "IPY_MODEL_54cbbc7ffbcc401abfbf3167f882019e",
            "value": 32
          }
        },
        "fb379b55e7bd4b3bb7ed4b0ec6390b2e": {
          "model_module": "@jupyter-widgets/controls",
          "model_module_version": "1.5.0",
          "model_name": "DescriptionStyleModel",
          "state": {
            "_model_module": "@jupyter-widgets/controls",
            "_model_module_version": "1.5.0",
            "_model_name": "DescriptionStyleModel",
            "_view_count": null,
            "_view_module": "@jupyter-widgets/base",
            "_view_module_version": "1.2.0",
            "_view_name": "StyleView",
            "description_width": ""
          }
        }
      }
    }
  },
  "nbformat": 4,
  "nbformat_minor": 0
}
