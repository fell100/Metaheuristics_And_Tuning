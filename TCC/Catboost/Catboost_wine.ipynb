{
  "cells": [
    {
      "attachments": {},
      "cell_type": "markdown",
      "metadata": {},
      "source": [
        "## Definindo o Problema"
      ]
    },
    {
      "cell_type": "code",
      "execution_count": 1,
      "metadata": {
        "colab": {
          "base_uri": "https://localhost:8080/"
        },
        "id": "9Sev1tJEIXbP",
        "outputId": "a8d34b52-5234-4e1c-ba54-12555337e150"
      },
      "outputs": [],
      "source": [
        "#!pip install Catboost;\n",
        "#!pip install pymoo;\n",
        "#!pip install -U pyrecorder;"
      ]
    },
    {
      "cell_type": "code",
      "execution_count": 1,
      "metadata": {
        "id": "QrgfvJRNIFyW"
      },
      "outputs": [],
      "source": [
        "import pickle\n",
        "from sklearn.neighbors import KNeighborsClassifier\n",
        "from sklearn.metrics import accuracy_score, confusion_matrix, classification_report\n",
        "#from yellowbrick.classifier import ConfusionMatrix\n",
        "import numpy as np\n",
        "from tqdm.notebook import tqdm as tqdm\n",
        "import matplotlib.pyplot as plt\n",
        "from sklearn.model_selection import cross_val_score, KFold\n",
        "#from google.colab import drive\n",
        "import pandas as pd\n",
        "import pickle\n",
        "from pymoo.algorithms.soo.nonconvex.pso import PSO, PSOAnimation\n",
        "#from pymoo.factory import Rastrigin\n",
        "from pymoo.optimize import minimize\n",
        "import matplotlib.pyplot as plt\n",
        "from pymoo.factory import get_termination\n",
        "#from pymoo.util.display import Display\n",
        "from pymoo.core.callback import Callback"
      ]
    },
    {
      "cell_type": "code",
      "execution_count": 2,
      "metadata": {
        "id": "bnmY0okxIjkH"
      },
      "outputs": [],
      "source": [
        "from catboost import CatBoostClassifier"
      ]
    },
    {
      "cell_type": "code",
      "execution_count": 4,
      "metadata": {
        "colab": {
          "base_uri": "https://localhost:8080/"
        },
        "id": "io1a1cJQIQoZ",
        "outputId": "7762ca48-fc4c-4746-a658-5238c24392fc"
      },
      "outputs": [],
      "source": [
        "#drive.mount('/content/gdrive')"
      ]
    },
    {
      "cell_type": "code",
      "execution_count": 3,
      "metadata": {
        "id": "4TYgT1s1ISuF"
      },
      "outputs": [],
      "source": [
        "#with open('/content/gdrive/MyDrive/datasets/credit.pkl', 'rb') as f:\n",
        "#    x_wine_train, x_wine_test, y_wine_train, y_wine_test = pickle.load(f)\n",
        "    \n",
        "#with open('./wine.pkl', 'rb') as f:\n",
        "#    x_wine, y_wine = pickle.load(f)\n",
        "    \n",
        "with open('./wine.pkl', 'rb') as f:\n",
        "    x_wine, y_wine = pickle.load(f)"
      ]
    },
    {
      "attachments": {},
      "cell_type": "markdown",
      "metadata": {
        "id": "tHg0NYkn-4CK"
      },
      "source": [
        "Definindo as restrições "
      ]
    },
    {
      "cell_type": "code",
      "execution_count": 6,
      "metadata": {},
      "outputs": [],
      "source": [
        "DIMENSIONS = 24"
      ]
    },
    {
      "cell_type": "code",
      "execution_count": 7,
      "metadata": {
        "id": "BkFUaoY1fTFl"
      },
      "outputs": [],
      "source": [
        "iterations_min = 20  #n_estimators n_estimators #INT\n",
        "learning_rate_min = 0.001  #FLOAT\n",
        "l2_leaf_reg_min = 0.01  #FLOAT reg_lambda\n",
        "bagging_temperature_min = 0.001  # float\n",
        "subsample_min = 1.0   #float \n",
        "mvs_reg_min = 0.001  #float 0 - inf\n",
        "random_strength_min = 0.001  #float 1.0 \n",
        "use_best_model_min = False  #bool true false\n",
        "best_model_min_trees_min = 1  #int \n",
        "depth_min = 1  #max_depth 8 int\n",
        "min_data_in_leaf_min = 1  #min_child_samples int\n",
        "max_leaves_min = 10  #num_leaves int \n",
        "one_hot_max_size_min = 1  #int \n",
        "rsm_min = 0.001  #colsample_bylevel float (0;1]\n",
        "fold_permutation_block_min = 1  #int \n",
        "leaf_estimation_iterations_min = 1  #int\n",
        "fold_len_multiplier_min = 2.0  #float\n",
        "approx_on_full_history_min = False  #bool \n",
        "boost_from_average_min = False  #bool \n",
        "diffusion_temperature_min = 1000  #float 10000\n",
        "posterior_sampling_min = False  #bool\n",
        "allow_const_label_min = False  #bool\n",
        "penalties_coefficient_min = 1.0  #float\n",
        "model_shrink_rate_min = 0.001  #float\n",
        "\n",
        "iterations_max = 100  #n_estimators n_estimators #INT\n",
        "learning_rate_max = 0.5  #FLOAT\n",
        "l2_leaf_reg_max = 0.01  #FLOAT reg_lambda\n",
        "bagging_temperature_max = 10000.0  # float\n",
        "subsample_max = 2.0  #float \n",
        "mvs_reg_max = 1000.0  #float 0 - inf\n",
        "random_strength_max = 10.0  #float 1.0 \n",
        "use_best_model_max = True  #bool true false\n",
        "best_model_min_trees_max = 10  #int \n",
        "depth_max = 8  #max_depth 8 int \n",
        "min_data_in_leaf_max = 100  #min_child_samples int\n",
        "max_leaves_max = 10  #num_leaves int \n",
        "one_hot_max_size_max = 20  #int \n",
        "rsm_max = 1.0   #colsample_bylevel float (0;1]\n",
        "fold_permutation_block_max = 100  #int \n",
        "leaf_estimation_iterations_max = 100  #int\n",
        "fold_len_multiplier_max = 10.0  #float\n",
        "approx_on_full_history_max = True  #bool \n",
        "boost_from_average_max = True  #bool \n",
        "diffusion_temperature_max = 50000  #float 10000\n",
        "posterior_sampling_max = True  #bool\n",
        "allow_const_label_max = True  #bool\n",
        "penalties_coefficient_max = 10.0  #float\n",
        "model_shrink_rate_max = 1.0  #float\n",
        "\n",
        "grow_policy = 'Lossguide'"
      ]
    },
    {
      "attachments": {},
      "cell_type": "markdown",
      "metadata": {
        "id": "xSbKK_Og-7Oe"
      },
      "source": [
        "Definindo o problema"
      ]
    },
    {
      "cell_type": "code",
      "execution_count": 8,
      "metadata": {
        "id": "Elrs3UT_j7t6"
      },
      "outputs": [],
      "source": [
        "import numpy as np\n",
        "from pymoo.core.problem import ElementwiseProblem\n",
        "\n",
        "class OptimizeWithAccuracy(ElementwiseProblem):\n",
        "\n",
        "    def __init__(self):\n",
        "        super().__init__(n_var= DIMENSIONS,\n",
        "                         n_obj=1,\n",
        "                         n_constr=25,\n",
        "                         xl=np.array([iterations_min,\n",
        "                          learning_rate_min,\n",
        "                          l2_leaf_reg_min,\n",
        "                          bagging_temperature_min,\n",
        "                          subsample_min,\n",
        "                          mvs_reg_min,\n",
        "                          random_strength_min,\n",
        "                          use_best_model_min,\n",
        "                          best_model_min_trees_min,\n",
        "                          depth_min,\n",
        "                          min_data_in_leaf_min,\n",
        "                          max_leaves_min,\n",
        "                          one_hot_max_size_min,\n",
        "                          rsm_min,\n",
        "                          fold_permutation_block_min,\n",
        "                          leaf_estimation_iterations_min,\n",
        "                          fold_len_multiplier_min,\n",
        "                          approx_on_full_history_min,\n",
        "                          boost_from_average_min,\n",
        "                          diffusion_temperature_min,\n",
        "                          posterior_sampling_min,\n",
        "                          allow_const_label_min,\n",
        "                          penalties_coefficient_min,\n",
        "                          model_shrink_rate_min]),\n",
        "                         xu=np.array([iterations_max,\n",
        "                            learning_rate_max,\n",
        "                            l2_leaf_reg_max,\n",
        "                            bagging_temperature_max,\n",
        "                            subsample_max,\n",
        "                            mvs_reg_max,\n",
        "                            random_strength_max,\n",
        "                            use_best_model_max,\n",
        "                            best_model_min_trees_max,\n",
        "                            depth_max,\n",
        "                            min_data_in_leaf_max,\n",
        "                            max_leaves_max,\n",
        "                            one_hot_max_size_max,\n",
        "                            rsm_max,\n",
        "                            fold_permutation_block_max,\n",
        "                            leaf_estimation_iterations_max,\n",
        "                            fold_len_multiplier_max,\n",
        "                            approx_on_full_history_max,\n",
        "                            boost_from_average_max,\n",
        "                            diffusion_temperature_max,\n",
        "                            posterior_sampling_max,\n",
        "                            allow_const_label_max,\n",
        "                            penalties_coefficient_max,\n",
        "                            model_shrink_rate_max])\n",
        "                        )\n",
        "\n",
        "    def _evaluate(self, x, out, *args, **kwargs):\n",
        "        #num_leaves, min_child_samples, n_estimators, learning_rate, subsample_for_bin, min_split_gain, min_child_weight, reg_alpha, reg_lambda\n",
        "        \n",
        "        model_catboost = CatBoostClassifier(#num_leaves        = int(np.round(x[0])), \n",
        "                                       #extra_trees = bool(np.round(x[16])), #boolean\n",
        "                                        iterations = int(np.round(x[0])),\n",
        "                                        \n",
        "                                        learning_rate = x[1],\n",
        "                                        l2_leaf_reg = x[2],\n",
        "                                        bagging_temperature = x[3],\n",
        "                                        #subsample = x[4],\n",
        "                                        #mvs_reg = x[5],\n",
        "                                        random_strength = x[6],\n",
        "                                        #use_best_model = bool(np.round(x[7])),\n",
        "                                        best_model_min_trees = int(np.round(x[8])), \n",
        "                                        depth = int(np.round(x[9])), \n",
        "                                        min_data_in_leaf = int(np.round(x[10])), \n",
        "                                        max_leaves = int(np.round(x[11])), \n",
        "                                        one_hot_max_size = int(np.round(x[12])), \n",
        "                                        rsm = x[13],\n",
        "                                        fold_permutation_block = int(np.round(x[14])), \n",
        "                                        leaf_estimation_iterations = int(np.round(x[15])), \n",
        "                                        fold_len_multiplier = x[16],\n",
        "                                        approx_on_full_history = False, #bool(np.round(x[17])),\n",
        "                                        #boost_from_average = bool(np.round(x[18])),\n",
        "                                        #diffusion_temperature = x[19],\n",
        "                                        posterior_sampling = bool(np.round(x[20])),\n",
        "                                        allow_const_label = bool(np.round(x[21])),\n",
        "                                        penalties_coefficient = x[22],\n",
        "                                        model_shrink_rate = x[23],\n",
        "                                        loss_function='MultiClass',\n",
        "                                        grow_policy = 'Lossguide',\n",
        "                                        thread_count = -1\n",
        "                                       )\n",
        "        \n",
        "        kfold = KFold(n_splits = 3, shuffle = True)\n",
        "        \n",
        "        scores = cross_val_score(model_catboost, x_wine, y_wine, cv = kfold, n_jobs=-1)  \n",
        "        result = scores.mean()\n",
        "        #if not result:\n",
        "        #  result = 0\n",
        "        \n",
        "        out['F'] = -1 * result\n",
        "\n",
        "problemAccuracy = OptimizeWithAccuracy()"
      ]
    },
    {
      "cell_type": "code",
      "execution_count": 9,
      "metadata": {},
      "outputs": [],
      "source": [
        "class OptimizeWithF1(ElementwiseProblem):\n",
        "        def __init__(self):\n",
        "                super().__init__(n_var= DIMENSIONS,\n",
        "                         n_obj=1,\n",
        "                         n_constr=25,\n",
        "                         xl=np.array([iterations_min,\n",
        "                          learning_rate_min,\n",
        "                          l2_leaf_reg_min,\n",
        "                          bagging_temperature_min,\n",
        "                          subsample_min,\n",
        "                          mvs_reg_min,\n",
        "                          random_strength_min,\n",
        "                          use_best_model_min,\n",
        "                          best_model_min_trees_min,\n",
        "                          depth_min,\n",
        "                          min_data_in_leaf_min,\n",
        "                          max_leaves_min,\n",
        "                          one_hot_max_size_min,\n",
        "                          rsm_min,\n",
        "                          fold_permutation_block_min,\n",
        "                          leaf_estimation_iterations_min,\n",
        "                          fold_len_multiplier_min,\n",
        "                          approx_on_full_history_min,\n",
        "                          boost_from_average_min,\n",
        "                          diffusion_temperature_min,\n",
        "                          posterior_sampling_min,\n",
        "                          allow_const_label_min,\n",
        "                          penalties_coefficient_min,\n",
        "                          model_shrink_rate_min]),\n",
        "                         xu=np.array([iterations_max,\n",
        "                            learning_rate_max,\n",
        "                            l2_leaf_reg_max,\n",
        "                            bagging_temperature_max,\n",
        "                            subsample_max,\n",
        "                            mvs_reg_max,\n",
        "                            random_strength_max,\n",
        "                            use_best_model_max,\n",
        "                            best_model_min_trees_max,\n",
        "                            depth_max,\n",
        "                            min_data_in_leaf_max,\n",
        "                            max_leaves_max,\n",
        "                            one_hot_max_size_max,\n",
        "                            rsm_max,\n",
        "                            fold_permutation_block_max,\n",
        "                            leaf_estimation_iterations_max,\n",
        "                            fold_len_multiplier_max,\n",
        "                            approx_on_full_history_max,\n",
        "                            boost_from_average_max,\n",
        "                            diffusion_temperature_max,\n",
        "                            posterior_sampling_max,\n",
        "                            allow_const_label_max,\n",
        "                            penalties_coefficient_max,\n",
        "                            model_shrink_rate_max])\n",
        "                        )\n",
        "\n",
        "        def _evaluate(self, x, out, *args, **kwargs):\n",
        "                #num_leaves, min_child_samples, n_estimators, learning_rate, subsample_for_bin, min_split_gain, min_child_weight, reg_alpha, reg_lambda\n",
        "                \n",
        "                model_catboost = CatBoostClassifier(#num_leaves        = int(np.round(x[0])), \n",
        "                                        #extra_trees = bool(np.round(x[16])), #boolean\n",
        "                                                iterations = int(np.round(x[0])),\n",
        "                                        \n",
        "                                        learning_rate = x[1],\n",
        "                                        l2_leaf_reg = x[2],\n",
        "                                        bagging_temperature = x[3],\n",
        "                                        #subsample = x[4],\n",
        "                                        #mvs_reg = x[5],\n",
        "                                        random_strength = x[6],\n",
        "                                        #use_best_model = bool(np.round(x[7])),\n",
        "                                        best_model_min_trees = int(np.round(x[8])), \n",
        "                                        depth = int(np.round(x[9])), \n",
        "                                        min_data_in_leaf = int(np.round(x[10])), \n",
        "                                        max_leaves = int(np.round(x[11])), \n",
        "                                        one_hot_max_size = int(np.round(x[12])), \n",
        "                                        rsm = x[13],\n",
        "                                        fold_permutation_block = int(np.round(x[14])), \n",
        "                                        leaf_estimation_iterations = int(np.round(x[15])), \n",
        "                                        fold_len_multiplier = x[16],\n",
        "                                        approx_on_full_history = False, #bool(np.round(x[17])),\n",
        "                                        #boost_from_average = bool(np.round(x[18])),\n",
        "                                        #diffusion_temperature = x[19],\n",
        "                                        posterior_sampling = bool(np.round(x[20])),\n",
        "                                        allow_const_label = bool(np.round(x[21])),\n",
        "                                        penalties_coefficient = x[22],\n",
        "                                        model_shrink_rate = x[23],\n",
        "                                        loss_function='MultiClass',\n",
        "                                        grow_policy = 'Lossguide',\n",
        "                                        thread_count = -1\n",
        "                                        )\n",
        "                \n",
        "                kfold = KFold(n_splits = 3, shuffle = True)\n",
        "\n",
        "                scores = cross_val_score(model_catboost, x_wine, y_wine, cv = kfold, scoring='f1_weighted', n_jobs=-1)  \n",
        "                \n",
        "                result = scores.mean()\n",
        "                out['F'] = -1 * result\n",
        "\n",
        "problemF1 = OptimizeWithF1()"
      ]
    },
    {
      "cell_type": "code",
      "execution_count": 4,
      "metadata": {},
      "outputs": [
        {
          "name": "stdout",
          "output_type": "stream",
          "text": [
            "' 0.8032152651430408 '\n"
          ]
        }
      ],
      "source": [
        "catboost_mean = []\n",
        "for i in range(30):\n",
        "    model_catboost = CatBoostClassifier(\n",
        "                            thread_count = -1\n",
        "                            )\n",
        "    \n",
        "\n",
        "    kfold = KFold(n_splits = 3, shuffle = True)\n",
        "\n",
        "    scores = cross_val_score(model_catboost, x_wine, y_wine, cv = kfold, scoring='f1_weighted', n_jobs=-1)  \n",
        "\n",
        "    result = scores.mean()\n",
        "    \n",
        "    catboost_mean.append(result)\n",
        "    \n",
        "catboost_mean# Convert the Python array to a numpy array\n",
        "numpy_array = np.array(catboost_mean)\n",
        "\n",
        "# Calculate the average value using numpy.mean()\n",
        "average_value = np.mean(numpy_array)\n",
        "\n",
        "print(\"'\", average_value, \"'\")"
      ]
    },
    {
      "cell_type": "code",
      "execution_count": 10,
      "metadata": {},
      "outputs": [],
      "source": [
        "class OptimizeWithAUC(ElementwiseProblem):\n",
        "    def __init__(self):\n",
        "        super().__init__(n_var= DIMENSIONS,\n",
        "                         n_obj=1,\n",
        "                         n_constr=25,\n",
        "                         xl=np.array([iterations_min,\n",
        "                          learning_rate_min,\n",
        "                          l2_leaf_reg_min,\n",
        "                          bagging_temperature_min,\n",
        "                          subsample_min,\n",
        "                          mvs_reg_min,\n",
        "                          random_strength_min,\n",
        "                          use_best_model_min,\n",
        "                          best_model_min_trees_min,\n",
        "                          depth_min,\n",
        "                          min_data_in_leaf_min,\n",
        "                          max_leaves_min,\n",
        "                          one_hot_max_size_min,\n",
        "                          rsm_min,\n",
        "                          fold_permutation_block_min,\n",
        "                          leaf_estimation_iterations_min,\n",
        "                          fold_len_multiplier_min,\n",
        "                          approx_on_full_history_min,\n",
        "                          boost_from_average_min,\n",
        "                          diffusion_temperature_min,\n",
        "                          posterior_sampling_min,\n",
        "                          allow_const_label_min,\n",
        "                          penalties_coefficient_min,\n",
        "                          model_shrink_rate_min]),\n",
        "                         xu=np.array([iterations_max,\n",
        "                            learning_rate_max,\n",
        "                            l2_leaf_reg_max,\n",
        "                            bagging_temperature_max,\n",
        "                            subsample_max,\n",
        "                            mvs_reg_max,\n",
        "                            random_strength_max,\n",
        "                            use_best_model_max,\n",
        "                            best_model_min_trees_max,\n",
        "                            depth_max,\n",
        "                            min_data_in_leaf_max,\n",
        "                            max_leaves_max,\n",
        "                            one_hot_max_size_max,\n",
        "                            rsm_max,\n",
        "                            fold_permutation_block_max,\n",
        "                            leaf_estimation_iterations_max,\n",
        "                            fold_len_multiplier_max,\n",
        "                            approx_on_full_history_max,\n",
        "                            boost_from_average_max,\n",
        "                            diffusion_temperature_max,\n",
        "                            posterior_sampling_max,\n",
        "                            allow_const_label_max,\n",
        "                            penalties_coefficient_max,\n",
        "                            model_shrink_rate_max])\n",
        "                        )\n",
        "\n",
        "    def _evaluate(self, x, out, *args, **kwargs):\n",
        "        #num_leaves, min_child_samples, n_estimators, learning_rate, subsample_for_bin, min_split_gain, min_child_weight, reg_alpha, reg_lambda\n",
        "        \n",
        "        model_catboost = CatBoostClassifier(#num_leaves        = int(np.round(x[0])), \n",
        "                                       #extra_trees = bool(np.round(x[16])), #boolean\n",
        "                                        iterations = int(np.round(x[0])),\n",
        "                                        \n",
        "                                        learning_rate = x[1],\n",
        "                                        l2_leaf_reg = x[2],\n",
        "                                        bagging_temperature = x[3],\n",
        "                                        #subsample = x[4],\n",
        "                                        #mvs_reg = x[5],\n",
        "                                        random_strength = x[6],\n",
        "                                        #use_best_model = bool(np.round(x[7])),\n",
        "                                        best_model_min_trees = int(np.round(x[8])), \n",
        "                                        depth = int(np.round(x[9])), \n",
        "                                        min_data_in_leaf = int(np.round(x[10])), \n",
        "                                        max_leaves = int(np.round(x[11])), \n",
        "                                        one_hot_max_size = int(np.round(x[12])), \n",
        "                                        rsm = x[13],\n",
        "                                        fold_permutation_block = int(np.round(x[14])), \n",
        "                                        leaf_estimation_iterations = int(np.round(x[15])), \n",
        "                                        fold_len_multiplier = x[16],\n",
        "                                        approx_on_full_history = False, #bool(np.round(x[17])),\n",
        "                                        #boost_from_average = bool(np.round(x[18])),\n",
        "                                        #diffusion_temperature = x[19],\n",
        "                                        posterior_sampling = bool(np.round(x[20])),\n",
        "                                        allow_const_label = bool(np.round(x[21])),\n",
        "                                        penalties_coefficient = x[22],\n",
        "                                        model_shrink_rate = x[23],\n",
        "                                        loss_function='MultiClass',\n",
        "                                        grow_policy = 'Lossguide',\n",
        "                                        thread_count = -1\n",
        "                                       )\n",
        "        \n",
        "        kfold = KFold(n_splits = 3, shuffle = True)\n",
        "   \n",
        "        scores = cross_val_score(model_catboost, x_wine, y_wine, cv = kfold, scoring='roc_auc_ovr_weighted', n_jobs=-1)  \n",
        "        \n",
        "        result = scores.mean()\n",
        "\n",
        "        out['F'] = -1 * result\n",
        "\n",
        "problemAUC = OptimizeWithAUC()"
      ]
    },
    {
      "cell_type": "code",
      "execution_count": 11,
      "metadata": {},
      "outputs": [
        {
          "ename": "ModuleNotFoundError",
          "evalue": "No module named 'pymoo.util.display.column'; 'pymoo.util.display' is not a package",
          "output_type": "error",
          "traceback": [
            "\u001b[1;31m---------------------------------------------------------------------------\u001b[0m",
            "\u001b[1;31mModuleNotFoundError\u001b[0m                       Traceback (most recent call last)",
            "\u001b[1;32m~\\AppData\\Local\\Temp\\ipykernel_22012\\1781235688.py\u001b[0m in \u001b[0;36m<module>\u001b[1;34m\u001b[0m\n\u001b[1;32m----> 1\u001b[1;33m \u001b[1;32mfrom\u001b[0m \u001b[0mpymoo\u001b[0m\u001b[1;33m.\u001b[0m\u001b[0mutil\u001b[0m\u001b[1;33m.\u001b[0m\u001b[0mdisplay\u001b[0m\u001b[1;33m.\u001b[0m\u001b[0mcolumn\u001b[0m \u001b[1;32mimport\u001b[0m \u001b[0mColumn\u001b[0m\u001b[1;33m\u001b[0m\u001b[1;33m\u001b[0m\u001b[0m\n\u001b[0m\u001b[0;32m      2\u001b[0m \u001b[1;32mfrom\u001b[0m \u001b[0mpymoo\u001b[0m\u001b[1;33m.\u001b[0m\u001b[0mutil\u001b[0m\u001b[1;33m.\u001b[0m\u001b[0mdisplay\u001b[0m\u001b[1;33m.\u001b[0m\u001b[0moutput\u001b[0m \u001b[1;32mimport\u001b[0m \u001b[0mOutput\u001b[0m\u001b[1;33m\u001b[0m\u001b[1;33m\u001b[0m\u001b[0m\n",
            "\u001b[1;31mModuleNotFoundError\u001b[0m: No module named 'pymoo.util.display.column'; 'pymoo.util.display' is not a package"
          ]
        }
      ],
      "source": [
        "from pymoo.util.display.column import Column\n",
        "from pymoo.util.display.output import Output"
      ]
    },
    {
      "cell_type": "code",
      "execution_count": null,
      "metadata": {},
      "outputs": [],
      "source": [
        "class MyOutput(Output):\n",
        "\n",
        "    def __init__(self):\n",
        "        super().__init__()\n",
        "        global pbar \n",
        "        pbar = tqdm(total=ITERATIONS)\n",
        "        self.score = Column(\"score\", width=13)\n",
        "        self.Parameters = Column(\"Parameters\", width=35)\n",
        "        self.columns += [self.score, self.Parameters]\n",
        "\n",
        "    def update(self, algorithm):\n",
        "        super().update(algorithm)\n",
        "        self.score.set(-np.min(algorithm.pop.get(\"F\")))\n",
        "        #self.Parameters.set(algorithm.pop.get(\"X\")[0])\n",
        "        pbar.update(1)\n",
        "        if pbar.n == ITERATIONS: pbar.close()"
      ]
    },
    {
      "attachments": {},
      "cell_type": "markdown",
      "metadata": {
        "id": "_HsPc7BH-MWL"
      },
      "source": [
        "## Particle Swarm Optimization (PSO)"
      ]
    },
    {
      "attachments": {},
      "cell_type": "markdown",
      "metadata": {},
      "source": [
        "### Acurácia"
      ]
    },
    {
      "cell_type": "code",
      "execution_count": null,
      "metadata": {},
      "outputs": [
        {
          "name": "stdout",
          "output_type": "stream",
          "text": [
            "Collecting pyswarms\n",
            "  Using cached pyswarms-1.3.0-py2.py3-none-any.whl (104 kB)\n",
            "Requirement already satisfied: matplotlib>=1.3.1 in c:\\users\\felps\\anaconda3\\envs\\myenv\\lib\\site-packages (from pyswarms) (3.5.3)\n",
            "Collecting pyyaml\n",
            "  Downloading PyYAML-6.0-cp37-cp37m-win_amd64.whl (153 kB)\n",
            "     ------------------------------------- 153.2/153.2 kB 3.0 MB/s eta 0:00:00\n",
            "Requirement already satisfied: numpy in c:\\users\\felps\\anaconda3\\envs\\myenv\\lib\\site-packages (from pyswarms) (1.21.6)\n",
            "Requirement already satisfied: tqdm in c:\\users\\felps\\anaconda3\\envs\\myenv\\lib\\site-packages (from pyswarms) (4.65.0)\n",
            "Collecting attrs\n",
            "  Using cached attrs-22.2.0-py3-none-any.whl (60 kB)\n",
            "Requirement already satisfied: scipy in c:\\users\\felps\\anaconda3\\envs\\myenv\\lib\\site-packages (from pyswarms) (1.7.3)\n",
            "Requirement already satisfied: future in c:\\users\\felps\\anaconda3\\envs\\myenv\\lib\\site-packages (from pyswarms) (0.18.3)\n",
            "Requirement already satisfied: pyparsing>=2.2.1 in c:\\users\\felps\\anaconda3\\envs\\myenv\\lib\\site-packages (from matplotlib>=1.3.1->pyswarms) (3.0.9)\n",
            "Requirement already satisfied: pillow>=6.2.0 in c:\\users\\felps\\anaconda3\\envs\\myenv\\lib\\site-packages (from matplotlib>=1.3.1->pyswarms) (9.5.0)\n",
            "Requirement already satisfied: python-dateutil>=2.7 in c:\\users\\felps\\anaconda3\\envs\\myenv\\lib\\site-packages (from matplotlib>=1.3.1->pyswarms) (2.8.2)\n",
            "Requirement already satisfied: packaging>=20.0 in c:\\users\\felps\\anaconda3\\envs\\myenv\\lib\\site-packages (from matplotlib>=1.3.1->pyswarms) (23.0)\n",
            "Requirement already satisfied: kiwisolver>=1.0.1 in c:\\users\\felps\\anaconda3\\envs\\myenv\\lib\\site-packages (from matplotlib>=1.3.1->pyswarms) (1.4.4)\n",
            "Requirement already satisfied: cycler>=0.10 in c:\\users\\felps\\anaconda3\\envs\\myenv\\lib\\site-packages (from matplotlib>=1.3.1->pyswarms) (0.11.0)\n",
            "Requirement already satisfied: fonttools>=4.22.0 in c:\\users\\felps\\anaconda3\\envs\\myenv\\lib\\site-packages (from matplotlib>=1.3.1->pyswarms) (4.38.0)\n",
            "Requirement already satisfied: colorama in c:\\users\\felps\\anaconda3\\envs\\myenv\\lib\\site-packages (from tqdm->pyswarms) (0.4.6)\n",
            "Requirement already satisfied: typing-extensions in c:\\users\\felps\\anaconda3\\envs\\myenv\\lib\\site-packages (from kiwisolver>=1.0.1->matplotlib>=1.3.1->pyswarms) (4.5.0)\n",
            "Requirement already satisfied: six>=1.5 in c:\\users\\felps\\anaconda3\\envs\\myenv\\lib\\site-packages (from python-dateutil>=2.7->matplotlib>=1.3.1->pyswarms) (1.16.0)\n",
            "Installing collected packages: pyyaml, attrs, pyswarms\n",
            "Successfully installed attrs-22.2.0 pyswarms-1.3.0 pyyaml-6.0\n"
          ]
        }
      ],
      "source": [
        "!pip install pyswarms"
      ]
    },
    {
      "cell_type": "code",
      "execution_count": 12,
      "metadata": {},
      "outputs": [],
      "source": [
        "iterations_min = 20  #n_estimators n_estimators #INT\n",
        "learning_rate_min = 0.001  #FLOAT\n",
        "l2_leaf_reg_min = 0.01  #FLOAT reg_lambda\n",
        "bagging_temperature_min = 0.001  # float\n",
        "subsample_min = 1.0   #float \n",
        "mvs_reg_min = 0.001  #float 0 - inf\n",
        "random_strength_min = 0.001  #float 1.0 \n",
        "use_best_model_min = False  #bool true false\n",
        "best_model_min_trees_min = 1  #int \n",
        "depth_min = 1  #max_depth 8 int\n",
        "min_data_in_leaf_min = 1  #min_child_samples int\n",
        "max_leaves_min = 1  #num_leaves int \n",
        "one_hot_max_size_min = 1  #int \n",
        "rsm_min = 0.001  #colsample_bylevel float (0;1]\n",
        "fold_permutation_block_min = 1  #int \n",
        "leaf_estimation_iterations_min = 1  #int\n",
        "fold_len_multiplier_min = 2.0  #float\n",
        "approx_on_full_history_min = False  #bool \n",
        "boost_from_average_min = False  #bool \n",
        "diffusion_temperature_min = 1000  #float 10000\n",
        "posterior_sampling_min = False  #bool\n",
        "allow_const_label_min = False  #bool\n",
        "penalties_coefficient_min = 1.0  #float\n",
        "model_shrink_rate_min = 0.001  #float\n",
        "\n",
        "iterations_max = 100  #n_estimators n_estimators #INT\n",
        "learning_rate_max = 0.5  #FLOAT\n",
        "l2_leaf_reg_max = 0.01  #FLOAT reg_lambda\n",
        "bagging_temperature_max = 10000.0  # float\n",
        "subsample_max = 2.0  #float \n",
        "mvs_reg_max = 1000.0  #float 0 - inf\n",
        "random_strength_max = 10.0  #float 1.0 \n",
        "use_best_model_max = True  #bool true false\n",
        "best_model_min_trees_max = 10  #int \n",
        "depth_max = 8  #max_depth 8 int \n",
        "min_data_in_leaf_max = 100  #min_child_samples int\n",
        "max_leaves_max = 10  #num_leaves int \n",
        "one_hot_max_size_max = 20  #int \n",
        "rsm_max = 1.0   #colsample_bylevel float (0;1]\n",
        "fold_permutation_block_max = 100  #int \n",
        "leaf_estimation_iterations_max = 100  #int\n",
        "fold_len_multiplier_max = 10.0  #float\n",
        "approx_on_full_history_max = True  #bool \n",
        "boost_from_average_max = True  #bool \n",
        "diffusion_temperature_max = 50000  #float 10000\n",
        "posterior_sampling_max = True  #bool\n",
        "allow_const_label_max = True  #bool\n",
        "penalties_coefficient_max = 10.0  #float\n",
        "model_shrink_rate_max = 1.0  #float\n",
        "\n",
        "grow_policy = 'Lossguide'"
      ]
    },
    {
      "cell_type": "code",
      "execution_count": 13,
      "metadata": {},
      "outputs": [],
      "source": [
        "import pyswarms as ps\n",
        "from pyswarms.utils.functions import single_obj as fx\n",
        "import numpy as np"
      ]
    },
    {
      "cell_type": "code",
      "execution_count": 14,
      "metadata": {},
      "outputs": [],
      "source": [
        "xl=np.array([iterations_min,\n",
        "            learning_rate_min,\n",
        "            l2_leaf_reg_min,\n",
        "            bagging_temperature_min,\n",
        "            random_strength_min,\n",
        "            best_model_min_trees_min,\n",
        "            depth_min,\n",
        "            min_data_in_leaf_min,\n",
        "            max_leaves_min,\n",
        "            one_hot_max_size_min,\n",
        "            rsm_min,\n",
        "            fold_permutation_block_min,\n",
        "            leaf_estimation_iterations_min,\n",
        "            fold_len_multiplier_min,\n",
        "            penalties_coefficient_min,\n",
        "            model_shrink_rate_min])\n",
        "xu=np.array([iterations_max,\n",
        "            learning_rate_max,\n",
        "            l2_leaf_reg_max,\n",
        "            bagging_temperature_max,\n",
        "            random_strength_max,\n",
        "            best_model_min_trees_max,\n",
        "            depth_max,\n",
        "            min_data_in_leaf_max,\n",
        "            max_leaves_max,\n",
        "            one_hot_max_size_max,\n",
        "            rsm_max,\n",
        "            fold_permutation_block_max,\n",
        "            leaf_estimation_iterations_max,\n",
        "            fold_len_multiplier_max,\n",
        "            penalties_coefficient_max,\n",
        "            model_shrink_rate_max])"
      ]
    },
    {
      "cell_type": "code",
      "execution_count": 15,
      "metadata": {},
      "outputs": [],
      "source": [
        "def PSO_Optimize_Accuracy(values):\n",
        "    x = values[0] \n",
        "    model_catboost = CatBoostClassifier(\n",
        "                                    iterations = int(np.round(x[0])),\n",
        "                                    learning_rate = x[1],\n",
        "                                    l2_leaf_reg = x[2],\n",
        "                                    bagging_temperature = x[3],\n",
        "                                    random_strength = x[4],\n",
        "                                    best_model_min_trees = int(np.round(x[5])), \n",
        "                                    depth = int(np.round(x[6])), \n",
        "                                    min_data_in_leaf = int(np.round(x[7])), \n",
        "                                    max_leaves = int(np.round(x[8])), \n",
        "                                    one_hot_max_size = int(np.round(x[9])), \n",
        "                                    rsm = x[10],\n",
        "                                    fold_permutation_block = int(np.round(x[11])), \n",
        "                                    leaf_estimation_iterations = int(np.round(x[12])), \n",
        "                                    fold_len_multiplier = x[13],\n",
        "                                    approx_on_full_history = False,\n",
        "                                    penalties_coefficient = x[14],\n",
        "                                    model_shrink_rate = x[15],\n",
        "                                    loss_function='MultiClass',\n",
        "                                    grow_policy = 'Lossguide',\n",
        "                                    thread_count = -1\n",
        "                                    )\n",
        "    \n",
        "    kfold = KFold(n_splits = 10, shuffle = True)\n",
        "    \n",
        "    scores = cross_val_score(model_catboost, x_wine, y_wine, cv = kfold, n_jobs=-1)  \n",
        "    result = scores.mean()     \n",
        "\n",
        "    return -result"
      ]
    },
    {
      "cell_type": "code",
      "execution_count": 16,
      "metadata": {},
      "outputs": [],
      "source": [
        "def PSO_Optimize_F1(values):\n",
        "    x = values[0] \n",
        "    model_catboost = CatBoostClassifier(\n",
        "                                    iterations = int(np.round(x[0])),\n",
        "                                    learning_rate = x[1],\n",
        "                                    l2_leaf_reg = x[2],\n",
        "                                    bagging_temperature = x[3],\n",
        "                                    random_strength = x[4],\n",
        "                                    best_model_min_trees = int(np.round(x[5])), \n",
        "                                    depth = int(np.round(x[6])), \n",
        "                                    min_data_in_leaf = int(np.round(x[7])), \n",
        "                                    max_leaves = int(np.round(x[8])), \n",
        "                                    one_hot_max_size = int(np.round(x[9])), \n",
        "                                    rsm = x[10],\n",
        "                                    fold_permutation_block = int(np.round(x[11])), \n",
        "                                    leaf_estimation_iterations = int(np.round(x[12])), \n",
        "                                    fold_len_multiplier = x[13],\n",
        "                                    approx_on_full_history = False,\n",
        "                                    penalties_coefficient = x[14],\n",
        "                                    model_shrink_rate = x[15],\n",
        "                                    loss_function='MultiClass',\n",
        "                                    grow_policy = 'Lossguide',\n",
        "                                    thread_count = -1\n",
        "                                    )\n",
        "    \n",
        "    kfold = KFold(n_splits = 10, shuffle = True)\n",
        "    \n",
        "    scores = cross_val_score(model_catboost, x_wine, y_wine, cv = kfold, n_jobs=-1, scoring='f1_weighted')  \n",
        "    result = scores.mean()     \n",
        "\n",
        "    return -result"
      ]
    },
    {
      "cell_type": "code",
      "execution_count": 17,
      "metadata": {},
      "outputs": [],
      "source": [
        "def PSO_Optimize_AUC(values):\n",
        "    x = values[0] \n",
        "    model_catboost = CatBoostClassifier(\n",
        "                                    iterations = int(np.round(x[0])),\n",
        "                                    learning_rate = x[1],\n",
        "                                    l2_leaf_reg = x[2],\n",
        "                                    bagging_temperature = x[3],\n",
        "                                    random_strength = x[4],\n",
        "                                    best_model_min_trees = int(np.round(x[5])), \n",
        "                                    depth = int(np.round(x[6])), \n",
        "                                    min_data_in_leaf = int(np.round(x[7])), \n",
        "                                    max_leaves = int(np.round(x[8])), \n",
        "                                    one_hot_max_size = int(np.round(x[9])), \n",
        "                                    rsm = x[10],\n",
        "                                    fold_permutation_block = int(np.round(x[11])), \n",
        "                                    leaf_estimation_iterations = int(np.round(x[12])), \n",
        "                                    fold_len_multiplier = x[13],\n",
        "                                    approx_on_full_history = False,\n",
        "                                    penalties_coefficient = x[14],\n",
        "                                    model_shrink_rate = x[15],\n",
        "                                    loss_function='MultiClass',\n",
        "                                    grow_policy = 'Lossguide',\n",
        "                                    thread_count = -1\n",
        "                                    )\n",
        "    \n",
        "    kfold = KFold(n_splits = 10, shuffle = True)\n",
        "    \n",
        "    scores = cross_val_score(model_catboost, x_wine, y_wine, cv = kfold, n_jobs=-1, scoring='roc_auc_ovr_weighted')  \n",
        "    result = scores.mean()     \n",
        "\n",
        "    return -result"
      ]
    },
    {
      "cell_type": "code",
      "execution_count": 18,
      "metadata": {},
      "outputs": [],
      "source": [
        "def run_accuracy_pso():\n",
        "    # Call an instance of PSO\n",
        "    swarm_size = 32\n",
        "    iters = 32\n",
        "    dim = 16\n",
        "    options = {'c1': 1.5, 'c2':1.5, 'w':0.5}\n",
        "    constraints = (xl,xu)\n",
        "\n",
        "    optimizer = ps.single.GlobalBestPSO(n_particles=swarm_size,\n",
        "                                        dimensions=dim,\n",
        "                                        options=options,\n",
        "                                        bounds=constraints)\n",
        "    cost, joint_vars = optimizer.optimize(objective_func = PSO_Optimize_Accuracy, iters=iters)\n",
        "    return -cost"
      ]
    },
    {
      "cell_type": "code",
      "execution_count": 19,
      "metadata": {},
      "outputs": [],
      "source": [
        "def run_f1_pso():\n",
        "    # Call an instance of PSO\n",
        "    swarm_size = 32\n",
        "    iters = 32\n",
        "    dim = 16\n",
        "    options = {'c1': 1.5, 'c2':1.5, 'w':0.5}\n",
        "    constraints = (xl,xu)\n",
        "\n",
        "    optimizer = ps.single.GlobalBestPSO(n_particles=swarm_size,\n",
        "                                        dimensions=dim,\n",
        "                                        options=options,\n",
        "                                        bounds=constraints)\n",
        "    cost, joint_vars = optimizer.optimize(objective_func = PSO_Optimize_F1, iters=iters)\n",
        "    return -cost"
      ]
    },
    {
      "cell_type": "code",
      "execution_count": 41,
      "metadata": {},
      "outputs": [],
      "source": [
        "def run_auc_pso():\n",
        "    # Call an instance of PSO\n",
        "    swarm_size = 32\n",
        "    iters = 32\n",
        "    dim = 16\n",
        "    options = {'c1': 1.5, 'c2':1.5, 'w':0.5}\n",
        "    constraints = (xl,xu)\n",
        "\n",
        "    optimizer = ps.single.GlobalBestPSO(n_particles=swarm_size,\n",
        "                                        dimensions=dim,\n",
        "                                        options=options,\n",
        "                                        bounds=constraints)\n",
        "    cost, joint_vars = optimizer.optimize(objective_func = PSO_Optimize_AUC, iters=iters)\n",
        "    return -cost"
      ]
    },
    {
      "cell_type": "code",
      "execution_count": 42,
      "metadata": {},
      "outputs": [
        {
          "name": "stderr",
          "output_type": "stream",
          "text": [
            "2023-04-12 09:22:54,523 - pyswarms.single.global_best - INFO - Optimize for 32 iters with {'c1': 1.5, 'c2': 1.5, 'w': 0.5}\n",
            "pyswarms.single.global_best: 100%|██████████|32/32, best_cost=-.5\n",
            "2023-04-12 09:22:56,026 - pyswarms.single.global_best - INFO - Optimization finished | best cost: -0.5, best pos: [6.70290822e+01 4.85945507e-01 1.00000000e-02 9.73487380e+03\n",
            " 6.03836892e+00 1.48478602e+00 5.77166283e+00 5.33639373e+01\n",
            " 4.86181806e+00 1.85843742e+01 5.62297576e-01 8.04253931e+01\n",
            " 5.92097157e+01 8.48196714e+00 5.75257358e+00 2.31922273e-01]\n"
          ]
        },
        {
          "data": {
            "text/plain": [
              "0.5"
            ]
          },
          "execution_count": 42,
          "metadata": {},
          "output_type": "execute_result"
        }
      ],
      "source": [
        "run_auc_pso()"
      ]
    },
    {
      "cell_type": "code",
      "execution_count": 21,
      "metadata": {},
      "outputs": [
        {
          "name": "stderr",
          "output_type": "stream",
          "text": [
            "2023-04-12 09:16:44,692 - pyswarms.single.global_best - INFO - Optimize for 32 iters with {'c1': 1.5, 'c2': 1.5, 'w': 0.5}\n",
            "pyswarms.single.global_best:   0%|          |0/32, best_cost=-.23c:\\Users\\Felps\\anaconda3\\envs\\myenv\\lib\\site-packages\\pyswarms\\backend\\handlers.py:389: RuntimeWarning: invalid value encountered in remainder\n",
            "  bound_d[greater_than_bound],\n",
            "pyswarms.single.global_best:   3%|▎         |1/32, best_cost=-.23c:\\Users\\Felps\\anaconda3\\envs\\myenv\\lib\\site-packages\\sklearn\\model_selection\\_validation.py:372: FitFailedWarning: \n",
            "10 fits failed out of a total of 10.\n",
            "The score on these train-test partitions for these parameters will be set to nan.\n",
            "If these failures are not expected, you can try to debug them by setting error_score='raise'.\n",
            "\n",
            "Below are more details about the failures:\n",
            "--------------------------------------------------------------------------------\n",
            "10 fits failed with the following error:\n",
            "Traceback (most recent call last):\n",
            "  File \"c:\\Users\\Felps\\anaconda3\\envs\\myenv\\lib\\site-packages\\sklearn\\model_selection\\_validation.py\", line 680, in _fit_and_score\n",
            "    estimator.fit(X_train, y_train, **fit_params)\n",
            "  File \"c:\\Users\\Felps\\anaconda3\\envs\\myenv\\lib\\site-packages\\catboost\\core.py\", line 5130, in fit\n",
            "    silent, early_stopping_rounds, save_snapshot, snapshot_file, snapshot_interval, init_model, callbacks, log_cout, log_cerr)\n",
            "  File \"c:\\Users\\Felps\\anaconda3\\envs\\myenv\\lib\\site-packages\\catboost\\core.py\", line 2347, in _fit\n",
            "    callbacks=callbacks\n",
            "  File \"c:\\Users\\Felps\\anaconda3\\envs\\myenv\\lib\\site-packages\\catboost\\core.py\", line 2266, in _prepare_train_params\n",
            "    _check_train_params(params)\n",
            "  File \"_catboost.pyx\", line 6080, in _catboost._check_train_params\n",
            "  File \"_catboost.pyx\", line 6099, in _catboost._check_train_params\n",
            "_catboost.CatBoostError: C:/Program Files (x86)/Go Agent/pipelines/BuildMaster/catboost.git/catboost/private/libs/options/json_helper.h:173: Can't parse parameter \"l2_leaf_reg\" with value: null\n",
            "\n",
            "  warnings.warn(some_fits_failed_message, FitFailedWarning)\n",
            "pyswarms.single.global_best: 100%|██████████|32/32, best_cost=-.23\n",
            "2023-04-12 09:16:48,917 - pyswarms.single.global_best - INFO - Optimization finished | best cost: -0.229763852530541, best pos: [6.00451685e+01 1.04056391e-01 1.00000000e-02 4.11462219e+03\n",
            " 4.65679730e+00 1.99752971e+00 6.77673387e+00 4.99422717e+01\n",
            " 7.62920735e+00 7.73417082e+00 9.60309080e-01 7.76840978e+01\n",
            " 3.41954303e+01 2.93952645e+00 3.26164755e+00 8.84255643e-01]\n"
          ]
        },
        {
          "data": {
            "text/plain": [
              "0.229763852530541"
            ]
          },
          "execution_count": 21,
          "metadata": {},
          "output_type": "execute_result"
        }
      ],
      "source": [
        "run_accuracy_pso()"
      ]
    },
    {
      "cell_type": "code",
      "execution_count": 22,
      "metadata": {},
      "outputs": [
        {
          "name": "stderr",
          "output_type": "stream",
          "text": [
            "2023-04-12 09:16:48,955 - pyswarms.single.global_best - INFO - Optimize for 32 iters with {'c1': 1.5, 'c2': 1.5, 'w': 0.5}\n",
            "pyswarms.single.global_best: 100%|██████████|32/32, best_cost=-.0774\n",
            "2023-04-12 09:16:50,521 - pyswarms.single.global_best - INFO - Optimization finished | best cost: -0.07741182812968435, best pos: [7.51451754e+01 3.23467273e-01 1.00000000e-02 6.90828856e+03\n",
            " 1.74789185e+00 6.53079443e+00 7.38804505e+00 4.98978236e+01\n",
            " 8.82431928e+00 1.83595069e+01 5.36833546e-01 8.97713578e+01\n",
            " 5.58284950e+01 2.60684269e+00 5.10159485e+00 9.65166269e-01]\n"
          ]
        },
        {
          "data": {
            "text/plain": [
              "0.07741182812968435"
            ]
          },
          "execution_count": 22,
          "metadata": {},
          "output_type": "execute_result"
        }
      ],
      "source": [
        "run_f1_pso()"
      ]
    },
    {
      "cell_type": "code",
      "execution_count": 23,
      "metadata": {},
      "outputs": [
        {
          "name": "stderr",
          "output_type": "stream",
          "text": [
            "2023-04-12 09:16:50,557 - pyswarms.single.global_best - INFO - Optimize for 32 iters with {'c1': 1.5, 'c2': 1.5, 'w': 0.5}\n",
            "pyswarms.single.global_best: 100%|██████████|32/32, best_cost=-.5\n",
            "2023-04-12 09:16:52,383 - pyswarms.single.global_best - INFO - Optimization finished | best cost: -0.5, best pos: [8.07619132e+01 2.80103944e-01 1.00000000e-02 2.04303051e+03\n",
            " 9.11949502e+00 6.11838358e+00 6.73040959e+00 5.90160828e+01\n",
            " 6.93778455e+00 1.50669979e+01 9.81838077e-01 7.30447042e+01\n",
            " 7.50117898e+01 9.93757430e+00 8.42308280e+00 5.75819724e-01]\n"
          ]
        },
        {
          "data": {
            "text/plain": [
              "0.5"
            ]
          },
          "execution_count": 23,
          "metadata": {},
          "output_type": "execute_result"
        }
      ],
      "source": [
        "run_auc_pso()"
      ]
    },
    {
      "cell_type": "code",
      "execution_count": 24,
      "metadata": {
        "id": "J275mWjGbVJo"
      },
      "outputs": [],
      "source": [
        "ITERATIONS = 32\n",
        "POPULATION = 32"
      ]
    },
    {
      "cell_type": "code",
      "execution_count": 25,
      "metadata": {
        "colab": {
          "base_uri": "https://localhost:8080/",
          "height": 848,
          "referenced_widgets": [
            "b504307a10f54034ad07715278fa1dbc",
            "20a38960e7374ab594f04f4b1c5e2321",
            "7c3472a6094a4249a082f8dc630e5258",
            "ae818704a52542d696c8eb0c1c182a81",
            "992dda0d38b145b88946b67edc62ab57",
            "6f29547455ac4adb8edaa11d5839f5cb",
            "1a32143976c744e5a388d7b343e7c054",
            "1614757884124ed487149ebed485833f",
            "6f124da663194ac0b073ab7a3fb168c3",
            "76b3046c318d4fbcb66b198b50cd91e7",
            "124e5b4b5b3344f4abdc93628b112d8f"
          ]
        },
        "id": "Ub3CpvtimILV",
        "outputId": "b5231789-c65e-4089-99c9-9fcc0b99f5ca"
      },
      "outputs": [],
      "source": [
        "def run_accuracy_pso_old(ITERATIONS = 32, POPULATION = 32):\n",
        "    algorithm = PSO(#pop_size=POPULATION, \n",
        "                    #w=0.3, c1=4.0, c2=1.0, \n",
        "                    #adaptive=False, initial_velocity='random', \n",
        "                    #max_velocity_rate=0.75, pertube_best=False,\n",
        "                    max_velocity_rate=0.25,\n",
        "                    pop_size=POPULATION)\n",
        "    term = get_termination(\"n_gen\", ITERATIONS)\n",
        "\n",
        "    res = minimize(problemAccuracy,\n",
        "                algorithm,\n",
        "                #seed=SEED,\n",
        "                save_history=False,\n",
        "                verbose=False,\n",
        "                output=MyOutput(),\n",
        "                termination = term)\n",
        "\n",
        "\n",
        "    index_best_individual = np.where(res.pop.get('F') == np.min(res.pop.get('F')))[0][0]\n",
        "    score_best_individual = res.pop.get('F')[index_best_individual]\n",
        "    parameters_best_individual = res.pop.get('X')[index_best_individual]\n",
        "\n",
        "    #print(f'Best Accuracy Score {-score_best_individual}')\n",
        "    #print(f'Model parameters: \\n {parameters_best_individual}')\n",
        "    return score_best_individual, parameters_best_individual, res"
      ]
    },
    {
      "cell_type": "code",
      "execution_count": 26,
      "metadata": {},
      "outputs": [
        {
          "ename": "TypeError",
          "evalue": "run_accuracy_pso() got an unexpected keyword argument 'ITERATIONS'",
          "output_type": "error",
          "traceback": [
            "\u001b[1;31m---------------------------------------------------------------------------\u001b[0m",
            "\u001b[1;31mTypeError\u001b[0m                                 Traceback (most recent call last)",
            "\u001b[1;32m~\\AppData\\Local\\Temp\\ipykernel_22012\\979489431.py\u001b[0m in \u001b[0;36m<module>\u001b[1;34m\u001b[0m\n\u001b[1;32m----> 1\u001b[1;33m \u001b[0mscore_best_individual\u001b[0m\u001b[1;33m,\u001b[0m \u001b[0mparameters_best_individual\u001b[0m\u001b[1;33m,\u001b[0m \u001b[0mres\u001b[0m \u001b[1;33m=\u001b[0m \u001b[0mrun_accuracy_pso\u001b[0m\u001b[1;33m(\u001b[0m\u001b[0mITERATIONS\u001b[0m \u001b[1;33m=\u001b[0m \u001b[1;36m1\u001b[0m\u001b[1;33m,\u001b[0m \u001b[0mPOPULATION\u001b[0m \u001b[1;33m=\u001b[0m \u001b[1;36m1\u001b[0m\u001b[1;33m)\u001b[0m\u001b[1;33m\u001b[0m\u001b[1;33m\u001b[0m\u001b[0m\n\u001b[0m",
            "\u001b[1;31mTypeError\u001b[0m: run_accuracy_pso() got an unexpected keyword argument 'ITERATIONS'"
          ]
        }
      ],
      "source": [
        "score_best_individual, parameters_best_individual, res = run_accuracy_pso(ITERATIONS = 1, POPULATION = 1)"
      ]
    },
    {
      "cell_type": "code",
      "execution_count": null,
      "metadata": {
        "colab": {
          "base_uri": "https://localhost:8080/"
        },
        "id": "-F1E38iDlQUl",
        "outputId": "d83fa2a1-f2c2-49a3-c8a9-ddc5b449b2bb"
      },
      "outputs": [],
      "source": [
        "#final_model = lgb.LGBMClassifier(num_leaves       = int(np.round(parameters_best_individual[0])), \n",
        "#                                min_child_samples = int(np.round(parameters_best_individual[1])), \n",
        "#                                n_estimators      = int(np.round(parameters_best_individual[2])),\n",
        "#                                learning_rate     = parameters_best_individual[3] ,\n",
        "#                                subsample_for_bin = int(np.round(parameters_best_individual[4])),\n",
        "#                                min_split_gain    = parameters_best_individual[5],\n",
        "#                                min_child_weight  = parameters_best_individual[6],\n",
        "#                                reg_alpha         = parameters_best_individual[7],\n",
        "#                                reg_lambda        = parameters_best_individual[8],\n",
        "#                                max_depth=- 1\n",
        "#                                )\n",
        "#\n",
        "#\n",
        "#kfold = KFold(n_splits = 3, shuffle = True)\n",
        "#\n",
        "#scores = cross_val_score(final_model, x_wine, y_wine, cv = kfold, n_jobs=-1)  \n",
        "#\n",
        "#result = scores.mean()\n",
        "###print(result)"
      ]
    },
    {
      "cell_type": "code",
      "execution_count": null,
      "metadata": {
        "id": "3tT-sQocbOnb"
      },
      "outputs": [],
      "source": [
        "#trlist = np.array([])\n",
        "#for i in range(len(res.history)):\n",
        "#  trlist = np.append(trlist, -res.history[i].pop.get('F').reshape(-1)) "
      ]
    },
    {
      "cell_type": "code",
      "execution_count": null,
      "metadata": {
        "id": "zJu3r3qI4crG"
      },
      "outputs": [],
      "source": [
        "#scorelist = []\n",
        "#\n",
        "#for i in range(len(trlist)):\n",
        "##for i in range(1):\n",
        "#  if i == 0:\n",
        "#    scorelist.append(trlist[i])\n",
        "#  elif trlist[i] > scorelist[i-1]:\n",
        "#    scorelist.append(trlist[i])\n",
        "#  else:\n",
        "#    scorelist.append(scorelist[i-1])"
      ]
    },
    {
      "cell_type": "code",
      "execution_count": null,
      "metadata": {
        "id": "kEcgjgreFrvp"
      },
      "outputs": [],
      "source": [
        "#Accuracy_PSO = scorelist"
      ]
    },
    {
      "cell_type": "code",
      "execution_count": null,
      "metadata": {
        "colab": {
          "base_uri": "https://localhost:8080/",
          "height": 351
        },
        "id": "qLYLRAg_51U5",
        "outputId": "fbd0c7ea-1543-4268-c387-0dd27f8a2a5e"
      },
      "outputs": [],
      "source": [
        "#plt.plot(Accuracy_PSO);"
      ]
    },
    {
      "cell_type": "code",
      "execution_count": null,
      "metadata": {
        "colab": {
          "base_uri": "https://localhost:8080/",
          "height": 364
        },
        "id": "Ie2LDl1g6Yni",
        "outputId": "bcc10420-9cd1-4808-9914-9f90097b8e46"
      },
      "outputs": [],
      "source": [
        "#tracking = [-np.min(individual.pop.get('F')) for individual in res.history ]\n",
        "#tracking_PSO_Accuracy = tracking\n",
        "#plt.plot(tracking)"
      ]
    },
    {
      "attachments": {},
      "cell_type": "markdown",
      "metadata": {},
      "source": [
        "### F1 Score "
      ]
    },
    {
      "cell_type": "code",
      "execution_count": null,
      "metadata": {},
      "outputs": [],
      "source": [
        "def run_f1_pso_old(ITERATIONS = 32, POPULATION = 32):\n",
        "    algorithm = PSO(#pop_size=POPULATION, \n",
        "                    #w=0.3, c1=4.0, c2=1.0, \n",
        "                    #adaptive=False, initial_velocity='random', \n",
        "                    #max_velocity_rate=0.75, pertube_best=False,\n",
        "                    max_velocity_rate=0.25,\n",
        "                    pop_size=POPULATION)\n",
        "    term = get_termination(\"n_gen\", ITERATIONS)\n",
        "\n",
        "    res = minimize(problemF1,\n",
        "                algorithm,\n",
        "                #seed=SEED,\n",
        "                save_history=False,\n",
        "                verbose=False,\n",
        "                output=MyOutput(),\n",
        "                termination = term)\n",
        "\n",
        "\n",
        "    index_best_individual = np.where(res.pop.get('F') == np.min(res.pop.get('F')))[0][0]\n",
        "    score_best_individual = res.pop.get('F')[index_best_individual]\n",
        "    parameters_best_individual = res.pop.get('X')[index_best_individual]\n",
        "\n",
        "    #print(f'Best F1 Score {-score_best_individual}')\n",
        "    #print(f'Model parameters: \\n {parameters_best_individual}')\n",
        "    return score_best_individual, parameters_best_individual, res"
      ]
    },
    {
      "cell_type": "code",
      "execution_count": null,
      "metadata": {},
      "outputs": [
        {
          "name": "stderr",
          "output_type": "stream",
          "text": [
            "C:\\Users\\Felps\\AppData\\Local\\Temp\\ipykernel_19812\\3496873573.py:8: DeprecationWarning: Call to deprecated function (or staticmethod) get_termination. (Please use `from pymoo.termination import get_termination`)\n",
            "  term = get_termination(\"n_gen\", ITERATIONS)\n"
          ]
        },
        {
          "data": {
            "application/vnd.jupyter.widget-view+json": {
              "model_id": "80ad4327354d410f9f61fa07cfbc21a5",
              "version_major": 2,
              "version_minor": 0
            },
            "text/plain": [
              "  0%|          | 0/32 [00:00<?, ?it/s]"
            ]
          },
          "metadata": {},
          "output_type": "display_data"
        }
      ],
      "source": [
        "score_best_individual, parameters_best_individual, res = run_f1_pso(ITERATIONS = 1, POPULATION = 1)"
      ]
    },
    {
      "cell_type": "code",
      "execution_count": null,
      "metadata": {},
      "outputs": [],
      "source": [
        "#trlist = np.array([])\n",
        "#for i in range(len(res.history)):\n",
        "#  trlist = np.append(trlist, -res.history[i].pop.get('F').reshape(-1)) \n",
        "#  \n",
        "#scorelist = []\n",
        "#\n",
        "#for i in range(len(trlist)):\n",
        "##for i in range(1):\n",
        "#  if i == 0:\n",
        "#    scorelist.append(trlist[i])\n",
        "#  elif trlist[i] > scorelist[i-1]:\n",
        "#    scorelist.append(trlist[i])\n",
        "#  else:\n",
        "#    scorelist.append(scorelist[i-1])\n",
        "#    \n",
        "#F1_PSO = scorelist\n",
        "#\n",
        "#plt.plot(scorelist);"
      ]
    },
    {
      "cell_type": "code",
      "execution_count": null,
      "metadata": {},
      "outputs": [],
      "source": [
        "#tracking = [-np.min(individual.pop.get('F')) for individual in res.history ]\n",
        "#tracking_PSO_F1 = tracking\n",
        "#plt.plot(tracking)"
      ]
    },
    {
      "attachments": {},
      "cell_type": "markdown",
      "metadata": {},
      "source": [
        "### AUC"
      ]
    },
    {
      "cell_type": "code",
      "execution_count": null,
      "metadata": {},
      "outputs": [],
      "source": [
        "def run_auc_pso_old(ITERATIONS = 32, POPULATION = 32):\n",
        "    algorithm = PSO(#pop_size=POPULATION, \n",
        "                    #w=0.3, c1=4.0, c2=1.0, \n",
        "                    #adaptive=False, initial_velocity='random', \n",
        "                    #max_velocity_rate=0.75, pertube_best=False,\n",
        "                    max_velocity_rate=0.25,\n",
        "                    pop_size=POPULATION)\n",
        "    term = get_termination(\"n_gen\", ITERATIONS)\n",
        "\n",
        "    res = minimize(problemAUC,\n",
        "                algorithm,\n",
        "                #seed=SEED,\n",
        "                save_history=False,\n",
        "                verbose=False,\n",
        "                output=MyOutput(),\n",
        "                termination = term)\n",
        "\n",
        "\n",
        "    index_best_individual = np.where(res.pop.get('F') == np.min(res.pop.get('F')))[0][0]\n",
        "    score_best_individual = res.pop.get('F')[index_best_individual]\n",
        "    parameters_best_individual = res.pop.get('X')[index_best_individual]\n",
        "\n",
        "    #print(f'Best AUC Score {-score_best_individual}')\n",
        "    #print(f'Model parameters: \\n {parameters_best_individual}')\n",
        "    \n",
        "    return score_best_individual, parameters_best_individual, res"
      ]
    },
    {
      "cell_type": "code",
      "execution_count": null,
      "metadata": {},
      "outputs": [
        {
          "name": "stderr",
          "output_type": "stream",
          "text": [
            "C:\\Users\\Felps\\AppData\\Local\\Temp\\ipykernel_19812\\1707635262.py:8: DeprecationWarning: Call to deprecated function (or staticmethod) get_termination. (Please use `from pymoo.termination import get_termination`)\n",
            "  term = get_termination(\"n_gen\", ITERATIONS)\n"
          ]
        },
        {
          "data": {
            "application/vnd.jupyter.widget-view+json": {
              "model_id": "1ffa660206264555bb6e082015cd0c81",
              "version_major": 2,
              "version_minor": 0
            },
            "text/plain": [
              "  0%|          | 0/32 [00:00<?, ?it/s]"
            ]
          },
          "metadata": {},
          "output_type": "display_data"
        },
        {
          "name": "stderr",
          "output_type": "stream",
          "text": [
            "c:\\Users\\Felps\\anaconda3\\envs\\pymoo\\lib\\site-packages\\pymoo\\util\\misc.py:99: RuntimeWarning: invalid value encountered in divide\n",
            "  return lambda a, b: np.sqrt((((a - b) / (xu - xl)) ** 2).sum(axis=1))\n"
          ]
        },
        {
          "ename": "TypeError",
          "evalue": "'>' not supported between instances of 'NoneType' and 'NoneType'",
          "output_type": "error",
          "traceback": [
            "\u001b[1;31m---------------------------------------------------------------------------\u001b[0m",
            "\u001b[1;31mTypeError\u001b[0m                                 Traceback (most recent call last)",
            "Cell \u001b[1;32mIn[59], line 1\u001b[0m\n\u001b[1;32m----> 1\u001b[0m score_best_individual, parameters_best_individual, res \u001b[39m=\u001b[39m run_auc_pso(ITERATIONS \u001b[39m=\u001b[39;49m \u001b[39m15\u001b[39;49m, POPULATION \u001b[39m=\u001b[39;49m \u001b[39m5\u001b[39;49m)\n",
            "Cell \u001b[1;32mIn[26], line 10\u001b[0m, in \u001b[0;36mrun_auc_pso\u001b[1;34m(ITERATIONS, POPULATION)\u001b[0m\n\u001b[0;32m      2\u001b[0m algorithm \u001b[39m=\u001b[39m PSO(\u001b[39m#pop_size=POPULATION, \u001b[39;00m\n\u001b[0;32m      3\u001b[0m                 \u001b[39m#w=0.3, c1=4.0, c2=1.0, \u001b[39;00m\n\u001b[0;32m      4\u001b[0m                 \u001b[39m#adaptive=False, initial_velocity='random', \u001b[39;00m\n\u001b[0;32m      5\u001b[0m                 \u001b[39m#max_velocity_rate=0.75, pertube_best=False,\u001b[39;00m\n\u001b[0;32m      6\u001b[0m                 max_velocity_rate\u001b[39m=\u001b[39m\u001b[39m0.25\u001b[39m,\n\u001b[0;32m      7\u001b[0m                 pop_size\u001b[39m=\u001b[39mPOPULATION)\n\u001b[0;32m      8\u001b[0m term \u001b[39m=\u001b[39m get_termination(\u001b[39m\"\u001b[39m\u001b[39mn_gen\u001b[39m\u001b[39m\"\u001b[39m, ITERATIONS)\n\u001b[1;32m---> 10\u001b[0m res \u001b[39m=\u001b[39m minimize(problemAUC,\n\u001b[0;32m     11\u001b[0m             algorithm,\n\u001b[0;32m     12\u001b[0m             \u001b[39m#seed=SEED,\u001b[39;49;00m\n\u001b[0;32m     13\u001b[0m             save_history\u001b[39m=\u001b[39;49m\u001b[39mFalse\u001b[39;49;00m,\n\u001b[0;32m     14\u001b[0m             verbose\u001b[39m=\u001b[39;49m\u001b[39mFalse\u001b[39;49;00m,\n\u001b[0;32m     15\u001b[0m             output\u001b[39m=\u001b[39;49mMyOutput(),\n\u001b[0;32m     16\u001b[0m             termination \u001b[39m=\u001b[39;49m term)\n\u001b[0;32m     19\u001b[0m index_best_individual \u001b[39m=\u001b[39m np\u001b[39m.\u001b[39mwhere(res\u001b[39m.\u001b[39mpop\u001b[39m.\u001b[39mget(\u001b[39m'\u001b[39m\u001b[39mF\u001b[39m\u001b[39m'\u001b[39m) \u001b[39m==\u001b[39m np\u001b[39m.\u001b[39mmin(res\u001b[39m.\u001b[39mpop\u001b[39m.\u001b[39mget(\u001b[39m'\u001b[39m\u001b[39mF\u001b[39m\u001b[39m'\u001b[39m)))[\u001b[39m0\u001b[39m][\u001b[39m0\u001b[39m]\n\u001b[0;32m     20\u001b[0m score_best_individual \u001b[39m=\u001b[39m res\u001b[39m.\u001b[39mpop\u001b[39m.\u001b[39mget(\u001b[39m'\u001b[39m\u001b[39mF\u001b[39m\u001b[39m'\u001b[39m)[index_best_individual]\n",
            "File \u001b[1;32mc:\\Users\\Felps\\anaconda3\\envs\\pymoo\\lib\\site-packages\\pymoo\\optimize.py:67\u001b[0m, in \u001b[0;36mminimize\u001b[1;34m(problem, algorithm, termination, copy_algorithm, copy_termination, **kwargs)\u001b[0m\n\u001b[0;32m     64\u001b[0m     algorithm\u001b[39m.\u001b[39msetup(problem, \u001b[39m*\u001b[39m\u001b[39m*\u001b[39mkwargs)\n\u001b[0;32m     66\u001b[0m \u001b[39m# actually execute the algorithm\u001b[39;00m\n\u001b[1;32m---> 67\u001b[0m res \u001b[39m=\u001b[39m algorithm\u001b[39m.\u001b[39;49mrun()\n\u001b[0;32m     69\u001b[0m \u001b[39m# store the deep copied algorithm in the result object\u001b[39;00m\n\u001b[0;32m     70\u001b[0m res\u001b[39m.\u001b[39malgorithm \u001b[39m=\u001b[39m algorithm\n",
            "File \u001b[1;32mc:\\Users\\Felps\\anaconda3\\envs\\pymoo\\lib\\site-packages\\pymoo\\core\\algorithm.py:141\u001b[0m, in \u001b[0;36mAlgorithm.run\u001b[1;34m(self)\u001b[0m\n\u001b[0;32m    139\u001b[0m \u001b[39mdef\u001b[39;00m \u001b[39mrun\u001b[39m(\u001b[39mself\u001b[39m):\n\u001b[0;32m    140\u001b[0m     \u001b[39mwhile\u001b[39;00m \u001b[39mself\u001b[39m\u001b[39m.\u001b[39mhas_next():\n\u001b[1;32m--> 141\u001b[0m         \u001b[39mself\u001b[39;49m\u001b[39m.\u001b[39;49mnext()\n\u001b[0;32m    142\u001b[0m     \u001b[39mreturn\u001b[39;00m \u001b[39mself\u001b[39m\u001b[39m.\u001b[39mresult()\n",
            "File \u001b[1;32mc:\\Users\\Felps\\anaconda3\\envs\\pymoo\\lib\\site-packages\\pymoo\\core\\algorithm.py:162\u001b[0m, in \u001b[0;36mAlgorithm.next\u001b[1;34m(self)\u001b[0m\n\u001b[0;32m    160\u001b[0m \u001b[39mif\u001b[39;00m infills \u001b[39mis\u001b[39;00m \u001b[39mnot\u001b[39;00m \u001b[39mNone\u001b[39;00m:\n\u001b[0;32m    161\u001b[0m     \u001b[39mself\u001b[39m\u001b[39m.\u001b[39mevaluator\u001b[39m.\u001b[39meval(\u001b[39mself\u001b[39m\u001b[39m.\u001b[39mproblem, infills, algorithm\u001b[39m=\u001b[39m\u001b[39mself\u001b[39m)\n\u001b[1;32m--> 162\u001b[0m     \u001b[39mself\u001b[39;49m\u001b[39m.\u001b[39;49madvance(infills\u001b[39m=\u001b[39;49minfills)\n\u001b[0;32m    164\u001b[0m \u001b[39m# if the algorithm does not follow the infill-advance scheme just call advance\u001b[39;00m\n\u001b[0;32m    165\u001b[0m \u001b[39melse\u001b[39;00m:\n\u001b[0;32m    166\u001b[0m     \u001b[39mself\u001b[39m\u001b[39m.\u001b[39madvance()\n",
            "File \u001b[1;32mc:\\Users\\Felps\\anaconda3\\envs\\pymoo\\lib\\site-packages\\pymoo\\core\\algorithm.py:228\u001b[0m, in \u001b[0;36mAlgorithm.advance\u001b[1;34m(self, infills, **kwargs)\u001b[0m\n\u001b[0;32m    223\u001b[0m     \u001b[39mself\u001b[39m\u001b[39m.\u001b[39m_post_advance()\n\u001b[0;32m    225\u001b[0m \u001b[39melse\u001b[39;00m:\n\u001b[0;32m    226\u001b[0m \n\u001b[0;32m    227\u001b[0m     \u001b[39m# call the implementation of the advance method - if the infill is not None\u001b[39;00m\n\u001b[1;32m--> 228\u001b[0m     val \u001b[39m=\u001b[39m \u001b[39mself\u001b[39m\u001b[39m.\u001b[39m_advance(infills\u001b[39m=\u001b[39minfills, \u001b[39m*\u001b[39m\u001b[39m*\u001b[39mkwargs)\n\u001b[0;32m    230\u001b[0m     \u001b[39m# always advance to the next iteration - except if the algorithm returns False\u001b[39;00m\n\u001b[0;32m    231\u001b[0m     \u001b[39mif\u001b[39;00m val \u001b[39mis\u001b[39;00m \u001b[39mNone\u001b[39;00m \u001b[39mor\u001b[39;00m val:\n",
            "File \u001b[1;32mc:\\Users\\Felps\\anaconda3\\envs\\pymoo\\lib\\site-packages\\pymoo\\algorithms\\soo\\nonconvex\\pso.py:281\u001b[0m, in \u001b[0;36mPSO._advance\u001b[1;34m(self, infills, **kwargs)\u001b[0m\n\u001b[0;32m    278\u001b[0m \u001b[39mself\u001b[39m\u001b[39m.\u001b[39mpop[has_improved] \u001b[39m=\u001b[39m infills[has_improved]\n\u001b[0;32m    280\u001b[0m \u001b[39mif\u001b[39;00m \u001b[39mself\u001b[39m\u001b[39m.\u001b[39madaptive:\n\u001b[1;32m--> 281\u001b[0m     \u001b[39mself\u001b[39;49m\u001b[39m.\u001b[39;49m_adapt()\n",
            "File \u001b[1;32mc:\\Users\\Felps\\anaconda3\\envs\\pymoo\\lib\\site-packages\\pymoo\\algorithms\\soo\\nonconvex\\pso.py:303\u001b[0m, in \u001b[0;36mPSO._adapt\u001b[1;34m(self)\u001b[0m\n\u001b[0;32m    300\u001b[0m f \u001b[39m=\u001b[39m (g_D \u001b[39m-\u001b[39m _min) \u001b[39m/\u001b[39m (_max \u001b[39m-\u001b[39m _min \u001b[39m+\u001b[39m \u001b[39m1e-32\u001b[39m)\n\u001b[0;32m    302\u001b[0m S \u001b[39m=\u001b[39m np\u001b[39m.\u001b[39marray([S1_exploration(f), S2_exploitation(f), S3_convergence(f), S4_jumping_out(f)])\n\u001b[1;32m--> 303\u001b[0m strategy \u001b[39m=\u001b[39m S\u001b[39m.\u001b[39;49margmax() \u001b[39m+\u001b[39m \u001b[39m1\u001b[39m\n\u001b[0;32m    305\u001b[0m delta \u001b[39m=\u001b[39m \u001b[39m0.05\u001b[39m \u001b[39m+\u001b[39m (np\u001b[39m.\u001b[39mrandom\u001b[39m.\u001b[39mrandom() \u001b[39m*\u001b[39m \u001b[39m0.05\u001b[39m)\n\u001b[0;32m    307\u001b[0m \u001b[39mif\u001b[39;00m strategy \u001b[39m==\u001b[39m \u001b[39m1\u001b[39m:\n",
            "\u001b[1;31mTypeError\u001b[0m: '>' not supported between instances of 'NoneType' and 'NoneType'"
          ]
        }
      ],
      "source": [
        "score_best_individual, parameters_best_individual, res = run_auc_pso(ITERATIONS = 15, POPULATION = 5)"
      ]
    },
    {
      "cell_type": "code",
      "execution_count": null,
      "metadata": {},
      "outputs": [],
      "source": [
        "#trlist = np.array([])\n",
        "#for i in range(len(res.history)):\n",
        "#  trlist = np.append(trlist, -res.history[i].pop.get('F').reshape(-1)) \n",
        "#  \n",
        "#scorelist = []\n",
        "#\n",
        "#for i in range(len(trlist)):\n",
        "##for i in range(1):\n",
        "#  if i == 0:\n",
        "#    scorelist.append(trlist[i])\n",
        "#  elif trlist[i] > scorelist[i-1]:\n",
        "#    scorelist.append(trlist[i])\n",
        "#  else:\n",
        "#    scorelist.append(scorelist[i-1])\n",
        "#    \n",
        "#AUC_PSO = scorelist\n",
        "#\n",
        "#plt.plot(scorelist);"
      ]
    },
    {
      "cell_type": "code",
      "execution_count": null,
      "metadata": {},
      "outputs": [],
      "source": [
        "#tracking = [-np.min(individual.pop.get('F')) for individual in res.history ]\n",
        "#tracking_PSO_AUC = tracking\n",
        "#plt.plot(tracking)"
      ]
    },
    {
      "attachments": {},
      "cell_type": "markdown",
      "metadata": {
        "id": "iTAAhn6w-Be4"
      },
      "source": [
        "## Algoritmo Genético (GA)"
      ]
    },
    {
      "attachments": {},
      "cell_type": "markdown",
      "metadata": {},
      "source": [
        "### Acurácia"
      ]
    },
    {
      "cell_type": "code",
      "execution_count": null,
      "metadata": {
        "id": "1iXezRJUgWiM"
      },
      "outputs": [],
      "source": [
        "ITERATIONS = 32\n",
        "POPULATION = 32"
      ]
    },
    {
      "cell_type": "code",
      "execution_count": null,
      "metadata": {},
      "outputs": [],
      "source": [
        "from pymoo.algorithms.soo.nonconvex.ga import GA"
      ]
    },
    {
      "cell_type": "code",
      "execution_count": null,
      "metadata": {
        "colab": {
          "base_uri": "https://localhost:8080/",
          "height": 848,
          "referenced_widgets": [
            "12434838d89048188eefe1af0332bfd6",
            "b6288aa156624b108015ab993c54d52b",
            "f45e5f0d4187404fb8f63acd3c26fe17",
            "aaa16b6dbffd42ef973b1826e5ed2242",
            "8721e5217b97444d948e5b85c6fd53c7",
            "d25235d18f8045de9948417d13538ef3",
            "01d3490253a8464281845cb171385d59",
            "7f079b743c6e4ad897ae55ba366a15b9",
            "54cbbc7ffbcc401abfbf3167f882019e",
            "d539e4a476cb4ae28e78769b17b97aa9",
            "fb379b55e7bd4b3bb7ed4b0ec6390b2e"
          ]
        },
        "id": "TK9YdWdMfAw3",
        "outputId": "60624262-0c77-4e32-8106-540ea70cd8f9"
      },
      "outputs": [],
      "source": [
        "def run_accuracy_ga(ITERATIONS = 32, POPULATION = 32):\n",
        "\n",
        "    algorithm = GA(pop_size=POPULATION)\n",
        "\n",
        "    term = get_termination(\"n_gen\", ITERATIONS)\n",
        "\n",
        "    res = minimize(problemAccuracy,\n",
        "                algorithm,\n",
        "                save_history=False,\n",
        "                verbose=True,\n",
        "                output=MyOutput(),\n",
        "                termination = term)\n",
        "\n",
        "\n",
        "    index_best_individual = np.where(res.pop.get('F') == np.min(res.pop.get('F')))[0][0]\n",
        "    score_best_individual = res.pop.get('F')[index_best_individual]\n",
        "    parameters_best_individual = res.pop.get('X')[index_best_individual]\n",
        "\n",
        "    #print(f'Best Accuracy Score {-score_best_individual}')\n",
        "    #print(f'Model parameters: \\n {parameters_best_individual}')\n",
        "    \n",
        "    return score_best_individual, parameters_best_individual, res"
      ]
    },
    {
      "cell_type": "code",
      "execution_count": null,
      "metadata": {},
      "outputs": [
        {
          "name": "stderr",
          "output_type": "stream",
          "text": [
            "C:\\Users\\Felps\\AppData\\Local\\Temp\\ipykernel_19812\\2209151331.py:5: DeprecationWarning: Call to deprecated function (or staticmethod) get_termination. (Please use `from pymoo.termination import get_termination`)\n",
            "  term = get_termination(\"n_gen\", ITERATIONS)\n"
          ]
        },
        {
          "data": {
            "application/vnd.jupyter.widget-view+json": {
              "model_id": "320871c903424fdf8f6f6ccbf742a62e",
              "version_major": 2,
              "version_minor": 0
            },
            "text/plain": [
              "  0%|          | 0/32 [00:00<?, ?it/s]"
            ]
          },
          "metadata": {},
          "output_type": "display_data"
        },
        {
          "name": "stdout",
          "output_type": "stream",
          "text": [
            "=======================================================================\n",
            "n_gen  |  n_eval  |     score     |              Parameters            \n",
            "=======================================================================\n",
            "     1 |        1 |  0.2203686533 |                                   -\n"
          ]
        }
      ],
      "source": [
        "score_best_individual, parameters_best_individual, res = run_accuracy_ga(ITERATIONS = 1, POPULATION = 1)"
      ]
    },
    {
      "cell_type": "code",
      "execution_count": null,
      "metadata": {
        "colab": {
          "base_uri": "https://localhost:8080/",
          "height": 364
        },
        "id": "Aw1RtuhKgPkR",
        "outputId": "6b173010-6841-44be-fc9c-1e08c709308c"
      },
      "outputs": [],
      "source": [
        "#tracking = [-np.min(individual.pop.get('F')) for individual in res.history ]\n",
        "#tracking_GA_Accuracy = tracking\n",
        "#plt.plot(tracking)"
      ]
    },
    {
      "cell_type": "code",
      "execution_count": null,
      "metadata": {
        "id": "EuxPTJqU95Ib"
      },
      "outputs": [],
      "source": [
        "#trlist = np.array([])\n",
        "#for i in range(len(res.history)):\n",
        "#  trlist = np.append(trlist, -res.history[i].pop.get('F').reshape(-1)) "
      ]
    },
    {
      "cell_type": "code",
      "execution_count": null,
      "metadata": {
        "id": "COvG1svS97RF"
      },
      "outputs": [],
      "source": [
        "#scorelist = []\n",
        "#\n",
        "#for i in range(len(trlist)):\n",
        "#  if i == 0:\n",
        "#    scorelist.append(trlist[i])\n",
        "#  elif trlist[i] > scorelist[i-1]:\n",
        "#    scorelist.append(trlist[i])\n",
        "#  else:\n",
        "#    scorelist.append(scorelist[i-1])"
      ]
    },
    {
      "cell_type": "code",
      "execution_count": null,
      "metadata": {
        "id": "P4ubDrqPGUnS"
      },
      "outputs": [],
      "source": [
        "#Accuracy_GA = scorelist"
      ]
    },
    {
      "cell_type": "code",
      "execution_count": null,
      "metadata": {
        "colab": {
          "base_uri": "https://localhost:8080/",
          "height": 347
        },
        "id": "N3xxFM4e99pt",
        "outputId": "e0d19dc9-1416-42a5-c33f-945a66a17ee0"
      },
      "outputs": [],
      "source": [
        "#plt.plot(scorelist);"
      ]
    },
    {
      "attachments": {},
      "cell_type": "markdown",
      "metadata": {},
      "source": [
        "### F1 Score "
      ]
    },
    {
      "cell_type": "code",
      "execution_count": null,
      "metadata": {},
      "outputs": [],
      "source": [
        "from pymoo.algorithms.soo.nonconvex.ga import GA\n",
        "def run_f1_ga(ITERATIONS = 32, POPULATION = 32):\n",
        "    algorithm = GA(pop_size=POPULATION)\n",
        "\n",
        "    term = get_termination(\"n_gen\", ITERATIONS)\n",
        "\n",
        "    res = minimize(problemF1,\n",
        "                algorithm,\n",
        "                save_history=False,\n",
        "                verbose=False,\n",
        "                output=MyOutput(),\n",
        "                termination = term)\n",
        "\n",
        "\n",
        "    index_best_individual = np.where(res.pop.get('F') == np.min(res.pop.get('F')))[0][0]\n",
        "    score_best_individual = res.pop.get('F')[index_best_individual]\n",
        "    parameters_best_individual = res.pop.get('X')[index_best_individual]\n",
        "\n",
        "    #print(f'Best F1 Score {-score_best_individual}')\n",
        "    #print(f'Model parameters: \\n {parameters_best_individual}')\n",
        "    \n",
        "    return score_best_individual, parameters_best_individual, res"
      ]
    },
    {
      "cell_type": "code",
      "execution_count": null,
      "metadata": {},
      "outputs": [
        {
          "name": "stderr",
          "output_type": "stream",
          "text": [
            "C:\\Users\\Felps\\AppData\\Local\\Temp\\ipykernel_19812\\1994123235.py:5: DeprecationWarning: Call to deprecated function (or staticmethod) get_termination. (Please use `from pymoo.termination import get_termination`)\n",
            "  term = get_termination(\"n_gen\", ITERATIONS)\n"
          ]
        },
        {
          "data": {
            "application/vnd.jupyter.widget-view+json": {
              "model_id": "b9cf81d79c634bb2ad4ca5226f58e849",
              "version_major": 2,
              "version_minor": 0
            },
            "text/plain": [
              "  0%|          | 0/32 [00:00<?, ?it/s]"
            ]
          },
          "metadata": {},
          "output_type": "display_data"
        }
      ],
      "source": [
        "score_best_individual, parameters_best_individual, res = run_f1_ga(ITERATIONS = 1, POPULATION = 1)"
      ]
    },
    {
      "cell_type": "code",
      "execution_count": null,
      "metadata": {},
      "outputs": [],
      "source": [
        "#trlist = np.array([])\n",
        "#for i in range(len(res.history)):\n",
        "#  trlist = np.append(trlist, -res.history[i].pop.get('F').reshape(-1)) \n",
        "#  \n",
        "#scorelist = []\n",
        "#\n",
        "#for i in range(len(trlist)):\n",
        "##for i in range(1):\n",
        "#  if i == 0:\n",
        "#    scorelist.append(trlist[i])\n",
        "#  elif trlist[i] > scorelist[i-1]:\n",
        "#    scorelist.append(trlist[i])\n",
        "#  else:\n",
        "#    scorelist.append(scorelist[i-1])\n",
        "#    \n",
        "#F1_GA = scorelist\n",
        "#\n",
        "#plt.plot(scorelist);"
      ]
    },
    {
      "cell_type": "code",
      "execution_count": null,
      "metadata": {},
      "outputs": [],
      "source": [
        "#tracking = [-np.min(individual.pop.get('F')) for individual in res.history ]\n",
        "#tracking_GA_F1 = tracking\n",
        "#plt.plot(tracking)"
      ]
    },
    {
      "attachments": {},
      "cell_type": "markdown",
      "metadata": {},
      "source": [
        "### AUC"
      ]
    },
    {
      "cell_type": "code",
      "execution_count": null,
      "metadata": {},
      "outputs": [],
      "source": [
        "from pymoo.algorithms.soo.nonconvex.ga import GA\n",
        "def run_auc_ga(ITERATIONS = 32, POPULATION = 32):\n",
        "    algorithm = GA(pop_size=POPULATION)\n",
        "\n",
        "    term = get_termination(\"n_gen\", ITERATIONS)\n",
        "\n",
        "    res = minimize(problemAUC,\n",
        "                algorithm,\n",
        "                save_history=False,\n",
        "                verbose=False,\n",
        "                output=MyOutput(),\n",
        "                termination = term)\n",
        "\n",
        "\n",
        "    index_best_individual = np.where(res.pop.get('F') == np.min(res.pop.get('F')))[0][0]\n",
        "    score_best_individual = res.pop.get('F')[index_best_individual]\n",
        "    parameters_best_individual = res.pop.get('X')[index_best_individual]\n",
        "\n",
        "    #print(f'Best AUC Score {-score_best_individual}')\n",
        "    #print(f'Model parameters: \\n {parameters_best_individual}')\n",
        "    \n",
        "    return score_best_individual, parameters_best_individual, res"
      ]
    },
    {
      "cell_type": "code",
      "execution_count": null,
      "metadata": {},
      "outputs": [
        {
          "name": "stderr",
          "output_type": "stream",
          "text": [
            "C:\\Users\\Felps\\AppData\\Local\\Temp\\ipykernel_19812\\3250583479.py:5: DeprecationWarning: Call to deprecated function (or staticmethod) get_termination. (Please use `from pymoo.termination import get_termination`)\n",
            "  term = get_termination(\"n_gen\", ITERATIONS)\n"
          ]
        },
        {
          "data": {
            "application/vnd.jupyter.widget-view+json": {
              "model_id": "6da2a85c603d4d20b8d1de4ed373a043",
              "version_major": 2,
              "version_minor": 0
            },
            "text/plain": [
              "  0%|          | 0/32 [00:00<?, ?it/s]"
            ]
          },
          "metadata": {},
          "output_type": "display_data"
        }
      ],
      "source": [
        "score_best_individual, parameters_best_individual, res = run_auc_ga(ITERATIONS = 1, POPULATION = 1)"
      ]
    },
    {
      "cell_type": "code",
      "execution_count": null,
      "metadata": {},
      "outputs": [],
      "source": [
        "#trlist = np.array([])\n",
        "#for i in range(len(res.history)):\n",
        "#  trlist = np.append(trlist, -res.history[i].pop.get('F').reshape(-1)) \n",
        "#  \n",
        "#scorelist = []\n",
        "#\n",
        "#for i in range(len(trlist)):\n",
        "##for i in range(1):\n",
        "#  if i == 0:\n",
        "#    scorelist.append(trlist[i])\n",
        "#  elif trlist[i] > scorelist[i-1]:\n",
        "#    scorelist.append(trlist[i])\n",
        "#  else:\n",
        "#    scorelist.append(scorelist[i-1])\n",
        "#    \n",
        "#AUC_GA = scorelist\n",
        "#\n",
        "#plt.plot(scorelist);"
      ]
    },
    {
      "cell_type": "code",
      "execution_count": null,
      "metadata": {},
      "outputs": [],
      "source": [
        "#tracking = [-np.min(individual.pop.get('F')) for individual in res.history ]\n",
        "#tracking_GA_AUC = tracking\n",
        "#plt.plot(tracking)"
      ]
    },
    {
      "attachments": {},
      "cell_type": "markdown",
      "metadata": {
        "id": "F-WtiEIO0kFu"
      },
      "source": [
        "## Grid Search"
      ]
    },
    {
      "attachments": {},
      "cell_type": "markdown",
      "metadata": {},
      "source": [
        "### Acurácia"
      ]
    },
    {
      "cell_type": "code",
      "execution_count": null,
      "metadata": {
        "id": "OvuV46Aa0dBR"
      },
      "outputs": [],
      "source": [
        "from sklearn.model_selection import GridSearchCV"
      ]
    },
    {
      "cell_type": "code",
      "execution_count": null,
      "metadata": {
        "colab": {
          "base_uri": "https://localhost:8080/"
        },
        "id": "X4nK3alPCEQm",
        "outputId": "ece560c4-eb7c-4e23-e62a-b9423bd07386"
      },
      "outputs": [],
      "source": [
        "#n_possibilities = 2\n",
        "#\n",
        "##num_leaves_grid = [i for i in range(num_leaves_min,num_leaves_max, int((num_leaves_max)/13))]\n",
        "#num_leaves_grid = [i for i in map(lambda x: int(x), np.linspace(num_leaves_min, num_leaves_max, n_possibilities))]\n",
        "#num_leaves_grid = num_leaves_grid + [100, 50, 75, 125, 11,150]\n",
        "##print('Num_Leaves_Grid: ')\n",
        "##print(num_leaves_grid, len(num_leaves_grid))\n",
        "##print('\\n')\n",
        "#\n",
        "#\n",
        "#min_child_samples_grid = [i for i in map(lambda x: int(x), np.linspace(min_child_samples_min, min_child_samples_max, n_possibilities))]\n",
        "##print('min_child_samples_grid:')\n",
        "##print(min_child_samples_grid, len(min_child_samples_grid))\n",
        "##print('\\n')\n",
        "#\n",
        "#n_estimators_grid = [i for i in map(lambda x: int(x), np.linspace(n_estimators_min, n_estimators_max, n_possibilities))]\n",
        "##print('n_estimators_grid:')\n",
        "##print(n_estimators_grid, len(n_estimators_grid))\n",
        "##print('\\n')\n",
        "#\n",
        "#learning_rate_grid = np.linspace(learning_rate_min, learning_rate_max, n_possibilities)\n",
        "##print('learning_rate_grid:')\n",
        "##print(learning_rate_grid, len(learning_rate_grid))\n",
        "##print('\\n')\n",
        "#\n",
        "#subsample_for_bin_grid = [i for i in map(lambda x: int(x), np.linspace(subsample_for_bin_min, subsample_for_bin_max, n_possibilities))]\n",
        "##print('subsample_for_bin_grid:')\n",
        "##print(subsample_for_bin_grid, len(subsample_for_bin_grid))\n",
        "##print('\\n')\n",
        "#\n",
        "#min_split_gain_grid = np.linspace(min_split_gain_min, min_split_gain_max, n_possibilities)\n",
        "##print('min_split_gain_grid:')\n",
        "##print(min_split_gain_grid, len(min_split_gain_grid))\n",
        "##print('\\n')\n",
        "#\n",
        "#min_child_weight_grid = np.linspace(min_child_weight_min, min_child_weight_max, n_possibilities)\n",
        "##print('min_child_weight_grid:')\n",
        "##print(min_child_weight_grid, len(min_child_weight_grid))\n",
        "##print('\\n')\n",
        "#\n",
        "#reg_alpha_grid = np.linspace(reg_alpha_min, reg_alpha_max, n_possibilities)\n",
        "##print('reg_alpha_grid:')\n",
        "##print(reg_alpha_grid, len(reg_alpha_grid))\n",
        "##print('\\n')\n"
      ]
    },
    {
      "cell_type": "code",
      "execution_count": null,
      "metadata": {
        "id": "sWL2gq5M0jmq"
      },
      "outputs": [],
      "source": [
        "#parametros = {'num_leaves': num_leaves_grid, #int\n",
        "#              'min_child_samples': min_child_samples_grid,#int\n",
        "#              'n_estimators': n_estimators_grid, #int\n",
        "#              'learning_rate': learning_rate_grid,\n",
        "#              'subsample_for_bin': subsample_for_bin_grid, # int\n",
        "#              'min_split_gain': min_split_gain_grid,\n",
        "#              'min_child_weight': min_child_weight_grid,\n",
        "#              'reg_alpha': reg_alpha_grid,\n",
        "#              'max_depth': [-1],\n",
        "#              'n_jobs': [-1]}"
      ]
    },
    {
      "cell_type": "code",
      "execution_count": null,
      "metadata": {
        "colab": {
          "base_uri": "https://localhost:8080/"
        },
        "id": "Cg8ZpgTM0tK7",
        "outputId": "efa2aaa1-3397-45fe-83c3-2eea6127b6a7"
      },
      "outputs": [],
      "source": [
        "#kfold = KFold(n_splits = 3, shuffle = True)\n",
        "#grid_search = GridSearchCV(estimator = lgb.LGBMClassifier(), param_grid = parametros, cv = kfold, n_jobs= -1, verbose = 3)\n",
        "#grid_search.fit(x_wine, y_wine)\n",
        "#melhores_parametros = grid_search.best_params_\n",
        "#melhor_resultado = grid_search.best_score_\n",
        "##print(melhores_parametros)\n",
        "##print(melhor_resultado)"
      ]
    },
    {
      "cell_type": "code",
      "execution_count": null,
      "metadata": {
        "colab": {
          "base_uri": "https://localhost:8080/"
        },
        "id": "ekOamIhnrFd5",
        "outputId": "4d91ab89-5f11-4dc4-d71b-3837ba0cd1e9"
      },
      "outputs": [],
      "source": [
        "#rid_search.cv_results_.keys()"
      ]
    },
    {
      "cell_type": "code",
      "execution_count": null,
      "metadata": {
        "id": "uo45HhIasnc4"
      },
      "outputs": [],
      "source": [
        "#trlist = grid_search.cv_results_['mean_test_score']"
      ]
    },
    {
      "cell_type": "code",
      "execution_count": null,
      "metadata": {
        "id": "k0PjBeFHIqKw"
      },
      "outputs": [],
      "source": [
        "#scorelist = []\n",
        "#\n",
        "#for i in range(len(trlist)):\n",
        "##for i in range(1):\n",
        "#  if i == 0:\n",
        "#    scorelist.append(trlist[i])\n",
        "#  elif trlist[i] > scorelist[i-1]:\n",
        "#    scorelist.append(trlist[i])\n",
        "#  else:\n",
        "#    scorelist.append(scorelist[i-1])"
      ]
    },
    {
      "cell_type": "code",
      "execution_count": null,
      "metadata": {
        "colab": {
          "base_uri": "https://localhost:8080/"
        },
        "id": "xjb_n_Hkr3WK",
        "outputId": "91f6887b-7c92-4b1d-8719-825d2ce7d88e"
      },
      "outputs": [],
      "source": [
        "#tracking_GS_Accuracy = scorelist\n",
        "#plt.plot(scorelist); "
      ]
    },
    {
      "attachments": {},
      "cell_type": "markdown",
      "metadata": {},
      "source": [
        "### F1 Score"
      ]
    },
    {
      "cell_type": "code",
      "execution_count": null,
      "metadata": {},
      "outputs": [],
      "source": [
        "#kfold = KFold(n_splits = 3, shuffle = True)\n",
        "#grid_search = GridSearchCV(estimator = lgb.LGBMClassifier(), param_grid = parametros, cv = kfold, n_jobs= -1, scoring='f1', verbose = 3)\n",
        "#grid_search.fit(x_wine, y_wine)\n",
        "#melhores_parametros = grid_search.best_params_\n",
        "#melhor_resultado = grid_search.best_score_\n",
        "##print(melhores_parametros)\n",
        "##print(melhor_resultado)\n",
        "#\n",
        "#trlist = grid_search.cv_results_['mean_test_score']\n",
        "#\n",
        "#\n",
        "#scorelist = []\n",
        "#\n",
        "#for i in range(len(trlist)):\n",
        "##for i in range(1):\n",
        "#  if i == 0:\n",
        "#    scorelist.append(trlist[i])\n",
        "#  elif trlist[i] > scorelist[i-1]:\n",
        "#    scorelist.append(trlist[i])\n",
        "#  else:\n",
        "#    scorelist.append(scorelist[i-1])\n",
        "#    \n",
        "#tracking_GS_F1 = scorelist\n",
        "#plt.plot(scorelist); "
      ]
    },
    {
      "attachments": {},
      "cell_type": "markdown",
      "metadata": {},
      "source": [
        "### AUC"
      ]
    },
    {
      "cell_type": "code",
      "execution_count": null,
      "metadata": {},
      "outputs": [],
      "source": [
        "#kfold = KFold(n_splits = 3, shuffle = True)\n",
        "#grid_search = GridSearchCV(estimator = lgb.LGBMClassifier(), param_grid = parametros, cv = kfold, n_jobs= -1, scoring='roc_auc', verbose = 3)\n",
        "#grid_search.fit(x_wine, y_wine)\n",
        "#melhores_parametros = grid_search.best_params_\n",
        "#melhor_resultado = grid_search.best_score_\n",
        "##print(melhores_parametros)\n",
        "##print(melhor_resultado)\n",
        "#\n",
        "#trlist = grid_search.cv_results_['mean_test_score']\n",
        "#\n",
        "#\n",
        "#scorelist = []\n",
        "#\n",
        "#for i in range(len(trlist)):\n",
        "##for i in range(1):\n",
        "#  if i == 0:\n",
        "#    scorelist.append(trlist[i])\n",
        "#  elif trlist[i] > scorelist[i-1]:\n",
        "#    scorelist.append(trlist[i])\n",
        "#  else:\n",
        "#    scorelist.append(scorelist[i-1])\n",
        "#    \n",
        "#tracking_GS_AUC = scorelist\n",
        "#plt.plot(scorelist); "
      ]
    },
    {
      "attachments": {},
      "cell_type": "markdown",
      "metadata": {
        "id": "vA6kphUO0vcT"
      },
      "source": [
        "## Optuna"
      ]
    },
    {
      "attachments": {},
      "cell_type": "markdown",
      "metadata": {},
      "source": [
        "### Acurácia"
      ]
    },
    {
      "cell_type": "code",
      "execution_count": null,
      "metadata": {
        "colab": {
          "base_uri": "https://localhost:8080/"
        },
        "id": "AtVNXGxotkiD",
        "outputId": "3eeeb6d4-9bc6-49eb-b3d6-7c9482852c52"
      },
      "outputs": [],
      "source": [
        "#!pip install optuna"
      ]
    },
    {
      "cell_type": "code",
      "execution_count": null,
      "metadata": {
        "id": "X_R8NlJD0xYP"
      },
      "outputs": [
        {
          "ename": "ModuleNotFoundError",
          "evalue": "No module named 'optuna'",
          "output_type": "error",
          "traceback": [
            "\u001b[1;31m---------------------------------------------------------------------------\u001b[0m",
            "\u001b[1;31mModuleNotFoundError\u001b[0m                       Traceback (most recent call last)",
            "Cell \u001b[1;32mIn[58], line 1\u001b[0m\n\u001b[1;32m----> 1\u001b[0m \u001b[39mimport\u001b[39;00m \u001b[39moptuna\u001b[39;00m\n\u001b[0;32m      2\u001b[0m optuna\u001b[39m.\u001b[39mlogging\u001b[39m.\u001b[39mset_verbosity(optuna\u001b[39m.\u001b[39mlogging\u001b[39m.\u001b[39mWARNING)\n\u001b[0;32m      3\u001b[0m \u001b[39mimport\u001b[39;00m \u001b[39msklearn\u001b[39;00m\n",
            "\u001b[1;31mModuleNotFoundError\u001b[0m: No module named 'optuna'"
          ]
        }
      ],
      "source": [
        "import optuna\n",
        "optuna.logging.set_verbosity(optuna.logging.WARNING)\n",
        "import sklearn\n",
        "from sklearn import datasets\n",
        "def objective_accuracy(trial):\n",
        "      \n",
        "      iterations = trial.suggest_int('iterations', iterations_min, iterations_max)  \n",
        "      learning_rate = trial.suggest_float('learning_rate', learning_rate_min, learning_rate_max)  \n",
        "      l2_leaf_reg = trial.suggest_float('l2_leaf_reg', l2_leaf_reg_min, l2_leaf_reg_max)  \n",
        "      bagging_temperature = trial.suggest_float('bagging_temperature', bagging_temperature_min, bagging_temperature_max)  \n",
        "      random_strength = trial.suggest_float('random_strength', random_strength_min, random_strength_max)  \n",
        "      best_model_min_trees = trial.suggest_int('best_model_min_trees', best_model_min_trees_min, best_model_min_trees_max)  \n",
        "      depth = trial.suggest_int('depth', depth_min, depth_max)  \n",
        "      min_data_in_leaf = trial.suggest_int('min_data_in_leaf', min_data_in_leaf_min, min_data_in_leaf_max)  \n",
        "      max_leaves = trial.suggest_int('max_leaves', max_leaves_min, max_leaves_max)  \n",
        "      one_hot_max_size = trial.suggest_int('one_hot_max_size', one_hot_max_size_min, one_hot_max_size_max)  \n",
        "      rsm = trial.suggest_float('rsm', rsm_min, rsm_max)  \n",
        "      fold_permutation_block = trial.suggest_int('fold_permutation_block', fold_permutation_block_min, fold_permutation_block_max)  \n",
        "      leaf_estimation_iterations = trial.suggest_int('leaf_estimation_iterations', leaf_estimation_iterations_min, leaf_estimation_iterations_max)  \n",
        "      fold_len_multiplier = trial.suggest_float('fold_len_multiplier', fold_len_multiplier_min, fold_len_multiplier_max)  \n",
        "      boost_from_average = trial.suggest_int('boost_from_average', 0, 1)  \n",
        "      posterior_sampling = trial.suggest_int('posterior_sampling', 0, 1)  \n",
        "      allow_const_label = trial.suggest_int('allow_const_label', 0, 1)  \n",
        "      penalties_coefficient = trial.suggest_float('penalties_coefficient', penalties_coefficient_min, penalties_coefficient_max)  \n",
        "      model_shrink_rate = trial.suggest_float('model_shrink_rate', model_shrink_rate_min, model_shrink_rate_max)  \n",
        "      \n",
        "      \n",
        "      model_catboost = CatBoostClassifier(\n",
        "                                    iterations = iterations,\n",
        "                                    learning_rate = learning_rate,\n",
        "                                    l2_leaf_reg = l2_leaf_reg,\n",
        "                                    bagging_temperature = bagging_temperature,\n",
        "                                    random_strength = random_strength,\n",
        "                                    best_model_min_trees = best_model_min_trees,\n",
        "                                    depth = depth,\n",
        "                                    min_data_in_leaf = min_data_in_leaf,\n",
        "                                    max_leaves = max_leaves,\n",
        "                                    one_hot_max_size = one_hot_max_size,\n",
        "                                    rsm = rsm,\n",
        "                                    fold_permutation_block = fold_permutation_block,\n",
        "                                    leaf_estimation_iterations = leaf_estimation_iterations,\n",
        "                                    fold_len_multiplier = fold_len_multiplier,\n",
        "                                    #boost_from_average = bool(boost_from_average),\n",
        "                                    posterior_sampling = bool(posterior_sampling),\n",
        "                                    allow_const_label = bool(allow_const_label),\n",
        "                                    penalties_coefficient = penalties_coefficient,\n",
        "                                    model_shrink_rate = model_shrink_rate,\n",
        "                                    approx_on_full_history = False,\n",
        "                                    loss_function='MultiClass',\n",
        "                                    grow_policy = 'Lossguide',\n",
        "                                    thread_count = -1\n",
        "                                    )\n",
        "\n",
        "      \n",
        "      kfold = KFold(n_splits = 3, shuffle = True)\n",
        "\n",
        "      return sklearn.model_selection.cross_val_score(model_catboost, x_wine, y_wine, n_jobs=-1, cv=kfold).mean()"
      ]
    },
    {
      "cell_type": "code",
      "execution_count": null,
      "metadata": {
        "colab": {
          "base_uri": "https://localhost:8080/"
        },
        "id": "r62Ch5ng00NT",
        "outputId": "05e8015b-6c79-4043-daf8-028abeea7334"
      },
      "outputs": [],
      "source": [
        "def run_optuna_accuracy(n_trials=1024):\n",
        "    study = optuna.create_study(direction='maximize')\n",
        "    study.optimize(objective_accuracy, n_trials=n_trials, n_jobs = -1)\n",
        "    trial = study.best_trial\n",
        "    #print('Accuracy: {}'.format(trial.value))\n",
        "    #print(\"Best hyperparameters: {}\".format(trial.params))\n",
        "    return trial.value, study\n"
      ]
    },
    {
      "cell_type": "code",
      "execution_count": null,
      "metadata": {},
      "outputs": [],
      "source": [
        "trial, study = run_optuna_accuracy(1)"
      ]
    },
    {
      "cell_type": "code",
      "execution_count": null,
      "metadata": {},
      "outputs": [
        {
          "data": {
            "text/plain": [
              "0.21775305262434938"
            ]
          },
          "execution_count": 209,
          "metadata": {},
          "output_type": "execute_result"
        }
      ],
      "source": [
        "trial"
      ]
    },
    {
      "cell_type": "code",
      "execution_count": null,
      "metadata": {
        "id": "odCO6YCmz1q4"
      },
      "outputs": [],
      "source": [
        "#tracking = []\n",
        "#for i in range(len(study.trials)):\n",
        "#  if i == 0: \n",
        "#    tracking.append(study.trials[i].value)\n",
        "#  elif tracking[i-1] > study.trials[i].value:\n",
        "#    tracking.append(tracking[i-1])\n",
        "#  else:\n",
        "#    tracking.append(study.trials[i].value)\n",
        "##tracking_sorted = sorted(tracking)"
      ]
    },
    {
      "cell_type": "code",
      "execution_count": null,
      "metadata": {
        "id": "ukqgm-fOHTVs"
      },
      "outputs": [],
      "source": [
        "#tracking_Optuna_Accuracy = tracking"
      ]
    },
    {
      "cell_type": "code",
      "execution_count": null,
      "metadata": {
        "colab": {
          "base_uri": "https://localhost:8080/",
          "height": 347
        },
        "id": "L8cqXHz06SXp",
        "outputId": "e0ea3abf-1a22-479f-b12c-fa76bb91b4c6"
      },
      "outputs": [],
      "source": [
        "#plt.plot(tracking);\n",
        "#plt.plot(tracking_sorted) "
      ]
    },
    {
      "cell_type": "code",
      "execution_count": null,
      "metadata": {
        "colab": {
          "base_uri": "https://localhost:8080/",
          "height": 542
        },
        "id": "dSnAebcQ04n8",
        "outputId": "e0275cf0-9485-43d1-af08-75042d2f3351"
      },
      "outputs": [],
      "source": [
        "#optuna.visualization.plot_optimization_history(study)"
      ]
    },
    {
      "cell_type": "code",
      "execution_count": null,
      "metadata": {
        "colab": {
          "base_uri": "https://localhost:8080/",
          "height": 562
        },
        "id": "PykRbFk506AF",
        "outputId": "b37580c8-b893-4d8f-f745-60affb470c52"
      },
      "outputs": [],
      "source": [
        "#optuna.visualization.plot_slice(study)"
      ]
    },
    {
      "attachments": {},
      "cell_type": "markdown",
      "metadata": {},
      "source": [
        "### F1 Score"
      ]
    },
    {
      "cell_type": "code",
      "execution_count": null,
      "metadata": {},
      "outputs": [],
      "source": [
        "def objective_f1(trial):\n",
        "      iterations = trial.suggest_int('iterations', iterations_min, iterations_max)  \n",
        "      learning_rate = trial.suggest_float('learning_rate', learning_rate_min, learning_rate_max)  \n",
        "      l2_leaf_reg = trial.suggest_float('l2_leaf_reg', l2_leaf_reg_min, l2_leaf_reg_max)  \n",
        "      bagging_temperature = trial.suggest_float('bagging_temperature', bagging_temperature_min, bagging_temperature_max)  \n",
        "      random_strength = trial.suggest_float('random_strength', random_strength_min, random_strength_max)  \n",
        "      best_model_min_trees = trial.suggest_int('best_model_min_trees', best_model_min_trees_min, best_model_min_trees_max)  \n",
        "      depth = trial.suggest_int('depth', depth_min, depth_max)  \n",
        "      min_data_in_leaf = trial.suggest_int('min_data_in_leaf', min_data_in_leaf_min, min_data_in_leaf_max)  \n",
        "      max_leaves = trial.suggest_int('max_leaves', max_leaves_min, max_leaves_max)  \n",
        "      one_hot_max_size = trial.suggest_int('one_hot_max_size', one_hot_max_size_min, one_hot_max_size_max)  \n",
        "      rsm = trial.suggest_float('rsm', rsm_min, rsm_max)  \n",
        "      fold_permutation_block = trial.suggest_int('fold_permutation_block', fold_permutation_block_min, fold_permutation_block_max)  \n",
        "      leaf_estimation_iterations = trial.suggest_int('leaf_estimation_iterations', leaf_estimation_iterations_min, leaf_estimation_iterations_max)  \n",
        "      fold_len_multiplier = trial.suggest_float('fold_len_multiplier', fold_len_multiplier_min, fold_len_multiplier_max)  \n",
        "      boost_from_average = trial.suggest_int('boost_from_average', 0, 1)  \n",
        "      posterior_sampling = trial.suggest_int('posterior_sampling', 0, 1)  \n",
        "      allow_const_label = trial.suggest_int('allow_const_label', 0, 1)  \n",
        "      penalties_coefficient = trial.suggest_float('penalties_coefficient', penalties_coefficient_min, penalties_coefficient_max)  \n",
        "      model_shrink_rate = trial.suggest_float('model_shrink_rate', model_shrink_rate_min, model_shrink_rate_max)  \n",
        "                                                                \n",
        "      \n",
        "      model_catboost = CatBoostClassifier(\n",
        "                                    iterations = iterations,\n",
        "                                    learning_rate = learning_rate,\n",
        "                                    l2_leaf_reg = l2_leaf_reg,\n",
        "                                    \n",
        "                                    bagging_temperature = bagging_temperature,\n",
        "                                    random_strength = random_strength,\n",
        "                                    best_model_min_trees = best_model_min_trees,\n",
        "                                    depth = depth,\n",
        "                                    \n",
        "                                    min_data_in_leaf = min_data_in_leaf,\n",
        "                                    max_leaves = max_leaves,\n",
        "                                    one_hot_max_size = one_hot_max_size,\n",
        "                                    \n",
        "                                    rsm = rsm,\n",
        "                                    fold_permutation_block = fold_permutation_block,\n",
        "                                    leaf_estimation_iterations = leaf_estimation_iterations,\n",
        "                                    \n",
        "                                    \n",
        "                                    fold_len_multiplier = fold_len_multiplier, #Flag Error\n",
        "                                    #boost_from_average = bool(boost_from_average), #Flag Error\n",
        "                                    posterior_sampling = bool(posterior_sampling),#Flag Error\n",
        "                                    \n",
        "                                    allow_const_label = bool(allow_const_label),\n",
        "                                    penalties_coefficient = penalties_coefficient,\n",
        "                                    model_shrink_rate = model_shrink_rate,\n",
        "                                    approx_on_full_history = False,\n",
        "                                    \n",
        "                                    grow_policy = 'Lossguide',\n",
        "                                    loss_function='MultiClass',\n",
        "                                    thread_count = -1\n",
        "                                    )\n",
        "\n",
        "      \n",
        "      kfold = KFold(n_splits = 3, shuffle = True)\n",
        "\n",
        "\n",
        "      return sklearn.model_selection.cross_val_score(model_catboost, x_wine, y_wine, n_jobs=-1, scoring='f1_weighted', cv=kfold).mean()"
      ]
    },
    {
      "cell_type": "code",
      "execution_count": null,
      "metadata": {},
      "outputs": [],
      "source": [
        "def run_optuna_f1(n_trials=1024):\n",
        "    study = optuna.create_study(direction='maximize')\n",
        "    study.optimize(objective_f1, n_trials=n_trials, n_jobs = -1)\n",
        "    trial = study.best_trial\n",
        "    #print('F1: {}'.format(trial.value))\n",
        "    #print(\"Best hyperparameters: {}\".format(trial.params))\n",
        "    return trial.value, study"
      ]
    },
    {
      "cell_type": "code",
      "execution_count": null,
      "metadata": {},
      "outputs": [],
      "source": [
        "trial, study = run_optuna_f1(10)"
      ]
    },
    {
      "cell_type": "code",
      "execution_count": null,
      "metadata": {},
      "outputs": [
        {
          "data": {
            "text/plain": [
              "0.08598495569493116"
            ]
          },
          "execution_count": 218,
          "metadata": {},
          "output_type": "execute_result"
        }
      ],
      "source": [
        "trial"
      ]
    },
    {
      "cell_type": "code",
      "execution_count": null,
      "metadata": {},
      "outputs": [],
      "source": [
        "#tracking = []\n",
        "#for i in range(len(study.trials)):\n",
        "#  if i == 0: \n",
        "#    tracking.append(study.trials[i].value)\n",
        "#  elif tracking[i-1] > study.trials[i].value:\n",
        "#    tracking.append(tracking[i-1])\n",
        "#  else:\n",
        "#    tracking.append(study.trials[i].value)\n",
        "##tracking_sorted = sorted(tracking)\n",
        "#\n",
        "#tracking_Optuna_F1 = tracking\n",
        "#\n",
        "#plt.plot(tracking);\n",
        "##plt.plot(tracking_sorted) "
      ]
    },
    {
      "attachments": {},
      "cell_type": "markdown",
      "metadata": {},
      "source": [
        "### AUC"
      ]
    },
    {
      "cell_type": "code",
      "execution_count": null,
      "metadata": {},
      "outputs": [],
      "source": [
        "def objective_auc(trial):\n",
        "  \n",
        "      iterations = trial.suggest_int('iterations', iterations_min, iterations_max)  \n",
        "      learning_rate = trial.suggest_float('learning_rate', learning_rate_min, learning_rate_max)  \n",
        "      l2_leaf_reg = trial.suggest_float('l2_leaf_reg', l2_leaf_reg_min, l2_leaf_reg_max)  \n",
        "      bagging_temperature = trial.suggest_float('bagging_temperature', bagging_temperature_min, bagging_temperature_max)  \n",
        "      random_strength = trial.suggest_float('random_strength', random_strength_min, random_strength_max)  \n",
        "      best_model_min_trees = trial.suggest_int('best_model_min_trees', best_model_min_trees_min, best_model_min_trees_max)  \n",
        "      depth = trial.suggest_int('depth', depth_min, depth_max)  \n",
        "      min_data_in_leaf = trial.suggest_int('min_data_in_leaf', min_data_in_leaf_min, min_data_in_leaf_max)  \n",
        "      max_leaves = trial.suggest_int('max_leaves', max_leaves_min, max_leaves_max)  \n",
        "      one_hot_max_size = trial.suggest_int('one_hot_max_size', one_hot_max_size_min, one_hot_max_size_max)  \n",
        "      rsm = trial.suggest_float('rsm', rsm_min, rsm_max)  \n",
        "      fold_permutation_block = trial.suggest_int('fold_permutation_block', fold_permutation_block_min, fold_permutation_block_max)  \n",
        "      leaf_estimation_iterations = trial.suggest_int('leaf_estimation_iterations', leaf_estimation_iterations_min, leaf_estimation_iterations_max)  \n",
        "      fold_len_multiplier = trial.suggest_float('fold_len_multiplier', fold_len_multiplier_min, fold_len_multiplier_max)  \n",
        "      boost_from_average = trial.suggest_int('boost_from_average', 0, 1)  \n",
        "      posterior_sampling = trial.suggest_int('posterior_sampling', 0, 1)  \n",
        "      allow_const_label = trial.suggest_int('allow_const_label', 0, 1)  \n",
        "      penalties_coefficient = trial.suggest_float('penalties_coefficient', penalties_coefficient_min, penalties_coefficient_max)  \n",
        "      model_shrink_rate = trial.suggest_float('model_shrink_rate', model_shrink_rate_min, model_shrink_rate_max)  \n",
        "                                                                \n",
        "      \n",
        "      model_catboost = CatBoostClassifier(\n",
        "                                    iterations = iterations,\n",
        "                                    learning_rate = learning_rate,\n",
        "                                    l2_leaf_reg = l2_leaf_reg,\n",
        "                                    \n",
        "                                    bagging_temperature = bagging_temperature,\n",
        "                                    random_strength = random_strength,\n",
        "                                    best_model_min_trees = best_model_min_trees,\n",
        "                                    depth = depth,\n",
        "                                    \n",
        "                                    min_data_in_leaf = min_data_in_leaf,\n",
        "                                    max_leaves = max_leaves,\n",
        "                                    one_hot_max_size = one_hot_max_size,\n",
        "                                    \n",
        "                                    rsm = rsm,\n",
        "                                    fold_permutation_block = fold_permutation_block,\n",
        "                                    leaf_estimation_iterations = leaf_estimation_iterations,\n",
        "                                    \n",
        "                                    \n",
        "                                    fold_len_multiplier = fold_len_multiplier, #Flag Error\n",
        "                                    #boost_from_average = bool(boost_from_average), #Flag Error\n",
        "                                    posterior_sampling = bool(posterior_sampling),#Flag \n",
        "                                    \n",
        "                                    allow_const_label = bool(allow_const_label),\n",
        "                                    penalties_coefficient = penalties_coefficient,\n",
        "                                    model_shrink_rate = model_shrink_rate,\n",
        "                                    approx_on_full_history = False,\n",
        "                                    \n",
        "                                    grow_policy = 'Lossguide',\n",
        "                                    loss_function='MultiClass',\n",
        "                                    thread_count = -1\n",
        "                                    )\n",
        "\n",
        "      \n",
        "      kfold = KFold(n_splits = 3, shuffle = True)\n",
        "\n",
        "\n",
        "      return sklearn.model_selection.cross_val_score(model_catboost, x_wine, y_wine, n_jobs=-1, scoring='roc_auc_ovr_weighted', cv=kfold).mean()"
      ]
    },
    {
      "cell_type": "code",
      "execution_count": null,
      "metadata": {},
      "outputs": [],
      "source": [
        "def run_optuna_auc(n_trials=1024):\n",
        "    study = optuna.create_study(direction='maximize')\n",
        "    study.optimize(objective_auc, n_trials=n_trials, n_jobs = -1)\n",
        "    trial = study.best_trial\n",
        "    #print('AUC: {}'.format(trial.value))\n",
        "    #print(\"Best hyperparameters: {}\".format(trial.params))\n",
        "    return trial.value, study"
      ]
    },
    {
      "cell_type": "code",
      "execution_count": null,
      "metadata": {},
      "outputs": [],
      "source": [
        "trial, study = run_optuna_auc(10)"
      ]
    },
    {
      "cell_type": "code",
      "execution_count": null,
      "metadata": {},
      "outputs": [
        {
          "data": {
            "text/plain": [
              "0.5"
            ]
          },
          "execution_count": 223,
          "metadata": {},
          "output_type": "execute_result"
        }
      ],
      "source": [
        "trial"
      ]
    },
    {
      "cell_type": "code",
      "execution_count": null,
      "metadata": {},
      "outputs": [],
      "source": [
        "#tracking = []\n",
        "#for i in range(len(study.trials)):\n",
        "#  if i == 0: \n",
        "#    tracking.append(study.trials[i].value)\n",
        "#  elif tracking[i-1] > study.trials[i].value:\n",
        "#    tracking.append(tracking[i-1])\n",
        "#  else:\n",
        "#    tracking.append(study.trials[i].value)\n",
        "##tracking_sorted = sorted(tracking)\n",
        "#\n",
        "#tracking_Optuna_AUC = tracking\n",
        "#\n",
        "#plt.plot(tracking);\n",
        "##plt.plot(tracking_sorted) "
      ]
    },
    {
      "attachments": {},
      "cell_type": "markdown",
      "metadata": {
        "id": "O554Q6QTEVSZ"
      },
      "source": [
        "# Análise Comparativa"
      ]
    },
    {
      "cell_type": "code",
      "execution_count": null,
      "metadata": {
        "colab": {
          "base_uri": "https://localhost:8080/",
          "height": 335
        },
        "id": "fQLG5-KOEa-j",
        "outputId": "475764bd-0f8b-4a28-dfbc-06b9f8e93d0d"
      },
      "outputs": [],
      "source": [
        "#fig, (ax1, ax2) = plt.subplots(1, 2, figsize=(20,5))\n",
        "#\n",
        "#ax1.set_title('PSO X Gerações')\n",
        "#ax2.set_title('PSO X Avaliações')\n",
        "#\n",
        "#ax1.plot(tracking_PSO_Accuracy)\n",
        "#ax2.plot(Accuracy_PSO)\n",
        "#plt.show()"
      ]
    },
    {
      "cell_type": "code",
      "execution_count": null,
      "metadata": {
        "colab": {
          "base_uri": "https://localhost:8080/",
          "height": 335
        },
        "id": "rQXRvTMeGdtO",
        "outputId": "3e5b32fe-6843-4453-c4c0-c72f988355e3"
      },
      "outputs": [],
      "source": [
        "#fig, (ax1, ax2) = plt.subplots(1, 2, figsize=(20,5))\n",
        "#\n",
        "#ax1.set_title('GA X Gerações')\n",
        "#ax2.set_title('GA X Avaliações')\n",
        "#\n",
        "#ax1.plot(tracking_GA_Accuracy)\n",
        "#ax2.plot(Accuracy_GA)\n",
        "#plt.show()"
      ]
    },
    {
      "attachments": {},
      "cell_type": "markdown",
      "metadata": {},
      "source": [
        "Gráficos Comparativos Acurácia"
      ]
    },
    {
      "cell_type": "code",
      "execution_count": null,
      "metadata": {
        "colab": {
          "base_uri": "https://localhost:8080/",
          "height": 592
        },
        "id": "wPAE1qekG2QL",
        "outputId": "ed21fdf7-0168-43ed-be6f-6a7d40ee56a7"
      },
      "outputs": [],
      "source": [
        "#from IPython.core.pylabtools import figsize\n",
        "#from matplotlib.pyplot import figure\n",
        "#import matplotlib.patches as mpatches\n",
        "#\n",
        "#plt.figure(figsize=(12, 6))\n",
        "#red_patch = mpatches.Patch(color='red', label='PSO')\n",
        "#blue_patch = mpatches.Patch(color='blue', label='GA')\n",
        "#green_patch = mpatches.Patch(color='green', label='Optuna')\n",
        "##black_patch = mpatches.Patch(color='black', label='GridSearch')\n",
        "#\n",
        "#plt.legend(handles=[red_patch, blue_patch, green_patch])\n",
        "#plt.plot(Accuracy_GA, color = 'blue', linewidth=1, linestyle='-', )\n",
        "#plt.plot(Accuracy_PSO, color = 'red', linewidth=1, linestyle='-')\n",
        "#plt.plot(tracking_Optuna_Accuracy, color = 'green', linewidth=1, linestyle='-')\n",
        "##plt.plot(tracking_GS, color = 'black', linewidth=3, linestyle='-')\n",
        "#plt.show()"
      ]
    },
    {
      "cell_type": "code",
      "execution_count": null,
      "metadata": {
        "colab": {
          "base_uri": "https://localhost:8080/",
          "height": 901
        },
        "id": "hkxfnJJoKHia",
        "outputId": "b1c67284-9c27-4868-c7c1-54368e704ec5"
      },
      "outputs": [],
      "source": [
        "#fig, ax = plt.subplots(2, 2, figsize=(25,15))\n",
        "#\n",
        "#ax[0, 0].set_title(f'Genetic Algorithm (GA) - Accuracy: {max(tracking_GA_Accuracy)}', fontdict={'fontsize': 20, 'fontweight': 'medium'})\n",
        "#ax[0, 1].set_title(f'Particle Swarm Optimization (PSO) - Accuracy: {max(tracking_PSO_Accuracy)}', fontdict={'fontsize': 20, 'fontweight': 'medium'})\n",
        "#\n",
        "#ax[1, 0].set_title(f'Grid Search - Accuracy: {max(tracking_GS_Accuracy)}', fontdict={'fontsize': 20, 'fontweight': 'medium'})\n",
        "#ax[1, 1].set_title(f'Optuna - Accuracy: {max(tracking_Optuna_Accuracy)}', fontdict={'fontsize': 20, 'fontweight': 'medium'})\n",
        "#\n",
        "#ax[0,0].plot(tracking_GA_Accuracy, color = 'blue', linewidth=3, linestyle='-', )\n",
        "#ax[0,1].plot(tracking_PSO_Accuracy, color = 'red', linewidth=3, linestyle='-')\n",
        "#\n",
        "#ax[1,0].plot(tracking_GS_Accuracy, color = 'black', linewidth=3, linestyle='-')\n",
        "#ax[1,1].plot(tracking_Optuna_Accuracy, color = 'green', linewidth=3, linestyle='-')\n"
      ]
    },
    {
      "attachments": {},
      "cell_type": "markdown",
      "metadata": {},
      "source": [
        "F1 score"
      ]
    },
    {
      "cell_type": "code",
      "execution_count": null,
      "metadata": {},
      "outputs": [],
      "source": [
        "#plt.figure(figsize=(12, 6))\n",
        "#red_patch = mpatches.Patch(color='red', label='PSO')\n",
        "#blue_patch = mpatches.Patch(color='blue', label='GA')\n",
        "#green_patch = mpatches.Patch(color='green', label='Optuna')\n",
        "##black_patch = mpatches.Patch(color='black', label='GridSearch')\n",
        "#\n",
        "#plt.legend(handles=[red_patch, blue_patch, green_patch])\n",
        "#plt.plot(F1_GA, color = 'blue', linewidth=1, linestyle='-', )\n",
        "#plt.plot(F1_PSO, color = 'red', linewidth=1, linestyle='-')\n",
        "#plt.plot(tracking_Optuna_F1, color = 'green', linewidth=1, linestyle='-')\n",
        "##plt.plot(tracking_GS, color = 'black', linewidth=3, linestyle='-')\n",
        "#plt.show()"
      ]
    },
    {
      "cell_type": "code",
      "execution_count": null,
      "metadata": {},
      "outputs": [],
      "source": [
        "#fig, ax = plt.subplots(2, 2, figsize=(25,15))\n",
        "#\n",
        "#ax[0, 0].set_title(f'Genetic Algorithm (GA) - Accuracy: {max(tracking_GA_F1)}', fontdict={'fontsize': 20, 'fontweight': 'medium'})\n",
        "#ax[0, 1].set_title(f'Particle Swarm Optimization (PSO) - Accuracy: {max(tracking_PSO_F1)}', fontdict={'fontsize': 20, 'fontweight': 'medium'})\n",
        "#\n",
        "#ax[1, 0].set_title(f'Grid Search - Accuracy: {max(tracking_GS_F1)}', fontdict={'fontsize': 20, 'fontweight': 'medium'})\n",
        "#ax[1, 1].set_title(f'Optuna - Accuracy: {max(tracking_Optuna_F1)}', fontdict={'fontsize': 20, 'fontweight': 'medium'})\n",
        "#\n",
        "#ax[0,0].plot(tracking_GA_F1, color = 'blue', linewidth=3, linestyle='-', )\n",
        "#ax[0,1].plot(tracking_PSO_F1, color = 'red', linewidth=3, linestyle='-')\n",
        "#\n",
        "#ax[1,0].plot(tracking_GS_F1, color = 'black', linewidth=3, linestyle='-')\n",
        "#ax[1,1].plot(tracking_Optuna_F1, color = 'green', linewidth=3, linestyle='-')\n"
      ]
    },
    {
      "attachments": {},
      "cell_type": "markdown",
      "metadata": {},
      "source": [
        "ROC AUC"
      ]
    },
    {
      "cell_type": "code",
      "execution_count": null,
      "metadata": {},
      "outputs": [],
      "source": [
        "#plt.figure(figsize=(12, 6))\n",
        "#red_patch = mpatches.Patch(color='red', label='PSO')\n",
        "#blue_patch = mpatches.Patch(color='blue', label='GA')\n",
        "#green_patch = mpatches.Patch(color='green', label='Optuna')\n",
        "##black_patch = mpatches.Patch(color='black', label='GridSearch')\n",
        "#\n",
        "#plt.legend(handles=[red_patch, blue_patch, green_patch])\n",
        "#plt.plot(AUC_GA, color = 'blue', linewidth=1, linestyle='-', )\n",
        "#plt.plot(AUC_PSO, color = 'red', linewidth=1, linestyle='-')\n",
        "#plt.plot(tracking_Optuna_AUC, color = 'green', linewidth=1, linestyle='-')\n",
        "##plt.plot(tracking_GS, color = 'black', linewidth=3, linestyle='-')\n",
        "#plt.show()"
      ]
    },
    {
      "cell_type": "code",
      "execution_count": null,
      "metadata": {},
      "outputs": [],
      "source": [
        "#fig, ax = plt.subplots(2, 2, figsize=(25,15))\n",
        "#\n",
        "#ax[0, 0].set_title(f'Genetic Algorithm (GA) - Accuracy: {max(tracking_GA_AUC)}', fontdict={'fontsize': 20, 'fontweight': 'medium'})\n",
        "#ax[0, 1].set_title(f'Particle Swarm Optimization (PSO) - Accuracy: {max(tracking_PSO_AUC)}', fontdict={'fontsize': 20, 'fontweight': 'medium'})\n",
        "#\n",
        "#ax[1, 0].set_title(f'Grid Search - Accuracy: {max(tracking_GS_AUC)}', fontdict={'fontsize': 20, 'fontweight': 'medium'})\n",
        "#ax[1, 1].set_title(f'Optuna - Accuracy: {max(tracking_Optuna_AUC)}', fontdict={'fontsize': 20, 'fontweight': 'medium'})\n",
        "#\n",
        "#ax[0,0].plot(tracking_GA_AUC, color = 'blue', linewidth=3, linestyle='-', )\n",
        "#ax[0,1].plot(tracking_PSO_AUC, color = 'red', linewidth=3, linestyle='-')\n",
        "#\n",
        "#ax[1,0].plot(tracking_GS_AUC, color = 'black', linewidth=3, linestyle='-')\n",
        "#ax[1,1].plot(tracking_Optuna_AUC, color = 'green', linewidth=3, linestyle='-')\n",
        "#"
      ]
    },
    {
      "cell_type": "code",
      "execution_count": null,
      "metadata": {},
      "outputs": [],
      "source": []
    },
    {
      "attachments": {},
      "cell_type": "markdown",
      "metadata": {},
      "source": [
        "# Random Search"
      ]
    },
    {
      "attachments": {},
      "cell_type": "markdown",
      "metadata": {},
      "source": [
        "### Accuracy"
      ]
    },
    {
      "cell_type": "code",
      "execution_count": null,
      "metadata": {},
      "outputs": [],
      "source": [
        "from scipy.stats import uniform\n",
        "from scipy.stats import randint\n",
        "from sklearn.model_selection import RandomizedSearchCV\n",
        "\n",
        "def random_search_int_range(min_l, max_l):\n",
        "    return np.arange(randint.ppf(0.01, min_l, max_l + 2),randint.ppf(0.99, min_l, max_l + 2))\n",
        "\n",
        "\n",
        "def run_random_search_accuracy(iterations = 1024):\n",
        "    param_distribution = {\n",
        "    'iterations' : random_search_int_range(iterations_min, iterations_max),\n",
        "    'learning_rate' : uniform(learning_rate_min, learning_rate_max),\n",
        "    'l2_leaf_reg' : uniform(l2_leaf_reg_min, l2_leaf_reg_max),\n",
        "    'bagging_temperature' : uniform(bagging_temperature_min, bagging_temperature_max),\n",
        "    'random_strength' : uniform(random_strength_min, random_strength_max),\n",
        "    'best_model_min_trees' : random_search_int_range(best_model_min_trees_min, best_model_min_trees_max),\n",
        "    'depth' : random_search_int_range(depth_min, depth_max),\n",
        "    'min_data_in_leaf' : random_search_int_range(min_data_in_leaf_min, min_data_in_leaf_max),\n",
        "    'max_leaves' : random_search_int_range(max_leaves_min, max_leaves_max),\n",
        "    'one_hot_max_size' : random_search_int_range(one_hot_max_size_min, one_hot_max_size_max),\n",
        "    'rsm' : uniform(rsm_min + 0.00001, rsm_max),\n",
        "    'fold_permutation_block' : random_search_int_range(fold_permutation_block_min, fold_permutation_block_max),\n",
        "    'leaf_estimation_iterations' : random_search_int_range(leaf_estimation_iterations_min, leaf_estimation_iterations_max),\n",
        "    'fold_len_multiplier' : uniform(fold_len_multiplier_min, fold_len_multiplier_max),\n",
        "    'posterior_sampling' : [posterior_sampling_min, posterior_sampling_max],\n",
        "    'allow_const_label' : [allow_const_label_min, allow_const_label_max],\n",
        "    'penalties_coefficient' : uniform(penalties_coefficient_min, penalties_coefficient_max),\n",
        "    'model_shrink_rate' : uniform(model_shrink_rate_min, model_shrink_rate_max),\n",
        "    'approx_on_full_history' : [False],\n",
        "    'grow_policy' : ['Lossguide'],\n",
        "    'loss_function' : ['MultiClass'],\n",
        "    'thread_count' :  [-1]\n",
        "    }\n",
        "\n",
        "\n",
        "\n",
        "\n",
        "    kfold = KFold(n_splits = 3, shuffle = True)\n",
        "\n",
        "    random_search_accuracy = RandomizedSearchCV(CatBoostClassifier(), param_distribution, n_iter = iterations, n_jobs = -1, cv=kfold, verbose=False)\n",
        "    random_search_accuracy.fit(x_wine, y_wine)\n",
        "\n",
        "    return random_search_accuracy.best_score_"
      ]
    },
    {
      "cell_type": "code",
      "execution_count": null,
      "metadata": {},
      "outputs": [],
      "source": [
        "from scipy.stats import uniform\n",
        "from scipy.stats import randint\n",
        "from sklearn.model_selection import RandomizedSearchCV\n",
        "\n",
        "def random_search_int_range(min_l, max_l):\n",
        "    return np.arange(randint.ppf(0.01, min_l, max_l + 2),randint.ppf(0.99, min_l, max_l + 2))\n",
        "\n",
        "\n",
        "def run_random_search_f1(iterations = 1024):\n",
        "    param_distribution = {\n",
        "    'iterations' : random_search_int_range(iterations_min, iterations_max),\n",
        "    'learning_rate' : uniform(learning_rate_min, learning_rate_max),\n",
        "    'l2_leaf_reg' : uniform(l2_leaf_reg_min, l2_leaf_reg_max),\n",
        "    'bagging_temperature' : uniform(bagging_temperature_min, bagging_temperature_max),\n",
        "    'random_strength' : uniform(random_strength_min, random_strength_max),\n",
        "    'best_model_min_trees' : random_search_int_range(best_model_min_trees_min, best_model_min_trees_max),\n",
        "    'depth' : random_search_int_range(depth_min, depth_max),\n",
        "    'min_data_in_leaf' : random_search_int_range(min_data_in_leaf_min, min_data_in_leaf_max),\n",
        "    'max_leaves' : random_search_int_range(max_leaves_min, max_leaves_max),\n",
        "    'one_hot_max_size' : random_search_int_range(one_hot_max_size_min, one_hot_max_size_max),\n",
        "    'rsm' : uniform(rsm_min + 0.00001, rsm_max),\n",
        "    'fold_permutation_block' : random_search_int_range(fold_permutation_block_min, fold_permutation_block_max),\n",
        "    'leaf_estimation_iterations' : random_search_int_range(leaf_estimation_iterations_min, leaf_estimation_iterations_max),\n",
        "    'fold_len_multiplier' : uniform(fold_len_multiplier_min, fold_len_multiplier_max),\n",
        "    'posterior_sampling' : [posterior_sampling_min, posterior_sampling_max],\n",
        "    'allow_const_label' : [allow_const_label_min, allow_const_label_max],\n",
        "    'penalties_coefficient' : uniform(penalties_coefficient_min, penalties_coefficient_max),\n",
        "    'model_shrink_rate' : uniform(model_shrink_rate_min, model_shrink_rate_max),\n",
        "    'approx_on_full_history' : [False],\n",
        "    'grow_policy' : ['Lossguide'],\n",
        "    'loss_function' : ['MultiClass'],\n",
        "    'thread_count' :  [-1]\n",
        "    }\n",
        "\n",
        "\n",
        "\n",
        "\n",
        "    kfold = KFold(n_splits = 3, shuffle = True)\n",
        "\n",
        "    random_search_accuracy = RandomizedSearchCV(CatBoostClassifier(), param_distribution, n_iter = iterations, n_jobs = -1, cv=kfold, verbose=False, scoring='f1_weighted')\n",
        "    random_search_accuracy.fit(x_wine, y_wine)\n",
        "\n",
        "    return random_search_accuracy.best_score_"
      ]
    },
    {
      "cell_type": "code",
      "execution_count": null,
      "metadata": {},
      "outputs": [],
      "source": [
        "from scipy.stats import uniform\n",
        "from scipy.stats import randint\n",
        "from sklearn.model_selection import RandomizedSearchCV\n",
        "\n",
        "def random_search_int_range(min_l, max_l):\n",
        "    return np.arange(randint.ppf(0.01, min_l, max_l + 2),randint.ppf(0.99, min_l, max_l + 2))\n",
        "\n",
        "\n",
        "def run_random_search_auc(iterations = 1024):\n",
        "    param_distribution = {\n",
        "    'iterations' : random_search_int_range(iterations_min, iterations_max),\n",
        "    'learning_rate' : uniform(learning_rate_min, learning_rate_max),\n",
        "    'l2_leaf_reg' : uniform(l2_leaf_reg_min, l2_leaf_reg_max),\n",
        "    'bagging_temperature' : uniform(bagging_temperature_min, bagging_temperature_max),\n",
        "    'random_strength' : uniform(random_strength_min, random_strength_max),\n",
        "    'best_model_min_trees' : random_search_int_range(best_model_min_trees_min, best_model_min_trees_max),\n",
        "    'depth' : random_search_int_range(depth_min, depth_max),\n",
        "    'min_data_in_leaf' : random_search_int_range(min_data_in_leaf_min, min_data_in_leaf_max),\n",
        "    'max_leaves' : random_search_int_range(max_leaves_min, max_leaves_max),\n",
        "    'one_hot_max_size' : random_search_int_range(one_hot_max_size_min, one_hot_max_size_max),\n",
        "    'rsm' : uniform(rsm_min + 0.00001, rsm_max),\n",
        "    'fold_permutation_block' : random_search_int_range(fold_permutation_block_min, fold_permutation_block_max),\n",
        "    'leaf_estimation_iterations' : random_search_int_range(leaf_estimation_iterations_min, leaf_estimation_iterations_max),\n",
        "    'fold_len_multiplier' : uniform(fold_len_multiplier_min, fold_len_multiplier_max),\n",
        "    'posterior_sampling' : [posterior_sampling_min, posterior_sampling_max],\n",
        "    'allow_const_label' : [allow_const_label_min, allow_const_label_max],\n",
        "    'penalties_coefficient' : uniform(penalties_coefficient_min, penalties_coefficient_max),\n",
        "    'model_shrink_rate' : uniform(model_shrink_rate_min, model_shrink_rate_max),\n",
        "    'approx_on_full_history' : [False],\n",
        "    'grow_policy' : ['Lossguide'],\n",
        "    'loss_function' : ['MultiClass'],\n",
        "    'thread_count' :  [-1]\n",
        "    }\n",
        "\n",
        "\n",
        "\n",
        "\n",
        "    kfold = KFold(n_splits = 3, shuffle = True)\n",
        "\n",
        "    random_search_accuracy = RandomizedSearchCV(CatBoostClassifier(), param_distribution, n_iter = iterations, n_jobs = -1, cv=kfold, verbose=False, scoring='roc_auc_ovr_weighted')\n",
        "    random_search_accuracy.fit(x_wine, y_wine)\n",
        "\n",
        "    return random_search_accuracy.best_score_"
      ]
    },
    {
      "attachments": {},
      "cell_type": "markdown",
      "metadata": {},
      "source": [
        "# Gerando Dados Para Análise "
      ]
    },
    {
      "cell_type": "code",
      "execution_count": null,
      "metadata": {},
      "outputs": [],
      "source": [
        "from tqdm import tqdm\n",
        "import pandas as pd\n",
        "from os import system\n",
        "\n",
        "def full_run(iterations):\n",
        "    filename = './Catboost_wine_data.csv'\n",
        "\n",
        "    try:\n",
        "        Catboost_data = pd.read_csv(filename)\n",
        "    except:\n",
        "        open(filename, \"a\")\n",
        "        Catboost_data = pd.DataFrame(columns=['Algorithm', 'Accuracy', 'F1', 'AUC'])\n",
        "\n",
        "\n",
        "    for i in tqdm(range(iterations)):\n",
        "        accuracy_pso, _, _ = run_accuracy_pso()\n",
        "        f1_pso, _, _ = run_f1_pso()\n",
        "        auc_pso, _, _ = run_auc_pso()\n",
        "        temp = pd.DataFrame({'Algorithm' : ['PSO'], \n",
        "                            'Accuracy' :[-accuracy_pso[0]], \n",
        "                            'F1' : [-f1_pso[0]], \n",
        "                            'AUC' : [-auc_pso[0]]})\n",
        "        #Catboost_data = Catboost_data.append(temp, ignore_index = True)\n",
        "        Catboost_data = pd.concat([Catboost_data, temp], ignore_index=True)\n",
        "        Catboost_data[['Algorithm', 'Accuracy', 'F1', 'AUC']].to_csv(filename)\n",
        "        \n",
        "        accuracy_ga, _, _ = run_accuracy_ga()\n",
        "        f1_ga, _, _ = run_f1_ga()\n",
        "        auc_ga, _, _ = run_auc_ga()\n",
        "        temp = pd.DataFrame({'Algorithm' : ['GA'], \n",
        "                            'Accuracy' :[-accuracy_ga[0]], \n",
        "                            'F1' : [-f1_ga[0]], \n",
        "                            'AUC' : [-auc_ga[0]]})\n",
        "        #Catboost_data = Catboost_data.append(temp, ignore_index = True)\n",
        "        Catboost_data = pd.concat([Catboost_data, temp], ignore_index=True)\n",
        "        Catboost_data[['Algorithm', 'Accuracy', 'F1', 'AUC']].to_csv(filename)\n",
        "        \n",
        "        accuracy_optuna, _ = run_optuna_accuracy()\n",
        "        f1_optuna, _ = run_optuna_f1()\n",
        "        auc_optuna, _ = run_optuna_auc()\n",
        "        temp = pd.DataFrame({'Algorithm' : ['Optuna'], \n",
        "                            'Accuracy' :[accuracy_optuna], \n",
        "                            'F1' : [f1_optuna], \n",
        "                            'AUC' : [auc_optuna]})\n",
        "        #Catboost_data = Catboost_data.append(temp, ignore_index = True)\n",
        "        Catboost_data = pd.concat([Catboost_data, temp], ignore_index=True)\n",
        "        Catboost_data[['Algorithm', 'Accuracy', 'F1', 'AUC']].to_csv(filename)"
      ]
    },
    {
      "cell_type": "code",
      "execution_count": 27,
      "metadata": {},
      "outputs": [],
      "source": [
        "from tqdm import tqdm\n",
        "import pandas as pd\n",
        "from os import system\n",
        "\n",
        "def full_run_pso(iterations):\n",
        "    filename = './Catboost_wine_data.csv'\n",
        "\n",
        "    try:\n",
        "        Catboost_data = pd.read_csv(filename)\n",
        "    except:\n",
        "        open(filename, \"a\")\n",
        "        Catboost_data = pd.DataFrame(columns=['Algorithm', 'Accuracy', 'F1', 'AUC'])\n",
        "\n",
        "\n",
        "    for i in tqdm(range(iterations)):\n",
        "        accuracy_pso = run_accuracy_pso()\n",
        "        f1_pso = run_f1_pso()\n",
        "        auc_pso = run_auc_pso()\n",
        "        temp = pd.DataFrame({'Algorithm' : ['PSO'], \n",
        "                            'Accuracy' :[accuracy_pso], \n",
        "                            'F1' : [f1_pso], \n",
        "                            'AUC' : [auc_pso]})\n",
        "        #Catboost_data = Catboost_data.append(temp, ignore_index = True)\n",
        "        Catboost_data = pd.concat([Catboost_data, temp], ignore_index=True)\n",
        "        Catboost_data[['Algorithm', 'Accuracy', 'F1', 'AUC']].to_csv(filename)\n",
        "        "
      ]
    },
    {
      "cell_type": "code",
      "execution_count": 28,
      "metadata": {},
      "outputs": [
        {
          "name": "stderr",
          "output_type": "stream",
          "text": [
            "  0%|          | 0/30 [00:00<?, ?it/s]2023-04-12 09:17:19,656 - pyswarms.single.global_best - INFO - Optimize for 32 iters with {'c1': 1.5, 'c2': 1.5, 'w': 0.5}\n",
            "pyswarms.single.global_best: 100%|██████████|32/32, best_cost=-.209\n",
            "2023-04-12 09:17:20,855 - pyswarms.single.global_best - INFO - Optimization finished | best cost: -0.20941590314136124, best pos: [8.79011912e+01 7.90121053e-02 1.00000000e-02 1.26220752e+03\n",
            " 4.17625398e+00 9.59949360e+00 5.57500858e+00 4.19895960e+01\n",
            " 1.36695254e+00 1.36185698e+01 7.26678094e-01 3.67496802e+01\n",
            " 2.48654371e+01 3.33142365e+00 3.13716753e+00 9.90949599e-02]\n",
            "2023-04-12 09:17:20,859 - pyswarms.single.global_best - INFO - Optimize for 32 iters with {'c1': 1.5, 'c2': 1.5, 'w': 0.5}\n",
            "pyswarms.single.global_best: 100%|██████████|32/32, best_cost=-.0782\n",
            "2023-04-12 09:17:21,686 - pyswarms.single.global_best - INFO - Optimization finished | best cost: -0.07819869798251394, best pos: [7.70625976e+01 9.04688888e-03 1.00000000e-02 2.77890670e+03\n",
            " 8.90227905e-01 4.30961070e+00 6.47170102e+00 4.62284374e+01\n",
            " 9.21174751e+00 6.40581672e+00 1.86839478e-01 5.12255732e+01\n",
            " 2.41399167e+00 2.13660340e+00 8.76302271e+00 2.85611163e-01]\n",
            "2023-04-12 09:17:21,690 - pyswarms.single.global_best - INFO - Optimize for 32 iters with {'c1': 1.5, 'c2': 1.5, 'w': 0.5}\n",
            "pyswarms.single.global_best: 100%|██████████|32/32, best_cost=-.5\n",
            "2023-04-12 09:17:22,754 - pyswarms.single.global_best - INFO - Optimization finished | best cost: -0.5, best pos: [5.01733066e+01 4.58923749e-01 1.00000000e-02 7.89504849e+02\n",
            " 7.87862474e+00 4.31595896e+00 1.67409681e+00 6.15408551e+01\n",
            " 3.90635693e+00 3.60757760e+00 5.54957757e-03 4.58429371e+01\n",
            " 4.07215363e+01 8.73991277e+00 7.76685193e+00 6.24842930e-02]\n",
            "  3%|▎         | 1/30 [00:03<01:30,  3.11s/it]2023-04-12 09:17:22,762 - pyswarms.single.global_best - INFO - Optimize for 32 iters with {'c1': 1.5, 'c2': 1.5, 'w': 0.5}\n",
            "pyswarms.single.global_best: 100%|██████████|32/32, best_cost=-.578\n",
            "2023-04-12 09:17:24,982 - pyswarms.single.global_best - INFO - Optimization finished | best cost: -0.5775278141361256, best pos: [8.48398256e+01 2.23649392e-01 1.00000000e-02 1.71468261e+01\n",
            " 6.88111021e+00 3.59312507e+00 6.11235792e+00 3.83790366e+01\n",
            " 9.88276032e+00 8.11129467e+00 1.50686393e-01 3.69630197e+00\n",
            " 4.14519868e+01 7.03041120e+00 2.44015859e+00 7.35847818e-01]\n",
            "2023-04-12 09:17:24,986 - pyswarms.single.global_best - INFO - Optimize for 32 iters with {'c1': 1.5, 'c2': 1.5, 'w': 0.5}\n",
            "pyswarms.single.global_best: 100%|██████████|32/32, best_cost=-.0814\n",
            "2023-04-12 09:17:25,769 - pyswarms.single.global_best - INFO - Optimization finished | best cost: -0.08138889822821188, best pos: [4.08460978e+01 2.24784688e-02 1.00000000e-02 1.79537515e+03\n",
            " 4.11213195e-01 7.09802379e+00 7.92500645e+00 9.87480926e+00\n",
            " 2.24647554e+00 3.87874117e+00 8.22702100e-01 3.82145975e+01\n",
            " 4.43801481e+00 4.86922962e+00 1.55876786e+00 3.38053147e-01]\n",
            "2023-04-12 09:17:25,773 - pyswarms.single.global_best - INFO - Optimize for 32 iters with {'c1': 1.5, 'c2': 1.5, 'w': 0.5}\n",
            "pyswarms.single.global_best: 100%|██████████|32/32, best_cost=-.5\n",
            "2023-04-12 09:17:27,524 - pyswarms.single.global_best - INFO - Optimization finished | best cost: -0.5, best pos: [9.19343588e+01 4.04367774e-01 1.00000000e-02 8.14338375e+03\n",
            " 9.56498014e+00 6.21140612e+00 6.90845673e+00 9.15888522e+01\n",
            " 5.32958258e+00 2.62710492e+00 8.79787266e-01 4.81306687e+01\n",
            " 5.95047695e+01 9.06604282e+00 1.62300831e+00 1.10349638e-03]\n",
            "  7%|▋         | 2/30 [00:07<01:54,  4.08s/it]2023-04-12 09:17:27,530 - pyswarms.single.global_best - INFO - Optimize for 32 iters with {'c1': 1.5, 'c2': 1.5, 'w': 0.5}\n",
            "pyswarms.single.global_best: 100%|██████████|32/32, best_cost=-.23\n",
            "2023-04-12 09:17:29,044 - pyswarms.single.global_best - INFO - Optimization finished | best cost: -0.22973658376963355, best pos: [6.10954270e+01 2.62928146e-01 1.00000000e-02 6.29900205e+03\n",
            " 7.46359657e+00 4.18468679e+00 4.06413114e+00 1.06454238e+01\n",
            " 1.18147831e+00 1.19551720e+01 1.65207638e-01 6.87031491e+01\n",
            " 7.38776349e+01 6.60045103e+00 1.69084546e+00 3.31487002e-01]\n",
            "2023-04-12 09:17:29,048 - pyswarms.single.global_best - INFO - Optimize for 32 iters with {'c1': 1.5, 'c2': 1.5, 'w': 0.5}\n",
            "pyswarms.single.global_best: 100%|██████████|32/32, best_cost=-.0806\n",
            "2023-04-12 09:17:30,316 - pyswarms.single.global_best - INFO - Optimization finished | best cost: -0.08059858300445001, best pos: [3.41707032e+01 2.48071528e-01 1.00000000e-02 4.39996920e+03\n",
            " 5.28969472e+00 3.11902300e+00 6.74858202e+00 3.60828471e+01\n",
            " 1.03385376e+00 1.62663745e+01 1.57142820e-01 4.33399004e+01\n",
            " 9.95309555e+01 3.33355620e+00 8.21328796e+00 8.18314676e-01]\n",
            "2023-04-12 09:17:30,320 - pyswarms.single.global_best - INFO - Optimize for 32 iters with {'c1': 1.5, 'c2': 1.5, 'w': 0.5}\n",
            "pyswarms.single.global_best: 100%|██████████|32/32, best_cost=-.5\n",
            "2023-04-12 09:17:31,173 - pyswarms.single.global_best - INFO - Optimization finished | best cost: -0.5, best pos: [3.36662880e+01 2.07241380e-02 1.00000000e-02 7.61438774e+03\n",
            " 8.78276572e+00 6.58328787e+00 4.96277862e+00 6.27910936e+01\n",
            " 5.14650046e+00 1.20312316e+01 7.57905603e-01 1.26539502e+00\n",
            " 2.02115456e+01 5.15447060e+00 8.81322672e+00 6.80505471e-01]\n",
            " 10%|█         | 3/30 [00:11<01:44,  3.89s/it]2023-04-12 09:17:31,180 - pyswarms.single.global_best - INFO - Optimize for 32 iters with {'c1': 1.5, 'c2': 1.5, 'w': 0.5}\n",
            "pyswarms.single.global_best: 100%|██████████|32/32, best_cost=-.221\n",
            "2023-04-12 09:17:32,504 - pyswarms.single.global_best - INFO - Optimization finished | best cost: -0.2208687827225131, best pos: [4.31142290e+01 2.92963215e-01 1.00000000e-02 5.42958186e+03\n",
            " 9.75549782e+00 6.70737243e+00 3.12222407e+00 9.30020238e+01\n",
            " 9.08740745e+00 1.46762954e+01 5.80779684e-01 3.17298606e+00\n",
            " 8.49374508e+01 4.27918670e+00 9.80994758e+00 8.47979861e-01]\n",
            "2023-04-12 09:17:32,508 - pyswarms.single.global_best - INFO - Optimize for 32 iters with {'c1': 1.5, 'c2': 1.5, 'w': 0.5}\n",
            "pyswarms.single.global_best: 100%|██████████|32/32, best_cost=-.0794\n",
            "2023-04-12 09:17:33,470 - pyswarms.single.global_best - INFO - Optimization finished | best cost: -0.07944731395190376, best pos: [2.81583082e+01 7.36068495e-02 1.00000000e-02 7.72944888e+03\n",
            " 8.08606076e+00 3.67188587e+00 4.81741972e+00 5.90952536e+01\n",
            " 9.17297564e+00 1.06026743e+01 6.00313049e-01 8.01602578e+01\n",
            " 5.60325818e+01 6.38062061e+00 5.47730874e+00 2.85768889e-01]\n",
            "2023-04-12 09:17:33,474 - pyswarms.single.global_best - INFO - Optimize for 32 iters with {'c1': 1.5, 'c2': 1.5, 'w': 0.5}\n",
            "pyswarms.single.global_best: 100%|██████████|32/32, best_cost=-.5\n",
            "2023-04-12 09:17:34,521 - pyswarms.single.global_best - INFO - Optimization finished | best cost: -0.5, best pos: [3.59070634e+01 7.06004605e-02 1.00000000e-02 4.81916133e+03\n",
            " 4.02783972e+00 2.30829177e+00 1.38493621e+00 1.83711600e+00\n",
            " 7.45255302e+00 1.01726854e+00 4.75463154e-01 4.56963150e+00\n",
            " 5.34223959e+01 4.63437647e+00 4.09812846e+00 2.01209381e-01]\n",
            " 13%|█▎        | 4/30 [00:14<01:35,  3.67s/it]2023-04-12 09:17:34,527 - pyswarms.single.global_best - INFO - Optimize for 32 iters with {'c1': 1.5, 'c2': 1.5, 'w': 0.5}\n",
            "pyswarms.single.global_best: 100%|██████████|32/32, best_cost=-.221\n",
            "2023-04-12 09:17:35,480 - pyswarms.single.global_best - INFO - Optimization finished | best cost: -0.22143869982547995, best pos: [3.18021253e+01 4.05295167e-01 1.00000000e-02 6.21771286e+03\n",
            " 4.59125596e+00 4.15204450e+00 6.16554561e+00 7.85476919e+01\n",
            " 3.07755007e+00 1.38057628e+00 5.31249673e-01 2.53148334e+01\n",
            " 4.82750427e+01 8.64338855e+00 9.12361003e+00 1.64887247e-02]\n",
            "2023-04-12 09:17:35,485 - pyswarms.single.global_best - INFO - Optimize for 32 iters with {'c1': 1.5, 'c2': 1.5, 'w': 0.5}\n",
            "pyswarms.single.global_best: 100%|██████████|32/32, best_cost=-.0862\n",
            "2023-04-12 09:17:36,655 - pyswarms.single.global_best - INFO - Optimization finished | best cost: -0.08618065653891917, best pos: [5.93894884e+01 1.15749058e-01 1.00000000e-02 1.81702808e+03\n",
            " 5.55745339e+00 1.23151328e+00 6.73304729e+00 6.47726379e+01\n",
            " 7.01683798e+00 3.42326222e+00 5.54139155e-01 4.95361804e+01\n",
            " 3.34112812e+01 3.58097823e+00 6.47917991e+00 6.71019597e-01]\n",
            "2023-04-12 09:17:36,659 - pyswarms.single.global_best - INFO - Optimize for 32 iters with {'c1': 1.5, 'c2': 1.5, 'w': 0.5}\n",
            "pyswarms.single.global_best: 100%|██████████|32/32, best_cost=-.5\n",
            "2023-04-12 09:17:37,484 - pyswarms.single.global_best - INFO - Optimization finished | best cost: -0.5, best pos: [3.00637300e+01 2.61323590e-01 1.00000000e-02 7.92680054e+03\n",
            " 2.34991962e+00 1.10831906e+00 4.07299451e+00 7.60864882e+01\n",
            " 4.00002892e+00 1.28921459e+01 9.80294383e-03 5.52898463e+01\n",
            " 2.70946813e+01 5.28853181e+00 6.68530795e+00 7.34517680e-02]\n",
            " 17%|█▋        | 5/30 [00:17<01:25,  3.42s/it]2023-04-12 09:17:37,491 - pyswarms.single.global_best - INFO - Optimize for 32 iters with {'c1': 1.5, 'c2': 1.5, 'w': 0.5}\n",
            "pyswarms.single.global_best: 100%|██████████|32/32, best_cost=-.23\n",
            "2023-04-12 09:17:38,878 - pyswarms.single.global_best - INFO - Optimization finished | best cost: -0.22971476876090752, best pos: [6.81809856e+01 4.99467732e-01 1.00000000e-02 4.29073581e+03\n",
            " 7.34663302e+00 9.45627801e+00 3.31818130e+00 8.22341003e+01\n",
            " 9.20088676e+00 7.66801766e+00 5.04168033e-01 2.27516659e+00\n",
            " 5.17135193e+01 3.40417432e+00 6.65715021e+00 9.77947312e-01]\n",
            "2023-04-12 09:17:38,883 - pyswarms.single.global_best - INFO - Optimize for 32 iters with {'c1': 1.5, 'c2': 1.5, 'w': 0.5}\n",
            "pyswarms.single.global_best: 100%|██████████|32/32, best_cost=-.074\n",
            "2023-04-12 09:17:40,607 - pyswarms.single.global_best - INFO - Optimization finished | best cost: -0.0740119549410918, best pos: [6.09601877e+01 2.00443117e-01 1.00000000e-02 3.33434391e+03\n",
            " 5.98827697e-01 8.72484963e+00 4.05531859e+00 3.89892088e+01\n",
            " 3.36137157e+00 8.48473383e+00 7.27801979e-01 6.87621000e+01\n",
            " 8.97666021e+01 5.57615050e+00 3.04756315e+00 3.93878365e-01]\n",
            "2023-04-12 09:17:40,612 - pyswarms.single.global_best - INFO - Optimize for 32 iters with {'c1': 1.5, 'c2': 1.5, 'w': 0.5}\n",
            "pyswarms.single.global_best: 100%|██████████|32/32, best_cost=-.5\n",
            "2023-04-12 09:17:41,822 - pyswarms.single.global_best - INFO - Optimization finished | best cost: -0.5, best pos: [3.65940478e+01 3.37211721e-01 1.00000000e-02 7.76400479e+03\n",
            " 3.10630521e+00 8.15590952e+00 7.47871412e+00 8.53077211e+01\n",
            " 6.04113664e+00 1.54113976e+01 1.88150957e-01 6.99666279e+01\n",
            " 7.97434543e+01 3.04091295e+00 1.83819079e+00 2.75819285e-01]\n",
            " 20%|██        | 6/30 [00:22<01:29,  3.73s/it]2023-04-12 09:17:41,829 - pyswarms.single.global_best - INFO - Optimize for 32 iters with {'c1': 1.5, 'c2': 1.5, 'w': 0.5}\n",
            "pyswarms.single.global_best: 100%|██████████|32/32, best_cost=-.215\n",
            "2023-04-12 09:17:44,125 - pyswarms.single.global_best - INFO - Optimization finished | best cost: -0.21460514834205932, best pos: [9.41046321e+01 4.71469573e-01 1.00000000e-02 6.63282223e+03\n",
            " 7.60172241e+00 2.95811314e+00 6.29813311e+00 5.07206718e+01\n",
            " 7.79367396e+00 1.87328375e+01 7.04182836e-02 7.09106332e+01\n",
            " 8.98193049e+01 5.79720161e+00 2.13004029e+00 9.28868738e-01]\n",
            "2023-04-12 09:17:44,129 - pyswarms.single.global_best - INFO - Optimize for 32 iters with {'c1': 1.5, 'c2': 1.5, 'w': 0.5}\n",
            "pyswarms.single.global_best: 100%|██████████|32/32, best_cost=-.0808\n",
            "2023-04-12 09:17:46,513 - pyswarms.single.global_best - INFO - Optimization finished | best cost: -0.08080213531362308, best pos: [9.75313895e+01 4.46901079e-01 1.00000000e-02 3.13205089e+03\n",
            " 3.86857177e-01 8.70102339e+00 5.69255658e+00 6.53870519e+01\n",
            " 5.58235972e+00 1.58545907e+01 4.77745805e-01 3.96004668e+01\n",
            " 9.50719519e+01 6.83788016e+00 8.51681828e+00 4.72484509e-01]\n",
            "2023-04-12 09:17:46,517 - pyswarms.single.global_best - INFO - Optimize for 32 iters with {'c1': 1.5, 'c2': 1.5, 'w': 0.5}\n",
            "pyswarms.single.global_best: 100%|██████████|32/32, best_cost=-.5\n",
            "2023-04-12 09:17:47,272 - pyswarms.single.global_best - INFO - Optimization finished | best cost: -0.5, best pos: [2.87479380e+01 3.48771785e-01 1.00000000e-02 4.02791531e+03\n",
            " 8.26083109e+00 7.45921515e+00 3.17393028e+00 4.79209213e+01\n",
            " 1.20094096e+00 8.50716759e+00 1.77926957e-01 2.88254002e+01\n",
            " 1.11354151e+01 9.86877592e+00 5.72491517e+00 5.30693930e-01]\n",
            " 23%|██▎       | 7/30 [00:27<01:38,  4.29s/it]2023-04-12 09:17:47,278 - pyswarms.single.global_best - INFO - Optimize for 32 iters with {'c1': 1.5, 'c2': 1.5, 'w': 0.5}\n",
            "pyswarms.single.global_best: 100%|██████████|32/32, best_cost=-.23\n",
            "2023-04-12 09:17:48,744 - pyswarms.single.global_best - INFO - Optimization finished | best cost: -0.22976112565445023, best pos: [5.13054350e+01 4.47854487e-01 1.00000000e-02 6.58066296e+03\n",
            " 7.50487663e+00 5.15243324e+00 2.66429542e+00 7.29133454e+01\n",
            " 6.44807932e+00 1.91684900e+01 3.46182214e-01 1.02671104e+01\n",
            " 8.28257796e+01 8.14237828e+00 7.18136709e+00 8.63278110e-01]\n",
            "2023-04-12 09:17:48,748 - pyswarms.single.global_best - INFO - Optimize for 32 iters with {'c1': 1.5, 'c2': 1.5, 'w': 0.5}\n",
            "pyswarms.single.global_best: 100%|██████████|32/32, best_cost=-.0863\n",
            "2023-04-12 09:17:49,615 - pyswarms.single.global_best - INFO - Optimization finished | best cost: -0.08627534413908533, best pos: [4.36334654e+01 2.85557061e-01 1.00000000e-02 9.70316301e+03\n",
            " 3.18988596e+00 1.18646053e+00 2.52602512e+00 9.47690941e+00\n",
            " 6.69091641e+00 1.90583267e+01 3.68669172e-01 4.51202434e+01\n",
            " 1.80583636e+01 9.55461684e+00 9.89223568e+00 1.49374176e-02]\n",
            "2023-04-12 09:17:49,618 - pyswarms.single.global_best - INFO - Optimize for 32 iters with {'c1': 1.5, 'c2': 1.5, 'w': 0.5}\n",
            "pyswarms.single.global_best: 100%|██████████|32/32, best_cost=-.5\n",
            "2023-04-12 09:17:50,551 - pyswarms.single.global_best - INFO - Optimization finished | best cost: -0.5, best pos: [6.53992600e+01 2.69192242e-01 1.00000000e-02 8.56599324e+03\n",
            " 9.40019299e+00 7.25896710e+00 1.69829469e+00 7.47897687e+01\n",
            " 8.87417580e+00 1.37365857e+00 6.36436769e-01 9.41139683e+01\n",
            " 1.31400210e+01 3.75803653e+00 1.57749721e+00 2.44216004e-01]\n",
            " 27%|██▋       | 8/30 [00:30<01:27,  3.97s/it]2023-04-12 09:17:50,558 - pyswarms.single.global_best - INFO - Optimize for 32 iters with {'c1': 1.5, 'c2': 1.5, 'w': 0.5}\n",
            "pyswarms.single.global_best: 100%|██████████|32/32, best_cost=-.23\n",
            "2023-04-12 09:17:51,775 - pyswarms.single.global_best - INFO - Optimization finished | best cost: -0.22977748691099475, best pos: [7.67190887e+01 1.61791994e-01 1.00000000e-02 6.74317432e+03\n",
            " 7.91926156e+00 8.57647157e+00 1.85567884e+00 4.54422853e+01\n",
            " 6.03472831e+00 7.59427117e+00 5.44685506e-01 3.77033391e+01\n",
            " 2.99853803e+01 8.84983004e+00 6.03756401e+00 1.81836197e-01]\n",
            "2023-04-12 09:17:51,779 - pyswarms.single.global_best - INFO - Optimize for 32 iters with {'c1': 1.5, 'c2': 1.5, 'w': 0.5}\n",
            "pyswarms.single.global_best: 100%|██████████|32/32, best_cost=-.0867\n",
            "2023-04-12 09:17:52,859 - pyswarms.single.global_best - INFO - Optimization finished | best cost: -0.0866746530282772, best pos: [4.03589273e+01 1.33288117e-01 1.00000000e-02 3.61795133e+03\n",
            " 1.56223325e+00 7.55985005e+00 6.29275753e+00 2.22778858e+01\n",
            " 7.23917544e+00 5.58344835e+00 6.01696145e-01 9.36808197e+01\n",
            " 4.45410424e+01 7.82237041e+00 3.03123768e+00 6.43447666e-01]\n",
            "2023-04-12 09:17:52,863 - pyswarms.single.global_best - INFO - Optimize for 32 iters with {'c1': 1.5, 'c2': 1.5, 'w': 0.5}\n",
            "pyswarms.single.global_best: 100%|██████████|32/32, best_cost=-.5\n",
            "2023-04-12 09:17:54,332 - pyswarms.single.global_best - INFO - Optimization finished | best cost: -0.5, best pos: [5.29908577e+01 4.87480602e-01 1.00000000e-02 6.22754708e+03\n",
            " 9.83248528e+00 6.23138443e+00 7.60243828e+00 2.07072642e+01\n",
            " 8.66648651e+00 5.27320581e+00 5.91904131e-01 8.20317109e+01\n",
            " 8.17399483e+01 9.91590083e+00 4.68705019e+00 1.85117808e-01]\n",
            " 30%|███       | 9/30 [00:34<01:22,  3.91s/it]2023-04-12 09:17:54,339 - pyswarms.single.global_best - INFO - Optimize for 32 iters with {'c1': 1.5, 'c2': 1.5, 'w': 0.5}\n",
            "pyswarms.single.global_best: 100%|██████████|32/32, best_cost=-.23\n",
            "2023-04-12 09:17:56,451 - pyswarms.single.global_best - INFO - Optimization finished | best cost: -0.22978566753926702, best pos: [9.57247565e+01 2.30593790e-01 1.00000000e-02 9.73980067e+03\n",
            " 8.28572641e+00 1.92176038e+00 1.33562206e+00 7.09170170e+01\n",
            " 3.77364401e+00 7.97520408e+00 8.82515561e-01 5.77053527e+01\n",
            " 7.75494357e+01 5.54833617e+00 2.25543865e+00 3.97519395e-01]\n",
            "2023-04-12 09:17:56,456 - pyswarms.single.global_best - INFO - Optimize for 32 iters with {'c1': 1.5, 'c2': 1.5, 'w': 0.5}\n",
            "pyswarms.single.global_best: 100%|██████████|32/32, best_cost=-.0866\n",
            "2023-04-12 09:17:57,691 - pyswarms.single.global_best - INFO - Optimization finished | best cost: -0.08655902135658267, best pos: [3.65701319e+01 3.02932027e-01 1.00000000e-02 9.56504492e+03\n",
            " 8.07078700e-02 4.15560390e+00 7.09094790e+00 7.67169904e+01\n",
            " 9.65039507e+00 5.69895809e+00 1.26498623e-01 2.14691382e+01\n",
            " 8.63738793e+01 7.86886158e+00 8.28381547e+00 7.54949532e-01]\n",
            "2023-04-12 09:17:57,695 - pyswarms.single.global_best - INFO - Optimize for 32 iters with {'c1': 1.5, 'c2': 1.5, 'w': 0.5}\n",
            "pyswarms.single.global_best: 100%|██████████|32/32, best_cost=-.5\n",
            "2023-04-12 09:17:58,820 - pyswarms.single.global_best - INFO - Optimization finished | best cost: -0.5, best pos: [9.47874904e+01 1.52600443e-01 1.00000000e-02 2.33518932e+03\n",
            " 3.71950384e+00 6.45053584e+00 4.32473155e+00 7.11888484e+01\n",
            " 6.13943582e+00 3.44453737e+00 9.19932365e-02 2.32005281e+01\n",
            " 1.57662356e+01 6.63464188e+00 5.65721581e+00 2.54782216e-01]\n",
            " 33%|███▎      | 10/30 [00:39<01:21,  4.09s/it]2023-04-12 09:17:58,827 - pyswarms.single.global_best - INFO - Optimize for 32 iters with {'c1': 1.5, 'c2': 1.5, 'w': 0.5}\n",
            "pyswarms.single.global_best: 100%|██████████|32/32, best_cost=-.221\n",
            "2023-04-12 09:17:59,821 - pyswarms.single.global_best - INFO - Optimization finished | best cost: -0.2213950698080279, best pos: [4.10983490e+01 3.17917106e-01 1.00000000e-02 4.01480046e+03\n",
            " 3.87598776e+00 9.78651180e+00 5.12002291e+00 1.25395335e+01\n",
            " 9.85558186e+00 6.56546927e+00 4.61457697e-01 7.11601819e+01\n",
            " 3.37311099e+01 4.97343491e+00 2.63993635e+00 5.59108943e-01]\n",
            "2023-04-12 09:17:59,825 - pyswarms.single.global_best - INFO - Optimize for 32 iters with {'c1': 1.5, 'c2': 1.5, 'w': 0.5}\n",
            "pyswarms.single.global_best: 100%|██████████|32/32, best_cost=-.0794\n",
            "2023-04-12 09:18:00,879 - pyswarms.single.global_best - INFO - Optimization finished | best cost: -0.07935524677407836, best pos: [2.20767003e+01 3.53563556e-01 1.00000000e-02 9.19657154e+03\n",
            " 7.33559917e-01 1.16244766e+00 5.11115546e+00 4.02143761e+01\n",
            " 7.66608887e+00 6.68020136e+00 2.87823436e-01 9.19180636e+01\n",
            " 9.32641746e+01 5.91370076e+00 8.10180089e+00 6.20509255e-01]\n",
            "2023-04-12 09:18:00,883 - pyswarms.single.global_best - INFO - Optimize for 32 iters with {'c1': 1.5, 'c2': 1.5, 'w': 0.5}\n",
            "pyswarms.single.global_best: 100%|██████████|32/32, best_cost=-.5\n",
            "2023-04-12 09:18:02,579 - pyswarms.single.global_best - INFO - Optimization finished | best cost: -0.5, best pos: [5.73719660e+01 1.46666909e-01 1.00000000e-02 4.19074477e+03\n",
            " 7.98255092e+00 7.26887796e+00 7.45963271e+00 6.10492646e+01\n",
            " 3.99280954e+00 1.80489889e+00 8.24008370e-01 7.67699976e+01\n",
            " 9.48738273e+01 4.74148689e+00 4.04620129e+00 8.79416093e-01]\n",
            " 37%|███▋      | 11/30 [00:42<01:15,  3.99s/it]2023-04-12 09:18:02,586 - pyswarms.single.global_best - INFO - Optimize for 32 iters with {'c1': 1.5, 'c2': 1.5, 'w': 0.5}\n",
            "pyswarms.single.global_best: 100%|██████████|32/32, best_cost=-.219\n",
            "2023-04-12 09:18:03,711 - pyswarms.single.global_best - INFO - Optimization finished | best cost: -0.21881271815008724, best pos: [9.83368251e+01 4.31487009e-01 1.00000000e-02 5.51117919e+03\n",
            " 8.29258229e-01 7.31957661e+00 2.16478904e+00 7.61039131e+01\n",
            " 9.83867704e+00 3.39050157e+00 2.10413932e-01 2.13323694e+01\n",
            " 1.32714262e+01 8.49332769e+00 7.34683640e+00 1.40768425e-01]\n",
            "2023-04-12 09:18:03,715 - pyswarms.single.global_best - INFO - Optimize for 32 iters with {'c1': 1.5, 'c2': 1.5, 'w': 0.5}\n",
            "pyswarms.single.global_best: 100%|██████████|32/32, best_cost=-.0806\n",
            "2023-04-12 09:18:04,641 - pyswarms.single.global_best - INFO - Optimization finished | best cost: -0.08060726264496607, best pos: [4.68220643e+01 4.33309261e-01 1.00000000e-02 5.27958504e+03\n",
            " 4.88717968e+00 3.17001944e+00 3.12696174e+00 5.33220934e+00\n",
            " 8.58338034e+00 1.26546902e+01 8.21752841e-01 8.09952694e+01\n",
            " 2.22853116e+01 9.27411093e+00 6.15688912e+00 5.23713491e-01]\n",
            "2023-04-12 09:18:04,646 - pyswarms.single.global_best - INFO - Optimize for 32 iters with {'c1': 1.5, 'c2': 1.5, 'w': 0.5}\n",
            "pyswarms.single.global_best: 100%|██████████|32/32, best_cost=-.5\n",
            "2023-04-12 09:18:06,079 - pyswarms.single.global_best - INFO - Optimization finished | best cost: -0.5, best pos: [5.57896566e+01 1.53210264e-01 1.00000000e-02 4.32816724e+03\n",
            " 6.60409738e-01 1.92912883e+00 2.85612077e+00 3.03022108e+01\n",
            " 7.26858232e+00 1.02395496e+01 4.52955803e-01 5.18937110e+01\n",
            " 7.03025117e+01 7.50208584e+00 1.25027950e+00 4.76465373e-01]\n",
            " 40%|████      | 12/30 [00:46<01:09,  3.84s/it]2023-04-12 09:18:06,086 - pyswarms.single.global_best - INFO - Optimize for 32 iters with {'c1': 1.5, 'c2': 1.5, 'w': 0.5}\n",
            "pyswarms.single.global_best: 100%|██████████|32/32, best_cost=-.23\n",
            "2023-04-12 09:18:07,536 - pyswarms.single.global_best - INFO - Optimization finished | best cost: -0.22975294502617802, best pos: [5.08631589e+01 1.96009289e-01 1.00000000e-02 3.83654434e+03\n",
            " 9.96474508e+00 2.25984352e+00 2.92529347e+00 1.19288897e+01\n",
            " 2.87586757e+00 3.94191857e+00 9.58356210e-01 7.85281525e+01\n",
            " 8.16222643e+01 3.22140276e+00 6.84616168e+00 8.39515661e-01]\n",
            "2023-04-12 09:18:07,540 - pyswarms.single.global_best - INFO - Optimize for 32 iters with {'c1': 1.5, 'c2': 1.5, 'w': 0.5}\n",
            "pyswarms.single.global_best: 100%|██████████|32/32, best_cost=-.0779\n",
            "2023-04-12 09:18:09,463 - pyswarms.single.global_best - INFO - Optimization finished | best cost: -0.07785956625339094, best pos: [7.50993868e+01 7.48869769e-02 1.00000000e-02 3.24666247e+03\n",
            " 6.41984174e+00 5.02991836e+00 6.35921249e+00 5.08364184e+01\n",
            " 5.95472850e+00 1.27175331e+01 1.01675372e-01 9.05806131e+01\n",
            " 8.75379933e+01 5.82697704e+00 7.53634360e+00 8.89655071e-01]\n",
            "2023-04-12 09:18:09,467 - pyswarms.single.global_best - INFO - Optimize for 32 iters with {'c1': 1.5, 'c2': 1.5, 'w': 0.5}\n",
            "pyswarms.single.global_best: 100%|██████████|32/32, best_cost=-.5\n",
            "2023-04-12 09:18:10,466 - pyswarms.single.global_best - INFO - Optimization finished | best cost: -0.5, best pos: [4.22421778e+01 2.13183585e-01 1.00000000e-02 7.95532361e+03\n",
            " 5.42275342e+00 2.66214744e+00 7.31183648e+00 5.95766483e+00\n",
            " 9.84306357e+00 3.37951601e+00 8.93799142e-01 1.99947523e+01\n",
            " 3.66532516e+01 9.44943596e+00 6.97182790e+00 5.57590879e-02]\n",
            " 43%|████▎     | 13/30 [00:50<01:08,  4.01s/it]2023-04-12 09:18:10,474 - pyswarms.single.global_best - INFO - Optimize for 32 iters with {'c1': 1.5, 'c2': 1.5, 'w': 0.5}\n",
            "pyswarms.single.global_best: 100%|██████████|32/32, best_cost=-.22\n",
            "2023-04-12 09:18:11,546 - pyswarms.single.global_best - INFO - Optimization finished | best cost: -0.21983529668411866, best pos: [6.91964327e+01 3.48044389e-01 1.00000000e-02 9.61120945e+02\n",
            " 7.35209648e+00 5.92382320e+00 2.52248762e+00 2.56585664e+00\n",
            " 6.43130145e+00 6.83011375e+00 8.00268030e-01 2.49451470e+01\n",
            " 1.85402996e+01 3.31709965e+00 8.84542072e+00 3.27034280e-01]\n",
            "2023-04-12 09:18:11,549 - pyswarms.single.global_best - INFO - Optimize for 32 iters with {'c1': 1.5, 'c2': 1.5, 'w': 0.5}\n",
            "pyswarms.single.global_best: 100%|██████████|32/32, best_cost=-.0871\n",
            "2023-04-12 09:18:12,386 - pyswarms.single.global_best - INFO - Optimization finished | best cost: -0.08706072738531818, best pos: [2.21198535e+01 2.34620943e-01 1.00000000e-02 6.43063391e+03\n",
            " 4.79960736e+00 4.81527171e+00 3.37724832e+00 6.39660148e+00\n",
            " 9.90601067e+00 1.01176133e+01 7.98622836e-02 2.84412027e+01\n",
            " 4.43615681e+01 6.68351720e+00 1.60254403e+00 4.25956955e-02]\n",
            "2023-04-12 09:18:12,390 - pyswarms.single.global_best - INFO - Optimize for 32 iters with {'c1': 1.5, 'c2': 1.5, 'w': 0.5}\n",
            "pyswarms.single.global_best: 100%|██████████|32/32, best_cost=-.5\n",
            "2023-04-12 09:18:13,185 - pyswarms.single.global_best - INFO - Optimization finished | best cost: -0.5, best pos: [3.11738176e+01 7.24523691e-02 1.00000000e-02 7.55613940e+03\n",
            " 3.99703201e+00 4.47419756e+00 2.68309892e+00 8.88098075e+01\n",
            " 3.92739903e+00 1.91439496e+01 9.76278190e-01 4.07039531e+01\n",
            " 1.12751419e+01 4.83551585e+00 4.50934998e+00 6.83823855e-01]\n",
            " 47%|████▋     | 14/30 [00:53<00:57,  3.62s/it]2023-04-12 09:18:13,192 - pyswarms.single.global_best - INFO - Optimize for 32 iters with {'c1': 1.5, 'c2': 1.5, 'w': 0.5}\n",
            "pyswarms.single.global_best: 100%|██████████|32/32, best_cost=-.221\n",
            "2023-04-12 09:18:14,347 - pyswarms.single.global_best - INFO - Optimization finished | best cost: -0.2208824171029668, best pos: [9.12663460e+01 1.77350477e-01 1.00000000e-02 1.87566995e+03\n",
            " 6.21630233e+00 3.27581535e+00 5.59556412e+00 2.84468429e+01\n",
            " 7.56576592e+00 3.70370134e+00 4.83162760e-01 4.31102051e+01\n",
            " 1.55634134e+01 6.96084770e+00 4.28876108e+00 1.09763600e-01]\n",
            "2023-04-12 09:18:14,351 - pyswarms.single.global_best - INFO - Optimize for 32 iters with {'c1': 1.5, 'c2': 1.5, 'w': 0.5}\n",
            "pyswarms.single.global_best: 100%|██████████|32/32, best_cost=-.0677\n",
            "2023-04-12 09:18:16,370 - pyswarms.single.global_best - INFO - Optimization finished | best cost: -0.06774902217530539, best pos: [9.82198464e+01 4.24692500e-02 1.00000000e-02 2.98374389e+03\n",
            " 4.27970254e-01 9.22450569e+00 5.20334921e+00 7.71645902e+01\n",
            " 7.39359759e+00 1.22750971e+01 3.96689423e-01 7.06694680e+01\n",
            " 6.69260737e+01 2.11481183e+00 8.62285655e+00 9.38276990e-01]\n",
            "2023-04-12 09:18:16,374 - pyswarms.single.global_best - INFO - Optimize for 32 iters with {'c1': 1.5, 'c2': 1.5, 'w': 0.5}\n",
            "pyswarms.single.global_best: 100%|██████████|32/32, best_cost=-.5\n",
            "2023-04-12 09:18:17,451 - pyswarms.single.global_best - INFO - Optimization finished | best cost: -0.5, best pos: [7.55288471e+01 4.59537616e-01 1.00000000e-02 7.32104397e+01\n",
            " 5.61108498e+00 3.54730907e+00 6.24651114e+00 6.04463312e+01\n",
            " 5.52601145e+00 1.04781939e+01 8.43550629e-01 4.04296622e+01\n",
            " 1.59630692e+01 8.60409917e+00 6.45454359e+00 6.59234627e-01]\n",
            " 50%|█████     | 15/30 [00:57<00:57,  3.81s/it]2023-04-12 09:18:17,458 - pyswarms.single.global_best - INFO - Optimize for 32 iters with {'c1': 1.5, 'c2': 1.5, 'w': 0.5}\n",
            "pyswarms.single.global_best: 100%|██████████|32/32, best_cost=-.222\n",
            "2023-04-12 09:18:18,204 - pyswarms.single.global_best - INFO - Optimization finished | best cost: -0.22192953752181502, best pos: [3.23861903e+01 1.83969417e-02 1.00000000e-02 8.93260500e+03\n",
            " 4.27941838e+00 3.04158815e+00 4.15213847e+00 2.43099783e+01\n",
            " 3.43936446e+00 8.78420737e+00 2.46299720e-01 2.78339587e+01\n",
            " 8.91435755e+00 5.57203111e+00 3.53086439e+00 9.76359454e-01]\n",
            "2023-04-12 09:18:18,208 - pyswarms.single.global_best - INFO - Optimize for 32 iters with {'c1': 1.5, 'c2': 1.5, 'w': 0.5}\n",
            "pyswarms.single.global_best: 100%|██████████|32/32, best_cost=-.0875\n",
            "2023-04-12 09:18:20,536 - pyswarms.single.global_best - INFO - Optimization finished | best cost: -0.0875449901771383, best pos: [9.33065825e+01 2.84258023e-01 1.00000000e-02 6.26393068e+03\n",
            " 6.81813332e+00 6.17978743e+00 1.68768282e+00 6.49981880e+01\n",
            " 3.82088147e+00 1.86138197e+01 1.54608874e-01 2.67712040e+01\n",
            " 9.45371346e+01 2.74729039e+00 8.56579137e+00 4.60708426e-01]\n",
            "2023-04-12 09:18:20,540 - pyswarms.single.global_best - INFO - Optimize for 32 iters with {'c1': 1.5, 'c2': 1.5, 'w': 0.5}\n",
            "pyswarms.single.global_best: 100%|██████████|32/32, best_cost=-.5\n",
            "2023-04-12 09:18:22,003 - pyswarms.single.global_best - INFO - Optimization finished | best cost: -0.5, best pos: [5.70677531e+01 1.49201748e-01 1.00000000e-02 8.22070575e+03\n",
            " 7.95855311e+00 7.90789234e+00 6.60583178e+00 5.90722675e+01\n",
            " 7.66584223e+00 1.75799368e+01 6.28632428e-01 8.17386836e+00\n",
            " 7.10316573e+01 4.11997068e+00 2.45542575e+00 5.17705693e-01]\n",
            " 53%|█████▎    | 16/30 [01:02<00:56,  4.03s/it]2023-04-12 09:18:22,009 - pyswarms.single.global_best - INFO - Optimize for 32 iters with {'c1': 1.5, 'c2': 1.5, 'w': 0.5}\n",
            "pyswarms.single.global_best: 100%|██████████|32/32, best_cost=-.221\n",
            "2023-04-12 09:18:22,814 - pyswarms.single.global_best - INFO - Optimization finished | best cost: -0.22144960732984292, best pos: [4.21064534e+01 3.74565227e-01 1.00000000e-02 9.51081727e+03\n",
            " 3.59730326e+00 8.60494781e+00 7.73416688e+00 3.88258313e+01\n",
            " 7.15170468e+00 1.79973285e+01 8.22352596e-01 3.86235467e+01\n",
            " 8.62626210e+00 9.50018546e+00 9.83617916e+00 3.52269552e-01]\n",
            "2023-04-12 09:18:22,819 - pyswarms.single.global_best - INFO - Optimize for 32 iters with {'c1': 1.5, 'c2': 1.5, 'w': 0.5}\n",
            "pyswarms.single.global_best: 100%|██████████|32/32, best_cost=-.0804\n",
            "2023-04-12 09:18:24,399 - pyswarms.single.global_best - INFO - Optimization finished | best cost: -0.0803685607803404, best pos: [5.90216816e+01 1.94639550e-01 1.00000000e-02 4.89521713e+03\n",
            " 3.02075388e-01 5.65730343e+00 3.95555250e+00 7.32248571e+01\n",
            " 8.64894348e+00 1.23392283e+01 6.80412235e-01 9.39803816e+01\n",
            " 8.09006570e+01 5.09945953e+00 5.96470607e+00 4.74879140e-01]\n",
            "2023-04-12 09:18:24,404 - pyswarms.single.global_best - INFO - Optimize for 32 iters with {'c1': 1.5, 'c2': 1.5, 'w': 0.5}\n",
            "pyswarms.single.global_best: 100%|██████████|32/32, best_cost=-.5\n",
            "2023-04-12 09:18:26,767 - pyswarms.single.global_best - INFO - Optimization finished | best cost: -0.5, best pos: [9.71361750e+01 1.89264726e-01 1.00000000e-02 6.66867972e+03\n",
            " 7.64256131e+00 2.46426314e+00 7.46833596e+00 2.85923802e+01\n",
            " 9.72268844e+00 1.92495975e+01 6.81758892e-03 4.50800335e+01\n",
            " 9.04422378e+01 2.38394213e+00 1.90287696e+00 6.83682092e-01]\n",
            " 57%|█████▋    | 17/30 [01:07<00:55,  4.25s/it]2023-04-12 09:18:26,773 - pyswarms.single.global_best - INFO - Optimize for 32 iters with {'c1': 1.5, 'c2': 1.5, 'w': 0.5}\n",
            "pyswarms.single.global_best: 100%|██████████|32/32, best_cost=-.23\n",
            "2023-04-12 09:18:28,490 - pyswarms.single.global_best - INFO - Optimization finished | best cost: -0.22976112565445028, best pos: [6.61579108e+01 3.05445434e-01 1.00000000e-02 3.51545683e+03\n",
            " 4.06167155e+00 6.62935595e+00 1.84374681e+00 8.54899311e+01\n",
            " 2.66710918e+00 1.50100156e+01 4.42721676e-01 1.65068771e+01\n",
            " 8.41219076e+01 3.26576651e+00 3.47182329e+00 4.75205712e-01]\n",
            "2023-04-12 09:18:28,495 - pyswarms.single.global_best - INFO - Optimize for 32 iters with {'c1': 1.5, 'c2': 1.5, 'w': 0.5}\n",
            "pyswarms.single.global_best: 100%|██████████|32/32, best_cost=-.0776\n",
            "2023-04-12 09:18:29,458 - pyswarms.single.global_best - INFO - Optimization finished | best cost: -0.07761946541396485, best pos: [4.44576543e+01 3.39163687e-01 1.00000000e-02 2.67697283e+03\n",
            " 9.65449732e+00 6.05864802e+00 2.30097755e+00 4.68624186e+01\n",
            " 5.40718903e+00 7.14575524e+00 9.09574845e-01 3.58159680e+01\n",
            " 2.92547240e+01 4.43897650e+00 6.10104996e+00 5.40026346e-02]\n",
            "2023-04-12 09:18:29,462 - pyswarms.single.global_best - INFO - Optimize for 32 iters with {'c1': 1.5, 'c2': 1.5, 'w': 0.5}\n",
            "pyswarms.single.global_best: 100%|██████████|32/32, best_cost=-.5\n",
            "2023-04-12 09:18:30,686 - pyswarms.single.global_best - INFO - Optimization finished | best cost: -0.5, best pos: [6.99670904e+01 2.69396141e-01 1.00000000e-02 9.99317291e+03\n",
            " 2.04982322e+00 5.85670928e+00 5.74237662e+00 9.75371961e+01\n",
            " 1.23569259e+00 1.34054505e+01 8.60844537e-01 5.65447679e+01\n",
            " 3.21465396e+01 5.75216430e+00 8.42674033e+00 9.58228825e-01]\n",
            " 60%|██████    | 18/30 [01:11<00:49,  4.15s/it]2023-04-12 09:18:30,693 - pyswarms.single.global_best - INFO - Optimize for 32 iters with {'c1': 1.5, 'c2': 1.5, 'w': 0.5}\n",
            "pyswarms.single.global_best: 100%|██████████|32/32, best_cost=-.23\n",
            "2023-04-12 09:18:31,458 - pyswarms.single.global_best - INFO - Optimization finished | best cost: -0.22971749563699828, best pos: [4.51750077e+01 1.92632792e-01 1.00000000e-02 1.12766851e+03\n",
            " 7.41528158e+00 3.72804864e+00 6.17992301e+00 5.24388291e+01\n",
            " 8.62543017e+00 1.36665933e+01 6.37784221e-01 2.85168548e+00\n",
            " 3.17450494e+00 3.50737099e+00 9.79006198e+00 7.19142833e-01]\n",
            "2023-04-12 09:18:31,462 - pyswarms.single.global_best - INFO - Optimize for 32 iters with {'c1': 1.5, 'c2': 1.5, 'w': 0.5}\n",
            "pyswarms.single.global_best: 100%|██████████|32/32, best_cost=-.0814\n",
            "2023-04-12 09:18:33,665 - pyswarms.single.global_best - INFO - Optimization finished | best cost: -0.08144532606513834, best pos: [9.21015759e+01 2.61328685e-01 1.00000000e-02 7.98852973e+03\n",
            " 1.94481162e+00 9.42591399e+00 4.59514513e+00 8.13003732e+01\n",
            " 8.13984393e+00 1.21647517e+01 6.97363615e-01 3.40512044e+01\n",
            " 8.72322791e+01 7.99250495e+00 1.58261044e+00 4.21342680e-01]\n",
            "2023-04-12 09:18:33,669 - pyswarms.single.global_best - INFO - Optimize for 32 iters with {'c1': 1.5, 'c2': 1.5, 'w': 0.5}\n",
            "pyswarms.single.global_best: 100%|██████████|32/32, best_cost=-.5\n",
            "2023-04-12 09:18:35,286 - pyswarms.single.global_best - INFO - Optimization finished | best cost: -0.5, best pos: [7.65380972e+01 3.07369534e-02 1.00000000e-02 1.30480538e+03\n",
            " 4.99808008e-01 8.65391496e+00 1.40576759e+00 3.34128548e+01\n",
            " 5.43451511e+00 1.88161160e+01 8.65296189e-01 7.78563596e+01\n",
            " 5.68934293e+01 6.65694982e+00 1.84240678e+00 2.86261521e-01]\n",
            " 63%|██████▎   | 19/30 [01:15<00:47,  4.29s/it]2023-04-12 09:18:35,293 - pyswarms.single.global_best - INFO - Optimize for 32 iters with {'c1': 1.5, 'c2': 1.5, 'w': 0.5}\n",
            "pyswarms.single.global_best: 100%|██████████|32/32, best_cost=-.23\n",
            "2023-04-12 09:18:36,513 - pyswarms.single.global_best - INFO - Optimization finished | best cost: -0.2297256762652705, best pos: [5.50996443e+01 4.77752961e-01 1.00000000e-02 4.05039175e+03\n",
            " 5.87113534e+00 4.73992219e+00 1.64170994e+00 4.15315138e+01\n",
            " 7.34602450e+00 8.77212457e+00 5.41943481e-01 7.65231033e+01\n",
            " 4.35884719e+01 8.30475396e+00 3.80215011e+00 9.34538146e-01]\n",
            "2023-04-12 09:18:36,517 - pyswarms.single.global_best - INFO - Optimize for 32 iters with {'c1': 1.5, 'c2': 1.5, 'w': 0.5}\n",
            "pyswarms.single.global_best: 100%|██████████|32/32, best_cost=-.0712\n",
            "2023-04-12 09:18:37,684 - pyswarms.single.global_best - INFO - Optimization finished | best cost: -0.07123030006473009, best pos: [3.29874359e+01 3.68570353e-01 1.00000000e-02 8.59552407e+03\n",
            " 1.55393102e+00 8.56267509e+00 3.14637103e+00 7.39269575e+01\n",
            " 1.40228331e+00 1.04345790e+01 5.00887233e-01 9.11174448e+01\n",
            " 8.27214729e+01 6.42186864e+00 5.72005360e+00 2.06223039e-01]\n",
            "2023-04-12 09:18:37,688 - pyswarms.single.global_best - INFO - Optimize for 32 iters with {'c1': 1.5, 'c2': 1.5, 'w': 0.5}\n",
            "pyswarms.single.global_best: 100%|██████████|32/32, best_cost=-.5\n",
            "2023-04-12 09:18:38,828 - pyswarms.single.global_best - INFO - Optimization finished | best cost: -0.5, best pos: [8.49042168e+01 2.73058024e-01 1.00000000e-02 1.79443717e+03\n",
            " 6.56329638e+00 3.51877626e+00 5.05687934e+00 1.85587369e+01\n",
            " 4.21476607e+00 1.23700266e+01 3.64192823e-01 8.64538075e+01\n",
            " 1.52996375e+01 5.72756007e+00 7.75794931e+00 8.73412242e-01]\n",
            " 67%|██████▋   | 20/30 [01:19<00:40,  4.06s/it]2023-04-12 09:18:38,835 - pyswarms.single.global_best - INFO - Optimize for 32 iters with {'c1': 1.5, 'c2': 1.5, 'w': 0.5}\n",
            "pyswarms.single.global_best: 100%|██████████|32/32, best_cost=-.23\n",
            "2023-04-12 09:18:39,852 - pyswarms.single.global_best - INFO - Optimization finished | best cost: -0.22973385689354275, best pos: [8.24502110e+01 3.74636565e-01 1.00000000e-02 6.05425917e+02\n",
            " 3.16880205e+00 7.76762335e+00 6.31723737e+00 1.59667496e+01\n",
            " 9.40930169e+00 5.11775389e+00 3.33706239e-02 9.74850524e+01\n",
            " 1.27436801e+01 2.47776355e+00 4.46139086e+00 8.82351507e-01]\n",
            "2023-04-12 09:18:39,856 - pyswarms.single.global_best - INFO - Optimize for 32 iters with {'c1': 1.5, 'c2': 1.5, 'w': 0.5}\n",
            "pyswarms.single.global_best: 100%|██████████|32/32, best_cost=-.0871\n",
            "2023-04-12 09:18:41,130 - pyswarms.single.global_best - INFO - Optimization finished | best cost: -0.08705807814355201, best pos: [7.83046029e+01 3.22528929e-02 1.00000000e-02 6.34828477e+03\n",
            " 3.37343412e+00 8.61561808e+00 7.35577841e+00 5.93282985e+01\n",
            " 4.13995930e+00 1.42829826e+01 7.16840263e-01 5.66003808e+01\n",
            " 2.84740094e+01 9.72907096e+00 2.24604908e+00 3.42633404e-01]\n",
            "2023-04-12 09:18:41,134 - pyswarms.single.global_best - INFO - Optimize for 32 iters with {'c1': 1.5, 'c2': 1.5, 'w': 0.5}\n",
            "pyswarms.single.global_best: 100%|██████████|32/32, best_cost=-.5\n",
            "2023-04-12 09:18:42,243 - pyswarms.single.global_best - INFO - Optimization finished | best cost: -0.5, best pos: [4.66004200e+01 2.71172941e-01 1.00000000e-02 3.82417674e+03\n",
            " 9.08300137e+00 2.18106576e+00 1.45516809e+00 9.51740279e+01\n",
            " 8.09492771e+00 1.30693966e+01 7.05869786e-01 8.60177726e+01\n",
            " 4.32522528e+01 3.08343926e+00 2.91015266e+00 8.41562625e-01]\n",
            " 70%|███████   | 21/30 [01:22<00:34,  3.87s/it]2023-04-12 09:18:42,250 - pyswarms.single.global_best - INFO - Optimize for 32 iters with {'c1': 1.5, 'c2': 1.5, 'w': 0.5}\n",
            "pyswarms.single.global_best: 100%|██████████|32/32, best_cost=-.218\n",
            "2023-04-12 09:18:43,445 - pyswarms.single.global_best - INFO - Optimization finished | best cost: -0.21775741710296687, best pos: [7.82080900e+01 1.42925847e-01 1.00000000e-02 9.46321913e+03\n",
            " 4.42721487e-01 5.89913896e+00 1.33821393e+00 4.90352852e+01\n",
            " 1.80298175e+00 1.10951559e+01 1.42699314e-01 3.85600335e+01\n",
            " 2.19216703e+01 4.02813878e+00 9.15107768e+00 6.36380332e-01]\n",
            "2023-04-12 09:18:43,449 - pyswarms.single.global_best - INFO - Optimize for 32 iters with {'c1': 1.5, 'c2': 1.5, 'w': 0.5}\n",
            "pyswarms.single.global_best: 100%|██████████|32/32, best_cost=-.0719\n",
            "2023-04-12 09:18:45,093 - pyswarms.single.global_best - INFO - Optimization finished | best cost: -0.07190140912282578, best pos: [5.58603495e+01 7.51211179e-02 1.00000000e-02 2.94094845e+03\n",
            " 2.55106240e+00 2.83890729e+00 3.61868630e+00 1.52022704e+01\n",
            " 1.30241061e+00 1.06244455e+01 3.45797126e-02 1.32720422e+01\n",
            " 8.63858652e+01 6.04018887e+00 5.32349250e+00 2.09668308e-01]\n",
            "2023-04-12 09:18:45,098 - pyswarms.single.global_best - INFO - Optimize for 32 iters with {'c1': 1.5, 'c2': 1.5, 'w': 0.5}\n",
            "pyswarms.single.global_best: 100%|██████████|32/32, best_cost=-.5\n",
            "2023-04-12 09:18:46,809 - pyswarms.single.global_best - INFO - Optimization finished | best cost: -0.5, best pos: [8.25403675e+01 3.32798555e-01 1.00000000e-02 8.25036604e+03\n",
            " 3.86542765e-01 8.87381949e+00 3.16828911e+00 9.13810857e+01\n",
            " 2.60976311e+00 1.67523063e+01 2.21510458e-01 3.31790807e+01\n",
            " 5.77735404e+01 8.64022497e+00 1.65894136e+00 6.35590648e-01]\n",
            " 73%|███████▎  | 22/30 [01:27<00:32,  4.08s/it]2023-04-12 09:18:46,816 - pyswarms.single.global_best - INFO - Optimize for 32 iters with {'c1': 1.5, 'c2': 1.5, 'w': 0.5}\n",
            "pyswarms.single.global_best: 100%|██████████|32/32, best_cost=-.23\n",
            "2023-04-12 09:18:47,680 - pyswarms.single.global_best - INFO - Optimization finished | best cost: -0.22979112129144852, best pos: [3.53163152e+01 3.10867051e-01 1.00000000e-02 9.44314003e+02\n",
            " 8.27409461e-01 7.70686161e+00 3.01659637e+00 1.95940142e+01\n",
            " 8.23807713e+00 4.81987494e+00 5.93851250e-01 7.80860148e+01\n",
            " 2.24784483e+01 5.36584709e+00 1.59580654e+00 1.25246273e-01]\n",
            "2023-04-12 09:18:47,684 - pyswarms.single.global_best - INFO - Optimize for 32 iters with {'c1': 1.5, 'c2': 1.5, 'w': 0.5}\n",
            "pyswarms.single.global_best: 100%|██████████|32/32, best_cost=-.0795\n",
            "2023-04-12 09:18:48,916 - pyswarms.single.global_best - INFO - Optimization finished | best cost: -0.07950156016698201, best pos: [4.52048989e+01 8.81362549e-02 1.00000000e-02 4.63736833e+03\n",
            " 8.21043096e+00 4.01364379e+00 3.46208098e+00 1.02221432e+01\n",
            " 4.92317909e+00 4.86368823e+00 5.55410457e-01 4.99854961e+01\n",
            " 6.26637913e+01 3.66768000e+00 8.71658710e+00 4.07566138e-02]\n",
            "2023-04-12 09:18:48,920 - pyswarms.single.global_best - INFO - Optimize for 32 iters with {'c1': 1.5, 'c2': 1.5, 'w': 0.5}\n",
            "pyswarms.single.global_best: 100%|██████████|32/32, best_cost=-.5\n",
            "2023-04-12 09:18:50,897 - pyswarms.single.global_best - INFO - Optimization finished | best cost: -0.5, best pos: [8.02741786e+01 1.06274248e-01 1.00000000e-02 7.08661040e+03\n",
            " 8.70611748e+00 9.73840412e+00 2.00850670e+00 2.97893914e+01\n",
            " 2.56656498e+00 6.42589611e+00 5.51627098e-02 9.59634773e+01\n",
            " 8.43214285e+01 3.47557417e+00 4.64090680e+00 5.30515130e-02]\n",
            " 77%|███████▋  | 23/30 [01:31<00:28,  4.08s/it]2023-04-12 09:18:50,904 - pyswarms.single.global_best - INFO - Optimize for 32 iters with {'c1': 1.5, 'c2': 1.5, 'w': 0.5}\n",
            "pyswarms.single.global_best: 100%|██████████|32/32, best_cost=-.219\n",
            "2023-04-12 09:18:52,825 - pyswarms.single.global_best - INFO - Optimization finished | best cost: -0.21929810209424083, best pos: [8.80632276e+01 2.46299890e-03 1.00000000e-02 1.64452137e+03\n",
            " 3.90842387e+00 8.48045343e+00 6.36117145e+00 8.27729380e+01\n",
            " 1.77320085e+00 8.18625731e+00 5.29241712e-01 8.90187691e+01\n",
            " 7.16885453e+01 3.42188740e+00 8.70769266e+00 6.38393133e-01]\n",
            "2023-04-12 09:18:52,829 - pyswarms.single.global_best - INFO - Optimize for 32 iters with {'c1': 1.5, 'c2': 1.5, 'w': 0.5}\n",
            "pyswarms.single.global_best: 100%|██████████|32/32, best_cost=-.073\n",
            "2023-04-12 09:18:53,848 - pyswarms.single.global_best - INFO - Optimization finished | best cost: -0.07298701190494525, best pos: [3.51040896e+01 4.25446391e-01 1.00000000e-02 9.64349536e+02\n",
            " 7.17384826e+00 7.10857144e+00 5.07861029e+00 1.08586717e+01\n",
            " 1.91928112e+00 1.17251826e+01 2.24997098e-01 6.31447888e+01\n",
            " 5.11176820e+01 2.92993074e+00 2.61101596e+00 7.28966882e-03]\n",
            "2023-04-12 09:18:53,852 - pyswarms.single.global_best - INFO - Optimize for 32 iters with {'c1': 1.5, 'c2': 1.5, 'w': 0.5}\n",
            "pyswarms.single.global_best: 100%|██████████|32/32, best_cost=-.5\n",
            "2023-04-12 09:18:54,889 - pyswarms.single.global_best - INFO - Optimization finished | best cost: -0.5, best pos: [5.40324204e+01 1.90604632e-01 1.00000000e-02 2.46943789e+03\n",
            " 6.46915712e+00 2.25365926e+00 7.99389586e+00 2.34658121e+01\n",
            " 4.10904213e+00 1.16058147e+01 5.96089790e-01 5.14894971e+01\n",
            " 2.88302337e+01 2.87637657e+00 9.24591658e+00 9.65132380e-01]\n",
            " 80%|████████  | 24/30 [01:35<00:24,  4.05s/it]2023-04-12 09:18:54,896 - pyswarms.single.global_best - INFO - Optimize for 32 iters with {'c1': 1.5, 'c2': 1.5, 'w': 0.5}\n",
            "pyswarms.single.global_best: 100%|██████████|32/32, best_cost=-.205\n",
            "2023-04-12 09:18:55,592 - pyswarms.single.global_best - INFO - Optimization finished | best cost: -0.2052383289703316, best pos: [2.38273325e+01 1.58781259e-01 1.00000000e-02 2.24294229e+03\n",
            " 7.83399557e+00 3.31961638e+00 7.54476673e+00 4.06045813e+01\n",
            " 4.51619524e+00 1.47535938e+01 1.85796152e-01 2.79294498e+01\n",
            " 2.85450497e+00 8.50231365e+00 5.17279692e+00 4.97531958e-01]\n",
            "2023-04-12 09:18:55,596 - pyswarms.single.global_best - INFO - Optimize for 32 iters with {'c1': 1.5, 'c2': 1.5, 'w': 0.5}\n",
            "pyswarms.single.global_best: 100%|██████████|32/32, best_cost=-.0822\n",
            "2023-04-12 09:18:57,103 - pyswarms.single.global_best - INFO - Optimization finished | best cost: -0.08224648752209722, best pos: [9.27451569e+01 4.49353239e-01 1.00000000e-02 2.88971104e+03\n",
            " 5.31456820e+00 8.00942418e+00 2.96465384e+00 2.47389984e+01\n",
            " 5.29231798e+00 3.04323751e+00 4.26004923e-01 9.51325071e+01\n",
            " 3.49267136e+01 8.69153074e+00 4.94213597e+00 7.68221726e-01]\n",
            "2023-04-12 09:18:57,107 - pyswarms.single.global_best - INFO - Optimize for 32 iters with {'c1': 1.5, 'c2': 1.5, 'w': 0.5}\n",
            "pyswarms.single.global_best: 100%|██████████|32/32, best_cost=-.5\n",
            "2023-04-12 09:18:58,218 - pyswarms.single.global_best - INFO - Optimization finished | best cost: -0.5, best pos: [6.56995086e+01 1.18003501e-01 1.00000000e-02 3.23657065e+03\n",
            " 4.25682551e+00 8.09903016e+00 2.01906564e+00 8.29390080e+01\n",
            " 7.67701340e+00 3.68050383e+00 3.77066169e-01 3.50269492e+01\n",
            " 2.70711852e+01 7.04721471e+00 8.66020256e+00 8.84779029e-01]\n",
            " 83%|████████▎ | 25/30 [01:38<00:19,  3.84s/it]2023-04-12 09:18:58,227 - pyswarms.single.global_best - INFO - Optimize for 32 iters with {'c1': 1.5, 'c2': 1.5, 'w': 0.5}\n",
            "pyswarms.single.global_best: 100%|██████████|32/32, best_cost=-.22\n",
            "2023-04-12 09:18:59,457 - pyswarms.single.global_best - INFO - Optimization finished | best cost: -0.22035885689354276, best pos: [7.69197250e+01 4.04984327e-01 1.00000000e-02 2.00078364e+03\n",
            " 9.23321787e+00 5.17008222e+00 4.77073735e+00 4.32404136e+01\n",
            " 9.74287373e+00 9.66690221e+00 3.78814761e-01 3.78913457e+01\n",
            " 2.05631074e+01 6.35519881e+00 8.42580430e+00 1.62716651e-01]\n",
            "2023-04-12 09:18:59,461 - pyswarms.single.global_best - INFO - Optimize for 32 iters with {'c1': 1.5, 'c2': 1.5, 'w': 0.5}\n",
            "pyswarms.single.global_best: 100%|██████████|32/32, best_cost=-.0861\n",
            "2023-04-12 09:19:00,401 - pyswarms.single.global_best - INFO - Optimization finished | best cost: -0.08607125097538555, best pos: [3.74765943e+01 3.81865441e-01 1.00000000e-02 1.66662237e+02\n",
            " 8.02340292e+00 9.33150092e+00 6.87607400e+00 3.81338386e+01\n",
            " 1.42675909e+00 1.65285730e+01 4.15030211e-01 8.51418502e+00\n",
            " 3.31653490e+01 3.95534220e+00 7.49731391e+00 8.13142037e-01]\n",
            "2023-04-12 09:19:00,405 - pyswarms.single.global_best - INFO - Optimize for 32 iters with {'c1': 1.5, 'c2': 1.5, 'w': 0.5}\n",
            "pyswarms.single.global_best: 100%|██████████|32/32, best_cost=-.5\n",
            "2023-04-12 09:19:02,624 - pyswarms.single.global_best - INFO - Optimization finished | best cost: -0.5, best pos: [8.82801162e+01 9.32261283e-02 1.00000000e-02 7.00898571e+03\n",
            " 9.59210150e+00 3.25374786e+00 3.20995210e+00 5.09177957e+01\n",
            " 2.82883447e+00 2.27098527e+00 7.78743088e-01 7.91335931e+01\n",
            " 9.02070719e+01 6.90340201e+00 3.26861050e+00 3.43211474e-01]\n",
            " 87%|████████▋ | 26/30 [01:42<00:16,  4.01s/it]2023-04-12 09:19:02,631 - pyswarms.single.global_best - INFO - Optimize for 32 iters with {'c1': 1.5, 'c2': 1.5, 'w': 0.5}\n",
            "pyswarms.single.global_best: 100%|██████████|32/32, best_cost=-.209\n",
            "2023-04-12 09:19:03,718 - pyswarms.single.global_best - INFO - Optimization finished | best cost: -0.20938045375218145, best pos: [3.12068399e+01 4.75045778e-01 1.00000000e-02 8.30762469e+03\n",
            " 5.75817002e+00 9.35689736e+00 4.64455175e+00 7.22592497e+01\n",
            " 8.08902276e+00 5.43039167e+00 9.09105477e-02 6.11383701e+01\n",
            " 7.54911487e+01 2.30476823e+00 7.50538559e+00 5.91493112e-01]\n",
            "2023-04-12 09:19:03,724 - pyswarms.single.global_best - INFO - Optimize for 32 iters with {'c1': 1.5, 'c2': 1.5, 'w': 0.5}\n",
            "pyswarms.single.global_best: 100%|██████████|32/32, best_cost=-.0871\n",
            "2023-04-12 09:19:04,667 - pyswarms.single.global_best - INFO - Optimization finished | best cost: -0.08708026148044719, best pos: [9.81637395e+01 7.89987840e-02 1.00000000e-02 7.92249275e+03\n",
            " 4.23361326e+00 7.26891890e+00 1.99852471e+00 1.55976872e+01\n",
            " 9.49612402e+00 1.31875572e+01 6.35255742e-01 3.22250089e+01\n",
            " 2.96911960e+00 3.73392877e+00 3.83836772e+00 4.01006650e-01]\n",
            "2023-04-12 09:19:04,671 - pyswarms.single.global_best - INFO - Optimize for 32 iters with {'c1': 1.5, 'c2': 1.5, 'w': 0.5}\n",
            "pyswarms.single.global_best: 100%|██████████|32/32, best_cost=-.5\n",
            "2023-04-12 09:19:05,722 - pyswarms.single.global_best - INFO - Optimization finished | best cost: -0.5, best pos: [5.36585998e+01 3.79445431e-02 1.00000000e-02 4.50391381e+03\n",
            " 3.92544428e-01 2.18788386e+00 4.33168439e+00 7.11651646e+01\n",
            " 8.70023381e+00 1.05061394e+01 5.01825757e-01 1.18359204e+01\n",
            " 2.62602923e+01 2.57094929e+00 1.07352644e+00 1.64637946e-02]\n",
            " 90%|█████████ | 27/30 [01:46<00:11,  3.74s/it]2023-04-12 09:19:05,729 - pyswarms.single.global_best - INFO - Optimize for 32 iters with {'c1': 1.5, 'c2': 1.5, 'w': 0.5}\n",
            "pyswarms.single.global_best: 100%|██████████|32/32, best_cost=-.23\n",
            "2023-04-12 09:19:06,792 - pyswarms.single.global_best - INFO - Optimization finished | best cost: -0.22976657940663175, best pos: [3.13547203e+01 9.95328338e-03 1.00000000e-02 5.58429050e+03\n",
            " 4.09951212e+00 2.85330294e+00 5.93271537e+00 8.56839682e+01\n",
            " 5.57093789e+00 1.67011425e+01 6.50110562e-01 5.97045596e+01\n",
            " 6.43583446e+01 5.56083164e+00 8.19135639e+00 3.75251702e-01]\n",
            "2023-04-12 09:19:06,796 - pyswarms.single.global_best - INFO - Optimize for 32 iters with {'c1': 1.5, 'c2': 1.5, 'w': 0.5}\n",
            "pyswarms.single.global_best: 100%|██████████|32/32, best_cost=-.0797\n",
            "2023-04-12 09:19:08,306 - pyswarms.single.global_best - INFO - Optimization finished | best cost: -0.07969007645514145, best pos: [5.07310699e+01 3.47747159e-02 1.00000000e-02 7.95862741e+03\n",
            " 4.17475689e+00 8.44076939e+00 1.81971583e+00 6.42392232e+01\n",
            " 6.53706717e+00 5.27657830e+00 4.53700394e-01 3.80707804e+01\n",
            " 8.68729123e+01 9.69647754e+00 6.94030903e+00 4.46983774e-01]\n",
            "2023-04-12 09:19:08,311 - pyswarms.single.global_best - INFO - Optimize for 32 iters with {'c1': 1.5, 'c2': 1.5, 'w': 0.5}\n",
            "pyswarms.single.global_best: 100%|██████████|32/32, best_cost=-.5\n",
            "2023-04-12 09:19:09,218 - pyswarms.single.global_best - INFO - Optimization finished | best cost: -0.5, best pos: [8.96755609e+01 3.87495011e-02 1.00000000e-02 3.42924973e+03\n",
            " 3.87855080e-01 7.88861851e+00 2.91574797e+00 9.76028215e+01\n",
            " 8.17204349e+00 7.35347093e+00 8.23331366e-01 4.16757398e+01\n",
            " 1.79254981e+00 7.23015821e+00 2.61286972e+00 9.51939086e-01]\n",
            " 93%|█████████▎| 28/30 [01:49<00:07,  3.66s/it]2023-04-12 09:19:09,225 - pyswarms.single.global_best - INFO - Optimize for 32 iters with {'c1': 1.5, 'c2': 1.5, 'w': 0.5}\n",
            "pyswarms.single.global_best: 100%|██████████|32/32, best_cost=-.23\n",
            "2023-04-12 09:19:10,924 - pyswarms.single.global_best - INFO - Optimization finished | best cost: -0.22979657504363002, best pos: [7.94668841e+01 3.40924698e-01 1.00000000e-02 5.19616739e+03\n",
            " 5.40944884e+00 6.86110418e+00 3.40260795e+00 6.44316198e+01\n",
            " 7.42200455e+00 1.41602257e+01 5.79360539e-01 9.61400553e+01\n",
            " 6.31306018e+01 6.16730950e+00 9.58013200e+00 9.62801640e-01]\n",
            "2023-04-12 09:19:10,928 - pyswarms.single.global_best - INFO - Optimize for 32 iters with {'c1': 1.5, 'c2': 1.5, 'w': 0.5}\n",
            "pyswarms.single.global_best: 100%|██████████|32/32, best_cost=-.0807\n",
            "2023-04-12 09:19:12,599 - pyswarms.single.global_best - INFO - Optimization finished | best cost: -0.08066353203867736, best pos: [9.78255707e+01 6.76416193e-02 1.00000000e-02 6.95606163e+03\n",
            " 9.70581884e+00 9.82917232e+00 5.46119649e+00 1.52662813e+01\n",
            " 9.27842870e+00 8.48943159e+00 7.88133909e-01 6.20056381e+01\n",
            " 4.56645547e+01 6.01948628e+00 7.78125735e+00 4.49471266e-02]\n",
            "2023-04-12 09:19:12,604 - pyswarms.single.global_best - INFO - Optimize for 32 iters with {'c1': 1.5, 'c2': 1.5, 'w': 0.5}\n",
            "pyswarms.single.global_best: 100%|██████████|32/32, best_cost=-.5\n",
            "2023-04-12 09:19:13,730 - pyswarms.single.global_best - INFO - Optimization finished | best cost: -0.5, best pos: [7.33626537e+01 4.92888503e-01 1.00000000e-02 2.56046794e+02\n",
            " 8.16047820e+00 8.19194352e+00 5.88100657e+00 4.17844242e+01\n",
            " 6.56054760e+00 3.39511271e+00 8.72791678e-01 1.97442998e+01\n",
            " 2.29241862e+01 9.24578678e+00 4.23700343e+00 8.63423187e-01]\n",
            " 97%|█████████▋| 29/30 [01:54<00:03,  3.92s/it]2023-04-12 09:19:13,738 - pyswarms.single.global_best - INFO - Optimize for 32 iters with {'c1': 1.5, 'c2': 1.5, 'w': 0.5}\n",
            "pyswarms.single.global_best: 100%|██████████|32/32, best_cost=-.22\n",
            "2023-04-12 09:19:14,479 - pyswarms.single.global_best - INFO - Optimization finished | best cost: -0.2198243891797557, best pos: [2.84686205e+01 4.11879310e-01 1.00000000e-02 2.57254244e+03\n",
            " 2.43079781e+00 9.91790418e+00 5.94417601e+00 3.93425203e+00\n",
            " 6.85831126e+00 1.59346980e+01 5.85422784e-01 5.17590865e+01\n",
            " 4.91193275e+00 8.99908441e+00 5.53405015e+00 5.44987576e-01]\n",
            "2023-04-12 09:19:14,483 - pyswarms.single.global_best - INFO - Optimize for 32 iters with {'c1': 1.5, 'c2': 1.5, 'w': 0.5}\n",
            "pyswarms.single.global_best: 100%|██████████|32/32, best_cost=-.0865\n",
            "2023-04-12 09:19:16,119 - pyswarms.single.global_best - INFO - Optimization finished | best cost: -0.08646604286032104, best pos: [6.39641366e+01 3.20411182e-01 1.00000000e-02 5.23335229e+03\n",
            " 9.51568665e+00 2.72856860e+00 4.23030117e+00 8.07202083e+01\n",
            " 7.80545170e+00 9.95528033e+00 5.86274209e-01 2.99282707e+01\n",
            " 7.48902391e+01 7.87641742e+00 2.60560014e+00 6.04749125e-01]\n",
            "2023-04-12 09:19:16,123 - pyswarms.single.global_best - INFO - Optimize for 32 iters with {'c1': 1.5, 'c2': 1.5, 'w': 0.5}\n",
            "pyswarms.single.global_best: 100%|██████████|32/32, best_cost=-.5\n",
            "2023-04-12 09:19:18,153 - pyswarms.single.global_best - INFO - Optimization finished | best cost: -0.5, best pos: [9.79542312e+01 3.00877468e-01 1.00000000e-02 9.54728848e+03\n",
            " 9.00297475e+00 1.34479298e+00 1.98042131e+00 9.38138908e+01\n",
            " 5.13133262e+00 8.99849029e+00 9.89466158e-01 7.52785487e+01\n",
            " 6.68054347e+01 2.05815452e+00 4.98795419e+00 5.26839421e-01]\n",
            "100%|██████████| 30/30 [01:58<00:00,  3.95s/it]\n"
          ]
        }
      ],
      "source": [
        "full_run_pso(30)"
      ]
    },
    {
      "cell_type": "code",
      "execution_count": null,
      "metadata": {},
      "outputs": [],
      "source": [
        "from tqdm import tqdm\n",
        "import pandas as pd\n",
        "from os import system\n",
        "\n",
        "def full_run_ga(iterations):\n",
        "    filename = './Catboost_wine_data.csv'\n",
        "\n",
        "    try:\n",
        "        Catboost_data = pd.read_csv(filename)\n",
        "    except:\n",
        "        open(filename, \"a\")\n",
        "        Catboost_data = pd.DataFrame(columns=['Algorithm', 'Accuracy', 'F1', 'AUC'])\n",
        "\n",
        "\n",
        "    for i in tqdm(range(iterations)):\n",
        "\n",
        "        accuracy_ga, _, _ = run_accuracy_ga()\n",
        "        f1_ga, _, _ = run_f1_ga()\n",
        "        auc_ga, _, _ = run_auc_ga()\n",
        "        temp = pd.DataFrame({'Algorithm' : ['GA'], \n",
        "                            'Accuracy' :[-accuracy_ga[0]], \n",
        "                            'F1' : [-f1_ga[0]], \n",
        "                            'AUC' : [-auc_ga[0]]})\n",
        "        #Catboost_data = Catboost_data.append(temp, ignore_index = True)\n",
        "        Catboost_data = pd.concat([Catboost_data, temp], ignore_index=True)\n",
        "        Catboost_data[['Algorithm', 'Accuracy', 'F1', 'AUC']].to_csv(filename)\n",
        "        "
      ]
    },
    {
      "cell_type": "code",
      "execution_count": null,
      "metadata": {},
      "outputs": [],
      "source": [
        "from tqdm import tqdm\n",
        "import pandas as pd\n",
        "from os import system\n",
        "\n",
        "def full_run_optuna(iterations):\n",
        "    filename = './Catboost_wine_data.csv'\n",
        "\n",
        "    try:\n",
        "        Catboost_data = pd.read_csv(filename)\n",
        "    except:\n",
        "        open(filename, \"a\")\n",
        "        Catboost_data = pd.DataFrame(columns=['Algorithm', 'Accuracy', 'F1', 'AUC'])\n",
        "\n",
        "\n",
        "    for i in tqdm(range(iterations)):      \n",
        "        accuracy_optuna, _ = run_optuna_accuracy()\n",
        "        f1_optuna, _ = run_optuna_f1()\n",
        "        auc_optuna, _ = run_optuna_auc()\n",
        "        temp = pd.DataFrame({'Algorithm' : ['Optuna'], \n",
        "                            'Accuracy' :[accuracy_optuna], \n",
        "                            'F1' : [f1_optuna], \n",
        "                            'AUC' : [auc_optuna]})\n",
        "        #Catboost_data = Catboost_data.append(temp, ignore_index = True)\n",
        "        Catboost_data = pd.concat([Catboost_data, temp], ignore_index=True)\n",
        "        Catboost_data[['Algorithm', 'Accuracy', 'F1', 'AUC']].to_csv(filename)"
      ]
    },
    {
      "cell_type": "code",
      "execution_count": null,
      "metadata": {},
      "outputs": [],
      "source": [
        "def full_run_random_searh(iterations):\n",
        "    filename = './Catboost_wine_data.csv'\n",
        "\n",
        "    try:\n",
        "        Catboost_data = pd.read_csv(filename)\n",
        "    except:\n",
        "        open(filename, \"a\")\n",
        "        Catboost_data = pd.DataFrame(columns=['Algorithm', 'Accuracy', 'F1', 'AUC'])\n",
        "\n",
        "\n",
        "    for i in tqdm(range(iterations)):\n",
        "\n",
        "        accuracy_rs = run_random_search_accuracy()\n",
        "        f1_rs = run_random_search_f1()\n",
        "        auc_rs = run_random_search_auc()\n",
        "        temp = pd.DataFrame({'Algorithm' : ['Random Search'], \n",
        "                            'Accuracy' :[accuracy_rs], \n",
        "                            'F1' : [f1_rs], \n",
        "                            'AUC' : [auc_rs]})\n",
        "        #Catboost_data = Catboost_data.append(temp, ignore_index = True)\n",
        "        Catboost_data = pd.concat([Catboost_data, temp], ignore_index=True)\n",
        "        Catboost_data[['Algorithm', 'Accuracy', 'F1', 'AUC']].to_csv(filename)"
      ]
    },
    {
      "cell_type": "code",
      "execution_count": null,
      "metadata": {},
      "outputs": [
        {
          "data": {
            "application/vnd.jupyter.widget-view+json": {
              "model_id": "8127f45609104d4c9e50b559591ed904",
              "version_major": 2,
              "version_minor": 0
            },
            "text/plain": [
              "  0%|          | 0/1 [00:00<?, ?it/s]"
            ]
          },
          "metadata": {},
          "output_type": "display_data"
        },
        {
          "name": "stderr",
          "output_type": "stream",
          "text": [
            "C:\\Users\\Felps\\AppData\\Local\\Packages\\PythonSoftwareFoundation.Python.3.10_qbz5n2kfra8p0\\LocalCache\\local-packages\\Python310\\site-packages\\sklearn\\model_selection\\_validation.py:378: FitFailedWarning: \n",
            "3 fits failed out of a total of 3072.\n",
            "The score on these train-test partitions for these parameters will be set to nan.\n",
            "If these failures are not expected, you can try to debug them by setting error_score='raise'.\n",
            "\n",
            "Below are more details about the failures:\n",
            "--------------------------------------------------------------------------------\n",
            "3 fits failed with the following error:\n",
            "Traceback (most recent call last):\n",
            "  File \"C:\\Users\\Felps\\AppData\\Local\\Packages\\PythonSoftwareFoundation.Python.3.10_qbz5n2kfra8p0\\LocalCache\\local-packages\\Python310\\site-packages\\sklearn\\model_selection\\_validation.py\", line 686, in _fit_and_score\n",
            "    estimator.fit(X_train, y_train, **fit_params)\n",
            "  File \"C:\\Users\\Felps\\AppData\\Local\\Packages\\PythonSoftwareFoundation.Python.3.10_qbz5n2kfra8p0\\LocalCache\\local-packages\\Python310\\site-packages\\catboost\\core.py\", line 5128, in fit\n",
            "    self._fit(X, y, cat_features, text_features, embedding_features, None, sample_weight, None, None, None, None, baseline, use_best_model,\n",
            "  File \"C:\\Users\\Felps\\AppData\\Local\\Packages\\PythonSoftwareFoundation.Python.3.10_qbz5n2kfra8p0\\LocalCache\\local-packages\\Python310\\site-packages\\catboost\\core.py\", line 2339, in _fit\n",
            "    train_params = self._prepare_train_params(\n",
            "  File \"C:\\Users\\Felps\\AppData\\Local\\Packages\\PythonSoftwareFoundation.Python.3.10_qbz5n2kfra8p0\\LocalCache\\local-packages\\Python310\\site-packages\\catboost\\core.py\", line 2266, in _prepare_train_params\n",
            "    _check_train_params(params)\n",
            "  File \"_catboost.pyx\", line 6080, in _catboost._check_train_params\n",
            "  File \"_catboost.pyx\", line 6099, in _catboost._check_train_params\n",
            "_catboost.CatBoostError: C:/Program Files (x86)/Go Agent/pipelines/BuildMaster/catboost.git/catboost/private/libs/options/oblivious_tree_options.cpp:122: Rsm should be in (0, 1]\n",
            "\n",
            "  warnings.warn(some_fits_failed_message, FitFailedWarning)\n",
            "C:\\Users\\Felps\\AppData\\Local\\Packages\\PythonSoftwareFoundation.Python.3.10_qbz5n2kfra8p0\\LocalCache\\local-packages\\Python310\\site-packages\\sklearn\\model_selection\\_search.py:952: UserWarning: One or more of the test scores are non-finite: [0.21723222 0.21723222 0.21723222 ... 0.21723222 0.21723222 0.21723222]\n",
            "  warnings.warn(\n"
          ]
        },
        {
          "name": "stdout",
          "output_type": "stream",
          "text": [
            "0:\tlearn: 1.5847722\ttotal: 12.6ms\tremaining: 1.12s\n",
            "1:\tlearn: 1.5825045\ttotal: 25.2ms\tremaining: 1.11s\n",
            "2:\tlearn: 1.5620491\ttotal: 37.5ms\tremaining: 1.09s\n",
            "3:\tlearn: 1.5284127\ttotal: 50ms\tremaining: 1.07s\n",
            "4:\tlearn: 1.4736686\ttotal: 62.4ms\tremaining: 1.06s\n",
            "5:\tlearn: 1.4626588\ttotal: 74.9ms\tremaining: 1.05s\n",
            "6:\tlearn: 1.4430127\ttotal: 86.9ms\tremaining: 1.03s\n",
            "7:\tlearn: 1.4259507\ttotal: 99.1ms\tremaining: 1.01s\n",
            "8:\tlearn: 1.3591770\ttotal: 111ms\tremaining: 1s\n",
            "9:\tlearn: 1.3524211\ttotal: 123ms\tremaining: 985ms\n",
            "10:\tlearn: 1.3477283\ttotal: 135ms\tremaining: 970ms\n",
            "11:\tlearn: 1.3461622\ttotal: 147ms\tremaining: 956ms\n",
            "12:\tlearn: 1.3453215\ttotal: 159ms\tremaining: 942ms\n",
            "13:\tlearn: 1.3396274\ttotal: 171ms\tremaining: 929ms\n",
            "14:\tlearn: 1.3322868\ttotal: 184ms\tremaining: 918ms\n",
            "15:\tlearn: 1.3068390\ttotal: 195ms\tremaining: 904ms\n",
            "16:\tlearn: 1.2849474\ttotal: 208ms\tremaining: 893ms\n",
            "17:\tlearn: 1.2778638\ttotal: 221ms\tremaining: 882ms\n",
            "18:\tlearn: 1.2759855\ttotal: 233ms\tremaining: 872ms\n",
            "19:\tlearn: 1.2655587\ttotal: 246ms\tremaining: 863ms\n",
            "20:\tlearn: 1.2571129\ttotal: 260ms\tremaining: 853ms\n",
            "21:\tlearn: 1.2532598\ttotal: 272ms\tremaining: 839ms\n",
            "22:\tlearn: 1.2507638\ttotal: 284ms\tremaining: 827ms\n",
            "23:\tlearn: 1.2494815\ttotal: 296ms\tremaining: 814ms\n",
            "24:\tlearn: 1.2451801\ttotal: 308ms\tremaining: 801ms\n",
            "25:\tlearn: 1.2381509\ttotal: 320ms\tremaining: 788ms\n",
            "26:\tlearn: 1.2373059\ttotal: 332ms\tremaining: 775ms\n",
            "27:\tlearn: 1.2268170\ttotal: 345ms\tremaining: 763ms\n",
            "28:\tlearn: 1.2266576\ttotal: 357ms\tremaining: 750ms\n",
            "29:\tlearn: 1.2157733\ttotal: 369ms\tremaining: 737ms\n",
            "30:\tlearn: 1.2155503\ttotal: 381ms\tremaining: 725ms\n",
            "31:\tlearn: 1.2132791\ttotal: 393ms\tremaining: 712ms\n",
            "32:\tlearn: 1.2108991\ttotal: 406ms\tremaining: 701ms\n",
            "33:\tlearn: 1.2069901\ttotal: 418ms\tremaining: 688ms\n",
            "34:\tlearn: 1.2059867\ttotal: 430ms\tremaining: 676ms\n",
            "35:\tlearn: 1.2038623\ttotal: 442ms\tremaining: 663ms\n",
            "36:\tlearn: 1.2003218\ttotal: 454ms\tremaining: 650ms\n",
            "37:\tlearn: 1.1969421\ttotal: 466ms\tremaining: 638ms\n",
            "38:\tlearn: 1.1924945\ttotal: 478ms\tremaining: 626ms\n",
            "39:\tlearn: 1.1741618\ttotal: 490ms\tremaining: 613ms\n",
            "40:\tlearn: 1.1727538\ttotal: 502ms\tremaining: 600ms\n",
            "41:\tlearn: 1.1672752\ttotal: 515ms\tremaining: 588ms\n",
            "42:\tlearn: 1.1640353\ttotal: 527ms\tremaining: 576ms\n",
            "43:\tlearn: 1.1627187\ttotal: 539ms\tremaining: 563ms\n",
            "44:\tlearn: 1.1576709\ttotal: 551ms\tremaining: 551ms\n",
            "45:\tlearn: 1.1539104\ttotal: 563ms\tremaining: 538ms\n",
            "46:\tlearn: 1.1529928\ttotal: 575ms\tremaining: 526ms\n",
            "47:\tlearn: 1.1468092\ttotal: 587ms\tremaining: 513ms\n",
            "48:\tlearn: 1.1308705\ttotal: 599ms\tremaining: 501ms\n",
            "49:\tlearn: 1.1142256\ttotal: 611ms\tremaining: 489ms\n",
            "50:\tlearn: 1.1130562\ttotal: 623ms\tremaining: 477ms\n",
            "51:\tlearn: 1.1111225\ttotal: 635ms\tremaining: 464ms\n",
            "52:\tlearn: 1.1108084\ttotal: 647ms\tremaining: 452ms\n",
            "53:\tlearn: 1.1097418\ttotal: 659ms\tremaining: 439ms\n",
            "54:\tlearn: 1.1074829\ttotal: 671ms\tremaining: 427ms\n",
            "55:\tlearn: 1.1049310\ttotal: 683ms\tremaining: 415ms\n",
            "56:\tlearn: 1.1036571\ttotal: 695ms\tremaining: 403ms\n",
            "57:\tlearn: 1.0987135\ttotal: 708ms\tremaining: 390ms\n",
            "58:\tlearn: 1.0821952\ttotal: 719ms\tremaining: 378ms\n",
            "59:\tlearn: 1.0719426\ttotal: 732ms\tremaining: 366ms\n",
            "60:\tlearn: 1.0400523\ttotal: 744ms\tremaining: 354ms\n",
            "61:\tlearn: 1.0316742\ttotal: 756ms\tremaining: 341ms\n",
            "62:\tlearn: 1.0305234\ttotal: 768ms\tremaining: 329ms\n",
            "63:\tlearn: 1.0288962\ttotal: 780ms\tremaining: 317ms\n",
            "64:\tlearn: 1.0225827\ttotal: 792ms\tremaining: 305ms\n",
            "65:\tlearn: 1.0191250\ttotal: 804ms\tremaining: 292ms\n",
            "66:\tlearn: 1.0185264\ttotal: 816ms\tremaining: 280ms\n",
            "67:\tlearn: 1.0163870\ttotal: 828ms\tremaining: 268ms\n",
            "68:\tlearn: 1.0160913\ttotal: 840ms\tremaining: 256ms\n",
            "69:\tlearn: 1.0135657\ttotal: 852ms\tremaining: 244ms\n",
            "70:\tlearn: 1.0082527\ttotal: 865ms\tremaining: 231ms\n",
            "71:\tlearn: 1.0070835\ttotal: 877ms\tremaining: 219ms\n",
            "72:\tlearn: 1.0065054\ttotal: 889ms\tremaining: 207ms\n",
            "73:\tlearn: 1.0035337\ttotal: 901ms\tremaining: 195ms\n",
            "74:\tlearn: 1.0026112\ttotal: 913ms\tremaining: 183ms\n",
            "75:\tlearn: 0.9985420\ttotal: 925ms\tremaining: 170ms\n",
            "76:\tlearn: 0.9926360\ttotal: 937ms\tremaining: 158ms\n",
            "77:\tlearn: 0.9917467\ttotal: 949ms\tremaining: 146ms\n",
            "78:\tlearn: 0.9913751\ttotal: 961ms\tremaining: 134ms\n",
            "79:\tlearn: 0.9831312\ttotal: 973ms\tremaining: 122ms\n",
            "80:\tlearn: 0.9785093\ttotal: 986ms\tremaining: 110ms\n",
            "81:\tlearn: 0.9758991\ttotal: 998ms\tremaining: 97.3ms\n",
            "82:\tlearn: 0.9735616\ttotal: 1.01s\tremaining: 85.2ms\n",
            "83:\tlearn: 0.9680978\ttotal: 1.02s\tremaining: 73ms\n",
            "84:\tlearn: 0.9646745\ttotal: 1.03s\tremaining: 60.8ms\n",
            "85:\tlearn: 0.9620963\ttotal: 1.04s\tremaining: 48.6ms\n",
            "86:\tlearn: 0.9584218\ttotal: 1.06s\tremaining: 36.5ms\n",
            "87:\tlearn: 0.9573657\ttotal: 1.07s\tremaining: 24.3ms\n",
            "88:\tlearn: 0.9570783\ttotal: 1.08s\tremaining: 12.2ms\n",
            "89:\tlearn: 0.9541388\ttotal: 1.09s\tremaining: 0us\n"
          ]
        },
        {
          "name": "stderr",
          "output_type": "stream",
          "text": [
            "C:\\Users\\Felps\\AppData\\Local\\Packages\\PythonSoftwareFoundation.Python.3.10_qbz5n2kfra8p0\\LocalCache\\local-packages\\Python310\\site-packages\\sklearn\\model_selection\\_search.py:952: UserWarning: One or more of the test scores are non-finite: [0.07402653 0.07402653 0.07402653 ... 0.07402653 0.07402653 0.07402653]\n",
            "  warnings.warn(\n"
          ]
        },
        {
          "name": "stdout",
          "output_type": "stream",
          "text": [
            "0:\tlearn: 1.5710101\ttotal: 4.63ms\tremaining: 366ms\n",
            "1:\tlearn: 1.5611104\ttotal: 9.08ms\tremaining: 354ms\n",
            "2:\tlearn: 1.4859781\ttotal: 14.3ms\tremaining: 366ms\n",
            "3:\tlearn: 1.4844660\ttotal: 19.6ms\tremaining: 373ms\n",
            "4:\tlearn: 1.4622307\ttotal: 24.9ms\tremaining: 373ms\n",
            "5:\tlearn: 1.3754553\ttotal: 29.9ms\tremaining: 369ms\n",
            "6:\tlearn: 1.3716098\ttotal: 34.9ms\tremaining: 364ms\n",
            "7:\tlearn: 1.3610626\ttotal: 40.1ms\tremaining: 360ms\n",
            "8:\tlearn: 1.3546364\ttotal: 46.5ms\tremaining: 367ms\n",
            "9:\tlearn: 1.3546114\ttotal: 51.9ms\tremaining: 364ms\n",
            "10:\tlearn: 1.3414571\ttotal: 56.8ms\tremaining: 356ms\n",
            "11:\tlearn: 1.3397835\ttotal: 61.4ms\tremaining: 348ms\n",
            "12:\tlearn: 1.3147731\ttotal: 66.5ms\tremaining: 343ms\n",
            "13:\tlearn: 1.3030325\ttotal: 71.6ms\tremaining: 337ms\n",
            "14:\tlearn: 1.3005668\ttotal: 76.6ms\tremaining: 332ms\n",
            "15:\tlearn: 1.2982224\ttotal: 81.9ms\tremaining: 327ms\n",
            "16:\tlearn: 1.2945915\ttotal: 86.7ms\tremaining: 321ms\n",
            "17:\tlearn: 1.2946078\ttotal: 91.5ms\tremaining: 315ms\n",
            "18:\tlearn: 1.2912234\ttotal: 96.4ms\tremaining: 310ms\n",
            "19:\tlearn: 1.2874025\ttotal: 101ms\tremaining: 304ms\n",
            "20:\tlearn: 1.2845945\ttotal: 106ms\tremaining: 298ms\n",
            "21:\tlearn: 1.2660574\ttotal: 111ms\tremaining: 293ms\n",
            "22:\tlearn: 1.2576428\ttotal: 116ms\tremaining: 287ms\n",
            "23:\tlearn: 1.2537111\ttotal: 121ms\tremaining: 281ms\n",
            "24:\tlearn: 1.2486256\ttotal: 125ms\tremaining: 275ms\n",
            "25:\tlearn: 1.1980363\ttotal: 130ms\tremaining: 270ms\n",
            "26:\tlearn: 1.1958771\ttotal: 135ms\tremaining: 265ms\n",
            "27:\tlearn: 1.1953763\ttotal: 139ms\tremaining: 259ms\n",
            "28:\tlearn: 1.1860327\ttotal: 144ms\tremaining: 253ms\n",
            "29:\tlearn: 1.1827857\ttotal: 149ms\tremaining: 248ms\n",
            "30:\tlearn: 1.1811770\ttotal: 154ms\tremaining: 243ms\n",
            "31:\tlearn: 1.1721713\ttotal: 158ms\tremaining: 237ms\n",
            "32:\tlearn: 1.1714280\ttotal: 163ms\tremaining: 232ms\n",
            "33:\tlearn: 1.1690182\ttotal: 168ms\tremaining: 227ms\n",
            "34:\tlearn: 1.1683721\ttotal: 172ms\tremaining: 221ms\n",
            "35:\tlearn: 1.1575878\ttotal: 177ms\tremaining: 216ms\n",
            "36:\tlearn: 1.0889511\ttotal: 181ms\tremaining: 211ms\n",
            "37:\tlearn: 1.0849881\ttotal: 186ms\tremaining: 206ms\n",
            "38:\tlearn: 1.0797275\ttotal: 191ms\tremaining: 201ms\n",
            "39:\tlearn: 1.0789884\ttotal: 195ms\tremaining: 195ms\n",
            "40:\tlearn: 1.0780878\ttotal: 200ms\tremaining: 190ms\n",
            "41:\tlearn: 1.0767733\ttotal: 205ms\tremaining: 185ms\n",
            "42:\tlearn: 1.0673440\ttotal: 209ms\tremaining: 180ms\n",
            "43:\tlearn: 1.0567820\ttotal: 214ms\tremaining: 175ms\n",
            "44:\tlearn: 1.0491235\ttotal: 219ms\tremaining: 170ms\n",
            "45:\tlearn: 1.0488134\ttotal: 224ms\tremaining: 165ms\n",
            "46:\tlearn: 1.0459689\ttotal: 229ms\tremaining: 161ms\n",
            "47:\tlearn: 1.0388821\ttotal: 234ms\tremaining: 156ms\n",
            "48:\tlearn: 1.0388956\ttotal: 239ms\tremaining: 151ms\n",
            "49:\tlearn: 1.0376776\ttotal: 243ms\tremaining: 146ms\n",
            "50:\tlearn: 1.0354827\ttotal: 248ms\tremaining: 141ms\n",
            "51:\tlearn: 1.0221110\ttotal: 253ms\tremaining: 136ms\n",
            "52:\tlearn: 1.0211835\ttotal: 258ms\tremaining: 131ms\n",
            "53:\tlearn: 0.9950716\ttotal: 262ms\tremaining: 126ms\n",
            "54:\tlearn: 0.9916771\ttotal: 267ms\tremaining: 121ms\n",
            "55:\tlearn: 0.9834464\ttotal: 271ms\tremaining: 116ms\n",
            "56:\tlearn: 0.9829437\ttotal: 276ms\tremaining: 111ms\n",
            "57:\tlearn: 0.9816369\ttotal: 281ms\tremaining: 106ms\n",
            "58:\tlearn: 0.9810440\ttotal: 285ms\tremaining: 102ms\n",
            "59:\tlearn: 0.9810579\ttotal: 290ms\tremaining: 96.6ms\n",
            "60:\tlearn: 0.9795089\ttotal: 294ms\tremaining: 91.7ms\n",
            "61:\tlearn: 0.9682187\ttotal: 299ms\tremaining: 86.8ms\n",
            "62:\tlearn: 0.9655934\ttotal: 303ms\tremaining: 81.9ms\n",
            "63:\tlearn: 0.9621713\ttotal: 308ms\tremaining: 77ms\n",
            "64:\tlearn: 0.9621842\ttotal: 312ms\tremaining: 72.1ms\n",
            "65:\tlearn: 0.9603989\ttotal: 317ms\tremaining: 67.2ms\n",
            "66:\tlearn: 0.9586896\ttotal: 321ms\tremaining: 62.3ms\n",
            "67:\tlearn: 0.9582890\ttotal: 326ms\tremaining: 57.5ms\n",
            "68:\tlearn: 0.9582096\ttotal: 330ms\tremaining: 52.7ms\n",
            "69:\tlearn: 0.9537039\ttotal: 335ms\tremaining: 47.8ms\n",
            "70:\tlearn: 0.9500305\ttotal: 339ms\tremaining: 43ms\n",
            "71:\tlearn: 0.9493887\ttotal: 344ms\tremaining: 38.2ms\n",
            "72:\tlearn: 0.9396234\ttotal: 348ms\tremaining: 33.4ms\n",
            "73:\tlearn: 0.9375312\ttotal: 353ms\tremaining: 28.6ms\n",
            "74:\tlearn: 0.9352441\ttotal: 357ms\tremaining: 23.8ms\n",
            "75:\tlearn: 0.9352568\ttotal: 362ms\tremaining: 19ms\n",
            "76:\tlearn: 0.9306157\ttotal: 366ms\tremaining: 14.3ms\n",
            "77:\tlearn: 0.9293324\ttotal: 371ms\tremaining: 9.5ms\n",
            "78:\tlearn: 0.9261150\ttotal: 375ms\tremaining: 4.75ms\n",
            "79:\tlearn: 0.9261251\ttotal: 380ms\tremaining: 0us\n"
          ]
        },
        {
          "name": "stderr",
          "output_type": "stream",
          "text": [
            "C:\\Users\\Felps\\AppData\\Local\\Packages\\PythonSoftwareFoundation.Python.3.10_qbz5n2kfra8p0\\LocalCache\\local-packages\\Python310\\site-packages\\sklearn\\model_selection\\_search.py:952: UserWarning: One or more of the test scores are non-finite: [0.5 0.5 0.5 ... 0.5 0.5 0.5]\n",
            "  warnings.warn(\n"
          ]
        },
        {
          "name": "stdout",
          "output_type": "stream",
          "text": [
            "0:\tlearn: 1.5928194\ttotal: 6.1ms\tremaining: 153ms\n",
            "1:\tlearn: 1.5543222\ttotal: 12.3ms\tremaining: 147ms\n",
            "2:\tlearn: 1.5368320\ttotal: 18.3ms\tremaining: 140ms\n",
            "3:\tlearn: 1.5031061\ttotal: 24.5ms\tremaining: 135ms\n",
            "4:\tlearn: 1.4519779\ttotal: 30.7ms\tremaining: 129ms\n",
            "5:\tlearn: 1.4187094\ttotal: 37ms\tremaining: 123ms\n",
            "6:\tlearn: 1.4173160\ttotal: 43.5ms\tremaining: 118ms\n",
            "7:\tlearn: 1.3669621\ttotal: 49.7ms\tremaining: 112ms\n",
            "8:\tlearn: 1.3507530\ttotal: 56.1ms\tremaining: 106ms\n",
            "9:\tlearn: 1.3444820\ttotal: 62.6ms\tremaining: 100ms\n",
            "10:\tlearn: 1.3305004\ttotal: 68.9ms\tremaining: 93.9ms\n",
            "11:\tlearn: 1.3229321\ttotal: 75.1ms\tremaining: 87.6ms\n",
            "12:\tlearn: 1.3135686\ttotal: 81.8ms\tremaining: 81.8ms\n",
            "13:\tlearn: 1.3071690\ttotal: 88.3ms\tremaining: 75.7ms\n",
            "14:\tlearn: 1.3035841\ttotal: 94.5ms\tremaining: 69.3ms\n",
            "15:\tlearn: 1.2986790\ttotal: 101ms\tremaining: 62.8ms\n",
            "16:\tlearn: 1.2950433\ttotal: 107ms\tremaining: 56.5ms\n",
            "17:\tlearn: 1.2931443\ttotal: 113ms\tremaining: 50.1ms\n",
            "18:\tlearn: 1.2895920\ttotal: 119ms\tremaining: 43.8ms\n",
            "19:\tlearn: 1.2805065\ttotal: 125ms\tremaining: 37.5ms\n",
            "20:\tlearn: 1.2731667\ttotal: 131ms\tremaining: 31.2ms\n",
            "21:\tlearn: 1.2630859\ttotal: 137ms\tremaining: 24.9ms\n",
            "22:\tlearn: 1.2388255\ttotal: 143ms\tremaining: 18.7ms\n",
            "23:\tlearn: 1.2354432\ttotal: 149ms\tremaining: 12.5ms\n",
            "24:\tlearn: 1.2253984\ttotal: 156ms\tremaining: 6.22ms\n",
            "25:\tlearn: 1.2118870\ttotal: 162ms\tremaining: 0us\n"
          ]
        }
      ],
      "source": [
        "full_run_random_searh(1)"
      ]
    }
  ],
  "metadata": {
    "colab": {
      "collapsed_sections": [
        "_HsPc7BH-MWL",
        "iTAAhn6w-Be4",
        "F-WtiEIO0kFu",
        "vA6kphUO0vcT"
      ],
      "provenance": []
    },
    "kernelspec": {
      "display_name": "Python 3",
      "language": "python",
      "name": "python3"
    },
    "language_info": {
      "codemirror_mode": {
        "name": "ipython",
        "version": 3
      },
      "file_extension": ".py",
      "mimetype": "text/x-python",
      "name": "python",
      "nbconvert_exporter": "python",
      "pygments_lexer": "ipython3",
      "version": "3.11.3"
    },
    "vscode": {
      "interpreter": {
        "hash": "8149941357ab46e91af0255cc46a7a09aaccc03c1980a89f638a5973ac5bc49f"
      }
    },
    "widgets": {
      "application/vnd.jupyter.widget-state+json": {
        "01d3490253a8464281845cb171385d59": {
          "model_module": "@jupyter-widgets/controls",
          "model_module_version": "1.5.0",
          "model_name": "DescriptionStyleModel",
          "state": {
            "_model_module": "@jupyter-widgets/controls",
            "_model_module_version": "1.5.0",
            "_model_name": "DescriptionStyleModel",
            "_view_count": null,
            "_view_module": "@jupyter-widgets/base",
            "_view_module_version": "1.2.0",
            "_view_name": "StyleView",
            "description_width": ""
          }
        },
        "12434838d89048188eefe1af0332bfd6": {
          "model_module": "@jupyter-widgets/controls",
          "model_module_version": "1.5.0",
          "model_name": "HBoxModel",
          "state": {
            "_dom_classes": [],
            "_model_module": "@jupyter-widgets/controls",
            "_model_module_version": "1.5.0",
            "_model_name": "HBoxModel",
            "_view_count": null,
            "_view_module": "@jupyter-widgets/controls",
            "_view_module_version": "1.5.0",
            "_view_name": "HBoxView",
            "box_style": "",
            "children": [
              "IPY_MODEL_b6288aa156624b108015ab993c54d52b",
              "IPY_MODEL_f45e5f0d4187404fb8f63acd3c26fe17",
              "IPY_MODEL_aaa16b6dbffd42ef973b1826e5ed2242"
            ],
            "layout": "IPY_MODEL_8721e5217b97444d948e5b85c6fd53c7"
          }
        },
        "124e5b4b5b3344f4abdc93628b112d8f": {
          "model_module": "@jupyter-widgets/controls",
          "model_module_version": "1.5.0",
          "model_name": "DescriptionStyleModel",
          "state": {
            "_model_module": "@jupyter-widgets/controls",
            "_model_module_version": "1.5.0",
            "_model_name": "DescriptionStyleModel",
            "_view_count": null,
            "_view_module": "@jupyter-widgets/base",
            "_view_module_version": "1.2.0",
            "_view_name": "StyleView",
            "description_width": ""
          }
        },
        "1614757884124ed487149ebed485833f": {
          "model_module": "@jupyter-widgets/base",
          "model_module_version": "1.2.0",
          "model_name": "LayoutModel",
          "state": {
            "_model_module": "@jupyter-widgets/base",
            "_model_module_version": "1.2.0",
            "_model_name": "LayoutModel",
            "_view_count": null,
            "_view_module": "@jupyter-widgets/base",
            "_view_module_version": "1.2.0",
            "_view_name": "LayoutView",
            "align_content": null,
            "align_items": null,
            "align_self": null,
            "border": null,
            "bottom": null,
            "display": null,
            "flex": null,
            "flex_flow": null,
            "grid_area": null,
            "grid_auto_columns": null,
            "grid_auto_flow": null,
            "grid_auto_rows": null,
            "grid_column": null,
            "grid_gap": null,
            "grid_row": null,
            "grid_template_areas": null,
            "grid_template_columns": null,
            "grid_template_rows": null,
            "height": null,
            "justify_content": null,
            "justify_items": null,
            "left": null,
            "margin": null,
            "max_height": null,
            "max_width": null,
            "min_height": null,
            "min_width": null,
            "object_fit": null,
            "object_position": null,
            "order": null,
            "overflow": null,
            "overflow_x": null,
            "overflow_y": null,
            "padding": null,
            "right": null,
            "top": null,
            "visibility": null,
            "width": null
          }
        },
        "1a32143976c744e5a388d7b343e7c054": {
          "model_module": "@jupyter-widgets/controls",
          "model_module_version": "1.5.0",
          "model_name": "DescriptionStyleModel",
          "state": {
            "_model_module": "@jupyter-widgets/controls",
            "_model_module_version": "1.5.0",
            "_model_name": "DescriptionStyleModel",
            "_view_count": null,
            "_view_module": "@jupyter-widgets/base",
            "_view_module_version": "1.2.0",
            "_view_name": "StyleView",
            "description_width": ""
          }
        },
        "20a38960e7374ab594f04f4b1c5e2321": {
          "model_module": "@jupyter-widgets/controls",
          "model_module_version": "1.5.0",
          "model_name": "HTMLModel",
          "state": {
            "_dom_classes": [],
            "_model_module": "@jupyter-widgets/controls",
            "_model_module_version": "1.5.0",
            "_model_name": "HTMLModel",
            "_view_count": null,
            "_view_module": "@jupyter-widgets/controls",
            "_view_module_version": "1.5.0",
            "_view_name": "HTMLView",
            "description": "",
            "description_tooltip": null,
            "layout": "IPY_MODEL_6f29547455ac4adb8edaa11d5839f5cb",
            "placeholder": "​",
            "style": "IPY_MODEL_1a32143976c744e5a388d7b343e7c054",
            "value": "100%"
          }
        },
        "54cbbc7ffbcc401abfbf3167f882019e": {
          "model_module": "@jupyter-widgets/controls",
          "model_module_version": "1.5.0",
          "model_name": "ProgressStyleModel",
          "state": {
            "_model_module": "@jupyter-widgets/controls",
            "_model_module_version": "1.5.0",
            "_model_name": "ProgressStyleModel",
            "_view_count": null,
            "_view_module": "@jupyter-widgets/base",
            "_view_module_version": "1.2.0",
            "_view_name": "StyleView",
            "bar_color": null,
            "description_width": ""
          }
        },
        "6f124da663194ac0b073ab7a3fb168c3": {
          "model_module": "@jupyter-widgets/controls",
          "model_module_version": "1.5.0",
          "model_name": "ProgressStyleModel",
          "state": {
            "_model_module": "@jupyter-widgets/controls",
            "_model_module_version": "1.5.0",
            "_model_name": "ProgressStyleModel",
            "_view_count": null,
            "_view_module": "@jupyter-widgets/base",
            "_view_module_version": "1.2.0",
            "_view_name": "StyleView",
            "bar_color": null,
            "description_width": ""
          }
        },
        "6f29547455ac4adb8edaa11d5839f5cb": {
          "model_module": "@jupyter-widgets/base",
          "model_module_version": "1.2.0",
          "model_name": "LayoutModel",
          "state": {
            "_model_module": "@jupyter-widgets/base",
            "_model_module_version": "1.2.0",
            "_model_name": "LayoutModel",
            "_view_count": null,
            "_view_module": "@jupyter-widgets/base",
            "_view_module_version": "1.2.0",
            "_view_name": "LayoutView",
            "align_content": null,
            "align_items": null,
            "align_self": null,
            "border": null,
            "bottom": null,
            "display": null,
            "flex": null,
            "flex_flow": null,
            "grid_area": null,
            "grid_auto_columns": null,
            "grid_auto_flow": null,
            "grid_auto_rows": null,
            "grid_column": null,
            "grid_gap": null,
            "grid_row": null,
            "grid_template_areas": null,
            "grid_template_columns": null,
            "grid_template_rows": null,
            "height": null,
            "justify_content": null,
            "justify_items": null,
            "left": null,
            "margin": null,
            "max_height": null,
            "max_width": null,
            "min_height": null,
            "min_width": null,
            "object_fit": null,
            "object_position": null,
            "order": null,
            "overflow": null,
            "overflow_x": null,
            "overflow_y": null,
            "padding": null,
            "right": null,
            "top": null,
            "visibility": null,
            "width": null
          }
        },
        "76b3046c318d4fbcb66b198b50cd91e7": {
          "model_module": "@jupyter-widgets/base",
          "model_module_version": "1.2.0",
          "model_name": "LayoutModel",
          "state": {
            "_model_module": "@jupyter-widgets/base",
            "_model_module_version": "1.2.0",
            "_model_name": "LayoutModel",
            "_view_count": null,
            "_view_module": "@jupyter-widgets/base",
            "_view_module_version": "1.2.0",
            "_view_name": "LayoutView",
            "align_content": null,
            "align_items": null,
            "align_self": null,
            "border": null,
            "bottom": null,
            "display": null,
            "flex": null,
            "flex_flow": null,
            "grid_area": null,
            "grid_auto_columns": null,
            "grid_auto_flow": null,
            "grid_auto_rows": null,
            "grid_column": null,
            "grid_gap": null,
            "grid_row": null,
            "grid_template_areas": null,
            "grid_template_columns": null,
            "grid_template_rows": null,
            "height": null,
            "justify_content": null,
            "justify_items": null,
            "left": null,
            "margin": null,
            "max_height": null,
            "max_width": null,
            "min_height": null,
            "min_width": null,
            "object_fit": null,
            "object_position": null,
            "order": null,
            "overflow": null,
            "overflow_x": null,
            "overflow_y": null,
            "padding": null,
            "right": null,
            "top": null,
            "visibility": null,
            "width": null
          }
        },
        "7c3472a6094a4249a082f8dc630e5258": {
          "model_module": "@jupyter-widgets/controls",
          "model_module_version": "1.5.0",
          "model_name": "FloatProgressModel",
          "state": {
            "_dom_classes": [],
            "_model_module": "@jupyter-widgets/controls",
            "_model_module_version": "1.5.0",
            "_model_name": "FloatProgressModel",
            "_view_count": null,
            "_view_module": "@jupyter-widgets/controls",
            "_view_module_version": "1.5.0",
            "_view_name": "ProgressView",
            "bar_style": "success",
            "description": "",
            "description_tooltip": null,
            "layout": "IPY_MODEL_1614757884124ed487149ebed485833f",
            "max": 32,
            "min": 0,
            "orientation": "horizontal",
            "style": "IPY_MODEL_6f124da663194ac0b073ab7a3fb168c3",
            "value": 32
          }
        },
        "7f079b743c6e4ad897ae55ba366a15b9": {
          "model_module": "@jupyter-widgets/base",
          "model_module_version": "1.2.0",
          "model_name": "LayoutModel",
          "state": {
            "_model_module": "@jupyter-widgets/base",
            "_model_module_version": "1.2.0",
            "_model_name": "LayoutModel",
            "_view_count": null,
            "_view_module": "@jupyter-widgets/base",
            "_view_module_version": "1.2.0",
            "_view_name": "LayoutView",
            "align_content": null,
            "align_items": null,
            "align_self": null,
            "border": null,
            "bottom": null,
            "display": null,
            "flex": null,
            "flex_flow": null,
            "grid_area": null,
            "grid_auto_columns": null,
            "grid_auto_flow": null,
            "grid_auto_rows": null,
            "grid_column": null,
            "grid_gap": null,
            "grid_row": null,
            "grid_template_areas": null,
            "grid_template_columns": null,
            "grid_template_rows": null,
            "height": null,
            "justify_content": null,
            "justify_items": null,
            "left": null,
            "margin": null,
            "max_height": null,
            "max_width": null,
            "min_height": null,
            "min_width": null,
            "object_fit": null,
            "object_position": null,
            "order": null,
            "overflow": null,
            "overflow_x": null,
            "overflow_y": null,
            "padding": null,
            "right": null,
            "top": null,
            "visibility": null,
            "width": null
          }
        },
        "8721e5217b97444d948e5b85c6fd53c7": {
          "model_module": "@jupyter-widgets/base",
          "model_module_version": "1.2.0",
          "model_name": "LayoutModel",
          "state": {
            "_model_module": "@jupyter-widgets/base",
            "_model_module_version": "1.2.0",
            "_model_name": "LayoutModel",
            "_view_count": null,
            "_view_module": "@jupyter-widgets/base",
            "_view_module_version": "1.2.0",
            "_view_name": "LayoutView",
            "align_content": null,
            "align_items": null,
            "align_self": null,
            "border": null,
            "bottom": null,
            "display": null,
            "flex": null,
            "flex_flow": null,
            "grid_area": null,
            "grid_auto_columns": null,
            "grid_auto_flow": null,
            "grid_auto_rows": null,
            "grid_column": null,
            "grid_gap": null,
            "grid_row": null,
            "grid_template_areas": null,
            "grid_template_columns": null,
            "grid_template_rows": null,
            "height": null,
            "justify_content": null,
            "justify_items": null,
            "left": null,
            "margin": null,
            "max_height": null,
            "max_width": null,
            "min_height": null,
            "min_width": null,
            "object_fit": null,
            "object_position": null,
            "order": null,
            "overflow": null,
            "overflow_x": null,
            "overflow_y": null,
            "padding": null,
            "right": null,
            "top": null,
            "visibility": null,
            "width": null
          }
        },
        "992dda0d38b145b88946b67edc62ab57": {
          "model_module": "@jupyter-widgets/base",
          "model_module_version": "1.2.0",
          "model_name": "LayoutModel",
          "state": {
            "_model_module": "@jupyter-widgets/base",
            "_model_module_version": "1.2.0",
            "_model_name": "LayoutModel",
            "_view_count": null,
            "_view_module": "@jupyter-widgets/base",
            "_view_module_version": "1.2.0",
            "_view_name": "LayoutView",
            "align_content": null,
            "align_items": null,
            "align_self": null,
            "border": null,
            "bottom": null,
            "display": null,
            "flex": null,
            "flex_flow": null,
            "grid_area": null,
            "grid_auto_columns": null,
            "grid_auto_flow": null,
            "grid_auto_rows": null,
            "grid_column": null,
            "grid_gap": null,
            "grid_row": null,
            "grid_template_areas": null,
            "grid_template_columns": null,
            "grid_template_rows": null,
            "height": null,
            "justify_content": null,
            "justify_items": null,
            "left": null,
            "margin": null,
            "max_height": null,
            "max_width": null,
            "min_height": null,
            "min_width": null,
            "object_fit": null,
            "object_position": null,
            "order": null,
            "overflow": null,
            "overflow_x": null,
            "overflow_y": null,
            "padding": null,
            "right": null,
            "top": null,
            "visibility": null,
            "width": null
          }
        },
        "aaa16b6dbffd42ef973b1826e5ed2242": {
          "model_module": "@jupyter-widgets/controls",
          "model_module_version": "1.5.0",
          "model_name": "HTMLModel",
          "state": {
            "_dom_classes": [],
            "_model_module": "@jupyter-widgets/controls",
            "_model_module_version": "1.5.0",
            "_model_name": "HTMLModel",
            "_view_count": null,
            "_view_module": "@jupyter-widgets/controls",
            "_view_module_version": "1.5.0",
            "_view_name": "HTMLView",
            "description": "",
            "description_tooltip": null,
            "layout": "IPY_MODEL_d539e4a476cb4ae28e78769b17b97aa9",
            "placeholder": "​",
            "style": "IPY_MODEL_fb379b55e7bd4b3bb7ed4b0ec6390b2e",
            "value": " 32/32 [48:44&lt;00:00, 118.10s/it]"
          }
        },
        "ae818704a52542d696c8eb0c1c182a81": {
          "model_module": "@jupyter-widgets/controls",
          "model_module_version": "1.5.0",
          "model_name": "HTMLModel",
          "state": {
            "_dom_classes": [],
            "_model_module": "@jupyter-widgets/controls",
            "_model_module_version": "1.5.0",
            "_model_name": "HTMLModel",
            "_view_count": null,
            "_view_module": "@jupyter-widgets/controls",
            "_view_module_version": "1.5.0",
            "_view_name": "HTMLView",
            "description": "",
            "description_tooltip": null,
            "layout": "IPY_MODEL_76b3046c318d4fbcb66b198b50cd91e7",
            "placeholder": "​",
            "style": "IPY_MODEL_124e5b4b5b3344f4abdc93628b112d8f",
            "value": " 32/32 [15:48&lt;00:00, 30.29s/it]"
          }
        },
        "b504307a10f54034ad07715278fa1dbc": {
          "model_module": "@jupyter-widgets/controls",
          "model_module_version": "1.5.0",
          "model_name": "HBoxModel",
          "state": {
            "_dom_classes": [],
            "_model_module": "@jupyter-widgets/controls",
            "_model_module_version": "1.5.0",
            "_model_name": "HBoxModel",
            "_view_count": null,
            "_view_module": "@jupyter-widgets/controls",
            "_view_module_version": "1.5.0",
            "_view_name": "HBoxView",
            "box_style": "",
            "children": [
              "IPY_MODEL_20a38960e7374ab594f04f4b1c5e2321",
              "IPY_MODEL_7c3472a6094a4249a082f8dc630e5258",
              "IPY_MODEL_ae818704a52542d696c8eb0c1c182a81"
            ],
            "layout": "IPY_MODEL_992dda0d38b145b88946b67edc62ab57"
          }
        },
        "b6288aa156624b108015ab993c54d52b": {
          "model_module": "@jupyter-widgets/controls",
          "model_module_version": "1.5.0",
          "model_name": "HTMLModel",
          "state": {
            "_dom_classes": [],
            "_model_module": "@jupyter-widgets/controls",
            "_model_module_version": "1.5.0",
            "_model_name": "HTMLModel",
            "_view_count": null,
            "_view_module": "@jupyter-widgets/controls",
            "_view_module_version": "1.5.0",
            "_view_name": "HTMLView",
            "description": "",
            "description_tooltip": null,
            "layout": "IPY_MODEL_d25235d18f8045de9948417d13538ef3",
            "placeholder": "​",
            "style": "IPY_MODEL_01d3490253a8464281845cb171385d59",
            "value": "100%"
          }
        },
        "d25235d18f8045de9948417d13538ef3": {
          "model_module": "@jupyter-widgets/base",
          "model_module_version": "1.2.0",
          "model_name": "LayoutModel",
          "state": {
            "_model_module": "@jupyter-widgets/base",
            "_model_module_version": "1.2.0",
            "_model_name": "LayoutModel",
            "_view_count": null,
            "_view_module": "@jupyter-widgets/base",
            "_view_module_version": "1.2.0",
            "_view_name": "LayoutView",
            "align_content": null,
            "align_items": null,
            "align_self": null,
            "border": null,
            "bottom": null,
            "display": null,
            "flex": null,
            "flex_flow": null,
            "grid_area": null,
            "grid_auto_columns": null,
            "grid_auto_flow": null,
            "grid_auto_rows": null,
            "grid_column": null,
            "grid_gap": null,
            "grid_row": null,
            "grid_template_areas": null,
            "grid_template_columns": null,
            "grid_template_rows": null,
            "height": null,
            "justify_content": null,
            "justify_items": null,
            "left": null,
            "margin": null,
            "max_height": null,
            "max_width": null,
            "min_height": null,
            "min_width": null,
            "object_fit": null,
            "object_position": null,
            "order": null,
            "overflow": null,
            "overflow_x": null,
            "overflow_y": null,
            "padding": null,
            "right": null,
            "top": null,
            "visibility": null,
            "width": null
          }
        },
        "d539e4a476cb4ae28e78769b17b97aa9": {
          "model_module": "@jupyter-widgets/base",
          "model_module_version": "1.2.0",
          "model_name": "LayoutModel",
          "state": {
            "_model_module": "@jupyter-widgets/base",
            "_model_module_version": "1.2.0",
            "_model_name": "LayoutModel",
            "_view_count": null,
            "_view_module": "@jupyter-widgets/base",
            "_view_module_version": "1.2.0",
            "_view_name": "LayoutView",
            "align_content": null,
            "align_items": null,
            "align_self": null,
            "border": null,
            "bottom": null,
            "display": null,
            "flex": null,
            "flex_flow": null,
            "grid_area": null,
            "grid_auto_columns": null,
            "grid_auto_flow": null,
            "grid_auto_rows": null,
            "grid_column": null,
            "grid_gap": null,
            "grid_row": null,
            "grid_template_areas": null,
            "grid_template_columns": null,
            "grid_template_rows": null,
            "height": null,
            "justify_content": null,
            "justify_items": null,
            "left": null,
            "margin": null,
            "max_height": null,
            "max_width": null,
            "min_height": null,
            "min_width": null,
            "object_fit": null,
            "object_position": null,
            "order": null,
            "overflow": null,
            "overflow_x": null,
            "overflow_y": null,
            "padding": null,
            "right": null,
            "top": null,
            "visibility": null,
            "width": null
          }
        },
        "f45e5f0d4187404fb8f63acd3c26fe17": {
          "model_module": "@jupyter-widgets/controls",
          "model_module_version": "1.5.0",
          "model_name": "FloatProgressModel",
          "state": {
            "_dom_classes": [],
            "_model_module": "@jupyter-widgets/controls",
            "_model_module_version": "1.5.0",
            "_model_name": "FloatProgressModel",
            "_view_count": null,
            "_view_module": "@jupyter-widgets/controls",
            "_view_module_version": "1.5.0",
            "_view_name": "ProgressView",
            "bar_style": "success",
            "description": "",
            "description_tooltip": null,
            "layout": "IPY_MODEL_7f079b743c6e4ad897ae55ba366a15b9",
            "max": 32,
            "min": 0,
            "orientation": "horizontal",
            "style": "IPY_MODEL_54cbbc7ffbcc401abfbf3167f882019e",
            "value": 32
          }
        },
        "fb379b55e7bd4b3bb7ed4b0ec6390b2e": {
          "model_module": "@jupyter-widgets/controls",
          "model_module_version": "1.5.0",
          "model_name": "DescriptionStyleModel",
          "state": {
            "_model_module": "@jupyter-widgets/controls",
            "_model_module_version": "1.5.0",
            "_model_name": "DescriptionStyleModel",
            "_view_count": null,
            "_view_module": "@jupyter-widgets/base",
            "_view_module_version": "1.2.0",
            "_view_name": "StyleView",
            "description_width": ""
          }
        }
      }
    }
  },
  "nbformat": 4,
  "nbformat_minor": 0
}
