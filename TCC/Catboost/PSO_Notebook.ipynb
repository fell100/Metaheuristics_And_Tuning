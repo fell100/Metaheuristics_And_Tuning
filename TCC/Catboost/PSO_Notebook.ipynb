{
 "cells": [
  {
   "cell_type": "code",
   "execution_count": 66,
   "metadata": {},
   "outputs": [],
   "source": [
    "import pickle\n",
    "from sklearn.neighbors import KNeighborsClassifier\n",
    "from sklearn.metrics import accuracy_score, confusion_matrix, classification_report\n",
    "import numpy as np\n",
    "from tqdm.notebook import tqdm as tqdm\n",
    "import matplotlib.pyplot as plt\n",
    "from sklearn.model_selection import cross_val_score, KFold\n",
    "import pickle\n",
    "from pymoo.algorithms.soo.nonconvex.pso import PSO, PSOAnimation\n",
    "from pymoo.optimize import minimize\n",
    "import matplotlib.pyplot as plt\n",
    "from pymoo.factory import get_termination\n",
    "from pymoo.core.callback import Callback\n",
    "from catboost import CatBoostClassifier\n",
    "import numpy as np\n",
    "from pymoo.core.problem import ElementwiseProblem"
   ]
  },
  {
   "cell_type": "code",
   "execution_count": 67,
   "metadata": {},
   "outputs": [],
   "source": [
    "with open('./fruit.pkl', 'rb') as f:\n",
    "    x_fruit, y_fruit = pickle.load(f)"
   ]
  },
  {
   "cell_type": "code",
   "execution_count": 68,
   "metadata": {},
   "outputs": [],
   "source": [
    "iterations_min = 20  #n_estimators n_estimators #INT\n",
    "learning_rate_min = 0.001  #FLOAT\n",
    "l2_leaf_reg_min = 0.01  #FLOAT reg_lambda\n",
    "bagging_temperature_min = 0.001  # float\n",
    "subsample_min = 1.0   #float \n",
    "mvs_reg_min = 0.001  #float 0 - inf\n",
    "random_strength_min = 0.001  #float 1.0 \n",
    "use_best_model_min = False  #bool true false\n",
    "best_model_min_trees_min = 1  #int \n",
    "depth_min = 1  #max_depth 8 int\n",
    "min_data_in_leaf_min = 1  #min_child_samples int\n",
    "max_leaves_min = 1  #num_leaves int \n",
    "one_hot_max_size_min = 1  #int \n",
    "rsm_min = 0.001  #colsample_bylevel float (0;1]\n",
    "fold_permutation_block_min = 1  #int \n",
    "leaf_estimation_iterations_min = 1  #int\n",
    "fold_len_multiplier_min = 2.0  #float\n",
    "approx_on_full_history_min = False  #bool \n",
    "boost_from_average_min = False  #bool \n",
    "diffusion_temperature_min = 1000  #float 10000\n",
    "posterior_sampling_min = False  #bool\n",
    "allow_const_label_min = False  #bool\n",
    "penalties_coefficient_min = 1.0  #float\n",
    "model_shrink_rate_min = 0.001  #float\n",
    "\n",
    "iterations_max = 100  #n_estimators n_estimators #INT\n",
    "learning_rate_max = 0.5  #FLOAT\n",
    "l2_leaf_reg_max = 0.01  #FLOAT reg_lambda\n",
    "bagging_temperature_max = 10000.0  # float\n",
    "subsample_max = 2.0  #float \n",
    "mvs_reg_max = 1000.0  #float 0 - inf\n",
    "random_strength_max = 10.0  #float 1.0 \n",
    "use_best_model_max = True  #bool true false\n",
    "best_model_min_trees_max = 10  #int \n",
    "depth_max = 10  #max_depth 8 int \n",
    "min_data_in_leaf_max = 100  #min_child_samples int\n",
    "max_leaves_max = 10  #num_leaves int \n",
    "one_hot_max_size_max = 20  #int \n",
    "rsm_max = 1.0   #colsample_bylevel float (0;1]\n",
    "fold_permutation_block_max = 100  #int \n",
    "leaf_estimation_iterations_max = 100  #int\n",
    "fold_len_multiplier_max = 10.0  #float\n",
    "approx_on_full_history_max = True  #bool \n",
    "boost_from_average_max = True  #bool \n",
    "diffusion_temperature_max = 50000  #float 10000\n",
    "posterior_sampling_max = True  #bool\n",
    "allow_const_label_max = True  #bool\n",
    "penalties_coefficient_max = 10.0  #float\n",
    "model_shrink_rate_max = 1.0  #float\n",
    "\n",
    "grow_policy = 'Lossguide'"
   ]
  },
  {
   "cell_type": "code",
   "execution_count": 69,
   "metadata": {},
   "outputs": [],
   "source": [
    "class OptimizeWithAccuracy(ElementwiseProblem):\n",
    "    def __init__(self):\n",
    "        xl=np.array([iterations_min,\n",
    "                    learning_rate_min,\n",
    "                    l2_leaf_reg_min,\n",
    "                    bagging_temperature_min,\n",
    "                    random_strength_min,\n",
    "                    best_model_min_trees_min,\n",
    "                    depth_min,\n",
    "                    min_data_in_leaf_min,\n",
    "                    max_leaves_min,\n",
    "                    one_hot_max_size_min,\n",
    "                    rsm_min,\n",
    "                    fold_permutation_block_min,\n",
    "                    leaf_estimation_iterations_min,\n",
    "                    fold_len_multiplier_min,\n",
    "                    penalties_coefficient_min,\n",
    "                    model_shrink_rate_min])\n",
    "        xu=np.array([iterations_max,\n",
    "                    learning_rate_max,\n",
    "                    l2_leaf_reg_max,\n",
    "                    bagging_temperature_max,\n",
    "                    random_strength_max,\n",
    "                    best_model_min_trees_max,\n",
    "                    depth_max,\n",
    "                    min_data_in_leaf_max,\n",
    "                    max_leaves_max,\n",
    "                    one_hot_max_size_max,\n",
    "                    rsm_max,\n",
    "                    fold_permutation_block_max,\n",
    "                    leaf_estimation_iterations_max,\n",
    "                    fold_len_multiplier_max,\n",
    "                    penalties_coefficient_max,\n",
    "                    model_shrink_rate_max])\n",
    "\n",
    "        super().__init__(n_var=len(xu), n_obj=1, n_ieq_constr=2, xl=xl, xu=xu)\n",
    "\n",
    "    def _evaluate(self, x, out, *args, **kwargs):\n",
    "        model_catboost = CatBoostClassifier(\n",
    "                                        iterations = int(np.round(x[0])),\n",
    "                                        learning_rate = x[1],\n",
    "                                        l2_leaf_reg = x[2],\n",
    "                                        bagging_temperature = x[3],\n",
    "                                        random_strength = x[4],\n",
    "                                        best_model_min_trees = int(np.round(x[5])), \n",
    "                                        depth = int(np.round(x[6])), \n",
    "                                        min_data_in_leaf = int(np.round(x[7])), \n",
    "                                        max_leaves = int(np.round(x[8])), \n",
    "                                        one_hot_max_size = int(np.round(x[9])), \n",
    "                                        rsm = x[10],\n",
    "                                        fold_permutation_block = int(np.round(x[11])), \n",
    "                                        leaf_estimation_iterations = int(np.round(x[12])), \n",
    "                                        fold_len_multiplier = x[13],\n",
    "                                        approx_on_full_history = False,\n",
    "                                        penalties_coefficient = x[14],\n",
    "                                        model_shrink_rate = x[15],\n",
    "                                        loss_function='MultiClass',\n",
    "                                        grow_policy = 'Lossguide',\n",
    "                                        thread_count = -1\n",
    "                                       )\n",
    "        \n",
    "        kfold = KFold(n_splits = 3, shuffle = True)\n",
    "        \n",
    "        scores = cross_val_score(model_catboost, x_fruit, y_fruit, cv = kfold, n_jobs=-1)\n",
    "        if scores is not None and not np.any(np.isnan(scores)):\n",
    "            result = scores.mean()\n",
    "            out['F'] = -1 * result\n",
    "        else:\n",
    "            out['F'] = np.inf \n",
    "        #result = scores.mean()     \n",
    "        \n",
    "        #out['F'] = -1 * result\n",
    "        #out['G'] = -1 * result\n",
    "                \n",
    "problemAccuracy = OptimizeWithAccuracy()"
   ]
  },
  {
   "cell_type": "code",
   "execution_count": 70,
   "metadata": {},
   "outputs": [
    {
     "data": {
      "text/plain": [
       "'\\nfrom pymoo.util.display.column import Column\\nfrom pymoo.util.display.output import Output\\n\\n\\nclass MyOutput(Output):\\n\\n    def __init__(self):\\n        super().__init__()\\n        self.score = Column(\"score\", width=13)\\n        self.columns += [self.score]\\n\\n    def update(self, algorithm):\\n        super().update(algorithm)\\n        self.score.set(-np.min(algorithm.pop.get(\"F\")))'"
      ]
     },
     "execution_count": 70,
     "metadata": {},
     "output_type": "execute_result"
    }
   ],
   "source": [
    "'''\n",
    "from pymoo.util.display.column import Column\n",
    "from pymoo.util.display.output import Output\n",
    "\n",
    "\n",
    "class MyOutput(Output):\n",
    "\n",
    "    def __init__(self):\n",
    "        super().__init__()\n",
    "        self.score = Column(\"score\", width=13)\n",
    "        self.columns += [self.score]\n",
    "\n",
    "    def update(self, algorithm):\n",
    "        super().update(algorithm)\n",
    "        self.score.set(-np.min(algorithm.pop.get(\"F\")))'''"
   ]
  },
  {
   "cell_type": "code",
   "execution_count": 71,
   "metadata": {},
   "outputs": [],
   "source": [
    "def run_accuracy_pso(ITERATIONS = 32, POPULATION = 32):\n",
    "    algorithm = PSO(max_velocity_rate=0.25,\n",
    "                    pop_size=POPULATION)\n",
    "                    \n",
    "    term = get_termination(\"n_gen\", ITERATIONS)\n",
    "\n",
    "    res = minimize(problemAccuracy,\n",
    "                algorithm,\n",
    "                #seed=SEED,\n",
    "                save_history=False,\n",
    "                verbose=True,\n",
    "                #output=MyOutput(),\n",
    "                termination = term)\n",
    "\n",
    "\n",
    "    #index_best_individual = np.where(res.pop.get('F') == np.min(res.pop.get('F')))[0][0]\n",
    "    #score_best_individual = res.pop.get('F')[index_best_individual]\n",
    "    #parameters_best_individual = res.pop.get('X')[index_best_individual]\n",
    "\n",
    "    #print(f'Best Accuracy Score {-score_best_individual}')\n",
    "    #print(f'Model parameters: \\n {parameters_best_individual}')\n",
    "    #return score_best_individual, parameters_best_individual, res"
   ]
  },
  {
   "cell_type": "code",
   "execution_count": 72,
   "metadata": {},
   "outputs": [
    {
     "name": "stdout",
     "output_type": "stream",
     "text": [
      "================================================================================================\n",
      "n_gen |  n_eval |     fopt     |     favg     |    f     |   S    |   w    |    c1    |    c2   \n",
      "================================================================================================\n",
      "    1 |      32 | -2.27165E-01 | -2.11443E-01 |        - |      - |  0.900 |  2.00000 |  2.00000\n"
     ]
    },
    {
     "ename": "TypeError",
     "evalue": "'>' not supported between instances of 'NoneType' and 'NoneType'",
     "output_type": "error",
     "traceback": [
      "\u001b[1;31m---------------------------------------------------------------------------\u001b[0m",
      "\u001b[1;31mTypeError\u001b[0m                                 Traceback (most recent call last)",
      "\u001b[1;32m~\\AppData\\Local\\Temp\\ipykernel_316\\2962143704.py\u001b[0m in \u001b[0;36m<module>\u001b[1;34m\u001b[0m\n\u001b[1;32m----> 1\u001b[1;33m \u001b[0mrun_accuracy_pso\u001b[0m\u001b[1;33m(\u001b[0m\u001b[1;33m)\u001b[0m\u001b[1;33m\u001b[0m\u001b[1;33m\u001b[0m\u001b[0m\n\u001b[0m",
      "\u001b[1;32m~\\AppData\\Local\\Temp\\ipykernel_316\\1926077235.py\u001b[0m in \u001b[0;36mrun_accuracy_pso\u001b[1;34m(ITERATIONS, POPULATION)\u001b[0m\n\u001b[0;32m     11\u001b[0m                 \u001b[0mverbose\u001b[0m\u001b[1;33m=\u001b[0m\u001b[1;32mTrue\u001b[0m\u001b[1;33m,\u001b[0m\u001b[1;33m\u001b[0m\u001b[1;33m\u001b[0m\u001b[0m\n\u001b[0;32m     12\u001b[0m                 \u001b[1;31m#output=MyOutput(),\u001b[0m\u001b[1;33m\u001b[0m\u001b[1;33m\u001b[0m\u001b[1;33m\u001b[0m\u001b[0m\n\u001b[1;32m---> 13\u001b[1;33m                 termination = term)\n\u001b[0m\u001b[0;32m     14\u001b[0m \u001b[1;33m\u001b[0m\u001b[0m\n\u001b[0;32m     15\u001b[0m \u001b[1;33m\u001b[0m\u001b[0m\n",
      "\u001b[1;32mc:\\Users\\Felps\\anaconda3\\envs\\myenv\\lib\\site-packages\\pymoo\\optimize.py\u001b[0m in \u001b[0;36mminimize\u001b[1;34m(problem, algorithm, termination, copy_algorithm, copy_termination, **kwargs)\u001b[0m\n\u001b[0;32m     81\u001b[0m \u001b[1;33m\u001b[0m\u001b[0m\n\u001b[0;32m     82\u001b[0m     \u001b[1;31m# actually execute the algorithm\u001b[0m\u001b[1;33m\u001b[0m\u001b[1;33m\u001b[0m\u001b[1;33m\u001b[0m\u001b[0m\n\u001b[1;32m---> 83\u001b[1;33m     \u001b[0mres\u001b[0m \u001b[1;33m=\u001b[0m \u001b[0malgorithm\u001b[0m\u001b[1;33m.\u001b[0m\u001b[0mrun\u001b[0m\u001b[1;33m(\u001b[0m\u001b[1;33m)\u001b[0m\u001b[1;33m\u001b[0m\u001b[1;33m\u001b[0m\u001b[0m\n\u001b[0m\u001b[0;32m     84\u001b[0m \u001b[1;33m\u001b[0m\u001b[0m\n\u001b[0;32m     85\u001b[0m     \u001b[1;31m# store the deep copied algorithm in the result object\u001b[0m\u001b[1;33m\u001b[0m\u001b[1;33m\u001b[0m\u001b[1;33m\u001b[0m\u001b[0m\n",
      "\u001b[1;32mc:\\Users\\Felps\\anaconda3\\envs\\myenv\\lib\\site-packages\\pymoo\\core\\algorithm.py\u001b[0m in \u001b[0;36mrun\u001b[1;34m(self)\u001b[0m\n\u001b[0;32m    211\u001b[0m         \u001b[1;31m# while termination criterion not fulfilled\u001b[0m\u001b[1;33m\u001b[0m\u001b[1;33m\u001b[0m\u001b[1;33m\u001b[0m\u001b[0m\n\u001b[0;32m    212\u001b[0m         \u001b[1;32mwhile\u001b[0m \u001b[0mself\u001b[0m\u001b[1;33m.\u001b[0m\u001b[0mhas_next\u001b[0m\u001b[1;33m(\u001b[0m\u001b[1;33m)\u001b[0m\u001b[1;33m:\u001b[0m\u001b[1;33m\u001b[0m\u001b[1;33m\u001b[0m\u001b[0m\n\u001b[1;32m--> 213\u001b[1;33m             \u001b[0mself\u001b[0m\u001b[1;33m.\u001b[0m\u001b[0mnext\u001b[0m\u001b[1;33m(\u001b[0m\u001b[1;33m)\u001b[0m\u001b[1;33m\u001b[0m\u001b[1;33m\u001b[0m\u001b[0m\n\u001b[0m\u001b[0;32m    214\u001b[0m \u001b[1;33m\u001b[0m\u001b[0m\n\u001b[0;32m    215\u001b[0m         \u001b[1;31m# create the result object to be returned\u001b[0m\u001b[1;33m\u001b[0m\u001b[1;33m\u001b[0m\u001b[1;33m\u001b[0m\u001b[0m\n",
      "\u001b[1;32mc:\\Users\\Felps\\anaconda3\\envs\\myenv\\lib\\site-packages\\pymoo\\core\\algorithm.py\u001b[0m in \u001b[0;36mnext\u001b[1;34m(self)\u001b[0m\n\u001b[0;32m    232\u001b[0m         \u001b[1;32mif\u001b[0m \u001b[0minfills\u001b[0m \u001b[1;32mis\u001b[0m \u001b[1;32mnot\u001b[0m \u001b[1;32mNone\u001b[0m\u001b[1;33m:\u001b[0m\u001b[1;33m\u001b[0m\u001b[1;33m\u001b[0m\u001b[0m\n\u001b[0;32m    233\u001b[0m             \u001b[0mself\u001b[0m\u001b[1;33m.\u001b[0m\u001b[0mevaluator\u001b[0m\u001b[1;33m.\u001b[0m\u001b[0meval\u001b[0m\u001b[1;33m(\u001b[0m\u001b[0mself\u001b[0m\u001b[1;33m.\u001b[0m\u001b[0mproblem\u001b[0m\u001b[1;33m,\u001b[0m \u001b[0minfills\u001b[0m\u001b[1;33m,\u001b[0m \u001b[0malgorithm\u001b[0m\u001b[1;33m=\u001b[0m\u001b[0mself\u001b[0m\u001b[1;33m)\u001b[0m\u001b[1;33m\u001b[0m\u001b[1;33m\u001b[0m\u001b[0m\n\u001b[1;32m--> 234\u001b[1;33m             \u001b[0mself\u001b[0m\u001b[1;33m.\u001b[0m\u001b[0madvance\u001b[0m\u001b[1;33m(\u001b[0m\u001b[0minfills\u001b[0m\u001b[1;33m=\u001b[0m\u001b[0minfills\u001b[0m\u001b[1;33m)\u001b[0m\u001b[1;33m\u001b[0m\u001b[1;33m\u001b[0m\u001b[0m\n\u001b[0m\u001b[0;32m    235\u001b[0m \u001b[1;33m\u001b[0m\u001b[0m\n\u001b[0;32m    236\u001b[0m         \u001b[1;31m# if the algorithm does not follow the infill-advance scheme just call advance\u001b[0m\u001b[1;33m\u001b[0m\u001b[1;33m\u001b[0m\u001b[1;33m\u001b[0m\u001b[0m\n",
      "\u001b[1;32mc:\\Users\\Felps\\anaconda3\\envs\\myenv\\lib\\site-packages\\pymoo\\core\\algorithm.py\u001b[0m in \u001b[0;36madvance\u001b[1;34m(self, infills, **kwargs)\u001b[0m\n\u001b[0;32m    301\u001b[0m \u001b[1;33m\u001b[0m\u001b[0m\n\u001b[0;32m    302\u001b[0m             \u001b[1;31m# call the implementation of the advance method - if the infill is not None\u001b[0m\u001b[1;33m\u001b[0m\u001b[1;33m\u001b[0m\u001b[1;33m\u001b[0m\u001b[0m\n\u001b[1;32m--> 303\u001b[1;33m             \u001b[0mself\u001b[0m\u001b[1;33m.\u001b[0m\u001b[0m_advance\u001b[0m\u001b[1;33m(\u001b[0m\u001b[0minfills\u001b[0m\u001b[1;33m=\u001b[0m\u001b[0minfills\u001b[0m\u001b[1;33m,\u001b[0m \u001b[1;33m**\u001b[0m\u001b[0mkwargs\u001b[0m\u001b[1;33m)\u001b[0m\u001b[1;33m\u001b[0m\u001b[1;33m\u001b[0m\u001b[0m\n\u001b[0m\u001b[0;32m    304\u001b[0m \u001b[1;33m\u001b[0m\u001b[0m\n\u001b[0;32m    305\u001b[0m         \u001b[1;31m# execute everything which needs to be done after having the algorithm advanced to the next generation\u001b[0m\u001b[1;33m\u001b[0m\u001b[1;33m\u001b[0m\u001b[1;33m\u001b[0m\u001b[0m\n",
      "\u001b[1;32mc:\\Users\\Felps\\anaconda3\\envs\\myenv\\lib\\site-packages\\pymoo\\algorithms\\soo\\nonconvex\\pso.py\u001b[0m in \u001b[0;36m_advance\u001b[1;34m(self, infills)\u001b[0m\n\u001b[0;32m    266\u001b[0m \u001b[1;33m\u001b[0m\u001b[0m\n\u001b[0;32m    267\u001b[0m         \u001b[1;32mif\u001b[0m \u001b[0mself\u001b[0m\u001b[1;33m.\u001b[0m\u001b[0madaptive\u001b[0m\u001b[1;33m:\u001b[0m\u001b[1;33m\u001b[0m\u001b[1;33m\u001b[0m\u001b[0m\n\u001b[1;32m--> 268\u001b[1;33m             \u001b[0mself\u001b[0m\u001b[1;33m.\u001b[0m\u001b[0m_adapt\u001b[0m\u001b[1;33m(\u001b[0m\u001b[1;33m)\u001b[0m\u001b[1;33m\u001b[0m\u001b[1;33m\u001b[0m\u001b[0m\n\u001b[0m\u001b[0;32m    269\u001b[0m \u001b[1;33m\u001b[0m\u001b[0m\n\u001b[0;32m    270\u001b[0m     \u001b[1;32mdef\u001b[0m \u001b[0m_social_best\u001b[0m\u001b[1;33m(\u001b[0m\u001b[0mself\u001b[0m\u001b[1;33m)\u001b[0m\u001b[1;33m:\u001b[0m\u001b[1;33m\u001b[0m\u001b[1;33m\u001b[0m\u001b[0m\n",
      "\u001b[1;32mc:\\Users\\Felps\\anaconda3\\envs\\myenv\\lib\\site-packages\\pymoo\\algorithms\\soo\\nonconvex\\pso.py\u001b[0m in \u001b[0;36m_adapt\u001b[1;34m(self)\u001b[0m\n\u001b[0;32m    288\u001b[0m \u001b[1;33m\u001b[0m\u001b[0m\n\u001b[0;32m    289\u001b[0m         \u001b[0mS\u001b[0m \u001b[1;33m=\u001b[0m \u001b[0mnp\u001b[0m\u001b[1;33m.\u001b[0m\u001b[0marray\u001b[0m\u001b[1;33m(\u001b[0m\u001b[1;33m[\u001b[0m\u001b[0mS1_exploration\u001b[0m\u001b[1;33m(\u001b[0m\u001b[0mf\u001b[0m\u001b[1;33m)\u001b[0m\u001b[1;33m,\u001b[0m \u001b[0mS2_exploitation\u001b[0m\u001b[1;33m(\u001b[0m\u001b[0mf\u001b[0m\u001b[1;33m)\u001b[0m\u001b[1;33m,\u001b[0m \u001b[0mS3_convergence\u001b[0m\u001b[1;33m(\u001b[0m\u001b[0mf\u001b[0m\u001b[1;33m)\u001b[0m\u001b[1;33m,\u001b[0m \u001b[0mS4_jumping_out\u001b[0m\u001b[1;33m(\u001b[0m\u001b[0mf\u001b[0m\u001b[1;33m)\u001b[0m\u001b[1;33m]\u001b[0m\u001b[1;33m)\u001b[0m\u001b[1;33m\u001b[0m\u001b[1;33m\u001b[0m\u001b[0m\n\u001b[1;32m--> 290\u001b[1;33m         \u001b[0mstrategy\u001b[0m \u001b[1;33m=\u001b[0m \u001b[0mS\u001b[0m\u001b[1;33m.\u001b[0m\u001b[0margmax\u001b[0m\u001b[1;33m(\u001b[0m\u001b[1;33m)\u001b[0m \u001b[1;33m+\u001b[0m \u001b[1;36m1\u001b[0m\u001b[1;33m\u001b[0m\u001b[1;33m\u001b[0m\u001b[0m\n\u001b[0m\u001b[0;32m    291\u001b[0m \u001b[1;33m\u001b[0m\u001b[0m\n\u001b[0;32m    292\u001b[0m         \u001b[0mdelta\u001b[0m \u001b[1;33m=\u001b[0m \u001b[1;36m0.05\u001b[0m \u001b[1;33m+\u001b[0m \u001b[1;33m(\u001b[0m\u001b[0mnp\u001b[0m\u001b[1;33m.\u001b[0m\u001b[0mrandom\u001b[0m\u001b[1;33m.\u001b[0m\u001b[0mrandom\u001b[0m\u001b[1;33m(\u001b[0m\u001b[1;33m)\u001b[0m \u001b[1;33m*\u001b[0m \u001b[1;36m0.05\u001b[0m\u001b[1;33m)\u001b[0m\u001b[1;33m\u001b[0m\u001b[1;33m\u001b[0m\u001b[0m\n",
      "\u001b[1;31mTypeError\u001b[0m: '>' not supported between instances of 'NoneType' and 'NoneType'"
     ]
    }
   ],
   "source": [
    "run_accuracy_pso()"
   ]
  },
  {
   "cell_type": "code",
   "execution_count": null,
   "metadata": {},
   "outputs": [
    {
     "ename": "NameError",
     "evalue": "name 'POPULATION' is not defined",
     "output_type": "error",
     "traceback": [
      "\u001b[1;31m---------------------------------------------------------------------------\u001b[0m",
      "\u001b[1;31mNameError\u001b[0m                                 Traceback (most recent call last)",
      "Cell \u001b[1;32mIn[14], line 5\u001b[0m\n\u001b[0;32m      2\u001b[0m \u001b[39mfrom\u001b[39;00m \u001b[39mpymoo\u001b[39;00m\u001b[39m.\u001b[39;00m\u001b[39mtermination\u001b[39;00m \u001b[39mimport\u001b[39;00m get_termination\n\u001b[0;32m      3\u001b[0m \u001b[39mfrom\u001b[39;00m \u001b[39mpymoo\u001b[39;00m\u001b[39m.\u001b[39;00m\u001b[39malgorithms\u001b[39;00m\u001b[39m.\u001b[39;00m\u001b[39msoo\u001b[39;00m\u001b[39m.\u001b[39;00m\u001b[39mnonconvex\u001b[39;00m\u001b[39m.\u001b[39;00m\u001b[39mga\u001b[39;00m \u001b[39mimport\u001b[39;00m GA\n\u001b[1;32m----> 5\u001b[0m algorithm \u001b[39m=\u001b[39m GA(pop_size\u001b[39m=\u001b[39mPOPULATION)\n\u001b[0;32m      7\u001b[0m term \u001b[39m=\u001b[39m get_termination(\u001b[39m\"\u001b[39m\u001b[39mn_gen\u001b[39m\u001b[39m\"\u001b[39m, ITERATIONS)\n\u001b[0;32m      9\u001b[0m res \u001b[39m=\u001b[39m minimize(problem,\n\u001b[0;32m     10\u001b[0m                algorithm,\n\u001b[0;32m     11\u001b[0m                \u001b[39m#seed=SEED,\u001b[39;00m\n\u001b[1;32m   (...)\u001b[0m\n\u001b[0;32m     14\u001b[0m                verbose\u001b[39m=\u001b[39m\u001b[39mTrue\u001b[39;00m,\n\u001b[0;32m     15\u001b[0m                termination \u001b[39m=\u001b[39m term)\n",
      "\u001b[1;31mNameError\u001b[0m: name 'POPULATION' is not defined"
     ]
    }
   ],
   "source": [
    "from pymoo.optimize import minimize\n",
    "from pymoo.termination import get_termination\n",
    "from pymoo.algorithms.soo.nonconvex.ga import GA\n",
    "\n",
    "algorithm = GA(pop_size=POPULATION)\n",
    "\n",
    "term = get_termination(\"n_gen\", ITERATIONS)\n",
    "\n",
    "res = minimize(problem,\n",
    "               algorithm,\n",
    "               #seed=SEED,\n",
    "               save_history=True,\n",
    "               output=MyOutput(),\n",
    "               verbose=True,\n",
    "               termination = term)"
   ]
  }
 ],
 "metadata": {
  "kernelspec": {
   "display_name": "Python 3",
   "language": "python",
   "name": "python3"
  },
  "language_info": {
   "codemirror_mode": {
    "name": "ipython",
    "version": 3
   },
   "file_extension": ".py",
   "mimetype": "text/x-python",
   "name": "python",
   "nbconvert_exporter": "python",
   "pygments_lexer": "ipython3",
   "version": "3.7.16"
  },
  "orig_nbformat": 4
 },
 "nbformat": 4,
 "nbformat_minor": 2
}
