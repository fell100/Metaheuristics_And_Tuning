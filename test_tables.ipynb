{
 "cells": [
  {
   "cell_type": "code",
   "execution_count": 37,
   "metadata": {},
   "outputs": [],
   "source": [
    "import pandas as pd"
   ]
  },
  {
   "cell_type": "code",
   "execution_count": 38,
   "metadata": {},
   "outputs": [],
   "source": [
    "lgb_tests = pd.read_csv('./LightGBM/final_testes_lightGBM.csv')\n",
    "cbst_tests = pd.read_csv('./CatBoost/final_testes_CatBoost.csv')\n",
    "xgb_tests = pd.read_csv('./XGBoost/final_testes_XGBoost.csv')"
   ]
  },
  {
   "cell_type": "code",
   "execution_count": 39,
   "metadata": {},
   "outputs": [],
   "source": [
    "sample = lgb_tests[(lgb_tests['metrica'] == 'F1') & (lgb_tests['Dataset'] == 'Fruit')][['Amostras', 'Pvalue', 'estimate']]"
   ]
  },
  {
   "cell_type": "code",
   "execution_count": 40,
   "metadata": {},
   "outputs": [
    {
     "name": "stdout",
     "output_type": "stream",
     "text": [
      "                GA Random Search       PSO    OPTUNA\n",
      "GA             NaN      ↑ 0.9556  ↑ 1.0000  ↑ 0.9433\n",
      "Random Search  NaN           NaN       NaN       NaN\n",
      "PSO            NaN      ↑ 0.0111       NaN       NaN\n",
      "OPTUNA         NaN      ↑ 0.7167  ↑ 1.0000       NaN\n"
     ]
    }
   ],
   "source": [
    "df = sample\n",
    "# Create the matrix DataFrame\n",
    "matrix = pd.DataFrame(index=['GA', 'Random Search', 'PSO', 'OPTUNA'], columns=['GA', 'Random Search', 'PSO', 'OPTUNA'])\n",
    "# Fill the matrix with arrow symbols and magnitude values\n",
    "for index, row in df.iterrows():\n",
    "    amostra_1, amostra_2 = row['Amostras'].split('_')\n",
    "    p_value = row['Pvalue']\n",
    "    magnitude = row['estimate']\n",
    "    \n",
    "    if p_value < 0.01:\n",
    "        arrow = '↑'  # Arrow up\n",
    "    else:\n",
    "        arrow = '↓'  # Arrow down\n",
    "    \n",
    "    matrix.loc[amostra_1, amostra_2] = f'{arrow} {magnitude:.4f}'\n",
    "\n",
    "# Print the matrix\n",
    "print(matrix)"
   ]
  },
  {
   "cell_type": "code",
   "execution_count": 41,
   "metadata": {},
   "outputs": [
    {
     "name": "stdout",
     "output_type": "stream",
     "text": [
      "                     GA Random Search       PSO    OPTUNA\n",
      "GA                  NaN      ↑ 0.9556  ↑ 1.0000  ↑ 0.9433\n",
      "Random Search  ↑ 0.9556           NaN  ↑ 0.0111  ↑ 0.7167\n",
      "PSO            ↑ 1.0000      ↑ 0.0111       NaN  ↑ 1.0000\n",
      "OPTUNA         ↑ 0.9433      ↑ 0.7167  ↑ 1.0000       NaN\n"
     ]
    }
   ],
   "source": [
    "import pandas as pd\n",
    "\n",
    "df = sample\n",
    "\n",
    "# Create the matrix DataFrame\n",
    "matrix = pd.DataFrame(index=['GA', 'Random Search', 'PSO', 'OPTUNA'], columns=['GA', 'Random Search', 'PSO', 'OPTUNA'])\n",
    "\n",
    "# Fill the matrix with arrow symbols and magnitude values\n",
    "for index, row in df.iterrows():\n",
    "    amostra_1, amostra_2 = row['Amostras'].split('_')\n",
    "    p_value = row['Pvalue']\n",
    "    magnitude = row['estimate']\n",
    "\n",
    "    if p_value < 0.01:\n",
    "        arrow = '↑'  # Arrow up\n",
    "    else:\n",
    "        arrow = '↓'  # Arrow down\n",
    "\n",
    "    matrix.loc[amostra_1, amostra_2] = f'{arrow} {magnitude:.4f}'\n",
    "    matrix.loc[amostra_2, amostra_1] = f'{arrow} {magnitude:.4f}'  # Fill the reverse relation as well\n",
    "\n",
    "# Print the matrix\n",
    "print(matrix)\n"
   ]
  },
  {
   "cell_type": "code",
   "execution_count": 42,
   "metadata": {},
   "outputs": [
    {
     "name": "stdout",
     "output_type": "stream",
     "text": [
      "\tGA\tRandom Search\tPSO\tOPTUNA\n",
      "GA\t\t↑ 0.9556\t↑ 1.0000\t↑ 0.9433\n",
      "Random Search\t↑ 0.9556\t\t↑ 0.0111\t↑ 0.7167\n",
      "PSO\t↑ 1.0000\t↑ 0.0111\t\t↑ 1.0000\n",
      "OPTUNA\t↑ 0.9433\t↑ 0.7167\t↑ 1.0000\t\n",
      "\n"
     ]
    }
   ],
   "source": [
    "import pandas as pd\n",
    "\n",
    "df = sample\n",
    "\n",
    "# Create the matrix DataFrame\n",
    "matrix = pd.DataFrame(index=['GA', 'Random Search', 'PSO', 'OPTUNA'], columns=['GA', 'Random Search', 'PSO', 'OPTUNA'])\n",
    "\n",
    "# Fill the matrix with arrow symbols and magnitude values\n",
    "for index, row in df.iterrows():\n",
    "    amostra_1, amostra_2 = row['Amostras'].split('_')\n",
    "    p_value = row['Pvalue']\n",
    "    magnitude = row['estimate']\n",
    "\n",
    "    if p_value < 0.01:\n",
    "        arrow = '↑'  # Arrow up\n",
    "    else:\n",
    "        arrow = '↓'  # Arrow down\n",
    "\n",
    "    matrix.loc[amostra_1, amostra_2] = f'{arrow} {magnitude:.4f}'\n",
    "    matrix.loc[amostra_2, amostra_1] = f'{arrow} {magnitude:.4f}'  # Fill the reverse relation as well\n",
    "\n",
    "# Print the matrix in a format for Excel\n",
    "csv_data = matrix.to_csv(sep='\\t')\n",
    "\n",
    "print(csv_data)"
   ]
  },
  {
   "cell_type": "code",
   "execution_count": 43,
   "metadata": {},
   "outputs": [
    {
     "name": "stdout",
     "output_type": "stream",
     "text": [
      "                     GA Random Search       PSO    OPTUNA\n",
      "GA                  NaN      ↑ 0.9556  ↑ 1.0000  ↑ 0.9433\n",
      "Random Search  ↑ 0.9556           NaN  ↑ 0.0111  ↑ 0.7167\n",
      "PSO            ↑ 1.0000      ↑ 0.0111       NaN  ↑ 1.0000\n",
      "OPTUNA         ↑ 0.9433      ↑ 0.7167  ↑ 1.0000       NaN\n"
     ]
    }
   ],
   "source": [
    "import pandas as pd\n",
    "\n",
    "df = sample\n",
    "# Create the matrix DataFrame\n",
    "matrix = pd.DataFrame(index=['GA', 'Random Search', 'PSO', 'OPTUNA'], columns=['GA', 'Random Search', 'PSO', 'OPTUNA'])\n",
    "\n",
    "# Fill the matrix with arrow symbols and magnitude values\n",
    "for index, row in df.iterrows():\n",
    "    amostra_1, amostra_2 = row['Amostras'].split('_')\n",
    "    p_value = row['Pvalue']\n",
    "    magnitude = row['estimate']\n",
    "\n",
    "    if p_value < 0.01:\n",
    "        arrow = '↑'  # Arrow up\n",
    "    else:\n",
    "        arrow = '↓'  # Arrow down\n",
    "\n",
    "    matrix.loc[amostra_1, amostra_2] = f'{arrow} {magnitude:.4f}'\n",
    "    matrix.loc[amostra_2, amostra_1] = f'{arrow} {magnitude:.4f}'  # Fill the reverse relation as well\n",
    "\n",
    "# Print the matrix\n",
    "print(matrix)\n"
   ]
  }
 ],
 "metadata": {
  "kernelspec": {
   "display_name": "Python 3",
   "language": "python",
   "name": "python3"
  },
  "language_info": {
   "codemirror_mode": {
    "name": "ipython",
    "version": 3
   },
   "file_extension": ".py",
   "mimetype": "text/x-python",
   "name": "python",
   "nbconvert_exporter": "python",
   "pygments_lexer": "ipython3",
   "version": "3.11.3"
  },
  "orig_nbformat": 4
 },
 "nbformat": 4,
 "nbformat_minor": 2
}
