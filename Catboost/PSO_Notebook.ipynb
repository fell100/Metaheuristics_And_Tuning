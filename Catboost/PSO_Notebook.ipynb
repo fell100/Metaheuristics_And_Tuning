{
 "cells": [
  {
   "cell_type": "code",
   "execution_count": 1,
   "metadata": {},
   "outputs": [],
   "source": [
    "import pickle\n",
    "from sklearn.neighbors import KNeighborsClassifier\n",
    "from sklearn.metrics import accuracy_score, confusion_matrix, classification_report\n",
    "import numpy as np\n",
    "from tqdm.notebook import tqdm as tqdm\n",
    "import matplotlib.pyplot as plt\n",
    "from sklearn.model_selection import cross_val_score, KFold\n",
    "import pickle\n",
    "from pymoo.algorithms.soo.nonconvex.pso import PSO, PSOAnimation\n",
    "from pymoo.optimize import minimize\n",
    "import matplotlib.pyplot as plt\n",
    "from pymoo.factory import get_termination\n",
    "from pymoo.core.callback import Callback\n",
    "from catboost import CatBoostClassifier\n",
    "import numpy as np\n",
    "from pymoo.core.problem import ElementwiseProblem"
   ]
  },
  {
   "cell_type": "code",
   "execution_count": 2,
   "metadata": {},
   "outputs": [],
   "source": [
    "with open('./fruit.pkl', 'rb') as f:\n",
    "    x_fruit, y_fruit = pickle.load(f)"
   ]
  },
  {
   "cell_type": "code",
   "execution_count": 3,
   "metadata": {},
   "outputs": [],
   "source": [
    "iterations_min = 20  #n_estimators n_estimators #INT\n",
    "learning_rate_min = 0.001  #FLOAT\n",
    "l2_leaf_reg_min = 0.01  #FLOAT reg_lambda\n",
    "bagging_temperature_min = 0.001  # float\n",
    "subsample_min = 1.0   #float \n",
    "mvs_reg_min = 0.001  #float 0 - inf\n",
    "random_strength_min = 0.001  #float 1.0 \n",
    "use_best_model_min = False  #bool true false\n",
    "best_model_min_trees_min = 1  #int \n",
    "depth_min = 1  #max_depth 8 int\n",
    "min_data_in_leaf_min = 1  #min_child_samples int\n",
    "max_leaves_min = 10  #num_leaves int \n",
    "one_hot_max_size_min = 1  #int \n",
    "rsm_min = 0.001  #colsample_bylevel float (0;1]\n",
    "fold_permutation_block_min = 1  #int \n",
    "leaf_estimation_iterations_min = 1  #int\n",
    "fold_len_multiplier_min = 2.0  #float\n",
    "approx_on_full_history_min = False  #bool \n",
    "boost_from_average_min = False  #bool \n",
    "diffusion_temperature_min = 1000  #float 10000\n",
    "posterior_sampling_min = False  #bool\n",
    "allow_const_label_min = False  #bool\n",
    "penalties_coefficient_min = 1.0  #float\n",
    "model_shrink_rate_min = 0.001  #float\n",
    "\n",
    "iterations_max = 100  #n_estimators n_estimators #INT\n",
    "learning_rate_max = 0.5  #FLOAT\n",
    "l2_leaf_reg_max = 0.01  #FLOAT reg_lambda\n",
    "bagging_temperature_max = 10000.0  # float\n",
    "subsample_max = 2.0  #float \n",
    "mvs_reg_max = 1000.0  #float 0 - inf\n",
    "random_strength_max = 10.0  #float 1.0 \n",
    "use_best_model_max = True  #bool true false\n",
    "best_model_min_trees_max = 10  #int \n",
    "depth_max = 1  #max_depth 8 int \n",
    "min_data_in_leaf_max = 100  #min_child_samples int\n",
    "max_leaves_max = 10  #num_leaves int \n",
    "one_hot_max_size_max = 20  #int \n",
    "rsm_max = 1.0   #colsample_bylevel float (0;1]\n",
    "fold_permutation_block_max = 100  #int \n",
    "leaf_estimation_iterations_max = 100  #int\n",
    "fold_len_multiplier_max = 10.0  #float\n",
    "approx_on_full_history_max = True  #bool \n",
    "boost_from_average_max = True  #bool \n",
    "diffusion_temperature_max = 50000  #float 10000\n",
    "posterior_sampling_max = True  #bool\n",
    "allow_const_label_max = True  #bool\n",
    "penalties_coefficient_max = 10.0  #float\n",
    "model_shrink_rate_max = 1.0  #float\n",
    "\n",
    "grow_policy = 'Lossguide'"
   ]
  },
  {
   "cell_type": "code",
   "execution_count": 4,
   "metadata": {},
   "outputs": [],
   "source": [
    "class OptimizeWithAccuracy(ElementwiseProblem):\n",
    "    def __init__(self):\n",
    "        xl=np.array([iterations_min,\n",
    "                    learning_rate_min,\n",
    "                    l2_leaf_reg_min,\n",
    "                    bagging_temperature_min,\n",
    "                    random_strength_min,\n",
    "                    best_model_min_trees_min,\n",
    "                    depth_min,\n",
    "                    min_data_in_leaf_min,\n",
    "                    max_leaves_min,\n",
    "                    one_hot_max_size_min,\n",
    "                    rsm_min,\n",
    "                    fold_permutation_block_min,\n",
    "                    leaf_estimation_iterations_min,\n",
    "                    fold_len_multiplier_min,\n",
    "                    penalties_coefficient_min,\n",
    "                    model_shrink_rate_min])\n",
    "        xu=np.array([iterations_max,\n",
    "                    learning_rate_max,\n",
    "                    l2_leaf_reg_max,\n",
    "                    bagging_temperature_max,\n",
    "                    random_strength_max,\n",
    "                    best_model_min_trees_max,\n",
    "                    depth_max,\n",
    "                    min_data_in_leaf_max,\n",
    "                    max_leaves_max,\n",
    "                    one_hot_max_size_max,\n",
    "                    rsm_max,\n",
    "                    fold_permutation_block_max,\n",
    "                    leaf_estimation_iterations_max,\n",
    "                    fold_len_multiplier_max,\n",
    "                    penalties_coefficient_max,\n",
    "                    model_shrink_rate_max])\n",
    "\n",
    "        super().__init__(n_var=len(xu), n_obj=1, n_ieq_constr=2, xl=xl, xu=xu)\n",
    "\n",
    "    def _evaluate(self, x, out, *args, **kwargs):\n",
    "        model_catboost = CatBoostClassifier(\n",
    "                                        iterations = int(np.round(x[0])),\n",
    "                                        learning_rate = x[1],\n",
    "                                        l2_leaf_reg = x[2],\n",
    "                                        bagging_temperature = x[3],\n",
    "                                        random_strength = x[4],\n",
    "                                        best_model_min_trees = int(np.round(x[5])), \n",
    "                                        depth = int(np.round(x[6])), \n",
    "                                        min_data_in_leaf = int(np.round(x[7])), \n",
    "                                        max_leaves = int(np.round(x[8])), \n",
    "                                        one_hot_max_size = int(np.round(x[9])), \n",
    "                                        rsm = x[10],\n",
    "                                        fold_permutation_block = int(np.round(x[11])), \n",
    "                                        leaf_estimation_iterations = int(np.round(x[12])), \n",
    "                                        fold_len_multiplier = x[13],\n",
    "                                        approx_on_full_history = False,\n",
    "                                        penalties_coefficient = x[14],\n",
    "                                        model_shrink_rate = x[15],\n",
    "                                        loss_function='MultiClass',\n",
    "                                        grow_policy = 'Lossguide',\n",
    "                                        thread_count = -1\n",
    "                                       )\n",
    "        \n",
    "        kfold = KFold(n_splits = 3, shuffle = True)\n",
    "        \n",
    "        scores = cross_val_score(model_catboost, x_fruit, y_fruit, cv = kfold, n_jobs=-1)  \n",
    "        result = scores.mean()     \n",
    "        #out['F'] = -1 * result\n",
    "        #out['G'] = -1 * result\n",
    "        \n",
    "        if result is None:\n",
    "            out['F'] = -1e6 # return a large negative number instead of None\n",
    "        else:\n",
    "            out['F'] = -1 * result\n",
    "        \n",
    "        \n",
    "problemAccuracy = OptimizeWithAccuracy()"
   ]
  },
  {
   "cell_type": "code",
   "execution_count": 5,
   "metadata": {},
   "outputs": [],
   "source": [
    "from pymoo.util.display.column import Column\n",
    "from pymoo.util.display.output import Output\n",
    "\n",
    "\n",
    "class MyOutput(Output):\n",
    "\n",
    "    def __init__(self):\n",
    "        super().__init__()\n",
    "        self.score = Column(\"score\", width=13)\n",
    "        self.columns += [self.score]\n",
    "\n",
    "    def update(self, algorithm):\n",
    "        super().update(algorithm)\n",
    "        self.score.set(-np.min(algorithm.pop.get(\"F\")))"
   ]
  },
  {
   "cell_type": "code",
   "execution_count": 6,
   "metadata": {},
   "outputs": [],
   "source": [
    "def run_accuracy_pso(ITERATIONS = 32, POPULATION = 32):\n",
    "    algorithm = PSO(max_velocity_rate=0.25,\n",
    "                    pop_size=POPULATION)\n",
    "                    \n",
    "    term = get_termination(\"n_gen\", ITERATIONS)\n",
    "\n",
    "    res = minimize(problemAccuracy,\n",
    "                algorithm,\n",
    "                #seed=SEED,\n",
    "                save_history=False,\n",
    "                verbose=True,\n",
    "                output=MyOutput(),\n",
    "                termination = term)\n",
    "\n",
    "\n",
    "    #index_best_individual = np.where(res.pop.get('F') == np.min(res.pop.get('F')))[0][0]\n",
    "    #score_best_individual = res.pop.get('F')[index_best_individual]\n",
    "    #parameters_best_individual = res.pop.get('X')[index_best_individual]\n",
    "\n",
    "    #print(f'Best Accuracy Score {-score_best_individual}')\n",
    "    #print(f'Model parameters: \\n {parameters_best_individual}')\n",
    "    #return score_best_individual, parameters_best_individual, res"
   ]
  },
  {
   "cell_type": "code",
   "execution_count": 7,
   "metadata": {},
   "outputs": [
    {
     "name": "stderr",
     "output_type": "stream",
     "text": [
      "C:\\Users\\Felps\\AppData\\Local\\Temp\\ipykernel_7768\\141096362.py:5: DeprecationWarning: Call to deprecated function (or staticmethod) get_termination. (Please use `from pymoo.termination import get_termination`)\n",
      "  term = get_termination(\"n_gen\", ITERATIONS)\n"
     ]
    },
    {
     "name": "stdout",
     "output_type": "stream",
     "text": [
      "=================================\n",
      "n_gen  |  n_eval  |     score    \n",
      "=================================\n",
      "     1 |       32 |  0.2271683389\n"
     ]
    },
    {
     "name": "stderr",
     "output_type": "stream",
     "text": [
      "c:\\Users\\Felps\\anaconda3\\envs\\pymoo\\lib\\site-packages\\pymoo\\util\\misc.py:99: RuntimeWarning: invalid value encountered in divide\n",
      "  return lambda a, b: np.sqrt((((a - b) / (xu - xl)) ** 2).sum(axis=1))\n"
     ]
    },
    {
     "ename": "TypeError",
     "evalue": "'>' not supported between instances of 'NoneType' and 'NoneType'",
     "output_type": "error",
     "traceback": [
      "\u001b[1;31m---------------------------------------------------------------------------\u001b[0m",
      "\u001b[1;31mTypeError\u001b[0m                                 Traceback (most recent call last)",
      "Cell \u001b[1;32mIn[7], line 1\u001b[0m\n\u001b[1;32m----> 1\u001b[0m run_accuracy_pso()\n",
      "Cell \u001b[1;32mIn[6], line 7\u001b[0m, in \u001b[0;36mrun_accuracy_pso\u001b[1;34m(ITERATIONS, POPULATION)\u001b[0m\n\u001b[0;32m      2\u001b[0m algorithm \u001b[39m=\u001b[39m PSO(max_velocity_rate\u001b[39m=\u001b[39m\u001b[39m0.25\u001b[39m,\n\u001b[0;32m      3\u001b[0m                 pop_size\u001b[39m=\u001b[39mPOPULATION)\n\u001b[0;32m      5\u001b[0m term \u001b[39m=\u001b[39m get_termination(\u001b[39m\"\u001b[39m\u001b[39mn_gen\u001b[39m\u001b[39m\"\u001b[39m, ITERATIONS)\n\u001b[1;32m----> 7\u001b[0m res \u001b[39m=\u001b[39m minimize(problemAccuracy,\n\u001b[0;32m      8\u001b[0m             algorithm,\n\u001b[0;32m      9\u001b[0m             \u001b[39m#seed=SEED,\u001b[39;49;00m\n\u001b[0;32m     10\u001b[0m             save_history\u001b[39m=\u001b[39;49m\u001b[39mFalse\u001b[39;49;00m,\n\u001b[0;32m     11\u001b[0m             verbose\u001b[39m=\u001b[39;49m\u001b[39mTrue\u001b[39;49;00m,\n\u001b[0;32m     12\u001b[0m             output\u001b[39m=\u001b[39;49mMyOutput(),\n\u001b[0;32m     13\u001b[0m             termination \u001b[39m=\u001b[39;49m term)\n",
      "File \u001b[1;32mc:\\Users\\Felps\\anaconda3\\envs\\pymoo\\lib\\site-packages\\pymoo\\optimize.py:67\u001b[0m, in \u001b[0;36mminimize\u001b[1;34m(problem, algorithm, termination, copy_algorithm, copy_termination, **kwargs)\u001b[0m\n\u001b[0;32m     64\u001b[0m     algorithm\u001b[39m.\u001b[39msetup(problem, \u001b[39m*\u001b[39m\u001b[39m*\u001b[39mkwargs)\n\u001b[0;32m     66\u001b[0m \u001b[39m# actually execute the algorithm\u001b[39;00m\n\u001b[1;32m---> 67\u001b[0m res \u001b[39m=\u001b[39m algorithm\u001b[39m.\u001b[39;49mrun()\n\u001b[0;32m     69\u001b[0m \u001b[39m# store the deep copied algorithm in the result object\u001b[39;00m\n\u001b[0;32m     70\u001b[0m res\u001b[39m.\u001b[39malgorithm \u001b[39m=\u001b[39m algorithm\n",
      "File \u001b[1;32mc:\\Users\\Felps\\anaconda3\\envs\\pymoo\\lib\\site-packages\\pymoo\\core\\algorithm.py:141\u001b[0m, in \u001b[0;36mAlgorithm.run\u001b[1;34m(self)\u001b[0m\n\u001b[0;32m    139\u001b[0m \u001b[39mdef\u001b[39;00m \u001b[39mrun\u001b[39m(\u001b[39mself\u001b[39m):\n\u001b[0;32m    140\u001b[0m     \u001b[39mwhile\u001b[39;00m \u001b[39mself\u001b[39m\u001b[39m.\u001b[39mhas_next():\n\u001b[1;32m--> 141\u001b[0m         \u001b[39mself\u001b[39;49m\u001b[39m.\u001b[39;49mnext()\n\u001b[0;32m    142\u001b[0m     \u001b[39mreturn\u001b[39;00m \u001b[39mself\u001b[39m\u001b[39m.\u001b[39mresult()\n",
      "File \u001b[1;32mc:\\Users\\Felps\\anaconda3\\envs\\pymoo\\lib\\site-packages\\pymoo\\core\\algorithm.py:162\u001b[0m, in \u001b[0;36mAlgorithm.next\u001b[1;34m(self)\u001b[0m\n\u001b[0;32m    160\u001b[0m \u001b[39mif\u001b[39;00m infills \u001b[39mis\u001b[39;00m \u001b[39mnot\u001b[39;00m \u001b[39mNone\u001b[39;00m:\n\u001b[0;32m    161\u001b[0m     \u001b[39mself\u001b[39m\u001b[39m.\u001b[39mevaluator\u001b[39m.\u001b[39meval(\u001b[39mself\u001b[39m\u001b[39m.\u001b[39mproblem, infills, algorithm\u001b[39m=\u001b[39m\u001b[39mself\u001b[39m)\n\u001b[1;32m--> 162\u001b[0m     \u001b[39mself\u001b[39;49m\u001b[39m.\u001b[39;49madvance(infills\u001b[39m=\u001b[39;49minfills)\n\u001b[0;32m    164\u001b[0m \u001b[39m# if the algorithm does not follow the infill-advance scheme just call advance\u001b[39;00m\n\u001b[0;32m    165\u001b[0m \u001b[39melse\u001b[39;00m:\n\u001b[0;32m    166\u001b[0m     \u001b[39mself\u001b[39m\u001b[39m.\u001b[39madvance()\n",
      "File \u001b[1;32mc:\\Users\\Felps\\anaconda3\\envs\\pymoo\\lib\\site-packages\\pymoo\\core\\algorithm.py:228\u001b[0m, in \u001b[0;36mAlgorithm.advance\u001b[1;34m(self, infills, **kwargs)\u001b[0m\n\u001b[0;32m    223\u001b[0m     \u001b[39mself\u001b[39m\u001b[39m.\u001b[39m_post_advance()\n\u001b[0;32m    225\u001b[0m \u001b[39melse\u001b[39;00m:\n\u001b[0;32m    226\u001b[0m \n\u001b[0;32m    227\u001b[0m     \u001b[39m# call the implementation of the advance method - if the infill is not None\u001b[39;00m\n\u001b[1;32m--> 228\u001b[0m     val \u001b[39m=\u001b[39m \u001b[39mself\u001b[39m\u001b[39m.\u001b[39m_advance(infills\u001b[39m=\u001b[39minfills, \u001b[39m*\u001b[39m\u001b[39m*\u001b[39mkwargs)\n\u001b[0;32m    230\u001b[0m     \u001b[39m# always advance to the next iteration - except if the algorithm returns False\u001b[39;00m\n\u001b[0;32m    231\u001b[0m     \u001b[39mif\u001b[39;00m val \u001b[39mis\u001b[39;00m \u001b[39mNone\u001b[39;00m \u001b[39mor\u001b[39;00m val:\n",
      "File \u001b[1;32mc:\\Users\\Felps\\anaconda3\\envs\\pymoo\\lib\\site-packages\\pymoo\\algorithms\\soo\\nonconvex\\pso.py:281\u001b[0m, in \u001b[0;36mPSO._advance\u001b[1;34m(self, infills, **kwargs)\u001b[0m\n\u001b[0;32m    278\u001b[0m \u001b[39mself\u001b[39m\u001b[39m.\u001b[39mpop[has_improved] \u001b[39m=\u001b[39m infills[has_improved]\n\u001b[0;32m    280\u001b[0m \u001b[39mif\u001b[39;00m \u001b[39mself\u001b[39m\u001b[39m.\u001b[39madaptive:\n\u001b[1;32m--> 281\u001b[0m     \u001b[39mself\u001b[39;49m\u001b[39m.\u001b[39;49m_adapt()\n",
      "File \u001b[1;32mc:\\Users\\Felps\\anaconda3\\envs\\pymoo\\lib\\site-packages\\pymoo\\algorithms\\soo\\nonconvex\\pso.py:303\u001b[0m, in \u001b[0;36mPSO._adapt\u001b[1;34m(self)\u001b[0m\n\u001b[0;32m    300\u001b[0m f \u001b[39m=\u001b[39m (g_D \u001b[39m-\u001b[39m _min) \u001b[39m/\u001b[39m (_max \u001b[39m-\u001b[39m _min \u001b[39m+\u001b[39m \u001b[39m1e-32\u001b[39m)\n\u001b[0;32m    302\u001b[0m S \u001b[39m=\u001b[39m np\u001b[39m.\u001b[39marray([S1_exploration(f), S2_exploitation(f), S3_convergence(f), S4_jumping_out(f)])\n\u001b[1;32m--> 303\u001b[0m strategy \u001b[39m=\u001b[39m S\u001b[39m.\u001b[39;49margmax() \u001b[39m+\u001b[39m \u001b[39m1\u001b[39m\n\u001b[0;32m    305\u001b[0m delta \u001b[39m=\u001b[39m \u001b[39m0.05\u001b[39m \u001b[39m+\u001b[39m (np\u001b[39m.\u001b[39mrandom\u001b[39m.\u001b[39mrandom() \u001b[39m*\u001b[39m \u001b[39m0.05\u001b[39m)\n\u001b[0;32m    307\u001b[0m \u001b[39mif\u001b[39;00m strategy \u001b[39m==\u001b[39m \u001b[39m1\u001b[39m:\n",
      "\u001b[1;31mTypeError\u001b[0m: '>' not supported between instances of 'NoneType' and 'NoneType'"
     ]
    }
   ],
   "source": [
    "run_accuracy_pso()"
   ]
  },
  {
   "cell_type": "code",
   "execution_count": 8,
   "metadata": {},
   "outputs": [
    {
     "name": "stdout",
     "output_type": "stream",
     "text": [
      "0.6.0.1\n"
     ]
    }
   ],
   "source": [
    "import pymoo\n",
    "print(pymoo.__version__)"
   ]
  },
  {
   "cell_type": "code",
   "execution_count": null,
   "metadata": {},
   "outputs": [
    {
     "ename": "NameError",
     "evalue": "name 'POPULATION' is not defined",
     "output_type": "error",
     "traceback": [
      "\u001b[1;31m---------------------------------------------------------------------------\u001b[0m",
      "\u001b[1;31mNameError\u001b[0m                                 Traceback (most recent call last)",
      "Cell \u001b[1;32mIn[14], line 5\u001b[0m\n\u001b[0;32m      2\u001b[0m \u001b[39mfrom\u001b[39;00m \u001b[39mpymoo\u001b[39;00m\u001b[39m.\u001b[39;00m\u001b[39mtermination\u001b[39;00m \u001b[39mimport\u001b[39;00m get_termination\n\u001b[0;32m      3\u001b[0m \u001b[39mfrom\u001b[39;00m \u001b[39mpymoo\u001b[39;00m\u001b[39m.\u001b[39;00m\u001b[39malgorithms\u001b[39;00m\u001b[39m.\u001b[39;00m\u001b[39msoo\u001b[39;00m\u001b[39m.\u001b[39;00m\u001b[39mnonconvex\u001b[39;00m\u001b[39m.\u001b[39;00m\u001b[39mga\u001b[39;00m \u001b[39mimport\u001b[39;00m GA\n\u001b[1;32m----> 5\u001b[0m algorithm \u001b[39m=\u001b[39m GA(pop_size\u001b[39m=\u001b[39mPOPULATION)\n\u001b[0;32m      7\u001b[0m term \u001b[39m=\u001b[39m get_termination(\u001b[39m\"\u001b[39m\u001b[39mn_gen\u001b[39m\u001b[39m\"\u001b[39m, ITERATIONS)\n\u001b[0;32m      9\u001b[0m res \u001b[39m=\u001b[39m minimize(problem,\n\u001b[0;32m     10\u001b[0m                algorithm,\n\u001b[0;32m     11\u001b[0m                \u001b[39m#seed=SEED,\u001b[39;00m\n\u001b[1;32m   (...)\u001b[0m\n\u001b[0;32m     14\u001b[0m                verbose\u001b[39m=\u001b[39m\u001b[39mTrue\u001b[39;00m,\n\u001b[0;32m     15\u001b[0m                termination \u001b[39m=\u001b[39m term)\n",
      "\u001b[1;31mNameError\u001b[0m: name 'POPULATION' is not defined"
     ]
    }
   ],
   "source": [
    "from pymoo.optimize import minimize\n",
    "from pymoo.termination import get_termination\n",
    "from pymoo.algorithms.soo.nonconvex.ga import GA\n",
    "\n",
    "algorithm = GA(pop_size=POPULATION)\n",
    "\n",
    "term = get_termination(\"n_gen\", ITERATIONS)\n",
    "\n",
    "res = minimize(problem,\n",
    "               algorithm,\n",
    "               #seed=SEED,\n",
    "               save_history=True,\n",
    "               output=MyOutput(),\n",
    "               verbose=True,\n",
    "               termination = term)"
   ]
  }
 ],
 "metadata": {
  "kernelspec": {
   "display_name": "Python 3",
   "language": "python",
   "name": "python3"
  },
  "language_info": {
   "codemirror_mode": {
    "name": "ipython",
    "version": 3
   },
   "file_extension": ".py",
   "mimetype": "text/x-python",
   "name": "python",
   "nbconvert_exporter": "python",
   "pygments_lexer": "ipython3",
   "version": "3.9.0"
  },
  "orig_nbformat": 4
 },
 "nbformat": 4,
 "nbformat_minor": 2
}
